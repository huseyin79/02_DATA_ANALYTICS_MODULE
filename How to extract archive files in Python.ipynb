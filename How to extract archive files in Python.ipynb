{
 "cells": [
  {
   "cell_type": "markdown",
   "id": "aa3e8c35",
   "metadata": {},
   "source": [
    "<a id=\"toc\"></a>\n",
    "\n",
    "## <p style=\"background-color:#0D8D99; font-family:newtimeroman; color:#FFF9ED; font-size:175%; text-align:center; border-radius:10px 10px;\">How to extract archive files in python?</p>"
   ]
  },
  {
   "cell_type": "markdown",
   "id": "65d4dd67",
   "metadata": {},
   "source": [
    "<a id=\"toc\"></a>\n",
    "\n",
    "### <p style=\"background-color:#9d4f8c; font-family:newtimeroman; color:#FFF9ED; font-size:175%; text-align:center; border-radius:10px 10px;\">Unpacking archive files with \"pyunpack\" module</p> "
   ]
  },
  {
   "cell_type": "code",
   "execution_count": null,
   "id": "2114f82d",
   "metadata": {},
   "outputs": [],
   "source": [
    "!pip install pyunpack"
   ]
  },
  {
   "cell_type": "markdown",
   "id": "196fb852",
   "metadata": {},
   "source": [
    "### extract .zip files:"
   ]
  },
  {
   "cell_type": "code",
   "execution_count": 31,
   "id": "72b325c3",
   "metadata": {},
   "outputs": [],
   "source": [
    "from pyunpack import Archive\n",
    "\n",
    "Archive('Salaries.zip').extractall(\"C:\\\\Users\\\\edwin\\\\0. CURRENT WORKS\\\\1. DS PATH\\\\Notebooks\\\\DAwPy\")"
   ]
  },
  {
   "cell_type": "markdown",
   "id": "59094384",
   "metadata": {},
   "source": [
    "### extract .rar file:"
   ]
  },
  {
   "cell_type": "code",
   "execution_count": 11,
   "id": "58d8e1db",
   "metadata": {},
   "outputs": [],
   "source": [
    "from pyunpack import Archive\n",
    "\n",
    "Archive('Salaries.rar').extractall(\"C:\\\\Users\\\\edwin\\\\0. CURRENT WORKS\\\\1. DS PATH\\\\1. NOTEBOOKS\\\\DAwPy\")"
   ]
  },
  {
   "cell_type": "code",
   "execution_count": 5,
   "id": "297415fd",
   "metadata": {},
   "outputs": [],
   "source": [
    "from pyunpack import Archive\n",
    "\n",
    "Archive('adult_eda.rar').extractall(\"C:\\\\Users\\\\edwin\\\\0. CURRENT WORKS\\\\1. DS PATH\\\\1. NOTEBOOKS\\\\DAwPy\")"
   ]
  },
  {
   "cell_type": "markdown",
   "id": "f4a859c9",
   "metadata": {},
   "source": [
    "<a id=\"toc\"></a>\n",
    "\n",
    "### <p style=\"background-color:#9d4f8c; font-family:newtimeroman; color:#FFF9ED; font-size:175%; text-align:center; border-radius:10px 10px;\">Extract .7z files with \"py7zr \" module</p> "
   ]
  },
  {
   "cell_type": "code",
   "execution_count": null,
   "id": "6b6dfa3c",
   "metadata": {},
   "outputs": [],
   "source": [
    "!pip install py7zr"
   ]
  },
  {
   "cell_type": "code",
   "execution_count": 9,
   "id": "53a46309",
   "metadata": {},
   "outputs": [],
   "source": [
    "import py7zr \n",
    " \n",
    "with py7zr.SevenZipFile('Salaries.7z', mode='r', password='secret') as z: \n",
    "    z.extractall() "
   ]
  },
  {
   "cell_type": "markdown",
   "id": "b53beb02",
   "metadata": {},
   "source": [
    "<a id=\"toc\"></a>\n",
    "\n",
    "### <p style=\"background-color:#9d4f8c; font-family:newtimeroman; color:#FFF9ED; font-size:175%; text-align:center; border-radius:10px 10px;\">Extract .rar files with \"patool\" module</p> "
   ]
  },
  {
   "cell_type": "code",
   "execution_count": null,
   "id": "5aaba438",
   "metadata": {},
   "outputs": [],
   "source": [
    "!pip install patool"
   ]
  },
  {
   "cell_type": "code",
   "execution_count": 5,
   "id": "50e429bc",
   "metadata": {},
   "outputs": [
    {
     "name": "stdout",
     "output_type": "stream",
     "text": [
      "patool: Extracting Lab_notebooks.rar ...\n",
      "patool: running \"C:\\Program Files\\WinRAR\\rar.EXE\" x -- \"C:\\Users\\edwin\\0. CURRENT WORKS\\1. DS PATH\\Notebooks\\DAwPy\\Lab_notebooks.rar\"\n",
      "patool:     with cwd=.\\Unpack_3a3hhykh\n",
      "patool: ... Lab_notebooks.rar extracted to `Lab_notebooks' (local file exists).\n"
     ]
    },
    {
     "data": {
      "text/plain": [
       "'Lab_notebooks'"
      ]
     },
     "execution_count": 5,
     "metadata": {},
     "output_type": "execute_result"
    }
   ],
   "source": [
    "import patoolib\n",
    "\n",
    "patoolib.extract_archive(\"Lab_notebooks.rar\")"
   ]
  },
  {
   "cell_type": "code",
   "execution_count": 6,
   "id": "79e7c1e7",
   "metadata": {},
   "outputs": [
    {
     "name": "stdout",
     "output_type": "stream",
     "text": [
      "patool: Extracting adult_eda.rar ...\n",
      "patool: running \"C:\\Program Files\\WinRAR\\rar.EXE\" x -- \"C:\\Users\\edwin\\0. CURRENT WORKS\\1. DS PATH\\1. NOTEBOOKS\\DAwPy\\adult_eda.rar\"\n",
      "patool:     with cwd=.\\Unpack_1oeqoda4\n",
      "patool: ... adult_eda.rar extracted to `adult_eda.csv'.\n"
     ]
    },
    {
     "data": {
      "text/plain": [
       "'adult_eda.csv'"
      ]
     },
     "execution_count": 6,
     "metadata": {},
     "output_type": "execute_result"
    }
   ],
   "source": [
    "import patoolib\n",
    "\n",
    "patoolib.extract_archive(\"adult_eda.rar\")"
   ]
  },
  {
   "cell_type": "markdown",
   "id": "f583e5f0",
   "metadata": {},
   "source": [
    "<a id=\"toc\"></a>\n",
    "\n",
    "### <p style=\"background-color:#9d4f8c; font-family:newtimeroman; color:#FFF9ED; font-size:175%; text-align:center; border-radius:10px 10px;\">Extract .zip files with \"zipfile\" module</p> "
   ]
  },
  {
   "cell_type": "code",
   "execution_count": null,
   "id": "a2c46023",
   "metadata": {},
   "outputs": [],
   "source": [
    "# importing the zipfile module\n",
    "from zipfile import ZipFile\n",
    "  \n",
    "# loading the temp.zip and creating a zip object\n",
    "with ZipFile(\"Salaries.zip\", 'r') as zObject:\n",
    "  \n",
    "    # Extracting all the members of the zip \n",
    "    # into a specific location.\n",
    "    zObject.extractall(\n",
    "        path=\"C:\\\\Users\\\\edwin\\\\0. CURRENT WORKS\\\\1. DS PATH\\\\Notebooks\\\\DAwPy\")"
   ]
  },
  {
   "cell_type": "code",
   "execution_count": 13,
   "id": "87910884",
   "metadata": {},
   "outputs": [],
   "source": [
    "from zipfile import ZipFile\n",
    "\n",
    "with ZipFile(\"Salaries.zip\", \"r\") as salaries:\n",
    "    salaries.extractall()"
   ]
  }
 ],
 "metadata": {
  "kernelspec": {
   "display_name": "Python 3 (ipykernel)",
   "language": "python",
   "name": "python3"
  },
  "language_info": {
   "codemirror_mode": {
    "name": "ipython",
    "version": 3
   },
   "file_extension": ".py",
   "mimetype": "text/x-python",
   "name": "python",
   "nbconvert_exporter": "python",
   "pygments_lexer": "ipython3",
   "version": "3.9.12"
  }
 },
 "nbformat": 4,
 "nbformat_minor": 5
}
