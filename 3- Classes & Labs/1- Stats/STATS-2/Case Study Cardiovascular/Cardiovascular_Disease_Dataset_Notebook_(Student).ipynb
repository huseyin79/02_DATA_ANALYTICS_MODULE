{
 "cells": [
  {
   "cell_type": "markdown",
   "id": "31e10954",
   "metadata": {
    "id": "31e10954"
   },
   "source": [
    "<a href=\"https://clarusway.com/contact-us/\"><img align=\"center\" src=\"https://i.ibb.co/B43qn24/officially-licensed-logo.png\" alt=\"Open in Clarusway LMS\" width=\"110\" height=\"200\" title=\"This notebook is licensed by Clarusway IT training school. Please contact the authorized persons about the conditions under which you can use or share.\"></a>"
   ]
  },
  {
   "cell_type": "markdown",
   "id": "0CdRS8y63PXk",
   "metadata": {
    "id": "0CdRS8y63PXk"
   },
   "source": [
    "# Cardiovascular Disease Dataset\n",
    "\n",
    "We will study with a dataset on Cardiovascular Disease.\n",
    "\n",
    "We'll try to understand the concepts like\n",
    "\n",
    "- true means,\n",
    "- confidence intervals,\n",
    "- one sample t test,\n",
    "- independent samples t test,\n",
    "- homogenity of variance check (Levene's test),\n",
    "- One-way ANOVA,\n",
    "- Chi-square test.\n",
    "\n",
    "Dataset from: https://www.kaggle.com/datasets/sulianova/cardiovascular-disease-dataset"
   ]
  },
  {
   "cell_type": "markdown",
   "id": "ce8088f5",
   "metadata": {
    "id": "ce8088f5"
   },
   "source": [
    "# Data Preparation"
   ]
  },
  {
   "cell_type": "markdown",
   "id": "c5e829d7",
   "metadata": {
    "id": "c5e829d7"
   },
   "source": [
    "⭐ Import pandas, scipy.stats, seaborn, and matplotlib.pyplot libraries"
   ]
  },
  {
   "cell_type": "code",
   "execution_count": 16,
   "id": "4ee9098b",
   "metadata": {
    "id": "4ee9098b"
   },
   "outputs": [],
   "source": [
    "import pandas as pd\n",
    "from scipy import stats\n",
    "import numpy as np\n",
    "import seaborn as sns\n",
    "import matplotlib.pyplot as plt"
   ]
  },
  {
   "cell_type": "markdown",
   "id": "b631a97c",
   "metadata": {
    "id": "b631a97c"
   },
   "source": [
    "⭐Run the following code to read in the \"cardio.csv\" file."
   ]
  },
  {
   "cell_type": "code",
   "execution_count": 2,
   "id": "c7983124",
   "metadata": {
    "id": "c7983124"
   },
   "outputs": [],
   "source": [
    "df = pd.read_csv(\"cardio.csv\", sep=\";\")"
   ]
  },
  {
   "cell_type": "code",
   "execution_count": 3,
   "id": "0cab8e4e",
   "metadata": {
    "id": "0cab8e4e"
   },
   "outputs": [
    {
     "data": {
      "text/html": [
       "<div>\n",
       "<style scoped>\n",
       "    .dataframe tbody tr th:only-of-type {\n",
       "        vertical-align: middle;\n",
       "    }\n",
       "\n",
       "    .dataframe tbody tr th {\n",
       "        vertical-align: top;\n",
       "    }\n",
       "\n",
       "    .dataframe thead th {\n",
       "        text-align: right;\n",
       "    }\n",
       "</style>\n",
       "<table border=\"1\" class=\"dataframe\">\n",
       "  <thead>\n",
       "    <tr style=\"text-align: right;\">\n",
       "      <th></th>\n",
       "      <th>id</th>\n",
       "      <th>age</th>\n",
       "      <th>gender</th>\n",
       "      <th>height</th>\n",
       "      <th>weight</th>\n",
       "      <th>ap_hi</th>\n",
       "      <th>ap_lo</th>\n",
       "      <th>cholesterol</th>\n",
       "      <th>gluc</th>\n",
       "      <th>smoke</th>\n",
       "      <th>alco</th>\n",
       "      <th>active</th>\n",
       "      <th>cardio</th>\n",
       "    </tr>\n",
       "  </thead>\n",
       "  <tbody>\n",
       "    <tr>\n",
       "      <th>0</th>\n",
       "      <td>0</td>\n",
       "      <td>18393</td>\n",
       "      <td>2</td>\n",
       "      <td>168</td>\n",
       "      <td>62.0</td>\n",
       "      <td>110</td>\n",
       "      <td>80</td>\n",
       "      <td>1</td>\n",
       "      <td>1</td>\n",
       "      <td>0</td>\n",
       "      <td>0</td>\n",
       "      <td>1</td>\n",
       "      <td>0</td>\n",
       "    </tr>\n",
       "    <tr>\n",
       "      <th>1</th>\n",
       "      <td>1</td>\n",
       "      <td>20228</td>\n",
       "      <td>1</td>\n",
       "      <td>156</td>\n",
       "      <td>85.0</td>\n",
       "      <td>140</td>\n",
       "      <td>90</td>\n",
       "      <td>3</td>\n",
       "      <td>1</td>\n",
       "      <td>0</td>\n",
       "      <td>0</td>\n",
       "      <td>1</td>\n",
       "      <td>1</td>\n",
       "    </tr>\n",
       "    <tr>\n",
       "      <th>2</th>\n",
       "      <td>2</td>\n",
       "      <td>18857</td>\n",
       "      <td>1</td>\n",
       "      <td>165</td>\n",
       "      <td>64.0</td>\n",
       "      <td>130</td>\n",
       "      <td>70</td>\n",
       "      <td>3</td>\n",
       "      <td>1</td>\n",
       "      <td>0</td>\n",
       "      <td>0</td>\n",
       "      <td>0</td>\n",
       "      <td>1</td>\n",
       "    </tr>\n",
       "    <tr>\n",
       "      <th>3</th>\n",
       "      <td>3</td>\n",
       "      <td>17623</td>\n",
       "      <td>2</td>\n",
       "      <td>169</td>\n",
       "      <td>82.0</td>\n",
       "      <td>150</td>\n",
       "      <td>100</td>\n",
       "      <td>1</td>\n",
       "      <td>1</td>\n",
       "      <td>0</td>\n",
       "      <td>0</td>\n",
       "      <td>1</td>\n",
       "      <td>1</td>\n",
       "    </tr>\n",
       "    <tr>\n",
       "      <th>4</th>\n",
       "      <td>4</td>\n",
       "      <td>17474</td>\n",
       "      <td>1</td>\n",
       "      <td>156</td>\n",
       "      <td>56.0</td>\n",
       "      <td>100</td>\n",
       "      <td>60</td>\n",
       "      <td>1</td>\n",
       "      <td>1</td>\n",
       "      <td>0</td>\n",
       "      <td>0</td>\n",
       "      <td>0</td>\n",
       "      <td>0</td>\n",
       "    </tr>\n",
       "  </tbody>\n",
       "</table>\n",
       "</div>"
      ],
      "text/plain": [
       "   id    age  gender  height  weight  ap_hi  ap_lo  cholesterol  gluc  smoke  \\\n",
       "0   0  18393       2     168    62.0    110     80            1     1      0   \n",
       "1   1  20228       1     156    85.0    140     90            3     1      0   \n",
       "2   2  18857       1     165    64.0    130     70            3     1      0   \n",
       "3   3  17623       2     169    82.0    150    100            1     1      0   \n",
       "4   4  17474       1     156    56.0    100     60            1     1      0   \n",
       "\n",
       "   alco  active  cardio  \n",
       "0     0       1       0  \n",
       "1     0       1       1  \n",
       "2     0       0       1  \n",
       "3     0       1       1  \n",
       "4     0       0       0  "
      ]
     },
     "execution_count": 3,
     "metadata": {},
     "output_type": "execute_result"
    }
   ],
   "source": [
    "df.head()"
   ]
  },
  {
   "cell_type": "code",
   "execution_count": 4,
   "id": "e3afdac1",
   "metadata": {
    "id": "e3afdac1"
   },
   "outputs": [
    {
     "name": "stdout",
     "output_type": "stream",
     "text": [
      "<class 'pandas.core.frame.DataFrame'>\n",
      "RangeIndex: 70000 entries, 0 to 69999\n",
      "Data columns (total 13 columns):\n",
      " #   Column       Non-Null Count  Dtype  \n",
      "---  ------       --------------  -----  \n",
      " 0   id           70000 non-null  int64  \n",
      " 1   age          70000 non-null  int64  \n",
      " 2   gender       70000 non-null  int64  \n",
      " 3   height       70000 non-null  int64  \n",
      " 4   weight       70000 non-null  float64\n",
      " 5   ap_hi        70000 non-null  int64  \n",
      " 6   ap_lo        70000 non-null  int64  \n",
      " 7   cholesterol  70000 non-null  int64  \n",
      " 8   gluc         70000 non-null  int64  \n",
      " 9   smoke        70000 non-null  int64  \n",
      " 10  alco         70000 non-null  int64  \n",
      " 11  active       70000 non-null  int64  \n",
      " 12  cardio       70000 non-null  int64  \n",
      "dtypes: float64(1), int64(12)\n",
      "memory usage: 6.9 MB\n"
     ]
    }
   ],
   "source": [
    "df.info()"
   ]
  },
  {
   "cell_type": "code",
   "execution_count": 7,
   "id": "c82451a0",
   "metadata": {},
   "outputs": [],
   "source": [
    "df = df.sample(500, random_state=42)"
   ]
  },
  {
   "cell_type": "code",
   "execution_count": 8,
   "id": "6f759084",
   "metadata": {
    "id": "6f759084"
   },
   "outputs": [
    {
     "data": {
      "text/plain": [
       "(500, 13)"
      ]
     },
     "execution_count": 8,
     "metadata": {},
     "output_type": "execute_result"
    }
   ],
   "source": [
    "df.shape"
   ]
  },
  {
   "cell_type": "code",
   "execution_count": 9,
   "id": "7bbde1f2",
   "metadata": {
    "id": "7bbde1f2"
   },
   "outputs": [
    {
     "data": {
      "text/html": [
       "<div>\n",
       "<style scoped>\n",
       "    .dataframe tbody tr th:only-of-type {\n",
       "        vertical-align: middle;\n",
       "    }\n",
       "\n",
       "    .dataframe tbody tr th {\n",
       "        vertical-align: top;\n",
       "    }\n",
       "\n",
       "    .dataframe thead th {\n",
       "        text-align: right;\n",
       "    }\n",
       "</style>\n",
       "<table border=\"1\" class=\"dataframe\">\n",
       "  <thead>\n",
       "    <tr style=\"text-align: right;\">\n",
       "      <th></th>\n",
       "      <th>id</th>\n",
       "      <th>age</th>\n",
       "      <th>gender</th>\n",
       "      <th>height</th>\n",
       "      <th>weight</th>\n",
       "      <th>ap_hi</th>\n",
       "      <th>ap_lo</th>\n",
       "      <th>cholesterol</th>\n",
       "      <th>gluc</th>\n",
       "      <th>smoke</th>\n",
       "      <th>alco</th>\n",
       "      <th>active</th>\n",
       "      <th>cardio</th>\n",
       "    </tr>\n",
       "  </thead>\n",
       "  <tbody>\n",
       "    <tr>\n",
       "      <th>count</th>\n",
       "      <td>500.000000</td>\n",
       "      <td>500.000000</td>\n",
       "      <td>500.000000</td>\n",
       "      <td>500.000000</td>\n",
       "      <td>500.000000</td>\n",
       "      <td>500.00000</td>\n",
       "      <td>500.000000</td>\n",
       "      <td>500.000000</td>\n",
       "      <td>500.000000</td>\n",
       "      <td>500.00000</td>\n",
       "      <td>500.000000</td>\n",
       "      <td>500.000000</td>\n",
       "      <td>500.000000</td>\n",
       "    </tr>\n",
       "    <tr>\n",
       "      <th>mean</th>\n",
       "      <td>49656.324000</td>\n",
       "      <td>19460.940000</td>\n",
       "      <td>1.368000</td>\n",
       "      <td>164.746000</td>\n",
       "      <td>74.093400</td>\n",
       "      <td>127.91200</td>\n",
       "      <td>98.908000</td>\n",
       "      <td>1.338000</td>\n",
       "      <td>1.192000</td>\n",
       "      <td>0.07800</td>\n",
       "      <td>0.046000</td>\n",
       "      <td>0.762000</td>\n",
       "      <td>0.492000</td>\n",
       "    </tr>\n",
       "    <tr>\n",
       "      <th>std</th>\n",
       "      <td>27694.652229</td>\n",
       "      <td>2444.264657</td>\n",
       "      <td>0.482744</td>\n",
       "      <td>8.017609</td>\n",
       "      <td>14.340822</td>\n",
       "      <td>40.82349</td>\n",
       "      <td>130.985839</td>\n",
       "      <td>0.651617</td>\n",
       "      <td>0.540111</td>\n",
       "      <td>0.26844</td>\n",
       "      <td>0.209695</td>\n",
       "      <td>0.426286</td>\n",
       "      <td>0.500437</td>\n",
       "    </tr>\n",
       "    <tr>\n",
       "      <th>min</th>\n",
       "      <td>172.000000</td>\n",
       "      <td>14319.000000</td>\n",
       "      <td>1.000000</td>\n",
       "      <td>144.000000</td>\n",
       "      <td>43.000000</td>\n",
       "      <td>-120.00000</td>\n",
       "      <td>0.000000</td>\n",
       "      <td>1.000000</td>\n",
       "      <td>1.000000</td>\n",
       "      <td>0.00000</td>\n",
       "      <td>0.000000</td>\n",
       "      <td>0.000000</td>\n",
       "      <td>0.000000</td>\n",
       "    </tr>\n",
       "    <tr>\n",
       "      <th>25%</th>\n",
       "      <td>26990.500000</td>\n",
       "      <td>17804.000000</td>\n",
       "      <td>1.000000</td>\n",
       "      <td>159.000000</td>\n",
       "      <td>65.000000</td>\n",
       "      <td>120.00000</td>\n",
       "      <td>80.000000</td>\n",
       "      <td>1.000000</td>\n",
       "      <td>1.000000</td>\n",
       "      <td>0.00000</td>\n",
       "      <td>0.000000</td>\n",
       "      <td>1.000000</td>\n",
       "      <td>0.000000</td>\n",
       "    </tr>\n",
       "    <tr>\n",
       "      <th>50%</th>\n",
       "      <td>49225.500000</td>\n",
       "      <td>19669.000000</td>\n",
       "      <td>1.000000</td>\n",
       "      <td>165.000000</td>\n",
       "      <td>72.000000</td>\n",
       "      <td>120.00000</td>\n",
       "      <td>80.000000</td>\n",
       "      <td>1.000000</td>\n",
       "      <td>1.000000</td>\n",
       "      <td>0.00000</td>\n",
       "      <td>0.000000</td>\n",
       "      <td>1.000000</td>\n",
       "      <td>0.000000</td>\n",
       "    </tr>\n",
       "    <tr>\n",
       "      <th>75%</th>\n",
       "      <td>72126.500000</td>\n",
       "      <td>21326.250000</td>\n",
       "      <td>2.000000</td>\n",
       "      <td>170.000000</td>\n",
       "      <td>80.000000</td>\n",
       "      <td>140.00000</td>\n",
       "      <td>90.000000</td>\n",
       "      <td>1.000000</td>\n",
       "      <td>1.000000</td>\n",
       "      <td>0.00000</td>\n",
       "      <td>0.000000</td>\n",
       "      <td>1.000000</td>\n",
       "      <td>1.000000</td>\n",
       "    </tr>\n",
       "    <tr>\n",
       "      <th>max</th>\n",
       "      <td>99934.000000</td>\n",
       "      <td>23670.000000</td>\n",
       "      <td>2.000000</td>\n",
       "      <td>198.000000</td>\n",
       "      <td>160.000000</td>\n",
       "      <td>907.00000</td>\n",
       "      <td>1200.000000</td>\n",
       "      <td>3.000000</td>\n",
       "      <td>3.000000</td>\n",
       "      <td>1.00000</td>\n",
       "      <td>1.000000</td>\n",
       "      <td>1.000000</td>\n",
       "      <td>1.000000</td>\n",
       "    </tr>\n",
       "  </tbody>\n",
       "</table>\n",
       "</div>"
      ],
      "text/plain": [
       "                 id           age      gender      height      weight  \\\n",
       "count    500.000000    500.000000  500.000000  500.000000  500.000000   \n",
       "mean   49656.324000  19460.940000    1.368000  164.746000   74.093400   \n",
       "std    27694.652229   2444.264657    0.482744    8.017609   14.340822   \n",
       "min      172.000000  14319.000000    1.000000  144.000000   43.000000   \n",
       "25%    26990.500000  17804.000000    1.000000  159.000000   65.000000   \n",
       "50%    49225.500000  19669.000000    1.000000  165.000000   72.000000   \n",
       "75%    72126.500000  21326.250000    2.000000  170.000000   80.000000   \n",
       "max    99934.000000  23670.000000    2.000000  198.000000  160.000000   \n",
       "\n",
       "           ap_hi        ap_lo  cholesterol        gluc      smoke        alco  \\\n",
       "count  500.00000   500.000000   500.000000  500.000000  500.00000  500.000000   \n",
       "mean   127.91200    98.908000     1.338000    1.192000    0.07800    0.046000   \n",
       "std     40.82349   130.985839     0.651617    0.540111    0.26844    0.209695   \n",
       "min   -120.00000     0.000000     1.000000    1.000000    0.00000    0.000000   \n",
       "25%    120.00000    80.000000     1.000000    1.000000    0.00000    0.000000   \n",
       "50%    120.00000    80.000000     1.000000    1.000000    0.00000    0.000000   \n",
       "75%    140.00000    90.000000     1.000000    1.000000    0.00000    0.000000   \n",
       "max    907.00000  1200.000000     3.000000    3.000000    1.00000    1.000000   \n",
       "\n",
       "           active      cardio  \n",
       "count  500.000000  500.000000  \n",
       "mean     0.762000    0.492000  \n",
       "std      0.426286    0.500437  \n",
       "min      0.000000    0.000000  \n",
       "25%      1.000000    0.000000  \n",
       "50%      1.000000    0.000000  \n",
       "75%      1.000000    1.000000  \n",
       "max      1.000000    1.000000  "
      ]
     },
     "execution_count": 9,
     "metadata": {},
     "output_type": "execute_result"
    }
   ],
   "source": [
    "df.describe()"
   ]
  },
  {
   "cell_type": "markdown",
   "id": "159ec9ef",
   "metadata": {
    "id": "159ec9ef"
   },
   "source": [
    "⭐Let's get rid of the outliers, moreover blood pressure could not be negative value!"
   ]
  },
  {
   "cell_type": "code",
   "execution_count": 13,
   "id": "8e850766",
   "metadata": {
    "id": "8e850766"
   },
   "outputs": [
    {
     "ename": "KeyError",
     "evalue": "\"None of ['id'] are in the columns\"",
     "output_type": "error",
     "traceback": [
      "\u001b[1;31m---------------------------------------------------------------------------\u001b[0m",
      "\u001b[1;31mKeyError\u001b[0m                                  Traceback (most recent call last)",
      "\u001b[1;32m~\\AppData\\Local\\Temp\\ipykernel_13528\\3118864376.py\u001b[0m in \u001b[0;36m<module>\u001b[1;34m\u001b[0m\n\u001b[1;32m----> 1\u001b[1;33m \u001b[0mdf\u001b[0m\u001b[1;33m.\u001b[0m\u001b[0mset_index\u001b[0m\u001b[1;33m(\u001b[0m\u001b[1;33m[\u001b[0m\u001b[1;34m'id'\u001b[0m\u001b[1;33m]\u001b[0m\u001b[1;33m,\u001b[0m \u001b[0minplace\u001b[0m\u001b[1;33m=\u001b[0m\u001b[1;32mTrue\u001b[0m\u001b[1;33m)\u001b[0m\u001b[1;33m\u001b[0m\u001b[1;33m\u001b[0m\u001b[0m\n\u001b[0m\u001b[0;32m      2\u001b[0m \u001b[0mdf\u001b[0m\u001b[1;33m.\u001b[0m\u001b[0mhead\u001b[0m\u001b[1;33m(\u001b[0m\u001b[1;33m)\u001b[0m\u001b[1;33m\u001b[0m\u001b[1;33m\u001b[0m\u001b[0m\n",
      "\u001b[1;32m~\\anaconda3\\lib\\site-packages\\pandas\\util\\_decorators.py\u001b[0m in \u001b[0;36mwrapper\u001b[1;34m(*args, **kwargs)\u001b[0m\n\u001b[0;32m    309\u001b[0m                     \u001b[0mstacklevel\u001b[0m\u001b[1;33m=\u001b[0m\u001b[0mstacklevel\u001b[0m\u001b[1;33m,\u001b[0m\u001b[1;33m\u001b[0m\u001b[1;33m\u001b[0m\u001b[0m\n\u001b[0;32m    310\u001b[0m                 )\n\u001b[1;32m--> 311\u001b[1;33m             \u001b[1;32mreturn\u001b[0m \u001b[0mfunc\u001b[0m\u001b[1;33m(\u001b[0m\u001b[1;33m*\u001b[0m\u001b[0margs\u001b[0m\u001b[1;33m,\u001b[0m \u001b[1;33m**\u001b[0m\u001b[0mkwargs\u001b[0m\u001b[1;33m)\u001b[0m\u001b[1;33m\u001b[0m\u001b[1;33m\u001b[0m\u001b[0m\n\u001b[0m\u001b[0;32m    312\u001b[0m \u001b[1;33m\u001b[0m\u001b[0m\n\u001b[0;32m    313\u001b[0m         \u001b[1;32mreturn\u001b[0m \u001b[0mwrapper\u001b[0m\u001b[1;33m\u001b[0m\u001b[1;33m\u001b[0m\u001b[0m\n",
      "\u001b[1;32m~\\anaconda3\\lib\\site-packages\\pandas\\core\\frame.py\u001b[0m in \u001b[0;36mset_index\u001b[1;34m(self, keys, drop, append, inplace, verify_integrity)\u001b[0m\n\u001b[0;32m   5501\u001b[0m \u001b[1;33m\u001b[0m\u001b[0m\n\u001b[0;32m   5502\u001b[0m         \u001b[1;32mif\u001b[0m \u001b[0mmissing\u001b[0m\u001b[1;33m:\u001b[0m\u001b[1;33m\u001b[0m\u001b[1;33m\u001b[0m\u001b[0m\n\u001b[1;32m-> 5503\u001b[1;33m             \u001b[1;32mraise\u001b[0m \u001b[0mKeyError\u001b[0m\u001b[1;33m(\u001b[0m\u001b[1;34mf\"None of {missing} are in the columns\"\u001b[0m\u001b[1;33m)\u001b[0m\u001b[1;33m\u001b[0m\u001b[1;33m\u001b[0m\u001b[0m\n\u001b[0m\u001b[0;32m   5504\u001b[0m \u001b[1;33m\u001b[0m\u001b[0m\n\u001b[0;32m   5505\u001b[0m         \u001b[1;32mif\u001b[0m \u001b[0minplace\u001b[0m\u001b[1;33m:\u001b[0m\u001b[1;33m\u001b[0m\u001b[1;33m\u001b[0m\u001b[0m\n",
      "\u001b[1;31mKeyError\u001b[0m: \"None of ['id'] are in the columns\""
     ]
    }
   ],
   "source": [
    "df.set_index(['id'], inplace=True)\n"
   ]
  },
  {
   "cell_type": "code",
   "execution_count": 14,
   "id": "c1395b88",
   "metadata": {},
   "outputs": [
    {
     "data": {
      "text/html": [
       "<div>\n",
       "<style scoped>\n",
       "    .dataframe tbody tr th:only-of-type {\n",
       "        vertical-align: middle;\n",
       "    }\n",
       "\n",
       "    .dataframe tbody tr th {\n",
       "        vertical-align: top;\n",
       "    }\n",
       "\n",
       "    .dataframe thead th {\n",
       "        text-align: right;\n",
       "    }\n",
       "</style>\n",
       "<table border=\"1\" class=\"dataframe\">\n",
       "  <thead>\n",
       "    <tr style=\"text-align: right;\">\n",
       "      <th></th>\n",
       "      <th>age</th>\n",
       "      <th>gender</th>\n",
       "      <th>height</th>\n",
       "      <th>weight</th>\n",
       "      <th>ap_hi</th>\n",
       "      <th>ap_lo</th>\n",
       "      <th>cholesterol</th>\n",
       "      <th>gluc</th>\n",
       "      <th>smoke</th>\n",
       "      <th>alco</th>\n",
       "      <th>active</th>\n",
       "      <th>cardio</th>\n",
       "    </tr>\n",
       "    <tr>\n",
       "      <th>id</th>\n",
       "      <th></th>\n",
       "      <th></th>\n",
       "      <th></th>\n",
       "      <th></th>\n",
       "      <th></th>\n",
       "      <th></th>\n",
       "      <th></th>\n",
       "      <th></th>\n",
       "      <th></th>\n",
       "      <th></th>\n",
       "      <th></th>\n",
       "      <th></th>\n",
       "    </tr>\n",
       "  </thead>\n",
       "  <tbody>\n",
       "    <tr>\n",
       "      <th>66728</th>\n",
       "      <td>21770</td>\n",
       "      <td>1</td>\n",
       "      <td>156</td>\n",
       "      <td>64.0</td>\n",
       "      <td>140</td>\n",
       "      <td>80</td>\n",
       "      <td>2</td>\n",
       "      <td>1</td>\n",
       "      <td>0</td>\n",
       "      <td>0</td>\n",
       "      <td>1</td>\n",
       "      <td>1</td>\n",
       "    </tr>\n",
       "    <tr>\n",
       "      <th>69098</th>\n",
       "      <td>21876</td>\n",
       "      <td>1</td>\n",
       "      <td>170</td>\n",
       "      <td>85.0</td>\n",
       "      <td>160</td>\n",
       "      <td>90</td>\n",
       "      <td>1</td>\n",
       "      <td>1</td>\n",
       "      <td>0</td>\n",
       "      <td>0</td>\n",
       "      <td>1</td>\n",
       "      <td>1</td>\n",
       "    </tr>\n",
       "    <tr>\n",
       "      <th>59185</th>\n",
       "      <td>23270</td>\n",
       "      <td>1</td>\n",
       "      <td>151</td>\n",
       "      <td>90.0</td>\n",
       "      <td>130</td>\n",
       "      <td>80</td>\n",
       "      <td>1</td>\n",
       "      <td>1</td>\n",
       "      <td>0</td>\n",
       "      <td>0</td>\n",
       "      <td>1</td>\n",
       "      <td>1</td>\n",
       "    </tr>\n",
       "    <tr>\n",
       "      <th>49288</th>\n",
       "      <td>19741</td>\n",
       "      <td>1</td>\n",
       "      <td>159</td>\n",
       "      <td>97.0</td>\n",
       "      <td>120</td>\n",
       "      <td>80</td>\n",
       "      <td>1</td>\n",
       "      <td>1</td>\n",
       "      <td>0</td>\n",
       "      <td>0</td>\n",
       "      <td>1</td>\n",
       "      <td>1</td>\n",
       "    </tr>\n",
       "    <tr>\n",
       "      <th>62481</th>\n",
       "      <td>18395</td>\n",
       "      <td>1</td>\n",
       "      <td>164</td>\n",
       "      <td>68.0</td>\n",
       "      <td>120</td>\n",
       "      <td>80</td>\n",
       "      <td>1</td>\n",
       "      <td>1</td>\n",
       "      <td>0</td>\n",
       "      <td>0</td>\n",
       "      <td>1</td>\n",
       "      <td>0</td>\n",
       "    </tr>\n",
       "  </tbody>\n",
       "</table>\n",
       "</div>"
      ],
      "text/plain": [
       "         age  gender  height  weight  ap_hi  ap_lo  cholesterol  gluc  smoke  \\\n",
       "id                                                                             \n",
       "66728  21770       1     156    64.0    140     80            2     1      0   \n",
       "69098  21876       1     170    85.0    160     90            1     1      0   \n",
       "59185  23270       1     151    90.0    130     80            1     1      0   \n",
       "49288  19741       1     159    97.0    120     80            1     1      0   \n",
       "62481  18395       1     164    68.0    120     80            1     1      0   \n",
       "\n",
       "       alco  active  cardio  \n",
       "id                           \n",
       "66728     0       1       1  \n",
       "69098     0       1       1  \n",
       "59185     0       1       1  \n",
       "49288     0       1       1  \n",
       "62481     0       1       0  "
      ]
     },
     "execution_count": 14,
     "metadata": {},
     "output_type": "execute_result"
    }
   ],
   "source": [
    "df.head()"
   ]
  },
  {
   "cell_type": "code",
   "execution_count": 19,
   "id": "8428465a",
   "metadata": {},
   "outputs": [
    {
     "data": {
      "text/html": [
       "<div>\n",
       "<style scoped>\n",
       "    .dataframe tbody tr th:only-of-type {\n",
       "        vertical-align: middle;\n",
       "    }\n",
       "\n",
       "    .dataframe tbody tr th {\n",
       "        vertical-align: top;\n",
       "    }\n",
       "\n",
       "    .dataframe thead th {\n",
       "        text-align: right;\n",
       "    }\n",
       "</style>\n",
       "<table border=\"1\" class=\"dataframe\">\n",
       "  <thead>\n",
       "    <tr style=\"text-align: right;\">\n",
       "      <th></th>\n",
       "      <th>age</th>\n",
       "      <th>gender</th>\n",
       "      <th>height</th>\n",
       "      <th>weight</th>\n",
       "      <th>ap_hi</th>\n",
       "      <th>ap_lo</th>\n",
       "      <th>cholesterol</th>\n",
       "      <th>gluc</th>\n",
       "      <th>smoke</th>\n",
       "      <th>alco</th>\n",
       "      <th>active</th>\n",
       "      <th>cardio</th>\n",
       "    </tr>\n",
       "    <tr>\n",
       "      <th>id</th>\n",
       "      <th></th>\n",
       "      <th></th>\n",
       "      <th></th>\n",
       "      <th></th>\n",
       "      <th></th>\n",
       "      <th></th>\n",
       "      <th></th>\n",
       "      <th></th>\n",
       "      <th></th>\n",
       "      <th></th>\n",
       "      <th></th>\n",
       "      <th></th>\n",
       "    </tr>\n",
       "  </thead>\n",
       "  <tbody>\n",
       "    <tr>\n",
       "      <th>66728</th>\n",
       "      <td>0.0</td>\n",
       "      <td>1</td>\n",
       "      <td>156</td>\n",
       "      <td>64.0</td>\n",
       "      <td>140</td>\n",
       "      <td>80</td>\n",
       "      <td>2</td>\n",
       "      <td>1</td>\n",
       "      <td>0</td>\n",
       "      <td>0</td>\n",
       "      <td>1</td>\n",
       "      <td>1</td>\n",
       "    </tr>\n",
       "    <tr>\n",
       "      <th>69098</th>\n",
       "      <td>0.0</td>\n",
       "      <td>1</td>\n",
       "      <td>170</td>\n",
       "      <td>85.0</td>\n",
       "      <td>160</td>\n",
       "      <td>90</td>\n",
       "      <td>1</td>\n",
       "      <td>1</td>\n",
       "      <td>0</td>\n",
       "      <td>0</td>\n",
       "      <td>1</td>\n",
       "      <td>1</td>\n",
       "    </tr>\n",
       "    <tr>\n",
       "      <th>59185</th>\n",
       "      <td>0.0</td>\n",
       "      <td>1</td>\n",
       "      <td>151</td>\n",
       "      <td>90.0</td>\n",
       "      <td>130</td>\n",
       "      <td>80</td>\n",
       "      <td>1</td>\n",
       "      <td>1</td>\n",
       "      <td>0</td>\n",
       "      <td>0</td>\n",
       "      <td>1</td>\n",
       "      <td>1</td>\n",
       "    </tr>\n",
       "  </tbody>\n",
       "</table>\n",
       "</div>"
      ],
      "text/plain": [
       "       age  gender  height  weight  ap_hi  ap_lo  cholesterol  gluc  smoke  \\\n",
       "id                                                                           \n",
       "66728  0.0       1     156    64.0    140     80            2     1      0   \n",
       "69098  0.0       1     170    85.0    160     90            1     1      0   \n",
       "59185  0.0       1     151    90.0    130     80            1     1      0   \n",
       "\n",
       "       alco  active  cardio  \n",
       "id                           \n",
       "66728     0       1       1  \n",
       "69098     0       1       1  \n",
       "59185     0       1       1  "
      ]
     },
     "execution_count": 19,
     "metadata": {},
     "output_type": "execute_result"
    }
   ],
   "source": [
    "df[\"age\"] = np.round(df.age/365,2)\n",
    "df.head(3)"
   ]
  },
  {
   "cell_type": "code",
   "execution_count": 23,
   "id": "f95e7894",
   "metadata": {},
   "outputs": [
    {
     "data": {
      "text/html": [
       "<div>\n",
       "<style scoped>\n",
       "    .dataframe tbody tr th:only-of-type {\n",
       "        vertical-align: middle;\n",
       "    }\n",
       "\n",
       "    .dataframe tbody tr th {\n",
       "        vertical-align: top;\n",
       "    }\n",
       "\n",
       "    .dataframe thead th {\n",
       "        text-align: right;\n",
       "    }\n",
       "</style>\n",
       "<table border=\"1\" class=\"dataframe\">\n",
       "  <thead>\n",
       "    <tr style=\"text-align: right;\">\n",
       "      <th></th>\n",
       "      <th>age</th>\n",
       "      <th>gender</th>\n",
       "      <th>height</th>\n",
       "      <th>weight</th>\n",
       "      <th>ap_hi</th>\n",
       "      <th>ap_lo</th>\n",
       "      <th>cholesterol</th>\n",
       "      <th>gluc</th>\n",
       "      <th>smoke</th>\n",
       "      <th>alco</th>\n",
       "      <th>active</th>\n",
       "      <th>cardio</th>\n",
       "    </tr>\n",
       "    <tr>\n",
       "      <th>id</th>\n",
       "      <th></th>\n",
       "      <th></th>\n",
       "      <th></th>\n",
       "      <th></th>\n",
       "      <th></th>\n",
       "      <th></th>\n",
       "      <th></th>\n",
       "      <th></th>\n",
       "      <th></th>\n",
       "      <th></th>\n",
       "      <th></th>\n",
       "      <th></th>\n",
       "    </tr>\n",
       "  </thead>\n",
       "  <tbody>\n",
       "    <tr>\n",
       "      <th>66728</th>\n",
       "      <td>0.0</td>\n",
       "      <td>1</td>\n",
       "      <td>156</td>\n",
       "      <td>64.0</td>\n",
       "      <td>140</td>\n",
       "      <td>80</td>\n",
       "      <td>2</td>\n",
       "      <td>1</td>\n",
       "      <td>0</td>\n",
       "      <td>0</td>\n",
       "      <td>1</td>\n",
       "      <td>1</td>\n",
       "    </tr>\n",
       "    <tr>\n",
       "      <th>69098</th>\n",
       "      <td>0.0</td>\n",
       "      <td>1</td>\n",
       "      <td>170</td>\n",
       "      <td>85.0</td>\n",
       "      <td>160</td>\n",
       "      <td>90</td>\n",
       "      <td>1</td>\n",
       "      <td>1</td>\n",
       "      <td>0</td>\n",
       "      <td>0</td>\n",
       "      <td>1</td>\n",
       "      <td>1</td>\n",
       "    </tr>\n",
       "    <tr>\n",
       "      <th>59185</th>\n",
       "      <td>0.0</td>\n",
       "      <td>1</td>\n",
       "      <td>151</td>\n",
       "      <td>90.0</td>\n",
       "      <td>130</td>\n",
       "      <td>80</td>\n",
       "      <td>1</td>\n",
       "      <td>1</td>\n",
       "      <td>0</td>\n",
       "      <td>0</td>\n",
       "      <td>1</td>\n",
       "      <td>1</td>\n",
       "    </tr>\n",
       "  </tbody>\n",
       "</table>\n",
       "</div>"
      ],
      "text/plain": [
       "       age  gender  height  weight  ap_hi  ap_lo  cholesterol  gluc  smoke  \\\n",
       "id                                                                           \n",
       "66728  0.0       1     156    64.0    140     80            2     1      0   \n",
       "69098  0.0       1     170    85.0    160     90            1     1      0   \n",
       "59185  0.0       1     151    90.0    130     80            1     1      0   \n",
       "\n",
       "       alco  active  cardio  \n",
       "id                           \n",
       "66728     0       1       1  \n",
       "69098     0       1       1  \n",
       "59185     0       1       1  "
      ]
     },
     "execution_count": 23,
     "metadata": {},
     "output_type": "execute_result"
    }
   ],
   "source": [
    "df[\"age\"] = np.round(df.age/365)\n",
    "df.head(3)"
   ]
  },
  {
   "cell_type": "markdown",
   "id": "fb035634",
   "metadata": {
    "id": "fb035634"
   },
   "source": [
    "## Task-1. Is the Systolic blood pressure population mean 122mmhg?"
   ]
  },
  {
   "cell_type": "markdown",
   "id": "604a6bbe",
   "metadata": {
    "id": "604a6bbe"
   },
   "source": [
    "ap_hi => It's the Systolic blood pressure i.e. Pressure exerted when Blood is ejected in arteries. Normal value : 122 mm Hg for all adults aged 18 and over"
   ]
  },
  {
   "cell_type": "markdown",
   "id": "bb6ca4cf",
   "metadata": {
    "id": "bb6ca4cf"
   },
   "source": [
    "⭐What is the mean for Systolic blood pressure?"
   ]
  },
  {
   "cell_type": "code",
   "execution_count": 24,
   "id": "5bc33ad7",
   "metadata": {
    "id": "5bc33ad7"
   },
   "outputs": [
    {
     "data": {
      "image/png": "[encoded data removed]",
      "text/plain": [
       "<Figure size 800x400 with 1 Axes>"
      ]
     },
     "metadata": {},
     "output_type": "display_data"
    },
    {
     "data": {
      "image/png": "[encoded data removed]",
      "text/plain": [
       "<Figure size 800x400 with 1 Axes>"
      ]
     },
     "metadata": {},
     "output_type": "display_data"
    },
    {
     "data": {
      "image/png": "[encoded data removed]",
      "text/plain": [
       "<Figure size 800x400 with 1 Axes>"
      ]
     },
     "metadata": {},
     "output_type": "display_data"
    },
    {
     "data": {
      "image/png": "[encoded data removed]",
      "text/plain": [
       "<Figure size 800x400 with 1 Axes>"
      ]
     },
     "metadata": {},
     "output_type": "display_data"
    },
    {
     "data": {
      "image/png": "[encoded data removed]",
      "text/plain": [
       "<Figure size 800x400 with 1 Axes>"
      ]
     },
     "metadata": {},
     "output_type": "display_data"
    },
    {
     "data": {
      "image/png": "[encoded data removed]",
      "text/plain": [
       "<Figure size 800x400 with 1 Axes>"
      ]
     },
     "metadata": {},
     "output_type": "display_data"
    },
    {
     "data": {
      "image/png": "[encoded data removed]",
      "text/plain": [
       "<Figure size 800x400 with 1 Axes>"
      ]
     },
     "metadata": {},
     "output_type": "display_data"
    },
    {
     "data": {
      "image/png": "[encoded data removed]",
      "text/plain": [
       "<Figure size 800x400 with 1 Axes>"
      ]
     },
     "metadata": {},
     "output_type": "display_data"
    },
    {
     "data": {
      "image/png": "[encoded data removed]",
      "text/plain": [
       "<Figure size 800x400 with 1 Axes>"
      ]
     },
     "metadata": {},
     "output_type": "display_data"
    },
    {
     "data": {
      "image/png": "[encoded data removed]",
      "text/plain": [
       "<Figure size 800x400 with 1 Axes>"
      ]
     },
     "metadata": {},
     "output_type": "display_data"
    },
    {
     "data": {
      "image/png": "[encoded data removed]",
      "text/plain": [
       "<Figure size 800x400 with 1 Axes>"
      ]
     },
     "metadata": {},
     "output_type": "display_data"
    },
    {
     "data": {
      "image/png": "[encoded data removed]",
      "text/plain": [
       "<Figure size 800x400 with 1 Axes>"
      ]
     },
     "metadata": {},
     "output_type": "display_data"
    }
   ],
   "source": [
    "for col in df.columns:\n",
    "    sns.displot(x=col, height=4, aspect=2, data=df)"
   ]
  },
  {
   "cell_type": "markdown",
   "id": "KX4IjRriZzAi",
   "metadata": {
    "id": "KX4IjRriZzAi"
   },
   "source": [
    "⭐What is the standard deviation for Systolic blood pressure?"
   ]
  },
  {
   "cell_type": "code",
   "execution_count": null,
   "id": "69d481ee",
   "metadata": {
    "id": "69d481ee"
   },
   "outputs": [],
   "source": []
  },
  {
   "cell_type": "markdown",
   "id": "uUV8XmvbZ2aI",
   "metadata": {
    "id": "uUV8XmvbZ2aI"
   },
   "source": [
    "⭐What is the standard error of the mean for Systolic blood pressure?"
   ]
  },
  {
   "cell_type": "code",
   "execution_count": null,
   "id": "135778c0",
   "metadata": {
    "id": "135778c0"
   },
   "outputs": [],
   "source": []
  },
  {
   "cell_type": "markdown",
   "id": "0QRScuBloYmt",
   "metadata": {
    "id": "0QRScuBloYmt"
   },
   "source": [
    "⭐What are the descriptive statistics of the mean for Systolic blood pressure?"
   ]
  },
  {
   "cell_type": "code",
   "execution_count": null,
   "id": "8c5bb6c4",
   "metadata": {
    "id": "8c5bb6c4"
   },
   "outputs": [],
   "source": []
  },
  {
   "cell_type": "markdown",
   "id": "70b4dcd2",
   "metadata": {
    "id": "70b4dcd2"
   },
   "source": [
    "## Confidence Interval using the t Distribution\n",
    "\n",
    "Key Notes about Confidence Intervals\n",
    "\n",
    "💡A point estimate is a single number.\n",
    "\n",
    "💡A confidence interval, naturally, is an interval.\n",
    "\n",
    "💡Confidence intervals are the typical way to present estimates as an interval range.\n",
    "\n",
    "💡The point estimate is located exactly in the middle of the confidence interval.\n",
    "\n",
    "💡However, confidence intervals provide much more information and are preferred when making inferences.\n",
    "\n",
    "💡The more data you have, the less variable a sample estimate will be.\n",
    "\n",
    "💡The lower the level of confidence you can tolerate, the narrower the confidence interval will be.\n",
    "\n",
    "⭐Investigate the given task by calculating the confidence interval. (Use 90%, 95% and 99% CIs)"
   ]
  },
  {
   "cell_type": "code",
   "execution_count": null,
   "id": "86530d0e",
   "metadata": {
    "id": "86530d0e"
   },
   "outputs": [],
   "source": []
  },
  {
   "cell_type": "markdown",
   "id": "b8ea993c",
   "metadata": {
    "id": "b8ea993c"
   },
   "source": [
    "## One Sample t Test"
   ]
  },
  {
   "cell_type": "markdown",
   "id": "3b0b1513",
   "metadata": {
    "id": "3b0b1513"
   },
   "source": [
    "⭐Investigate the given task by using One Sample t Test.\n",
    "\n",
    "Key Notes about Hypothesis Testing (Significance Testing)\n",
    "\n",
    "💡Assumptions\n",
    "\n",
    "💡Null and Alternative Hypothesis\n",
    "\n",
    "💡Test Statistic\n",
    "\n",
    "💡P-value\n",
    "\n",
    "💡Conclusion"
   ]
  },
  {
   "cell_type": "markdown",
   "id": "815c7c17",
   "metadata": {
    "id": "815c7c17"
   },
   "source": [
    "Conduct the significance test. Use scipy.stats.ttest_1samp"
   ]
  },
  {
   "cell_type": "code",
   "execution_count": null,
   "id": "6231ec49",
   "metadata": {
    "id": "6231ec49"
   },
   "outputs": [],
   "source": []
  },
  {
   "cell_type": "code",
   "execution_count": null,
   "id": "c6343ddb",
   "metadata": {
    "id": "c6343ddb"
   },
   "outputs": [],
   "source": []
  },
  {
   "cell_type": "markdown",
   "id": "e273e0c2",
   "metadata": {
    "id": "e273e0c2"
   },
   "source": [
    "## Task-2. Is There a Significant Difference Between Males and Females in Systolic Blood Pressure?\n",
    "\n",
    "H0: µ1 = µ2 (\"the two population means are equal\")\n",
    "\n",
    "H1: µ1 ≠ µ2 (\"the two population means are not equal\")"
   ]
  },
  {
   "cell_type": "markdown",
   "id": "f924f82e",
   "metadata": {
    "id": "f924f82e"
   },
   "source": [
    "⭐Show descriptives for 2 groups"
   ]
  },
  {
   "cell_type": "code",
   "execution_count": null,
   "id": "a6398b26",
   "metadata": {
    "id": "a6398b26"
   },
   "outputs": [],
   "source": []
  },
  {
   "cell_type": "markdown",
   "id": "84bd1c6e",
   "metadata": {
    "id": "84bd1c6e"
   },
   "source": [
    "___🚀Test the assumption of homogeneity of variance Hint: Levene’s Test\n",
    "\n",
    "The hypotheses for Levene’s test are:\n",
    "\n",
    "H0: \"the population variances of group 1 and 2 are equal\"\n",
    "\n",
    "H1: \"the population variances of group 1 and 2 are not equal\""
   ]
  },
  {
   "cell_type": "code",
   "execution_count": null,
   "id": "e6ea62f8",
   "metadata": {
    "id": "e6ea62f8"
   },
   "outputs": [],
   "source": []
  },
  {
   "cell_type": "markdown",
   "id": "4c7bfaf0",
   "metadata": {
    "id": "4c7bfaf0"
   },
   "source": [
    "___🚀Conduct the significance test. Use scipy.stats.ttest_ind\n",
    "\n",
    "H0: µ1 = µ2 (\"the two population means are equal\")\n",
    "\n",
    "H1: µ1 ≠ µ2 (\"the two population means are not equal\")"
   ]
  },
  {
   "cell_type": "code",
   "execution_count": null,
   "id": "4c0b1baa",
   "metadata": {
    "id": "4c0b1baa"
   },
   "outputs": [],
   "source": []
  },
  {
   "cell_type": "markdown",
   "id": "b649ecf9",
   "metadata": {
    "id": "b649ecf9"
   },
   "source": [
    "## Task-3. Is There a Relationship Between Glucose and Systolic Blood Pressure?"
   ]
  },
  {
   "cell_type": "markdown",
   "id": "iQnNlpE2nXym",
   "metadata": {
    "id": "iQnNlpE2nXym"
   },
   "source": [
    "⭐Draw a boxplot to see the relationship."
   ]
  },
  {
   "cell_type": "code",
   "execution_count": null,
   "id": "830810ff",
   "metadata": {
    "id": "830810ff"
   },
   "outputs": [],
   "source": []
  },
  {
   "cell_type": "markdown",
   "id": "R5W3NypFniN_",
   "metadata": {
    "id": "R5W3NypFniN_"
   },
   "source": [
    "⭐Show the descriptive statistics of 3 groups."
   ]
  },
  {
   "cell_type": "code",
   "execution_count": null,
   "id": "c48159b9",
   "metadata": {
    "id": "c48159b9"
   },
   "outputs": [],
   "source": []
  },
  {
   "cell_type": "markdown",
   "id": "6vx5akalnpn3",
   "metadata": {
    "id": "6vx5akalnpn3"
   },
   "source": [
    "⭐Conduct the relavant statistical test to see if there is a significant difference between the mean of the groups."
   ]
  },
  {
   "cell_type": "code",
   "execution_count": null,
   "id": "f63c6ce5",
   "metadata": {
    "id": "f63c6ce5"
   },
   "outputs": [],
   "source": []
  },
  {
   "cell_type": "code",
   "execution_count": null,
   "id": "4e68ebab",
   "metadata": {
    "id": "4e68ebab"
   },
   "outputs": [],
   "source": []
  },
  {
   "cell_type": "code",
   "execution_count": null,
   "id": "f5c3bb28",
   "metadata": {
    "id": "f5c3bb28"
   },
   "outputs": [],
   "source": []
  },
  {
   "cell_type": "markdown",
   "id": "d128793f",
   "metadata": {
    "id": "d128793f"
   },
   "source": [
    "## Task-4. Is There a Relationship Between Physical activity vs. Presence or absence of cardiovascular disease?"
   ]
  },
  {
   "cell_type": "markdown",
   "id": "9d0cbaf7",
   "metadata": {
    "id": "9d0cbaf7"
   },
   "source": [
    "### Physical activity vs. Presence or absence of cardiovascular disease"
   ]
  },
  {
   "cell_type": "markdown",
   "id": "QfsEEewCadVd",
   "metadata": {
    "id": "QfsEEewCadVd"
   },
   "source": [
    "⭐Create a crosstab using Pandas."
   ]
  },
  {
   "cell_type": "code",
   "execution_count": null,
   "id": "c65b89ba",
   "metadata": {
    "id": "c65b89ba"
   },
   "outputs": [],
   "source": []
  },
  {
   "cell_type": "markdown",
   "id": "BHkX6Cdhn-cU",
   "metadata": {
    "id": "BHkX6Cdhn-cU"
   },
   "source": [
    "⭐Conduct chi-square test to see if there is a relationship between 2 categorical variables."
   ]
  },
  {
   "cell_type": "code",
   "execution_count": null,
   "id": "d4bbe141",
   "metadata": {
    "id": "d4bbe141"
   },
   "outputs": [],
   "source": []
  },
  {
   "cell_type": "code",
   "execution_count": null,
   "id": "559790fa",
   "metadata": {
    "id": "559790fa"
   },
   "outputs": [],
   "source": []
  },
  {
   "cell_type": "code",
   "execution_count": null,
   "id": "5105746b",
   "metadata": {
    "id": "5105746b"
   },
   "outputs": [],
   "source": []
  },
  {
   "cell_type": "code",
   "execution_count": null,
   "id": "f7e14a81",
   "metadata": {
    "id": "f7e14a81"
   },
   "outputs": [],
   "source": []
  },
  {
   "cell_type": "code",
   "execution_count": null,
   "id": "0bdd3457",
   "metadata": {
    "id": "0bdd3457"
   },
   "outputs": [],
   "source": []
  }
 ],
 "metadata": {
  "colab": {
   "provenance": []
  },
  "kernelspec": {
   "display_name": "Python 3 (ipykernel)",
   "language": "python",
   "name": "python3"
  },
  "language_info": {
   "codemirror_mode": {
    "name": "ipython",
    "version": 3
   },
   "file_extension": ".py",
   "mimetype": "text/x-python",
   "name": "python",
   "nbconvert_exporter": "python",
   "pygments_lexer": "ipython3",
   "version": "3.9.13"
  },
  "toc": {
   "base_numbering": 1,
   "nav_menu": {},
   "number_sections": true,
   "sideBar": true,
   "skip_h1_title": false,
   "title_cell": "Table of Contents",
   "title_sidebar": "Contents",
   "toc_cell": false,
   "toc_position": {},
   "toc_section_display": true,
   "toc_window_display": false
  }
 },
 "nbformat": 4,
 "nbformat_minor": 5
}
