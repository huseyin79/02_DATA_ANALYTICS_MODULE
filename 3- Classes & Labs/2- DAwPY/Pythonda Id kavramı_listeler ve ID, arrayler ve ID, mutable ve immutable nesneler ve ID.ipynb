{
 "cells": [
  {
   "cell_type": "markdown",
   "id": "f7ab4d7a",
   "metadata": {},
   "source": [
    "# Id (memory location) kavramı  \n",
    "# arrayler ile listelerin id kavramı üzerinden incelenmesi.  \n",
    "# mutable & immutable kavramlarının id üzerinden açıklanması:"
   ]
  },
  {
   "cell_type": "markdown",
   "id": "eb144853",
   "metadata": {},
   "source": [
    "## Id kavramı. "
   ]
  },
  {
   "cell_type": "markdown",
   "id": "ff1dcc5e",
   "metadata": {},
   "source": [
    "ID nedir?\n",
    "\n",
    "id(), Python'da bir build in fonksiyondur. Bir nesnenin unique identifier’ının (tanımlayıcısının) ne olduğunu verir. Bunun nasıl çalıştığına bir göz atalım."
   ]
  },
  {
   "cell_type": "code",
   "execution_count": 1,
   "id": "5633bbba",
   "metadata": {},
   "outputs": [
    {
     "data": {
      "text/plain": [
       "1"
      ]
     },
     "execution_count": 1,
     "metadata": {},
     "output_type": "execute_result"
    }
   ],
   "source": [
    "a = 1\n",
    "a\n",
    "# a, 1 değerini içeren bir nesnedir."
   ]
  },
  {
   "cell_type": "code",
   "execution_count": 2,
   "id": "a9c569f5",
   "metadata": {},
   "outputs": [
    {
     "data": {
      "text/plain": [
       "2267949066544"
      ]
     },
     "execution_count": 2,
     "metadata": {},
     "output_type": "execute_result"
    }
   ],
   "source": [
    "# şimdi a'nın id'sine bakalım:\n",
    "id(a)\n",
    "\n",
    "\n",
    "# unique identifier, bellekteki bir konuma işaret ediyor ki o bir nesnedir."
   ]
  },
  {
   "cell_type": "code",
   "execution_count": 3,
   "id": "9b81738f",
   "metadata": {},
   "outputs": [
    {
     "data": {
      "text/plain": [
       "2267949066576"
      ]
     },
     "execution_count": 3,
     "metadata": {},
     "output_type": "execute_result"
    }
   ],
   "source": [
    "# başka bir taneye daha bakalım:\n",
    "b = 2\n",
    "id(b)\n",
    "\n",
    "# id(a)'nın id(b)'den farklı olduğunu görebiliyoruz"
   ]
  },
  {
   "cell_type": "code",
   "execution_count": 4,
   "id": "ddefbd46",
   "metadata": {},
   "outputs": [
    {
     "data": {
      "text/plain": [
       "False"
      ]
     },
     "execution_count": 4,
     "metadata": {},
     "output_type": "execute_result"
    }
   ],
   "source": [
    "# bunu test edersek:\n",
    "a = 1\n",
    "b = 2 \n",
    "\n",
    "id(a) == id(b)"
   ]
  },
  {
   "cell_type": "code",
   "execution_count": 5,
   "id": "a41b4497",
   "metadata": {},
   "outputs": [
    {
     "data": {
      "text/plain": [
       "2267949066576"
      ]
     },
     "execution_count": 5,
     "metadata": {},
     "output_type": "execute_result"
    }
   ],
   "source": [
    "# şimdi 2'ye başka bir değişken atayalım ve id'yi kontrol edelim:\n",
    "\n",
    "c = 2\n",
    "\n",
    "id(c)\n",
    "# dikkat ederseniz c'nin id'si b'nin id'si ile aynı!!"
   ]
  },
  {
   "cell_type": "code",
   "execution_count": 6,
   "id": "63e2348d",
   "metadata": {},
   "outputs": [
    {
     "data": {
      "text/plain": [
       "True"
      ]
     },
     "execution_count": 6,
     "metadata": {},
     "output_type": "execute_result"
    }
   ],
   "source": [
    "id(c) == id(b)"
   ]
  },
  {
   "cell_type": "code",
   "execution_count": 7,
   "id": "c7b3ee7c",
   "metadata": {},
   "outputs": [
    {
     "name": "stdout",
     "output_type": "stream",
     "text": [
      "2267949066576 2267949066576\n"
     ]
    }
   ],
   "source": [
    "print(id(c), id(b))"
   ]
  },
  {
   "cell_type": "raw",
   "id": "3ade72dd",
   "metadata": {},
   "source": [
    "Aynı unique identifier'a sahipler çünkü c, 2 değerini taşıyan bir nesneye referans ediyor ve b'de aynı şekilde 2 value'sunu içeren aynı object'e referans ediyor.\n",
    "\n",
    "Dikkat edin! İkisi de 2 değerini içeren aynı nesneye işaret ediyor.\n",
    "\n",
    "çünkü her nesnenin ona özgü bir id no'su olduğunu hatırlayalım. Aynı id no'su aynı nesne demektir. "
   ]
  },
  {
   "cell_type": "raw",
   "id": "c325d660",
   "metadata": {},
   "source": [
    "2555533683024 nesnesi unique identifierdır. \n",
    "Hafızadaki konumdur (memory location). \n",
    "Nesnelerin birden fazla değişkeni olabilir. "
   ]
  },
  {
   "cell_type": "code",
   "execution_count": 8,
   "id": "fcf04abf",
   "metadata": {},
   "outputs": [
    {
     "name": "stdout",
     "output_type": "stream",
     "text": [
      "True\n",
      "False\n"
     ]
    }
   ],
   "source": [
    "# Şimdi bunu stringlerle deneyelim.\n",
    "\n",
    "a = \"strawberry\"\n",
    "b = \"strawberry\"\n",
    "print(id(a) == id(b))  # stringler aynı olduğu için id'leri aynı.\n",
    "\n",
    "a = \"strawberry\"\n",
    "b = \"Strawberry\"  # ilk harf büyük olduğu için id'leri farklı oldu.\n",
    "print(id(a) == id(b))\n"
   ]
  },
  {
   "cell_type": "code",
   "execution_count": 9,
   "id": "ff753011",
   "metadata": {},
   "outputs": [
    {
     "name": "stdout",
     "output_type": "stream",
     "text": [
      "True\n",
      "False\n"
     ]
    }
   ],
   "source": [
    "# başka bir örnek yapalım:\n",
    "\n",
    "a = 256\n",
    "b = 256\n",
    "print(id(a) == id(b))\n",
    "\n",
    "a = 260\n",
    "b = 260\n",
    "print(id(a) == id(b))\n"
   ]
  },
  {
   "cell_type": "raw",
   "id": "8fc2ef09",
   "metadata": {},
   "source": [
    "Neden 260'ta id'ler aynı olmadı?\n",
    "Bunun nedeni, Python'un -5 ile 256 arasındaki tüm integer sayılar için bir integer nesne dizisi tutmasıdır. Bu yüzden Bu aralıkta bir tamsayı oluşturduğunuzda, zaten var olan nesneye bir referans alırsınız."
   ]
  },
  {
   "cell_type": "code",
   "execution_count": 10,
   "id": "35ed7f96",
   "metadata": {},
   "outputs": [
    {
     "data": {
      "text/plain": [
       "2268035842192"
      ]
     },
     "execution_count": 10,
     "metadata": {},
     "output_type": "execute_result"
    }
   ],
   "source": [
    "id(260)"
   ]
  },
  {
   "cell_type": "code",
   "execution_count": 11,
   "id": "c806400c",
   "metadata": {},
   "outputs": [
    {
     "data": {
      "text/plain": [
       "2268035842192"
      ]
     },
     "execution_count": 11,
     "metadata": {},
     "output_type": "execute_result"
    }
   ],
   "source": [
    "id(260)"
   ]
  },
  {
   "cell_type": "markdown",
   "id": "d43ffba8",
   "metadata": {},
   "source": [
    "## listeler ve ID "
   ]
  },
  {
   "cell_type": "raw",
   "id": "9c950abb",
   "metadata": {},
   "source": [
    "Not: İki değişkenin aynı nesne id'sine sahip olup olmadığını kontrol etmek için “is” kullanabilirsiniz:"
   ]
  },
  {
   "cell_type": "code",
   "execution_count": 12,
   "id": "fa86f585",
   "metadata": {},
   "outputs": [
    {
     "data": {
      "text/plain": [
       "' Yukarıdaki aynı listenin list1 ve list2 olmak üzere iki farklı adı var \\nve bunun aliased (takma ad) olduğunu söyleyebiliriz.\\n\\nDeğişkenler nesneleri refere ederler ve bir değişkeni diğerine atarsak,\\nher iki değişken de aynı nesneye atıfta bulunur. Alliasing bu demektir. '"
      ]
     },
     "execution_count": 12,
     "metadata": {},
     "output_type": "execute_result"
    }
   ],
   "source": [
    "list1 = [1, 2, 3]\n",
    "list2 = list1\n",
    "list1 is list2\n",
    "\n",
    "\"\"\" Yukarıdaki aynı listenin list1 ve list2 olmak üzere iki farklı adı var \n",
    "ve bunun aliased (takma ad) olduğunu söyleyebiliriz.\n",
    "\n",
    "Değişkenler nesneleri refere ederler ve bir değişkeni diğerine atarsak,\n",
    "her iki değişken de aynı nesneye atıfta bulunur. Alliasing bu demektir. \"\"\""
   ]
  },
  {
   "cell_type": "raw",
   "id": "ef7b2408",
   "metadata": {},
   "source": [
    "Klonlama : \n",
    "Bir listeyi değiştirmek ve orijinalinin bir kopyasını saklamak istiyorsak, listenin bir kopyasını çıkarmamız gerekir. Bu işleme klonlama denir. \n",
    "\n",
    "Bir listeyi slicelarsanız sliceladığınız elemanlardan elinizde yeni bir liste oluşur."
   ]
  },
  {
   "cell_type": "code",
   "execution_count": 13,
   "id": "f26928d8",
   "metadata": {},
   "outputs": [
    {
     "name": "stdout",
     "output_type": "stream",
     "text": [
      "[1, 2, 3]\n",
      "[1, 2, 3]\n"
     ]
    },
    {
     "data": {
      "text/plain": [
       "\"list1'in bir kopyasını list2 değişkenine çıkarttık.\\ndaha doğrusu list1'in slicelayarak aldığımız elemanlarını list2'ye atadık. \\nve doğal olarak her iki listenin de içeriği aynı elemanlardan oluştuğunu gördük \\n\""
      ]
     },
     "execution_count": 13,
     "metadata": {},
     "output_type": "execute_result"
    }
   ],
   "source": [
    "list1 = [1, 2, 3]\n",
    "list2 = list1[:]\n",
    "print(list1)\n",
    "print(list2)\n",
    "\n",
    "\"\"\"list1'in bir kopyasını list2 değişkenine çıkarttık.\n",
    "daha doğrusu list1'in slicelayarak aldığımız elemanlarını list2'ye atadık. \n",
    "ve doğal olarak her iki listenin de içeriği aynı elemanlardan oluştuğunu gördük \n",
    "\"\"\""
   ]
  },
  {
   "cell_type": "code",
   "execution_count": 14,
   "id": "90d78a6d",
   "metadata": {},
   "outputs": [
    {
     "name": "stdout",
     "output_type": "stream",
     "text": [
      "False\n"
     ]
    },
    {
     "data": {
      "text/plain": [
       "\"Gördüğünüz gibi her iki (list1 ve list2) objenin id'leri farklı.\\nyani artık bunlar farklı iki nesne olmuşlar.\""
      ]
     },
     "execution_count": 14,
     "metadata": {},
     "output_type": "execute_result"
    }
   ],
   "source": [
    "# Fakaat:\n",
    "\n",
    "print(id(list1) == id(list2))\n",
    "\n",
    "\"\"\"Gördüğünüz gibi her iki (list1 ve list2) objenin id'leri farklı.\n",
    "yani artık bunlar farklı iki nesne olmuşlar.\"\"\""
   ]
  },
  {
   "cell_type": "code",
   "execution_count": 15,
   "id": "24ab1a06",
   "metadata": {},
   "outputs": [
    {
     "name": "stdout",
     "output_type": "stream",
     "text": [
      "True\n"
     ]
    },
    {
     "data": {
      "text/plain": [
       "\"bu sefer isimleri farklı olan aynı object olduklarını görürdük.\\nçünkü aynı object id'sini refere ediyorlar.\""
      ]
     },
     "execution_count": 15,
     "metadata": {},
     "output_type": "execute_result"
    }
   ],
   "source": [
    "# eğer list1 nesnesini list3 değişkenine atasaydık: \n",
    "\n",
    "list1 = [1, 2, 3]\n",
    "list2 = list1\n",
    "\n",
    "print(id(list1) == id(list2))\n",
    "\n",
    "\"\"\"bu sefer isimleri farklı olan aynı object olduklarını görürdük.\n",
    "çünkü aynı object id'sini refere ediyorlar.\"\"\""
   ]
  },
  {
   "cell_type": "code",
   "execution_count": 16,
   "id": "ba122875",
   "metadata": {},
   "outputs": [
    {
     "data": {
      "text/plain": [
       "[1, 2, 3, 4, 5, 6, 7, 8, 9]"
      ]
     },
     "execution_count": 16,
     "metadata": {},
     "output_type": "execute_result"
    }
   ],
   "source": [
    "# şimdi bir liste oluşturalım ve onu slicelayarak ondan başka bir liste elde edelim.\n",
    "\n",
    "list3 = [1,2,3,4,5,6,7,8,9]\n",
    "list3"
   ]
  },
  {
   "cell_type": "code",
   "execution_count": 17,
   "id": "6758b530",
   "metadata": {},
   "outputs": [
    {
     "data": {
      "text/plain": [
       "[1, 2, 3]"
      ]
     },
     "execution_count": 17,
     "metadata": {},
     "output_type": "execute_result"
    }
   ],
   "source": [
    "# liste3'ün ilk 3 elemanından yeni bir liste oluşturduk.\n",
    "\n",
    "list_slice = list3[:3]\n",
    "list_slice"
   ]
  },
  {
   "cell_type": "code",
   "execution_count": 18,
   "id": "f2058558",
   "metadata": {},
   "outputs": [
    {
     "name": "stdout",
     "output_type": "stream",
     "text": [
      "False\n"
     ]
    }
   ],
   "source": [
    "# yukarda yaptığımız işlemdeki gibi yeni liste ile eski listenin\n",
    "# farklı nesneler olduğunu artık biliyoruz.\n",
    "\n",
    "print(id(list1) == id(list3))"
   ]
  },
  {
   "cell_type": "code",
   "execution_count": 19,
   "id": "90a6654c",
   "metadata": {},
   "outputs": [
    {
     "data": {
      "text/plain": [
       "[0, 0, 0]"
      ]
     },
     "execution_count": 19,
     "metadata": {},
     "output_type": "execute_result"
    }
   ],
   "source": [
    "# yeni listenin elemanlarının değerlerini değiştirelim\n",
    "# ve eski listeye etki edip etmeyeceğine bakalım:\n",
    "\n",
    "list_slice[:3] = 0, 0, 0\n",
    "list_slice\n",
    "\n",
    "# list3'ü slicelayarak oluşturduğum yeni listemin elemanlarının hepsini 0 yaptım."
   ]
  },
  {
   "cell_type": "code",
   "execution_count": 20,
   "id": "62d958d0",
   "metadata": {},
   "outputs": [
    {
     "data": {
      "text/plain": [
       "\"fakat orjinal liste3'üm değişmedi. \\nartık buna şaşırmadık çünkü : iki liste farklı id'lere sahip farklı nesnelerdir.\""
      ]
     },
     "execution_count": 20,
     "metadata": {},
     "output_type": "execute_result"
    }
   ],
   "source": [
    "list3\n",
    "\n",
    "\"\"\"fakat orjinal liste3'üm değişmedi. \n",
    "artık buna şaşırmadık çünkü : iki liste farklı id'lere sahip farklı nesnelerdir.\"\"\""
   ]
  },
  {
   "cell_type": "markdown",
   "id": "48317b6d",
   "metadata": {},
   "source": [
    "## Numpy array'ler ve id"
   ]
  },
  {
   "cell_type": "code",
   "execution_count": 21,
   "id": "db7f34d6",
   "metadata": {},
   "outputs": [],
   "source": [
    "# Şimdi aynı işlemi Numpy'ın arrayleriyle yapalım:\n",
    "\n",
    "import numpy as np"
   ]
  },
  {
   "cell_type": "code",
   "execution_count": 22,
   "id": "3cf81f13",
   "metadata": {},
   "outputs": [
    {
     "data": {
      "text/plain": [
       "array([1, 2, 3, 4, 5, 6, 7, 8, 9])"
      ]
     },
     "execution_count": 22,
     "metadata": {},
     "output_type": "execute_result"
    }
   ],
   "source": [
    "arr = np.arange(1, 10)\n",
    "arr"
   ]
  },
  {
   "cell_type": "code",
   "execution_count": 23,
   "id": "4f673254",
   "metadata": {},
   "outputs": [
    {
     "data": {
      "text/plain": [
       "array([1, 2, 3])"
      ]
     },
     "execution_count": 23,
     "metadata": {},
     "output_type": "execute_result"
    }
   ],
   "source": [
    "arr_slice = arr[:3]\n",
    "arr_slice\n",
    "\n",
    "# arr_slice arrayini, arr arrayinin slicelayarak aldığım ilk 3 elemanınından oluşturdum."
   ]
  },
  {
   "cell_type": "code",
   "execution_count": 24,
   "id": "85a2821f",
   "metadata": {},
   "outputs": [
    {
     "data": {
      "text/plain": [
       "'arr arrayinden slicelayarak oluşturduğum arr_slice arrayinin\\nelamanlarının değerini değiştirerek 0 yaptım.\\naz önce listelerde bu işlemi yaptığımda orjinal listemde değişiklik olmamıştı.'"
      ]
     },
     "execution_count": 24,
     "metadata": {},
     "output_type": "execute_result"
    }
   ],
   "source": [
    "arr_slice[:3] = 0\n",
    "arr_slice\n",
    "\n",
    "\"\"\"arr arrayinden slicelayarak oluşturduğum arr_slice arrayinin\n",
    "elamanlarının değerini değiştirerek 0 yaptım.\n",
    "az önce listelerde bu işlemi yaptığımda orjinal listemde değişiklik olmamıştı.\"\"\""
   ]
  },
  {
   "cell_type": "code",
   "execution_count": 25,
   "id": "6225760c",
   "metadata": {},
   "outputs": [
    {
     "data": {
      "text/plain": [
       "array([0, 0, 0, 4, 5, 6, 7, 8, 9])"
      ]
     },
     "execution_count": 25,
     "metadata": {},
     "output_type": "execute_result"
    }
   ],
   "source": [
    "arr\n",
    "\n",
    "# fakat arraylerde orjinal arrayin de değiştiğini görüyoruz."
   ]
  },
  {
   "cell_type": "code",
   "execution_count": 26,
   "id": "f5878c9b",
   "metadata": {},
   "outputs": [
    {
     "name": "stdout",
     "output_type": "stream",
     "text": [
      "2268026477904\n",
      "2268052470544\n"
     ]
    }
   ],
   "source": [
    "# pekiii slicelayarak oluşturduğumuz yeni array'in id'si orjinal arrayin id'siyle aynı mı?\n",
    "\n",
    "print(id(arr_slice))\n",
    "print(id(arr))\n",
    "\n",
    "# hayır değil."
   ]
  },
  {
   "cell_type": "code",
   "execution_count": 27,
   "id": "3e629607",
   "metadata": {},
   "outputs": [
    {
     "name": "stdout",
     "output_type": "stream",
     "text": [
      "2268026194128\n",
      "2268026194128\n"
     ]
    },
    {
     "data": {
      "text/plain": [
       "\"demek ki arrayler farklı id'lere sahip farklı objeler.\\nfakat içindeki elemanlar aynı id'lere sahip aynı objeler.\""
      ]
     },
     "execution_count": 27,
     "metadata": {},
     "output_type": "execute_result"
    }
   ],
   "source": [
    "# Fakaat, orjinal arr arrayinin ilk 3 elemanının id'si ile\n",
    "# bu elemanlardan oluşturduğum arr_slice arrayinin elemanlarının id'si aynı.\n",
    "\n",
    "print(id(arr_slice[:3]))\n",
    "print(id(arr[:3]))\n",
    "\n",
    "\"\"\"demek ki arrayler farklı id'lere sahip farklı objeler.\n",
    "fakat içindeki elemanlar aynı id'lere sahip aynı objeler.\"\"\""
   ]
  },
  {
   "cell_type": "raw",
   "id": "61f3e1f7",
   "metadata": {},
   "source": [
    "array'lerde slicelama ile oluşturduğumuz ve farklı bir değişkene atadığımız array'in içeriğini değiştirdiğimizde, orjinal array'in de bu değişiklikten etkilendiğini görüyoruz!!\n",
    "\n",
    "çünkü arraylerin tüm elemanları aynı id no.su ile tutulmaktadır. YANİ HEPSİ AYNI NESNEDİR.\n",
    "mesela arr arrayinin 5. ve 0. indeklerindeki elemanların id'lerini kontrol ettiğimde :"
   ]
  },
  {
   "cell_type": "code",
   "execution_count": 53,
   "id": "9944eceb",
   "metadata": {},
   "outputs": [
    {
     "data": {
      "text/plain": [
       "2268084190928"
      ]
     },
     "execution_count": 53,
     "metadata": {},
     "output_type": "execute_result"
    }
   ],
   "source": [
    "id(arr[5])"
   ]
  },
  {
   "cell_type": "code",
   "execution_count": 56,
   "id": "11bcec0e",
   "metadata": {},
   "outputs": [
    {
     "data": {
      "text/plain": [
       "2268084190960"
      ]
     },
     "execution_count": 56,
     "metadata": {},
     "output_type": "execute_result"
    }
   ],
   "source": [
    "a = id(arr[5])\n",
    "a"
   ]
  },
  {
   "cell_type": "code",
   "execution_count": 58,
   "id": "42a99347",
   "metadata": {},
   "outputs": [
    {
     "data": {
      "text/plain": [
       "2268084190960"
      ]
     },
     "execution_count": 58,
     "metadata": {},
     "output_type": "execute_result"
    }
   ],
   "source": [
    "a"
   ]
  },
  {
   "cell_type": "code",
   "execution_count": 29,
   "id": "f8743bc2",
   "metadata": {},
   "outputs": [
    {
     "data": {
      "text/plain": [
       "2268058236176"
      ]
     },
     "execution_count": 29,
     "metadata": {},
     "output_type": "execute_result"
    }
   ],
   "source": [
    "id(arr[0])"
   ]
  },
  {
   "cell_type": "code",
   "execution_count": 43,
   "id": "c4d16e5b",
   "metadata": {},
   "outputs": [
    {
     "data": {
      "text/plain": [
       "True"
      ]
     },
     "execution_count": 43,
     "metadata": {},
     "output_type": "execute_result"
    }
   ],
   "source": [
    "id(arr[5]) == id(arr[0])\n",
    "\n",
    "# aynı olduklarını görüyorum. demek ki bunlar aynı nesneler.??????????????????"
   ]
  },
  {
   "cell_type": "raw",
   "id": "7fcafeff",
   "metadata": {},
   "source": [
    "first creates a float numpy.float64(100) and then calls the id function on it. This memory is then immediately freed by Python's garbage collector because there are no more references to it. The memory slot is free to be reused by any new objects that are created.\n",
    "\n",
    "{https://stackoverflow.com/questions/34639746/id-of-numpy-float64-objects-are-the-same-even-if-their-values-differ}"
   ]
  },
  {
   "cell_type": "code",
   "execution_count": 47,
   "id": "9fa481ce",
   "metadata": {},
   "outputs": [
    {
     "data": {
      "text/plain": [
       "True"
      ]
     },
     "execution_count": 47,
     "metadata": {},
     "output_type": "execute_result"
    }
   ],
   "source": [
    "np.array_equal(id(arr[0]),id(arr[5]))"
   ]
  },
  {
   "cell_type": "code",
   "execution_count": 42,
   "id": "a3bac57b",
   "metadata": {},
   "outputs": [
    {
     "data": {
      "text/plain": [
       "False"
      ]
     },
     "execution_count": 42,
     "metadata": {},
     "output_type": "execute_result"
    }
   ],
   "source": [
    "# is ile kontrol edersek:\n",
    "\n",
    "id(arr[5]) is id(arr[0])"
   ]
  },
  {
   "cell_type": "raw",
   "id": "79f265e1",
   "metadata": {},
   "source": [
    "dolayısıyla orjinal arrayden aldığımız elemanların id'si değişmiyor. onlardan başka bir array'de oluştursak id'leri aynı kalıyor.\n",
    "\n",
    "Bu etkiyi bertaraf etmek için orjinal array'in bir kopyasını alma yoluna gidebiliriz."
   ]
  },
  {
   "cell_type": "raw",
   "id": "7037fefc",
   "metadata": {},
   "source": [
    "peki listelerin elemanlarının her biri farklı nesneler midir?\n",
    "ve o elemanlardan başka bir liste oluşturduğumda id'leri değişir mi? aynı mı kalır?\n",
    "Bunu inceleyelim:"
   ]
  },
  {
   "cell_type": "code",
   "execution_count": 32,
   "id": "20636089",
   "metadata": {},
   "outputs": [
    {
     "name": "stdout",
     "output_type": "stream",
     "text": [
      "[1, 2, 3]\n",
      "[1, 2, 3]\n"
     ]
    }
   ],
   "source": [
    "l = [1,2,3]\n",
    "\n",
    "m = l[:]\n",
    "print(l)\n",
    "print(m)"
   ]
  },
  {
   "cell_type": "code",
   "execution_count": 33,
   "id": "2ef4112e",
   "metadata": {},
   "outputs": [
    {
     "name": "stdout",
     "output_type": "stream",
     "text": [
      "2267949066544\n",
      "2267949066608\n",
      "False\n"
     ]
    }
   ],
   "source": [
    "print(id(l[0]))\n",
    "print(id(l[2]))\n",
    "\n",
    "print(id(l[0]) == id(l[2]))\n",
    "\n",
    "# listenin içindeki elemanların id'leri farklı. bunların her biri farklı nesneler."
   ]
  },
  {
   "cell_type": "code",
   "execution_count": 34,
   "id": "2f91923c",
   "metadata": {},
   "outputs": [
    {
     "name": "stdout",
     "output_type": "stream",
     "text": [
      "2267949066544\n",
      "2267949066544\n",
      "True\n"
     ]
    }
   ],
   "source": [
    "print(id(l[0]))\n",
    "print(id(m[0]))\n",
    "print(id(l[0]) == id(m[0]))\n",
    "\n",
    "# m listesini l listenin elemanlarından oluşturduğumda;\n",
    "# bu elemanlara atanan id'lerinin değişmediğini görüyoruz\n",
    "\n"
   ]
  },
  {
   "cell_type": "raw",
   "id": "c3c9d158",
   "metadata": {},
   "source": [
    "ÇIKARDIĞIMIZ SONUÇLAR:\n",
    "\n",
    "1. listenin her bir elemanının kendine özgür bir id si var. dolayısıyla listenin her elamanı farklı bir nesnedir.\n",
    "\n",
    "2. listenin bir elemanı başka bir yerde kullanılsa da id'si değişmiyor.\n",
    "\n",
    "3. bir array'i oluşturan elemanların hepsinin id'leri aynıdır. dolayısıyla bunlar aynı objelerdir.\n",
    "\n",
    "4. bir array'in elemanlarını alıp başka bir array'de kullanırsan ve o array'in içinde onlara farklı değerler atarsan orjinal arrayde de değerleri değişir.\n",
    "\n",
    "5. bunu önlemek için orjinal array'in bir kopyasını almalı, alacağın elemanları o kopyadan çekmelisin. "
   ]
  },
  {
   "cell_type": "markdown",
   "id": "e19460a3",
   "metadata": {},
   "source": [
    "## mutable ve immutable kavramlarının açıklanması:"
   ]
  },
  {
   "cell_type": "raw",
   "id": "e2977184",
   "metadata": {},
   "source": [
    "Python'da tüm veriler bir nesne biçiminde saklanır. \n",
    "Bir nesnenin üç özelliği vardır: id, type ve value"
   ]
  },
  {
   "cell_type": "raw",
   "id": "d07a3f8d",
   "metadata": {},
   "source": [
    "type() fonksiyonu içine argüman olarak aldığı objenin tipini verir."
   ]
  },
  {
   "cell_type": "raw",
   "id": "f96d4581",
   "metadata": {},
   "source": [
    "Bir program, verileri bilgisayarın belleğindeki depolama konumlarını (storage locations) temsil eden değişkenlerde saklar. \n",
    "\n",
    "Programın yürütülürken herhangi bir noktadaki bellek konumlarının içeriklerine programın state'i denir."
   ]
  },
  {
   "cell_type": "raw",
   "id": "5454f712",
   "metadata": {},
   "source": [
    "MUTABLE NESNE:\n",
    "\n",
    "mutable bir nesne, değiştirilebilir bir nesnedir ve oluşturulduktan sonra state'i modifiye edilebilir.\n",
    "\n",
    "bir listemiz olsun. bu listemizin ilk değerini değiştirirsek ve onu print edersek listenin değiştiğini görürüz. \n",
    "\n",
    "fakaat listemizin memory adresinin (unique id numarasının) değişmediğini görürüz. yani list nesnemiz hala aynı nesnedir. \n",
    "\n",
    "Fakat list objemizin içindeki bir value değişmiştir. Böyle nesneler mutable nesnelerdir. "
   ]
  },
  {
   "cell_type": "code",
   "execution_count": 35,
   "id": "42443f86",
   "metadata": {},
   "outputs": [
    {
     "name": "stdout",
     "output_type": "stream",
     "text": [
      "['cat', 'dog', 'bunny']\n",
      "Address of my_list is: 2268058214464\n",
      "Address of the first object of my_list: 2267957526832\n"
     ]
    }
   ],
   "source": [
    "my_list = ['cat', 'dog', 'bunny']\n",
    "print(my_list)\n",
    "\n",
    "print('Address of my_list is: {}'.format(id(my_list)))\n",
    "\n",
    "print(\"Address of the first object of my_list: {}\".format(id(my_list[0])))"
   ]
  },
  {
   "cell_type": "code",
   "execution_count": 36,
   "id": "d7178198",
   "metadata": {},
   "outputs": [
    {
     "name": "stdout",
     "output_type": "stream",
     "text": [
      "['mouse', 'dog', 'bunny']\n",
      "Address of my_list is: 2268058214464\n",
      "Address of the first object of my_list: 2268006628720\n"
     ]
    }
   ],
   "source": [
    "my_list[0] = \"mouse\"  # list nesnemin ilk değerini değiştirdim.\n",
    "print(my_list)  # listemin içeriği değişti.\n",
    "\n",
    "print('Address of my_list is: {}'.format(id(my_list)))\n",
    "\n",
    "# fakat listemin id'si değişmedi. hafızadaki adresi aynı dolayısıyla halen aynı nesne.\n",
    "\n",
    "print(\"Address of the first object of my_list: {}\".format(id(my_list[0])))\n",
    "\n",
    "# listemin değiştirdiğim ilk elemanının id'si ise farklı. \n",
    "# list object'imin id'si değişmedi. fakat içindeki ilk object'in id'si değişti.\n",
    "# Bir listeyi değiştirip value'sunu yerinde değiştirdiğimizde, liste aynı adresi tutar.\n",
    "# fakat içindeki değiştirdiğimiz nesnenin artık farklı bir adresi vardır. "
   ]
  },
  {
   "cell_type": "raw",
   "id": "6c4a3344",
   "metadata": {},
   "source": [
    "IMMUTABLE NESNELER:\n",
    "\n",
    "immutable nesneler; değiştirilemeyen ve oluşturulduktan sonra state'i modifiye edilemeyen bir nesnedir.\n",
    "\n",
    "Örneğin Python'da bir string değişmezdir. immutable nesnelerin value'larının üzerine yeni değerler yazamazsınız, elemanlarını değiştiremezsiniz."
   ]
  },
  {
   "cell_type": "code",
   "execution_count": 37,
   "id": "d19b063d",
   "metadata": {},
   "outputs": [
    {
     "data": {
      "text/plain": [
       "'how you like me now'"
      ]
     },
     "execution_count": 37,
     "metadata": {},
     "output_type": "execute_result"
    }
   ],
   "source": [
    "# Bununla birlikte, ona tekrar bir değişken atayabilirsiniz:\n",
    "\n",
    "phrase = 'how you like me now'\n",
    "phrase\n"
   ]
  },
  {
   "cell_type": "code",
   "execution_count": 38,
   "id": "57c67804",
   "metadata": {},
   "outputs": [
    {
     "data": {
      "text/plain": [
       "'do you feel lucky'"
      ]
     },
     "execution_count": 38,
     "metadata": {},
     "output_type": "execute_result"
    }
   ],
   "source": [
    "phrase = 'do you feel lucky'\n",
    "phrase\n",
    "\n",
    "# String nesnesini değiştirmiyor; yeni bir string nesnesi yaratıyor."
   ]
  },
  {
   "cell_type": "raw",
   "id": "92b2e65f",
   "metadata": {},
   "source": [
    "Bunu daha detaylı görmek için daha önce öğrendiğimiz id fonksiyonunu kullanabiliriz. ü\n",
    "id() fonksiyonunun memory adresini (unique id'sini) yazdırdığını hatırlayalım."
   ]
  },
  {
   "cell_type": "code",
   "execution_count": 39,
   "id": "1d56719e",
   "metadata": {},
   "outputs": [
    {
     "name": "stdout",
     "output_type": "stream",
     "text": [
      "Address of phrase is: 2268058306880\n",
      "Address of phrase is: 2268058402128\n"
     ]
    }
   ],
   "source": [
    "phrase = 'how you like me now'\n",
    "print('Address of phrase is: {}'.format(id(phrase)))\n",
    "\n",
    "phrase = 'do you feel lucky'\n",
    "print('Address of phrase is: {}'.format(id(phrase)))"
   ]
  },
  {
   "cell_type": "raw",
   "id": "6ec13ccb",
   "metadata": {},
   "source": [
    "Bir string değişmez olduğundan, yeni bir string nesnesi yarattı.\n",
    "Bellek adreslerinin farklı olduğuna dikkat edelim."
   ]
  },
  {
   "cell_type": "code",
   "execution_count": 40,
   "id": "67b8ad26",
   "metadata": {},
   "outputs": [
    {
     "ename": "TypeError",
     "evalue": "'str' object does not support item assignment",
     "output_type": "error",
     "traceback": [
      "\u001b[1;31m---------------------------------------------------------------------------\u001b[0m",
      "\u001b[1;31mTypeError\u001b[0m                                 Traceback (most recent call last)",
      "Input \u001b[1;32mIn [40]\u001b[0m, in \u001b[0;36m<cell line: 3>\u001b[1;34m()\u001b[0m\n\u001b[0;32m      1\u001b[0m \u001b[38;5;66;03m# İfadenin tek bir karakterini değiştirmeye çalışalım\u001b[39;00m\n\u001b[1;32m----> 3\u001b[0m phrase[\u001b[38;5;241m0\u001b[39m] \u001b[38;5;241m=\u001b[39m \u001b[38;5;124m'\u001b[39m\u001b[38;5;124mD\u001b[39m\u001b[38;5;124m'\u001b[39m\n",
      "\u001b[1;31mTypeError\u001b[0m: 'str' object does not support item assignment"
     ]
    }
   ],
   "source": [
    "# İfadenin tek bir karakterini değiştirmeye çalışalım\n",
    "\n",
    "phrase[0] = 'D'"
   ]
  },
  {
   "cell_type": "raw",
   "id": "72a1d988",
   "metadata": {},
   "source": [
    "stringler immutable olduğu için TypeError alıyoruz. String nesnesini değiştiremeyiz."
   ]
  },
  {
   "cell_type": "raw",
   "id": "d2b3fd11",
   "metadata": {},
   "source": [
    "IMMUTABLE NESNELER: Sayılar (int, float, complex), strings, and tuple'lar. \n",
    "\n",
    "MUTABLE NESNELER :Listeler, dictionaryler ve set (kümeler) (class'larda kodlayacağınız çoğu yeni nesne de mutable'dır.)"
   ]
  },
  {
   "cell_type": "raw",
   "id": "122c34cd",
   "metadata": {},
   "source": [
    "Immutability, bir nesnenin programınız boyunca sabit kalmasını sağlamak için kullanılabilir. Mutable nesnelerin değerleri, herhangi bir zamanda ve yerde değiştirilebilir."
   ]
  },
  {
   "cell_type": "raw",
   "id": "da8adfe4",
   "metadata": {},
   "source": [
    "mutable bir veri tipinin (mesela bir listenin) tek bir değerini değiştirebilirsiniz ve bu, o verinin  (listenin) bellek adresini değiştirmez. \n",
    "\n",
    "Ancak, immutable bir veri tipinin tek bir değerini değiştiremezsiniz. Bu hata verir."
   ]
  }
 ],
 "metadata": {
  "kernelspec": {
   "display_name": "Python 3 (ipykernel)",
   "language": "python",
   "name": "python3"
  },
  "language_info": {
   "codemirror_mode": {
    "name": "ipython",
    "version": 3
   },
   "file_extension": ".py",
   "mimetype": "text/x-python",
   "name": "python",
   "nbconvert_exporter": "python",
   "pygments_lexer": "ipython3",
   "version": "3.9.13"
  },
  "toc": {
   "base_numbering": 1,
   "nav_menu": {},
   "number_sections": false,
   "sideBar": true,
   "skip_h1_title": false,
   "title_cell": "Table of Contents",
   "title_sidebar": "Contents",
   "toc_cell": false,
   "toc_position": {},
   "toc_section_display": true,
   "toc_window_display": true
  }
 },
 "nbformat": 4,
 "nbformat_minor": 5
}
