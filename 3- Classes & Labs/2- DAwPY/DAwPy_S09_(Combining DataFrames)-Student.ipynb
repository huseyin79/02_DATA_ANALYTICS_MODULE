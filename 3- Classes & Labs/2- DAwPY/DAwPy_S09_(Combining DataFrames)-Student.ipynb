{
 "cells": [
  {
   "cell_type": "markdown",
   "metadata": {
    "deletable": false,
    "editable": false
   },
   "source": [
    "<a href=\"https://clarusway.com/contact-us/\"><img align=\"center\" src=\"https://i.ibb.co/B43qn24/officially-licensed-logo.png\" alt=\"Open in Clarusway LMS\" width=\"110\" height=\"200\" title=\"This notebook is licensed by Clarusway IT training school. Please contact the authorized persons about the conditions under which you can use or share.\"></a>"
   ]
  },
  {
   "cell_type": "markdown",
   "metadata": {},
   "source": [
    "___\n",
    "\n",
    "<a href=\"https://lms.clarusway.com/mod/lesson/view.php?id=8514&pageid=8158&startlastseen=no\"><img align=\"center\" src=\"https://i.ibb.co/6Z5pQxD/lmss.png\" alt=\"Open in Clarusway LMS\" width=\"70\" height=\"200\" title=\"Open Clarusway Learning Management Sytem\"></a>\n",
    "\n",
    "<a href=\"https://github.com/clarusway/DS-DE-0322-Students/blob/main/3-%20Classes%26Labs/2-DAwPY/DAwPy_S09_(Combining%20DataFrames).ipynb\"><img align=\"left\" src=\"https://i.ibb.co/n3HWyQX/github-logo.png\" alt=\"Open in Clarusway GitHub\" width=\"100\" height=\"150\" title=\"Open and Execute in Clarusway GitHub Repository\"></a>\n",
    "\n",
    "<a href=\"https://nbviewer.org/github/4dsolutions/clarusway_data_analysis/blob/main/DAwPy_S9_%28Combining_DataFrames%29/DAwPy_S9_%28Combining_DataFrames%29.ipynb\"><img align=\"right\" src=\"https://i.ibb.co/48wtV8c/nbviewer-badge.png\" alt=\"Open in nbviewer\" width=\"130\" height=\"200\" title=\"Open and Execute in nbviewer\"></a><br/>\n",
    "___\n",
    "\n",
    "<a href=\"https://clarusway.com/\"><img align=\"center\" src=\"https://docs.google.com/uc?id=1lY0Uj5R04yMY3-ZppPWxqCr5pvBLYPnV\" alt=\"CLRSWY\" width=\"450\" height=\"200\" title=\"Welcome to Place Where You can Reinvent Yourself\"></a><br/>\n",
    "\n",
    "## <p style=\"background-color:#FDFEFE; font-family:newtimeroman; color:#9d4f8c; font-size:120%; text-align:center; border-radius:10px 10px;\">Way to Reinvent Yourself</p>\n",
    "\n",
    "<p style=\"text-align: center;\"><img src=\"https://i.ibb.co/99DQ3TY/DS-Courses.png\" class=\"img-fluid\" \n",
    "alt=\"CLRSWY\"></p>\n",
    "\n",
    "\n",
    "<img src=https://i.ibb.co/6gCsHd6/1200px-Pandas-logo-svg.png width=\"700\" height=\"200\">\n",
    "\n",
    "## <p style=\"background-color:#FDFEFE; font-family:newtimeroman; color:#060108; font-size:200%; text-align:center; border-radius:10px 10px;\">Data Analysis with Python</p>\n",
    "\n",
    "## <p style=\"background-color:#FDFEFE; font-family:newtimeroman; color:#060108; font-size:150%; text-align:center; border-radius:10px 10px;\">Session - 09</p>\n",
    "\n",
    "## <p style=\"background-color:#FDFEFE; font-family:newtimeroman; color:#4d77cf; font-size:200%; text-align:center; border-radius:10px 10px;\">Combining DataFrames</p>\n",
    "\n",
    "\n",
    "<img src=https://i.ibb.co/PQfjsDJ/hugging-pandas.jpg width=\"350\" height=\"200\">\n",
    "\n",
    "\n",
    "## **``Questions``**\n",
    "- Can we work with data from multiple sources?\n",
    "- If we can, how can we combine data from different datasets?\n",
    "\n",
    "## **``Objectives``**\n",
    "- Combine data from multiple files into a single DataFrame using merge and concat.\n",
    "- Combine two DataFrames using a unique ID found in both DataFrames.\n",
    "- Join DataFrames using common fields (join keys).\n",
    "\n",
    "In many real-life situations, the data that we want to use comes in multiple files. We often have a need to combine these files into a single DataFrame to analyze the data. Pandas provides such facilities for easily combining Series or DataFrame with various kinds of set logic for the indexes and relational algebra functionality in the case of append / concat / join / merge-type operations.\n",
    "\n",
    "**🧐 [SOURCE01](https://dataindependent.com/pandas/pandas-append-pd-dataframe-append/), [SOURCE02](https://pandas.pydata.org/pandas-docs/stable/user_guide/merging.html), [SOURCE03](https://realpython.com/pandas-merge-join-and-concat/), [SOURCE04](https://www.educative.io/edpresso/three-ways-to-combine-dataframes-in-pandas), [SOURCE05](https://medium.com/@essharmav/combining-data-with-merge-join-and-concat-methods-in-pandas-465c6eab9a34), [SOURCE06](https://datascienceparichay.com/article/append-rows-to-a-pandas-dataframe/), [SOURCE07](https://www.tutorialspoint.com/python_pandas/python_pandas_merging_joining.htm), [SOURCE08](https://www.bmc.com/blogs/pandas-group-merge-concatenate-join/), [SOURCE09](https://blog.devgenius.io/combining-data-in-pandas-31c984afceb7) & [VIDEO SOURCE](https://www.youtube.com/watch?v=g7n1MZyYjOM)**\n",
    "*****************************************\n",
    "In this session, you’ll learn how and when to combine your data in Pandas with:\n",
    "\n",
    "- **[df1.append(df2)](https://pandas.pydata.org/docs/reference/api/pandas.DataFrame.append.html)** for appending rows (add rows) of other DataFrame, Series, Dictionary or list of these to another DataFrame.<br>\n",
    "\n",
    "**⚠️ ``WATCH OUT``** You will get ``\"Future Warning\"`` saying that \"The frame.append method is ``deprecated`` and will be removed from pandas in a future version. Use ``pandas.concat`` instead.\"\n",
    "\n",
    "\n",
    "- **``pd.append([df1, df2])``** Appending rows of other to the end of caller, returning a new object.<br> \n",
    "\n",
    "**⚠️ ``WATCH OUT``** You will get an error of ``AttributeError: module 'pandas' has no attribute 'append'``\n",
    "\n",
    "\n",
    "⛔ ``Deprecated since version 1.4.0: Use concat() instead. For further details see Deprecated DataFrame.append and Series.append``\n",
    "*****************************************\n",
    "- **[DataFrame.merge()](https://pandas.pydata.org/docs/reference/api/pandas.DataFrame.merge.html)** for combining data on common columns or indices.\n",
    "- **[DataFrame.join(other)](https://pandas.pydata.org/docs/reference/api/pandas.DataFrame.join.html)** for combining data on a key column or an index.\n",
    "- **[pd.concat()](https://pandas.pydata.org/docs/reference/api/pandas.concat.html)** for combining DataFrames across rows or columns.\n",
    "******************************************\n",
    "**``Key Points``**\n",
    "- Pandas' **``merge``** and **``concat``** can be used to combine ``subsets of a DataFrame``, or even ``data from different files``.\n",
    "- **``join``** function combines DataFrames based on ``index`` or ``column``.\n",
    "- Joining two DataFrames can be done in multiple ways (left, right, and inner) depending on what data must be in the final DataFrame."
   ]
  },
  {
   "cell_type": "markdown",
   "metadata": {},
   "source": [
    "<a id=\"toc\"></a>\n",
    "\n",
    "## <p style=\"background-color:#9d4f8c; font-family:newtimeroman; color:#FFF9ED; font-size:175%; text-align:center; border-radius:10px 10px;\">Content</p>\n",
    "\n",
    "* [IMPORTING LIBRARIES NEEDED IN THIS NOTEBOOK](#0)\n",
    "* [COMBINING DATAFRAMES](#1)\n",
    "* [APPENDING](#2)\n",
    "* [CONCATENATION](#3)    \n",
    "* [MERGING](#4)  \n",
    "* [JOINING](#5)    \n",
    "* [MORE EXAMPLES](#6)  \n",
    "* [THE END OF THE SESSION - 09](#7)"
   ]
  },
  {
   "cell_type": "markdown",
   "metadata": {},
   "source": [
    "## <p style=\"background-color:#9d4f8c; font-family:newtimeroman; color:#FFF9ED; font-size:175%; text-align:center; border-radius:10px 10px;\">Importing Libraries Needed in This Notebook</p>\n",
    "\n",
    "<a id=\"0\"></a>\n",
    "<a href=\"#toc\" class=\"btn btn-primary btn-sm\" role=\"button\" aria-pressed=\"true\" \n",
    "style=\"color:blue; background-color:#dfa8e4\" data-toggle=\"popover\">Content</a>\n",
    "\n",
    "Once you've installed NumPy & Pandas you can import them as a library:"
   ]
  },
  {
   "cell_type": "code",
   "execution_count": null,
   "metadata": {},
   "outputs": [],
   "source": [
    "# !pip install tabulate"
   ]
  },
  {
   "cell_type": "markdown",
   "metadata": {},
   "source": [
    "**🧐 [What is Tabular Data?](https://www.statology.org/tabular-data/)**\n",
    "\n",
    "Tabular data is data that is structured into rows, each of which contains information about some thing. Each row contains the same number of cells (although some of these cells may be empty), which provide values of properties of the thing described by the row. In tabular data, cells within the same column provide values for the same property of the things described by each row. This is what differentiates tabular data from other line-oriented formats."
   ]
  },
  {
   "cell_type": "code",
   "execution_count": 1,
   "metadata": {
    "id": "FAWmWctsv1Vh"
   },
   "outputs": [],
   "source": [
    "import numpy as np\n",
    "import pandas as pd\n",
    "import seaborn as sns\n",
    "from tabulate import tabulate\n",
    "\n",
    "# import warnings\n",
    "# warnings.filterwarnings(\"ignore\")  # to suppress all warnings"
   ]
  },
  {
   "cell_type": "markdown",
   "metadata": {
    "collapsed": true,
    "id": "G8WzD90tv1Vg"
   },
   "source": [
    "## <p style=\"background-color:#9d4f8c; font-family:newtimeroman; color:#FFF9ED; font-size:175%; text-align:center; border-radius:10px 10px;\">Combining DataFrames</p>\n",
    "\n",
    "<a id=\"1\"></a>\n",
    "<a href=\"#toc\" class=\"btn btn-primary btn-sm\" role=\"button\" aria-pressed=\"true\" \n",
    "style=\"color:blue; background-color:#dfa8e4\" data-toggle=\"popover\">Content</a>\n",
    "\n",
    "There are **4 main ways** of combining DataFrames together: ``Appending``, ``Concatenating``, ``Joining`` and ``Merging``. In this lecture we will discuss these 4 methods with examples **🧐 [A Detailed Video Source](https://www.youtube.com/watch?v=g7n1MZyYjOM)**.\n",
    "\n",
    " - **Append** is the specific case (``axis=0, join='outer'``) of concat\n",
    "\n",
    " - **Concat** gives the ``flexibility`` to join based on the ``axis`` ( all rows or all columns)\n",
    " \n",
    " - **Join** is based on the ``indexes`` (set by set_index)/key columns on how variable =[``'left'``, ``'right'``, ``'inner'``, ``'outer'``]\n",
    "\n",
    " - **Merge** is based on any ``particular column`` each of the two dataframes, this columns are variables on like ``'left_on'``, ``'right_on'``, ``'on'``"
   ]
  },
  {
   "cell_type": "markdown",
   "metadata": {
    "id": "MHnw2iOsv1Vh"
   },
   "source": [
    "### Example DataFrames"
   ]
  },
  {
   "cell_type": "code",
   "execution_count": null,
   "metadata": {
    "id": "VNf-LT4cv1Vj"
   },
   "outputs": [],
   "source": [
    "df1 = pd.DataFrame({'A': ['A0', 'A1', 'A2', 'A3'],\n",
    "                    'B': ['B0', 'B1', 'B2', 'B3'],\n",
    "                    'C': ['C0', 'C1', 'C2', 'C3'],\n",
    "                    'D': ['D0', 'D1', 'D2', 'D3']}\n",
    "                    )"
   ]
  },
  {
   "cell_type": "code",
   "execution_count": null,
   "metadata": {
    "id": "BAxUBssCv1Vk"
   },
   "outputs": [],
   "source": [
    "df2 = pd.DataFrame({'A': ['A4', 'A5', 'A6', 'A7'],\n",
    "                    'B': ['B4', 'B5', 'B6', 'B7'],\n",
    "                    'C': ['C4', 'C5', 'C6', 'C7'],\n",
    "                    'D': ['D4', 'D5', 'D6', 'D7']}\n",
    "                    ) "
   ]
  },
  {
   "cell_type": "code",
   "execution_count": null,
   "metadata": {
    "id": "EC3YzPeGv1Vk"
   },
   "outputs": [],
   "source": [
    "df3 = pd.DataFrame({'A': ['A8', 'A9', 'A10', 'A11'],\n",
    "                    'B': ['B8', 'B9', 'B10', 'B11'],\n",
    "                    'C': ['C8', 'C9', 'C10', 'C11'],\n",
    "                    'D': ['D8', 'D9', 'D10', 'D11']}\n",
    "                   )"
   ]
  },
  {
   "cell_type": "code",
   "execution_count": null,
   "metadata": {
    "id": "30WJt7ts9-n9"
   },
   "outputs": [],
   "source": [
    "df4 = pd.DataFrame({'C': ['C12', 'C13', 'C14', 'C15'],\n",
    "                    'A': ['A12', 'A13', 'A14', 'A15'],\n",
    "                    'D': ['D12', 'D13', 'D14', 'D15'],\n",
    "                    'B': ['B12', 'B13', 'B14', 'B15']}\n",
    "                    )"
   ]
  },
  {
   "cell_type": "code",
   "execution_count": null,
   "metadata": {},
   "outputs": [],
   "source": []
  },
  {
   "cell_type": "markdown",
   "metadata": {},
   "source": [
    "Python offers the ability to easily turn certain tabular data types into nicely formatted plain-text tables, and that’s with the [**tabulate()**](https://towardsdatascience.com/how-to-easily-create-tables-in-python-2eaea447d8fd) function.\n",
    "\n",
    "**Table Format Types:**\n",
    "\n",
    "- “plain”\n",
    "- “simple”\n",
    "- “github”\n",
    "- “grid”\n",
    "- “fancy_grid”\n",
    "- “pipe”\n",
    "- “orgtbl”\n",
    "- “jira”\n",
    "- “presto”\n",
    "- “pretty”\n",
    "- “psql”\n",
    "- “rst”\n",
    "- “mediawiki”\n",
    "- “moinmoin”\n",
    "- “youtrack”\n",
    "- “html”\n",
    "- “latex”\n",
    "- “latex_raw”\n",
    "- “latex_booktabs”\n",
    "- “textile”\n",
    "\n",
    "**🧐 [Pandas Display DataFrame in a Table Style](https://www.delftstack.com/howto/python-pandas/pandas-display-dataframe-in-a-table-style/)**"
   ]
  },
  {
   "cell_type": "code",
   "execution_count": null,
   "metadata": {},
   "outputs": [],
   "source": []
  },
  {
   "cell_type": "markdown",
   "metadata": {
    "id": "Qd1HZByX9-oB"
   },
   "source": [
    "## <p style=\"background-color:#9d4f8c; font-family:newtimeroman; color:#FFF9ED; font-size:175%; text-align:center; border-radius:10px 10px;\">Appending</p>\n",
    "\n",
    "<a id=\"2\"></a>\n",
    "<a href=\"#toc\" class=\"btn btn-primary btn-sm\" role=\"button\" aria-pressed=\"true\" \n",
    "style=\"color:blue; background-color:#dfa8e4\" data-toggle=\"popover\">Content</a>\n",
    "\n",
    "**``DataFrame.append(other, ignore_index=False, verify_integrity=False, sort=False)``**\n",
    "\n",
    "The most ``basic way of combining`` method for DataFrames.\n",
    "\n",
    "Pandas **[dataframe.append()](https://pandas.pydata.org/docs/reference/api/pandas.DataFrame.append.html)** function is used to **append rows of other dataframe to the end of the given dataframe,** returning a new dataframe object. Columns not in the original dataframes are added as new columns and the new cells are populated with NaN value **🧐 [Source 01](https://pandas.pydata.org/docs/reference/api/pandas.DataFrame.append.html), [Source 02](https://www.geeksforgeeks.org/python-pandas-dataframe-append/), [Source 03](https://pythonprogramming.net/concatenate-append-data-analysis-python-pandas-tutorial/) & [Source 04](https://www.journaldev.com/33465/pandas-dataframe-append-function)**.\n"
   ]
  },
  {
   "cell_type": "code",
   "execution_count": null,
   "metadata": {},
   "outputs": [],
   "source": []
  },
  {
   "cell_type": "code",
   "execution_count": null,
   "metadata": {},
   "outputs": [],
   "source": []
  },
  {
   "cell_type": "code",
   "execution_count": null,
   "metadata": {},
   "outputs": [],
   "source": []
  },
  {
   "cell_type": "markdown",
   "metadata": {},
   "source": [
    "**\"ignore_index\"** clears the existing index and reset it in the result by setting the ignore_index option to True."
   ]
  },
  {
   "cell_type": "code",
   "execution_count": null,
   "metadata": {},
   "outputs": [],
   "source": []
  },
  {
   "cell_type": "markdown",
   "metadata": {
    "id": "8Xx5dLuFv1Vn"
   },
   "source": [
    "## <p style=\"background-color:#9d4f8c; font-family:newtimeroman; color:#FFF9ED; font-size:175%; text-align:center; border-radius:10px 10px;\">Concatenation</p>\n",
    "\n",
    "<a id=\"3\"></a>\n",
    "<a href=\"#toc\" class=\"btn btn-primary btn-sm\" role=\"button\" aria-pressed=\"true\" \n",
    "style=\"color:blue; background-color:#dfa8e4\" data-toggle=\"popover\">Content</a>\n",
    "\n",
    "**``pandas.concat(objs, axis=0, join='outer', ignore_index=False, keys=None, levels=None, names=None, verify_integrity=False, sort=False, copy=True)``**\n",
    "\n",
    "[**concatenate()**](https://pandas.pydata.org/docs/reference/api/pandas.concat.html) method in Pandas combines objects along a **particular axis** with optional set logic along the other axes.\n",
    "\n",
    "Concatenation basically glues together DataFrames. Keep in mind that dimensions should match along the axis you are concatenating on. You can use **pd.concat** and pass in a list of DataFrames to concatenate together **🧐 [Source 01](https://pandas.pydata.org/docs/reference/api/pandas.concat.html), [Source 02](https://pandas.pydata.org/pandas-docs/stable/user_guide/merging.html), [Source 03](https://towardsdatascience.com/pandas-concat-tricks-you-should-know-to-speed-up-your-data-analysis-cd3d4fdfe6dd) & [Source 04](https://www.journaldev.com/33320/pandas-concat-examples)**:\n",
    "\n",
    "<img src=https://i.ibb.co/gRQGCmm/concat1.png width=\"300\" height=\"200\">\n",
    "<img src=https://i.ibb.co/FKxS7ZW/concat2.png width=\"500\" height=\"200\">\n",
    "<img src=https://i.ibb.co/HGdvFt6/axis-direction.png width=\"500\" height=\"200\">"
   ]
  },
  {
   "cell_type": "code",
   "execution_count": null,
   "metadata": {},
   "outputs": [],
   "source": []
  },
  {
   "cell_type": "code",
   "execution_count": null,
   "metadata": {},
   "outputs": [],
   "source": []
  },
  {
   "cell_type": "code",
   "execution_count": null,
   "metadata": {},
   "outputs": [],
   "source": []
  },
  {
   "cell_type": "code",
   "execution_count": null,
   "metadata": {},
   "outputs": [],
   "source": []
  },
  {
   "cell_type": "code",
   "execution_count": null,
   "metadata": {},
   "outputs": [],
   "source": []
  },
  {
   "cell_type": "code",
   "execution_count": null,
   "metadata": {},
   "outputs": [],
   "source": [
    "df4 = pd.DataFrame({'A': ['A0', 'A1', 'A2', 'A3'],\n",
    "                    'B': ['B0', 'B1', 'B2', 'B3'],\n",
    "                    'C': ['C0', 'C1', 'C2', 'C3'],\n",
    "                    'D': ['D0', 'D1', 'D2', 'D3']},\n",
    "                    index=[0, 1, 2, 3])\n",
    "\n",
    "df5 = pd.DataFrame({'A': ['A4', 'A5', 'A6', 'A7'],\n",
    "                    'B': ['B4', 'B5', 'B6', 'B7'],\n",
    "                    'C': ['C4', 'C5', 'C6', 'C7'],\n",
    "                    'D': ['D4', 'D5', 'D6', 'D7']},\n",
    "                    index=[4, 5, 6, 7]) \n",
    "\n",
    "df6 = pd.DataFrame({'A': ['A8', 'A9', 'A10', 'A11'],\n",
    "                    'B': ['B8', 'B9', 'B10', 'B11'],\n",
    "                    'C': ['C8', 'C9', 'C10', 'C11'],\n",
    "                    'D': ['D8', 'D9', 'D10', 'D11']},\n",
    "                    index=[8, 9, 10, 11])"
   ]
  },
  {
   "cell_type": "code",
   "execution_count": null,
   "metadata": {},
   "outputs": [],
   "source": []
  },
  {
   "cell_type": "code",
   "execution_count": null,
   "metadata": {},
   "outputs": [],
   "source": []
  },
  {
   "cell_type": "code",
   "execution_count": null,
   "metadata": {},
   "outputs": [],
   "source": []
  },
  {
   "cell_type": "code",
   "execution_count": null,
   "metadata": {},
   "outputs": [],
   "source": []
  },
  {
   "cell_type": "code",
   "execution_count": null,
   "metadata": {},
   "outputs": [],
   "source": []
  },
  {
   "cell_type": "markdown",
   "metadata": {},
   "source": [
    "Notice that the concatenation is performed row-wise i.e. 0-axis. Also, the indexes from the source DataFrame objects are preserved in the output.\n",
    "\n",
    "You can find a discussion and more information about **🧐 [\"What are the 'levels', 'keys', and names arguments for in Pandas' concat function?\"](https://stackoverflow.com/questions/49620538/what-are-the-levels-keys-and-names-arguments-for-in-pandas-concat-functio)** on Stackoverflow."
   ]
  },
  {
   "cell_type": "markdown",
   "metadata": {
    "id": "vLzr0_MWv1Vr"
   },
   "source": [
    "## <p style=\"background-color:#9d4f8c; font-family:newtimeroman; color:#FFF9ED; font-size:175%; text-align:center; border-radius:10px 10px;\">Merging</p>\n",
    "\n",
    "<a id=\"4\"></a>\n",
    "<a href=\"#toc\" class=\"btn btn-primary btn-sm\" role=\"button\" aria-pressed=\"true\" \n",
    "style=\"color:blue; background-color:#dfa8e4\" data-toggle=\"popover\">Content</a>\n",
    "\n",
    "**``DataFrame.merge(right, how='inner', on=None, left_on=None, right_on=None, left_index=False, right_index=False, sort=False, suffixes=('_x', '_y'), copy=True, indicator=False, validate=None)``**\n",
    "\n",
    "The [**merge()**](https://pandas.pydata.org/docs/reference/api/pandas.DataFrame.merge.html) function allows you to merge DataFrames together using a similar logic as merging SQL Tables together. For example **🧐 [Source 01](https://www.brainstobytes.com/hands-on-pandas-9-merging-dataframes/), [Source 02](https://www.shanelynn.ie/merge-join-dataframes-python-pandas-index-1/), [Source 03](https://towardsdatascience.com/combining-dataframes-using-pandas-b9e2e83b9869)**:"
   ]
  },
  {
   "cell_type": "code",
   "execution_count": null,
   "metadata": {
    "id": "zdVgX5L4v1Vq"
   },
   "outputs": [],
   "source": [
    "left = pd.DataFrame({'key': ['K0', 'K1', 'K2', 'K3'],\n",
    "                     'A': ['A0', 'A1', 'A2', 'A3'],\n",
    "                     'B': ['B0', 'B1', 'B2', 'B3']})\n",
    "   \n",
    "right = pd.DataFrame({'key': ['K0', 'K1', 'K2', 'K3'],\n",
    "                      'C': ['C0', 'C1', 'C2', 'C3'],\n",
    "                      'D': ['D0', 'D1', 'D2', 'D3']})    "
   ]
  },
  {
   "cell_type": "code",
   "execution_count": null,
   "metadata": {},
   "outputs": [],
   "source": []
  },
  {
   "cell_type": "markdown",
   "metadata": {},
   "source": [
    "**Let's dive into merge()**"
   ]
  },
  {
   "cell_type": "code",
   "execution_count": null,
   "metadata": {},
   "outputs": [],
   "source": []
  },
  {
   "cell_type": "code",
   "execution_count": null,
   "metadata": {
    "id": "8pcmq5jLv1Vr"
   },
   "outputs": [],
   "source": [
    "left2 = pd.DataFrame({'key': ['K0', 'K1', 'K4', 'K5'],\n",
    "                     'A': ['A0', 'A1', 'A2', 'A3'],\n",
    "                     'B': ['B0', 'B1', 'B2', 'B3']})\n",
    "   \n",
    "right2 = pd.DataFrame({'key': ['K0', 'K1', 'K2', 'K3'],\n",
    "                       'C': ['C0', 'C1', 'C2', 'C3'],\n",
    "                       'D': ['D0', 'D1', 'D2', 'D3']}) "
   ]
  },
  {
   "cell_type": "code",
   "execution_count": null,
   "metadata": {},
   "outputs": [],
   "source": []
  },
  {
   "cell_type": "code",
   "execution_count": null,
   "metadata": {},
   "outputs": [],
   "source": []
  },
  {
   "cell_type": "code",
   "execution_count": null,
   "metadata": {},
   "outputs": [],
   "source": []
  },
  {
   "cell_type": "code",
   "execution_count": null,
   "metadata": {},
   "outputs": [],
   "source": []
  },
  {
   "cell_type": "code",
   "execution_count": null,
   "metadata": {},
   "outputs": [],
   "source": []
  },
  {
   "cell_type": "markdown",
   "metadata": {},
   "source": [
    "**Let us do a more complicated example:**"
   ]
  },
  {
   "cell_type": "code",
   "execution_count": null,
   "metadata": {
    "id": "mMsvS7Ynv1Vs"
   },
   "outputs": [],
   "source": [
    "left3 = pd.DataFrame({'key': ['K0', 'K0', 'K1', 'K1'],\n",
    "                     'A': ['A0', 'A1', 'A2', 'A3'],\n",
    "                     'B': ['B0', 'B1', 'B2', 'B3']})\n",
    "   \n",
    "right3 = pd.DataFrame({'key': ['K0', 'K1', 'K2', 'K2'],\n",
    "                       'C': ['C0', 'C1', 'C2', 'C3'],\n",
    "                       'D': ['D0', 'D1', 'D2', 'D3']})"
   ]
  },
  {
   "cell_type": "code",
   "execution_count": null,
   "metadata": {},
   "outputs": [],
   "source": []
  },
  {
   "cell_type": "code",
   "execution_count": null,
   "metadata": {},
   "outputs": [],
   "source": []
  },
  {
   "cell_type": "code",
   "execution_count": null,
   "metadata": {},
   "outputs": [],
   "source": []
  },
  {
   "cell_type": "code",
   "execution_count": null,
   "metadata": {},
   "outputs": [],
   "source": []
  },
  {
   "cell_type": "code",
   "execution_count": null,
   "metadata": {},
   "outputs": [],
   "source": []
  },
  {
   "cell_type": "markdown",
   "metadata": {
    "id": "knAZb_yzv1Vt"
   },
   "source": [
    "As seen, similar to join, merge also combines all the columns from the two tables, with the common columns renamed with the defined suffixes.\n",
    "\n",
    "**🧐 [Pandas Merge DataFrames on Multiple Columns](https://sparkbyexamples.com/pandas/pandas-merge-two-dataframes-on-multiple-columns/)**\n",
    "\n",
    "However, merge provides three ways of flexible control over row-wise alignment.\n",
    "\n",
    "- **The first way** is to use “on = COLUMN NAME”, here the given column must be the common column in both tables. \n",
    "\n",
    "- **The second way** is to use “left_on = COLUMN NAME and right_on = COLUMN NAME” , and it allows to align the two tables using two different columns.\n",
    "\n",
    "- **The third way** is to use “left_index = True and right_index = True”, and the two tables are aligned based on their indexes.\n",
    "\n",
    "Let's dive into more complicated examples:"
   ]
  },
  {
   "cell_type": "code",
   "execution_count": null,
   "metadata": {
    "colab": {
     "base_uri": "https://localhost:8080/",
     "height": 172
    },
    "id": "e-gvph8iv1Vt",
    "outputId": "7728c4d3-db8d-4709-88e9-02ec47f88e35"
   },
   "outputs": [],
   "source": [
    "left4 = pd.DataFrame({'key1': ['K0', 'K0', 'K1', 'K2'],\n",
    "                     'key2': ['K0', 'K1', 'K0', 'K1'],\n",
    "                        'A': ['A0', 'A1', 'A2', 'A3'],\n",
    "                        'B': ['B0', 'B1', 'B2', 'B3']})\n",
    "    \n",
    "right4 = pd.DataFrame({'key1': ['K0', 'K1', 'K1', 'K2'],\n",
    "                       'key2': ['K0', 'K0', 'K0', 'K0'],\n",
    "                       'C': ['C0', 'C1', 'C2', 'C3'],\n",
    "                       'D': ['D0', 'D1', 'D2', 'D3']})"
   ]
  },
  {
   "cell_type": "code",
   "execution_count": null,
   "metadata": {},
   "outputs": [],
   "source": []
  },
  {
   "cell_type": "markdown",
   "metadata": {},
   "source": [
    "You can also explicitly specify the column names you wanted to use for combining. To use column names, define **``\"on\"``** parameter of the **``merge()``** method. This also takes ``a list of names`` when you wanted to merge on multiple columns."
   ]
  },
  {
   "cell_type": "code",
   "execution_count": null,
   "metadata": {},
   "outputs": [],
   "source": []
  },
  {
   "cell_type": "code",
   "execution_count": null,
   "metadata": {},
   "outputs": [],
   "source": []
  },
  {
   "cell_type": "code",
   "execution_count": null,
   "metadata": {},
   "outputs": [],
   "source": []
  },
  {
   "cell_type": "code",
   "execution_count": null,
   "metadata": {},
   "outputs": [],
   "source": []
  },
  {
   "cell_type": "code",
   "execution_count": null,
   "metadata": {},
   "outputs": [],
   "source": [
    "left5 = pd.DataFrame({'lkey': ['x', 'y', 'z', 'x', 'z'],\n",
    "                     'lvalue': [2, 3, 5, 7, 0]})\n",
    "\n",
    "right5 = pd.DataFrame({'rkey': ['a', 'x', 'z', 'b'],\n",
    "                     'rvalue': [7, 8, 9, 10]})"
   ]
  },
  {
   "cell_type": "code",
   "execution_count": null,
   "metadata": {},
   "outputs": [],
   "source": []
  },
  {
   "cell_type": "markdown",
   "metadata": {},
   "source": [
    "When you have ``column names`` on left and right are ``different`` and want to use these as a join column, use **``left_on``** and **``right_on``** parameters. This also takes ``a list of column names`` as values to merge on multiple columns. The left_on will be set to the name of the column in the left DataFrame and right_on will be set to the name of the column in the right DataFrame."
   ]
  },
  {
   "cell_type": "code",
   "execution_count": null,
   "metadata": {},
   "outputs": [],
   "source": []
  },
  {
   "cell_type": "code",
   "execution_count": null,
   "metadata": {},
   "outputs": [],
   "source": []
  },
  {
   "cell_type": "code",
   "execution_count": null,
   "metadata": {},
   "outputs": [],
   "source": []
  },
  {
   "cell_type": "code",
   "execution_count": null,
   "metadata": {},
   "outputs": [],
   "source": []
  },
  {
   "cell_type": "markdown",
   "metadata": {},
   "source": [
    "**Combining DataFrames when Column Names are Different and include different content**"
   ]
  },
  {
   "cell_type": "code",
   "execution_count": null,
   "metadata": {},
   "outputs": [],
   "source": [
    "left6 = pd.DataFrame({'lkey': ['x', 'y', 'z', 'x'],\n",
    "                        'lvalue': [2, 3, 5, 7]})\n",
    "\n",
    "right6 = pd.DataFrame({'rkey': ['a', 'b', 'c', 'b'],\n",
    "                         'rvalue': [7, 8, 9, 10]})"
   ]
  },
  {
   "cell_type": "code",
   "execution_count": null,
   "metadata": {},
   "outputs": [],
   "source": []
  },
  {
   "cell_type": "code",
   "execution_count": null,
   "metadata": {},
   "outputs": [],
   "source": []
  },
  {
   "cell_type": "code",
   "execution_count": null,
   "metadata": {},
   "outputs": [],
   "source": []
  },
  {
   "cell_type": "code",
   "execution_count": null,
   "metadata": {},
   "outputs": [],
   "source": []
  },
  {
   "cell_type": "code",
   "execution_count": null,
   "metadata": {},
   "outputs": [],
   "source": []
  },
  {
   "cell_type": "code",
   "execution_count": null,
   "metadata": {},
   "outputs": [],
   "source": []
  },
  {
   "cell_type": "markdown",
   "metadata": {},
   "source": [
    "🔥 **Duplicated rows when merging dataframes in Python**🔥\n",
    "\n",
    "**🧐 [How to Remove or Prevent Duplicate Columns From a Pandas Merge](https://www.pauldesalvo.com/how-to-remove-or-prevent-duplicate-columns-from-a-pandas-merge/)**\n",
    "\n",
    "The idea is to merge based on the ``matching indices`` as well as ``matching common column values``. The duplicates are caused by duplicate entries in the target table's columns you're joining on. Column duplication usually occurs when the two data frames have columns with the same name and when the columns are not used in the JOIN statement. \n",
    "\n",
    "**How to solve it?**"
   ]
  },
  {
   "cell_type": "code",
   "execution_count": null,
   "metadata": {},
   "outputs": [],
   "source": [
    "# Creating a test data\n",
    "\n",
    "df1 = pd.DataFrame(np.random.randint(100, size=(1000, 2)), columns=['A','B'])\n",
    "df2 = pd.DataFrame(np.random.randint(100, size=(1000, 2)), columns=['B','C'])"
   ]
  },
  {
   "cell_type": "code",
   "execution_count": null,
   "metadata": {},
   "outputs": [],
   "source": []
  },
  {
   "cell_type": "code",
   "execution_count": null,
   "metadata": {},
   "outputs": [],
   "source": []
  },
  {
   "cell_type": "code",
   "execution_count": null,
   "metadata": {},
   "outputs": [],
   "source": []
  },
  {
   "cell_type": "markdown",
   "metadata": {},
   "source": [
    "<img src=https://i.ibb.co/drc7kL7/merge-duplicates.png width=\"400\" height=\"200\">\n",
    "\n",
    "⚠️ [**Warning**](https://pandas.pydata.org/pandas-docs/dev/user_guide/merging.html) ⚠️\n",
    "\n",
    "Joining / merging on duplicate keys can cause a returned frame that is the multiplication of the row dimensions, which may result in memory overflow. It is the user’ s responsibility to manage duplicate values in keys before joining large DataFrames."
   ]
  },
  {
   "cell_type": "markdown",
   "metadata": {},
   "source": [
    "However, since df1 and/or df2 contain only one value for some observations, we do not want these values to be duplicated in the merged dataframe.\n",
    "\n",
    "Users can use the **``validate``** argument to automatically check whether there are unexpected duplicates in their merge keys. Key uniqueness is checked before merge operations and so should protect against memory overflows. Checking key uniqueness is also a good way to ensure user data structures are as expected."
   ]
  },
  {
   "cell_type": "code",
   "execution_count": null,
   "metadata": {},
   "outputs": [],
   "source": []
  },
  {
   "cell_type": "code",
   "execution_count": null,
   "metadata": {},
   "outputs": [],
   "source": []
  },
  {
   "cell_type": "code",
   "execution_count": null,
   "metadata": {},
   "outputs": [],
   "source": []
  },
  {
   "cell_type": "code",
   "execution_count": null,
   "metadata": {},
   "outputs": [],
   "source": [
    "# The first method\n",
    "\n"
   ]
  },
  {
   "cell_type": "code",
   "execution_count": null,
   "metadata": {},
   "outputs": [],
   "source": [
    "# The second method\n",
    "\n"
   ]
  },
  {
   "cell_type": "code",
   "execution_count": null,
   "metadata": {},
   "outputs": [],
   "source": [
    "# The third method\n",
    "\n"
   ]
  },
  {
   "cell_type": "markdown",
   "metadata": {
    "id": "qTtFLlPRv1Vz"
   },
   "source": [
    "## <p style=\"background-color:#9d4f8c; font-family:newtimeroman; color:#FFF9ED; font-size:175%; text-align:center; border-radius:10px 10px;\">Joining</p>\n",
    "\n",
    "<a id=\"5\"></a>\n",
    "<a href=\"#toc\" class=\"btn btn-primary btn-sm\" role=\"button\" aria-pressed=\"true\" \n",
    "style=\"color:blue; background-color:#dfa8e4\" data-toggle=\"popover\">Content</a>\n",
    "\n",
    "**``DataFrame.join(other, on=None, how='left', lsuffix='', rsuffix='', sort=False)``**\n",
    "\n",
    "Joining is a convenient method for combining the columns of two potentially ``differently-indexed DataFrames`` into a single result DataFrame.\n",
    "\n",
    "It will combine all the columns from the two tables, with the ``common columns renamed with the defined lsuffix and rsuffix``.\n",
    "\n",
    "The way that rows from the two tables are combined is defined by how **🧐 [Source 01](https://www.educative.io/edpresso/three-ways-to-combine-dataframes-in-pandas), [Source 02](https://www.educba.com/python-pandas-join/), [Source 03](https://studymachinelearning.com/difference-between-merge-join-and-concatenate/), [Source 04](https://www.educba.com/pandas-dataframe-join/) & [Source 05](https://morioh.com/p/cc5cec94fb2d)**."
   ]
  },
  {
   "cell_type": "markdown",
   "metadata": {},
   "source": [
    "**Combining differently-indexed DataFrames:**"
   ]
  },
  {
   "cell_type": "code",
   "execution_count": null,
   "metadata": {
    "id": "D8ClDvmBv1Vz"
   },
   "outputs": [],
   "source": [
    "left7 = pd.DataFrame({'A': ['A0', 'A1', 'A2'],\n",
    "                     'B': ['B0', 'B1', 'B2']},\n",
    "                      index = ['K0', 'K1', 'K2']) \n",
    "\n",
    "right7 = pd.DataFrame({'C': ['C0', 'C2', 'C3'],\n",
    "                    'D': ['D0', 'D2', 'D3']},\n",
    "                      index = ['K0', 'K2', 'K3'])"
   ]
  },
  {
   "cell_type": "code",
   "execution_count": null,
   "metadata": {},
   "outputs": [],
   "source": []
  },
  {
   "cell_type": "code",
   "execution_count": null,
   "metadata": {},
   "outputs": [],
   "source": []
  },
  {
   "cell_type": "code",
   "execution_count": null,
   "metadata": {},
   "outputs": [],
   "source": []
  },
  {
   "cell_type": "code",
   "execution_count": null,
   "metadata": {},
   "outputs": [],
   "source": []
  },
  {
   "cell_type": "code",
   "execution_count": null,
   "metadata": {},
   "outputs": [],
   "source": []
  },
  {
   "cell_type": "code",
   "execution_count": null,
   "metadata": {},
   "outputs": [],
   "source": []
  },
  {
   "cell_type": "markdown",
   "metadata": {},
   "source": [
    "**Combining two DataFrames with the common columns:**"
   ]
  },
  {
   "cell_type": "code",
   "execution_count": null,
   "metadata": {
    "id": "1W9pamA0v1V1"
   },
   "outputs": [],
   "source": [
    "left8 = pd.DataFrame({'key': ['K0', 'K2', 'K3', 'K4', 'K5', 'K6'],\n",
    "                   'X': ['X0', 'X2', 'X3', 'X4', 'X5', 'X6']})\n",
    "\n",
    "right8 = pd.DataFrame({'key': ['K0', 'K2', 'K3'],\n",
    "                      'Y': ['Y0', 'Y2', 'Y3']})"
   ]
  },
  {
   "cell_type": "code",
   "execution_count": null,
   "metadata": {},
   "outputs": [],
   "source": []
  },
  {
   "cell_type": "markdown",
   "metadata": {
    "id": "cyQCFQ4ov1V1"
   },
   "source": [
    "Join DataFrames using their indexes."
   ]
  },
  {
   "cell_type": "code",
   "execution_count": null,
   "metadata": {},
   "outputs": [],
   "source": []
  },
  {
   "cell_type": "code",
   "execution_count": null,
   "metadata": {},
   "outputs": [],
   "source": []
  },
  {
   "cell_type": "markdown",
   "metadata": {
    "id": "RYM57kyqv1V1"
   },
   "source": [
    "If you want to join using the key (common) columns, you need to set key to be the index in both df and other.<br>\n",
    "The joined DataFrame will have key as its index."
   ]
  },
  {
   "cell_type": "code",
   "execution_count": null,
   "metadata": {},
   "outputs": [],
   "source": []
  },
  {
   "cell_type": "markdown",
   "metadata": {
    "id": "oveOViptv1V2"
   },
   "source": [
    "Another option to join using the key columns is to use the ``\"on\"`` parameter.<br>\n",
    "DataFrame.join always uses ``other’s index`` but we can use any column in df.<br>\n",
    "This method preserves the original DataFrame’s index in the result."
   ]
  },
  {
   "cell_type": "code",
   "execution_count": null,
   "metadata": {},
   "outputs": [],
   "source": []
  },
  {
   "cell_type": "code",
   "execution_count": null,
   "metadata": {},
   "outputs": [],
   "source": []
  },
  {
   "cell_type": "markdown",
   "metadata": {},
   "source": [
    "**Which to use and when to use?**\n",
    "\n",
    "- The **``join()``** method works best when we are joining DataFrames on their ``indexes``.\n",
    "- The **``merge()``** method is more ``versatile`` and allows us to specify ``columns``, besides the ``index`` to join on, for both DataFrames.\n",
    "- We cannot use **``concat()``** if our DataFrames’ ``dimensions do not match along the axis`` in which we are trying to concatenate.\n",
    "- `The **``concat()``** has inner (default) and outer joins only, whereas **``merge()``** has left, right, outer, and inner (default) joins."
   ]
  },
  {
   "cell_type": "markdown",
   "metadata": {},
   "source": [
    "## <p style=\"background-color:#9d4f8c; font-family:newtimeroman; color:#FFF9ED; font-size:175%; text-align:center; border-radius:10px 10px;\">More Examples</p>\n",
    "\n",
    "<a id=\"6\"></a>\n",
    "<a href=\"#toc\" class=\"btn btn-primary btn-sm\" role=\"button\" aria-pressed=\"true\" \n",
    "style=\"color:blue; background-color:#dfa8e4\" data-toggle=\"popover\">Content</a>"
   ]
  },
  {
   "cell_type": "code",
   "execution_count": null,
   "metadata": {},
   "outputs": [],
   "source": []
  },
  {
   "cell_type": "code",
   "execution_count": null,
   "metadata": {},
   "outputs": [],
   "source": []
  },
  {
   "cell_type": "code",
   "execution_count": null,
   "metadata": {},
   "outputs": [],
   "source": []
  },
  {
   "cell_type": "code",
   "execution_count": null,
   "metadata": {},
   "outputs": [],
   "source": []
  },
  {
   "cell_type": "code",
   "execution_count": null,
   "metadata": {},
   "outputs": [],
   "source": []
  },
  {
   "cell_type": "code",
   "execution_count": null,
   "metadata": {},
   "outputs": [],
   "source": []
  },
  {
   "cell_type": "code",
   "execution_count": null,
   "metadata": {},
   "outputs": [],
   "source": []
  },
  {
   "cell_type": "code",
   "execution_count": null,
   "metadata": {},
   "outputs": [],
   "source": []
  },
  {
   "cell_type": "code",
   "execution_count": null,
   "metadata": {},
   "outputs": [],
   "source": []
  },
  {
   "cell_type": "code",
   "execution_count": null,
   "metadata": {},
   "outputs": [],
   "source": []
  },
  {
   "cell_type": "code",
   "execution_count": null,
   "metadata": {},
   "outputs": [],
   "source": []
  },
  {
   "cell_type": "code",
   "execution_count": null,
   "metadata": {},
   "outputs": [],
   "source": []
  },
  {
   "cell_type": "code",
   "execution_count": null,
   "metadata": {},
   "outputs": [],
   "source": []
  },
  {
   "cell_type": "markdown",
   "metadata": {},
   "source": [
    "## Difference between Merge, join, and concatenate\n",
    "\n",
    "The merge() and join() methods are the DataFrame method, not a series method. The concat() method is the pandas’ method which provides the functionality to combine the pandas’ objects such as DataFrame and Series.\n",
    "\n",
    "**Merge** \n",
    "\n",
    " - The merge() function used to merge the DataFrames with database-style join such as inner join, outer join, left join, right join.\n",
    " - Combining exactly two DataFrames.\n",
    " - The join is done on columns or indexes.\n",
    " - If joining columns on columns, the DataFrame indexes will be ignored.\n",
    " - If joining indexes on indexes or indexes on a column, the index will be passed on.\n",
    " \n",
    "\n",
    "**Join** \n",
    "\n",
    " - The join() function used to join two or more pandas DataFrames/Series horizontally.\n",
    " - Join() uses merge internally for the index-on-index (by default) and column(s)-on-index join.\n",
    " - Aligns the calling DataFrame’s column(s) or index with the other objects’ index (and not the columns).\n",
    " - Defaults to left join with options for right, inner and outer join\n",
    " \n",
    "\n",
    "**Concat** \n",
    "\n",
    " - concatenate two or more pandas DataFrames/Series vertically or horizontally.\n",
    " - Aligns only on the index by specifying the axis parameter.\n",
    " - Defaults to outer join with the option for inner join"
   ]
  },
  {
   "cell_type": "markdown",
   "metadata": {},
   "source": [
    "## <p style=\"background-color:#FDFEFE; font-family:newtimeroman; color:#9d4f8c; font-size:150%; text-align:center; border-radius:10px 10px;\">The End of The Session - 09</p>\n",
    "\n",
    "<a id=\"7\"></a>\n",
    "<a href=\"#toc\" class=\"btn btn-primary btn-sm\" role=\"button\" aria-pressed=\"true\" \n",
    "style=\"color:blue; background-color:#dfa8e4\" data-toggle=\"popover\">Content</a>"
   ]
  },
  {
   "cell_type": "markdown",
   "metadata": {
    "id": "N9BQGCuxv1V4"
   },
   "source": [
    "<p style=\"text-align: center;\"><img src=\"https://i.ibb.co/99DQ3TY/DS-Courses.png\" class=\"img-fluid\" \n",
    "alt=\"CLRSWY\"></p>\n",
    "\n",
    "<a href=\"https://clarusway.com/\"><img align=\"center\" src=\"https://docs.google.com/uc?id=1lY0Uj5R04yMY3-ZppPWxqCr5pvBLYPnV\" alt=\"CLRSWY\" title=\"Way to Reinvent Yourself\"></a><br/>\n",
    "\n",
    "\n",
    "## <p style=\"background-color:#FDFEFE; font-family:newtimeroman; color:#9d4f8c; font-size:120%; text-align:center; border-radius:10px 10px;\">Way to Reinvent Yourself</p>\n",
    "___"
   ]
  },
  {
   "cell_type": "markdown",
   "metadata": {
    "deletable": false,
    "editable": false
   },
   "source": [
    "<a href=\"https://clarusway.com/contact-us/\"><img align=\"center\" src=\"https://i.ibb.co/B43qn24/officially-licensed-logo.png\" alt=\"Open in Clarusway LMS\" width=\"110\" height=\"200\" title=\"This notebook is licensed by Clarusway IT training school. Please contact the authorized persons about the conditions under which you can use or share.\"></a>"
   ]
  }
 ],
 "metadata": {
  "colab": {
   "name": "DAwPy-S7 (Concatenating, Merging and Joining).ipynb",
   "provenance": []
  },
  "kernelspec": {
   "display_name": "Python 3 (ipykernel)",
   "language": "python",
   "name": "python3"
  },
  "language_info": {
   "codemirror_mode": {
    "name": "ipython",
    "version": 3
   },
   "file_extension": ".py",
   "mimetype": "text/x-python",
   "name": "python",
   "nbconvert_exporter": "python",
   "pygments_lexer": "ipython3",
   "version": "3.9.13"
  },
  "toc": {
   "base_numbering": 1,
   "nav_menu": {},
   "number_sections": false,
   "sideBar": true,
   "skip_h1_title": false,
   "title_cell": "Table of Contents",
   "title_sidebar": "Contents",
   "toc_cell": false,
   "toc_position": {},
   "toc_section_display": true,
   "toc_window_display": true
  }
 },
 "nbformat": 4,
 "nbformat_minor": 1
}
