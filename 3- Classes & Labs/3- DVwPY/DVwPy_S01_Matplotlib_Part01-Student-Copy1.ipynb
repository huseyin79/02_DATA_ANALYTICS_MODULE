{
 "cells": [
  {
   "cell_type": "markdown",
   "metadata": {},
   "source": [
    "___\n",
    "\n",
    "<a href=\"https://lms.clarusway.com/mod/lesson/view.php?id=21116\"><img align=\"center\" src=\"https://i.ibb.co/6Z5pQxD/lmss.png\" alt=\"Open in Clarusway LMS\" width=\"70\" height=\"200\" title=\"Open Clarusway Learning Management Sytem\"></a>\n",
    "\n",
    "<a href=\"https://github.com/clarusway/DS-DE-0322-Students/blob/main/3-%20Classes%26Labs/2-DAwPY/DAwPy_S03_(Pandas%20Series).ipynb\"><img align=\"left\" src=\"https://i.ibb.co/n3HWyQX/github-logo.png\" alt=\"Open in Clarusway GitHub\" width=\"100\" height=\"150\" title=\"Open and Execute in Clarusway GitHub Repository\"></a>\n",
    "\n",
    "<a href=\"https://nbviewer.org/github/4dsolutions/clarusway_data_analysis/blob/main/DVwPY_S1/1-DVwPy_S1_Matplotlib.ipynb\"><img align=\"right\" src=\"https://i.ibb.co/48wtV8c/nbviewer-badge.png\" alt=\"Open in nbviewer\" width=\"130\" height=\"200\" title=\"Open and Execute in nbviewer\"></a><br/>\n",
    "___\n",
    "\n",
    "<a href=\"https://clarusway.com/\"><img align=\"center\" src=\"https://docs.google.com/uc?id=1lY0Uj5R04yMY3-ZppPWxqCr5pvBLYPnV\" alt=\"CLRSWY\" width=\"450\" height=\"200\" title=\"Welcome to Place Where You can Reinvent Yourself\"></a><br/>\n",
    "\n",
    "## <p style=\"background-color:#FDFEFE; font-family:newtimeroman; color:#9d4f8c; font-size:120%; text-align:center; border-radius:10px 10px;\">Way to Reinvent Yourself</p>\n",
    "\n",
    "<p style=\"text-align: center;\"><img src=\"https://i.ibb.co/99DQ3TY/DS-Courses.png\" class=\"img-fluid\" \n",
    "alt=\"CLRSWY\"></p>\n",
    "\n",
    "\n",
    "\n",
    "![image.png](https://i.ibb.co/4gc0nbk/matplotlib.png)\n",
    "\n",
    "## <p style=\"background-color:#FDFEFE; font-family:newtimeroman; color:#060108; font-size:200%; text-align:center; border-radius:10px 10px;\">Data Visualization with Python</p>\n",
    "\n",
    "## <p style=\"background-color:#FDFEFE; font-family:newtimeroman; color:#060108; font-size:150%; text-align:center; border-radius:10px 10px;\">Session - 01 (Mathplotlib - Part-01)</p>\n",
    "\n",
    "Matplotlib is a two-dimensional (2D) plotting library for Python. It was created by John D. Hunter, an American neurobiologist, and was first released in 2002. With Matplotlib, you can generate lines, scatter graphs, bar charts, histograms, error bars, etc, and even do simple 3D plots using the mplot3d toolkit. Matplotlib has a module called Pyplot, which provides an interface similar to MatLab.\n",
    "\n",
    "[MATPLOTLIB Source](https://medium.com/@developit19/matplotlib-python-651fd07e9234)"
   ]
  },
  {
   "cell_type": "markdown",
   "metadata": {},
   "source": [
    "<a id=\"toc\"></a>\n",
    "\n",
    "## <p style=\"background-color:#9d4f8c; font-family:newtimeroman; color:#FFF9ED; font-size:150%; text-align:center; border-radius:10px 10px;\">CONTENT</p>\n",
    "\n",
    "* [DATA VISUALIZATION WITH MATPLOTLIB](#0)\n",
    "* [INSTALLING MATPLOTLIB LIBRARY TO LOCAL DIRECTORY](#1)\n",
    "* [IMPORTING LIBRARIES NEEDED IN THIS NOTEBOOK](#2)\n",
    "    * [What does matplotlib inline do?](#2.1)\n",
    "* [INTRODUCTION](#3)\n",
    "* [MATPLOTLIB BASICS](#4)\n",
    "* [LINEPLOTS (SERIES/DATAFRAMES)](#5) \n",
    "    * [What is a line plot and why use it?](#5.1)\n",
    "* [2 METHODS USED TO CREATE PLOTS IN MATPLOTLIB](#6)        \n",
    "* [FUNCTIONAL METHOD](#7)\n",
    "* [OBJECT-ORIENTED METHOD](#8)\n",
    "    * [Basic Graph](#8)\n",
    "    * [Multiple-Line in the Same Graph](#8.1)\n",
    "    * [Adding Axes](#8.2)\n",
    "    * [Subplot](#8.3)\n",
    "    * [How to Manipulate Space Manually?](#8.4)\n",
    "    * [How to Manipulate Color?](#8.5)\n",
    "    * [How to Manipulate Figure Size?](#8.6)\n",
    "* [LINEWIDTH & LINESTYLES & MARKERS & MARKERSIZE & COLOR](#9)\n",
    "    * [Linewidth](#9)\n",
    "    * [LineStyles](#9.1)\n",
    "    * [Markers](#9.2)\n",
    "    * [Color](#9.3)\n",
    "    * [Legend](#9.4)\n",
    "    * [How to Plot Range & Add Extra Line](#9.5)\n",
    "    * [Some Additional Exercises](#9.6)\n",
    "* [OTHER PLOTS](#10)\n",
    "* [PANDAS](#11)\n",
    "* [THE END OF SESSION 01 / MATPLOTLIB - PART-01](#12)    "
   ]
  },
  {
   "cell_type": "markdown",
   "metadata": {},
   "source": [
    "## <p style=\"background-color:#9d4f8c; font-family:newtimeroman; color:#FFF9ED; font-size:150%; text-align:center; border-radius:10px 10px;\">A Picture is Worth a Thousand Words</p>\n",
    "\n",
    "``\"A picture is worth a thousand words\"`` is an adage in multiple languages meaning that complex and sometimes multiple ideas can be conveyed by a single still image, which conveys its meaning or essence more effectively than a mere verbal/written description.\n",
    "\n",
    "<img src=https://i.ibb.co/YNrQDHr/oldman-baby.jpg width=\"500\" height=\"200\">"
   ]
  },
  {
   "cell_type": "markdown",
   "metadata": {
    "id": "yqLjI2_eUmfZ"
   },
   "source": [
    "## <p style=\"background-color:#9d4f8c; font-family:newtimeroman; color:#FFF9ED; font-size:150%; text-align:center; border-radius:10px 10px;\">DATA VISUALIZATION WITH MATPLOTLIB</p>\n",
    "\n",
    "<a id=\"0\"></a>\n",
    "<a href=\"#toc\" class=\"btn btn-primary btn-sm\" role=\"button\" aria-pressed=\"true\" \n",
    "style=\"color:blue; background-color:#dfa8e4\" data-toggle=\"popover\">Content</a>\n",
    "\n",
    "## Objectives\n",
    "\n",
    "After completing this part (Data Visualization) of your Data Analytics (DA) Module you will be able to:\n",
    "\n",
    "-   Create Data Visualization with Python and\n",
    "-   Use various Python libraries for visualization\n",
    "    - [Matplotlib](https://matplotlib.org/)\n",
    "    - [Seaborn](https://seaborn.pydata.org/)"
   ]
  },
  {
   "cell_type": "markdown",
   "metadata": {},
   "source": [
    "## <p style=\"background-color:#9d4f8c; font-family:newtimeroman; color:#FFF9ED; font-size:150%; text-align:center; border-radius:10px 10px;\">INSTALLING MATPLOTLIB LIBRARY TO LOCAL DIRECTORY</p>\n",
    "\n",
    "<a id=\"1\"></a>\n",
    "<a href=\"#toc\" class=\"btn btn-primary btn-sm\" role=\"button\" aria-pressed=\"true\" \n",
    "style=\"color:blue; background-color:#dfa8e4\" data-toggle=\"popover\">Content</a>\n",
    "\n",
    "[SOURCE](https://www.tutorialspoint.com/how-to-install-matplotlib-in-python)\n",
    "\n",
    "**To use matplotlib, we need to install it.**\n",
    "\n",
    "- Step 1 − Make sure Python and pip is preinstalled on your system\n",
    "\n",
    "Type the following commands in the command prompt to check is python and pip is installed on your system.\n",
    "\n",
    "**To check Python**\n",
    "\n",
    "- python --version\n",
    "\n",
    "If python is successfully installed, the version of python installed on your system will be displayed.\n",
    "\n",
    "**To check pip**\n",
    "\n",
    "- pip -V\n",
    "\n",
    "The version of pip will be displayed, if it is successfully installed on your system.\n",
    "\n"
   ]
  },
  {
   "cell_type": "code",
   "execution_count": null,
   "metadata": {
    "id": "-huz4SqU_ziE"
   },
   "outputs": [],
   "source": [
    "import numpy as np  # DAwPy\n",
    "import pandas as pd  # DAwPy\n",
    "\n",
    "import matplotlib\n",
    "import matplotlib.pyplot as plt\n",
    "%matplotlib inline\n",
    "\n",
    "import seaborn as sns   # Stats-1 & DAwPy\n",
    "from scipy import stats   # Stats-1 & DAwPy\n",
    "from scipy.stats import kurtosis, skew   # Stats-1 & DAwPy\n",
    "\n",
    "import warnings;\n",
    "warnings.filterwarnings('ignore')"
   ]
  },
  {
   "cell_type": "code",
   "execution_count": null,
   "metadata": {},
   "outputs": [],
   "source": [
    "from platform import python_version\n",
    "\n",
    "print(python_version())"
   ]
  },
  {
   "cell_type": "code",
   "execution_count": null,
   "metadata": {},
   "outputs": [],
   "source": [
    "!pip --version"
   ]
  },
  {
   "cell_type": "markdown",
   "metadata": {},
   "source": [
    "- Step 2 − Install Matplotlib\n",
    "\n",
    "Matplotlib can be installed using pip. The following command is run in the command prompt to install Matplotlib.\n",
    "\n",
    "- pip install matplotlib\n",
    "\n",
    "This command will start downloading and installing packages related to the matplotlib library. Once done, the message of successful installation will be displayed.\n",
    "\n"
   ]
  },
  {
   "cell_type": "code",
   "execution_count": null,
   "metadata": {
    "id": "exjg1cu4U-x_"
   },
   "outputs": [],
   "source": [
    "# !pip install matplotlib"
   ]
  },
  {
   "cell_type": "markdown",
   "metadata": {},
   "source": [
    "\n",
    "- Step 3 − Check if it is installed successfully\n",
    "\n",
    "To verify that matplotlib is successfully installed on your system, execute the following command in the command prompt. If matplotlib is successfully installed, the version of matplotlib installed will be displayed.\n",
    "\n",
    "- import matplotlib\n",
    "\n",
    "- matplotlib.__version__\n"
   ]
  },
  {
   "cell_type": "code",
   "execution_count": null,
   "metadata": {},
   "outputs": [],
   "source": [
    "import matplotlib\n",
    "print(matplotlib.__version__)"
   ]
  },
  {
   "cell_type": "markdown",
   "metadata": {},
   "source": [
    "## <p style=\"background-color:#9d4f8c; font-family:newtimeroman; color:#FFF9ED; font-size:150%; text-align:center; border-radius:10px 10px;\">IMPORTING LIBRARIES NEEDED IN THIS NOTEBOOK</p>\n",
    "\n",
    "<a id=\"2\"></a>\n",
    "<a href=\"#toc\" class=\"btn btn-primary btn-sm\" role=\"button\" aria-pressed=\"true\" \n",
    "style=\"color:blue; background-color:#dfa8e4\" data-toggle=\"popover\">Content</a>"
   ]
  },
  {
   "cell_type": "code",
   "execution_count": null,
   "metadata": {},
   "outputs": [],
   "source": [
    "import pandas as pd   # DAwPy\n",
    "import numpy as np   # DAwPy\n",
    "\n",
    "import seaborn as sns   # Stats-1 & DAwPy\n",
    "from scipy import stats   # Stats-1 & DAwPy\n",
    "from scipy.stats import kurtosis, skew   # Stats-1 & DAwPy\n",
    "\n",
    "import matplotlib\n",
    "import matplotlib.pyplot as plt  \n",
    "# %matplotlib inline   \n",
    "\n",
    "# import warnings;\n",
    "# warnings.filterwarnings('ignore')\n",
    "\n",
    "plt.rcParams[\"figure.figsize\"] = (6, 4)"
   ]
  },
  {
   "cell_type": "markdown",
   "metadata": {},
   "source": [
    "matplotlib.rcParams is a matplotlib.RcParams object, it is a dictionary-like variable which store some rc settings in matplotlib.\n",
    "\n",
    "**🧐[Customizing Matplotlib with style sheets and rcParams](https://matplotlib.org/stable/tutorials/introductory/customizing.html)**\n",
    "\n",
    "**🧐[Understand Matplotlib.rcParams: A Beginner Guide – Matplotlib Tutorial](https://www.tutorialexample.com/understand-matplotlib-rcparams-a-beginner-guide-matplotlib-tutorial/)**\n",
    "\n",
    "**🧐[MATPLOTLIB Official GitHub Account](https://github.com/matplotlib/matplotlib/tree/main/lib/matplotlib)**\n",
    "\n",
    "**🧐[PYPLOT Official GitHub Account](https://github.com/matplotlib/matplotlib/blob/main/lib/matplotlib/pyplot.py)**\n",
    "\n",
    "[Pyplot](https://www.geeksforgeeks.org/pyplot-in-matplotlib/) is  a Matplotlib module and a state-based interface to a Matplotlib module which provides a MATLAB-like interface. Each pyplot function makes some changes to a figure: e.g., creates a figure, creates a plotting area in a figure, plots some lines in a plotting area, decorates the plot with labels, etc. The various plots we can utilize using Pyplot are Line Plot, Histogram, Scatter, 3D Plot, Image, Contour, and Polar."
   ]
  },
  {
   "cell_type": "markdown",
   "metadata": {},
   "source": [
    "#### <p style=\"background-color:#9d4f8c; font-family:newtimeroman; color:#FFF9ED; font-size:150%; text-align:LEFT; border-radius:10px 10px;\">What does matplotlib inline do?</p>\n",
    "\n",
    "<a id=\"2.1\"></a>\n",
    "<a href=\"#toc\" class=\"btn btn-primary btn-sm\" role=\"button\" aria-pressed=\"true\" \n",
    "style=\"color:blue; background-color:#dfa8e4\" data-toggle=\"popover\">Content</a>\n",
    "\n",
    "%matplotlib inline sets the backend of matplotlib to the 'inline' backend: With this backend, the output of plotting commands is displayed inline within frontends like the Jupyter notebook, directly below the code cell that produced it. The resulting plots will then also be stored in the notebook document. So the plots will appear inside the notebook.\n",
    "\n",
    "**🧐 [Purpose of \"%matplotlib inline\"](https://stackoverflow.com/questions/43027980/purpose-of-matplotlib-inline#:~:text=%25matplotlib%20inline%20sets%20the%20backend,stored%20in%20the%20notebook%20document.)**"
   ]
  },
  {
   "cell_type": "code",
   "execution_count": null,
   "metadata": {},
   "outputs": [],
   "source": []
  },
  {
   "cell_type": "code",
   "execution_count": null,
   "metadata": {},
   "outputs": [],
   "source": []
  },
  {
   "cell_type": "code",
   "execution_count": null,
   "metadata": {},
   "outputs": [],
   "source": []
  },
  {
   "cell_type": "markdown",
   "metadata": {},
   "source": [
    "If you are using Matplotlib from within a script, the function **[plt.show()](https://matplotlib.org/stable/api/_as_gen/matplotlib.pyplot.show.html)** is your friend. ``plt.show()`` starts an event loop, looks for all currently active figure objects, and opens one or more interactive windows that display your figure or figures.\n",
    "\n",
    "The plt.show() command does a lot under the hood, as it must interact with your system's interactive graphical backend. The details of this operation can vary greatly from system to system and even installation to installation, but matplotlib does its best to hide all these details from you.\n",
    "\n",
    "One thing to be aware of: the ``plt.show()`` command should be used only once per Python session, and is most often seen at the very end of the script. Multiple ``show()`` commands can lead to unpredictable backend-dependent behavior, and should mostly be avoided.\n",
    "\n",
    "**🧐 [I dont understand what plt.show()...does](https://stackoverflow.com/questions/66379699/i-dont-understand-what-plt-show-does)**\n",
    "\n",
    "**🧐 [When is plt.Show() required to show a plot and when is it not?](https://www.tutorialspoint.com/when-is-plt-show-required-to-show-a-plot-and-when-is-it-not)**"
   ]
  },
  {
   "cell_type": "code",
   "execution_count": null,
   "metadata": {},
   "outputs": [],
   "source": []
  },
  {
   "cell_type": "code",
   "execution_count": null,
   "metadata": {
    "id": "ttwaP6Jw6SE4"
   },
   "outputs": [],
   "source": [
    "# Let us see what \"%matplotlib inline\" does \n",
    "\n",
    "%matplotlib inline"
   ]
  },
  {
   "cell_type": "markdown",
   "metadata": {},
   "source": [
    "**🧐 [What is matplotlib inline in python](https://pythonguides.com/what-is-matplotlib-inline/)**"
   ]
  },
  {
   "cell_type": "code",
   "execution_count": null,
   "metadata": {},
   "outputs": [],
   "source": [
    "# Lets check out the version of jupyter we use\n",
    "\n",
    "!jupyter --version"
   ]
  },
  {
   "cell_type": "markdown",
   "metadata": {
    "id": "qrUP3Wk_6Qj4"
   },
   "source": [
    "**📌 NOTE 📌: If you are using an older version of jupyter, you need to run a \"magic\" command to see the plots inline with the notebook. Users of jupyter notebook 1.0 and above, don't need to run the cell below:**"
   ]
  },
  {
   "cell_type": "code",
   "execution_count": null,
   "metadata": {},
   "outputs": [],
   "source": []
  },
  {
   "cell_type": "markdown",
   "metadata": {
    "id": "hMOQzL_tVchP"
   },
   "source": [
    "## <p style=\"background-color:#9d4f8c; font-family:newtimeroman; color:#FFF9ED; font-size:150%; text-align:center; border-radius:10px 10px;\">INTRODUCTION</p>\n",
    "\n",
    "<a id=\"3\"></a>\n",
    "<a href=\"#toc\" class=\"btn btn-primary btn-sm\" role=\"button\" aria-pressed=\"true\" \n",
    "style=\"color:blue; background-color:#dfa8e4\" data-toggle=\"popover\">Content</a>\n",
    "\n",
    "<img src=https://i.ibb.co/jTZFN49/matplotlib1.png width=\"800\" height=\"200\">\n",
    "\n",
    "``matplotlib.pyplot`` is a collection of functions that make matplotlib work like MATLAB. Each pyplot function makes some change to a figure: e.g., creates a figure, creates a plotting area in a figure, plots some lines in a plotting area, decorates the plot with labels, etc.\n",
    "\n",
    "In matplotlib.pyplot various states are preserved across function calls, so that it keeps track of things like the current figure and plotting area, and the plotting functions are directed to the current axes (please note that \"axes\" here and in most places in the documentation refers to the axes part of a figure and not the strict mathematical term for more than one axis).\n",
    "\n",
    "Matplotlib is a two-dimensional (2D) plotting library for Python. It was created by John D. Hunter, an American neurobiologist, and was first released in 2002. With Matplotlib, you can generate lines, scatter graphs, bar charts, histograms, error bars, etc, and even do simple 3D plots using the mplot3d toolkit. Matplotlib has a module called Pyplot, which provides an interface similar to MatLab."
   ]
  },
  {
   "cell_type": "markdown",
   "metadata": {
    "id": "kAiNOakp_ziI"
   },
   "source": [
    "## <p style=\"background-color:#9d4f8c; font-family:newtimeroman; color:#FFF9ED; font-size:150%; text-align:center; border-radius:10px 10px;\">MATPLOTLIB BASICS</p>\n",
    "\n",
    "<a id=\"4\"></a>\n",
    "<a href=\"#toc\" class=\"btn btn-primary btn-sm\" role=\"button\" aria-pressed=\"true\" \n",
    "style=\"color:blue; background-color:#dfa8e4\" data-toggle=\"popover\">Content</a>\n",
    "\n",
    "To make necessary statistical inferences, it becomes necessary to visualize your data and Matplotlib is one such solution for the Python users. It is a very powerful plotting library useful for those working with Python and NumPy. The most used module of Matplotib is Pyplot which provides an interface like MATLAB but instead, it uses Python and it is open source.\n",
    "\n",
    "Pyplot is a module of Matplotlib which provides simple functions to add plot elements like lines, images, text, etc. to the current axes in the current figure.\n",
    "\n",
    "**🧐 [Source](https://towardsdatascience.com/matplotlib-tutorial-learn-basics-of-pythons-powerful-plotting-library-b5d1b8f67596)**\n",
    "\n",
    "<img src=https://i.ibb.co/TMT6zRJ/anatomy-of-afigure.png width=\"500\" height=\"200\">\n",
    "\n",
    "**🧐 [Anatomy of a figure](https://matplotlib.org/3.5.0/gallery/showcase/anatomy.html)**"
   ]
  },
  {
   "cell_type": "code",
   "execution_count": null,
   "metadata": {},
   "outputs": [],
   "source": []
  },
  {
   "cell_type": "code",
   "execution_count": null,
   "metadata": {},
   "outputs": [],
   "source": []
  },
  {
   "cell_type": "code",
   "execution_count": null,
   "metadata": {},
   "outputs": [],
   "source": []
  },
  {
   "cell_type": "raw",
   "metadata": {},
   "source": [
    "plt.plot(*args, scalex=True, scaley=True, data=None, **kwargs)\n",
    "\n",
    "Docstring:\n",
    "Plot y versus x as lines and/or markers.\n",
    "\n",
    "Parameters\n",
    "----------\n",
    "x, y : array-like or scalar\n",
    "    The horizontal / vertical coordinates of the data points.\n",
    "    *x* values are optional and default to ``range(len(y))``.\n",
    "\n",
    "    Commonly, these parameters are 1D arrays.\n",
    "\n",
    "    They can also be scalars, or two-dimensional (in that case, the columns represent separate data sets).\n",
    "\n",
    "    These arguments cannot be passed as keywords.\n",
    "\n",
    "fmt : str, optional\n",
    "    A format string, e.g. 'ro' for red circles. See the *Notes*\n",
    "    section for a full description of the format strings.\n",
    "\n",
    "    Format strings are just an abbreviation for quickly setting basic line properties. All of these and more can also be controlled by keyword arguments.\n",
    "\n",
    "    This argument cannot be passed as keyword.\n",
    "\n",
    "data : indexable object, optional\n",
    "    An object with labelled data. If given, provide the label names to plot in *x* and *y*.\n",
    "\n",
    "    .. note::\n",
    "        Technically there's a slight ambiguity in calls where the second label is a valid *fmt*. ``plot('n', 'o', data=obj)``\n",
    "        could be ``plt(x, y)`` or ``plt(y, fmt)``. In such cases, the former interpretation is chosen, but a warning is issued.\n",
    "        You may suppress the warning by adding an empty format string ``plot('n', 'o', '', data=obj)``.\n",
    "\n",
    "Returns\n",
    "-------\n",
    "list of `.Line2D`\n",
    "    A list of lines representing the plotted data.\n",
    "\n",
    "Other Parameters\n",
    "----------------\n",
    "scalex, scaley : bool, default: True\n",
    "    These parameters determine if the view limits are adapted to the data limits. The values are passed on to `autoscale_view`.\n",
    "\n",
    "**kwargs : `.Line2D` properties, optional\n",
    "    *kwargs* are used to specify properties like a line label (for auto legends), linewidth, antialiasing, marker face color.\n",
    "    Example::\n",
    "\n",
    "    >>> plot([1, 2, 3], [1, 2, 3], 'go-', label='line 1', linewidth=2)\n",
    "    >>> plot([1, 2, 3], [1, 4, 9], 'rs', label='line 2')\n",
    "\n",
    "    If you specify multiple lines with one plot call, the kwargs apply to all those lines. In case the label object is iterable, each element is used as labels for each set of data.\n",
    "\n",
    "    Here is a list of available `.Line2D` properties:\n",
    "\n",
    "    Properties:\n",
    "    agg_filter: a filter function, which takes a (m, n, 3) float array and a dpi value, and returns a (m, n, 3) array\n",
    "    alpha: scalar or None\n",
    "    animated: bool\n",
    "    antialiased or aa: bool\n",
    "    clip_box: `.Bbox`\n",
    "    clip_on: bool\n",
    "    clip_path: Patch or (Path, Transform) or None\n",
    "    color or c: color\n",
    "    dash_capstyle: `.CapStyle` or {'butt', 'projecting', 'round'}\n",
    "    dash_joinstyle: `.JoinStyle` or {'miter', 'round', 'bevel'}\n",
    "    dashes: sequence of floats (on/off ink in points) or (None, None)\n",
    "    data: (2, N) array or two 1D arrays\n",
    "    drawstyle or ds: {'default', 'steps', 'steps-pre', 'steps-mid', 'steps-post'}, default: 'default'\n",
    "    figure: `.Figure`\n",
    "    fillstyle: {'full', 'left', 'right', 'bottom', 'top', 'none'}\n",
    "    gid: str\n",
    "    in_layout: bool\n",
    "    label: object\n",
    "    linestyle or ls: {'-', '--', '-.', ':', '', (offset, on-off-seq), ...}\n",
    "    linewidth or lw: float\n",
    "    marker: marker style string, `~.path.Path` or `~.markers.MarkerStyle`\n",
    "    markeredgecolor or mec: color\n",
    "    markeredgewidth or mew: float\n",
    "    markerfacecolor or mfc: color\n",
    "    markerfacecoloralt or mfcalt: color\n",
    "    markersize or ms: float\n",
    "    markevery: None or int or (int, int) or slice or list[int] or float or (float, float) or list[bool]\n",
    "    path_effects: `.AbstractPathEffect`\n",
    "    picker: float or callable[[Artist, Event], tuple[bool, dict]]\n",
    "    pickradius: float\n",
    "    rasterized: bool\n",
    "    sketch_params: (scale: float, length: float, randomness: float)\n",
    "    snap: bool or None\n",
    "    solid_capstyle: `.CapStyle` or {'butt', 'projecting', 'round'}\n",
    "    solid_joinstyle: `.JoinStyle` or {'miter', 'round', 'bevel'}\n",
    "    transform: unknown\n",
    "    url: str\n",
    "    visible: bool\n",
    "    xdata: 1D array\n",
    "    ydata: 1D array\n",
    "    zorder: float\n",
    "\n",
    "**Markers**\n",
    "\n",
    "=============   ===============================\n",
    "character       description\n",
    "=============   ===============================\n",
    "``'.'``         point marker\n",
    "``','``         pixel marker\n",
    "``'o'``         circle marker\n",
    "``'v'``         triangle_down marker\n",
    "``'^'``         triangle_up marker\n",
    "``'<'``         triangle_left marker\n",
    "``'>'``         triangle_right marker\n",
    "``'1'``         tri_down marker\n",
    "``'2'``         tri_up marker\n",
    "``'3'``         tri_left marker\n",
    "``'4'``         tri_right marker\n",
    "``'8'``         octagon marker\n",
    "``'s'``         square marker\n",
    "``'p'``         pentagon marker\n",
    "``'P'``         plus (filled) marker\n",
    "``'*'``         star marker\n",
    "``'h'``         hexagon1 marker\n",
    "``'H'``         hexagon2 marker\n",
    "``'+'``         plus marker\n",
    "``'x'``         x marker\n",
    "``'X'``         x (filled) marker\n",
    "``'D'``         diamond marker\n",
    "``'d'``         thin_diamond marker\n",
    "``'|'``         vline marker\n",
    "``'_'``         hline marker\n",
    "=============   ===============================\n",
    "\n",
    "**Line Styles**\n",
    "\n",
    "=============    ===============================\n",
    "character        description\n",
    "=============    ===============================\n",
    "``'-'``          solid line style\n",
    "``'--'``         dashed line style\n",
    "``'-.'``         dash-dot line style\n",
    "``':'``          dotted line style\n",
    "=============    ===============================\n",
    "\n",
    "Example format strings::\n",
    "\n",
    "    'b'    # blue markers with default shape\n",
    "    'or'   # red circles\n",
    "    '-g'   # green solid line\n",
    "    '--'   # dashed line with default color\n",
    "    '^k:'  # black triangle_up markers connected by a dotted line\n",
    "\n",
    "**Colors**\n",
    "\n",
    "The supported color abbreviations are the single letter codes\n",
    "\n",
    "=============    ===============================\n",
    "character        color\n",
    "=============    ===============================\n",
    "``'b'``          blue\n",
    "``'g'``          green\n",
    "``'r'``          red\n",
    "``'c'``          cyan\n",
    "``'m'``          magenta\n",
    "``'y'``          yellow\n",
    "``'k'``          black\n",
    "``'w'``          white\n",
    "=============    ===============================\n",
    "\n",
    "and the ``'CN'`` colors that index into the default property cycle."
   ]
  },
  {
   "cell_type": "markdown",
   "metadata": {
    "id": "Q9HSVsPKWRwf"
   },
   "source": [
    "## <p style=\"background-color:#9d4f8c; font-family:newtimeroman; color:#FFF9ED; font-size:150%; text-align:center; border-radius:10px 10px;\">LINEPLOTS (SERIES/DATAFRAMES)</p>\n",
    "\n",
    "<a id=\"5\"></a>\n",
    "<a href=\"#toc\" class=\"btn btn-primary btn-sm\" role=\"button\" aria-pressed=\"true\" \n",
    "style=\"color:blue; background-color:#dfa8e4\" data-toggle=\"popover\">Content</a>"
   ]
  },
  {
   "cell_type": "markdown",
   "metadata": {
    "id": "bIAEioNSWWB6"
   },
   "source": [
    "#### <p style=\"background-color:#9d4f8c; font-family:newtimeroman; color:#FFF9ED; font-size:150%; text-align:LEFT; border-radius:10px 10px;\">What is a line plot and why use it?</p>\n",
    "\n",
    "<a id=\"5.1\"></a>\n",
    "<a href=\"#toc\" class=\"btn btn-primary btn-sm\" role=\"button\" aria-pressed=\"true\" \n",
    "style=\"color:blue; background-color:#dfa8e4\" data-toggle=\"popover\">Content</a>\n",
    "\n",
    "A line chart or line plot is a type of plot which displays information as a series of data points called 'markers' connected by straight line segments. It is a basic type of chart common in many fields.\n",
    "Use line plot when you have a continuous data set. These are best suited for trend-based visualizations of data over a period of time.\n"
   ]
  },
  {
   "cell_type": "code",
   "execution_count": null,
   "metadata": {},
   "outputs": [],
   "source": []
  },
  {
   "cell_type": "code",
   "execution_count": null,
   "metadata": {},
   "outputs": [],
   "source": []
  },
  {
   "cell_type": "code",
   "execution_count": null,
   "metadata": {},
   "outputs": [],
   "source": []
  },
  {
   "cell_type": "code",
   "execution_count": null,
   "metadata": {},
   "outputs": [],
   "source": []
  },
  {
   "cell_type": "markdown",
   "metadata": {},
   "source": [
    "You may have noticed that by default, ``plt.plot(x, y)`` creates the plot as ``a line plot`` (meaning that all of the values are connected by a continuous line across the plot).\n",
    "\n",
    "**🧐 [Customize Your Plots Using Matplotlib](https://www.earthdatascience.org/courses/scientists-guide-to-plotting-data-in-python/plot-with-matplotlib/introduction-to-matplotlib-plots/customize-plot-colors-labels-matplotlib/)**"
   ]
  },
  {
   "cell_type": "markdown",
   "metadata": {},
   "source": [
    "**plt. show()** starts an event loop, looks for all currently active figure objects, and opens one or more interactive windows that display your figure or figures.\n",
    "\n",
    "To require or not required depending on where your script is. There are 2 contexts.\n",
    "\n",
    "- Matplotlib is used in a terminal or scripts, plt.show() is a must.\n",
    "\n",
    "- Matplotlib is used in a IPython shell or a notebook (ex: Kaggle), plt.show() is unnecessary.\n",
    "\n",
    "[SOURCE 01](https://stackoverflow.com/questions/54422714/when-is-plt-show-required-to-show-a-plot-and-when-is-it-not) & [SOURCE 02](https://jakevdp.github.io/PythonDataScienceHandbook/04.00-introduction-to-matplotlib.html#:~:text=Plotting%20from%20a%20script,display%20your%20figure%20or%20figures.)\n",
    "\n",
    "The plot() function in pyplot just adds a line to the axes object. You can add as many lines as you want, and when you run the plt.show() function they will all be displayed in the same figure with the same axes.\n",
    "\n",
    "To avoid this in Jupyter, you can use the line magic\n",
    "\n",
    "``%matplotlib inline``\n",
    "\n",
    "and you won’t have to run plt.show() at all, since then all plots are displayed inline when you run plt.plot()."
   ]
  },
  {
   "cell_type": "code",
   "execution_count": null,
   "metadata": {},
   "outputs": [],
   "source": []
  },
  {
   "cell_type": "markdown",
   "metadata": {},
   "source": [
    "It generates a figure with default values for both the x-axis and y-axis. By default, the x-axis and y-axis ticks are assigned as equally spaced values ranging from minimum to maximum value of the respective axis. To change the default values of ticks for x-axis, we can use the ``matplotlib.pyplot.xticks()`` method which we will cover later.\n",
    "\n",
    "**🧐 [Set X Axis Values in Matplotlib](https://www.delftstack.com/howto/matplotlib/set-x-axis-values-matplotlib/#:~:text=By%20default%2C%20the%20X%2Daxis,value%20of%20the%20respective%20axis.)**"
   ]
  },
  {
   "cell_type": "code",
   "execution_count": null,
   "metadata": {},
   "outputs": [],
   "source": []
  },
  {
   "cell_type": "code",
   "execution_count": null,
   "metadata": {},
   "outputs": [],
   "source": []
  },
  {
   "cell_type": "code",
   "execution_count": null,
   "metadata": {},
   "outputs": [],
   "source": []
  },
  {
   "cell_type": "code",
   "execution_count": null,
   "metadata": {},
   "outputs": [],
   "source": []
  },
  {
   "cell_type": "code",
   "execution_count": null,
   "metadata": {},
   "outputs": [],
   "source": []
  },
  {
   "cell_type": "code",
   "execution_count": null,
   "metadata": {},
   "outputs": [],
   "source": [
    "def multiplier_by_four (x):\n",
    "    y = np.array(x)**4\n",
    "    return y"
   ]
  },
  {
   "cell_type": "code",
   "execution_count": null,
   "metadata": {},
   "outputs": [],
   "source": [
    "x=[-5, -4, -3, -2, -1, 0, 1, 2, 3, 4, ]"
   ]
  },
  {
   "cell_type": "code",
   "execution_count": null,
   "metadata": {},
   "outputs": [],
   "source": []
  },
  {
   "cell_type": "code",
   "execution_count": null,
   "metadata": {},
   "outputs": [],
   "source": [
    "# What happens when we create and try to plot two arrays having different length?\n",
    "\n",
    "xpoints = np.array([1, 2, 3, 4, 5, 6, 7, 8])\n",
    "ypoints = np.array([3, 8, 1, 10, 6, 12, 14, 9, 3])\n",
    "\n",
    "print(\"xpoints     :\", xpoints)\n",
    "print(\"ypoints     :\", ypoints)\n",
    "print(\"len_xpoints :\", len(xpoints))\n",
    "print(\"len_ypoints :\", len(ypoints))"
   ]
  },
  {
   "cell_type": "code",
   "execution_count": null,
   "metadata": {},
   "outputs": [],
   "source": []
  },
  {
   "cell_type": "markdown",
   "metadata": {},
   "source": [
    "**The values at x axis must be the same size as those at y axis:**\n",
    "\n",
    "- The length of the x and y arguments sent to plot, must be the same.\n",
    "- We are trying to plot 8 xpoints versus 9 ypoints. We have to either add 1 more xpoints, or remove 1 ypoints"
   ]
  },
  {
   "cell_type": "code",
   "execution_count": null,
   "metadata": {},
   "outputs": [],
   "source": [
    "# Let's redesign the array of \"xpoints\"\n",
    "\n",
    "xpoints = np.array([1, 2, 3, 4, 5, 6, 7, 8, 9])\n",
    "ypoints = np.array([3, 8, 1, 10, 6, 12, 14, 9, 3])\n",
    "\n",
    "print(\"xpoints     :\", xpoints)\n",
    "print(\"ypoints     :\", ypoints)\n",
    "print(\"len_xpoints :\", len(xpoints))\n",
    "print(\"len_ypoints :\", len(ypoints))"
   ]
  },
  {
   "cell_type": "code",
   "execution_count": null,
   "metadata": {},
   "outputs": [],
   "source": []
  },
  {
   "cell_type": "code",
   "execution_count": null,
   "metadata": {},
   "outputs": [],
   "source": []
  },
  {
   "cell_type": "markdown",
   "metadata": {},
   "source": [
    "With Pyplot, you can use the ``title()`` function to set a title for the plot and the ``xlabel()`` and ``ylabel()`` functions to set a label for the x- and y-axis.\n",
    "\n",
    "**🧐 [Matplotlib Labels and Title](https://www.w3schools.com/Python/matplotlib_labels.asp)**"
   ]
  },
  {
   "cell_type": "markdown",
   "metadata": {},
   "source": [
    "### How to save the figure to our local?"
   ]
  },
  {
   "cell_type": "code",
   "execution_count": null,
   "metadata": {
    "id": "Vq8Pbeag_ziJ"
   },
   "outputs": [],
   "source": [
    "# Let's create two Python lists named \"age\" and \"salary\"\n",
    "\n",
    "age = [25, 27, 29, 31, 33, 35, 37, 39, 41, 43, 45]\n",
    "\n",
    "salary = [38496, 42000, 46752, 49320, 53200, 56000, 62316, 64928, 67317, 68748, 73752]"
   ]
  },
  {
   "cell_type": "code",
   "execution_count": null,
   "metadata": {},
   "outputs": [],
   "source": []
  },
  {
   "cell_type": "code",
   "execution_count": null,
   "metadata": {},
   "outputs": [],
   "source": []
  },
  {
   "cell_type": "code",
   "execution_count": null,
   "metadata": {},
   "outputs": [],
   "source": []
  },
  {
   "cell_type": "code",
   "execution_count": null,
   "metadata": {},
   "outputs": [],
   "source": []
  },
  {
   "cell_type": "code",
   "execution_count": null,
   "metadata": {},
   "outputs": [],
   "source": []
  },
  {
   "cell_type": "code",
   "execution_count": null,
   "metadata": {},
   "outputs": [],
   "source": []
  },
  {
   "cell_type": "markdown",
   "metadata": {},
   "source": [
    "**🧐 [How to Save Plots To Image Files Using Matplotlib](https://towardsdatascience.com/save-plots-matplotlib-1a16b3432d8a)**\n",
    "\n",
    "If you want to save matplotlib figures as image files programmatically, then all you need is matplotlib.pyplot.savefig() function. Simply pass the desired filename (and even location) and the figure will be stored on your disk.\n",
    "\n",
    "Alternatively, you can still save the figure by clicking on the save icon that is shown at the bottom of the interactive window when calling plt.show(). Starting with matplotlib 1.4.0 there is now an an interactive backend for use in the notebook."
   ]
  },
  {
   "cell_type": "code",
   "execution_count": null,
   "metadata": {},
   "outputs": [],
   "source": []
  },
  {
   "cell_type": "code",
   "execution_count": null,
   "metadata": {},
   "outputs": [],
   "source": []
  },
  {
   "cell_type": "markdown",
   "metadata": {},
   "source": [
    "## <p style=\"background-color:#9d4f8c; font-family:newtimeroman; color:#FFF9ED; font-size:150%; text-align:center; border-radius:10px 10px;\">2 METHODS USED TO CREATE PLOTS IN MATPLOTLIB</p>\n",
    "\n",
    "<a id=\"6\"></a>\n",
    "<a href=\"#toc\" class=\"btn btn-primary btn-sm\" role=\"button\" aria-pressed=\"true\" \n",
    "style=\"color:blue; background-color:#dfa8e4\" data-toggle=\"popover\">Content</a>\n",
    "\n",
    "The Object-Oriented and the Pyplot interfaces (Functional)\n",
    "\n",
    "There are essentially two ways to use Matplotlib:\n",
    "\n",
    "- **Object-Oriented interface (OO)**: Explicitly create Figures and Axes, and call methods on them (the \"Object-Oriented (OO) Style\").\n",
    "\n",
    "- **pyplot interface / functional interface**: Rely on pyplot to automatically create and manage the Figures and Axes, and use pyplot functions for plotting.\n",
    "\n",
    "**Pyplot Interface:**<br>\n",
    "``matplotlib`` on the surface is made to imitate MATLAB's method of generating plots, which is called ``pyplot``. This interface shares a lot of similarities in syntax and methodology with MATLAB. All the pyplot commands make changes and modify the same figure. This is a state-based interface, where the state (i.e., the figure) is preserved through various function calls (i.e., the methods that modify the figure). This interface allows us to quickly and easily generate plots. The state-based nature of the interface allows us to add elements and/or modify the plot as we need, when we need it.\n",
    "\n",
    "**Object-Oriented Interface:**<br>\n",
    "When using the OO interface, it helps to know how the ``matplotlib`` structures its plots. The final plot that we see as the output is a \"Figure\" object. The ``Figure`` object is the top level container for all the other elements that make up the graphic image. These “other” elements are called ``Artists``. The Figure object can be thought of as a canvas, upon which different artists act to create the final graphic image. This ``Figure`` can contain any number of various artists.\n",
    "\n",
    "Understanding this hierarchy of Figure, Artist, Axes and Axis is immensely important, because it plays a crucial role in how me make an animation in matplotlib.\n",
    "\n",
    "The ``functional interface`` (also known as ``pyplot interface``) allows us to interactively create simple plots. The ``object-oriented interface`` on the other hand gives us more control when we create figures that contain multiple plots. While it is easy to quickly generate plots with the ``matplotlib.pyplot`` module, the use of object-oriented approach is recommended as it gives more control and customization of your plots.\n",
    "\n",
    "[Official Matplotlib SOURCE](https://matplotlib.org/stable/tutorials/introductory/usage.html)\n",
    "\n",
    "**🧐 [Matplotlib and the Object-Oriented Interface](https://danielmuellerkomorowska.com/2020/07/05/matplotlib-and-the-object-oriented-interface/)**\n",
    "\n",
    "**🧐 [Pyplot vs. Object-Oriented interface](https://matplotlib.org/matplotblog/posts/pyplot-vs-object-oriented-interface/)**"
   ]
  },
  {
   "cell_type": "markdown",
   "metadata": {},
   "source": [
    "<img src=https://i.ibb.co/t8yVKt1/Capture1.png width=\"700\" height=\"200\">"
   ]
  },
  {
   "cell_type": "markdown",
   "metadata": {},
   "source": [
    "<img src=https://i.ibb.co/dLMbS51/Capture2.png width=\"800\" height=\"200\">"
   ]
  },
  {
   "cell_type": "markdown",
   "metadata": {},
   "source": [
    "<img src=https://i.ibb.co/ySrRdXg/Capture3.png width=\"800\" height=\"200\">"
   ]
  },
  {
   "cell_type": "markdown",
   "metadata": {
    "id": "tWAbx-0X_ziK"
   },
   "source": [
    "## <p style=\"background-color:#9d4f8c; font-family:newtimeroman; color:#FFF9ED; font-size:150%; text-align:center; border-radius:10px 10px;\">1 - FUNCTIONAL METHOD</p>\n",
    "\n",
    "<a id=\"7\"></a>\n",
    "<a href=\"#toc\" class=\"btn btn-primary btn-sm\" role=\"button\" aria-pressed=\"true\" \n",
    "style=\"color:blue; background-color:#dfa8e4\" data-toggle=\"popover\">Content</a>"
   ]
  },
  {
   "cell_type": "code",
   "execution_count": null,
   "metadata": {},
   "outputs": [],
   "source": [
    "# Let's create some lists of object\n",
    "\n",
    "age = [25, 27, 29, 31, 33, 35, 37, 39, 41, 43, 45]\n",
    "\n",
    "salary = [38496, 42000, 46752, 49320, 53200, 56000, 62316, 64928, 67317, 68748, 73752]\n",
    "\n",
    "salary_2 = [45372, 48876, 53850, 57287, 63016, 65998, 70003, 70000, 71496, 75370, 83640]"
   ]
  },
  {
   "cell_type": "code",
   "execution_count": null,
   "metadata": {},
   "outputs": [],
   "source": []
  },
  {
   "cell_type": "code",
   "execution_count": null,
   "metadata": {},
   "outputs": [],
   "source": []
  },
  {
   "cell_type": "markdown",
   "metadata": {
    "id": "LlRAb3dr_ziK"
   },
   "source": [
    "## <p style=\"background-color:#9d4f8c; font-family:newtimeroman; color:#FFF9ED; font-size:150%; text-align:center; border-radius:10px 10px;\">2 - OBJECT-ORIENTED METHOD</p>\n",
    "\n",
    "### <p style=\"background-color:#9d4f8c; font-family:newtimeroman; color:#FFF9ED; font-size:150%; text-align:LEFT; border-radius:10px 10px;\">Basic Graph</p>\n",
    "\n",
    "<a id=\"8\"></a>\n",
    "<a href=\"#toc\" class=\"btn btn-primary btn-sm\" role=\"button\" aria-pressed=\"true\" \n",
    "style=\"color:blue; background-color:#dfa8e4\" data-toggle=\"popover\">Content</a>"
   ]
  },
  {
   "cell_type": "code",
   "execution_count": null,
   "metadata": {},
   "outputs": [],
   "source": []
  },
  {
   "cell_type": "code",
   "execution_count": null,
   "metadata": {},
   "outputs": [],
   "source": []
  },
  {
   "cell_type": "code",
   "execution_count": null,
   "metadata": {},
   "outputs": [],
   "source": []
  },
  {
   "cell_type": "code",
   "execution_count": null,
   "metadata": {},
   "outputs": [],
   "source": []
  },
  {
   "cell_type": "markdown",
   "metadata": {
    "id": "PlXWwWQI_ziL"
   },
   "source": [
    "### <p style=\"background-color:#9d4f8c; font-family:newtimeroman; color:#FFF9ED; font-size:150%; text-align:LEFT; border-radius:10px 10px;\">Multiple-Line in the Same Graph</p>\n",
    "\n",
    "<a id=\"8.1\"></a>\n",
    "<a href=\"#toc\" class=\"btn btn-primary btn-sm\" role=\"button\" aria-pressed=\"true\" \n",
    "style=\"color:blue; background-color:#dfa8e4\" data-toggle=\"popover\">Content</a>\n",
    "\n",
    "You can also plot more than one line on the same chart/graph using matplotlib in Python. In this part, we will learn how to draw multiple lines in one graph with the help of matplotlib."
   ]
  },
  {
   "cell_type": "markdown",
   "metadata": {},
   "source": [
    "**Let's do it with Functional Method:**"
   ]
  },
  {
   "cell_type": "code",
   "execution_count": null,
   "metadata": {},
   "outputs": [],
   "source": []
  },
  {
   "cell_type": "markdown",
   "metadata": {},
   "source": [
    "**Let's do it with Object-Oriented Method:**"
   ]
  },
  {
   "cell_type": "code",
   "execution_count": null,
   "metadata": {},
   "outputs": [],
   "source": []
  },
  {
   "cell_type": "code",
   "execution_count": null,
   "metadata": {
    "id": "TgTBEz3JvCpz"
   },
   "outputs": [],
   "source": [
    "# Let's create some objects\n",
    "\n",
    "x = np.arange(0, 11)\n",
    "y = x.copy()\n",
    "z = x*2\n",
    "t = np.log(x)"
   ]
  },
  {
   "cell_type": "code",
   "execution_count": null,
   "metadata": {},
   "outputs": [],
   "source": []
  },
  {
   "cell_type": "code",
   "execution_count": null,
   "metadata": {},
   "outputs": [],
   "source": []
  },
  {
   "cell_type": "markdown",
   "metadata": {
    "id": "dBcWtb4j_ziM"
   },
   "source": [
    "### <p style=\"background-color:#9d4f8c; font-family:newtimeroman; color:#FFF9ED; font-size:150%; text-align:LEFT; border-radius:10px 10px;\">Adding Axes</p>\n",
    "\n",
    "<a id=\"8.2\"></a>\n",
    "<a href=\"#toc\" class=\"btn btn-primary btn-sm\" role=\"button\" aria-pressed=\"true\" \n",
    "style=\"color:blue; background-color:#dfa8e4\" data-toggle=\"popover\">Content</a>\n",
    "\n",
    "We can add axes to a figure in matplotlib by passing a list argument in the ``add_axes()`` method. ``add_axes()`` adds a single axes at a location specified by [left, bottom, width, height] in fractions of figure width or height. Often more than one Axes is wanted on a figure at a time, usually organized into a regular grid. \n",
    "\n",
    "**🧐 [What is add_axes matplotlib](https://pythonguides.com/add_axes-matplotlib/)**\n",
    "\n",
    "**🧐 [Arranging multiple Axes in a Figure](https://matplotlib.org/stable/tutorials/intermediate/arranging_axes.html)**\n"
   ]
  },
  {
   "cell_type": "code",
   "execution_count": null,
   "metadata": {},
   "outputs": [],
   "source": []
  },
  {
   "cell_type": "code",
   "execution_count": null,
   "metadata": {},
   "outputs": [],
   "source": []
  },
  {
   "cell_type": "code",
   "execution_count": null,
   "metadata": {},
   "outputs": [],
   "source": []
  },
  {
   "cell_type": "markdown",
   "metadata": {
    "id": "GEAjpWyx_ziN"
   },
   "source": [
    "### <p style=\"background-color:#9d4f8c; font-family:newtimeroman; color:#FFF9ED; font-size:150%; text-align:LEFT; border-radius:10px 10px;\">Subplot</p>\n",
    "\n",
    "<a id=\"8.3\"></a>\n",
    "<a href=\"#toc\" class=\"btn btn-primary btn-sm\" role=\"button\" aria-pressed=\"true\" \n",
    "style=\"color:blue; background-color:#dfa8e4\" data-toggle=\"popover\">Content</a>\n",
    "\n",
    "<img src=https://i.ibb.co/QQ2BV8Q/Capture5.png width=\"800\" height=\"200\">"
   ]
  },
  {
   "cell_type": "markdown",
   "metadata": {},
   "source": [
    "**In Functional Method**, the ``subplot()`` function takes three arguments that describes the layout of the figure. The layout is organized in rows and columns, which are represented by the first and second argument. The third argument represents the index of the current plot. If no arguments are passed, it creates an empty figure."
   ]
  },
  {
   "cell_type": "code",
   "execution_count": null,
   "metadata": {},
   "outputs": [],
   "source": []
  },
  {
   "cell_type": "code",
   "execution_count": null,
   "metadata": {},
   "outputs": [],
   "source": []
  },
  {
   "cell_type": "code",
   "execution_count": null,
   "metadata": {},
   "outputs": [],
   "source": []
  },
  {
   "cell_type": "markdown",
   "metadata": {},
   "source": [
    "**In Object-Oriented Method**, ``plt.subplots()`` function creates a figure and a grid of subplots with a single call. It specifies the number of rows and columns of the subplot grid. The function returns a figure object and a tuple containing axes objects equal to nrows*ncols. Each axes object is accessible by its index."
   ]
  },
  {
   "cell_type": "code",
   "execution_count": null,
   "metadata": {},
   "outputs": [],
   "source": []
  },
  {
   "cell_type": "code",
   "execution_count": null,
   "metadata": {},
   "outputs": [],
   "source": []
  },
  {
   "cell_type": "code",
   "execution_count": null,
   "metadata": {},
   "outputs": [],
   "source": []
  },
  {
   "cell_type": "markdown",
   "metadata": {},
   "source": [
    "### <p style=\"background-color:#9d4f8c; font-family:newtimeroman; color:#FFF9ED; font-size:150%; text-align:LEFT; border-radius:10px 10px;\">How to Manipulate Space Manually?</p>\n",
    "\n",
    "<a id=\"8.4\"></a>\n",
    "<a href=\"#toc\" class=\"btn btn-primary btn-sm\" role=\"button\" aria-pressed=\"true\" \n",
    "style=\"color:blue; background-color:#dfa8e4\" data-toggle=\"popover\">Content</a>\n",
    "\n",
    "Use .subplots_adjust to adjust spacing manually."
   ]
  },
  {
   "cell_type": "code",
   "execution_count": null,
   "metadata": {},
   "outputs": [],
   "source": []
  },
  {
   "cell_type": "markdown",
   "metadata": {
    "id": "UwPwUkk2_ziN"
   },
   "source": [
    "### <p style=\"background-color:#9d4f8c; font-family:newtimeroman; color:#FFF9ED; font-size:150%; text-align:LEFT; border-radius:10px 10px;\">How to Manipulate Color?</p>\n",
    "\n",
    "<a id=\"8.5\"></a>\n",
    "<a href=\"#toc\" class=\"btn btn-primary btn-sm\" role=\"button\" aria-pressed=\"true\" \n",
    "style=\"color:blue; background-color:#dfa8e4\" data-toggle=\"popover\">Content</a>"
   ]
  },
  {
   "cell_type": "code",
   "execution_count": null,
   "metadata": {},
   "outputs": [],
   "source": []
  },
  {
   "cell_type": "code",
   "execution_count": null,
   "metadata": {},
   "outputs": [],
   "source": []
  },
  {
   "cell_type": "code",
   "execution_count": null,
   "metadata": {},
   "outputs": [],
   "source": [
    "\"\"\"\n",
    "========================\n",
    "Visualizing named colors\n",
    "========================\n",
    "\n",
    "Simple plot example with the named colors and its visual representation.\n",
    "\"\"\"\n",
    "from __future__ import division\n",
    "\n",
    "import matplotlib.pyplot as plt\n",
    "from matplotlib import colors as mcolors\n",
    "\n",
    "\n",
    "colors = dict(mcolors.BASE_COLORS, **mcolors.CSS4_COLORS)\n",
    "\n",
    "# Sort colors by hue, saturation, value and name.\n",
    "by_hsv = sorted((tuple(mcolors.rgb_to_hsv(mcolors.to_rgba(color)[:3])), name)\n",
    "                for name, color in colors.items())\n",
    "sorted_names = [name for hsv, name in by_hsv]\n",
    "\n",
    "n = len(sorted_names)\n",
    "ncols = 4\n",
    "nrows = n // ncols + 1\n",
    "\n",
    "fig, ax = plt.subplots(figsize=(8, 5))\n",
    "\n",
    "# Get height and width\n",
    "X, Y = fig.get_dpi() * fig.get_size_inches()\n",
    "h = Y / (nrows + 1)\n",
    "w = X / ncols\n",
    "\n",
    "for i, name in enumerate(sorted_names):\n",
    "    col = i % ncols\n",
    "    row = i // ncols\n",
    "    y = Y - (row * h) - h\n",
    "\n",
    "    xi_line = w * (col + 0.05)\n",
    "    xf_line = w * (col + 0.25)\n",
    "    xi_text = w * (col + 0.3)\n",
    "\n",
    "    ax.text(xi_text, y, name, fontsize=(h * 0.8),\n",
    "            horizontalalignment='left',\n",
    "            verticalalignment='center')\n",
    "\n",
    "    ax.hlines(y + h * 0.1, xi_line, xf_line,\n",
    "              color=colors[name], linewidth=(h * 0.6))\n",
    "\n",
    "ax.set_xlim(0, X)\n",
    "ax.set_ylim(0, Y)\n",
    "ax.set_axis_off()\n",
    "\n",
    "fig.subplots_adjust(left=0, right=1,\n",
    "                    top=1, bottom=0,\n",
    "                    hspace=0, wspace=0)"
   ]
  },
  {
   "cell_type": "markdown",
   "metadata": {
    "id": "VAc_fO35_ziO"
   },
   "source": [
    "### <p style=\"background-color:#9d4f8c; font-family:newtimeroman; color:#FFF9ED; font-size:150%; text-align:LEFT; border-radius:10px 10px;\">How to Manipulate Figure Size</p>\n",
    "\n",
    "<a id=\"8.6\"></a>\n",
    "<a href=\"#toc\" class=\"btn btn-primary btn-sm\" role=\"button\" aria-pressed=\"true\" \n",
    "style=\"color:blue; background-color:#dfa8e4\" data-toggle=\"popover\">Content</a>"
   ]
  },
  {
   "cell_type": "code",
   "execution_count": null,
   "metadata": {},
   "outputs": [],
   "source": []
  },
  {
   "cell_type": "code",
   "execution_count": null,
   "metadata": {},
   "outputs": [],
   "source": []
  },
  {
   "cell_type": "code",
   "execution_count": null,
   "metadata": {},
   "outputs": [],
   "source": []
  },
  {
   "cell_type": "code",
   "execution_count": null,
   "metadata": {},
   "outputs": [],
   "source": []
  },
  {
   "cell_type": "markdown",
   "metadata": {
    "id": "Zh2pyvsf_ziP"
   },
   "source": [
    "## <p style=\"background-color:#9d4f8c; font-family:newtimeroman; color:#FFF9ED; font-size:150%; text-align:center; border-radius:10px 10px;\">LINEWIDTH & LINESTYLES & MARKERS & MARKERSIZE & COLOR</p>\n",
    "\n",
    "### <p style=\"background-color:#9d4f8c; font-family:newtimeroman; color:#FFF9ED; font-size:150%; text-align:LEFT; border-radius:10px 10px;\">Linewidth</p>\n",
    "\n",
    "<a id=\"9\"></a>\n",
    "<a href=\"#toc\" class=\"btn btn-primary btn-sm\" role=\"button\" aria-pressed=\"true\" \n",
    "style=\"color:blue; background-color:#dfa8e4\" data-toggle=\"popover\">Content</a>"
   ]
  },
  {
   "cell_type": "code",
   "execution_count": null,
   "metadata": {},
   "outputs": [],
   "source": []
  },
  {
   "cell_type": "code",
   "execution_count": null,
   "metadata": {},
   "outputs": [],
   "source": []
  },
  {
   "cell_type": "code",
   "execution_count": null,
   "metadata": {
    "colab": {
     "base_uri": "https://localhost:8080/"
    },
    "id": "wOzHwGWbL_4_",
    "outputId": "543dee9d-57e8-4189-dd8e-09e70ed983bc"
   },
   "outputs": [],
   "source": [
    "x = np.arange(0, 10)\n",
    "x"
   ]
  },
  {
   "cell_type": "code",
   "execution_count": null,
   "metadata": {},
   "outputs": [],
   "source": []
  },
  {
   "cell_type": "markdown",
   "metadata": {
    "id": "VXrWLnJWMmmw"
   },
   "source": [
    "### <p style=\"background-color:#9d4f8c; font-family:newtimeroman; color:#FFF9ED; font-size:150%; text-align:LEFT; border-radius:10px 10px;\">LineStyles</p>\n",
    "\n",
    "<a id=\"9.1\"></a>\n",
    "<a href=\"#toc\" class=\"btn btn-primary btn-sm\" role=\"button\" aria-pressed=\"true\" \n",
    "style=\"color:blue; background-color:#dfa8e4\" data-toggle=\"popover\">Content</a>"
   ]
  },
  {
   "cell_type": "raw",
   "metadata": {},
   "source": [
    "Line Styles\n",
    "\n",
    "=============    ===============================\n",
    "character        description\n",
    "=============    ===============================\n",
    "``'-'``          solid line style\n",
    "``'--'``         dashed line style\n",
    "``'-.'``         dash-dot line style\n",
    "``':'``          dotted line style\n",
    "=============    ==============================="
   ]
  },
  {
   "cell_type": "code",
   "execution_count": null,
   "metadata": {},
   "outputs": [],
   "source": []
  },
  {
   "cell_type": "code",
   "execution_count": null,
   "metadata": {},
   "outputs": [],
   "source": []
  },
  {
   "cell_type": "raw",
   "metadata": {},
   "source": [
    "drawstyle or ds: {'default', 'steps', 'steps-pre', 'steps-mid', 'steps-post'}, default: 'default'"
   ]
  },
  {
   "cell_type": "code",
   "execution_count": null,
   "metadata": {},
   "outputs": [],
   "source": []
  },
  {
   "cell_type": "code",
   "execution_count": null,
   "metadata": {},
   "outputs": [],
   "source": []
  },
  {
   "cell_type": "code",
   "execution_count": null,
   "metadata": {},
   "outputs": [],
   "source": []
  },
  {
   "cell_type": "code",
   "execution_count": null,
   "metadata": {},
   "outputs": [],
   "source": []
  },
  {
   "cell_type": "code",
   "execution_count": null,
   "metadata": {},
   "outputs": [],
   "source": [
    "x = np.arange(0, 10)\n",
    "x"
   ]
  },
  {
   "cell_type": "code",
   "execution_count": null,
   "metadata": {},
   "outputs": [],
   "source": []
  },
  {
   "cell_type": "markdown",
   "metadata": {},
   "source": [
    "### <p style=\"background-color:#9d4f8c; font-family:newtimeroman; color:#FFF9ED; font-size:150%; text-align:LEFT; border-radius:10px 10px;\">Markers</p>\n",
    "\n",
    "<a id=\"9.2\"></a>\n",
    "<a href=\"#toc\" class=\"btn btn-primary btn-sm\" role=\"button\" aria-pressed=\"true\" \n",
    "style=\"color:blue; background-color:#dfa8e4\" data-toggle=\"popover\">Content</a>"
   ]
  },
  {
   "cell_type": "raw",
   "metadata": {},
   "source": [
    "Markers\n",
    "\n",
    "=============   ===============================\n",
    "character       description\n",
    "=============   ===============================\n",
    "``'.'``         point marker\n",
    "``','``         pixel marker\n",
    "``'o'``         circle marker\n",
    "``'v'``         triangle_down marker\n",
    "``'^'``         triangle_up marker\n",
    "``'<'``         triangle_left marker\n",
    "``'>'``         triangle_right marker\n",
    "``'1'``         tri_down marker\n",
    "``'2'``         tri_up marker\n",
    "``'3'``         tri_left marker\n",
    "``'4'``         tri_right marker\n",
    "``'8'``         octagon marker\n",
    "``'s'``         square marker\n",
    "``'p'``         pentagon marker\n",
    "``'P'``         plus (filled) marker\n",
    "``'*'``         star marker\n",
    "``'h'``         hexagon1 marker\n",
    "``'H'``         hexagon2 marker\n",
    "``'+'``         plus marker\n",
    "``'x'``         x marker\n",
    "``'X'``         x (filled) marker\n",
    "``'D'``         diamond marker\n",
    "``'d'``         thin_diamond marker\n",
    "``'|'``         vline marker\n",
    "``'_'``         hline marker\n",
    "=============   ==============================="
   ]
  },
  {
   "cell_type": "code",
   "execution_count": null,
   "metadata": {},
   "outputs": [],
   "source": []
  },
  {
   "cell_type": "code",
   "execution_count": null,
   "metadata": {},
   "outputs": [],
   "source": []
  },
  {
   "cell_type": "code",
   "execution_count": null,
   "metadata": {},
   "outputs": [],
   "source": []
  },
  {
   "cell_type": "code",
   "execution_count": null,
   "metadata": {},
   "outputs": [],
   "source": []
  },
  {
   "cell_type": "markdown",
   "metadata": {},
   "source": [
    "### <p style=\"background-color:#9d4f8c; font-family:newtimeroman; color:#FFF9ED; font-size:150%; text-align:LEFT; border-radius:10px 10px;\">Color</p>\n",
    "\n",
    "<a id=\"9.3\"></a>\n",
    "<a href=\"#toc\" class=\"btn btn-primary btn-sm\" role=\"button\" aria-pressed=\"true\" \n",
    "style=\"color:blue; background-color:#dfa8e4\" data-toggle=\"popover\">Content</a>"
   ]
  },
  {
   "cell_type": "raw",
   "metadata": {},
   "source": [
    "Colors\n",
    "\n",
    "The supported color abbreviations are the single letter codes\n",
    "\n",
    "=============    ===============================\n",
    "character        color\n",
    "=============    ===============================\n",
    "``'b'``          blue\n",
    "``'g'``          green\n",
    "``'r'``          red\n",
    "``'c'``          cyan\n",
    "``'m'``          magenta\n",
    "``'y'``          yellow\n",
    "``'k'``          black\n",
    "``'w'``          white\n",
    "=============    ===============================\n",
    "\n",
    "and the ``'CN'`` colors that index into the default property cycle.\n",
    "\n",
    "If the color is the only part of the format string, you can\n",
    "additionally use any  `matplotlib.colors` spec, e.g. full names\n",
    "(``'green'``) or hex strings (``'#008000'``)."
   ]
  },
  {
   "cell_type": "markdown",
   "metadata": {},
   "source": [
    "[HTML Color Codes](https://htmlcolorcodes.com/)"
   ]
  },
  {
   "cell_type": "code",
   "execution_count": null,
   "metadata": {
    "id": "Y8s2nKXr_ziP"
   },
   "outputs": [],
   "source": [
    "color = \"#ff00ff\" # RGB hex code\n",
    "# color = \"#81C67B\""
   ]
  },
  {
   "cell_type": "code",
   "execution_count": null,
   "metadata": {},
   "outputs": [],
   "source": []
  },
  {
   "cell_type": "code",
   "execution_count": null,
   "metadata": {},
   "outputs": [],
   "source": []
  },
  {
   "cell_type": "code",
   "execution_count": null,
   "metadata": {},
   "outputs": [],
   "source": []
  },
  {
   "cell_type": "markdown",
   "metadata": {
    "id": "_vEgF_Qo_ziQ"
   },
   "source": [
    "### <p style=\"background-color:#9d4f8c; font-family:newtimeroman; color:#FFF9ED; font-size:150%; text-align:LEFT; border-radius:10px 10px;\">Legend</p>\n",
    "\n",
    "<a id=\"9.4\"></a>\n",
    "<a href=\"#toc\" class=\"btn btn-primary btn-sm\" role=\"button\" aria-pressed=\"true\" \n",
    "style=\"color:blue; background-color:#dfa8e4\" data-toggle=\"popover\">Content</a>"
   ]
  },
  {
   "cell_type": "raw",
   "metadata": {},
   "source": [
    " legend location \n",
    " \n",
    "    ===============   =============\n",
    "    Location String   Location Code\n",
    "    ===============   =============\n",
    "       'best'             0\n",
    "       'upper right'      1\n",
    "       'upper left'       2\n",
    "       'lower left'       3\n",
    "       'lower right'      4\n",
    "       'right'            5\n",
    "       'center left'      6\n",
    "       'center right'     7\n",
    "       'lower center'     8\n",
    "       'upper center'     9\n",
    "       'center'          10\n",
    "    ===============   ============="
   ]
  },
  {
   "cell_type": "code",
   "execution_count": null,
   "metadata": {},
   "outputs": [],
   "source": []
  },
  {
   "cell_type": "code",
   "execution_count": null,
   "metadata": {},
   "outputs": [],
   "source": []
  },
  {
   "cell_type": "markdown",
   "metadata": {
    "id": "ax-D4i6y_ziQ"
   },
   "source": [
    "### <p style=\"background-color:#9d4f8c; font-family:newtimeroman; color:#FFF9ED; font-size:150%; text-align:LEFT; border-radius:10px 10px;\">How to Plot Range & Add Extra Line</p>\n",
    "\n",
    "<a id=\"9.5\"></a>\n",
    "<a href=\"#toc\" class=\"btn btn-primary btn-sm\" role=\"button\" aria-pressed=\"true\" \n",
    "style=\"color:blue; background-color:#dfa8e4\" data-toggle=\"popover\">Content</a>"
   ]
  },
  {
   "cell_type": "code",
   "execution_count": null,
   "metadata": {
    "colab": {
     "base_uri": "https://localhost:8080/",
     "height": 269
    },
    "id": "_pXuDfzQ_ziQ",
    "outputId": "6fbaa8e9-d2c8-4035-d521-b15779a0690f"
   },
   "outputs": [],
   "source": [
    "# Plot Range with set_ylim & set_xlim\n",
    "\n",
    "x = np.arange(1, 10)\n",
    "\n",
    "fig, ax = plt.subplots(nrows=1, ncols=2, figsize=(10, 4))\n",
    "\n",
    "ax[0].plot(x, x**2, x, x**3, x, x**4, 'r')\n",
    "ax[1].plot(x, x**2, x, x**3, x, x**4, 'r')\n",
    "\n",
    "ax[1].set_xlim([1, 3])\n",
    "ax[1].set_ylim([1, 50])\n",
    "\n",
    "plt.show()"
   ]
  },
  {
   "cell_type": "code",
   "execution_count": null,
   "metadata": {},
   "outputs": [],
   "source": []
  },
  {
   "cell_type": "code",
   "execution_count": null,
   "metadata": {},
   "outputs": [],
   "source": []
  },
  {
   "cell_type": "markdown",
   "metadata": {
    "id": "2mNJtkI2_ziR"
   },
   "source": [
    "### <p style=\"background-color:#9d4f8c; font-family:newtimeroman; color:#FFF9ED; font-size:150%; text-align:LEFT; border-radius:10px 10px;\">Some Additional Exercises</p>\n",
    "\n",
    "<a id=\"9.6\"></a>\n",
    "<a href=\"#toc\" class=\"btn btn-primary btn-sm\" role=\"button\" aria-pressed=\"true\" \n",
    "style=\"color:blue; background-color:#dfa8e4\" data-toggle=\"popover\">Content</a>"
   ]
  },
  {
   "cell_type": "markdown",
   "metadata": {},
   "source": [
    "**Matplotlib - Subplot2grid() Function**\n",
    "\n",
    "This function gives more flexibility in creating an axes object at a specific location of the grid. It also allows the axes object to be spanned across multiple rows or columns.\n",
    "\n",
    "**Plt.subplot2grid(shape, location, rowspan, colspan)**\n",
    "\n",
    "In the following example, a 3X3 grid of the figure object is filled with axes objects of varying sizes in row and column spans, each showing a different plot.\n",
    "\n",
    "[SOURCE 01](https://www.tutorialspoint.com/matplotlib/matplotlib_subplot2grid_function.htm), [SOURCE 02](https://medium.com/kodluyoruz/matplotlibde-%C3%A7oklu-%C3%A7izim-nas%C4%B1l-yap%C4%B1l%C4%B1r-subplot-gridspec-b33e2077727c) & [SOURCE 03](https://matplotlib.org/3.1.1/api/_as_gen/matplotlib.pyplot.subplot2grid.html)\n"
   ]
  },
  {
   "cell_type": "code",
   "execution_count": null,
   "metadata": {
    "colab": {
     "base_uri": "https://localhost:8080/",
     "height": 297
    },
    "id": "Ioqva7kE_ziR",
    "outputId": "e370b2fa-0001-40b9-ecc2-79b68cbe9af6"
   },
   "outputs": [],
   "source": [
    "# rowspan and colspan\n",
    "\n",
    "plt.figure()\n",
    "a1 = plt.subplot2grid((3, 3),(0, 0), colspan=2)\n",
    "a2 = plt.subplot2grid((3, 3),(0, 2), rowspan=3)\n",
    "a3 = plt.subplot2grid((3, 3),(1, 0), rowspan=2, colspan=2)\n",
    "\n",
    "x = np.arange(1, 10)\n",
    "\n",
    "a1.plot(x, np.exp(x))\n",
    "a1.set_title('exp')\n",
    "\n",
    "a2.plot(x, x*x)\n",
    "a2.set_title('square')\n",
    "\n",
    "a3.plot(x, np.log(x))\n",
    "a3.set_title('log')\n",
    "\n",
    "plt.tight_layout()\n",
    "plt.show()"
   ]
  },
  {
   "cell_type": "markdown",
   "metadata": {
    "id": "Ulls7kPNaO-j"
   },
   "source": [
    "## <p style=\"background-color:#9d4f8c; font-family:newtimeroman; color:#FFF9ED; font-size:150%; text-align:center; border-radius:10px 10px;\">OTHER PLOTS</p>\n",
    "\n",
    "<a id=\"10\"></a>\n",
    "<a href=\"#toc\" class=\"btn btn-primary btn-sm\" role=\"button\" aria-pressed=\"true\" \n",
    "style=\"color:blue; background-color:#dfa8e4\" data-toggle=\"popover\">Content</a>\n",
    "\n",
    "There are many other plotting styles available other than the default Line plot, all of which can be accessed by passing `kind` keyword to `plot()`. The full list of available plots are as follows:\n",
    "\n",
    "-   `bar` for vertical bar plots\n",
    "-   `barh` for horizontal bar plots\n",
    "-   `hist` for histogram\n",
    "-   `box` for boxplot\n",
    "-   `kde` or `density` for density plots\n",
    "-   `area` for area plots\n",
    "-   `pie` for pie plots\n",
    "-   `scatter` for scatter plots\n",
    "-   `hexbin` for hexbin plot\n"
   ]
  },
  {
   "cell_type": "markdown",
   "metadata": {
    "id": "Z7blPWD-H9uW"
   },
   "source": [
    "## <p style=\"background-color:#9d4f8c; font-family:newtimeroman; color:#FFF9ED; font-size:150%; text-align:center; border-radius:10px 10px;\">PANDAS</p>\n",
    "\n",
    "<a id=\"11\"></a>\n",
    "<a href=\"#toc\" class=\"btn btn-primary btn-sm\" role=\"button\" aria-pressed=\"true\" \n",
    "style=\"color:blue; background-color:#dfa8e4\" data-toggle=\"popover\">Content</a>"
   ]
  },
  {
   "cell_type": "code",
   "execution_count": null,
   "metadata": {
    "colab": {
     "base_uri": "https://localhost:8080/",
     "height": 204
    },
    "id": "NXT-HA4m_ziS",
    "outputId": "64397871-2dd4-402d-e179-f0775350373a"
   },
   "outputs": [],
   "source": [
    "import pandas as pd\n",
    "\n",
    "df = pd.DataFrame(list(zip(age, salary, salary_2)), columns=['age', 'salary', 'salary_2'])\n",
    "df.head()"
   ]
  },
  {
   "cell_type": "code",
   "execution_count": null,
   "metadata": {},
   "outputs": [],
   "source": []
  },
  {
   "cell_type": "code",
   "execution_count": null,
   "metadata": {},
   "outputs": [],
   "source": []
  },
  {
   "cell_type": "code",
   "execution_count": null,
   "metadata": {},
   "outputs": [],
   "source": []
  },
  {
   "cell_type": "code",
   "execution_count": null,
   "metadata": {},
   "outputs": [],
   "source": []
  },
  {
   "cell_type": "code",
   "execution_count": null,
   "metadata": {},
   "outputs": [],
   "source": []
  },
  {
   "cell_type": "code",
   "execution_count": null,
   "metadata": {},
   "outputs": [],
   "source": []
  },
  {
   "cell_type": "markdown",
   "metadata": {},
   "source": [
    "## Examples on Tips Dataset"
   ]
  },
  {
   "cell_type": "code",
   "execution_count": null,
   "metadata": {
    "colab": {
     "base_uri": "https://localhost:8080/"
    },
    "id": "plVkDLNrIVyk",
    "outputId": "8872b10d-cb48-4d2e-e3a0-2783222f81e6"
   },
   "outputs": [],
   "source": [
    "import seaborn as sns\n",
    "\n",
    "print(sns.get_dataset_names())"
   ]
  },
  {
   "cell_type": "code",
   "execution_count": null,
   "metadata": {
    "colab": {
     "base_uri": "https://localhost:8080/",
     "height": 204
    },
    "id": "ybILBK8zInV6",
    "outputId": "0d6b3387-f1dd-4f95-a509-5c8c1582bbb6"
   },
   "outputs": [],
   "source": [
    "tips = sns.load_dataset(\"tips\")\n",
    "tips.head()"
   ]
  },
  {
   "cell_type": "code",
   "execution_count": null,
   "metadata": {},
   "outputs": [],
   "source": []
  },
  {
   "cell_type": "code",
   "execution_count": null,
   "metadata": {},
   "outputs": [],
   "source": []
  },
  {
   "cell_type": "code",
   "execution_count": null,
   "metadata": {},
   "outputs": [],
   "source": []
  },
  {
   "cell_type": "code",
   "execution_count": null,
   "metadata": {},
   "outputs": [],
   "source": []
  },
  {
   "cell_type": "markdown",
   "metadata": {},
   "source": [
    "<a id=\"12\"></a>\n",
    "<a href=\"#toc\" class=\"btn btn-primary btn-sm\" role=\"button\" aria-pressed=\"true\" \n",
    "style=\"color:blue; background-color:#dfa8e4\" data-toggle=\"popover\">Content</a>\n",
    "\n",
    "## <p style=\"background-color:#9d4f8c; font-family:newtimeroman; color:#FFF9ED; font-size:150%; text-align:center; border-radius:10px 10px;\">THE END OF SESSION 01 / MATPLOTLIB - PART-01</p>"
   ]
  },
  {
   "cell_type": "markdown",
   "metadata": {
    "id": "hCCPFeYDIth-"
   },
   "source": [
    "<p style=\"text-align: center;\"><img src=\"https://i.ibb.co/99DQ3TY/DS-Courses.png\" class=\"img-fluid\" \n",
    "alt=\"CLRSWY\"></p>\n",
    "\n",
    "<a href=\"https://clarusway.com/\"><img align=\"center\" src=\"https://docs.google.com/uc?id=1lY0Uj5R04yMY3-ZppPWxqCr5pvBLYPnV\" alt=\"CLRSWY\" title=\"Way to Reinvent Yourself\"></a><br/>\n",
    "\n",
    "\n",
    "## <p style=\"background-color:#FDFEFE; font-family:newtimeroman; color:#9d4f8c; font-size:120%; text-align:center; border-radius:10px 10px;\">Way to Reinvent Yourself</p>\n",
    "___"
   ]
  }
 ],
 "metadata": {
  "colab": {
   "collapsed_sections": [],
   "name": "1S-Matplotlib.ipynb",
   "provenance": []
  },
  "kernelspec": {
   "display_name": "Python 3 (ipykernel)",
   "language": "python",
   "name": "python3"
  },
  "language_info": {
   "codemirror_mode": {
    "name": "ipython",
    "version": 3
   },
   "file_extension": ".py",
   "mimetype": "text/x-python",
   "name": "python",
   "nbconvert_exporter": "python",
   "pygments_lexer": "ipython3",
   "version": "3.9.13"
  },
  "toc": {
   "base_numbering": 1,
   "nav_menu": {},
   "number_sections": false,
   "sideBar": true,
   "skip_h1_title": false,
   "title_cell": "Table of Contents",
   "title_sidebar": "Contents",
   "toc_cell": false,
   "toc_position": {},
   "toc_section_display": true,
   "toc_window_display": true
  }
 },
 "nbformat": 4,
 "nbformat_minor": 1
}
