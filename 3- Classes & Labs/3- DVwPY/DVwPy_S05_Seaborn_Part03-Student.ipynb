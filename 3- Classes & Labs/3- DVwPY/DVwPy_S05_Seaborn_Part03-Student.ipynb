{
 "cells": [
  {
   "cell_type": "markdown",
   "metadata": {
    "deletable": false,
    "editable": false
   },
   "source": [
    "<a href=\"https://clarusway.com/contact-us/\"><img align=\"center\" src=\"https://i.ibb.co/B43qn24/officially-licensed-logo.png\" alt=\"Open in Clarusway LMS\" width=\"110\" height=\"200\" title=\"This notebook is licensed by Clarusway IT training school. Please contact the authorized persons about the conditions under which you can use or share.\"></a>"
   ]
  },
  {
   "cell_type": "markdown",
   "metadata": {},
   "source": [
    "___\n",
    "\n",
    "<a href=\"https://lms.clarusway.com/mod/lesson/view.php?id=20305\"><img align=\"center\" src=\"https://i.ibb.co/6Z5pQxD/lmss.png\" alt=\"Open in Clarusway LMS\" width=\"70\" height=\"200\" title=\"Open Clarusway Learning Management Sytem\"></a>\n",
    "\n",
    "<a href=\"https://github.com/clarusway/DS-DE-0322-Students/blob/main/3-%20Classes%26Labs/3-DVwPY/DVwPy_S05_Seaborn_Part03.ipynb\"><img align=\"left\" src=\"https://i.ibb.co/n3HWyQX/github-logo.png\" alt=\"Open in Clarusway GitHub\" width=\"100\" height=\"150\" title=\"Open and Execute in Clarusway GitHub Repository\"></a>\n",
    "\n",
    "<a href=\"https://nbviewer.org/github/4dsolutions/clarusway_data_analysis/blob/main/DVwPY_S5/5-DVwPy_S3_Seaborn.ipynb\"><img align=\"right\" src=\"https://i.ibb.co/48wtV8c/nbviewer-badge.png\" alt=\"Open in nbviewer\" width=\"130\" height=\"200\" title=\"Open and Execute in nbviewer\"></a><br/>\n",
    "___\n",
    "\n",
    "<a href=\"https://clarusway.com/\"><img align=\"center\" src=\"https://docs.google.com/uc?id=1lY0Uj5R04yMY3-ZppPWxqCr5pvBLYPnV\" alt=\"CLRSWY\" width=\"450\" height=\"200\" title=\"Welcome to Place Where You can Reinvent Yourself\"></a><br/>\n",
    "\n",
    "## <p style=\"background-color:#FDFEFE; font-family:newtimeroman; color:#9d4f8c; font-size:120%; text-align:center; border-radius:10px 10px;\">Way to Reinvent Yourself</p>\n",
    "\n",
    "<p style=\"text-align: center;\"><img src=\"https://i.ibb.co/99DQ3TY/DS-Courses.png\" class=\"img-fluid\" \n",
    "alt=\"CLRSWY\"></p>\n",
    "\n",
    "\n",
    "\n",
    "![seaborn.png](https://i.ibb.co/hg2Kd1X/seabornlogo.png)\n",
    "\n",
    "### <p style=\"background-color:#FDFEFE; font-family:newtimeroman; color:#9d4f8c; font-size:120%; text-align:center; border-radius:10px 10px;\">\"If you can do it in Seaborn, do it in Seaborn\"</p>\n",
    "\n",
    "\n",
    "## <p style=\"background-color:#FDFEFE; font-family:newtimeroman; color:#060108; font-size:200%; text-align:center; border-radius:10px 10px;\">Data Visualization with Python</p>\n",
    "\n",
    "## <p style=\"background-color:#FDFEFE; font-family:newtimeroman; color:#060108; font-size:150%; text-align:center; border-radius:10px 10px;\">Session - 05 (Seaborn - Part-03)</p>\n",
    "\n",
    "Seaborn is a library for making statistical graphics in Python. It builds on top of matplotlib and integrates closely with pandas data structures.\n",
    "\n",
    "Seaborn helps you explore and understand your data. Its plotting functions operate on dataframes and arrays containing whole datasets and internally perform the necessary semantic mapping and statistical aggregation to produce informative plots. Its dataset-oriented, declarative API lets you focus on what the different elements of your plots mean, rather than on the details of how to draw them\n",
    "\n",
    "\n",
    "🧐 **[An introduction to seaborn](https://seaborn.pydata.org/introduction.html)**,<br> \n",
    "🧐 **[seaborn: statistical data visualization](https://seaborn.pydata.org/)**,<br> \n",
    "🧐 **[Complete Seaborn Crash Course | Data Visualization in Seaborn (Youtube)](https://www.youtube.com/watch?v=GcXcSZ0gQps)**,<br> \n",
    "🧐 **[Seaborn Tutorial (Youtube)](https://www.youtube.com/watch?v=6GUZXDef2U0)**,<br>\n",
    "🧐 **[Seaborn Python Tutorial (Youtube)](https://www.youtube.com/watch?v=Pkvdc2Z6eBg)**"
   ]
  },
  {
   "cell_type": "markdown",
   "metadata": {},
   "source": [
    "<a id=\"toc\"></a>\n",
    "\n",
    "## <p style=\"background-color:#9d4f8c; font-family:newtimeroman; color:#FFF9ED; font-size:150%; text-align:center; border-radius:10px 10px;\">CONTENT</p>\n",
    "\n",
    "* [IMPORTING LIBRARIES NEEDED IN THIS NOTEBOOK](#0)\n",
    "* [CATPLOT](#1)\n",
    "    * [\"kind\" Parameter](#1.1)\n",
    "    * [\"col\" Parameter](#1.2)\n",
    "    * [\"row\" Parameter](#1.3)    \n",
    "* [JOINTPLOT](#2)\n",
    "* [PAIRPLOT](#3)\n",
    "    * [\"palette\" Parameter](#3.1)\n",
    "    * [\"corner\" Parameter](#3.2)\n",
    "    * [\"diag_kind\" Parameter](#3.3)\n",
    "* [PAIRGRID](#4)\n",
    "* [FACETGRID](#5) \n",
    "* [HEATMAP](#6)\n",
    "    * [\"annot\" Parameter](#6.1)\n",
    "* [CLUSTERMAP](#7)\n",
    "* [THE END OF THE SEABORN SESSION 05 - PART 03](#8)    "
   ]
  },
  {
   "cell_type": "markdown",
   "metadata": {},
   "source": [
    "## <p style=\"background-color:#9d4f8c; font-family:newtimeroman; color:#FFF9ED; font-size:150%; text-align:center; border-radius:10px 10px;\">IMPORTING LIBRARIES NEEDED IN THIS NOTEBOOK</p>\n",
    "\n",
    "<a id=\"0\"></a>\n",
    "<a href=\"#toc\" class=\"btn btn-primary btn-sm\" role=\"button\" aria-pressed=\"true\" \n",
    "style=\"color:blue; background-color:#dfa8e4\" data-toggle=\"popover\">Content</a>"
   ]
  },
  {
   "cell_type": "code",
   "execution_count": null,
   "metadata": {
    "colab": {
     "base_uri": "https://localhost:8080/"
    },
    "id": "6fylx0WuwjPb",
    "outputId": "2a60fe39-fde1-4928-80c8-84c96db8e6cb"
   },
   "outputs": [],
   "source": [
    "import pandas as pd   # DAwPy\n",
    "import numpy as np   # DAwPy\n",
    "\n",
    "import seaborn as sns   # Stats-1 & DAwPy\n",
    "from scipy import stats   # Stats-1 & DAwPy\n",
    "from scipy.stats import kurtosis, skew   # Stats-1 & DAwPy\n",
    "\n",
    "import matplotlib\n",
    "import matplotlib.pyplot as plt  \n",
    "%matplotlib inline   \n",
    "\n",
    "import warnings;\n",
    "warnings.filterwarnings('ignore')"
   ]
  },
  {
   "cell_type": "code",
   "execution_count": null,
   "metadata": {},
   "outputs": [],
   "source": [
    "# Let us remember the built-in datasets in Seaborn library\n",
    "\n",
    "print(\"There been\", len(sns.get_dataset_names()), \"built-in datasets in Seaborn library.\")\n",
    "print()\n",
    "print(sns.get_dataset_names())"
   ]
  },
  {
   "cell_type": "code",
   "execution_count": null,
   "metadata": {
    "colab": {
     "base_uri": "https://localhost:8080/",
     "height": 437
    },
    "id": "raFZuLfRJw0o",
    "outputId": "71caa626-16a4-4b8a-d395-ea89b47393cd"
   },
   "outputs": [],
   "source": [
    "# Let's load \"titanic\" built-in dataset and assign it as \"titanic\"\n",
    "\n",
    "titanic = sns.load_dataset(\"titanic\")\n",
    "titanic"
   ]
  },
  {
   "cell_type": "markdown",
   "metadata": {},
   "source": [
    "### VARIABLE DESCRIPTIONS\n",
    "- **survived** ==> Being survival or not (0=No; 1=Yes)\n",
    "- **pclass** ==> Passenger's Class (1=1st Class; 2=2nd Class; 3=3rd Class)\n",
    "- **name** ==> Passenger's Name\n",
    "- **sex** ==> Passenger's Gender\n",
    "- **age** ==> Passenger's Age\n",
    "- **sibsp** ==> The Number of Siblings/Spouses Aboard\n",
    "- **parch** ==> the Number of Parents/Children Aboard\n",
    "- **ticket** ==> Passenger's Ticket Number\n",
    "- **fare** ==> Passenger's Fare (British pound)\n",
    "- **who** ==> Being man or woman\n",
    "- **embarked** ==> The Port of Embarkation (C=Cherbourg; Q=Queenstown; S=Southampton)\n",
    "- **adult_male** ==> Being Adult Male or not (True=Adult Male; False=Not an Adult Male)\n",
    "- **alive** ==> Is Passenger Alive or not (No=Not Alive; Yes=Alive)\n",
    "- **alon**e ==> Being alone or not (False=Not Alone; True=Yes Alone)"
   ]
  },
  {
   "cell_type": "markdown",
   "metadata": {
    "id": "uE4-0DeMy70Q"
   },
   "source": [
    "## <p style=\"background-color:#9d4f8c; font-family:newtimeroman; color:#FFF9ED; font-size:150%; text-align:CENTER; border-radius:10px 10px;\">CATPLOT</p>\n",
    "\n",
    "<a id=\"1\"></a>\n",
    "<a href=\"#toc\" class=\"btn btn-primary btn-sm\" role=\"button\" aria-pressed=\"true\" \n",
    "style=\"color:blue; background-color:#dfa8e4\" data-toggle=\"popover\">Content</a>\n",
    "\n",
    "There are many types of plots available in the Seaborn module. However, when working with categorical values, we may **need a constant method** to plot the data since **different plot functions work differently** (Remember ``CountPlot``, ``BarPlot``, ``ViolinPlot``, ``SwarmPlot``, ``BoxPlot``, ``BoxenPlot`` etc). This approach is not consistent with handling with the data. The ``catplot()`` function of this module is used to work with categorical data efficiently. This function was built to improve the ``factorplot()`` function in the recent versions of the seaborn module. This new ``catplot`` function provides a new framework giving access to several types of plots that show relationship between numerical variable and one or more categorical variables.\n",
    "\n",
    "This function provides access to several axes-level functions that show the relationship between a numerical and one or more categorical variables using one of several visual representations. It allows us to work with categorical values efficiently, and we can plot the data into eight (8) different types of graphs specified by the ``kind`` parameter. The ``catplot()`` function returns a ``FacetGrid()`` type object so it can be utilized efficiently to plot graphs for **multiple features on the same figure**.\n",
    "\n",
    "🤔 ❓ **What is FacetGrid Object in Seaborn?** 🤔 ❓\n",
    "\n",
    "``FacetGrid`` object takes a dataframe as input and the names of the variables that will form the row, column, or hue dimensions of the grid. The variables should be categorical and the data at each level of the variable will be used for a facet along that axis.\n",
    "\n",
    "A ``FacetGrid`` can be drawn with up to three dimensions − ``row``, ``col``, and ``hue``. This allows us to create a grid, on which we can map many other types of plots with minimal code, especially compared to using matplotlib. The first two have obvious correspondence with the resulting array of axes; think of the hue variable as a third dimension along a depth axis, where different levels are plotted with different colors. So, the FacetGrid within Seaborn provides a very useful, fast and convenient way to create figures with multiple subplots compared to matplotlib.\n",
    "\n",
    "🧐 **[seaborn.catplot](https://seaborn.pydata.org/generated/seaborn.catplot.html)**<br>\n",
    "🧐 **[Visualizing categorical data](https://seaborn.pydata.org/tutorial/categorical.html)**<br>\n",
    "🧐 **[Catplot in Seaborn](https://www.delftstack.com/howto/seaborn/catplot-seaborn-python/)**<br>\n",
    "🧐 **[Catplot Python Seaborn: One Function to Rule All Plots With Categorical Variables](https://cmdlinetips.com/2019/03/catplot-in-seaborn-python/)**<br>\n",
    "🧐 **[Mastering catplot() in Seaborn: Categorical data visualization guide.](https://towardsdatascience.com/mastering-catplot-in-seaborn-categorical-data-visualization-guide-abab7b2067af)**<br>\n",
    "\n",
    "**Using catplot kind to create multiple categorical plots with Python Seaborn**"
   ]
  },
  {
   "cell_type": "code",
   "execution_count": null,
   "metadata": {},
   "outputs": [],
   "source": [
    "from IPython.display import YouTubeVideo\n",
    "\n",
    "YouTubeVideo('nBL6zEE6r-Q', width=800, height=500)"
   ]
  },
  {
   "cell_type": "raw",
   "metadata": {},
   "source": [
    "sns.catplot(\n",
    "            *,\n",
    "            x=None,\n",
    "            y=None,\n",
    "            hue=None,\n",
    "            data=None,\n",
    "            row=None,\n",
    "            col=None,\n",
    "            col_wrap=None,\n",
    "            estimator=<function mean at 0x000001F6B2ED7160>,\n",
    "            ci=95,\n",
    "            n_boot=1000,\n",
    "            units=None,\n",
    "            seed=None,\n",
    "            order=None,\n",
    "            hue_order=None,\n",
    "            row_order=None,\n",
    "            col_order=None,\n",
    "            kind='strip',\n",
    "            height=5,\n",
    "            aspect=1,\n",
    "            orient=None,\n",
    "            color=None,\n",
    "            palette=None,\n",
    "            legend=True,\n",
    "            legend_out=True,\n",
    "            sharex=True,\n",
    "            sharey=True,\n",
    "            margin_titles=False,\n",
    "            facet_kws=None,\n",
    "            **kwargs,\n",
    "            )\n",
    "Docstring:\n",
    "Figure-level interface for drawing categorical plots onto a FacetGrid.\n",
    "\n",
    "This function provides access to several axes-level functions that show the relationship between a numerical and one or more categorical variables using one of several visual representations. The ``kind`` parameter selects the underlying axes-level function to use.\n",
    "\n",
    "Categorical scatterplots:\n",
    "\n",
    "- :func:`stripplot` (with ``kind=\"strip\"``; the default)\n",
    "- :func:`swarmplot` (with ``kind=\"swarm\"``)\n",
    "\n",
    "Categorical distribution plots:\n",
    "\n",
    "- :func:`boxplot` (with ``kind=\"box\"``)\n",
    "- :func:`violinplot` (with ``kind=\"violin\"``)\n",
    "- :func:`boxenplot` (with ``kind=\"boxen\"``)\n",
    "\n",
    "Categorical estimate plots:\n",
    "\n",
    "- :func:`pointplot` (with ``kind=\"point\"``)\n",
    "- :func:`barplot` (with ``kind=\"bar\"``)\n",
    "- :func:`countplot` (with ``kind=\"count\"``)\n",
    "\n",
    "Extra keyword arguments are passed to the underlying function, so you should refer to the documentation for each to see kind-specific options.\n",
    "\n",
    "Note that unlike when using the axes-level functions directly, data must be passed in a long-form DataFrame with variables specified by passing strings to ``x``, ``y``, ``hue``, etc.\n",
    "\n",
    "As in the case with the underlying plot functions, if variables have a ``categorical`` data type, the levels of the categorical variables, and their order will be inferred from the objects. Otherwise you may have to use alter the dataframe sorting or use the function parameters (``orient``, ``order``, ``hue_order``, etc.) to set up the plot correctly.\n",
    "\n",
    "This function always treats one of the variables as categorical and draws data at ordinal positions (0, 1, ... n) on the relevant axis, even when the data has a numeric or date type.\n",
    "\n",
    "See the :ref:`tutorial <categorical_tutorial>` for more information.    \n",
    "\n",
    "After plotting, the :class:`FacetGrid` with the plot is returned and can be used directly to tweak supporting plot details or add other layers.\n",
    "\n",
    "Parameters\n",
    "----------\n",
    "x, y, hue : names of variables in ``data``\n",
    "    Inputs for plotting long-form data. See examples for interpretation.        \n",
    "data : DataFrame\n",
    "    Long-form (tidy) dataset for plotting. Each column should correspond to a variable, and each row should correspond to an\n",
    "    observation.    \n",
    "row, col : names of variables in ``data``, optional\n",
    "    Categorical variables that will determine the faceting of the grid.\n",
    "col_wrap : int\n",
    "    \"Wrap\" the column variable at this width, so that the column facets span multiple rows. Incompatible with a ``row`` facet.   \n",
    "estimator : callable that maps vector -> scalar, optional\n",
    "    Statistical function to estimate within each categorical bin.\n",
    "ci : float or \"sd\" or None, optional\n",
    "    Size of confidence intervals to draw around estimated values.  If \"sd\", skip bootstrapping and draw the standard deviation\n",
    "    of the observations. If ``None``, no bootstrapping will be performed, and error bars will not be drawn.\n",
    "n_boot : int, optional\n",
    "    Number of bootstrap iterations to use when computing confidence intervals.\n",
    "units : name of variable in ``data`` or vector data, optional\n",
    "    Identifier of sampling units, which will be used to perform a multilevel bootstrap and account for repeated measures design.\n",
    "seed : int, numpy.random.Generator, or numpy.random.RandomState, optional\n",
    "    Seed or random number generator for reproducible bootstrapping.    \n",
    "order, hue_order : lists of strings, optional\n",
    "    Order to plot the categorical levels in, otherwise the levels are inferred from the data objects.        \n",
    "row_order, col_order : lists of strings, optional\n",
    "    Order to organize the rows and/or columns of the grid in, otherwise the orders are inferred from the data objects.\n",
    "kind : str, optional\n",
    "    The kind of plot to draw, corresponds to the name of a categorical axes-level plotting function. Options are: \"strip\",\n",
    "    \"swarm\", \"box\", \"violin\", \"boxen\", \"point\", \"bar\", or \"count\".\n",
    "height : scalar\n",
    "    Height (in inches) of each facet. See also: ``aspect``.    \n",
    "aspect : scalar\n",
    "    Aspect ratio of each facet, so that ``aspect * height`` gives the width\n",
    "    of each facet in inches.    \n",
    "orient : \"v\" | \"h\", optional\n",
    "    Orientation of the plot (vertical or horizontal). This is usually inferred based on the type of the input variables, but it\n",
    "    can be used to resolve ambiguity when both `x` and `y` are numeric or when plotting wide-form data.    \n",
    "color : matplotlib color, optional\n",
    "    Color for all of the elements, or seed for a gradient palette.    \n",
    "palette : palette name, list, or dict\n",
    "    Colors to use for the different levels of the ``hue`` variable. Should be something that can be interpreted by\n",
    "    :func:`color_palette`, or a dictionary mapping hue levels to matplotlib colors.    \n",
    "legend : bool, optional\n",
    "    If ``True`` and there is a ``hue`` variable, draw a legend on the plot.\n",
    "legend_out : bool\n",
    "    If ``True``, the figure size will be extended, and the legend will be\n",
    "    drawn outside the plot on the center right.    \n",
    "share{x,y} : bool, 'col', or 'row' optional\n",
    "    If true, the facets will share y axes across columns and/or x axes\n",
    "    across rows.    \n",
    "margin_titles : bool\n",
    "    If ``True``, the titles for the row variable are drawn to the right of the last column. This option is experimental and may\n",
    "    not work in all cases.    \n",
    "facet_kws : dict, optional\n",
    "    Dictionary of other keyword arguments to pass to :class:`FacetGrid`.\n",
    "kwargs : key, value pairings\n",
    "    Other keyword arguments are passed through to the underlying plotting function.\n",
    "\n",
    "Returns\n",
    "-------\n",
    "g : :class:`FacetGrid`\n",
    "    Returns the :class:`FacetGrid` object with the plot on it for further tweaking."
   ]
  },
  {
   "cell_type": "markdown",
   "metadata": {},
   "source": [
    "### <p style=\"background-color:#9d4f8c; font-family:newtimeroman; color:#FFF9ED; font-size:150%; text-align:left; border-radius:10px 10px;\">\"kind\" Parameter</p>\n",
    "\n",
    "<a id=\"1.1\"></a>\n",
    "<a href=\"#toc\" class=\"btn btn-primary btn-sm\" role=\"button\" aria-pressed=\"true\" \n",
    "style=\"color:blue; background-color:#dfa8e4\" data-toggle=\"popover\">Content</a>\n",
    "\n",
    "<img src=https://i.ibb.co/jh5Lvt2/Capture14.png width=\"400\" height=\"200\">  \n",
    "\n"
   ]
  },
  {
   "cell_type": "markdown",
   "metadata": {},
   "source": [
    "**Before diving into the subject (Comparison, Matrix and Grid Plots) at Seaborn, let's remember plotting at ``Pandas``.**\n",
    "\n",
    "Python’s popular data analysis library, **[``Pandas``](https://pandas.pydata.org/about/)**, provides several different options for visualizing your data with ``.plot()``, which make plots of ``Series`` or ``DataFrame``. Even if you’re at the beginning of your pandas journey, you’ll soon be creating basic plots that will yield valuable insights into your data **[Source: Plot With Pandas: Python Data Visualization for Beginners.](https://realpython.com/pandas-plot-python/)**\n",
    "\n",
    "``.plot()`` can be applied for whole DataFrame:"
   ]
  },
  {
   "cell_type": "code",
   "execution_count": null,
   "metadata": {},
   "outputs": [],
   "source": [
    "titanic.plot.bar(x=\"pclass\", y=\"fare\");"
   ]
  },
  {
   "cell_type": "markdown",
   "metadata": {},
   "source": [
    "DataFrame is not the only class in pandas with a .plot() method. As so often happens in pandas, the Series object provides similar functionality.\n",
    "\n",
    "You can get each column of a DataFrame as a Series object. "
   ]
  },
  {
   "cell_type": "code",
   "execution_count": null,
   "metadata": {},
   "outputs": [],
   "source": [
    "titanic[\"fare\"].plot.bar(x=\"pclass\");"
   ]
  },
  {
   "cell_type": "markdown",
   "metadata": {},
   "source": [
    "**As seen above the output is too intrigue to interpret. So, for a better result and insight, it is necessary to take some action for getting underlying pattern by means of some other methods like groupby().**"
   ]
  },
  {
   "cell_type": "code",
   "execution_count": null,
   "metadata": {},
   "outputs": [],
   "source": [
    "# The first approach to get Bar Plot via Pandas\n",
    "\n",
    "# titanic.groupby(\"pclass\")[\"fare\"].mean().plot.bar(x=\"pclass\", y=\"fare\");\n",
    "titanic.groupby(\"pclass\")[\"fare\"].mean().plot.bar();\n",
    "\n",
    "# # In Seaborn, yo do NOT need to apply groupby() method for plotting\n",
    "# sns.barplot(data= titanic, x=\"pclass\", y=\"fare\");"
   ]
  },
  {
   "cell_type": "code",
   "execution_count": null,
   "metadata": {},
   "outputs": [],
   "source": [
    "# The second approach to get Bar Plot via Pandas\n",
    "\n",
    "titanic.groupby(\"pclass\")[\"fare\"].mean().plot(x=\"pclass\", y=\"fare\", kind=\"bar\");"
   ]
  },
  {
   "cell_type": "markdown",
   "metadata": {},
   "source": [
    "**Let us remember how to annotate:**"
   ]
  },
  {
   "cell_type": "code",
   "execution_count": null,
   "metadata": {},
   "outputs": [],
   "source": [
    "# The first method to annotate the values of each Bar\n",
    "\n",
    "fig, ax = plt.subplots()\n",
    "\n",
    "ax = titanic.groupby(\"pclass\", sort=False)[\"survived\"].count().plot(x='pclass', y=\"survived\", kind=\"bar\")\n",
    "\n",
    "for p in ax.patches:\n",
    "    ax.annotate((p.get_height()), (p.get_x()+0.2, p.get_height()+2));"
   ]
  },
  {
   "cell_type": "code",
   "execution_count": null,
   "metadata": {},
   "outputs": [],
   "source": [
    "# The second method to annotate the values of each Bar\n",
    "\n",
    "pclass = titanic[\"pclass\"].value_counts()\n",
    "\n",
    "fig, ax = plt.subplots()\n",
    "\n",
    "ax = sns.countplot(x='pclass', data=titanic, order=pclass.index)\n",
    "\n",
    "for index, value in enumerate(pclass.values):\n",
    "    plt.text(index, value, str(value))"
   ]
  },
  {
   "cell_type": "code",
   "execution_count": null,
   "metadata": {},
   "outputs": [],
   "source": [
    "# The third method to annotate the values of each Bar\n",
    "\n",
    "fig, ax = plt.subplots()\n",
    "\n",
    "ax = titanic.groupby(\"pclass\")[\"survived\"].count().plot(x='pclass', y=\"survived\", kind=\"bar\")\n",
    "\n",
    "for container in ax.containers:\n",
    "    ax.bar_label(container)"
   ]
  },
  {
   "cell_type": "markdown",
   "metadata": {},
   "source": [
    "### 🛑 👉 WATCH OUT: What are these numbers above❓ What do they represent ❓ 👈 🛑\n",
    "\n",
    "**The \"survived\" feature reports if a traveler lived or died. This number given by the output above includes all people of \"survived\" represented by \"1\" and \"not survived\" represented by \"0\". For example, the total number of 216 at \"pclass 1\" of barplot includes all \"survived\" (136) and \"not survived\" (80) people. Is this what intended?**\n",
    "\n",
    "**Let us check what these numbers represent in reality.**"
   ]
  },
  {
   "cell_type": "code",
   "execution_count": null,
   "metadata": {},
   "outputs": [],
   "source": [
    "titanic.groupby(\"pclass\")[\"survived\"].value_counts(dropna=True)"
   ]
  },
  {
   "cell_type": "code",
   "execution_count": null,
   "metadata": {},
   "outputs": [],
   "source": [
    "titanic.shape"
   ]
  },
  {
   "cell_type": "markdown",
   "metadata": {},
   "source": [
    "**Let us just focus on people who survived under \"survived\" feature/column:**"
   ]
  },
  {
   "cell_type": "code",
   "execution_count": null,
   "metadata": {},
   "outputs": [],
   "source": [
    "print(len(titanic[titanic[\"survived\"]==0]))\n",
    "\n",
    "# This is the total number of people who are NOT survived"
   ]
  },
  {
   "cell_type": "code",
   "execution_count": null,
   "metadata": {},
   "outputs": [],
   "source": [
    "print(len(titanic[titanic[\"survived\"]==1]))\n",
    "\n",
    "# This is the total number of people who are survived"
   ]
  },
  {
   "cell_type": "code",
   "execution_count": null,
   "metadata": {},
   "outputs": [],
   "source": [
    "# Let's see each observation one by one who survided and assign them to a new DataFrame named \"survived\"\n",
    "\n",
    "survived = titanic[titanic[\"survived\"]==1]\n",
    "survived"
   ]
  },
  {
   "cell_type": "code",
   "execution_count": null,
   "metadata": {},
   "outputs": [],
   "source": [
    "ax = survived.groupby(\"pclass\")[\"survived\"].count().plot(x='pclass', y=\"survived\", kind=\"bar\")\n",
    "\n",
    "for container in ax.containers:\n",
    "    ax.bar_label(container)"
   ]
  },
  {
   "cell_type": "markdown",
   "metadata": {},
   "source": [
    "If you’re starting off with Python visualization, you may be overwhelmed with the number of libraries and examples and the following questions come to your mind:\n",
    "\n",
    "**Which one should I pick? OR What is each graph/library for? OR Which library gives the best solution/outcome/figure to your problem/task?**\n",
    "\n",
    "The goal of data visualization is to communicate data or information clearly and effectively to readers. Some libraries might be better in specific cases than the others, each library has pros and cons and some are more popular and widely-used python data visualization libraries than. However, the most important thing as mentioned above is that you have to know what you are exploring/analyzing and the advantages and disadvantages of each type of chart/library!\n",
    "\n",
    "\n",
    "🧐 **[Data Visualization](https://mayan1015.medium.com/part-iii-data-visualization-2d0a4656b44d)**<br>\n",
    "🧐 **[5 Must Try Awesome Python Data Visualization Libraries](https://www.kdnuggets.com/2021/09/5-awesome-data-visualization-libraries-python.html)**<br>\n",
    "🧐 **[Top 6 Python Libraries for Visualization: Which one to Use?](https://towardsdatascience.com/top-6-python-libraries-for-visualization-which-one-to-use-fe43381cd658)**<br>\n",
    "🧐 **[7 Best Python Data Visualization Libraries](https://www.techgeekbuzz.com/best-python-data-visualization-libraries/)**<br>\n",
    "\n",
    "\n",
    "\n",
    "**Let us remember our BarPlot at Seaborn:**"
   ]
  },
  {
   "cell_type": "code",
   "execution_count": null,
   "metadata": {},
   "outputs": [],
   "source": [
    "# Basic Style\n",
    "\n",
    "tips = sns.load_dataset('tips')\n",
    "\n",
    "sns.barplot(x=\"sex\", y=\"total_bill\", data=tips);"
   ]
  },
  {
   "cell_type": "code",
   "execution_count": null,
   "metadata": {},
   "outputs": [],
   "source": [
    "ax = sns.barplot(x=\"sex\", y=\"total_bill\", data=tips)\n",
    "\n",
    "for container in ax.containers:\n",
    "    ax.bar_label(container, label_type=\"center\", color=\"white\", fontsize=14)"
   ]
  },
  {
   "cell_type": "markdown",
   "metadata": {},
   "source": [
    "**Let us remember our CountPlot at Seaborn:**"
   ]
  },
  {
   "cell_type": "code",
   "execution_count": null,
   "metadata": {},
   "outputs": [],
   "source": [
    "# Basic Style\n",
    "\n",
    "ax = sns.countplot(x=\"sex\", data=tips)\n",
    "\n",
    "for container in ax.containers:\n",
    "    ax.bar_label(container)"
   ]
  },
  {
   "cell_type": "markdown",
   "metadata": {},
   "source": [
    "Having remembered the ``barplot`` and ``countplot`` at Seaborn, let us come back to our \"titanic\" dataset again"
   ]
  },
  {
   "cell_type": "code",
   "execution_count": null,
   "metadata": {},
   "outputs": [],
   "source": []
  },
  {
   "cell_type": "markdown",
   "metadata": {},
   "source": [
    "**What happened to our some \"spines\"?** \n",
    "\n",
    "[Anatomy of a Figure](https://matplotlib.org/3.5.0/gallery/showcase/anatomy.html)"
   ]
  },
  {
   "cell_type": "code",
   "execution_count": null,
   "metadata": {},
   "outputs": [],
   "source": []
  },
  {
   "cell_type": "markdown",
   "metadata": {},
   "source": [
    "In the above example, we have just initialized the **FacetGrid object** which doesn’t draw anything on them.\n",
    "\n",
    "To draw a plot on every facet, pass a function and the name of one or more columns in the dataframe to **``FacetGrid.map()``**:"
   ]
  },
  {
   "cell_type": "code",
   "execution_count": null,
   "metadata": {},
   "outputs": [],
   "source": []
  },
  {
   "cell_type": "code",
   "execution_count": null,
   "metadata": {},
   "outputs": [],
   "source": []
  },
  {
   "cell_type": "markdown",
   "metadata": {},
   "source": [
    "\n",
    "\n",
    "A **``FacetGrid``** can be drawn with up to three dimensions − **``row``**, **``col``**, and **``hue``**. The first two have obvious correspondence with the resulting array of axes; think of the hue variable as a third dimension along a depth axis, where different levels are plotted with different colors.\n",
    "\n",
    "FacetGrid object takes a dataframe as input and the names of the variables that will form the row, column, or hue dimensions of the grid.\n",
    "\n",
    "The variables should be **categorical** and the data at each level of the variable will be used for a facet along that axis.\n",
    "\n",
    "**[For mor Detailed Information About FacetGrid](https://seaborn.pydata.org/generated/seaborn.FacetGrid.html)**\n",
    "\n",
    "\n",
    "Exploratory Data Analysis helps in identifying the underlying patterns and trends which are not observable just by looking at the data. A FacetGrid is a multi-axes grid with subplots visualizing the distribution of variables of a dataset and the relationship between multiple variables. So, FacetGrid is very beneficial to determine and get a detailed insight in identifying the underlying patterns.\n",
    "\n",
    "**[Using Seaborn’s FacetGrid Based Methods for Exploratory Data Analysis](https://www.analyticsvidhya.com/blog/2021/07/using-seaborns-facetgrid-based-methods-for-exploratory-data-analysis/)**"
   ]
  },
  {
   "cell_type": "code",
   "execution_count": null,
   "metadata": {},
   "outputs": [],
   "source": [
    "# Let's load \"tips\" built-in dataset at Seaborn and assign it as \"tips\"\n",
    "\n",
    "tips = sns.load_dataset(\"tips\")\n",
    "tips"
   ]
  },
  {
   "cell_type": "markdown",
   "metadata": {},
   "source": [
    "Seaborn provides simple ways to distinguish the data points of numerical variables based on different groups in categorical variables. In Seaborn, this separation can be achieved by hue, col, or row parameters.\n",
    "\n",
    "🧐 **[A Comparison of Seaborn and Altair](https://towardsdatascience.com/a-comparison-of-seaborn-and-altair-640b11ca2e7b)**<br>\n",
    "\n",
    "**row, col, hue: strings**\n",
    "\n",
    "Variables that define subsets of the data, which will be drawn on separate facets in the grid."
   ]
  },
  {
   "cell_type": "markdown",
   "metadata": {},
   "source": [
    "### <p style=\"background-color:#9d4f8c; font-family:newtimeroman; color:#FFF9ED; font-size:150%; text-align:left; border-radius:10px 10px;\">\"col\" Parameter</p>\n",
    "\n",
    "<a id=\"1.2\"></a>\n",
    "<a href=\"#toc\" class=\"btn btn-primary btn-sm\" role=\"button\" aria-pressed=\"true\" \n",
    "style=\"color:blue; background-color:#dfa8e4\" data-toggle=\"popover\">Content</a>"
   ]
  },
  {
   "cell_type": "code",
   "execution_count": null,
   "metadata": {},
   "outputs": [],
   "source": []
  },
  {
   "cell_type": "markdown",
   "metadata": {},
   "source": [
    "### <p style=\"background-color:#9d4f8c; font-family:newtimeroman; color:#FFF9ED; font-size:150%; text-align:left; border-radius:10px 10px;\">\"row\" Parameter</p>\n",
    "\n",
    "<a id=\"1.3\"></a>\n",
    "<a href=\"#toc\" class=\"btn btn-primary btn-sm\" role=\"button\" aria-pressed=\"true\" \n",
    "style=\"color:blue; background-color:#dfa8e4\" data-toggle=\"popover\">Content</a>"
   ]
  },
  {
   "cell_type": "code",
   "execution_count": null,
   "metadata": {},
   "outputs": [],
   "source": []
  },
  {
   "cell_type": "markdown",
   "metadata": {},
   "source": [
    "**Let us examine** **``\"row\"``**, **``\"col\"``**, **and** **``\"hue\"``** **parameters together:**"
   ]
  },
  {
   "cell_type": "code",
   "execution_count": null,
   "metadata": {},
   "outputs": [],
   "source": []
  },
  {
   "cell_type": "markdown",
   "metadata": {},
   "source": [
    "**Now it's time to look over other kinds in** **``catplot()``**\n",
    "\n",
    "kind : str, optional\n",
    "- The kind of plot to draw, corresponds to the name of a categorical axes-level plotting function. Options are: \n",
    " - \"strip\", \n",
    " - \"swarm\", \n",
    " - \"box\", \n",
    " - \"violin\",\n",
    " - \"boxen\", \n",
    " - \"point\", \n",
    " - \"bar\", or \n",
    " - \"count\"."
   ]
  },
  {
   "cell_type": "code",
   "execution_count": null,
   "metadata": {},
   "outputs": [],
   "source": []
  },
  {
   "cell_type": "code",
   "execution_count": null,
   "metadata": {},
   "outputs": [],
   "source": []
  },
  {
   "cell_type": "code",
   "execution_count": null,
   "metadata": {},
   "outputs": [],
   "source": []
  },
  {
   "cell_type": "code",
   "execution_count": null,
   "metadata": {},
   "outputs": [],
   "source": []
  },
  {
   "cell_type": "markdown",
   "metadata": {
    "id": "s1Pv0vx0xZBn"
   },
   "source": [
    "## <p style=\"background-color:#9d4f8c; font-family:newtimeroman; color:#FFF9ED; font-size:150%; text-align:CENTER; border-radius:10px 10px;\">JOINTPLOT</p>\n",
    "\n",
    "<a id=\"2\"></a>\n",
    "<a href=\"#toc\" class=\"btn btn-primary btn-sm\" role=\"button\" aria-pressed=\"true\" \n",
    "style=\"color:blue; background-color:#dfa8e4\" data-toggle=\"popover\">Content</a>\n",
    "\n",
    "Jointplot is seaborn library specific and can be used to quickly visualize and analyze the **relationship between two variables** and describe **their individual distributions** on the same plot.\n",
    "\n",
    "Seaborn’s jointplot displays a relationship between 2 variables (bivariate) as well as 1D profiles (univariate) in the margins. This plot is a convenience class that wraps JointGrid.\n",
    "\n",
    "This function provides a convenient interface to the JointGrid class, with several canned plot kinds. This is intended to be a fairly lightweight wrapper; if you need more flexibility, you should use JointGrid directly.\n",
    "\n",
    "🧐 **[seaborn.jointplot Documentation](https://seaborn.pydata.org/generated/seaborn.jointplot.html)**<br>\n",
    "🧐 **[Joint Plot](https://ajaytech.co/2020/09/28/8780/)**<br>\n",
    "🧐 **[Data visualization for beginners](https://www.hackerearth.com/blog/developers/data-visualization-techniques/)**<br>\n",
    "🧐 **[seaborn.JointGrid](https://seaborn.pydata.org/generated/seaborn.JointGrid.html#:~:text=JointGrid%20)**\n",
    "\n",
    "\n",
    "**What is a joint plot and how to code a jointplot in Python Seaborn**"
   ]
  },
  {
   "cell_type": "code",
   "execution_count": null,
   "metadata": {},
   "outputs": [],
   "source": [
    "from IPython.display import YouTubeVideo\n",
    "\n",
    "YouTubeVideo('Hey1EAtgduQ', width=800, height=500)"
   ]
  },
  {
   "cell_type": "raw",
   "metadata": {},
   "source": [
    "sns.jointplot(\n",
    "              *,\n",
    "              x=None,\n",
    "              y=None,\n",
    "              data=None,\n",
    "              kind='scatter',\n",
    "              color=None,\n",
    "              height=6,\n",
    "              ratio=5,\n",
    "              space=0.2,\n",
    "              dropna=False,\n",
    "              xlim=None,\n",
    "              ylim=None,\n",
    "              marginal_ticks=False,\n",
    "              joint_kws=None,\n",
    "              marginal_kws=None,\n",
    "              hue=None,\n",
    "              palette=None,\n",
    "              hue_order=None,\n",
    "              hue_norm=None,\n",
    "              **kwargs,\n",
    "              )\n",
    "Docstring:\n",
    "Draw a plot of two variables with bivariate and univariate graphs.\n",
    "\n",
    "This function provides a convenient interface to the :class:`JointGrid` class, with several canned plot kinds. This is intended to be a fairly lightweight wrapper; if you need more flexibility, you should use :class:`JointGrid` directly.\n",
    "\n",
    "Parameters\n",
    "----------\n",
    "x, y : vectors or keys in ``data``\n",
    "    Variables that specify positions on the x and y axes.\n",
    "data : :class:`pandas.DataFrame`, :class:`numpy.ndarray`, mapping, or sequence\n",
    "    Input data structure. Either a long-form collection of vectors that can be assigned to named variables or a wide-form\n",
    "    dataset that will be internally reshaped.\n",
    "kind : { \"scatter\" | \"kde\" | \"hist\" | \"hex\" | \"reg\" | \"resid\" }\n",
    "    Kind of plot to draw. See the examples for references to the underlying functions.\n",
    "color : :mod:`matplotlib color <matplotlib.colors>`\n",
    "    Single color specification for when hue mapping is not used. Otherwise, the plot will try to hook into the matplotlib\n",
    "    property cycle.\n",
    "height : numeric\n",
    "    Size of the figure (it will be square).\n",
    "ratio : numeric\n",
    "    Ratio of joint axes height to marginal axes height.\n",
    "space : numeric\n",
    "    Space between the joint and marginal axes\n",
    "dropna : bool\n",
    "    If True, remove observations that are missing from ``x`` and ``y``.\n",
    "{x, y}lim : pairs of numbers\n",
    "    Axis limits to set before plotting.\n",
    "marginal_ticks : bool\n",
    "    If False, suppress ticks on the count/density axis of the marginal plots.\n",
    "{joint, marginal}_kws : dicts\n",
    "    Additional keyword arguments for the plot components.\n",
    "hue : vector or key in ``data``\n",
    "    Semantic variable that is mapped to determine the color of plot elements.\n",
    "    Semantic variable that is mapped to determine the color of plot elements.\n",
    "palette : string, list, dict, or :class:`matplotlib.colors.Colormap`\n",
    "    Method for choosing the colors to use when mapping the ``hue`` semantic.\n",
    "    String values are passed to :func:`color_palette`. List or dict values imply categorical mapping, while a colormap object \n",
    "    implies numeric mapping.\n",
    "hue_order : vector of strings\n",
    "    Specify the order of processing and plotting for categorical levels of the ``hue`` semantic.\n",
    "hue_norm : tuple or :class:`matplotlib.colors.Normalize`\n",
    "    Either a pair of values that set the normalization range in data units or an object that will map from data units into a \n",
    "    [0, 1] interval. Usage implies numeric mapping.\n",
    "kwargs\n",
    "    Additional keyword arguments are passed to the function used to draw the plot on the joint Axes, superseding items in the\n",
    "    ``joint_kws`` dictionary.\n",
    "\n",
    "Returns\n",
    "-------\n",
    ":class:`JointGrid`\n",
    "    An object managing multiple subplots that correspond to joint and marginal axes for plotting a bivariate relationship or\n",
    "    distribution.\n",
    "\n",
    "See Also\n",
    "--------\n",
    "JointGrid : Set up a figure with joint and marginal views on bivariate data.\n",
    "PairGrid : Set up a figure with joint and marginal views on multiple variables.\n",
    "jointplot : Draw multiple bivariate plots with univariate marginal distributions."
   ]
  },
  {
   "cell_type": "code",
   "execution_count": null,
   "metadata": {},
   "outputs": [],
   "source": []
  },
  {
   "cell_type": "code",
   "execution_count": null,
   "metadata": {},
   "outputs": [],
   "source": []
  },
  {
   "cell_type": "code",
   "execution_count": null,
   "metadata": {},
   "outputs": [],
   "source": []
  },
  {
   "cell_type": "code",
   "execution_count": null,
   "metadata": {},
   "outputs": [],
   "source": []
  },
  {
   "cell_type": "markdown",
   "metadata": {
    "id": "2ZRDGGuVx9x2"
   },
   "source": [
    "## <p style=\"background-color:#9d4f8c; font-family:newtimeroman; color:#FFF9ED; font-size:150%; text-align:CENTER; border-radius:10px 10px;\">PAIRPLOT</p>\n",
    "\n",
    "<a id=\"3\"></a>\n",
    "<a href=\"#toc\" class=\"btn btn-primary btn-sm\" role=\"button\" aria-pressed=\"true\" \n",
    "style=\"color:blue; background-color:#dfa8e4\" data-toggle=\"popover\">Content</a>\n",
    "\n",
    "Pairplot visualizes given data to find the **relationship** between them where the variables can be **continuous or categorical**. It plots pairwise relationships in a data-set.\n",
    "\n",
    "\n",
    "🧐 **[seaborn.pairplot Documentation](https://seaborn.pydata.org/generated/seaborn.pairplot.html)**<br>\n",
    "🧐 **[PAIRPLOT VISUALIZATION](https://medium.com/analytics-vidhya/pairplot-visualization-16325cd725e6)**<br>\n",
    "🧐 **[Visualizing Data with Pairs Plots in Python](https://towardsdatascience.com/visualizing-data-with-pair-plots-in-python-f228cf529166)**<br>\n",
    "\n",
    "\n",
    "\n",
    "**How to make a pairplot in Python and the Seaborn pairplot interpretation**"
   ]
  },
  {
   "cell_type": "code",
   "execution_count": null,
   "metadata": {},
   "outputs": [],
   "source": [
    "from IPython.display import HTML, IFrame \n",
    "\n",
    "HTML('<iframe width=\"800\" height=\"500\" src=\"https://www.youtube.com/embed/uCgvlfIo9fg\" title=\"YouTube video player\" frameborder=\"0\" allow=\"accelerometer; autoplay; clipboard-write; encrypted-media; gyroscope; picture-in-picture\" allowfullscreen></iframe>')"
   ]
  },
  {
   "cell_type": "raw",
   "metadata": {},
   "source": [
    "sns.pairplot(\n",
    "            data,\n",
    "            *,\n",
    "            hue=None,\n",
    "            hue_order=None,\n",
    "            palette=None,\n",
    "            vars=None,\n",
    "            x_vars=None,\n",
    "            y_vars=None,\n",
    "            kind='scatter',\n",
    "            diag_kind='auto',\n",
    "            markers=None,\n",
    "            height=2.5,\n",
    "            aspect=1,\n",
    "            corner=False,\n",
    "            dropna=False,\n",
    "            plot_kws=None,\n",
    "            diag_kws=None,\n",
    "            grid_kws=None,\n",
    "            size=None,\n",
    "            )\n",
    "Docstring:\n",
    "Plot pairwise relationships in a dataset.\n",
    "\n",
    "By default, this function will create a grid of Axes such that each numeric variable in ``data`` will by shared across the y-axes across a single row and the x-axes across a single column. The diagonal plots are treated differently: a univariate distribution plot is drawn to show the marginal distribution of the data in each column.\n",
    "\n",
    "It is also possible to show a subset of variables or plot different variables on the rows and columns.\n",
    "\n",
    "This is a high-level interface for :class:`PairGrid` that is intended to make it easy to draw a few common styles. You should use :class:`PairGrid` directly if you need more flexibility.\n",
    "\n",
    "Parameters\n",
    "----------\n",
    "data : `pandas.DataFrame`\n",
    "    Tidy (long-form) dataframe where each column is a variable and each row is an observation.\n",
    "hue : name of variable in ``data``\n",
    "    Variable in ``data`` to map plot aspects to different colors.\n",
    "hue_order : list of strings\n",
    "    Order for the levels of the hue variable in the palette\n",
    "palette : dict or seaborn color palette\n",
    "    Set of colors for mapping the ``hue`` variable. If a dict, keys should be values  in the ``hue`` variable.\n",
    "vars : list of variable names\n",
    "    Variables within ``data`` to use, otherwise use every column with a numeric datatype.\n",
    "{x, y}_vars : lists of variable names\n",
    "    Variables within ``data`` to use separately for the rows and columns of the figure; i.e. to make a non-square plot.\n",
    "kind : {'scatter', 'kde', 'hist', 'reg'}\n",
    "    Kind of plot to make.\n",
    "diag_kind : {'auto', 'hist', 'kde', None}\n",
    "    Kind of plot for the diagonal subplots. If 'auto', choose based on whether or not ``hue`` is used.\n",
    "markers : single matplotlib marker code or list\n",
    "    Either the marker to use for all scatterplot points or a list of markers with a length the same as the number of levels in\n",
    "    the hue variable so that differently colored points will also have different scatterplot markers.\n",
    "height : scalar\n",
    "    Height (in inches) of each facet.\n",
    "aspect : scalar\n",
    "    Aspect * height gives the width (in inches) of each facet.\n",
    "corner : bool\n",
    "    If True, don't add axes to the upper (off-diagonal) triangle of the grid, making this a \"corner\" plot.\n",
    "dropna : boolean\n",
    "    Drop missing values from the data before plotting.\n",
    "{plot, diag, grid}_kws : dicts\n",
    "    Dictionaries of keyword arguments. ``plot_kws`` are passed to the bivariate plotting function, ``diag_kws`` are passed to \n",
    "    the univariate plotting function, and ``grid_kws`` are passed to the :class:`PairGrid` constructor.\n",
    "\n",
    "Returns\n",
    "-------\n",
    "grid : :class:`PairGrid`\n",
    "    Returns the underlying :class:`PairGrid` instance for further tweaking.\n",
    "\n",
    "See Also\n",
    "--------\n",
    "PairGrid  : Subplot grid for more flexible plotting of pairwise relationships.\n",
    "JointGrid : Grid for plotting joint and marginal distributions of two variables."
   ]
  },
  {
   "cell_type": "code",
   "execution_count": null,
   "metadata": {},
   "outputs": [],
   "source": []
  },
  {
   "cell_type": "markdown",
   "metadata": {},
   "source": [
    "### <p style=\"background-color:#9d4f8c; font-family:newtimeroman; color:#FFF9ED; font-size:150%; text-align:left; border-radius:10px 10px;\">\"palette\" Parameter</p>\n",
    "\n",
    "<a id=\"3.1\"></a>\n",
    "<a href=\"#toc\" class=\"btn btn-primary btn-sm\" role=\"button\" aria-pressed=\"true\" \n",
    "style=\"color:blue; background-color:#dfa8e4\" data-toggle=\"popover\">Content</a>\n",
    "\n",
    "**palette:** dict or seaborn color palette\n",
    "\n",
    "Set of colors for mapping the hue variable. If a dict, keys should be values in the hue variable.\n",
    "\n",
    "🧐 **[Source](https://seaborn.pydata.org/generated/seaborn.pairplot.html)**\n",
    "\n",
    "Seaborn has six variations of its default color palette: \"deep\", \"muted\", \"pastel\", \"bright\", \"dark\", and \"colorblind\". For learning how to play with palette colors 🧐 **[visit HERE](https://www.codecademy.com/article/seaborn-design-ii) and [visit HERE](https://seaborn.pydata.org/tutorial/color_palettes.html)**\n",
    "\n",
    "Some palette color examples: \"viridis\" \"crest\", \"magma\", \"rocket\", \"rocket_r\", \"cubehelix\", \"seagreen\" \"dark:salmon_r\", \"Blues\", \"vlag\", \"icefire\" etc.\n",
    "\n",
    "🧐 **[Source](https://seaborn.pydata.org/tutorial/color_palettes.html)**\n",
    "\n",
    "To set custom seaborn color palette using hex codes, and name the colors, visit the following sources 🧐 **[SOURCE 01](https://stackoverflow.com/questions/52652264/set-custom-seaborn-color-palette-using-hex-codes-and-name-the-colors), [SOURCE 02](https://moonbooks.org/Articles/How-to-extract-html-color-codes-hex-codes-from-a-seaborn-palette-/), [SOURCE 03](https://towardsdatascience.com/how-to-use-your-own-color-palettes-with-seaborn-a45bf5175146) and [SOURCE 04](https://medium.com/@neuralnets/data-visualization-with-python-and-seaborn-part-3-69647c19bf2)**"
   ]
  },
  {
   "cell_type": "markdown",
   "metadata": {},
   "source": [
    "**The possible value of the palette are:**\n",
    "\n",
    "'Accent', 'Accent_r', 'Blues', 'Blues_r', 'BrBG', 'BrBG_r', 'BuGn', 'BuGn_r', 'BuPu', 'BuPu_r', 'CMRmap', 'CMRmap_r', 'Dark2', 'Dark2_r', 'GnBu', 'GnBu_r', 'Greens', 'Greens_r', 'Greys', 'Greys_r', 'OrRd', 'OrRd_r', 'Oranges', 'Oranges_r', 'PRGn', 'PRGn_r', 'Paired', 'Paired_r', 'Pastel1', 'Pastel1_r', 'Pastel2', 'Pastel2_r', 'PiYG', 'PiYG_r', 'PuBu', 'PuBuGn', 'PuBuGn_r', 'PuBu_r', 'PuOr', 'PuOr_r', 'PuRd', 'PuRd_r', 'Purples', 'Purples_r', 'RdBu', 'RdBu_r', 'RdGy', 'RdGy_r', 'RdPu', 'RdPu_r', 'RdYlBu', 'RdYlBu_r', 'RdYlGn', 'RdYlGn_r', 'Reds', 'Reds_r', 'Set1', 'Set1_r', 'Set2', 'Set2_r', 'Set3', 'Set3_r', 'Spectral', 'Spectral_r', 'Wistia', 'Wistia_r', 'YlGn', 'YlGnBu', 'YlGnBu_r', 'YlGn_r', 'YlOrBr', 'YlOrBr_r', 'YlOrRd', 'YlOrRd_r', 'afmhot', 'afmhot_r', 'autumn', 'autumn_r', 'binary', 'binary_r', 'bone', 'bone_r', 'brg', 'brg_r', 'bwr', 'bwr_r', 'cividis', 'cividis_r', 'cool', 'cool_r', 'coolwarm', 'coolwarm_r', 'copper', 'copper_r', 'crest', 'crest_r', 'cubehelix', 'cubehelix_r', 'flag', 'flag_r', 'flare', 'flare_r', 'gist_earth', 'gist_earth_r', 'gist_gray', 'gist_gray_r', 'gist_heat', 'gist_heat_r', 'gist_ncar', 'gist_ncar_r', 'gist_rainbow', 'gist_rainbow_r', 'gist_stern', 'gist_stern_r', 'gist_yarg', 'gist_yarg_r', 'gnuplot', 'gnuplot2', 'gnuplot2_r', 'gnuplot_r', 'gray', 'gray_r', 'hot', 'hot_r', 'hsv', 'hsv_r', 'icefire', 'icefire_r', 'inferno', 'inferno_r', 'jet', 'jet_r', 'magma', 'magma_r', 'mako', 'mako_r', 'nipy_spectral', 'nipy_spectral_r', 'ocean', 'ocean_r', 'pink', 'pink_r', 'plasma', 'plasma_r', 'prism', 'prism_r', 'rainbow', 'rainbow_r', 'rocket', 'rocket_r', 'seismic', 'seismic_r', 'spring', 'spring_r', 'summer', 'summer_r', 'tab10', 'tab10_r', 'tab20', 'tab20_r', 'tab20b', 'tab20b_r', 'tab20c', 'tab20c_r', 'terrain', 'terrain_r', 'turbo', 'turbo_r', 'twilight', 'twilight_r', 'twilight_shifted', 'twilight_shifted_r', 'viridis', 'viridis_r', 'vlag', 'vlag_r', 'winter', 'winter_r'\n",
    "\n",
    "**🧐 [Choosing color palettes in Seaborn](https://seaborn.pydata.org/tutorial/color_palettes.html)**\n",
    "\n",
    "**🧐 [Seaborn Palette Options](https://gist.github.com/topspinj/6eefa8bf54850d90eccf1d3715e019b2)**\n",
    "\n",
    "**🧐 [Seaborn – Color Palette](https://www.geeksforgeeks.org/seaborn-color-palette/)**\n",
    "\n",
    "<img src=https://i.ibb.co/SJPDp2c/seaborn-colors.png width=\"700\" height=\"200\">  "
   ]
  },
  {
   "cell_type": "code",
   "execution_count": null,
   "metadata": {},
   "outputs": [],
   "source": []
  },
  {
   "cell_type": "markdown",
   "metadata": {},
   "source": [
    "### <p style=\"background-color:#9d4f8c; font-family:newtimeroman; color:#FFF9ED; font-size:150%; text-align:left; border-radius:10px 10px;\">\"corner\" Parameter</p>\n",
    "\n",
    "<a id=\"3.2\"></a>\n",
    "<a href=\"#toc\" class=\"btn btn-primary btn-sm\" role=\"button\" aria-pressed=\"true\" \n",
    "style=\"color:blue; background-color:#dfa8e4\" data-toggle=\"popover\">Content</a>\n",
    "\n",
    "**corner:** bool\n",
    "\n",
    "If True, don’t add axes to the upper (off-diagonal) triangle of the grid, making this a “corner” plot.\n",
    "\n",
    "**🧐 [Source](https://seaborn.pydata.org/generated/seaborn.pairplot.html)**"
   ]
  },
  {
   "cell_type": "code",
   "execution_count": null,
   "metadata": {},
   "outputs": [],
   "source": []
  },
  {
   "cell_type": "markdown",
   "metadata": {},
   "source": [
    "**Let's remember our \"kdeplot()\" at Seaborn, and plot each variable above individually using \"kdeplot()\"**"
   ]
  },
  {
   "cell_type": "code",
   "execution_count": null,
   "metadata": {},
   "outputs": [],
   "source": []
  },
  {
   "cell_type": "code",
   "execution_count": null,
   "metadata": {},
   "outputs": [],
   "source": []
  },
  {
   "cell_type": "code",
   "execution_count": null,
   "metadata": {},
   "outputs": [],
   "source": []
  },
  {
   "cell_type": "markdown",
   "metadata": {},
   "source": [
    "### <p style=\"background-color:#9d4f8c; font-family:newtimeroman; color:#FFF9ED; font-size:150%; text-align:left; border-radius:10px 10px;\">\"diag_kind\" Parameter</p>\n",
    "\n",
    "<a id=\"3.3\"></a>\n",
    "<a href=\"#toc\" class=\"btn btn-primary btn-sm\" role=\"button\" aria-pressed=\"true\" \n",
    "style=\"color:blue; background-color:#dfa8e4\" data-toggle=\"popover\">Content</a>\n",
    "\n",
    "**diag_kind:** {‘auto’, ‘hist’, ‘kde’, None}\n",
    "\n",
    "Kind of plot for the diagonal subplots. If ‘auto’, choose based on whether or not hue is used. The default depends on whether \"hue\" is used or not.\n",
    "\n",
    "**🧐 [Source](https://seaborn.pydata.org/generated/seaborn.pairplot.html)**"
   ]
  },
  {
   "cell_type": "code",
   "execution_count": null,
   "metadata": {},
   "outputs": [],
   "source": []
  },
  {
   "cell_type": "code",
   "execution_count": null,
   "metadata": {},
   "outputs": [],
   "source": []
  },
  {
   "cell_type": "markdown",
   "metadata": {
    "id": "whzlJni118h-"
   },
   "source": [
    "## <p style=\"background-color:#9d4f8c; font-family:newtimeroman; color:#FFF9ED; font-size:150%; text-align:CENTER; border-radius:10px 10px;\">PAIRGRID</p>\n",
    "\n",
    "<a id=\"4\"></a>\n",
    "<a href=\"#toc\" class=\"btn btn-primary btn-sm\" role=\"button\" aria-pressed=\"true\" \n",
    "style=\"color:blue; background-color:#dfa8e4\" data-toggle=\"popover\">Content</a>\n",
    "\n",
    "PairGrid allows us to draw a grid of subplots using the same plot type to visualize data.\n",
    "\n",
    "Unlike FacetGrid, it uses different pair of variable for each subplot. It forms a matrix of sub-plots. It is also sometimes called as \"scatterplot matrix\".\n",
    "\n",
    "The usage of pairgrid is similar to facetgrid. First initialise the grid and then pass the plotting function.\n",
    "\n",
    "🧐 **[seaborn.PairGrid Documentation](https://seaborn.pydata.org/generated/seaborn.PairGrid.html)**<br>\n",
    "🧐 **[Seaborn - Pair Grid](https://www.tutorialspoint.com/seaborn/seaborn_pair_grid.htm)**<br>\n",
    "\n",
    "**Difference Between PairPlot and PairGrid**\n",
    "\n",
    "Pair plots are several bivariate distributions in one plot and can be made using just one simple function. Even the most basic one is very useful in a data analytics project where there are several continuous variables. We know that a scatter plot is widely used to present the relationship between two continuous variables. Pair plot puts several scatter plots in one plot and also provides the distribution diagonally.\n",
    "\n",
    "On the other hand; using PairGrid, an empty grid can be generated. And later you can fill this up as you like. It does not have to be a scatter plot. It can be any other bivariate plot.\n",
    "\n",
    "🧐 **[Pairplot and PairGrid in Python on YouTube](https://youtu.be/QxO2DQc5pCo)**<br>\n",
    "🧐 **[Pair plot and PairGrid in Details](https://towardsdatascience.com/pair-plot-and-pairgrid-in-details-f782975032ea)**<br>\n",
    "🧐 **[Using PairGrid and pairplot](https://campus.datacamp.com/courses/intermediate-data-visualization-with-seaborn/creating-plots-on-data-aware-grids?ex=5)**<br>\n",
    "\n"
   ]
  },
  {
   "cell_type": "markdown",
   "metadata": {},
   "source": [
    "**sns.PairGrid()**\n",
    "\n",
    "Subplot grid for plotting pairwise relationships in a dataset.\n",
    "\n",
    "This object maps each variable in a dataset onto a column and row in a grid of multiple axes. Different axes-level plotting functions can be used to draw bivariate plots in the upper and lower triangles, and the the marginal distribution of each variable can be shown on the diagonal.\n",
    "\n",
    "**Compare PairGrid vs pairplot and use seaborn PairGrid map and map_diag**"
   ]
  },
  {
   "cell_type": "code",
   "execution_count": null,
   "metadata": {},
   "outputs": [],
   "source": [
    "from IPython.display import HTML, IFrame \n",
    "\n",
    "HTML('<iframe width=\"800\" height=\"500\" src=\"https://www.youtube.com/embed/Skyp6-RmA84\" title=\"YouTube video player\" frameborder=\"0\" allow=\"accelerometer; autoplay; clipboard-write; encrypted-media; gyroscope; picture-in-picture\" allowfullscreen></iframe>')"
   ]
  },
  {
   "cell_type": "raw",
   "metadata": {},
   "source": [
    "sns.PairGrid(\n",
    "             data,\n",
    "             *,\n",
    "             hue=None,\n",
    "             hue_order=None,\n",
    "             palette=None,\n",
    "             hue_kws=None,\n",
    "             vars=None,\n",
    "             x_vars=None,\n",
    "             y_vars=None,\n",
    "             corner=False,\n",
    "             diag_sharey=True,\n",
    "             height=2.5,\n",
    "             aspect=1,\n",
    "             layout_pad=0.5,\n",
    "             despine=True,\n",
    "             dropna=False,\n",
    "             size=None,\n",
    "             )\n",
    "Docstring:     \n",
    "Subplot grid for plotting pairwise relationships in a dataset.\n",
    "\n",
    "This object maps each variable in a dataset onto a column and row in a grid of multiple axes. Different axes-level plotting functions can be used to draw bivariate plots in the upper and lower triangles, and the the marginal distribution of each variable can be shown on the diagonal.\n",
    "\n",
    "Several different common plots can be generated in a single line using :func:`pairplot`. Use :class:`PairGrid` when you need more flexibility.\n",
    "\n",
    "See the :ref:`tutorial <grid_tutorial>` for more information.\n",
    "Init docstring:\n",
    "Initialize the plot figure and PairGrid object.\n",
    "\n",
    "Parameters\n",
    "----------\n",
    "data : DataFrame\n",
    "    Tidy (long-form) dataframe where each column is a variable and each row is an observation.\n",
    "hue : string (variable name)\n",
    "    Variable in ``data`` to map plot aspects to different colors. This variable will be excluded from the default x and y \n",
    "    variables.\n",
    "hue_order : list of strings\n",
    "    Order for the levels of the hue variable in the palette\n",
    "palette : dict or seaborn color palette\n",
    "    Set of colors for mapping the ``hue`` variable. If a dict, keys should be values  in the ``hue`` variable.\n",
    "hue_kws : dictionary of param -> list of values mapping\n",
    "    Other keyword arguments to insert into the plotting call to let other plot attributes vary across levels of the hue variable\n",
    "    (e.g. the markers in a scatterplot).\n",
    "vars : list of variable names\n",
    "    Variables within ``data`` to use, otherwise use every column with a numeric datatype.\n",
    "{x, y}_vars : lists of variable names\n",
    "    Variables within ``data`` to use separately for the rows and columns of the figure; i.e. to make a non-square plot.\n",
    "corner : bool\n",
    "    If True, don't add axes to the upper (off-diagonal) triangle of the grid, making this a \"corner\" plot.\n",
    "height : scalar\n",
    "    Height (in inches) of each facet.\n",
    "aspect : scalar\n",
    "    Aspect * height gives the width (in inches) of each facet.\n",
    "layout_pad : scalar\n",
    "    Padding between axes; passed to ``fig.tight_layout``.\n",
    "despine : boolean\n",
    "    Remove the top and right spines from the plots.\n",
    "dropna : boolean\n",
    "    Drop missing values from the data before plotting.\n",
    "\n",
    "See Also\n",
    "--------\n",
    "pairplot  : Easily drawing common uses of :class:`PairGrid`.\n",
    "FacetGrid : Subplot grid for plotting conditional relationships."
   ]
  },
  {
   "cell_type": "code",
   "execution_count": null,
   "metadata": {},
   "outputs": [],
   "source": []
  },
  {
   "cell_type": "code",
   "execution_count": null,
   "metadata": {},
   "outputs": [],
   "source": []
  },
  {
   "cell_type": "code",
   "execution_count": null,
   "metadata": {},
   "outputs": [],
   "source": []
  },
  {
   "cell_type": "code",
   "execution_count": null,
   "metadata": {},
   "outputs": [],
   "source": []
  },
  {
   "cell_type": "markdown",
   "metadata": {
    "id": "bP0VkVan3B6Y"
   },
   "source": [
    "## <p style=\"background-color:#9d4f8c; font-family:newtimeroman; color:#FFF9ED; font-size:150%; text-align:CENTER; border-radius:10px 10px;\">FACETGRID</p>\n",
    "\n",
    "<a id=\"5\"></a>\n",
    "<a href=\"#toc\" class=\"btn btn-primary btn-sm\" role=\"button\" aria-pressed=\"true\" \n",
    "style=\"color:blue; background-color:#dfa8e4\" data-toggle=\"popover\">Content</a>\n",
    "\n",
    "FacetGrid object takes a dataframe as input and the names of the variables that will form the row, column, or hue dimensions of the grid. The variables should be **categorical** and the data at each level of the variable will be used for a facet along that axis.\n",
    "\n",
    "A FacetGrid can be drawn with up to three dimensions − row, col, and hue. The first two have obvious correspondence with the resulting array of axes; think of the hue variable as a third dimension along a depth axis, where different levels are plotted with different colors.\n",
    "\n",
    "\n",
    "🧐 **[seaborn.FacetGrid Documentation](https://seaborn.pydata.org/generated/seaborn.FacetGrid.html)**<br>\n",
    "🧐 **[Seaborn - Facet Grid](https://www.tutorialspoint.com/seaborn/seaborn_facet_grid.htm)**<br>\n",
    "🧐 **[Seaborn FacetGrid: Taking Subplots Further](https://towardsdatascience.com/seaborn-facetgrid-taking-subplots-further-15ee7af54e44)**<br>\n",
    "🧐 **[Using Seaborn’s FacetGrid Based Methods for Exploratory Data Analysis](https://www.analyticsvidhya.com/blog/2021/07/using-seaborns-facetgrid-based-methods-for-exploratory-data-analysis/)**<br>\n",
    "\n",
    "\n",
    "\n",
    "**Seaborn FacetGrid | How to make Small Multiples with Python Seaborn | Titles, Hue, Legend**\n"
   ]
  },
  {
   "cell_type": "code",
   "execution_count": null,
   "metadata": {},
   "outputs": [],
   "source": [
    "from IPython.display import YouTubeVideo\n",
    "\n",
    "YouTubeVideo('YYeqJllXHxM', width=800, height=500)"
   ]
  },
  {
   "cell_type": "raw",
   "metadata": {},
   "source": [
    "sns.FacetGrid(\n",
    "              data,\n",
    "              *,\n",
    "              row=None,\n",
    "              col=None,\n",
    "              hue=None,\n",
    "              col_wrap=None,\n",
    "              sharex=True,\n",
    "              sharey=True,\n",
    "              height=3,\n",
    "              aspect=1,\n",
    "              palette=None,\n",
    "              row_order=None,\n",
    "              col_order=None,\n",
    "              hue_order=None,\n",
    "              hue_kws=None,\n",
    "              dropna=False,\n",
    "              legend_out=True,\n",
    "              despine=True,\n",
    "              margin_titles=False,\n",
    "              xlim=None,\n",
    "              ylim=None,\n",
    "              subplot_kws=None,\n",
    "              gridspec_kws=None,\n",
    "              size=None,\n",
    "              )\n",
    "Docstring:      \n",
    "Multi-plot grid for plotting conditional relationships.\n",
    "\n",
    "Init docstring:\n",
    "Initialize the matplotlib figure and FacetGrid object.\n",
    "\n",
    "This class maps a dataset onto multiple axes arrayed in a grid of rows and columns that correspond to *levels* of variables in the dataset. The plots it produces are often called \"lattice\", \"trellis\", or \"small-multiple\" graphics.\n",
    "\n",
    "It can also represent levels of a third variable with the ``hue`` parameter, which plots different subsets of data in different colors. This uses color to resolve elements on a third dimension, but only draws subsets on top of each other and will not tailor the ``hue`` parameter for the specific visualization the way that axes-level functions that accept ``hue`` will.\n",
    "\n",
    "The basic workflow is to initialize the :class:`FacetGrid` object with the dataset and the variables that are used to structure the grid. Then one or more plotting functions can be applied to each subset by calling :meth:`FacetGrid.map` or :meth:`FacetGrid.map_dataframe`. Finally, the plot can be tweaked with other methods to do things like change the\n",
    "axis labels, use different ticks, or add a legend. See the detailed code examples below for more information.\n",
    "\n",
    ".. warning::\n",
    "\n",
    "    When using seaborn functions that infer semantic mappings from a dataset, care must be taken to synchronize those mappings across facets (e.g., by defing the ``hue`` mapping with a palette dict or setting the data type of the variables to ``category``). In most cases, it will be better to use a figure-level function (e.g. :func:`relplot` or :func:`catplot`) than to use :class:`FacetGrid` directly.\n",
    "\n",
    "See the :ref:`tutorial <grid_tutorial>` for more information.\n",
    "\n",
    "Parameters\n",
    "----------\n",
    "data : DataFrame\n",
    "    Tidy (\"long-form\") dataframe where each column is a variable and each row is an observation.    \n",
    "row, col, hue : strings\n",
    "    Variables that define subsets of the data, which will be drawn on separate facets in the grid. See the ``{var}_order``\n",
    "    parameters to control the order of levels of this variable.\n",
    "col_wrap : int\n",
    "    \"Wrap\" the column variable at this width, so that the column facets span multiple rows. Incompatible with a ``row`` facet.   \n",
    "share{x,y} : bool, 'col', or 'row' optional\n",
    "    If true, the facets will share y axes across columns and/or x axes across rows.    \n",
    "height : scalar\n",
    "    Height (in inches) of each facet. See also: ``aspect``.    \n",
    "aspect : scalar\n",
    "    Aspect ratio of each facet, so that ``aspect * height`` gives the width of each facet in inches.    \n",
    "palette : palette name, list, or dict\n",
    "    Colors to use for the different levels of the ``hue`` variable. Should be something that can be interpreted by\n",
    "    :func:`color_palette`, or a dictionary mapping hue levels to matplotlib colors.    \n",
    "{row,col,hue}_order : lists\n",
    "    Order for the levels of the faceting variables. By default, this will be the order that the levels appear in ``data`` or, if\n",
    "    the variables are pandas categoricals, the category order.\n",
    "hue_kws : dictionary of param -> list of values mapping\n",
    "    Other keyword arguments to insert into the plotting call to let other plot attributes vary across levels of the hue variable\n",
    "    (e.g. the markers in a scatterplot).\n",
    "legend_out : bool\n",
    "    If ``True``, the figure size will be extended, and the legend will be drawn outside the plot on the center right.    \n",
    "despine : boolean\n",
    "    Remove the top and right spines from the plots.\n",
    "margin_titles : bool\n",
    "    If ``True``, the titles for the row variable are drawn to the right of the last column. This option is experimental and may\n",
    "    not work in all cases.    \n",
    "{x, y}lim: tuples\n",
    "    Limits for each of the axes on each facet (only relevant when share{x, y} is True).\n",
    "subplot_kws : dict\n",
    "    Dictionary of keyword arguments passed to matplotlib subplot(s) methods.\n",
    "gridspec_kws : dict\n",
    "    Dictionary of keyword arguments passed to :class:`matplotlib.gridspec.GridSpec` (via\n",
    "    :meth:`matplotlib.figure.Figure.subplots`).  Ignored if ``col_wrap`` is not ``None``.\n",
    "\n",
    "See Also\n",
    "--------\n",
    "PairGrid : Subplot grid for plotting pairwise relationships\n",
    "relplot  : Combine a relational plot and a :class:`FacetGrid`\n",
    "displot  : Combine a distribution plot and a :class:`FacetGrid`\n",
    "catplot  : Combine a categorical plot and a :class:`FacetGrid`\n",
    "lmplot   : Combine a regression plot and a :class:`FacetGrid`"
   ]
  },
  {
   "cell_type": "code",
   "execution_count": null,
   "metadata": {},
   "outputs": [],
   "source": []
  },
  {
   "cell_type": "code",
   "execution_count": null,
   "metadata": {},
   "outputs": [],
   "source": []
  },
  {
   "cell_type": "code",
   "execution_count": null,
   "metadata": {},
   "outputs": [],
   "source": []
  },
  {
   "cell_type": "markdown",
   "metadata": {
    "id": "PhpKrZfr3kRB"
   },
   "source": [
    "## <p style=\"background-color:#9d4f8c; font-family:newtimeroman; color:#FFF9ED; font-size:150%; text-align:CENTER; border-radius:10px 10px;\">HEATMAP</p>\n",
    "\n",
    "<a id=\"6\"></a>\n",
    "<a href=\"#toc\" class=\"btn btn-primary btn-sm\" role=\"button\" aria-pressed=\"true\" \n",
    "style=\"color:blue; background-color:#dfa8e4\" data-toggle=\"popover\">Content</a>\n",
    "\n",
    "Heatmap is defined as a graphical representation of data using colors to visualize the value of the matrix. In this, to represent more common values or higher activities brighter colors basically reddish colors are used and to represent less common or activity values, darker colors are preferred. Heatmap is also defined by the name of the shading matrix. Heatmaps in Seaborn can be plotted by using the seaborn.heatmap() function.\n",
    "\n",
    "🧐 **[seaborn.heatmap Documentation](https://seaborn.pydata.org/generated/seaborn.heatmap.html)**<br>\n",
    "🧐 **[Seaborn Heatmap – A comprehensive guide](https://www.geeksforgeeks.org/seaborn-heatmap-a-comprehensive-guide/)**<br>\n",
    "🧐 **[VISUALIZATION WITH SEABORN - HEATMAP on YouTube](https://www.youtube.com/watch?v=Gj-prU8aEgg)**<br>\n",
    "\n",
    "\n",
    "You can customize the colors in your heatmap with the cmap parameter of the heatmap() function in seaborn.\n",
    "\n",
    "🧐 **[Control color in seaborn heatmaps](https://www.python-graph-gallery.com/92-control-color-in-seaborn-heatmaps)**<br>\n",
    "\n",
    "\n",
    "**How to make a heatmap in Python Seaborn and adjust the heatmap style**"
   ]
  },
  {
   "cell_type": "code",
   "execution_count": null,
   "metadata": {},
   "outputs": [],
   "source": [
    "from IPython.display import HTML, IFrame \n",
    "\n",
    "HTML('<iframe width=\"800\" height=\"500\" src=\"https://www.youtube.com/embed/0U9cs2V-Mqc\" title=\"YouTube video player\" frameborder=\"0\" allow=\"accelerometer; autoplay; clipboard-write; encrypted-media; gyroscope; picture-in-picture\" allowfullscreen></iframe>')"
   ]
  },
  {
   "cell_type": "raw",
   "metadata": {},
   "source": [
    "sns.heatmap(\n",
    "            data,\n",
    "            *,\n",
    "            vmin=None,\n",
    "            vmax=None,\n",
    "            cmap=None,\n",
    "            center=None,\n",
    "            robust=False,\n",
    "            annot=None,\n",
    "            fmt='.2g',\n",
    "            annot_kws=None,\n",
    "            linewidths=0,\n",
    "            linecolor='white',\n",
    "            cbar=True,\n",
    "            cbar_kws=None,\n",
    "            cbar_ax=None,\n",
    "            square=False,\n",
    "            xticklabels='auto',\n",
    "            yticklabels='auto',\n",
    "            mask=None,\n",
    "            ax=None,\n",
    "            **kwargs,\n",
    "            )\n",
    "Docstring:\n",
    "Plot rectangular data as a color-encoded matrix.\n",
    "\n",
    "This is an Axes-level function and will draw the heatmap into the currently-active Axes if none is provided to the ``ax`` argument.  Part of this Axes space will be taken and used to plot a colormap, unless ``cbar`` is False or a separate Axes is provided to ``cbar_ax``.\n",
    "\n",
    "Parameters\n",
    "----------\n",
    "data : rectangular dataset\n",
    "    2D dataset that can be coerced into an ndarray. If a Pandas DataFrame is provided, the index/column information will be used\n",
    "    to label the columns and rows.\n",
    "vmin, vmax : floats, optional\n",
    "    Values to anchor the colormap, otherwise they are inferred from the data and other keyword arguments.\n",
    "cmap : matplotlib colormap name or object, or list of colors, optional\n",
    "    The mapping from data values to color space. If not provided, the default will depend on whether ``center`` is set.\n",
    "center : float, optional\n",
    "    The value at which to center the colormap when plotting divergant data.\n",
    "    Using this parameter will change the default ``cmap`` if none is specified.\n",
    "robust : bool, optional\n",
    "    If True and ``vmin`` or ``vmax`` are absent, the colormap range is computed with robust quantiles instead of the extreme\n",
    "    values.\n",
    "annot : bool or rectangular dataset, optional\n",
    "    If True, write the data value in each cell. If an array-like with the same shape as ``data``, then use this to annotate the\n",
    "    heatmap instead of the data. Note that DataFrames will match on position, not index.\n",
    "fmt : str, optional\n",
    "    String formatting code to use when adding annotations.\n",
    "annot_kws : dict of key, value mappings, optional\n",
    "    Keyword arguments for :meth:`matplotlib.axes.Axes.text` when ``annot`` is True.\n",
    "linewidths : float, optional\n",
    "    Width of the lines that will divide each cell.\n",
    "linecolor : color, optional\n",
    "    Color of the lines that will divide each cell.\n",
    "cbar : bool, optional\n",
    "    Whether to draw a colorbar.\n",
    "cbar_kws : dict of key, value mappings, optional\n",
    "    Keyword arguments for :meth:`matplotlib.figure.Figure.colorbar`.\n",
    "cbar_ax : matplotlib Axes, optional\n",
    "    Axes in which to draw the colorbar, otherwise take space from the main Axes.\n",
    "square : bool, optional\n",
    "    If True, set the Axes aspect to \"equal\" so each cell will be square-shaped.\n",
    "xticklabels, yticklabels : \"auto\", bool, list-like, or int, optional\n",
    "    If True, plot the column names of the dataframe. If False, don't plot the column names. If list-like, plot these alternate\n",
    "    labels as the xticklabels. If an integer, use the column names but plot only every n label. If \"auto\", try to densely plot\n",
    "    non-overlapping labels.\n",
    "mask : bool array or DataFrame, optional\n",
    "    If passed, data will not be shown in cells where ``mask`` is True.\n",
    "    Cells with missing values are automatically masked.\n",
    "ax : matplotlib Axes, optional\n",
    "    Axes in which to draw the plot, otherwise use the currently-active Axes.\n",
    "kwargs : other keyword arguments\n",
    "    All other keyword arguments are passed to :meth:`matplotlib.axes.Axes.pcolormesh`.\n",
    "\n",
    "Returns\n",
    "-------\n",
    "ax : matplotlib Axes\n",
    "    Axes object with the heatmap.\n",
    "\n",
    "See Also\n",
    "--------\n",
    "clustermap : Plot a matrix using hierachical clustering to arrange the rows and columns."
   ]
  },
  {
   "cell_type": "code",
   "execution_count": null,
   "metadata": {},
   "outputs": [],
   "source": []
  },
  {
   "cell_type": "code",
   "execution_count": null,
   "metadata": {},
   "outputs": [],
   "source": []
  },
  {
   "cell_type": "code",
   "execution_count": null,
   "metadata": {},
   "outputs": [],
   "source": []
  },
  {
   "cell_type": "markdown",
   "metadata": {},
   "source": [
    "### <p style=\"background-color:#9d4f8c; font-family:newtimeroman; color:#FFF9ED; font-size:150%; text-align:left; border-radius:10px 10px;\">\"annot\" Parameter</p>\n",
    "\n",
    "<a id=\"6.1\"></a>\n",
    "<a href=\"#toc\" class=\"btn btn-primary btn-sm\" role=\"button\" aria-pressed=\"true\" \n",
    "style=\"color:blue; background-color:#dfa8e4\" data-toggle=\"popover\">Content</a>\n",
    "\n",
    "**annot:** bool or rectangular dataset, optional\n",
    "\n",
    "If True, write the data value in each cell. If an array-like with the same shape as data, then use this to annotate the heatmap instead of the data. Note that DataFrames will match on position, not index."
   ]
  },
  {
   "cell_type": "code",
   "execution_count": null,
   "metadata": {},
   "outputs": [],
   "source": []
  },
  {
   "cell_type": "code",
   "execution_count": null,
   "metadata": {},
   "outputs": [],
   "source": []
  },
  {
   "cell_type": "code",
   "execution_count": null,
   "metadata": {},
   "outputs": [],
   "source": []
  },
  {
   "cell_type": "markdown",
   "metadata": {},
   "source": [
    "**center : float, optional**\n",
    "\n",
    "    The value at which to center the colormap when plotting divergant data.\n",
    "    Using this parameter will change the default ``cmap`` if none is specified."
   ]
  },
  {
   "cell_type": "code",
   "execution_count": null,
   "metadata": {},
   "outputs": [],
   "source": []
  },
  {
   "cell_type": "code",
   "execution_count": null,
   "metadata": {},
   "outputs": [],
   "source": []
  },
  {
   "cell_type": "code",
   "execution_count": null,
   "metadata": {},
   "outputs": [],
   "source": []
  },
  {
   "cell_type": "markdown",
   "metadata": {},
   "source": [
    "## <p style=\"background-color:#9d4f8c; font-family:newtimeroman; color:#FFF9ED; font-size:150%; text-align:CENTER; border-radius:10px 10px;\">CLUSTERMAP</p>\n",
    "\n",
    "<a id=\"7\"></a>\n",
    "<a href=\"#toc\" class=\"btn btn-primary btn-sm\" role=\"button\" aria-pressed=\"true\" \n",
    "style=\"color:blue; background-color:#dfa8e4\" data-toggle=\"popover\">Content</a>\n",
    "\n",
    "The **``clustermap()``** function of seaborn plots a hierarchically-clustered heat map of the given matrix dataset. It returns a clustered grid index. \n",
    "\n",
    "The **``.clustermap()``** method uses a hierarchical clusters to order data by similarity. This reorganizes the data for the rows and columns and displays similar content next to one another for even more depth of understanding the data.\n",
    "\n",
    "🧐 **[seaborn.clustermap Documentation](https://seaborn.pydata.org/generated/seaborn.clustermap.html)**<br>\n",
    "🧐 **[How to use Seaborn for Heatmaps](https://medium.com/@kbrook10/day-4-data-visualization-how-to-use-seaborn-for-heatmaps-bf8070e3846e)**<br>\n",
    "🧐 **[Hierarchically-clustered Heatmap in Python with Seaborn Clustermap](https://www.geeksforgeeks.org/hierarchically-clustered-heatmap-in-python-with-seaborn-clustermap/)**<br>\n",
    "🧐 **[How the clustermap works and what is the clustermap? on YouTube](https://www.youtube.com/watch?v=crQkHHhY7aY)**<br>\n",
    "🧐 **[Seaborn Clustermap Part 1 on YouTube](https://www.youtube.com/watch?v=98x1AIl-q90)**<br>\n",
    "🧐 **[Seaborn Clustermap Part 2 on YouTube](https://www.youtube.com/watch?v=c1gSshIYNng)**<br>\n",
    "\n",
    "\n",
    "**How the clustermap works and what is the clustermap?**"
   ]
  },
  {
   "cell_type": "code",
   "execution_count": null,
   "metadata": {},
   "outputs": [],
   "source": [
    "from IPython.display import YouTubeVideo\n",
    "\n",
    "YouTubeVideo('crQkHHhY7aY', width=800, height=500)"
   ]
  },
  {
   "cell_type": "raw",
   "metadata": {},
   "source": [
    "sns.clustermap(\n",
    "               data,\n",
    "               *,\n",
    "               pivot_kws=None,\n",
    "               method='average',\n",
    "               metric='euclidean',\n",
    "               z_score=None,\n",
    "               standard_scale=None,\n",
    "               figsize=(10, 10),\n",
    "               cbar_kws=None,\n",
    "               row_cluster=True,\n",
    "               col_cluster=True,\n",
    "               row_linkage=None,\n",
    "               col_linkage=None,\n",
    "               row_colors=None,\n",
    "               col_colors=None,\n",
    "               mask=None,\n",
    "               dendrogram_ratio=0.2,\n",
    "               colors_ratio=0.03,\n",
    "               cbar_pos=(0.02, 0.8, 0.05, 0.18),\n",
    "               tree_kws=None,\n",
    "               **kwargs,\n",
    "               )\n",
    "Docstring:\n",
    "Plot a matrix dataset as a hierarchically-clustered heatmap.\n",
    "\n",
    "Parameters\n",
    "----------\n",
    "data : 2D array-like\n",
    "    Rectangular data for clustering. Cannot contain NAs.\n",
    "pivot_kws : dict, optional\n",
    "    If `data` is a tidy dataframe, can provide keyword arguments for pivot to create a rectangular dataframe.\n",
    "method : str, optional\n",
    "    Linkage method to use for calculating clusters. See :func:`scipy.cluster.hierarchy.linkage` documentation for more\n",
    "    information.\n",
    "metric : str, optional\n",
    "    Distance metric to use for the data. See\n",
    "    :func:`scipy.spatial.distance.pdist` documentation for more options.\n",
    "    To use different metrics (or methods) for rows and columns, you may construct each linkage matrix yourself and provide them as\n",
    "    `{row,col}_linkage`.\n",
    "z_score : int or None, optional\n",
    "    Either 0 (rows) or 1 (columns). Whether or not to calculate z-scores for the rows or the columns. Z scores are: \n",
    "    z = (x - mean)/std, so values in each row (column) will get the mean of the row (column) subtracted, then divided by the\n",
    "    standard deviation of the row (column). This ensures that each row (column) has mean of 0 and variance of 1.\n",
    "standard_scale : int or None, optional\n",
    "    Either 0 (rows) or 1 (columns). Whether or not to standardize that dimension, meaning for each row or column, subtract the\n",
    "    minimum and divide each by its maximum.\n",
    "figsize : tuple of (width, height), optional\n",
    "    Overall size of the figure.\n",
    "cbar_kws : dict, optional\n",
    "    Keyword arguments to pass to `cbar_kws` in :func:`heatmap`, e.g. to add a label to the colorbar.\n",
    "{row,col}_cluster : bool, optional\n",
    "    If ``True``, cluster the {rows, columns}.\n",
    "{row,col}_linkage : :class:`numpy.ndarray`, optional\n",
    "    Precomputed linkage matrix for the rows or columns. See :func:`scipy.cluster.hierarchy.linkage` for specific formats.\n",
    "{row,col}_colors : list-like or pandas DataFrame/Series, optional\n",
    "    List of colors to label for either the rows or columns. Useful to evaluate whether samples within a group are clustered\n",
    "    together. Can use nested lists or DataFrame for multiple color levels of labeling. If given as a\n",
    "    :class:`pandas.DataFrame` or :class:`pandas.Series`, labels for the colors are extracted from the DataFrames column names or\n",
    "    from the name of the Series.\n",
    "    DataFrame/Series colors are also matched to the data by their index, ensuring colors are drawn in the correct order.\n",
    "mask : bool array or DataFrame, optional\n",
    "    If passed, data will not be shown in cells where `mask` is True.\n",
    "    Cells with missing values are automatically masked. Only used for visualizing, not for calculating.\n",
    "{dendrogram,colors}_ratio : float, or pair of floats, optional\n",
    "    Proportion of the figure size devoted to the two marginal elements. If a pair is given, they correspond to (row, col) \n",
    "    ratios.\n",
    "cbar_pos : tuple of (left, bottom, width, height), optional\n",
    "    Position of the colorbar axes in the figure. Setting to ``None`` will disable the colorbar.\n",
    "tree_kws : dict, optional\n",
    "    Parameters for the :class:`matplotlib.collections.LineCollection` that is used to plot the lines of the dendrogram tree.\n",
    "kwargs : other keyword arguments\n",
    "    All other keyword arguments are passed to :func:`heatmap`.\n",
    "\n",
    "Returns\n",
    "-------\n",
    ":class:`ClusterGrid`\n",
    "    A :class:`ClusterGrid` instance.\n",
    "\n",
    "See Also\n",
    "--------\n",
    "heatmap : Plot rectangular data as a color-encoded matrix.\n",
    "\n",
    "Notes\n",
    "-----\n",
    "The returned object has a ``savefig`` method that should be used if you want to save the figure object without clipping the dendrograms.\n",
    "\n",
    "To access the reordered row indices, use:\n",
    "``clustergrid.dendrogram_row.reordered_ind``\n",
    "\n",
    "Column indices, use:\n",
    "``clustergrid.dendrogram_col.reordered_ind``"
   ]
  },
  {
   "cell_type": "code",
   "execution_count": null,
   "metadata": {},
   "outputs": [],
   "source": []
  },
  {
   "cell_type": "code",
   "execution_count": null,
   "metadata": {},
   "outputs": [],
   "source": []
  },
  {
   "cell_type": "code",
   "execution_count": null,
   "metadata": {},
   "outputs": [],
   "source": []
  },
  {
   "cell_type": "code",
   "execution_count": null,
   "metadata": {
    "colab": {
     "base_uri": "https://localhost:8080/",
     "height": 746
    },
    "id": "MTxNho6o6fyG",
    "outputId": "d95f6307-2098-49c0-b800-d647ce21a48a"
   },
   "outputs": [],
   "source": [
    "iris = sns.load_dataset(\"iris\")\n",
    "iris.head()"
   ]
  },
  {
   "cell_type": "code",
   "execution_count": null,
   "metadata": {},
   "outputs": [],
   "source": []
  },
  {
   "cell_type": "code",
   "execution_count": null,
   "metadata": {},
   "outputs": [],
   "source": []
  },
  {
   "cell_type": "code",
   "execution_count": null,
   "metadata": {},
   "outputs": [],
   "source": []
  },
  {
   "cell_type": "markdown",
   "metadata": {
    "id": "SfDkCKc1zWss"
   },
   "source": [
    "The iris dataset contains observations of three iris species: Iris-setosa, Iris-versicolor, and Iris-virginica.\n",
    "There are 50 observations of each species for a total of 150 observations with 4 features each (sepal length, sepal width, petal length, petal width).\n",
    "\n",
    "[Source](https://www.pluralsight.com/guides/designing-a-machine-learning-model)"
   ]
  },
  {
   "cell_type": "code",
   "execution_count": null,
   "metadata": {},
   "outputs": [],
   "source": []
  },
  {
   "cell_type": "code",
   "execution_count": null,
   "metadata": {},
   "outputs": [],
   "source": []
  },
  {
   "cell_type": "markdown",
   "metadata": {},
   "source": [
    "## BONUS"
   ]
  },
  {
   "cell_type": "code",
   "execution_count": null,
   "metadata": {},
   "outputs": [],
   "source": [
    "penguins = sns.load_dataset(\"penguins\")\n",
    "penguins"
   ]
  },
  {
   "cell_type": "code",
   "execution_count": null,
   "metadata": {
    "scrolled": true
   },
   "outputs": [],
   "source": [
    "penguins.isnull().sum()"
   ]
  },
  {
   "cell_type": "code",
   "execution_count": null,
   "metadata": {},
   "outputs": [],
   "source": [
    "is_NaN = penguins.isnull()\n",
    "row_has_NaN = is_NaN.any(axis=1)\n",
    "rows_with_NaN = penguins[row_has_NaN]\n",
    "rows_with_NaN"
   ]
  },
  {
   "cell_type": "code",
   "execution_count": null,
   "metadata": {},
   "outputs": [],
   "source": [
    "NAN_index = rows_with_NaN.index\n",
    "NAN_index"
   ]
  },
  {
   "cell_type": "code",
   "execution_count": null,
   "metadata": {},
   "outputs": [],
   "source": [
    "plt.figure(figsize=(10, 10))\n",
    "sns.heatmap(penguins.isnull());"
   ]
  },
  {
   "cell_type": "code",
   "execution_count": null,
   "metadata": {},
   "outputs": [],
   "source": [
    "plt.figure(figsize = (10, 5))\n",
    "\n",
    "sns.displot(\n",
    "    data = penguins.isnull().melt(value_name=\"missing\"),\n",
    "    y = \"variable\",\n",
    "    hue = \"missing\",\n",
    "    multiple = \"fill\",\n",
    "    height = 9.25)\n",
    "\n",
    "plt.axvline(0.2, color = \"r\")\n",
    "plt.show()"
   ]
  },
  {
   "cell_type": "code",
   "execution_count": null,
   "metadata": {},
   "outputs": [],
   "source": [
    "plt.figure(figsize=(10, 10))\n",
    "\n",
    "sns.heatmap(rows_with_NaN.isnull());"
   ]
  },
  {
   "cell_type": "markdown",
   "metadata": {},
   "source": [
    "## BONUS EXERCISES on **``TITANIC``** DATASET"
   ]
  },
  {
   "cell_type": "markdown",
   "metadata": {},
   "source": [
    "### TASK 01: How many people survived by their class?"
   ]
  },
  {
   "cell_type": "markdown",
   "metadata": {},
   "source": [
    "**Be careful while annotating since it returns a FacetGrid object when you call catplot!**"
   ]
  },
  {
   "cell_type": "code",
   "execution_count": null,
   "metadata": {
    "colab": {
     "base_uri": "https://localhost:8080/",
     "height": 400
    },
    "id": "dwn5KJBXyaRW",
    "outputId": "a5f1f544-42e8-4992-fd2e-f023ba2dc01e",
    "scrolled": false
   },
   "outputs": [],
   "source": [
    "# estimator : callable that maps vector -> scalar, optional\n",
    "# Statistical function to estimate within each categorical bin.\n",
    "\n",
    "g = sns.catplot(x='pclass', \n",
    "                y = \"survived\", \n",
    "                data=titanic, \n",
    "                kind=\"bar\", \n",
    "                estimator=np.count_nonzero)\n",
    "\n",
    "ax = g.facet_axis(0, 0)\n",
    "\n",
    "for container in ax.containers:\n",
    "    ax.bar_label(container, label_type=\"center\", color=\"white\", fontsize=14)"
   ]
  },
  {
   "cell_type": "code",
   "execution_count": null,
   "metadata": {
    "colab": {
     "base_uri": "https://localhost:8080/",
     "height": 400
    },
    "id": "S33mATNZKJVB",
    "outputId": "a280e6ca-60b9-4ec4-f09d-0cd6233edbb1"
   },
   "outputs": [],
   "source": [
    "g = sns.catplot(x='pclass', \n",
    "                y=\"survived\", \n",
    "                data=titanic, \n",
    "                kind=\"bar\", \n",
    "                estimator=np.sum)\n",
    "\n",
    "ax = g.facet_axis(0, 0)\n",
    "\n",
    "for container in ax.containers:\n",
    "    ax.bar_label(container, label_type=\"center\", color=\"white\", fontsize=14)"
   ]
  },
  {
   "cell_type": "code",
   "execution_count": null,
   "metadata": {
    "scrolled": true
   },
   "outputs": [],
   "source": [
    "titanic.groupby([\"pclass\", \"survived\"])[\"survived\"].count()"
   ]
  },
  {
   "cell_type": "code",
   "execution_count": null,
   "metadata": {},
   "outputs": [],
   "source": [
    "titanic.groupby([\"pclass\", \"survived\"])[\"survived\"].sum()"
   ]
  },
  {
   "cell_type": "code",
   "execution_count": null,
   "metadata": {},
   "outputs": [],
   "source": [
    "titanic[titanic.survived == 1].groupby(\"pclass\")[\"survived\"].count()"
   ]
  },
  {
   "cell_type": "markdown",
   "metadata": {},
   "source": [
    "### TASK 02: How many of people survived were men and women by their class?"
   ]
  },
  {
   "cell_type": "markdown",
   "metadata": {},
   "source": [
    "**estimator**\n",
    "\n",
    "callable that maps vector -> scalar, optional\n",
    "\n",
    "Statistical function to estimate within each categorical bin.\n",
    "\n",
    "**[numpy.count_nonzero(a, axis=None, *, keepdims=False)](https://numpy.org/doc/stable/reference/generated/numpy.count_nonzero.html)**\n",
    "\n",
    "Counts the number of non-zero values in the array. For example, any number is considered truthful if it is nonzero, whereas any string is considered truthful if it is not the empty string. Thus, this function (recursively) counts how many elements in a (and in sub-arrays thereof) have their __nonzero__() or __bool__() method evaluated to True.\n",
    "\n",
    "[Source](https://numpy.org/doc/stable/reference/generated/numpy.count_nonzero.html)<br>"
   ]
  },
  {
   "cell_type": "code",
   "execution_count": null,
   "metadata": {
    "colab": {
     "base_uri": "https://localhost:8080/",
     "height": 400
    },
    "id": "ZQAHMNbhKJYY",
    "outputId": "7142e6b6-db51-4ff8-8acc-7f9868e35e5d"
   },
   "outputs": [],
   "source": [
    "g = sns.catplot(x='pclass', \n",
    "                y = \"survived\", \n",
    "                data=titanic, \n",
    "                kind=\"bar\", \n",
    "                estimator=np.count_nonzero, \n",
    "                hue=\"sex\")\n",
    "\n",
    "ax = g.facet_axis(0, 0)\n",
    "\n",
    "for container in ax.containers:\n",
    "    ax.bar_label(container, label_type=\"center\", color=\"white\", fontsize=14)"
   ]
  },
  {
   "cell_type": "code",
   "execution_count": null,
   "metadata": {},
   "outputs": [],
   "source": [
    "titanic[titanic.survived == 1].groupby([\"pclass\", \"sex\"])[\"survived\"].count()"
   ]
  },
  {
   "cell_type": "markdown",
   "metadata": {},
   "source": [
    "### TASK 03: How many men/women who were alone or not alone survived according to their class and the place where they embarked?"
   ]
  },
  {
   "cell_type": "code",
   "execution_count": null,
   "metadata": {},
   "outputs": [],
   "source": [
    "titanic[\"embarked\"].value_counts()"
   ]
  },
  {
   "cell_type": "code",
   "execution_count": null,
   "metadata": {},
   "outputs": [],
   "source": [
    "titanic[\"alone\"].value_counts()"
   ]
  },
  {
   "cell_type": "code",
   "execution_count": null,
   "metadata": {
    "colab": {
     "base_uri": "https://localhost:8080/",
     "height": 1000
    },
    "id": "E7CMYjpsKJbX",
    "outputId": "1bedef96-162c-4f70-a660-53608d8bdf26"
   },
   "outputs": [],
   "source": [
    "g = sns.catplot(x='pclass', \n",
    "            y = \"survived\", \n",
    "            data=titanic, \n",
    "            kind=\"bar\", \n",
    "            estimator=np.count_nonzero, \n",
    "            hue=\"sex\", \n",
    "            col=\"alone\", \n",
    "            row=\"embarked\")\n",
    "\n",
    "# iterate through axes\n",
    "for ax in g.axes.ravel():\n",
    "    # add annotations\n",
    "    for c in ax.containers:\n",
    "        labels = [f'{(v.get_height()):.0f} People' for v in c]\n",
    "        ax.bar_label(c, labels=labels, label_type='edge', color=\"red\")\n",
    "    ax.margins(y=0.2)    \n",
    "    \n",
    "#     for container in ax.containers:\n",
    "#         ax.bar_label(container, label_type=\"edge\", color=\"red\", fontsize=14)"
   ]
  },
  {
   "cell_type": "markdown",
   "metadata": {},
   "source": [
    "**[Seaborn Catplot set values over the bars](https://stackoverflow.com/questions/55586912/seaborn-catplot-set-values-over-the-bars)**"
   ]
  },
  {
   "cell_type": "code",
   "execution_count": null,
   "metadata": {
    "scrolled": false
   },
   "outputs": [],
   "source": [
    "titanic[titanic.survived == 1].groupby([\"pclass\", \"embarked\", \"alone\", \"sex\"])[\"survived\"].count()"
   ]
  },
  {
   "cell_type": "markdown",
   "metadata": {},
   "source": [
    "## <p style=\"background-color:#9d4f8c; font-family:newtimeroman; color:#FFF9ED; font-size:150%; text-align:center; border-radius:10px 10px;\">THE END OF SEABORN SESSION 05 - PART 03</p>\n",
    "\n",
    "<a id=\"8\"></a>\n",
    "<a href=\"#toc\" class=\"btn btn-primary btn-sm\" role=\"button\" aria-pressed=\"true\" \n",
    "style=\"color:blue; background-color:#dfa8e4\" data-toggle=\"popover\">Content</a>"
   ]
  },
  {
   "cell_type": "markdown",
   "metadata": {
    "id": "EneLU_t6yDhn"
   },
   "source": [
    "<p style=\"text-align: center;\"><img src=\"https://i.ibb.co/99DQ3TY/DS-Courses.png\" class=\"img-fluid\" \n",
    "alt=\"CLRSWY\"></p>\n",
    "\n",
    "<a href=\"https://clarusway.com/\"><img align=\"center\" src=\"https://docs.google.com/uc?id=1lY0Uj5R04yMY3-ZppPWxqCr5pvBLYPnV\" alt=\"CLRSWY\" title=\"Way to Reinvent Yourself\"></a><br/>\n",
    "\n",
    "\n",
    "## <p style=\"background-color:#FDFEFE; font-family:newtimeroman; color:#9d4f8c; font-size:120%; text-align:center; border-radius:10px 10px;\">Way to Reinvent Yourself</p>\n",
    "___"
   ]
  },
  {
   "cell_type": "markdown",
   "metadata": {
    "deletable": false,
    "editable": false
   },
   "source": [
    "<a href=\"https://clarusway.com/contact-us/\"><img align=\"center\" src=\"https://i.ibb.co/B43qn24/officially-licensed-logo.png\" alt=\"Open in Clarusway LMS\" width=\"110\" height=\"200\" title=\"This notebook is licensed by Clarusway IT training school. Please contact the authorized persons about the conditions under which you can use or share.\"></a>"
   ]
  }
 ],
 "metadata": {
  "colab": {
   "collapsed_sections": [],
   "name": "S5_Seaborn-3.ipynb",
   "provenance": []
  },
  "kernelspec": {
   "display_name": "Python 3 (ipykernel)",
   "language": "python",
   "name": "python3"
  },
  "language_info": {
   "codemirror_mode": {
    "name": "ipython",
    "version": 3
   },
   "file_extension": ".py",
   "mimetype": "text/x-python",
   "name": "python",
   "nbconvert_exporter": "python",
   "pygments_lexer": "ipython3",
   "version": "3.9.13"
  },
  "toc": {
   "base_numbering": 1,
   "nav_menu": {},
   "number_sections": false,
   "sideBar": true,
   "skip_h1_title": false,
   "title_cell": "Table of Contents",
   "title_sidebar": "Contents",
   "toc_cell": false,
   "toc_position": {
    "height": "calc(100% - 180px)",
    "left": "10px",
    "top": "150px",
    "width": "304.475px"
   },
   "toc_section_display": true,
   "toc_window_display": true
  }
 },
 "nbformat": 4,
 "nbformat_minor": 1
}
