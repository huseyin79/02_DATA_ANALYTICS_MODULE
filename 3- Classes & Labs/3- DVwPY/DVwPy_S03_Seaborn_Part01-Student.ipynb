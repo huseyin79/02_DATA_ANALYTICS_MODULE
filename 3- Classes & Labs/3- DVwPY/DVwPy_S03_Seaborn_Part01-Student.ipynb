{
 "cells": [
  {
   "cell_type": "markdown",
   "metadata": {},
   "source": [
    "___\n",
    "\n",
    "<a href=\"https://lms.clarusway.com/mod/lesson/view.php?id=20305\"><img align=\"center\" src=\"https://i.ibb.co/6Z5pQxD/lmss.png\" alt=\"Open in Clarusway LMS\" width=\"70\" height=\"200\" title=\"Open Clarusway Learning Management Sytem\"></a>\n",
    "\n",
    "<a href=\"https://github.com/clarusway/DS-DE-0322-Students/blob/main/3-%20Classes%26Labs/3-DVwPY/DVwPy_S03_Seaborn_Part01.ipynb\"><img align=\"left\" src=\"https://i.ibb.co/n3HWyQX/github-logo.png\" alt=\"Open in Clarusway GitHub\" width=\"100\" height=\"150\" title=\"Open and Execute in Clarusway GitHub Repository\"></a>\n",
    "\n",
    "<a href=\"https://nbviewer.org/github/4dsolutions/clarusway_data_analysis/blob/main/DVwPY_S3/3-DVwPy_S1_Seaborn.ipynb\"><img align=\"right\" src=\"https://i.ibb.co/48wtV8c/nbviewer-badge.png\" alt=\"Open in nbviewer\" width=\"130\" height=\"200\" title=\"Open and Execute in nbviewer\"></a><br/>\n",
    "___\n",
    "\n",
    "<a href=\"https://clarusway.com/\"><img align=\"center\" src=\"https://docs.google.com/uc?id=1lY0Uj5R04yMY3-ZppPWxqCr5pvBLYPnV\" alt=\"CLRSWY\" width=\"450\" height=\"200\" title=\"Welcome to Place Where You can Reinvent Yourself\"></a><br/>\n",
    "\n",
    "## <p style=\"background-color:#FDFEFE; font-family:newtimeroman; color:#9d4f8c; font-size:120%; text-align:center; border-radius:10px 10px;\">Way to Reinvent Yourself</p>\n",
    "\n",
    "<p style=\"text-align: center;\"><img src=\"https://i.ibb.co/99DQ3TY/DS-Courses.png\" class=\"img-fluid\" \n",
    "alt=\"CLRSWY\"></p>\n",
    "\n",
    "\n",
    "\n",
    "![seaborn.png](https://i.ibb.co/hg2Kd1X/seabornlogo.png)\n",
    "\n",
    "## <p style=\"background-color:#FDFEFE; font-family:newtimeroman; color:#060108; font-size:200%; text-align:center; border-radius:10px 10px;\">Data Visualization with Python</p>\n",
    "\n",
    "## <p style=\"background-color:#FDFEFE; font-family:newtimeroman; color:#060108; font-size:150%; text-align:center; border-radius:10px 10px;\">Session - 03 (Seaborn - Part-01)</p>\n",
    "\n",
    "Seaborn is a library for making statistical graphics in Python. It builds on top of matplotlib and integrates closely with pandas data structures.\n",
    "\n",
    "Seaborn helps you explore and understand your data. Its plotting functions operate on dataframes and arrays containing whole datasets and internally perform the necessary semantic mapping and statistical aggregation to produce informative plots. Its dataset-oriented, declarative API lets you focus on what the different elements of your plots mean, rather than on the details of how to draw them\n",
    "\n",
    "🧐 **[An introduction to seaborn](https://seaborn.pydata.org/introduction.html)**,<br> \n",
    "🧐 **[seaborn: statistical data visualization](https://seaborn.pydata.org/)**,<br> \n",
    "🧐 **[Complete Seaborn Crash Course | Data Visualization in Seaborn (Youtube)](https://www.youtube.com/watch?v=GcXcSZ0gQps)**,<br> \n",
    "🧐 **[Seaborn Tutorial (Youtube)](https://www.youtube.com/watch?v=6GUZXDef2U0)**,<br>\n",
    "🧐 **[Seaborn Python Tutorial (Youtube)](https://www.youtube.com/watch?v=Pkvdc2Z6eBg)**"
   ]
  },
  {
   "cell_type": "markdown",
   "metadata": {},
   "source": [
    "<a id=\"toc\"></a>\n",
    "\n",
    "## <p style=\"background-color:#9d4f8c; font-family:newtimeroman; color:#FFF9ED; font-size:150%; text-align:center; border-radius:10px 10px;\">CONTENT</p>\n",
    "\n",
    "* [MATPLOTLIB vs SEABORN](#0)\n",
    "* [IMPORTING LIBRARIES NEEDED IN THIS NOTEBOOK](#1)\n",
    "* [SEABORN PLOT TYPES](#2)\n",
    "* [Does Seaborn use Matplotlib? Connecting to Figure in Matplotlib.](#3)\n",
    "    * [\"hue\" Parameter](#3.1)\n",
    "    * [\"size\" Parameter](#3.2)\n",
    "    * [\"style\" Parameter](#3.3)\n",
    "    * [\"alpha\" Parameter](#3.4)\n",
    "* [EXPORTING (save) A SEABORN FIGURE](#4)\n",
    "* [RUGPLOT](#5) \n",
    "* [DISPLOT & HISTPLOT](#6)        \n",
    "* [DISPLOT](#7)\n",
    "* [HISTPLOT](#8)\n",
    "    * [The Number of Bins in Histogram](#8.1)\n",
    "    * [Adding in a Grid & Styles](#8.2)\n",
    "    * [Adding in Keywords from Matplotlib](#8.3)\n",
    "* [THE KERNEL DENSITY ESTIMATION (KDE) PLOT](#9)\n",
    "    * [Cut Off KDE](#9.1)\n",
    "    * [Bandwidth](#9.2)\n",
    "* [2-DIMENSIONAL KDE PLOTS](#10)\n",
    "* [BONUS CODE FOR VISUALIZATIONS](#11)\n",
    "    * [What is dpi in Figure?](#11.1)\n",
    "* [THE END OF SEABORN SESSION 01](#12)    "
   ]
  },
  {
   "cell_type": "markdown",
   "metadata": {},
   "source": [
    "## <p style=\"background-color:#9d4f8c; font-family:newtimeroman; color:#FFF9ED; font-size:150%; text-align:center; border-radius:10px 10px;\">MATPLOTLIB vs SEABORN</p>\n",
    "\n",
    "<a id=\"0\"></a>\n",
    "<a href=\"#toc\" class=\"btn btn-primary btn-sm\" role=\"button\" aria-pressed=\"true\" \n",
    "style=\"color:blue; background-color:#dfa8e4\" data-toggle=\"popover\">Content</a>\n",
    "\n",
    "### 1.Functionality:\n",
    "\n",
    "**``Matplotlib:``** Matplotlib is mainly deployed for basic plotting. Visualization using Matplotlib generally consists of bars, pies, lines, scatter plots and so on.\n",
    "\n",
    "**``Seaborn:``** Seaborn, on the other hand, provides a variety of visualization patterns. It uses **fewer syntax** and has **easily interesting default themes**. It specializes in **statistics visualization** and is used if one has to summarize data in visualizations and also show the distribution in the data.\n",
    "\n",
    "### 2.Handling Multiple Figures:\n",
    "\n",
    "**``Matplotlib:``** Matplotlib has **multiple figures** that can be opened, but **need to be closed explicitly**. plt.close() only closes the current figure. plt.close(‘all’) would close them all.\n",
    "\n",
    "**``Seaborn:``** Seaborn **automates** the creation of **multiple figures**. This sometimes leads to OOM (out of memory) issues.\n",
    "\n",
    "### 3.Visualization:\n",
    "\n",
    "**``Matplotlib:``** Matplotlib is a graphics package for data visualization in Python. It is **well integrated with NumPy and Pandas**. The **pyplot module** mirrors the **MATLAB** plotting commands closely. Hence, MATLAB users can easily transit to plotting with Python.\n",
    "\n",
    "**``Seaborn:``** Seaborn is more integrated for working with **Pandas DataFrames**. It extends the Matplotlib library for creating beautiful graphics with Python using a more straightforward set of methods.\n",
    "\n",
    "### 4.Data frames and Arrays\n",
    "\n",
    "**``Matplotlib:``** Matplotlib works with DataFrames and arrays. It has different stateful APIs for plotting. The figures and axes are represented by the object and therefore plot() like calls without parameters suffices, without having to manage parameters.\n",
    "\n",
    "**``Seaborn:``** Seaborn **works with the dataset as a whole** and is much more intuitive than Matplotlib. For Seaborn, replot() is the entry API with ‘kind’ parameter to specify the type of plot which could be line, bar, or many of the other types. Seaborn is **not stateful**. Hence, plot() would require passing the object.\n",
    "\n",
    "**Now it's all about your choice and the type of requirement.**\n",
    "\n",
    "🧐 **[What do you prefer, Seaborn or Matplotlib? on Kaggle](https://www.kaggle.com/questions-and-answers/149640)**,<br> \n",
    "🧐 **[Matplotlib vs Seaborn on KD nuggets](https://www.kdnuggets.com/2019/04/data-visualization-python-matplotlib-seaborn.html)**,<br>\n",
    "🧐 **[Matplotlib vs Seaborn](https://analyticsindiamag.com/comparing-python-data-visualization-tools-matplotlib-vs-seaborn/)**"
   ]
  },
  {
   "cell_type": "markdown",
   "metadata": {},
   "source": [
    "## <p style=\"background-color:#9d4f8c; font-family:newtimeroman; color:#FFF9ED; font-size:150%; text-align:center; border-radius:10px 10px;\">IMPORTING LIBRARIES NEEDED IN THIS NOTEBOOK</p>\n",
    "\n",
    "<a id=\"1\"></a>\n",
    "<a href=\"#toc\" class=\"btn btn-primary btn-sm\" role=\"button\" aria-pressed=\"true\" \n",
    "style=\"color:blue; background-color:#dfa8e4\" data-toggle=\"popover\">Content</a>\n",
    "\n",
    "📝 **NOTE:** 📝\tThere is **NO need** to **import Matplotlib and Seaborn** libraries for plotting figures **in Pandas**. With a DataFrame, ``Pandas`` creates by default one line plot for each of the columns with numeric data.<br>\n",
    "Seaborn package is a Python data visualization library developed based on the Matplotlib library. Since ``Seaborn`` is built on ``Matplotlib`` they can be **used together**. ``Seaborn`` is used to create more **attractive and informative statistical graphics**. While Seaborn is a different package, it can also be used to develop the attractiveness of matplotlib graphics. When we load Seaborn into the session, everytime a Matplotlib is executed, Seaborn's default customizations are added."
   ]
  },
  {
   "cell_type": "code",
   "execution_count": 1,
   "metadata": {},
   "outputs": [],
   "source": [
    "import pandas as pd   # DAwPy\n",
    "import numpy as np   # DAwPy\n",
    "\n",
    "import seaborn as sns   # Stats-1 & DAwPy\n",
    "from scipy import stats   # Stats-1 & DAwPy\n",
    "from scipy.stats import kurtosis, skew   # Stats-1 & DAwPy\n",
    "\n",
    "import matplotlib\n",
    "import matplotlib.pyplot as plt  \n",
    "%matplotlib inline   \n",
    "\n",
    "import warnings;\n",
    "warnings.filterwarnings('ignore')"
   ]
  },
  {
   "cell_type": "markdown",
   "metadata": {},
   "source": [
    "**Behind the scenes, seaborn uses matplotlib to draw its plots.**"
   ]
  },
  {
   "cell_type": "code",
   "execution_count": 2,
   "metadata": {},
   "outputs": [
    {
     "name": "stdout",
     "output_type": "stream",
     "text": [
      "['anagrams', 'anscombe', 'attention', 'brain_networks', 'car_crashes', 'diamonds', 'dots', 'dowjones', 'exercise', 'flights', 'fmri', 'geyser', 'glue', 'healthexp', 'iris', 'mpg', 'penguins', 'planets', 'seaice', 'taxis', 'tips', 'titanic']\n"
     ]
    }
   ],
   "source": [
    "print(sns.get_dataset_names())"
   ]
  },
  {
   "cell_type": "code",
   "execution_count": 3,
   "metadata": {
    "colab": {
     "background_save": true,
     "base_uri": "https://localhost:8080/",
     "height": 203
    },
    "id": "752xtIhqKSKE",
    "outputId": "c32e37d0-4ecf-4ccf-b3c1-8ae982d6b60f"
   },
   "outputs": [
    {
     "data": {
      "text/html": [
       "<div>\n",
       "<style scoped>\n",
       "    .dataframe tbody tr th:only-of-type {\n",
       "        vertical-align: middle;\n",
       "    }\n",
       "\n",
       "    .dataframe tbody tr th {\n",
       "        vertical-align: top;\n",
       "    }\n",
       "\n",
       "    .dataframe thead th {\n",
       "        text-align: right;\n",
       "    }\n",
       "</style>\n",
       "<table border=\"1\" class=\"dataframe\">\n",
       "  <thead>\n",
       "    <tr style=\"text-align: right;\">\n",
       "      <th></th>\n",
       "      <th>total_bill</th>\n",
       "      <th>tip</th>\n",
       "      <th>sex</th>\n",
       "      <th>smoker</th>\n",
       "      <th>day</th>\n",
       "      <th>time</th>\n",
       "      <th>size</th>\n",
       "    </tr>\n",
       "  </thead>\n",
       "  <tbody>\n",
       "    <tr>\n",
       "      <th>0</th>\n",
       "      <td>16.99</td>\n",
       "      <td>1.01</td>\n",
       "      <td>Female</td>\n",
       "      <td>No</td>\n",
       "      <td>Sun</td>\n",
       "      <td>Dinner</td>\n",
       "      <td>2</td>\n",
       "    </tr>\n",
       "    <tr>\n",
       "      <th>1</th>\n",
       "      <td>10.34</td>\n",
       "      <td>1.66</td>\n",
       "      <td>Male</td>\n",
       "      <td>No</td>\n",
       "      <td>Sun</td>\n",
       "      <td>Dinner</td>\n",
       "      <td>3</td>\n",
       "    </tr>\n",
       "    <tr>\n",
       "      <th>2</th>\n",
       "      <td>21.01</td>\n",
       "      <td>3.50</td>\n",
       "      <td>Male</td>\n",
       "      <td>No</td>\n",
       "      <td>Sun</td>\n",
       "      <td>Dinner</td>\n",
       "      <td>3</td>\n",
       "    </tr>\n",
       "    <tr>\n",
       "      <th>3</th>\n",
       "      <td>23.68</td>\n",
       "      <td>3.31</td>\n",
       "      <td>Male</td>\n",
       "      <td>No</td>\n",
       "      <td>Sun</td>\n",
       "      <td>Dinner</td>\n",
       "      <td>2</td>\n",
       "    </tr>\n",
       "    <tr>\n",
       "      <th>4</th>\n",
       "      <td>24.59</td>\n",
       "      <td>3.61</td>\n",
       "      <td>Female</td>\n",
       "      <td>No</td>\n",
       "      <td>Sun</td>\n",
       "      <td>Dinner</td>\n",
       "      <td>4</td>\n",
       "    </tr>\n",
       "  </tbody>\n",
       "</table>\n",
       "</div>"
      ],
      "text/plain": [
       "   total_bill   tip     sex smoker  day    time  size\n",
       "0       16.99  1.01  Female     No  Sun  Dinner     2\n",
       "1       10.34  1.66    Male     No  Sun  Dinner     3\n",
       "2       21.01  3.50    Male     No  Sun  Dinner     3\n",
       "3       23.68  3.31    Male     No  Sun  Dinner     2\n",
       "4       24.59  3.61  Female     No  Sun  Dinner     4"
      ]
     },
     "execution_count": 3,
     "metadata": {},
     "output_type": "execute_result"
    }
   ],
   "source": [
    "tips = sns.load_dataset(\"tips\")\n",
    "tips.head()"
   ]
  },
  {
   "cell_type": "markdown",
   "metadata": {},
   "source": [
    "## <p style=\"background-color:#9d4f8c; font-family:newtimeroman; color:#FFF9ED; font-size:150%; text-align:center; border-radius:10px 10px;\">SEABORN PLOT TYPES</p>\n",
    "\n",
    "<a id=\"2\"></a>\n",
    "<a href=\"#toc\" class=\"btn btn-primary btn-sm\" role=\"button\" aria-pressed=\"true\" \n",
    "style=\"color:blue; background-color:#dfa8e4\" data-toggle=\"popover\">Content</a>\n",
    "\n",
    "<img src=https://i.ibb.co/Q9SXCR1/Capture12.png width=\"700\" height=\"200\">  "
   ]
  },
  {
   "cell_type": "markdown",
   "metadata": {},
   "source": [
    "#### <p style=\"background-color:#9d4f8c; font-family:newtimeroman; color:#FFF9ED; font-size:150%; text-align:LEFT; border-radius:10px 10px;\">How to change a figure's size in Python Seaborn package</p>\n",
    "\n",
    "[SOURCE](https://stackoverflow.com/questions/33446029/how-to-change-a-figures-size-in-python-seaborn-package)"
   ]
  },
  {
   "cell_type": "code",
   "execution_count": 4,
   "metadata": {},
   "outputs": [],
   "source": [
    "# plt.figure(figsize=(12, 8))\n",
    "# plt.rcParams['figure.figsize']=(12, 8)\n",
    "# sns.set(rc={'figure.figsize':(12, 8)})\n",
    "\n",
    "# g=sns.pairplot()\n",
    "# g.fig.set_size_inches(12, 8)"
   ]
  },
  {
   "cell_type": "markdown",
   "metadata": {},
   "source": [
    "**matplotlib.rcParams** contains some properties in matplotlibrc file. We can use it to control the defaults of almost every property in Matplotlib: figure size and DPI, line width, color and style, axes, axis and grid properties, text and font properties and so on. In order to use matplotlib.rcParams, we should know what properties are stored in it, these properties can be foud in matplotlibrc file 🧐 **[The list of rcParams](https://matplotlib.org/stable/api/matplotlib_configuration_api.html)**.\n",
    "\n",
    "Seaborn has default congurations that can be applied with **sns.set()**. It uses the matplotlib rcParam system and will affect how all matplotlib plots look, even if you don’t make them with seaborn. Beyond the default theme, there are several other options, and you can independently control the style."
   ]
  },
  {
   "cell_type": "markdown",
   "metadata": {
    "id": "725PUi0wZFMY"
   },
   "source": [
    "<img src=https://i.ibb.co/n0WsYB1/seaborn-scatterplot.png width=\"600\" height=\"200\">\n",
    "\n",
    "\n",
    "``Scatter`` plots can show how different features are related to one another, the main theme between all relational plot types is they display how features are interconnected to each other. There are many different types of plots that can be used to show this, so let's explore the **[seaborn.scatterplot()](https://seaborn.pydata.org/generated/seaborn.scatterplot.html)** as well as general seaborn parameters applicable to other plot types.\n",
    "\n",
    "🧐 **[Scatterplot with multiple semantics](https://seaborn.pydata.org/examples/different_scatter_variables.html)**,<br> \n",
    "🧐 **[7 Points to Create Better Scatter Plots with Seaborn](https://towardsdatascience.com/7-points-to-create-better-scatter-plots-with-seaborn-9f0202fb2ba4)**,<br> \n",
    "🧐 **[Basic Scatterplot with Seaborn](https://www.python-graph-gallery.com/40-basic-scatterplot-seaborn)**,<br> \n",
    "🧐 **[Seaborn Scatter Plot](https://www.educba.com/seaborn-scatter-plot/)**,<br> \n",
    "🧐 **[Introduction to Seaborn Scatter Plot](https://www.naukri.com/learning/articles/introduction-to-seaborn-scatter-plot/)**,<br> \n",
    "🧐 **[Data Visualization With Seaborn](https://medium.com/@nutanbhogendrasharma/data-visualization-with-seaborn-part-1-1f4743274753)**"
   ]
  },
  {
   "cell_type": "code",
   "execution_count": 5,
   "metadata": {},
   "outputs": [
    {
     "data": {
      "image/jpeg": "[encoded data removed]",
      "text/html": [
       "\n",
       "        <iframe\n",
       "            width=\"800\"\n",
       "            height=\"500\"\n",
       "            src=\"https://www.youtube.com/embed/4yz4cMXCkuw\"\n",
       "            frameborder=\"0\"\n",
       "            allowfullscreen\n",
       "            \n",
       "        ></iframe>\n",
       "        "
      ],
      "text/plain": [
       "<IPython.lib.display.YouTubeVideo at 0x26cd441ff40>"
      ]
     },
     "execution_count": 5,
     "metadata": {},
     "output_type": "execute_result"
    }
   ],
   "source": [
    "from IPython.display import YouTubeVideo\n",
    "\n",
    "YouTubeVideo('4yz4cMXCkuw', width=800, height=500)"
   ]
  },
  {
   "cell_type": "raw",
   "metadata": {},
   "source": [
    "sns.scatterplot(\n",
    "                *,\n",
    "                x=None,\n",
    "                y=None,\n",
    "                hue=None,\n",
    "                style=None,\n",
    "                size=None,\n",
    "                data=None,\n",
    "                palette=None,\n",
    "                hue_order=None,\n",
    "                hue_norm=None,\n",
    "                sizes=None,\n",
    "                size_order=None,\n",
    "                size_norm=None,\n",
    "                markers=True,\n",
    "                style_order=None,\n",
    "                x_bins=None,\n",
    "                y_bins=None,\n",
    "                units=None,\n",
    "                estimator=None,\n",
    "                ci=95,\n",
    "                n_boot=1000,\n",
    "                alpha=None,\n",
    "                x_jitter=None,\n",
    "                y_jitter=None,\n",
    "                legend='auto',\n",
    "                ax=None,\n",
    "                **kwargs,\n",
    "                )\n",
    "Docstring:\n",
    "Draw a scatter plot with possibility of several semantic groupings.\n",
    "\n",
    "The relationship between ``x`` and ``y`` can be shown for different subsets of the data using the ``hue``, ``size``, and ``style`` parameters. These parameters control what visual semantics are used to identify the different subsets. It is possible to show up to three dimensions independently by using all three semantic types, but this style of plot can be hard to interpret and is often ineffective. Using redundant semantics (i.e. both ``hue`` and ``style`` for the same variable) can be helpful for making graphics more accessible.\n",
    "\n",
    "See the :ref:`tutorial <relational_tutorial>` for more information.\n",
    "\n",
    "The default treatment of the ``hue`` (and to a lesser extent, ``size``) semantic, if present, depends on whether the variable is inferred to represent \"numeric\" or \"categorical\" data. In particular, numeric variables are represented with a sequential colormap by default, and the legend entries show regular \"ticks\" with values that may or may not exist in the\n",
    "data. This behavior can be controlled through various parameters, as described and illustrated below.\n",
    "\n",
    "Parameters\n",
    "----------\n",
    "x, y : vectors or keys in ``data``\n",
    "    Variables that specify positions on the x and y axes.\n",
    "hue : vector or key in ``data``\n",
    "    Grouping variable that will produce points with different colors.\n",
    "    Can be either categorical or numeric, although color mapping will behave differently in latter case.\n",
    "size : vector or key in ``data``\n",
    "    Grouping variable that will produce points with different sizes.\n",
    "    Can be either categorical or numeric, although size mapping will behave differently in latter case.\n",
    "style : vector or key in ``data``\n",
    "    Grouping variable that will produce points with different markers.\n",
    "    Can have a numeric dtype but will always be treated as categorical.\n",
    "data : :class:`pandas.DataFrame`, :class:`numpy.ndarray`, mapping, or sequence\n",
    "    Input data structure. Either a long-form collection of vectors that can be assigned to named variables or a wide-form \n",
    "    dataset that will be internally\n",
    "    reshaped.\n",
    "palette : string, list, dict, or :class:`matplotlib.colors.Colormap`\n",
    "    Method for choosing the colors to use when mapping the ``hue`` semantic.\n",
    "    String values are passed to :func:`color_palette`. List or dict values imply categorical mapping, while a colormap object\n",
    "    implies numeric mapping.\n",
    "hue_order : vector of strings\n",
    "    Specify the order of processing and plotting for categorical levels of the ``hue`` semantic.\n",
    "hue_norm : tuple or :class:`matplotlib.colors.Normalize`\n",
    "    Either a pair of values that set the normalization range in data units or an object that will map from data units into a \n",
    "    [0, 1] interval. Usage implies numeric mapping.\n",
    "sizes : list, dict, or tuple\n",
    "    An object that determines how sizes are chosen when ``size`` is used.\n",
    "    It can always be a list of size values or a dict mapping levels of the ``size`` variable to sizes. When ``size``  is\n",
    "    numeric, it can also be a tuple specifying the minimum and maximum size to use such that other values are normalized within\n",
    "    this range.\n",
    "size_order : list\n",
    "    Specified order for appearance of the ``size`` variable levels,\n",
    "    otherwise they are determined from the data. Not relevant when the ``size`` variable is numeric.\n",
    "size_norm : tuple or Normalize object\n",
    "    Normalization in data units for scaling plot objects when the\n",
    "    ``size`` variable is numeric.\n",
    "markers : boolean, list, or dictionary\n",
    "    Object determining how to draw the markers for different levels of the ``style`` variable. Setting to ``True`` will use\n",
    "    default markers, or you can pass a list of markers or a dictionary mapping levels of the ``style`` variable to markers.\n",
    "    Setting to ``False`` will draw marker-less lines.  Markers are specified as in matplotlib.\n",
    "style_order : list\n",
    "    Specified order for appearance of the ``style`` variable levels otherwise they are determined from the data. Not relevant\n",
    "    when the ``style`` variable is numeric.\n",
    "{x,y}_bins : lists or arrays or functions\n",
    "    *Currently non-functional.*\n",
    "units : vector or key in ``data``\n",
    "    Grouping variable identifying sampling units. When used, a separate line will be drawn for each unit with appropriate\n",
    "    semantics, but no legend entry will be added. Useful for showing distribution of experimental replicates when exact \n",
    "    identities are not needed.\n",
    "    *Currently non-functional.*\n",
    "estimator : name of pandas method or callable or None\n",
    "    Method for aggregating across multiple observations of the ``y``variable at the same ``x`` level. If ``None``, all\n",
    "    observations will be drawn.\n",
    "    *Currently non-functional.*\n",
    "ci : int or \"sd\" or None\n",
    "    Size of the confidence interval to draw when aggregating with an estimator. \"sd\" means to draw the standard deviation of the\n",
    "    data. Setting to ``None`` will skip bootstrapping. *Currently non-functional.*\n",
    "n_boot : int\n",
    "    Number of bootstraps to use for computing the confidence interval. *Currently non-functional.*\n",
    "alpha : float\n",
    "    Proportional opacity of the points.\n",
    "{x,y}_jitter : booleans or floats\n",
    "    *Currently non-functional.*\n",
    "legend : \"auto\", \"brief\", \"full\", or False\n",
    "    How to draw the legend. If \"brief\", numeric ``hue`` and ``size``\n",
    "    variables will be represented with a sample of evenly spaced values.\n",
    "    If \"full\", every group will get an entry in the legend. If \"auto\", choose between brief or full representation based on \n",
    "    number of levels.\n",
    "    If ``False``, no legend data is added and no legend is drawn.\n",
    "ax : :class:`matplotlib.axes.Axes`\n",
    "    Pre-existing axes for the plot. Otherwise, call :func:`matplotlib.pyplot.gca` internally.\n",
    "kwargs : key, value mappings\n",
    "    Other keyword arguments are passed down to\n",
    "    :meth:`matplotlib.axes.Axes.scatter`.\n",
    "\n",
    "Returns\n",
    "-------\n",
    ":class:`matplotlib.axes.Axes`\n",
    "    The matplotlib axes containing the plot.\n",
    "\n",
    "See Also\n",
    "--------\n",
    "lineplot : Plot data using lines.\n",
    "stripplot : Plot a categorical scatter with jitter.\n",
    "swarmplot : Plot a categorical scatter with non-overlapping points."
   ]
  },
  {
   "cell_type": "code",
   "execution_count": null,
   "metadata": {},
   "outputs": [],
   "source": []
  },
  {
   "cell_type": "code",
   "execution_count": null,
   "metadata": {},
   "outputs": [],
   "source": []
  },
  {
   "cell_type": "code",
   "execution_count": null,
   "metadata": {},
   "outputs": [],
   "source": []
  },
  {
   "cell_type": "code",
   "execution_count": null,
   "metadata": {},
   "outputs": [],
   "source": []
  },
  {
   "cell_type": "code",
   "execution_count": null,
   "metadata": {},
   "outputs": [],
   "source": []
  },
  {
   "cell_type": "markdown",
   "metadata": {},
   "source": [
    "**How to restore all RC params to default settings?**"
   ]
  },
  {
   "cell_type": "code",
   "execution_count": null,
   "metadata": {},
   "outputs": [],
   "source": []
  },
  {
   "cell_type": "markdown",
   "metadata": {
    "id": "Y8tgsaJUZcoJ"
   },
   "source": [
    "## <p style=\"background-color:#9d4f8c; font-family:newtimeroman; color:#FFF9ED; font-size:150%; text-align:center; border-radius:10px 10px;\">Does Seaborn use Matplotlib? Connecting to Figure in Matplotlib.</p>\n",
    "\n",
    "<a id=\"3\"></a>\n",
    "<a href=\"#toc\" class=\"btn btn-primary btn-sm\" role=\"button\" aria-pressed=\"true\" \n",
    "style=\"color:blue; background-color:#dfa8e4\" data-toggle=\"popover\">Content</a>\n",
    "\n",
    "``Seaborn`` is a high-level library. It provides simple codes to visualize complex statistical plots, which also happen to be aesthetically pleasing. But ``Seaborn`` was built on top of Matplotlib, meaning it can be further powered up with Matplotlib functionalities.\n",
    "\n",
    "🤔 ❓ **[Seaborn can do the job, then why Matplotlib?](https://towardsdatascience.com/seaborn-can-do-the-job-then-why-matplotlib-dac8d2d24a5f)** 🤔 ❓ \n",
    "\n",
    "📝 **Note:** 📝 How matplotlib is still connected to seaborn underneath (even without importing matplotlib.pyplot), since ``Seaborn`` itself is directly making a Figure call with matplotlib. We can import matplotlib.pyplot and make calls to directly effect the Seaborn figure."
   ]
  },
  {
   "cell_type": "code",
   "execution_count": null,
   "metadata": {},
   "outputs": [],
   "source": []
  },
  {
   "cell_type": "markdown",
   "metadata": {
    "id": "519Ba3NsaLDw"
   },
   "source": [
    "### <p style=\"background-color:#9d4f8c; font-family:newtimeroman; color:#FFF9ED; font-size:150%; text-align:LEFT; border-radius:10px 10px;\">\"hue\" Parameter</p>\n",
    "\n",
    "<a id=\"3.1\"></a>\n",
    "<a href=\"#toc\" class=\"btn btn-primary btn-sm\" role=\"button\" aria-pressed=\"true\" \n",
    "style=\"color:blue; background-color:#dfa8e4\" data-toggle=\"popover\">Content</a>\n",
    "\n",
    "In Seaborn, the **``hue``** parameter determines which column in the data frame should be used for colour encoding. So, **``hue``** parameter colors observations based off a categorical feature in the DataFrame. It can be either categorical or numeric, although color mapping will behave differently in latter case.\n",
    "\n",
    "🧐 **[seaborn.scatterplot (Official Webpage)](https://seaborn.pydata.org/generated/seaborn.scatterplot.html)**,<br> \n",
    "🧐 **[Scatterplot with varying point sizes and hues](https://seaborn.pydata.org/examples/scatter_bubbles.html)**,<br> \n",
    "🧐 **[What is the significance of hue parameter in seaborn plotting?](https://datascience.stackexchange.com/questions/46117/meaning-of-hue-in-seaborn-barplot)**"
   ]
  },
  {
   "cell_type": "code",
   "execution_count": null,
   "metadata": {},
   "outputs": [],
   "source": []
  },
  {
   "cell_type": "markdown",
   "metadata": {
    "id": "OTGrkKpiaow5"
   },
   "source": [
    "### <p style=\"background-color:#9d4f8c; font-family:newtimeroman; color:#FFF9ED; font-size:150%; text-align:LEFT; border-radius:10px 10px;\">\"size\" Parameter</p>\n",
    "\n",
    "<a id=\"3.2\"></a>\n",
    "<a href=\"#toc\" class=\"btn btn-primary btn-sm\" role=\"button\" aria-pressed=\"true\" \n",
    "style=\"color:blue; background-color:#dfa8e4\" data-toggle=\"popover\">Content</a>\n",
    "\n",
    "**``size``** parameter allows you to size based on another column. It groups variable that will produce points with different sizes. It can be either categorical or numeric, although size mapping will behave differently in latter case. \n",
    "\n",
    "🧐 **[seaborn.scatterplot (Official Webpage)](https://seaborn.pydata.org/generated/seaborn.scatterplot.html)**,<br> \n",
    "🧐 **[Scatterplot with varying point sizes and hues](https://seaborn.pydata.org/examples/scatter_bubbles.html)**,<br> \n",
    "🧐 **[Set Marker Size in Seaborn Scatterplots](https://www.delftstack.com/howto/seaborn/scatterplot-marker-size-seaborn/)**,<br> \n",
    "🧐 **[seaborn scatterplot marker size for ALL markers](https://stackoverflow.com/questions/52785101/seaborn-scatterplot-marker-size-for-all-markers)**"
   ]
  },
  {
   "cell_type": "code",
   "execution_count": 6,
   "metadata": {
    "colab": {
     "base_uri": "https://localhost:8080/",
     "height": 297
    },
    "id": "AnGHEwl7auxU",
    "outputId": "66a7a9c8-c420-4b62-d3f2-b169965699a8"
   },
   "outputs": [
    {
     "data": {
      "image/png": "[encoded data removed]",
      "text/plain": [
       "<Figure size 640x480 with 1 Axes>"
      ]
     },
     "metadata": {},
     "output_type": "display_data"
    }
   ],
   "source": [
    "sns.scatterplot(x=\"total_bill\", y=\"tip\", data=tips, hue=\"sex\", s=200);"
   ]
  },
  {
   "cell_type": "markdown",
   "metadata": {
    "id": "L8QYsGQWag5Y"
   },
   "source": [
    "### <p style=\"background-color:#9d4f8c; font-family:newtimeroman; color:#FFF9ED; font-size:150%; text-align:LEFT; border-radius:10px 10px;\">\"style\" Parameter</p>\n",
    "\n",
    "<a id=\"3.3\"></a>\n",
    "<a href=\"#toc\" class=\"btn btn-primary btn-sm\" role=\"button\" aria-pressed=\"true\" \n",
    "style=\"color:blue; background-color:#dfa8e4\" data-toggle=\"popover\">Content</a>\n",
    "\n",
    "Automatically choose styles based on another categorical feature in the dataset. Optionally use the **markers** parameter to pass a list of marker choices based off matplotlib, for example: ['*', '+', 'o']\n",
    "\n",
    "🧐 **[seaborn.scatterplot](https://seaborn.pydata.org/generated/seaborn.scatterplot.html)**,<br>\n",
    "🧐 **[Seaborn Styling, Part 1: Figure Style and Scale](https://www.codecademy.com/article/seaborn-design-i)**"
   ]
  },
  {
   "cell_type": "code",
   "execution_count": null,
   "metadata": {},
   "outputs": [],
   "source": []
  },
  {
   "cell_type": "code",
   "execution_count": null,
   "metadata": {},
   "outputs": [],
   "source": []
  },
  {
   "cell_type": "code",
   "execution_count": null,
   "metadata": {},
   "outputs": [],
   "source": []
  },
  {
   "cell_type": "code",
   "execution_count": null,
   "metadata": {},
   "outputs": [],
   "source": []
  },
  {
   "cell_type": "code",
   "execution_count": null,
   "metadata": {},
   "outputs": [],
   "source": []
  },
  {
   "cell_type": "code",
   "execution_count": null,
   "metadata": {},
   "outputs": [],
   "source": []
  },
  {
   "cell_type": "code",
   "execution_count": null,
   "metadata": {},
   "outputs": [],
   "source": []
  },
  {
   "cell_type": "code",
   "execution_count": null,
   "metadata": {},
   "outputs": [],
   "source": []
  },
  {
   "cell_type": "markdown",
   "metadata": {},
   "source": [
    "### <p style=\"background-color:#9d4f8c; font-family:newtimeroman; color:#FFF9ED; font-size:150%; text-align:LEFT; border-radius:10px 10px;\">\"alpha\" Parameter</p>\n",
    "\n",
    "<a id=\"3.4\"></a>\n",
    "<a href=\"#toc\" class=\"btn btn-primary btn-sm\" role=\"button\" aria-pressed=\"true\" \n",
    "style=\"color:blue; background-color:#dfa8e4\" data-toggle=\"popover\">Content</a>\n",
    "\n",
    "Proportional opacity of the points.\n",
    "\n",
    "To control the transparency of plots, we can use the alpha argument within the plot function. By default, its value is 1. The value of this parameter ranges from 0 to 1, with the plot getting more transparent and invisible as the value reaches 0. It can be used directly in most of the plot functions of the seaborn module.\n",
    "\n",
    "🧐 **[seaborn.scatterplot](https://seaborn.pydata.org/generated/seaborn.scatterplot.html)**,<br> \n",
    "🧐 **[Transparency of Seaborn Plots](https://www.delftstack.com/howto/seaborn/seaborn-plots-transparency/)**,<br> \n",
    "🧐 **[Adjust different transparency for different class in seaborn scatter plot](https://stackoverflow.com/questions/54389331/adjust-different-transparency-for-different-class-in-seaborn-scatter-plot)**"
   ]
  },
  {
   "cell_type": "code",
   "execution_count": null,
   "metadata": {},
   "outputs": [],
   "source": []
  },
  {
   "cell_type": "markdown",
   "metadata": {},
   "source": [
    "## <p style=\"background-color:#9d4f8c; font-family:newtimeroman; color:#FFF9ED; font-size:150%; text-align:center; border-radius:10px 10px;\">EXPORTING (save) A SEABORN FIGURE</p>\n",
    "\n",
    "<a id=\"4\"></a>\n",
    "<a href=\"#toc\" class=\"btn btn-primary btn-sm\" role=\"button\" aria-pressed=\"true\" \n",
    "style=\"color:blue; background-color:#dfa8e4\" data-toggle=\"popover\">Content</a>\n",
    "\n",
    "**To save a plot in Seaborn, we can use the** **``savefig()``** **method.**\n",
    "\n",
    "**``Matplotlib.pyplot.savefig()``**<br>\n",
    "As the name suggests **``savefig()``** method is used to save the figure created after plotting data. The figure created can be saved to our local machines by using this method.\n",
    "\n",
    "**Syntax:** savefig(fname, dpi=None, facecolor=’w’, edgecolor=’w’, orientation=’portrait’, papertype=None, format=None, transparent=False, bbox_inches=None, pad_inches=0.1, frameon=None, metadata=None)"
   ]
  },
  {
   "cell_type": "code",
   "execution_count": null,
   "metadata": {},
   "outputs": [],
   "source": []
  },
  {
   "cell_type": "code",
   "execution_count": 7,
   "metadata": {},
   "outputs": [
    {
     "data": {
      "image/jpeg": "[encoded data removed]",
      "text/html": [
       "\n",
       "        <iframe\n",
       "            width=\"800\"\n",
       "            height=\"500\"\n",
       "            src=\"https://www.youtube.com/embed/S12WV-NoCNQ\"\n",
       "            frameborder=\"0\"\n",
       "            allowfullscreen\n",
       "            \n",
       "        ></iframe>\n",
       "        "
      ],
      "text/plain": [
       "<IPython.lib.display.YouTubeVideo at 0x26cd4d91be0>"
      ]
     },
     "execution_count": 7,
     "metadata": {},
     "output_type": "execute_result"
    }
   ],
   "source": [
    "from IPython.display import YouTubeVideo\n",
    "\n",
    "YouTubeVideo('S12WV-NoCNQ', width=800, height=500)"
   ]
  },
  {
   "cell_type": "markdown",
   "metadata": {},
   "source": [
    "## <p style=\"background-color:#9d4f8c; font-family:newtimeroman; color:#FFF9ED; font-size:150%; text-align:center; border-radius:10px 10px;\">RUGPLOT</p>\n",
    "\n",
    "<a id=\"5\"></a>\n",
    "<a href=\"#toc\" class=\"btn btn-primary btn-sm\" role=\"button\" aria-pressed=\"true\" \n",
    "style=\"color:blue; background-color:#dfa8e4\" data-toggle=\"popover\">Content</a>\n",
    "\n",
    "A rugplot is a graph that places **a dash horizontally with each occurrence of an item** in a dataset. Areas where there is **great occurrence of an item** see **a greater density of these dashes**. Areas where there is **little occurrence of an item** see just **occasional dashes**. This is the essence of a rugplot.<br>\n",
    "Seaborn already has built-in data sets. A rug plot is a plot of data for a single quantitative variable, displayed as marks along an axis. **Rug plots are often used in combination with two-dimensional scatter plots** by placing a rug plot of the x values of the data along the x-axis, and similarly for the y values.\n",
    "\n",
    "Plot marginal distributions by drawing ticks along the x and y axes.\n",
    "\n",
    "This function is intended to complement other plots by showing the location of individual observations in an unobstrusive way.\n",
    "\n",
    "🧐 **[seaborn.rugplot](https://seaborn.pydata.org/generated/seaborn.rugplot.html)**,<br>\n",
    "🧐 **[How to Create a Rugplot in Seaborn with Python](http://www.learningaboutelectronics.com/Articles/How-to-create-a-rugplot-in-seaborn-with-Python.php)**\n",
    "\n",
    "**What is a Rug Plot in Python Seaborn and How to Create it?**"
   ]
  },
  {
   "cell_type": "code",
   "execution_count": 8,
   "metadata": {
    "scrolled": false
   },
   "outputs": [
    {
     "data": {
      "image/jpeg": "[encoded data removed]",
      "text/html": [
       "\n",
       "        <iframe\n",
       "            width=\"800\"\n",
       "            height=\"500\"\n",
       "            src=\"https://www.youtube.com/embed/Io-Ew7bWbcU\"\n",
       "            frameborder=\"0\"\n",
       "            allowfullscreen\n",
       "            \n",
       "        ></iframe>\n",
       "        "
      ],
      "text/plain": [
       "<IPython.lib.display.YouTubeVideo at 0x26cd4d91ee0>"
      ]
     },
     "execution_count": 8,
     "metadata": {},
     "output_type": "execute_result"
    }
   ],
   "source": [
    "from IPython.display import YouTubeVideo\n",
    "\n",
    "YouTubeVideo('Io-Ew7bWbcU', width=800, height=500)"
   ]
  },
  {
   "cell_type": "raw",
   "metadata": {},
   "source": [
    "sns.rugplot(\n",
    "            x=None,\n",
    "            *,\n",
    "            height=0.025,\n",
    "            axis=None,\n",
    "            ax=None,\n",
    "            data=None,\n",
    "            y=None,\n",
    "            hue=None,\n",
    "            palette=None,\n",
    "            hue_order=None,\n",
    "            hue_norm=None,\n",
    "            expand_margins=True,\n",
    "            legend=True,\n",
    "            a=None,\n",
    "            **kwargs,\n",
    "            )\n",
    "Docstring:\n",
    "Plot marginal distributions by drawing ticks along the x and y axes.\n",
    "\n",
    "This function is intended to complement other plots by showing the location of individual observations in an unobstrusive way.\n",
    "\n",
    "Parameters\n",
    "----------\n",
    "x, y : vectors or keys in ``data``\n",
    "    Variables that specify positions on the x and y axes.\n",
    "height : number\n",
    "    Proportion of axes extent covered by each rug element.\n",
    "axis : {\"x\", \"y\"}\n",
    "    Axis to draw the rug on.\n",
    "\n",
    "    .. deprecated:: 0.11.0\n",
    "       specify axis by assigning the ``x`` or ``y`` variables.\n",
    "\n",
    "ax : :class:`matplotlib.axes.Axes`\n",
    "    Pre-existing axes for the plot. Otherwise, call :func:`matplotlib.pyplot.gca` internally.\n",
    "data : :class:`pandas.DataFrame`, :class:`numpy.ndarray`, mapping, or sequence\n",
    "    Input data structure. Either a long-form collection of vectors that can be assigned to named variables or a wide-form \n",
    "    dataset that will be internally reshaped.\n",
    "hue : vector or key in ``data``\n",
    "    Semantic variable that is mapped to determine the color of plot elements.\n",
    "palette : string, list, dict, or :class:`matplotlib.colors.Colormap`\n",
    "    Method for choosing the colors to use when mapping the ``hue`` semantic.\n",
    "    String values are passed to :func:`color_palette`. List or dict values imply categorical mapping, while a colormap object\n",
    "    implies numeric mapping.\n",
    "hue_order : vector of strings\n",
    "    Specify the order of processing and plotting for categorical levels of the ``hue`` semantic.\n",
    "hue_norm : tuple or :class:`matplotlib.colors.Normalize`\n",
    "    Either a pair of values that set the normalization range in data units or an object that will map from data units into a\n",
    "    [0, 1] interval. Usage implies numeric mapping.\n",
    "expand_margins : bool\n",
    "    If True, increase the axes margins by the height of the rug to avoid overlap with other elements.\n",
    "legend : bool\n",
    "    If False, do not add a legend for semantic variables.\n",
    "kwargs\n",
    "    Other keyword arguments are passed to :meth:`matplotlib.collections.LineCollection`\n",
    "\n",
    "Returns\n",
    "-------\n",
    ":class:`matplotlib.axes.Axes`\n",
    "    The matplotlib axes containing the plot."
   ]
  },
  {
   "cell_type": "code",
   "execution_count": null,
   "metadata": {},
   "outputs": [],
   "source": []
  },
  {
   "cell_type": "code",
   "execution_count": null,
   "metadata": {},
   "outputs": [],
   "source": []
  },
  {
   "cell_type": "code",
   "execution_count": null,
   "metadata": {},
   "outputs": [],
   "source": []
  },
  {
   "cell_type": "markdown",
   "metadata": {},
   "source": [
    "So based on this histogram, you can see that the majority of the tips given are roughly between $1.50 and just under $4.\n",
    "\n",
    "You see the occasional tip at $9 and $10. But the majority are in the $1.50-$4 range.\n",
    "\n",
    "So you can see how rugplots gives vertical lines horizontally across to plot data.\n",
    "\n",
    "Areas where there is great occurrence has great density because the lines are stacked up on each other, giving a thicker appearance."
   ]
  },
  {
   "cell_type": "code",
   "execution_count": null,
   "metadata": {},
   "outputs": [],
   "source": []
  },
  {
   "cell_type": "code",
   "execution_count": null,
   "metadata": {},
   "outputs": [],
   "source": []
  },
  {
   "cell_type": "code",
   "execution_count": null,
   "metadata": {},
   "outputs": [],
   "source": []
  },
  {
   "cell_type": "markdown",
   "metadata": {
    "id": "L1O6SgXmdQG-"
   },
   "source": [
    "## <p style=\"background-color:#9d4f8c; font-family:newtimeroman; color:#FFF9ED; font-size:150%; text-align:center; border-radius:10px 10px;\">DISPLOT & HISTPLOT</p>\n",
    "\n",
    "<a id=\"6\"></a>\n",
    "<a href=\"#toc\" class=\"btn btn-primary btn-sm\" role=\"button\" aria-pressed=\"true\" \n",
    "style=\"color:blue; background-color:#dfa8e4\" data-toggle=\"popover\">Content</a>\n",
    "\n",
    "The rugplot itself is not very informative for larger data sets distribution around the mean since so many ticks makes it hard to distinguish one tick from another. Instead we should count the number of tick marks per some segment of the x axis, then construct a histogram from this.\n",
    "\n",
    "**What is Distplot in Seaborn?**\n",
    "\n",
    "A Distplot or distribution plot, depicts the variation in the data distribution. Seaborn Distplot represents the overall distribution of continuous data variables. The Seaborn module along with the Matplotlib module is used to depict the distplot with different variations in it.\n",
    "\n",
    "**⚠ Warning ⚠** \n",
    "\n",
    "This function (Distplot) is **deprecated** and will be removed in a future version. Please adapt your code to use one of two new functions:\n",
    "\n",
    "**``displot()``,** a figure-level function with a similar flexibility over the kind of plot to draw\n",
    "\n",
    "**``histplot()``,** an axes-level function for plotting histograms, including with kernel density smoothing\n",
    "\n",
    "Plot univariate or bivariate histograms to show distributions of datasets.\n",
    "\n",
    "A histogram is a classic visualization tool that represents the distribution of one or more variables by counting the number of observations that fall within disrete bins.\n",
    "\n",
    "This function can normalize the statistic computed within each bin to estimate frequency, density or probability mass, and it can add a smooth curve obtained using a kernel density estimate, similar to kdeplot().\n",
    "\n",
    "The displot is a plot type that can show you the distribution of a single feature. It is a histogram with the option of adding a \"KDE\" plot (Kernel Density Estimation) on top of the histogram. Let's explore its use cases and syntax.\n",
    "\n",
    "🧐 **[seaborn.displot](https://seaborn.pydata.org/generated/seaborn.displot.html#seaborn.displot)**,<br> \n",
    "🧐 **[How to Make Histograms with Density Plots with Seaborn histplot?](https://www.geeksforgeeks.org/how-to-make-histograms-with-density-plots-with-seaborn-histplot/)**<br> \n",
    "🧐 **[seaborn.histplot](https://seaborn.pydata.org/generated/seaborn.histplot.html)**"
   ]
  },
  {
   "cell_type": "markdown",
   "metadata": {
    "id": "d34VWgMLdkrO"
   },
   "source": [
    "## <p style=\"background-color:#9d4f8c; font-family:newtimeroman; color:#FFF9ED; font-size:150%; text-align:center; border-radius:10px 10px;\">DISPLOT</p>\n",
    "\n",
    "<a id=\"7\"></a>\n",
    "<a href=\"#toc\" class=\"btn btn-primary btn-sm\" role=\"button\" aria-pressed=\"true\" \n",
    "style=\"color:blue; background-color:#dfa8e4\" data-toggle=\"popover\">Content</a>\n",
    "\n",
    "\n",
    "**What is the displot vs distplot?**"
   ]
  },
  {
   "cell_type": "code",
   "execution_count": 9,
   "metadata": {
    "scrolled": false
   },
   "outputs": [
    {
     "data": {
      "image/jpeg": "[encoded data removed]",
      "text/html": [
       "\n",
       "        <iframe\n",
       "            width=\"800\"\n",
       "            height=\"500\"\n",
       "            src=\"https://www.youtube.com/embed/4DA_dgc521o\"\n",
       "            frameborder=\"0\"\n",
       "            allowfullscreen\n",
       "            \n",
       "        ></iframe>\n",
       "        "
      ],
      "text/plain": [
       "<IPython.lib.display.YouTubeVideo at 0x26cd4d9b670>"
      ]
     },
     "execution_count": 9,
     "metadata": {},
     "output_type": "execute_result"
    }
   ],
   "source": [
    "from IPython.display import YouTubeVideo\n",
    "\n",
    "YouTubeVideo('4DA_dgc521o', width=800, height=500)"
   ]
  },
  {
   "cell_type": "raw",
   "metadata": {},
   "source": [
    "sns.displot(\n",
    "            data=None,\n",
    "            *,\n",
    "            x=None,\n",
    "            y=None,\n",
    "            hue=None,\n",
    "            row=None,\n",
    "            col=None,\n",
    "            weights=None,\n",
    "            kind='hist',\n",
    "            rug=False,\n",
    "            rug_kws=None,\n",
    "            log_scale=None,\n",
    "            legend=True,\n",
    "            palette=None,\n",
    "            hue_order=None,\n",
    "            hue_norm=None,\n",
    "            color=None,\n",
    "            col_wrap=None,\n",
    "            row_order=None,\n",
    "            col_order=None,\n",
    "            height=5,\n",
    "            aspect=1,\n",
    "            facet_kws=None,\n",
    "            **kwargs,\n",
    "            )\n",
    "Docstring:\n",
    "Figure-level interface for drawing distribution plots onto a FacetGrid.\n",
    "\n",
    "This function provides access to several approaches for visualizing the univariate or bivariate distribution of data, including subsets of data defined by semantic mapping and faceting across multiple subplots. The ``kind`` parameter selects the approach to use:\n",
    "\n",
    "- :func:`histplot` (with ``kind=\"hist\"``; the default)\n",
    "- :func:`kdeplot` (with ``kind=\"kde\"``)\n",
    "- :func:`ecdfplot` (with ``kind=\"ecdf\"``; univariate-only)\n",
    "\n",
    "Additionally, a :func:`rugplot` can be added to any kind of plot to show individual observations.\n",
    "\n",
    "Extra keyword arguments are passed to the underlying function, so you should refer to the documentation for each to understand the complete set of options for making plots with this interface.\n",
    "\n",
    "See the :doc:`distribution plots tutorial <../tutorial/distributions>` for a more in-depth discussion of the relative strengths and weaknesses of each approach. The distinction between figure-level and axes-level functions is explained further in the :doc:`user guide <../tutorial/function_overview>`.\n",
    "\n",
    "Parameters\n",
    "----------\n",
    "data : :class:`pandas.DataFrame`, :class:`numpy.ndarray`, mapping, or sequence Input data structure. Either a long-form\n",
    "    collection of vectors that can be assigned to named variables or a wide-form dataset that will be internally reshaped.\n",
    "x, y : vectors or keys in ``data``\n",
    "    Variables that specify positions on the x and y axes.\n",
    "hue : vector or key in ``data``\n",
    "    Semantic variable that is mapped to determine the color of plot elements.\n",
    "row, col : vectors or keys in ``data``\n",
    "    Variables that define subsets to plot on different facets.    \n",
    "kind : {\"hist\", \"kde\", \"ecdf\"}\n",
    "    Approach for visualizing the data. Selects the underlying plotting function and determines the additional set of valid parameters.\n",
    "rug : bool\n",
    "    If True, show each observation with marginal ticks (as in :func:`rugplot`).\n",
    "rug_kws : dict\n",
    "    Parameters to control the appearance of the rug plot.\n",
    "log_scale : bool or number, or pair of bools or numbers\n",
    "    Set axis scale(s) to log. A single value sets the data axis for univariate distributions and both axes for bivariate\n",
    "    distributions. A pair of values sets each axis independently. Numeric values are interpreted as the desired base (default\n",
    "    10). If `False`, defer to the existing Axes scale.\n",
    "legend : bool\n",
    "    If False, suppress the legend for semantic variables.\n",
    "palette : string, list, dict, or :class:`matplotlib.colors.Colormap`\n",
    "    Method for choosing the colors to use when mapping the ``hue`` semantic.\n",
    "    String values are passed to :func:`color_palette`. List or dict values imply categorical mapping, while a colormap object\n",
    "    implies numeric mapping.\n",
    "hue_order : vector of strings\n",
    "    Specify the order of processing and plotting for categorical levels of the\n",
    "    ``hue`` semantic.\n",
    "hue_norm : tuple or :class:`matplotlib.colors.Normalize`\n",
    "    Either a pair of values that set the normalization range in data units or an object that will map from data units into a [0, 1] interval. Usage implies numeric mapping.\n",
    "color : :mod:`matplotlib color <matplotlib.colors>`\n",
    "    Single color specification for when hue mapping is not used. Otherwise, the plot will try to hook into the matplotlib property cycle.\n",
    "col_wrap : int\n",
    "    \"Wrap\" the column variable at this width, so that the column facets span multiple rows. Incompatible with a ``row`` facet.    \n",
    "{row,col}_order : vector of strings\n",
    "    Specify the order in which levels of the ``row`` and/or ``col`` variables appear in the grid of subplots.    \n",
    "height : scalar\n",
    "    Height (in inches) of each facet. See also: ``aspect``.    \n",
    "aspect : scalar\n",
    "    Aspect ratio of each facet, so that ``aspect * height`` gives the width of each facet in inches.    \n",
    "facet_kws : dict\n",
    "    Additional parameters passed to :class:`FacetGrid`.\n",
    "\n",
    "kwargs\n",
    "    Other keyword arguments are documented with the relevant axes-level function:\n",
    "\n",
    "    - :func:`histplot` (with ``kind=\"hist\"``)\n",
    "    - :func:`kdeplot` (with ``kind=\"kde\"``)\n",
    "    - :func:`ecdfplot` (with ``kind=\"ecdf\"``)\n",
    "\n",
    "Returns\n",
    "-------\n",
    ":class:`FacetGrid`\n",
    "    An object managing one or more subplots that correspond to conditional data subsets with convenient methods for \n",
    "    batch-setting of axes attributes.\n",
    "\n",
    "See Also\n",
    "--------\n",
    "histplot : Plot a histogram of binned counts with optional normalization or smoothing.\n",
    "kdeplot : Plot univariate or bivariate distributions using kernel density estimation.\n",
    "rugplot : Plot a tick at each observation value along the x and/or y axes.\n",
    "ecdfplot : Plot empirical cumulative distribution functions.\n",
    "jointplot : Draw a bivariate plot with univariate marginal distributions."
   ]
  },
  {
   "cell_type": "code",
   "execution_count": null,
   "metadata": {},
   "outputs": [],
   "source": []
  },
  {
   "cell_type": "code",
   "execution_count": null,
   "metadata": {},
   "outputs": [],
   "source": []
  },
  {
   "cell_type": "code",
   "execution_count": null,
   "metadata": {},
   "outputs": [],
   "source": []
  },
  {
   "cell_type": "markdown",
   "metadata": {
    "id": "gfsrBjfHdtqX"
   },
   "source": [
    "## <p style=\"background-color:#9d4f8c; font-family:newtimeroman; color:#FFF9ED; font-size:150%; text-align:center; border-radius:10px 10px;\">HISTPLOT</p>\n",
    "\n",
    "<a id=\"8\"></a>\n",
    "<a href=\"#toc\" class=\"btn btn-primary btn-sm\" role=\"button\" aria-pressed=\"true\" \n",
    "style=\"color:blue; background-color:#dfa8e4\" data-toggle=\"popover\">Content</a>\n",
    "\n",
    "**How to make a Seaborn histogram plot?**"
   ]
  },
  {
   "cell_type": "code",
   "execution_count": 10,
   "metadata": {
    "scrolled": true
   },
   "outputs": [
    {
     "data": {
      "image/jpeg": "[encoded data removed]",
      "text/html": [
       "\n",
       "        <iframe\n",
       "            width=\"800\"\n",
       "            height=\"500\"\n",
       "            src=\"https://www.youtube.com/embed/Bjz00ygERxY\"\n",
       "            frameborder=\"0\"\n",
       "            allowfullscreen\n",
       "            \n",
       "        ></iframe>\n",
       "        "
      ],
      "text/plain": [
       "<IPython.lib.display.YouTubeVideo at 0x26cd4d91d60>"
      ]
     },
     "execution_count": 10,
     "metadata": {},
     "output_type": "execute_result"
    }
   ],
   "source": [
    "from IPython.display import YouTubeVideo\n",
    "\n",
    "YouTubeVideo('Bjz00ygERxY', width=800, height=500)"
   ]
  },
  {
   "cell_type": "raw",
   "metadata": {},
   "source": [
    "sns.histplot(\n",
    "            data=None,\n",
    "            *,\n",
    "            x=None,\n",
    "            y=None,\n",
    "            hue=None,\n",
    "            weights=None,\n",
    "            stat='count',\n",
    "            bins='auto',\n",
    "            binwidth=None,\n",
    "            binrange=None,\n",
    "            discrete=None,\n",
    "            cumulative=False,\n",
    "            common_bins=True,\n",
    "            common_norm=True,\n",
    "            multiple='layer',\n",
    "            element='bars',\n",
    "            fill=True,\n",
    "            shrink=1,\n",
    "            kde=False,\n",
    "            kde_kws=None,\n",
    "            line_kws=None,\n",
    "            thresh=0,\n",
    "            pthresh=None,\n",
    "            pmax=None,\n",
    "            cbar=False,\n",
    "            cbar_ax=None,\n",
    "            cbar_kws=None,\n",
    "            palette=None,\n",
    "            hue_order=None,\n",
    "            hue_norm=None,\n",
    "            color=None,\n",
    "            log_scale=None,\n",
    "            legend=True,\n",
    "            ax=None,\n",
    "            **kwargs,\n",
    "            )\n",
    "Docstring:\n",
    "Plot univariate or bivariate histograms to show distributions of datasets.\n",
    "\n",
    "A histogram is a classic visualization tool that represents the distribution of one or more variables by counting the number of observations that fall within disrete bins.\n",
    "\n",
    "This function can normalize the statistic computed within each bin to estimate frequency, density or probability mass, and it can add a smooth curve obtained using a kernel density estimate, similar to :func:`kdeplot`.\n",
    "\n",
    "More information is provided in the :ref:`user guide <tutorial_hist>`.\n",
    "\n",
    "Parameters\n",
    "----------\n",
    "data : :class:`pandas.DataFrame`, :class:`numpy.ndarray`, mapping, or sequence Input data structure. Either a long-form\n",
    "    collection of vectors that can be assigned to named variables or a wide-form dataset that will be internally reshaped.\n",
    "x, y : vectors or keys in ``data``\n",
    "    Variables that specify positions on the x and y axes.\n",
    "hue : vector or key in ``data``\n",
    "    Semantic variable that is mapped to determine the color of plot elements.\n",
    "weights : vector or key in ``data``\n",
    "    If provided, weight the contribution of the corresponding data points towards the count in each bin by these factors.\n",
    "stat : str\n",
    "    Aggregate statistic to compute in each bin.\n",
    "    \n",
    "    - `count`: show the number of observations in each bin\n",
    "    - `frequency`: show the number of observations divided by the bin width\n",
    "    - `probability`: or `proportion`: normalize such that bar heights sum to 1\n",
    "    - `percent`: normalize such that bar heights sum to 100\n",
    "    - `density`: normalize such that the total area of the histogram equals 1\n",
    "bins : str, number, vector, or a pair of such values\n",
    "    Generic bin parameter that can be the name of a reference rule, the number of bins, or the breaks of the bins.\n",
    "    Passed to :func:`numpy.histogram_bin_edges`.\n",
    "binwidth : number or pair of numbers\n",
    "    Width of each bin, overrides ``bins`` but can be used with\n",
    "    ``binrange``.\n",
    "binrange : pair of numbers or a pair of pairs\n",
    "    Lowest and highest value for bin edges; can be used either with ``bins`` or ``binwidth``. Defaults to data extremes.\n",
    "discrete : bool\n",
    "    If True, default to ``binwidth=1`` and draw the bars so that they are centered on their corresponding data points. This\n",
    "    avoids \"gaps\" that may otherwise appear when using discrete (integer) data.\n",
    "cumulative : bool\n",
    "    If True, plot the cumulative counts as bins increase.\n",
    "common_bins : bool\n",
    "    If True, use the same bins when semantic variables produce multiple plots. If using a reference rule to determine the bins,\n",
    "    it will be computed with the full dataset.\n",
    "common_norm : bool\n",
    "    If True and using a normalized statistic, the normalization will apply over the full dataset. Otherwise, normalize each\n",
    "    histogram independently.\n",
    "multiple : {\"layer\", \"dodge\", \"stack\", \"fill\"}\n",
    "    Approach to resolving multiple elements when semantic mapping creates subsets.\n",
    "    Only relevant with univariate data.\n",
    "element : {\"bars\", \"step\", \"poly\"}\n",
    "    Visual representation of the histogram statistic.\n",
    "    Only relevant with univariate data.\n",
    "fill : bool\n",
    "    If True, fill in the space under the histogram.\n",
    "    Only relevant with univariate data.\n",
    "shrink : number\n",
    "    Scale the width of each bar relative to the binwidth by this factor.\n",
    "    Only relevant with univariate data.\n",
    "kde : bool\n",
    "    If True, compute a kernel density estimate to smooth the distribution and show on the plot as (one or more) line(s).\n",
    "    Only relevant with univariate data.\n",
    "kde_kws : dict\n",
    "    Parameters that control the KDE computation, as in :func:`kdeplot`.\n",
    "line_kws : dict\n",
    "    Parameters that control the KDE visualization, passed to :meth:`matplotlib.axes.Axes.plot`.\n",
    "thresh : number or None\n",
    "    Cells with a statistic less than or equal to this value will be transparent.\n",
    "    Only relevant with bivariate data.\n",
    "pthresh : number or None\n",
    "    Like ``thresh``, but a value in [0, 1] such that cells with aggregate counts\n",
    "    (or other statistics, when used) up to this proportion of the total will be\n",
    "    transparent.\n",
    "pmax : number or None\n",
    "    A value in [0, 1] that sets that saturation point for the colormap at a value\n",
    "    such that cells below is constistute this proportion of the total count (or\n",
    "    other statistic, when used).\n",
    "cbar : bool\n",
    "    If True, add a colorbar to annotate the color mapping in a bivariate plot.\n",
    "    Note: Does not currently support plots with a ``hue`` variable well.\n",
    "cbar_ax : :class:`matplotlib.axes.Axes`\n",
    "    Pre-existing axes for the colorbar.\n",
    "cbar_kws : dict\n",
    "    Additional parameters passed to :meth:`matplotlib.figure.Figure.colorbar`.\n",
    "palette : string, list, dict, or :class:`matplotlib.colors.Colormap`\n",
    "    Method for choosing the colors to use when mapping the ``hue`` semantic.\n",
    "    String values are passed to :func:`color_palette`. List or dict values\n",
    "    imply categorical mapping, while a colormap object implies numeric mapping.\n",
    "hue_order : vector of strings\n",
    "    Specify the order of processing and plotting for categorical levels of the\n",
    "    ``hue`` semantic.\n",
    "hue_norm : tuple or :class:`matplotlib.colors.Normalize`\n",
    "    Either a pair of values that set the normalization range in data units or an object that will map from data units into a \n",
    "    [0, 1] interval. Usage\n",
    "    implies numeric mapping.\n",
    "color : :mod:`matplotlib color <matplotlib.colors>`\n",
    "    Single color specification for when hue mapping is not used. Otherwise, the plot will try to hook into the matplotlib \n",
    "    property cycle.\n",
    "log_scale : bool or number, or pair of bools or numbers\n",
    "    Set axis scale(s) to log. A single value sets the data axis for univariate distributions and both axes for bivariate\n",
    "    distributions. A pair of values sets each axis independently. Numeric values are interpreted as the desired\n",
    "    base (default 10). If `False`, defer to the existing Axes scale.\n",
    "legend : bool\n",
    "    If False, suppress the legend for semantic variables.\n",
    "ax : :class:`matplotlib.axes.Axes`\n",
    "    Pre-existing axes for the plot. Otherwise, call :func:`matplotlib.pyplot.gca` internally.\n",
    "kwargs\n",
    "    Other keyword arguments are passed to one of the following matplotlib\n",
    "    functions:\n",
    "\n",
    "    - :meth:`matplotlib.axes.Axes.bar` (univariate, element=\"bars\")\n",
    "    - :meth:`matplotlib.axes.Axes.fill_between` (univariate, other element, fill=True)\n",
    "    - :meth:`matplotlib.axes.Axes.plot` (univariate, other element, fill=False)\n",
    "    - :meth:`matplotlib.axes.Axes.pcolormesh` (bivariate)\n",
    "\n",
    "Returns\n",
    "-------\n",
    ":class:`matplotlib.axes.Axes`\n",
    "    The matplotlib axes containing the plot.\n",
    "\n",
    "See Also\n",
    "--------\n",
    "displot : Figure-level interface to distribution plot functions.\n",
    "kdeplot : Plot univariate or bivariate distributions using kernel density estimation.\n",
    "rugplot : Plot a tick at each observation value along the x and/or y axes.\n",
    "ecdfplot : Plot empirical cumulative distribution functions.\n",
    "jointplot : Draw a bivariate plot with univariate marginal distributions."
   ]
  },
  {
   "cell_type": "code",
   "execution_count": null,
   "metadata": {},
   "outputs": [],
   "source": []
  },
  {
   "cell_type": "code",
   "execution_count": null,
   "metadata": {},
   "outputs": [],
   "source": []
  },
  {
   "cell_type": "code",
   "execution_count": null,
   "metadata": {},
   "outputs": [],
   "source": []
  },
  {
   "cell_type": "markdown",
   "metadata": {},
   "source": [
    "### <p style=\"background-color:#9d4f8c; font-family:newtimeroman; color:#FFF9ED; font-size:150%; text-align:left; border-radius:10px 10px;\">The Number of Bins in Histogram</p>\n",
    "\n",
    "<a id=\"8.1\"></a>\n",
    "<a href=\"#toc\" class=\"btn btn-primary btn-sm\" role=\"button\" aria-pressed=\"true\" \n",
    "style=\"color:blue; background-color:#dfa8e4\" data-toggle=\"popover\">Content</a>"
   ]
  },
  {
   "cell_type": "code",
   "execution_count": null,
   "metadata": {},
   "outputs": [],
   "source": []
  },
  {
   "cell_type": "code",
   "execution_count": null,
   "metadata": {},
   "outputs": [],
   "source": []
  },
  {
   "cell_type": "code",
   "execution_count": null,
   "metadata": {},
   "outputs": [],
   "source": []
  },
  {
   "cell_type": "markdown",
   "metadata": {
    "id": "s-eY2aMQe0Kv"
   },
   "source": [
    "### <p style=\"background-color:#9d4f8c; font-family:newtimeroman; color:#FFF9ED; font-size:150%; text-align:left; border-radius:10px 10px;\">Adding in a Grid & Styles</p>\n",
    "\n",
    "<a id=\"8.2\"></a>\n",
    "<a href=\"#toc\" class=\"btn btn-primary btn-sm\" role=\"button\" aria-pressed=\"true\" \n",
    "style=\"color:blue; background-color:#dfa8e4\" data-toggle=\"popover\">Content</a>\n",
    "\n",
    "**``sns.set()``** You can also customize seaborn theme or use one of six variations of the default theme. Which are called deep, muted, pastel, bright, dark, and colorblind.\n",
    "\n",
    "You can reset to a different default style: one of {darkgrid, whitegrid, dark, white, ticks}.\n",
    "\n",
    "In a later notebook and lecture we will cover custom styling in a lot more detail.\n",
    "\n",
    "🧐 **[Seaborn is actually quite good for data visualization](https://towardsdatascience.com/matplotlib-seaborn-basics-2bd7b66dbee2)**"
   ]
  },
  {
   "cell_type": "code",
   "execution_count": null,
   "metadata": {},
   "outputs": [],
   "source": []
  },
  {
   "cell_type": "code",
   "execution_count": null,
   "metadata": {},
   "outputs": [],
   "source": []
  },
  {
   "cell_type": "markdown",
   "metadata": {
    "id": "5bnppctTfmqY"
   },
   "source": [
    "### <p style=\"background-color:#9d4f8c; font-family:newtimeroman; color:#FFF9ED; font-size:150%; text-align:left; border-radius:10px 10px;\">Adding in Keywords from Matplotlib</p>\n",
    "\n",
    "<a id=\"8.3\"></a>\n",
    "<a href=\"#toc\" class=\"btn btn-primary btn-sm\" role=\"button\" aria-pressed=\"true\" \n",
    "style=\"color:blue; background-color:#dfa8e4\" data-toggle=\"popover\">Content</a>\n",
    "\n",
    "Seaborn plots can accept keyword arguments directly from the matplotlib code that seaborn uses. Keep in mind, not every seaborn plot can accept all matplotlib arguments, but the main styling parameters we've discussed are available. "
   ]
  },
  {
   "cell_type": "raw",
   "metadata": {},
   "source": [
    "sns.displot(\n",
    "            data=None,\n",
    "            *,\n",
    "            x=None,\n",
    "            y=None,\n",
    "            hue=None,\n",
    "            row=None,\n",
    "            col=None,\n",
    "            weights=None,\n",
    "            kind='hist',\n",
    "            rug=False,\n",
    "            rug_kws=None,\n",
    "            log_scale=None,\n",
    "            legend=True,\n",
    "            palette=None,\n",
    "            hue_order=None,\n",
    "            hue_norm=None,\n",
    "            color=None,\n",
    "            col_wrap=None,\n",
    "            row_order=None,\n",
    "            col_order=None,\n",
    "            height=5,\n",
    "            aspect=1,\n",
    "            facet_kws=None,\n",
    "            **kwargs,\n",
    "            )"
   ]
  },
  {
   "cell_type": "code",
   "execution_count": null,
   "metadata": {},
   "outputs": [],
   "source": []
  },
  {
   "cell_type": "markdown",
   "metadata": {
    "id": "ovsTfckGfxmy"
   },
   "source": [
    "## <p style=\"background-color:#9d4f8c; font-family:newtimeroman; color:#FFF9ED; font-size:150%; text-align:center; border-radius:10px 10px;\">THE KERNEL DENSITY ESTIMATION (KDE) PLOT</p>\n",
    "\n",
    "<a id=\"9\"></a>\n",
    "<a href=\"#toc\" class=\"btn btn-primary btn-sm\" role=\"button\" aria-pressed=\"true\" \n",
    "style=\"color:blue; background-color:#dfa8e4\" data-toggle=\"popover\">Content</a>\n",
    "\n",
    "A kernel density estimate (KDE) plot is a method for visualizing the distribution of observations in a dataset, analagous to a histogram. KDE represents the data using a continuous probability density curve in one or more dimensions. The approach is explained further in the [user guide](https://seaborn.pydata.org/tutorial/distributions.html#tutorial-kde).\n",
    "\n",
    "The KDE plot maps an estimate of a probability *density* function of a random variable. Kernel density estimation is a fundamental data smoothing problem where inferences about the population are made, based on a finite data sample.\n",
    "\n",
    "🧐 **[seaborn.kdeplot](https://seaborn.pydata.org/generated/seaborn.kdeplot.html#:~:text=A%20kernel%20density%20estimate%20(KDE,further%20in%20the%20user%20guide.)**\n",
    "\n",
    "**How does a Kernel Density Estimation work?**\n",
    "\n",
    "The Kernel Density Estimation works by plotting out the data and beginning to create a curve of the distribution. The curve is calculated by weighing the distance of all the points in each specific location along the distribution. If there are more points grouped locally, the estimation is higher as the probability of seeing a point at that location increases. The kernel function is the specific mechanism used to weigh the points across the data set. The bandwidth of the kernel changes its shape. A lower bandwidth limits the scope of the function and leads to the estimate curve looking rough and jagged. By tweaking the parameters of the kernel function (bandwidth and amplitude), one changes the size and shape of the estimate.\n",
    "\n",
    "**Kernel Density Estimation and Machine Learning**\n",
    "\n",
    "The Kernel Density Estimation technique can be incorporated into [machine learning](https://deepai.org/machine-learning-glossary-and-terms/machine-learning) applications. For example, as the estimation function has parameters to define the scope of the kernel, a [neural network](https://deepai.org/machine-learning-glossary-and-terms/neural-network) can begin to train itself to correct its estimations and produce more accurate results. As the estimation process repeats itself, the bandwidth and amplitude estimations are continuously updated to increase the accuracy of the estimated probability density curve.\n",
    "\n",
    "🧐 **[What is a Kernel Density Estimation?](https://deepai.org/machine-learning-glossary-and-terms/kernel-density-estimation)**\n",
    "\n",
    "![bandwith.png](https://i.ibb.co/WcKMGLV/bandwith-PNG.png)\n",
    "\n",
    "**What is kernel density estimation? And how to build a KDE plot in Python?**"
   ]
  },
  {
   "cell_type": "code",
   "execution_count": 11,
   "metadata": {},
   "outputs": [
    {
     "data": {
      "text/html": [
       "\n",
       "        <iframe\n",
       "            width=\"800\"\n",
       "            height=\"500\"\n",
       "            src=\"https://www.youtube.com/embed/DCgPRaIDYXA&t=482s\"\n",
       "            frameborder=\"0\"\n",
       "            allowfullscreen\n",
       "            \n",
       "        ></iframe>\n",
       "        "
      ],
      "text/plain": [
       "<IPython.lib.display.YouTubeVideo at 0x26cceee4f70>"
      ]
     },
     "execution_count": 11,
     "metadata": {},
     "output_type": "execute_result"
    }
   ],
   "source": [
    "from IPython.display import YouTubeVideo\n",
    "\n",
    "YouTubeVideo('DCgPRaIDYXA&t=482s', width=800, height=500)"
   ]
  },
  {
   "cell_type": "markdown",
   "metadata": {},
   "source": [
    "sns.kdeplot(\n",
    "            x=None,\n",
    "            *,\n",
    "            y=None,\n",
    "            shade=None,\n",
    "            vertical=False,\n",
    "            kernel=None,\n",
    "            bw=None,\n",
    "            gridsize=200,\n",
    "            cut=3,\n",
    "            clip=None,\n",
    "            legend=True,\n",
    "            cumulative=False,\n",
    "            shade_lowest=None,\n",
    "            cbar=False,\n",
    "            cbar_ax=None,\n",
    "            cbar_kws=None,\n",
    "            ax=None,\n",
    "            weights=None,\n",
    "            hue=None,\n",
    "            palette=None,\n",
    "            hue_order=None,\n",
    "            hue_norm=None,\n",
    "            multiple='layer',\n",
    "            common_norm=True,\n",
    "            common_grid=False,\n",
    "            levels=10,\n",
    "            thresh=0.05,\n",
    "            bw_method='scott',\n",
    "            bw_adjust=1,\n",
    "            log_scale=None,\n",
    "            color=None,\n",
    "            fill=None,\n",
    "            data=None,\n",
    "            data2=None,\n",
    "            warn_singular=True,\n",
    "            **kwargs,\n",
    "            )\n",
    "Docstring:\n",
    "Plot univariate or bivariate distributions using kernel density estimation.\n",
    "\n",
    "A kernel density estimate (KDE) plot is a method for visualizing the distribution of observations in a dataset, analagous to a histogram. KDE represents the data using a continuous probability density curve in one or more dimensions.\n",
    "\n",
    "The approach is explained further in the :ref:`user guide <tutorial_kde>`.\n",
    "\n",
    "Relative to a histogram, KDE can produce a plot that is less cluttered and more interpretable, especially when drawing multiple distributions. But it has the potential to introduce distortions if the underlying distribution is bounded or not smooth. Like a histogram, the quality of the representation also depends on the selection of good smoothing parameters.\n",
    "\n",
    "Parameters\n",
    "----------\n",
    "x, y : vectors or keys in ``data``\n",
    "    Variables that specify positions on the x and y axes.\n",
    "shade : bool\n",
    "    Alias for ``fill``. Using ``fill`` is recommended.\n",
    "vertical : bool\n",
    "    Orientation parameter.\n",
    "\n",
    "    .. deprecated:: 0.11.0\n",
    "       specify orientation by assigning the ``x`` or ``y`` variables.\n",
    "\n",
    "kernel : str\n",
    "    Function that defines the kernel.\n",
    "\n",
    "    .. deprecated:: 0.11.0\n",
    "       support for non-Gaussian kernels has been removed.\n",
    "\n",
    "bw : str, number, or callable\n",
    "    Smoothing parameter.\n",
    "\n",
    "    .. deprecated:: 0.11.0\n",
    "       see ``bw_method`` and ``bw_adjust``.\n",
    "\n",
    "gridsize : int\n",
    "    Number of points on each dimension of the evaluation grid.\n",
    "cut : number, optional\n",
    "    Factor, multiplied by the smoothing bandwidth, that determines how far the evaluation grid extends past the extreme \n",
    "    datapoints. When set to 0, truncate the curve at the data limits.\n",
    "clip : pair of numbers or None, or a pair of such pairs\n",
    "    Do not evaluate the density outside of these limits.\n",
    "legend : bool\n",
    "    If False, suppress the legend for semantic variables.\n",
    "cumulative : bool, optional\n",
    "    If True, estimate a cumulative distribution function.\n",
    "shade_lowest : bool\n",
    "    If False, the area below the lowest contour will be transparent\n",
    "\n",
    "    .. deprecated:: 0.11.0\n",
    "       see ``thresh``.\n",
    "\n",
    "cbar : bool\n",
    "    If True, add a colorbar to annotate the color mapping in a bivariate plot.\n",
    "    Note: Does not currently support plots with a ``hue`` variable well.\n",
    "cbar_ax : :class:`matplotlib.axes.Axes`\n",
    "    Pre-existing axes for the colorbar.\n",
    "cbar_kws : dict\n",
    "    Additional parameters passed to :meth:`matplotlib.figure.Figure.colorbar`.\n",
    "ax : :class:`matplotlib.axes.Axes`\n",
    "    Pre-existing axes for the plot. Otherwise, call :func:`matplotlib.pyplot.gca` internally.\n",
    "weights : vector or key in ``data``\n",
    "    If provided, weight the kernel density estimation using these values.\n",
    "hue : vector or key in ``data``\n",
    "    Semantic variable that is mapped to determine the color of plot elements.\n",
    "palette : string, list, dict, or :class:`matplotlib.colors.Colormap`\n",
    "    Method for choosing the colors to use when mapping the ``hue`` semantic.\n",
    "    String values are passed to :func:`color_palette`. List or dict values imply categorical mapping, while a colormap object\n",
    "    implies numeric mapping.\n",
    "hue_order : vector of strings\n",
    "    Specify the order of processing and plotting for categorical levels of the ``hue`` semantic.\n",
    "hue_norm : tuple or :class:`matplotlib.colors.Normalize`\n",
    "    Either a pair of values that set the normalization range in data units or an object that will map from data units into a \n",
    "    [0, 1] interval. Usage\n",
    "    implies numeric mapping.\n",
    "multiple : {{\"layer\", \"stack\", \"fill\"}}\n",
    "    Method for drawing multiple elements when semantic mapping creates subsets.\n",
    "    Only relevant with univariate data.\n",
    "common_norm : bool\n",
    "    If True, scale each conditional density by the number of observations such that the total area under all densities sums to\n",
    "    1. Otherwise, normalize each density independently.\n",
    "common_grid : bool\n",
    "    If True, use the same evaluation grid for each kernel density estimate.\n",
    "    Only relevant with univariate data.\n",
    "levels : int or vector\n",
    "    Number of contour levels or values to draw contours at. A vector argument\n",
    "    must have increasing values in [0, 1]. Levels correspond to iso-proportions\n",
    "    of the density: e.g., 20% of the probability mass will lie below the\n",
    "    contour drawn for 0.2. Only relevant with bivariate data.\n",
    "thresh : number in [0, 1]\n",
    "    Lowest iso-proportion level at which to draw a contour line. Ignored when\n",
    "    ``levels`` is a vector. Only relevant with bivariate data.\n",
    "bw_method : string, scalar, or callable, optional\n",
    "    Method for determining the smoothing bandwidth to use; passed to\n",
    "    :class:`scipy.stats.gaussian_kde`.\n",
    "bw_adjust : number, optional\n",
    "    Factor that multiplicatively scales the value chosen using\n",
    "    ``bw_method``. Increasing will make the curve smoother. See Notes.\n",
    "log_scale : bool or number, or pair of bools or numbers\n",
    "    Set axis scale(s) to log. A single value sets the data axis for univariate distributions and both axes for bivariate\n",
    "    distributions. A pair of values sets each axis independently. Numeric values are interpreted as the desired base (default\n",
    "    10). If `False`, defer to the existing Axes scale.\n",
    "color : :mod:`matplotlib color <matplotlib.colors>`\n",
    "    Single color specification for when hue mapping is not used. Otherwise, the plot will try to hook into the matplotlib\n",
    "    property cycle.\n",
    "fill : bool or None\n",
    "    If True, fill in the area under univariate density curves or between bivariate contours. If None, the default depends on\n",
    "    ``multiple``.\n",
    "data : :class:`pandas.DataFrame`, :class:`numpy.ndarray`, mapping, or sequence\n",
    "    Input data structure. Either a long-form collection of vectors that can be assigned to named variables or a wide-form \n",
    "    dataset that will be internally reshaped.\n",
    "warn_singular : bool\n",
    "    If True, issue a warning when trying to estimate the density of data with zero variance.\n",
    "kwargs\n",
    "    Other keyword arguments are passed to one of the following matplotlib functions:\n",
    "\n",
    "    - :meth:`matplotlib.axes.Axes.plot` (univariate, ``fill=False``),\n",
    "    - :meth:`matplotlib.axes.Axes.fill_between` (univariate, ``fill=True``),\n",
    "    - :meth:`matplotlib.axes.Axes.contour` (bivariate, ``fill=False``),\n",
    "    - :meth:`matplotlib.axes.contourf` (bivariate, ``fill=True``).\n",
    "\n",
    "Returns\n",
    "-------\n",
    ":class:`matplotlib.axes.Axes`\n",
    "    The matplotlib axes containing the plot.\n",
    "\n",
    "See Also\n",
    "--------\n",
    "displot : Figure-level interface to distribution plot functions.\n",
    "histplot : Plot a histogram of binned counts with optional normalization or smoothing.\n",
    "ecdfplot : Plot empirical cumulative distribution functions.\n",
    "jointplot : Draw a bivariate plot with univariate marginal distributions.\n",
    "violinplot : Draw an enhanced boxplot using kernel density estimation.\n",
    "\n",
    "Notes\n",
    "-----\n",
    "\n",
    "The *bandwidth*, or standard deviation of the smoothing kernel, is an important parameter. Misspecification of the bandwidth can produce a distorted representation of the data. Much like the choice of bin width in a histogram, an over-smoothed curve can erase true features of a distribution, while an under-smoothed curve can create false features out of random variability. The rule-of-thumb that sets the default bandwidth works best when the true distribution is smooth, unimodal, and roughly bell-shaped. It is always a good idea to check the default behavior by using ``bw_adjust`` to increase or decrease the amount of smoothing.\n",
    "\n",
    "Because the smoothing algorithm uses a Gaussian kernel, the estimated density curve can extend to values that do not make sense for a particular dataset. For example, the curve may be drawn over negative values when smoothing data that are naturally positive. The ``cut`` and ``clip`` parameters can be used to control the extent of the curve, but datasets that have many observations close to a natural boundary may be better served by a different visualization method.\n",
    "\n",
    "Similar considerations apply when a dataset is naturally discrete or \"spiky\" (containing many repeated observations of the same value). Kernel density estimation will always produce a smooth curve, which would be misleading in these situations.\n",
    "\n",
    "The units on the density axis are a common source of confusion. While kernel density estimation produces a probability distribution, the height of the curve at each point gives a density, not a probability. A probability can be obtained only by integrating the density across a range. The curve is normalized so that the integral over all possible values is 1, meaning that the scale of the density axis depends on the data values.\n"
   ]
  },
  {
   "cell_type": "code",
   "execution_count": null,
   "metadata": {},
   "outputs": [],
   "source": []
  },
  {
   "cell_type": "markdown",
   "metadata": {
    "id": "-f04MB3uf8cy"
   },
   "source": [
    "### <p style=\"background-color:#9d4f8c; font-family:newtimeroman; color:#FFF9ED; font-size:150%; text-align:left; border-radius:10px 10px;\">Cut Off KDE</p>\n",
    "\n",
    "<a id=\"9.1\"></a>\n",
    "<a href=\"#toc\" class=\"btn btn-primary btn-sm\" role=\"button\" aria-pressed=\"true\" \n",
    "style=\"color:blue; background-color:#dfa8e4\" data-toggle=\"popover\">Content</a>\n",
    "\n",
    "We could cut off the KDE if we know our data has hard limits (no one can be a negative age and no one in the population can be older than 100 for some reason)\n",
    "\n",
    "For more intiutive knowledge, dive into the discussion at stackoverflow:\n",
    "\n",
    "🧐 **[Limit the range of x in seaborn distplot KDE estimation](https://stackoverflow.com/questions/45911709/limit-the-range-of-x-in-seaborn-distplot-kde-estimation)**,<br> \n",
    "🧐 **[seaborn.kdeplot](http://man.hubwiz.com/docset/Seaborn.docset/Contents/Resources/Documents/generated/seaborn.kdeplot.html)**,<br> \n",
    "🧐 **[All you need to know about Seaborn](https://towardsdatascience.com/all-you-need-to-know-about-seaborn-6678a02f31ff)**"
   ]
  },
  {
   "cell_type": "code",
   "execution_count": null,
   "metadata": {},
   "outputs": [],
   "source": []
  },
  {
   "cell_type": "code",
   "execution_count": null,
   "metadata": {},
   "outputs": [],
   "source": []
  },
  {
   "cell_type": "markdown",
   "metadata": {
    "id": "pXpUPTJEgHqB"
   },
   "source": [
    "### <p style=\"background-color:#9d4f8c; font-family:newtimeroman; color:#FFF9ED; font-size:150%; text-align:left; border-radius:10px 10px;\">Bandwidth</p>\n",
    "\n",
    "<a id=\"9.2\"></a>\n",
    "<a href=\"#toc\" class=\"btn btn-primary btn-sm\" role=\"button\" aria-pressed=\"true\" \n",
    "style=\"color:blue; background-color:#dfa8e4\" data-toggle=\"popover\">Content</a>\n",
    "\n",
    "the KDE is constructed through the summation of the kernel (most commonly [Gaussian](https://en.wikipedia.org/wiki/Normal_distribution)), we can effect the bandwith of this kernel **to make the KDE more \"sensitive\" to the data.** Notice how with a smaller bandwith, the kernels don't stretch so wide, meaning we don't need the cut-off anymore. This is analagous to increasing the number of bins in a histogram (making the actual bins narrower).\n",
    "\n",
    "In statistics, Kernel Density Estimation is a non-parametric technique that calculates and plots the probability distribution(the probability density) of a continuous random variable. i.e., The calculation does not assume the underlying data to be following the assumptions of a normal distribution or any distribution.\n",
    "In simple terms, Kernel Density Estimate is like a smoothened counterpart of a histogram without the line of histogram intervals and their end-points.\n",
    "\n",
    "Such a smoothened curve for the probability density of a given data is obtained by drawing individual estimates for the data points and summing them up to produce the final contour.\n",
    "The bandwidth 'h' used in the estimation plays a role in the level of smoothness of the estimated curve. **The lower the 'h' - more closer to the data and more spiky the curve is. When the value of 'h' is higher the resultant curve is over smoothend.**\n",
    "\n",
    "What is meant by Gaussian distribution?<br>\n",
    "Normal distribution, also known as the Gaussian distribution, is a probability distribution that is symmetric about the mean, showing that data near the mean are more frequent in occurrence than data far from the mean. In graph form, normal distribution will appear as a bell curve.\n",
    "\n",
    "🧐 **[Drawing A Kernel Density Estimate(KDE) Plot Using Seaborn](https://pythontic.com/visualization/seaborn/kdeplot)**,<br>\n",
    "🧐 **[What is kernel density estimation? And how to build a KDE plot in Python? (Youtube)](https://www.youtube.com/watch?v=DCgPRaIDYXA)**\n",
    "**kernel (K)** (a simple non-negative function like the normal or uniform distribution)<br>\n",
    "**bandwidth (h)** (a real positive number that defines smoothness of the density plot)"
   ]
  },
  {
   "cell_type": "code",
   "execution_count": null,
   "metadata": {},
   "outputs": [],
   "source": []
  },
  {
   "cell_type": "markdown",
   "metadata": {},
   "source": [
    "🧐 **[Changing the bandwidth changes the shape of the kernel:](https://mathisonian.github.io/kde/)** a lower bandwidth means only points very close to the current position are given any weight, which leads to the estimate looking squiggly; a higher bandwidth means a shallow kernel where distant points can contribute."
   ]
  },
  {
   "cell_type": "code",
   "execution_count": null,
   "metadata": {},
   "outputs": [],
   "source": []
  },
  {
   "cell_type": "code",
   "execution_count": null,
   "metadata": {},
   "outputs": [],
   "source": []
  },
  {
   "cell_type": "code",
   "execution_count": null,
   "metadata": {},
   "outputs": [],
   "source": []
  },
  {
   "cell_type": "markdown",
   "metadata": {},
   "source": [
    "🧐 **[The importance of kernel density estimation bandwidth](https://aakinshin.net/posts/kde-bw/)**"
   ]
  },
  {
   "cell_type": "code",
   "execution_count": null,
   "metadata": {
    "scrolled": false
   },
   "outputs": [],
   "source": [
    "plt.figure(figsize=(12, 8))\n",
    "\n",
    "sns.kdeplot(x='total_bill', data=tips, bw_adjust=0.1, label=\"Bandwidth 0.1\")\n",
    "sns.kdeplot(x='total_bill', data=tips, bw_adjust=0.3, label=\"Bandwidth 0.3\")\n",
    "sns.kdeplot(x='total_bill', data=tips, bw_adjust=0.5, label=\"Bandwidth 0.5\")\n",
    "sns.kdeplot(x='total_bill', data=tips, bw_adjust=0.7, label=\"Bandwidth 0.7\")\n",
    "sns.kdeplot(x='total_bill', data=tips, bw_adjust=1, label=\"Bandwidth 1\")\n",
    "\n",
    "plt.legend();"
   ]
  },
  {
   "cell_type": "markdown",
   "metadata": {},
   "source": [
    "An important parameter is the bandwidth: the smaller it is, the closer the curve fits to the data, the wider the better to indicate a general form.\n",
    "\n",
    "It seems seaborn and pandas are using a different approach to estimate a \"good\" bandwidth. With seaborn you could set a fixed bandwidth sns.kdeplot(..., bw=0.5) or so. Or seaborn.distplot(..., kde=True, kde_kws={'bw': 0.5}). With pandas df.plot.kde(bw_method=0.5, ...). Note that the \"perfect\" bandwidth doesn't exist, it depends on the data, the number of samples and about what you already know about the underlying distribution. The default seaborn and pandas choose is just a rule of thumb, that might be useful or not for your data. Future versions will probably use different rules of thumb.\n",
    "\n",
    "🧐 **[Why are Pandas and Seaborn producing different KDE Plot for same data? on Stackoverflow](https://stackoverflow.com/questions/62176879/why-are-pandas-and-seaborn-producing-different-kde-plot-for-same-data)**"
   ]
  },
  {
   "cell_type": "code",
   "execution_count": null,
   "metadata": {},
   "outputs": [],
   "source": []
  },
  {
   "cell_type": "markdown",
   "metadata": {
    "id": "4yleQc3sgr0_"
   },
   "source": [
    "## <p style=\"background-color:#9d4f8c; font-family:newtimeroman; color:#FFF9ED; font-size:150%; text-align:CENTER; border-radius:10px 10px;\">2-DIMENSIONAL KDE PLOTS</p>\n",
    "\n",
    "<a id=\"10\"></a>\n",
    "<a href=\"#toc\" class=\"btn btn-primary btn-sm\" role=\"button\" aria-pressed=\"true\" \n",
    "style=\"color:blue; background-color:#dfa8e4\" data-toggle=\"popover\">Content</a>\n",
    "\n",
    "Just keep in your mind that you could compare two continuous features and create a 2d KDE plot showing there distributions with the same kdeplot() call. \n",
    "\n",
    "🧐 **[Visualizing distributions of data](https://seaborn.pydata.org/tutorial/distributions.html)**,<br> \n",
    "🧐 **[KDE and violin plots using seaborn](https://benalexkeen.com/kde-and-violin-plots-using-seaborn/)**"
   ]
  },
  {
   "cell_type": "markdown",
   "metadata": {},
   "source": [
    "**numpy.random.normal()**\n",
    "\n",
    "The NumPy random normal function enables you to create a NumPy array that contains normally distributed data. Normally distributed data is shaped sort of like a bell, so it's often called the “bell curve.”\n",
    "\n",
    "🧐 **[numpy.random.normal](https://numpy.org/doc/stable/reference/random/generated/numpy.random.normal.html)**,<br> \n",
    "🧐 **[A Quick Introduction to Numpy Random Normal](https://www.sharpsightlabs.com/blog/numpy-random-normal/)**"
   ]
  },
  {
   "cell_type": "code",
   "execution_count": null,
   "metadata": {
    "colab": {
     "base_uri": "https://localhost:8080/",
     "height": 417
    },
    "id": "YYP8hFYHglgQ",
    "outputId": "2d363422-6193-40ad-d872-fbbbb7bff66b",
    "scrolled": false
   },
   "outputs": [],
   "source": [
    "data = pd.DataFrame(np.random.normal(0, 1, size=(100, 2)), columns=['x', 'y'])\n",
    "data"
   ]
  },
  {
   "cell_type": "code",
   "execution_count": null,
   "metadata": {},
   "outputs": [],
   "source": []
  },
  {
   "cell_type": "code",
   "execution_count": null,
   "metadata": {},
   "outputs": [],
   "source": []
  },
  {
   "cell_type": "code",
   "execution_count": null,
   "metadata": {},
   "outputs": [],
   "source": []
  },
  {
   "cell_type": "code",
   "execution_count": null,
   "metadata": {},
   "outputs": [],
   "source": []
  },
  {
   "cell_type": "markdown",
   "metadata": {
    "id": "DA5jOrjShjWI"
   },
   "source": [
    "## <p style=\"background-color:#9d4f8c; font-family:newtimeroman; color:#FFF9ED; font-size:150%; text-align:center; border-radius:10px 10px;\">BONUS CODE FOR VISUALIZATIONS</p>\n",
    "\n",
    "<a id=\"11\"></a>\n",
    "<a href=\"#toc\" class=\"btn btn-primary btn-sm\" role=\"button\" aria-pressed=\"true\" \n",
    "style=\"color:blue; background-color:#dfa8e4\" data-toggle=\"popover\">Content</a>\n",
    "\n",
    "Below is the code used to create the visualizations shown in the video lecture for an explanation of a KDE plot. We will not cover this code in further detail, since it was only used for the creation of the slides shown in the video."
   ]
  },
  {
   "cell_type": "code",
   "execution_count": null,
   "metadata": {
    "id": "z5wj9ReDhYfJ"
   },
   "outputs": [],
   "source": [
    "np.random.seed(101)\n",
    "\n",
    "x = np.random.normal(0, 1, size=20)"
   ]
  },
  {
   "cell_type": "markdown",
   "metadata": {},
   "source": [
    "#### <p style=\"background-color:#9d4f8c; font-family:newtimeroman; color:#FFF9ED; font-size:150%; text-align:left; border-radius:10px 10px;\">What is dpi in Figure?</p>\n",
    "\n",
    "<a id=\"11.1\"></a>\n",
    "<a href=\"#toc\" class=\"btn btn-primary btn-sm\" role=\"button\" aria-pressed=\"true\" \n",
    "style=\"color:blue; background-color:#dfa8e4\" data-toggle=\"popover\">Content</a>\n",
    "\n",
    "Dots per inches (dpi) determines how many pixels the figure comprises. "
   ]
  },
  {
   "cell_type": "code",
   "execution_count": null,
   "metadata": {
    "colab": {
     "base_uri": "https://localhost:8080/",
     "height": 362
    },
    "id": "1sFc73W8h0ww",
    "outputId": "e5cb02d9-622c-49e9-ca6b-c7630eea7f8a"
   },
   "outputs": [],
   "source": [
    "plt.figure(figsize=(8, 4), dpi=200)\n",
    "\n",
    "sns.rugplot(x, color=\"darkblue\", linewidth=4);"
   ]
  },
  {
   "cell_type": "code",
   "execution_count": null,
   "metadata": {
    "colab": {
     "base_uri": "https://localhost:8080/",
     "height": 358
    },
    "id": "05XDAUS6h2QA",
    "outputId": "e25e0d17-9332-453f-953c-6a3759c3c537",
    "scrolled": false
   },
   "outputs": [],
   "source": [
    "from scipy import stats\n",
    "\n",
    "plt.figure(figsize=(8, 4), dpi=200)\n",
    "\n",
    "bandwidth = x.std() * x.size ** (-0.001)\n",
    "support = np.linspace(-5, 5, 100)\n",
    "\n",
    "kernels = []\n",
    "\n",
    "plt.figure(figsize=(12 ,6))\n",
    "\n",
    "for x_i in x:\n",
    "\n",
    "    kernel = stats.norm(x_i, bandwidth).pdf(support)\n",
    "    kernels.append(kernel)\n",
    "    plt.plot(support, kernel, color=\"lightblue\")\n",
    "\n",
    "sns.rugplot(x, color=\"darkblue\", linewidth=4);"
   ]
  },
  {
   "cell_type": "markdown",
   "metadata": {},
   "source": [
    "**Probability density function (PDF)** is a statistical expression that defines a probability distribution (the likelihood of an outcome) for a discrete random variable (e.g., a stock or ETF) as opposed to a continuous random variable."
   ]
  },
  {
   "cell_type": "code",
   "execution_count": null,
   "metadata": {
    "colab": {
     "base_uri": "https://localhost:8080/",
     "height": 375
    },
    "id": "cZ0rgdGwh4Gv",
    "outputId": "4dd130fa-940e-463c-cc8f-8013d13b6f4a",
    "scrolled": false
   },
   "outputs": [],
   "source": [
    "plt.figure(figsize=(8, 4), dpi=200)\n",
    "\n",
    "from scipy.integrate import trapz\n",
    "\n",
    "plt.figure(figsize=(12, 6))\n",
    "\n",
    "density = np.sum(kernels, axis=0)\n",
    "density /= trapz(density, support)\n",
    "\n",
    "plt.plot(support, density);\n",
    "sns.rugplot(x, color=\"darkblue\", linewidth=4);"
   ]
  },
  {
   "cell_type": "markdown",
   "metadata": {},
   "source": [
    "**numpy.trapz(y, x=None, dx=1.0, axis=- 1)** integrates along the given axis using the composite trapezoidal rule.\n",
    "\n",
    "trapz computes the approximation of a definite by the trapezoid rule. trapz returns the approximation of the integral using the trapezoid rule.\n",
    "\n",
    "🧐 **[numpy.trapz](https://numpy.org/doc/stable/reference/generated/numpy.trapz.html)**"
   ]
  },
  {
   "cell_type": "code",
   "execution_count": null,
   "metadata": {
    "colab": {
     "base_uri": "https://localhost:8080/",
     "height": 367
    },
    "id": "k9ok-Rl_h_sg",
    "outputId": "17533670-420b-4247-b2ba-3e6d1efe0ad8"
   },
   "outputs": [],
   "source": [
    "plt.figure(figsize=(8, 4), dpi=200)\n",
    "\n",
    "bandwidth = x.std() * x.size ** (-0.001)\n",
    "support = np.linspace(-5, 5, 100)\n",
    "\n",
    "kernels = []\n",
    "\n",
    "plt.figure(figsize=(12, 6))\n",
    "\n",
    "for x_i in x:\n",
    "    kernel = stats.norm(x_i, bandwidth).pdf(support)\n",
    "    kernels.append(kernel)\n",
    "#     plt.plot(support, kernel, color=\"lightblue\")\n",
    "\n",
    "# sns.rugplot(x, color=\"darkblue\", linewidth=4)\n",
    "sns.kdeplot(x, linewidth=6, shade=True);"
   ]
  },
  {
   "cell_type": "code",
   "execution_count": null,
   "metadata": {},
   "outputs": [],
   "source": [
    "tips"
   ]
  },
  {
   "cell_type": "code",
   "execution_count": null,
   "metadata": {
    "scrolled": false
   },
   "outputs": [],
   "source": [
    "from matplotlib.patches import Patch\n",
    "from matplotlib.lines import Line2D\n",
    "\n",
    "fig, ax = plt.subplots(figsize=(12, 8))\n",
    "\n",
    "ax = sns.kdeplot(data=tips, x=\"tip\", hue=\"size\", fill=True)\n",
    "\n",
    "ax.axvline(x=tips.tip.mean(), color='r', linestyle=':', lw=3)\n",
    "ax.axvline(x=np.median(tips.tip), color='b', linestyle=':', lw=3);\n",
    "\n",
    "legend_elements = [Line2D([0], [0], marker='s', color='blue', label='Size 1', markersize=15),\n",
    "                   Line2D([0], [0], marker='s', color='lightblue', label='Size 2', markersize=15),\n",
    "                   Line2D([0], [0], marker='s', color='red', label='Size 3', markersize=15),\n",
    "                   Line2D([0], [0], marker='s', color='darkgreen', label='Size 4', markersize=15),\n",
    "                   Line2D([0], [0], marker='s', color='lightgreen', label='Size 5', markersize=15),\n",
    "                   Patch(facecolor='orange', edgecolor='r', label='Size 6')]\n",
    "first_legend = plt.legend(handles=legend_elements, title='Size Type', bbox_to_anchor=(0.55, 1))\n",
    "plt.gca().add_artist(first_legend)\n",
    "\n",
    "second_legend = plt.legend(title='Tips Mean & Median', bbox_to_anchor=(0.75, 1), labels=['Tips Mean', 'Tips Median']) \n",
    "plt.gca().add_artist(second_legend);"
   ]
  },
  {
   "cell_type": "markdown",
   "metadata": {},
   "source": [
    "🧐 **[Composing Custom Legends](https://matplotlib.org/3.1.1/gallery/text_labels_and_annotations/custom_legends.html)**"
   ]
  },
  {
   "cell_type": "code",
   "execution_count": null,
   "metadata": {},
   "outputs": [],
   "source": [
    "np.median(tips.tip)"
   ]
  },
  {
   "cell_type": "code",
   "execution_count": null,
   "metadata": {},
   "outputs": [],
   "source": [
    "np.mean(tips.tip)"
   ]
  },
  {
   "cell_type": "code",
   "execution_count": null,
   "metadata": {},
   "outputs": [],
   "source": [
    "tips[\"size\"].unique()"
   ]
  },
  {
   "cell_type": "markdown",
   "metadata": {},
   "source": [
    "## Some Useful User Defined Functions (DEFs)"
   ]
  },
  {
   "cell_type": "code",
   "execution_count": null,
   "metadata": {},
   "outputs": [],
   "source": [
    "def show_distribution(col):\n",
    "    '''\n",
    "    This function will make a distribution (graph) and display it    \n",
    "    '''\n",
    "\n",
    "    # Get statistics\n",
    "    min_val = col.min()\n",
    "    max_val = col.max()\n",
    "    mean_val = col.mean()\n",
    "    med_val = col.median()\n",
    "    mod_val = col.mode()[0]\n",
    "\n",
    "    print('Minimum:{:.2f}\\nMean:{:.2f}\\nMedian:{:.2f}\\nMode:{:.2f}\\nMaximum:{:.2f}\\n'.format(min_val,\n",
    "                                                                                            mean_val,\n",
    "                                                                                            med_val,\n",
    "                                                                                            mod_val,\n",
    "                                                                                            max_val))\n",
    "\n",
    "    # Create a figure for 2 subplots (2 rows, 1 column)\n",
    "    fig, ax = plt.subplots(2, 1, figsize = (15,10))\n",
    "\n",
    "    # Plot the histogram   \n",
    "    ax[0].hist(col)\n",
    "    ax[0].set_ylabel('Frequency', fontsize=10)\n",
    "\n",
    "    # Add lines for the mean, median, and mode\n",
    "    ax[0].axvline(x=min_val, color = 'gray', linestyle='dashed', linewidth = 2, label='Minimum')\n",
    "    ax[0].axvline(x=mean_val, color = 'cyan', linestyle='dashed', linewidth = 2, label='Mean')\n",
    "    ax[0].axvline(x=med_val, color = 'red', linestyle='dashed', linewidth = 2, label='Median')\n",
    "    ax[0].axvline(x=mod_val, color = 'yellow', linestyle='dashed', linewidth = 2, label='Mode')\n",
    "    ax[0].axvline(x=max_val, color = 'gray', linestyle='dashed', linewidth = 2, label='Maximum')\n",
    "    ax[0].legend(loc='upper right')\n",
    "\n",
    "    # Plot the boxplot   \n",
    "    ax[1].boxplot(col, vert=False)\n",
    "    ax[1].set_xlabel('value', fontsize=10)\n",
    "\n",
    "    # Add a title to the Figure\n",
    "    fig.suptitle('Data Distribution', fontsize=15)"
   ]
  },
  {
   "cell_type": "code",
   "execution_count": null,
   "metadata": {},
   "outputs": [],
   "source": [
    "show_distribution(tips[\"total_bill\"])"
   ]
  },
  {
   "cell_type": "code",
   "execution_count": null,
   "metadata": {},
   "outputs": [],
   "source": [
    "def show_density(col):\n",
    "    from matplotlib import pyplot as plt\n",
    "\n",
    "    fig = plt.figure(figsize=(15, 5))\n",
    "\n",
    "    # Plot density\n",
    "    col.plot.density()\n",
    "\n",
    "    # Add titles and labels\n",
    "    plt.title('Data Density', fontsize=15)\n",
    "\n",
    "    # Show the mean, median, and mode\n",
    "    plt.axvline(x=col.mean(), color = 'cyan', linestyle='dashed', linewidth = 2, label = 'Mean')\n",
    "    plt.axvline(x=col.median(), color = 'red', linestyle='dashed', linewidth = 2, label = 'Median')\n",
    "    plt.axvline(x=col.mode()[0], color = 'yellow', linestyle='dashed', linewidth = 2, label = 'Mode')\n",
    "    plt.legend()\n",
    "\n",
    "    # Show the figure\n",
    "    plt.show()"
   ]
  },
  {
   "cell_type": "code",
   "execution_count": null,
   "metadata": {},
   "outputs": [],
   "source": [
    "show_density(tips[\"total_bill\"])"
   ]
  },
  {
   "cell_type": "markdown",
   "metadata": {},
   "source": [
    "### Why Do We Need Data Visualization & EDA?\n",
    "- Displaying statistical summaries\n",
    "- Gaining mor info while interpreting the data.\n",
    "- Identifying Patterns and Clusters.\n",
    "- You will mostly be expected to make decision or interpretations before diving into the model. Even if you do, you are required to capture some patterns before modelling. \n",
    "- EDA processing is critical in this case. It is critical to capture hidden and/or underlying patterns.\n",
    "- Presenting results\n",
    "- Before diving into the model, Visualization is crutial to present and percieve patterns.\n",
    "- Visualization is necessary to make the data talk to us and/or audiences. A picture is worth a thousand words. \n",
    "- It is necessary to evaluate the Model Performance.\n",
    "- EDA processing consists of most part of the data handling; on the other hand, modeling only takes 10-15% of the time.\n",
    "- The data needs to dance with the graphics/figures to reveal the underlying patterns. Or you will be got stuck with data.\n",
    "- The visualization can be obtained using Matplotlib, Seaborn and Pandas. Matplotlib is the basis of these three.\n",
    "- Seaborn: I say Statisksel says at the beginning. I use matplotlibi as a sub-structure. and a super product cikmis\n",
    "- Pandas is easy for visualization so it can firstly be prefered to visualize the data.\n",
    "- At Seaborn the great graphics can be created.\n",
    "- Matplotlib can customize the data in detail but it is complicated and cumbersome to use. On the other hand Seaborn easily uses DEFAULT values for visualization. Seaborn is also focused on statistics.\n",
    "- Using df is necessary to to make visualization at Pandas.\n",
    "- Ci: A confidence interval displays the probability (default or common/conventional usage 95%) that a parameter will fall between a pair of values around the mean .  would like to mean water overalls. You can obtain this at Seaborn.\n",
    "- KDE: Kernel Density Estimation (KDE) is a non-parametric way to estimate the probability density function of a random variable.\n",
    "- Seaborn also adds these additional features into graphs by means of parameters easily. Moreover while using Seaborn for visualization you can easily reach the statistical summaries of mean, sd, variance etc. This gives us an analytical capacity to analyze the data and more flexiabilty than the other libraries do.\n",
    "- At Seaborn you can also get the std at the bars.\n",
    "- At your studies the order may be using 1) Seaborn, 2) Pandas and 3) matplotlip, respectively. Nevertheless, those all are necessary to combine the options of visualization for getting a better Data Analyst/Scientist.\n",
    "- If you know Statistics, making the statistical graphics is crucial to percieve underlying patterns of the data in EDA processing.\n",
    "- To sum up, it is necessary to know all of them."
   ]
  },
  {
   "cell_type": "markdown",
   "metadata": {},
   "source": [
    "## <p style=\"background-color:#9d4f8c; font-family:newtimeroman; color:#FFF9ED; font-size:150%; text-align:center; border-radius:10px 10px;\">THE END OF SEABORN SESSION 01</p>\n",
    "\n",
    "<a id=\"12\"></a>\n",
    "<a href=\"#toc\" class=\"btn btn-primary btn-sm\" role=\"button\" aria-pressed=\"true\" \n",
    "style=\"color:blue; background-color:#dfa8e4\" data-toggle=\"popover\">Content</a>"
   ]
  },
  {
   "cell_type": "markdown",
   "metadata": {
    "id": "bdr4766hiDQo"
   },
   "source": [
    "<p style=\"text-align: center;\"><img src=\"https://i.ibb.co/99DQ3TY/DS-Courses.png\" class=\"img-fluid\" \n",
    "alt=\"CLRSWY\"></p>\n",
    "\n",
    "<a href=\"https://clarusway.com/\"><img align=\"center\" src=\"https://docs.google.com/uc?id=1lY0Uj5R04yMY3-ZppPWxqCr5pvBLYPnV\" alt=\"CLRSWY\" title=\"Way to Reinvent Yourself\"></a><br/>\n",
    "\n",
    "\n",
    "## <p style=\"background-color:#FDFEFE; font-family:newtimeroman; color:#9d4f8c; font-size:120%; text-align:center; border-radius:10px 10px;\">Way to Reinvent Yourself</p>\n",
    "___"
   ]
  }
 ],
 "metadata": {
  "colab": {
   "name": "S3_Seborn1.ipynb",
   "provenance": []
  },
  "kernelspec": {
   "display_name": "Python 3 (ipykernel)",
   "language": "python",
   "name": "python3"
  },
  "language_info": {
   "codemirror_mode": {
    "name": "ipython",
    "version": 3
   },
   "file_extension": ".py",
   "mimetype": "text/x-python",
   "name": "python",
   "nbconvert_exporter": "python",
   "pygments_lexer": "ipython3",
   "version": "3.9.13"
  },
  "toc": {
   "base_numbering": 1,
   "nav_menu": {},
   "number_sections": false,
   "sideBar": true,
   "skip_h1_title": false,
   "title_cell": "Table of Contents",
   "title_sidebar": "Contents",
   "toc_cell": false,
   "toc_position": {},
   "toc_section_display": true,
   "toc_window_display": true
  }
 },
 "nbformat": 4,
 "nbformat_minor": 1
}
