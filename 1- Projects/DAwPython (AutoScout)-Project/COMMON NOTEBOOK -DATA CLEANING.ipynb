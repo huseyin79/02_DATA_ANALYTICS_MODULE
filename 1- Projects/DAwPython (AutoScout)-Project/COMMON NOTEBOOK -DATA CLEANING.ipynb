{
 "cells": [
  {
   "cell_type": "markdown",
   "metadata": {
    "id": "Bkw3_pB0s1L-"
   },
   "source": [
    "___\n",
    "\n",
    "<p style=\"text-align: center;\"><img src=\"https://docs.google.com/uc?id=1lY0Uj5R04yMY3-ZppPWxqCr5pvBLYPnV\" class=\"img-fluid\" \n",
    "alt=\"CLRSWY\"></p>\n",
    "\n",
    "## <p style=\"background-color:#FDFEFE; font-family:newtimeroman; color:#9d4f8c; font-size:100%; text-align:center; border-radius:10px 10px;\">WAY TO REINVENT YOURSELF</p>\n",
    "\n",
    "## <p style=\"background-color:#FDFEFE; font-family:newtimeroman; color:#060108; font-size:200%; text-align:center; border-radius:10px 10px;\">DA & DVwPY</p>\n",
    "\n",
    "## <p style=\"background-color:#FDFEFE; font-family:newtimeroman; color:#060108; font-size:200%; text-align:center; border-radius:10px 10px;\">The Exploratory Data Analysis (EDA) Project</p>\n",
    "\n",
    "<img src=https://i.ibb.co/wJW61Y2/Used-cars.jpg width=\"700\" height=\"200\">\n",
    "\n",
    "## <p style=\"background-color:#FDFEFE; font-family:newtimeroman; color:#060108; font-size:200%; text-align:center; border-radius:10px 10px;\">AutoScout Car Price Prediction EDA</p>\n",
    "\n"
   ]
  },
  {
   "cell_type": "markdown",
   "metadata": {
    "id": "Z_oWczxZs1MA"
   },
   "source": [
    "## Introduction\n",
    "Welcome to \"***AutoScout Exploratory Data Analysis (EDA) Project***\". This is the project of completing ***Data Analysis & Data Visualization*** Courses and a successful hand-over is mandatory for getting certification for both courses. **Auto Scout** data used in this project scraped from the Website of an online car trading company in 2022, and contains many features of 13 different car makes including 594 models. In this project, you will have the opportunity to apply many commonly used algorithms for Data Cleaning and Exploratory Data Analysis by using a variety of Python libraries, such as Numpy, Pandas, Matplotlib, Seaborn, Scipy, and then you will get a clean dataset for your analysis and pretictive modelling in Machine Learning Path. So you will have the chance to use all the skills you have already learned in the Data Analysis and Visualization courses.\n",
    "\n",
    "**``In this context, the project consists of 3 parts in general:``**\n",
    "* **The first part** is related to ``'Data Cleaning'``. It deals with Incorrect Headers, Incorrect Format, Anomalies, and Dropping useless columns.\n",
    "* **The second part** is related to ``'Filling Data'``, in other words 'Imputation'. It deals with Missing Values. Categorical to numeric transformation, Encoding, is done as well.\n",
    "* **The third part** is related to ``'Handling Outliers of Data'`` via Visualization libraries. So, some insights will be extracted.\n",
    "\n",
    "**``SPECIAL NOTE:``**  However, you are ``free to create your own style``. You do ``NOT`` have to stick to the steps above. Nevertheless, we, the DA & DV instructors, recommend you study each part separately to create a source notebook for your further studies. \n",
    "\n",
    "In order to build your Portfolio in terms of the GitHub account, you need to push your solution file up to your own repository.\n",
    "\n",
    "Please after solving the task, commit your notebook to GitHub and submit its link to LMS page where the project is settled down.\n",
    "\n",
    "**BE NOTED:** Please ``DO NOT FORGET`` to click the submit button.\n",
    "\n",
    "### Some Reminders on Exploratory data analysis (EDA)\n",
    "\n",
    "Exploratory data analysis (EDA) is an especially important activity in the routine of a data analyst or scientist. It enables an in depth understanding of the dataset, define or discard hypotheses and create predictive models on a solid basis. It uses data manipulation techniques and several statistical tools to describe and understand the relationship between variables and how these can impact business. By means of EDA, we can obtain meaningful insights that can impact analysis under the following questions (If a checklist is good enough for pilots to use every flight, it’s good enough for data scientists to use with every dataset).\n",
    "1. What question are you trying to solve (or prove wrong)?\n",
    "2. What kind of data do you have?\n",
    "3. What’s missing from the data?\n",
    "4. Where are the outliers?\n",
    "5. How can you add, change or remove features to get more out of your data?\n",
    "\n",
    "**``Exploratory data analysis (EDA)``** is often an **iterative brainstorming process** where you pose a question, review the data, and develop further questions to investigate before beginning model development work. The image below shows how the brainstorming phase is connected with that of understanding the variables and how this in turn is connected again with the brainstorming phase.<br>\n",
    "\n",
    "<img src=https://i.ibb.co/k0MC950/EDA-Process.png width=\"300\" height=\"100\">\n",
    "\n",
    "[Image Credit: Andrew D.](https://towardsdatascience.com/exploratory-data-analysis-in-python-a-step-by-step-process-d0dfa6bf94ee)\n",
    "\n"
   ]
  },
  {
   "cell_type": "markdown",
   "metadata": {
    "id": "vvgJ5KWTs1MB"
   },
   "source": [
    "# PART- 1 `( Data Cleaning )`"
   ]
  },
  {
   "cell_type": "code",
   "execution_count": 144,
   "metadata": {
    "ExecuteTime": {
     "end_time": "2023-03-13T13:37:02.541950Z",
     "start_time": "2023-03-13T13:37:02.521460Z"
    },
    "id": "Y13_gId7s1MC"
   },
   "outputs": [],
   "source": [
    "import numpy as np\n",
    "import pandas as pd\n",
    "import seaborn as sns\n",
    "import matplotlib as plt\n",
    "import json\n",
    "import re\n",
    "\n",
    "import warnings\n",
    "warnings.filterwarnings(\"ignore\")\n",
    "warnings.warn(\"this will not show\")\n",
    "\n",
    "%matplotlib inline\n",
    "\n",
    "\n",
    "plt.rcParams[\"figure.figsize\"] = (10,6)\n",
    "\n",
    "\n",
    "sns.set_style(\"whitegrid\")\n",
    "pd.set_option('display.float_format', lambda x: '%.2f' % x)\n",
    "\n",
    "pd.options.display.max_rows = 100\n",
    "pd.options.display.max_columns = 100\n"
   ]
  },
  {
   "cell_type": "code",
   "execution_count": 145,
   "metadata": {
    "ExecuteTime": {
     "end_time": "2023-03-13T13:37:06.108631Z",
     "start_time": "2023-03-13T13:37:02.651056Z"
    }
   },
   "outputs": [],
   "source": [
    "df0 = pd.read_json(\"as24_cars.json\", lines=False)"
   ]
  },
  {
   "cell_type": "code",
   "execution_count": 146,
   "metadata": {
    "ExecuteTime": {
     "end_time": "2023-03-13T13:37:06.339616Z",
     "start_time": "2023-03-13T13:37:06.112694Z"
    }
   },
   "outputs": [],
   "source": [
    "df=df0.copy()"
   ]
  },
  {
   "cell_type": "code",
   "execution_count": 147,
   "metadata": {
    "ExecuteTime": {
     "end_time": "2023-03-13T13:37:06.385872Z",
     "start_time": "2023-03-13T13:37:06.341878Z"
    }
   },
   "outputs": [
    {
     "data": {
      "text/html": [
       "<div>\n",
       "<style scoped>\n",
       "    .dataframe tbody tr th:only-of-type {\n",
       "        vertical-align: middle;\n",
       "    }\n",
       "\n",
       "    .dataframe tbody tr th {\n",
       "        vertical-align: top;\n",
       "    }\n",
       "\n",
       "    .dataframe thead th {\n",
       "        text-align: right;\n",
       "    }\n",
       "</style>\n",
       "<table border=\"1\" class=\"dataframe\">\n",
       "  <thead>\n",
       "    <tr style=\"text-align: right;\">\n",
       "      <th></th>\n",
       "      <th>0</th>\n",
       "      <th>1</th>\n",
       "      <th>2</th>\n",
       "      <th>3</th>\n",
       "      <th>4</th>\n",
       "    </tr>\n",
       "  </thead>\n",
       "  <tbody>\n",
       "    <tr>\n",
       "      <th>make_model</th>\n",
       "      <td>Mercedes-Benz A 160</td>\n",
       "      <td>Mercedes-Benz EQE 350</td>\n",
       "      <td>Mercedes-Benz A 45 AMG</td>\n",
       "      <td>Mercedes-Benz A 35 AMG</td>\n",
       "      <td>Mercedes-Benz A 45 AMG</td>\n",
       "    </tr>\n",
       "    <tr>\n",
       "      <th>short_description</th>\n",
       "      <td>CDi</td>\n",
       "      <td>350+</td>\n",
       "      <td>S 4Matic+ 8G-DCT</td>\n",
       "      <td>4Matic+ 7G-DCT</td>\n",
       "      <td>200CDI BE Line 4M 7G-DCT</td>\n",
       "    </tr>\n",
       "    <tr>\n",
       "      <th>make</th>\n",
       "      <td>\\nMercedes-Benz\\n</td>\n",
       "      <td>\\nMercedes-Benz\\n</td>\n",
       "      <td>\\nMercedes-Benz\\n</td>\n",
       "      <td>\\nMercedes-Benz\\n</td>\n",
       "      <td>\\nMercedes-Benz\\n</td>\n",
       "    </tr>\n",
       "    <tr>\n",
       "      <th>model</th>\n",
       "      <td>[\\n, A 160 ,\\n]</td>\n",
       "      <td>[\\n, EQE 350 ,\\n]</td>\n",
       "      <td>[\\n, A 45 AMG ,\\n]</td>\n",
       "      <td>[\\n, A 35 AMG ,\\n]</td>\n",
       "      <td>[\\n, A 45 AMG ,\\n]</td>\n",
       "    </tr>\n",
       "    <tr>\n",
       "      <th>location</th>\n",
       "      <td>P.I. EL PALMAR C/FORJA 6,  11500 PUERTO DE SAN...</td>\n",
       "      <td>APARTADO DE CORREOS 1032,  26140 LOGROÑO, ES</td>\n",
       "      <td>PORT. TARRACO, MOLL DE LLEVANT, Nº 5, LOC. 6-8...</td>\n",
       "      <td>Carrer de Provença, 31 Local,  8029 BARCELONA, ES</td>\n",
       "      <td>CARRIL ARAGONES 4,  30007 CASILLAS, ES</td>\n",
       "    </tr>\n",
       "    <tr>\n",
       "      <th>price</th>\n",
       "      <td>€ 16,950.-</td>\n",
       "      <td>€ 80,900.-</td>\n",
       "      <td>€ 69,900.-</td>\n",
       "      <td>€ 46,990.-</td>\n",
       "      <td>€ 16,800.-</td>\n",
       "    </tr>\n",
       "    <tr>\n",
       "      <th>Body type</th>\n",
       "      <td>[\\n, Compact, \\n]</td>\n",
       "      <td>[\\n, Compact, \\n]</td>\n",
       "      <td>[\\n, Compact, \\n]</td>\n",
       "      <td>[\\n, Compact, \\n]</td>\n",
       "      <td>[\\n, Compact, \\n]</td>\n",
       "    </tr>\n",
       "    <tr>\n",
       "      <th>Type</th>\n",
       "      <td>[\\n, Used, \\n]</td>\n",
       "      <td>[\\n, Pre-registered, \\n]</td>\n",
       "      <td>[\\n, Used, \\n]</td>\n",
       "      <td>[\\n, Used, \\n]</td>\n",
       "      <td>[\\n, Used, \\n]</td>\n",
       "    </tr>\n",
       "    <tr>\n",
       "      <th>Doors</th>\n",
       "      <td>[\\n, 5, \\n]</td>\n",
       "      <td>[\\n, 4, \\n]</td>\n",
       "      <td>[\\n, 5, \\n]</td>\n",
       "      <td>[\\n, 5, \\n]</td>\n",
       "      <td>[\\n, 5, \\n]</td>\n",
       "    </tr>\n",
       "    <tr>\n",
       "      <th>Country version</th>\n",
       "      <td>[\\n, Spain, \\n]</td>\n",
       "      <td>[\\n, Spain, \\n]</td>\n",
       "      <td>[\\n, Spain, \\n]</td>\n",
       "      <td>[\\n, Spain, \\n]</td>\n",
       "      <td>[\\n, Spain, \\n]</td>\n",
       "    </tr>\n",
       "    <tr>\n",
       "      <th>Offer number</th>\n",
       "      <td>[\\n, 7468157, \\n]</td>\n",
       "      <td>[\\n, 7054863, \\n]</td>\n",
       "      <td>[\\n, 7410454, \\n]</td>\n",
       "      <td>[\\n, 7464503, \\n]</td>\n",
       "      <td>[\\n, 7127931, \\n]</td>\n",
       "    </tr>\n",
       "    <tr>\n",
       "      <th>Warranty</th>\n",
       "      <td>[\\n, 24 months, \\n]</td>\n",
       "      <td>[\\n, 24 months, \\n]</td>\n",
       "      <td>[\\n, 12 months, \\n]</td>\n",
       "      <td>[\\n, 12 months, \\n]</td>\n",
       "      <td>[\\n, 12 months, \\n]</td>\n",
       "    </tr>\n",
       "    <tr>\n",
       "      <th>Mileage</th>\n",
       "      <td>120,200 km</td>\n",
       "      <td>5,000 km</td>\n",
       "      <td>18,900 km</td>\n",
       "      <td>18,995 km</td>\n",
       "      <td>197,000 km</td>\n",
       "    </tr>\n",
       "    <tr>\n",
       "      <th>First registration</th>\n",
       "      <td>06/2016</td>\n",
       "      <td>06/2022</td>\n",
       "      <td>07/2020</td>\n",
       "      <td>01/2020</td>\n",
       "      <td>09/2015</td>\n",
       "    </tr>\n",
       "    <tr>\n",
       "      <th>Gearbox</th>\n",
       "      <td>[\\nManual\\n]</td>\n",
       "      <td>[\\nAutomatic\\n]</td>\n",
       "      <td>[\\nAutomatic\\n]</td>\n",
       "      <td>[\\nAutomatic\\n]</td>\n",
       "      <td>[\\nAutomatic\\n]</td>\n",
       "    </tr>\n",
       "    <tr>\n",
       "      <th>Fuel type</th>\n",
       "      <td>Diesel</td>\n",
       "      <td>Electric</td>\n",
       "      <td>Gasoline</td>\n",
       "      <td>Gasoline</td>\n",
       "      <td>Diesel</td>\n",
       "    </tr>\n",
       "    <tr>\n",
       "      <th>Colour</th>\n",
       "      <td>Black</td>\n",
       "      <td>NaN</td>\n",
       "      <td>Grey</td>\n",
       "      <td>Yellow</td>\n",
       "      <td>White</td>\n",
       "    </tr>\n",
       "    <tr>\n",
       "      <th>Paint</th>\n",
       "      <td>Metallic</td>\n",
       "      <td>NaN</td>\n",
       "      <td>NaN</td>\n",
       "      <td>NaN</td>\n",
       "      <td>Metallic</td>\n",
       "    </tr>\n",
       "    <tr>\n",
       "      <th>desc</th>\n",
       "      <td>[ , Precio al contado: 16950 euros,  ,  , Vehí...</td>\n",
       "      <td>[ , Precio al contado: 88900 euros,  , AUTO OJ...</td>\n",
       "      <td>[Gris MANUFAKTUR mountaingrau magno,  , Linea/...</td>\n",
       "      <td>[ , Precio al contado: 48990 euros,  ,  , BONI...</td>\n",
       "      <td>[ , Precio al contado: 17400 euros,  , Vehícul...</td>\n",
       "    </tr>\n",
       "    <tr>\n",
       "      <th>seller</th>\n",
       "      <td>Dealer</td>\n",
       "      <td>Dealer</td>\n",
       "      <td>Dealer</td>\n",
       "      <td>Dealer</td>\n",
       "      <td>Dealer</td>\n",
       "    </tr>\n",
       "    <tr>\n",
       "      <th>Seats</th>\n",
       "      <td>NaN</td>\n",
       "      <td>[\\n, 5, \\n]</td>\n",
       "      <td>[\\n, 5, \\n]</td>\n",
       "      <td>[\\n, 5, \\n]</td>\n",
       "      <td>[\\n, 5, \\n]</td>\n",
       "    </tr>\n",
       "    <tr>\n",
       "      <th>Power</th>\n",
       "      <td>NaN</td>\n",
       "      <td>[\\n215 kW (292 hp)\\n]</td>\n",
       "      <td>[\\n310 kW (421 hp)\\n]</td>\n",
       "      <td>[\\n225 kW (306 hp)\\n]</td>\n",
       "      <td>[\\n100 kW (136 hp)\\n]</td>\n",
       "    </tr>\n",
       "    <tr>\n",
       "      <th>Engine size</th>\n",
       "      <td>NaN</td>\n",
       "      <td>[\\n1 cc\\n]</td>\n",
       "      <td>[\\n1,991 cc\\n]</td>\n",
       "      <td>[\\n1,991 cc\\n]</td>\n",
       "      <td>[\\n2,143 cc\\n]</td>\n",
       "    </tr>\n",
       "    <tr>\n",
       "      <th>Gears</th>\n",
       "      <td>NaN</td>\n",
       "      <td>[\\n9\\n]</td>\n",
       "      <td>[\\n8\\n]</td>\n",
       "      <td>[\\n7\\n]</td>\n",
       "      <td>[\\n7\\n]</td>\n",
       "    </tr>\n",
       "    <tr>\n",
       "      <th>CO₂-emissions</th>\n",
       "      <td>NaN</td>\n",
       "      <td>0 g/km (comb.)</td>\n",
       "      <td>NaN</td>\n",
       "      <td>NaN</td>\n",
       "      <td>NaN</td>\n",
       "    </tr>\n",
       "    <tr>\n",
       "      <th>Manufacturer colour</th>\n",
       "      <td>NaN</td>\n",
       "      <td>Negro Obsidiana</td>\n",
       "      <td>Mountaingrau magno</td>\n",
       "      <td>Amarillo Sol</td>\n",
       "      <td>NaN</td>\n",
       "    </tr>\n",
       "    <tr>\n",
       "      <th>Drivetrain</th>\n",
       "      <td>NaN</td>\n",
       "      <td>NaN</td>\n",
       "      <td>[\\n, 4WD, \\n]</td>\n",
       "      <td>[\\n, 4WD, \\n]</td>\n",
       "      <td>[\\n, 4WD, \\n]</td>\n",
       "    </tr>\n",
       "    <tr>\n",
       "      <th>Cylinders</th>\n",
       "      <td>NaN</td>\n",
       "      <td>NaN</td>\n",
       "      <td>[\\n4\\n]</td>\n",
       "      <td>[\\n4\\n]</td>\n",
       "      <td>[\\n4\\n]</td>\n",
       "    </tr>\n",
       "    <tr>\n",
       "      <th>Fuel consumption</th>\n",
       "      <td>NaN</td>\n",
       "      <td>NaN</td>\n",
       "      <td>[[8.4 l/100 km (comb.)], [10.9 l/100 km (city)...</td>\n",
       "      <td>[[7.3 l/100 km (comb.)], [9.3 l/100 km (city)]...</td>\n",
       "      <td>[[4.9 l/100 km (comb.)], [5.7 l/100 km (city)]...</td>\n",
       "    </tr>\n",
       "    <tr>\n",
       "      <th>\\nComfort &amp; Convenience\\n</th>\n",
       "      <td>NaN</td>\n",
       "      <td>NaN</td>\n",
       "      <td>NaN</td>\n",
       "      <td>[Air conditioning, Automatic climate control, ...</td>\n",
       "      <td>[Air conditioning, Electrical side mirrors, Mu...</td>\n",
       "    </tr>\n",
       "    <tr>\n",
       "      <th>\\nEntertainment &amp; Media\\n</th>\n",
       "      <td>NaN</td>\n",
       "      <td>NaN</td>\n",
       "      <td>NaN</td>\n",
       "      <td>[USB]</td>\n",
       "      <td>[Bluetooth, CD player, MP3, USB]</td>\n",
       "    </tr>\n",
       "    <tr>\n",
       "      <th>\\nSafety &amp; Security\\n</th>\n",
       "      <td>NaN</td>\n",
       "      <td>NaN</td>\n",
       "      <td>NaN</td>\n",
       "      <td>[ABS, Central door lock, Driver-side airbag, E...</td>\n",
       "      <td>[ABS, Central door lock, Driver-side airbag, E...</td>\n",
       "    </tr>\n",
       "    <tr>\n",
       "      <th>\\nExtras\\n</th>\n",
       "      <td>NaN</td>\n",
       "      <td>NaN</td>\n",
       "      <td>NaN</td>\n",
       "      <td>[Sport seats]</td>\n",
       "      <td>NaN</td>\n",
       "    </tr>\n",
       "    <tr>\n",
       "      <th>Empty weight</th>\n",
       "      <td>NaN</td>\n",
       "      <td>NaN</td>\n",
       "      <td>NaN</td>\n",
       "      <td>NaN</td>\n",
       "      <td>[\\n1,545 kg\\n]</td>\n",
       "    </tr>\n",
       "    <tr>\n",
       "      <th>Model code</th>\n",
       "      <td>NaN</td>\n",
       "      <td>NaN</td>\n",
       "      <td>NaN</td>\n",
       "      <td>NaN</td>\n",
       "      <td>NaN</td>\n",
       "    </tr>\n",
       "    <tr>\n",
       "      <th>General inspection</th>\n",
       "      <td>NaN</td>\n",
       "      <td>NaN</td>\n",
       "      <td>NaN</td>\n",
       "      <td>NaN</td>\n",
       "      <td>NaN</td>\n",
       "    </tr>\n",
       "    <tr>\n",
       "      <th>Last service</th>\n",
       "      <td>NaN</td>\n",
       "      <td>NaN</td>\n",
       "      <td>NaN</td>\n",
       "      <td>NaN</td>\n",
       "      <td>NaN</td>\n",
       "    </tr>\n",
       "    <tr>\n",
       "      <th>Full service history</th>\n",
       "      <td>NaN</td>\n",
       "      <td>NaN</td>\n",
       "      <td>NaN</td>\n",
       "      <td>NaN</td>\n",
       "      <td>NaN</td>\n",
       "    </tr>\n",
       "    <tr>\n",
       "      <th>Non-smoker vehicle</th>\n",
       "      <td>NaN</td>\n",
       "      <td>NaN</td>\n",
       "      <td>NaN</td>\n",
       "      <td>NaN</td>\n",
       "      <td>NaN</td>\n",
       "    </tr>\n",
       "    <tr>\n",
       "      <th>Emission class</th>\n",
       "      <td>NaN</td>\n",
       "      <td>NaN</td>\n",
       "      <td>NaN</td>\n",
       "      <td>NaN</td>\n",
       "      <td>NaN</td>\n",
       "    </tr>\n",
       "    <tr>\n",
       "      <th>Emissions sticker</th>\n",
       "      <td>NaN</td>\n",
       "      <td>NaN</td>\n",
       "      <td>NaN</td>\n",
       "      <td>NaN</td>\n",
       "      <td>NaN</td>\n",
       "    </tr>\n",
       "    <tr>\n",
       "      <th>Upholstery colour</th>\n",
       "      <td>NaN</td>\n",
       "      <td>NaN</td>\n",
       "      <td>NaN</td>\n",
       "      <td>NaN</td>\n",
       "      <td>NaN</td>\n",
       "    </tr>\n",
       "    <tr>\n",
       "      <th>Upholstery</th>\n",
       "      <td>NaN</td>\n",
       "      <td>NaN</td>\n",
       "      <td>NaN</td>\n",
       "      <td>NaN</td>\n",
       "      <td>NaN</td>\n",
       "    </tr>\n",
       "    <tr>\n",
       "      <th>Production date</th>\n",
       "      <td>NaN</td>\n",
       "      <td>NaN</td>\n",
       "      <td>NaN</td>\n",
       "      <td>NaN</td>\n",
       "      <td>NaN</td>\n",
       "    </tr>\n",
       "    <tr>\n",
       "      <th>Previous owner</th>\n",
       "      <td>NaN</td>\n",
       "      <td>NaN</td>\n",
       "      <td>NaN</td>\n",
       "      <td>NaN</td>\n",
       "      <td>NaN</td>\n",
       "    </tr>\n",
       "    <tr>\n",
       "      <th>Other fuel types</th>\n",
       "      <td>NaN</td>\n",
       "      <td>NaN</td>\n",
       "      <td>NaN</td>\n",
       "      <td>NaN</td>\n",
       "      <td>NaN</td>\n",
       "    </tr>\n",
       "    <tr>\n",
       "      <th>Power consumption</th>\n",
       "      <td>NaN</td>\n",
       "      <td>NaN</td>\n",
       "      <td>NaN</td>\n",
       "      <td>NaN</td>\n",
       "      <td>NaN</td>\n",
       "    </tr>\n",
       "    <tr>\n",
       "      <th>Energy efficiency class</th>\n",
       "      <td>NaN</td>\n",
       "      <td>NaN</td>\n",
       "      <td>NaN</td>\n",
       "      <td>NaN</td>\n",
       "      <td>NaN</td>\n",
       "    </tr>\n",
       "    <tr>\n",
       "      <th>CO₂-efficiency</th>\n",
       "      <td>NaN</td>\n",
       "      <td>NaN</td>\n",
       "      <td>NaN</td>\n",
       "      <td>NaN</td>\n",
       "      <td>NaN</td>\n",
       "    </tr>\n",
       "    <tr>\n",
       "      <th>Fuel consumption (WLTP)</th>\n",
       "      <td>NaN</td>\n",
       "      <td>NaN</td>\n",
       "      <td>NaN</td>\n",
       "      <td>NaN</td>\n",
       "      <td>NaN</td>\n",
       "    </tr>\n",
       "    <tr>\n",
       "      <th>CO₂-emissions (WLTP)</th>\n",
       "      <td>NaN</td>\n",
       "      <td>NaN</td>\n",
       "      <td>NaN</td>\n",
       "      <td>NaN</td>\n",
       "      <td>NaN</td>\n",
       "    </tr>\n",
       "    <tr>\n",
       "      <th>Available from</th>\n",
       "      <td>NaN</td>\n",
       "      <td>NaN</td>\n",
       "      <td>NaN</td>\n",
       "      <td>NaN</td>\n",
       "      <td>NaN</td>\n",
       "    </tr>\n",
       "    <tr>\n",
       "      <th>Taxi or rental car</th>\n",
       "      <td>NaN</td>\n",
       "      <td>NaN</td>\n",
       "      <td>NaN</td>\n",
       "      <td>NaN</td>\n",
       "      <td>NaN</td>\n",
       "    </tr>\n",
       "    <tr>\n",
       "      <th>Availability</th>\n",
       "      <td>NaN</td>\n",
       "     "
      ],
      "text/plain": [
       "                                                                           0  \\\n",
       "make_model                                               Mercedes-Benz A 160   \n",
       "short_description                                                        CDi   \n",
       "make                                                       \\nMercedes-Benz\\n   \n",
       "model                                                        [\\n, A 160 ,\\n]   \n",
       "location                   P.I. EL PALMAR C/FORJA 6,  11500 PUERTO DE SAN...   \n",
       "price                                                             € 16,950.-   \n",
       "Body type                                                  [\\n, Compact, \\n]   \n",
       "Type                                                          [\\n, Used, \\n]   \n",
       "Doors                                                            [\\n, 5, \\n]   \n",
       "Country version                                              [\\n, Spain, \\n]   \n",
       "Offer number                                               [\\n, 7468157, \\n]   \n",
       "Warranty                                                 [\\n, 24 months, \\n]   \n",
       "Mileage                                                           120,200 km   \n",
       "First registration                                                   06/2016   \n",
       "Gearbox                                                         [\\nManual\\n]   \n",
       "Fuel type                                                             Diesel   \n",
       "Colour                                                                 Black   \n",
       "Paint                                                               Metallic   \n",
       "desc                       [ , Precio al contado: 16950 euros,  ,  , Vehí...   \n",
       "seller                                                                Dealer   \n",
       "Seats                                                                    NaN   \n",
       "Power                                                                    NaN   \n",
       "Engine size                                                              NaN   \n",
       "Gears                                                                    NaN   \n",
       "CO₂-emissions                                                            NaN   \n",
       "Manufacturer colour                                                      NaN   \n",
       "Drivetrain                                                               NaN   \n",
       "Cylinders                                                                NaN   \n",
       "Fuel consumption                                                         NaN   \n",
       "\\nComfort & Convenience\\n                                                NaN   \n",
       "\\nEntertainment & Media\\n                                                NaN   \n",
       "\\nSafety & Security\\n                                                    NaN   \n",
       "\\nExtras\\n                                                               NaN   \n",
       "Empty weight                                                             NaN   \n",
       "Model code                                                               NaN   \n",
       "General inspection                                                       NaN   \n",
       "Last service                                                             NaN   \n",
       "Full service history                                                     NaN   \n",
       "Non-smoker vehicle                                                       NaN   \n",
       "Emission class                                                           NaN   \n",
       "Emissions sticker                                                        NaN   \n",
       "Upholstery colour                                                        NaN   \n",
       "Upholstery                                                               NaN   \n",
       "Production date                                                          NaN   \n",
       "Previous owner                                                           NaN   \n",
       "Other fuel types                                                         NaN   \n",
       "Power consumption                                                        NaN   \n",
       "Energy efficiency class                                                  NaN   \n",
       "CO₂-efficiency                                                           NaN   \n",
       "Fuel consumption (WLTP)                                                  NaN   \n",
       "CO₂-emissions (WLTP)                                                     NaN   \n",
       "Available from                                                           NaN   \n",
       "Taxi or rental car                                                       NaN   \n",
       "Availability                                                             NaN   \n",
       "Last timing belt change                                                  NaN   \n",
       "Electric Range (WLTP)                                                    NaN   \n",
       "Power consumption (WLTP)                                                 NaN   \n",
       "Battery Ownership                                                        NaN   \n",
       "\n",
       "                                                                           1  \\\n",
       "make_model                                             Mercedes-Benz EQE 350   \n",
       "short_description                                                       350+   \n",
       "make                                                       \\nMercedes-Benz\\n   \n",
       "model                                                      [\\n, EQE 350 ,\\n]   \n",
       "location                        APARTADO DE CORREOS 1032,  26140 LOGROÑO, ES   \n",
       "price                                                             € 80,900.-   \n",
       "Body type                                                  [\\n, Compact, \\n]   \n",
       "Type                                                [\\n, Pre-registered, \\n]   \n",
       "Doors                                                            [\\n, 4, \\n]   \n",
       "Country version                                              [\\n, Spain, \\n]   \n",
       "Offer number                                               [\\n, 7054863, \\n]   \n",
       "Warranty                                                 [\\n, 24 months, \\n]   \n",
       "Mileage                                                             5,000 km   \n",
       "First registration                                                   06/2022   \n",
       "Gearbox                                                      [\\nAutomatic\\n]   \n",
       "Fuel type                                                           Electric   \n",
       "Colour                                                                   NaN   \n",
       "Paint                                                                    NaN   \n",
       "desc                       [ , Precio al contado: 88900 euros,  , AUTO OJ...   \n",
       "seller                                                                Dealer   \n",
       "Seats                                                            [\\n, 5, \\n]   \n",
       "Power                                                  [\\n215 kW (292 hp)\\n]   \n",
       "Engine size                                                       [\\n1 cc\\n]   \n",
       "Gears                                                                [\\n9\\n]   \n",
       "CO₂-emissions                                                 0 g/km (comb.)   \n",
       "Manufacturer colour                                          Negro Obsidiana   \n",
       "Drivetrain                                                               NaN   \n",
       "Cylinders                                                                NaN   \n",
       "Fuel consumption                                                         NaN   \n",
       "\\nComfort & Convenience\\n                                                NaN   \n",
       "\\nEntertainment & Media\\n                                                NaN   \n",
       "\\nSafety & Security\\n                                                    NaN   \n",
       "\\nExtras\\n                                                               NaN   \n",
       "Empty weight                                                             NaN   \n",
       "Model code                                                               NaN   \n",
       "General inspection                                                       NaN   \n",
       "Last service                                                             NaN   \n",
       "Full service history                                                     NaN   \n",
       "Non-smoker vehicle                                                       NaN   \n",
       "Emission class                                                           NaN   \n",
       "Emissions sticker                                                        NaN   \n",
       "Upholstery colour                                                        NaN   \n",
       "Upholstery                                                               NaN   \n",
       "Production date                                                          NaN   \n",
       "Previous owner                                                           NaN   \n",
       "Other fuel types                                                         NaN   \n",
       "Power consumption                                                        NaN   \n",
       "Energy efficiency class                                                  NaN   \n",
       "CO₂-efficiency                                                           NaN   \n",
       "Fuel consumption (WLTP)                                                  NaN   \n",
       "CO₂-emissions (WLTP)                                                     NaN   \n",
       "Available from                                                           NaN   \n",
       "Taxi or rental car                                                       NaN   \n",
       "Availability                                                             NaN   \n",
       "Last timing belt change                                                  NaN   \n",
       "Electric Range (WLTP)                                                    NaN   \n",
       "Power consumption (WLTP)                                                 NaN   \n",
       "Battery Ownership                                                        NaN   \n",
       "\n",
       "                                                                           2  \\\n",
       "make_model                                            Mercedes-Benz A 45 AMG   \n",
       "short_description                                           S 4Matic+ 8G-DCT   \n",
       "make                                                       \\nMercedes-Benz\\n   \n",
       "model                                                     [\\n, A 45 AMG ,\\n]   \n",
       "location                   PORT. TARRACO, MOLL DE LLEVANT, Nº 5, LOC. 6-8...   \n",
       "price                                                             € 69,900.-  "
      ]
     },
     "execution_count": 147,
     "metadata": {},
     "output_type": "execute_result"
    },
    {
     "data": {
      "text/html": [
       "<b>limit_output extension: Maximum message size of 10000 exceeded with 23544 characters</b>"
      ]
     },
     "metadata": {},
     "output_type": "display_data"
    }
   ],
   "source": [
    "df.head().T"
   ]
  },
  {
   "cell_type": "code",
   "execution_count": 148,
   "metadata": {
    "ExecuteTime": {
     "end_time": "2023-03-13T13:37:06.401359Z",
     "start_time": "2023-03-13T13:37:06.389123Z"
    }
   },
   "outputs": [
    {
     "data": {
      "text/plain": [
       "(29480, 58)"
      ]
     },
     "execution_count": 148,
     "metadata": {},
     "output_type": "execute_result"
    }
   ],
   "source": [
    "df.shape"
   ]
  },
  {
   "cell_type": "code",
   "execution_count": 149,
   "metadata": {
    "ExecuteTime": {
     "end_time": "2023-03-13T13:37:06.759798Z",
     "start_time": "2023-03-13T13:37:06.403750Z"
    }
   },
   "outputs": [
    {
     "name": "stdout",
     "output_type": "stream",
     "text": [
      "<class 'pandas.core.frame.DataFrame'>\n",
      "RangeIndex: 29480 entries, 0 to 29479\n",
      "Data columns (total 58 columns):\n",
      " #   Column                    Non-Null Count  Dtype  \n",
      "---  ------                    --------------  -----  \n",
      " 0   make_model                28630 non-null  object \n",
      " 1   short_description         28630 non-null  object \n",
      " 2   make                      28630 non-null  object \n",
      " 3   model                     28630 non-null  object \n",
      " 4   location                  28630 non-null  object \n",
      " 5   price                     28630 non-null  object \n",
      " 6   Body type                 28630 non-null  object \n",
      " 7   Type                      28630 non-null  object \n",
      " 8   Doors                     28271 non-null  object \n",
      " 9   Country version           16889 non-null  object \n",
      " 10  Offer number              23100 non-null  object \n",
      " 11  Warranty                  15784 non-null  object \n",
      " 12  Mileage                   28629 non-null  object \n",
      " 13  First registration        28628 non-null  object \n",
      " 14  Gearbox                   28382 non-null  object \n",
      " 15  Fuel type                 26843 non-null  object \n",
      " 16  Colour                    26906 non-null  object \n",
      " 17  Paint                     14495 non-null  object \n",
      " 18  desc                      28047 non-null  object \n",
      " 19  seller                    28630 non-null  object \n",
      " 20  Seats                     25505 non-null  object \n",
      " 21  Power                     28058 non-null  object \n",
      " 22  Engine size               27227 non-null  object \n",
      " 23  Gears                     18954 non-null  object \n",
      " 24  CO₂-emissions             18594 non-null  object \n",
      " 25  Manufacturer colour       21787 non-null  object \n",
      " 26  Drivetrain                16893 non-null  object \n",
      " 27  Cylinders                 18852 non-null  object \n",
      " 28  Fuel consumption          23385 non-null  object \n",
      " 29  \n",
      "Comfort & Convenience\n",
      "   25433 non-null  object \n",
      " 30  \n",
      "Entertainment & Media\n",
      "   23644 non-null  object \n",
      " 31  \n",
      "Safety & Security\n",
      "       25415 non-null  object \n",
      " 32  \n",
      "Extras\n",
      "                  23480 non-null  object \n",
      " 33  Empty weight              17758 non-null  object \n",
      " 34  Model code                8367 non-null   object \n",
      " 35  General inspection        12254 non-null  object \n",
      " 36  Last service              2003 non-null   object \n",
      " 37  Full service history      12565 non-null  object \n",
      " 38  Non-smoker vehicle        11594 non-null  object \n",
      " 39  Emission class            17859 non-null  object \n",
      " 40  Emissions sticker         9414 non-null   object \n",
      " 41  Upholstery colour         14569 non-null  object \n",
      " 42  Upholstery                18610 non-null  object \n",
      " 43  Production date           5908 non-null   float64\n",
      " 44  Previous owner            14015 non-null  object \n",
      " 45  Other fuel types          2313 non-null   object \n",
      " 46  Power consumption         515 non-null    object \n",
      " 47  Energy efficiency class   7804 non-null   object \n",
      " 48  CO₂-efficiency            7804 non-null   object \n",
      " 49  Fuel consumption (WLTP)   100 non-null    object \n",
      " 50  CO₂-emissions (WLTP)      116 non-null    object \n",
      " 51  Available from            393 non-null    object \n",
      " 52  Taxi or rental car        422 non-null    object \n",
      " 53  Availability              301 non-null    object \n",
      " 54  Last timing belt change   572 non-null    object \n",
      " 55  Electric Range (WLTP)     16 non-null     object \n",
      " 56  Power consumption (WLTP)  16 non-null     object \n",
      " 57  Battery Ownership         7 non-null      object \n",
      "dtypes: float64(1), object(57)\n",
      "memory usage: 13.0+ MB\n"
     ]
    }
   ],
   "source": [
    "df.info()"
   ]
  },
  {
   "cell_type": "code",
   "execution_count": 150,
   "metadata": {
    "ExecuteTime": {
     "end_time": "2023-03-13T13:37:06.823492Z",
     "start_time": "2023-03-13T13:37:06.762859Z"
    }
   },
   "outputs": [
    {
     "data": {
      "text/html": [
       "<div>\n",
       "<style scoped>\n",
       "    .dataframe tbody tr th:only-of-type {\n",
       "        vertical-align: middle;\n",
       "    }\n",
       "\n",
       "    .dataframe tbody tr th {\n",
       "        vertical-align: top;\n",
       "    }\n",
       "\n",
       "    .dataframe thead th {\n",
       "        text-align: right;\n",
       "    }\n",
       "</style>\n",
       "<table border=\"1\" class=\"dataframe\">\n",
       "  <thead>\n",
       "    <tr style=\"text-align: right;\">\n",
       "      <th></th>\n",
       "      <th>make_model</th>\n",
       "      <th>short_description</th>\n",
       "      <th>make</th>\n",
       "      <th>model</th>\n",
       "      <th>location</th>\n",
       "      <th>price</th>\n",
       "      <th>Body type</th>\n",
       "      <th>Type</th>\n",
       "      <th>Doors</th>\n",
       "      <th>Country version</th>\n",
       "      <th>Offer number</th>\n",
       "      <th>Warranty</th>\n",
       "      <th>Mileage</th>\n",
       "      <th>First registration</th>\n",
       "      <th>Gearbox</th>\n",
       "      <th>Fuel type</th>\n",
       "      <th>Colour</th>\n",
       "      <th>Paint</th>\n",
       "      <th>desc</th>\n",
       "      <th>seller</th>\n",
       "      <th>Seats</th>\n",
       "      <th>Power</th>\n",
       "      <th>Engine size</th>\n",
       "      <th>Gears</th>\n",
       "      <th>CO₂-emissions</th>\n",
       "      <th>Manufacturer colour</th>\n",
       "      <th>Drivetrain</th>\n",
       "      <th>Cylinders</th>\n",
       "      <th>Fuel consumption</th>\n",
       "      <th>\\nComfort &amp; Convenience\\n</th>\n",
       "      <th>\\nEntertainment &amp; Media\\n</th>\n",
       "      <th>\\nSafety &amp; Security\\n</th>\n",
       "      <th>\\nExtras\\n</th>\n",
       "      <th>Empty weight</th>\n",
       "      <th>Model code</th>\n",
       "      <th>General inspection</th>\n",
       "      <th>Last service</th>\n",
       "      <th>Full service history</th>\n",
       "      <th>Non-smoker vehicle</th>\n",
       "      <th>Emission class</th>\n",
       "      <th>Emissions sticker</th>\n",
       "      <th>Upholstery colour</th>\n",
       "      <th>Upholstery</th>\n",
       "      <th>Production date</th>\n",
       "      <th>Previous owner</th>\n",
       "      <th>Other fuel types</th>\n",
       "      <th>Power consumption</th>\n",
       "      <th>Energy efficiency class</th>\n",
       "      <th>CO₂-efficiency</th>\n",
       "      <th>Fuel consumption (WLTP)</th>\n",
       "      <th>CO₂-emissions (WLTP)</th>\n",
       "      <th>Available from</th>\n",
       "      <th>Taxi or rental car</th>\n",
       "      <th>Availability</th>\n",
       "      <th>Last timing belt change</th>\n",
       "      <th>Electric Range (WLTP)</th>\n",
       "      <th>Power consumption (WLTP)</th>\n",
       "      <th>Battery Ownership</th>\n",
       "    </tr>\n",
       "  </thead>\n",
       "  <tbody>\n",
       "    <tr>\n",
       "      <th>18329</th>\n",
       "      <td>NaN</td>\n",
       "      <td>NaN</td>\n",
       "      <td>NaN</td>\n",
       "      <td>NaN</td>\n",
       "      <td>NaN</td>\n",
       "      <td>NaN</td>\n",
       "      <td>NaN</td>\n",
       "      <td>NaN</td>\n",
       "      <td>NaN</td>\n",
       "      <td>NaN</td>\n",
       "      <td>NaN</td>\n",
       "      <td>NaN</td>\n",
       "      <td>NaN</td>\n",
       "      <td>NaN</td>\n",
       "      <td>NaN</td>\n",
       "      <td>NaN</td>\n",
       "      <td>NaN</td>\n",
       "      <td>NaN</td>\n",
       "      <td>NaN</td>\n",
       "      <td>NaN</td>\n",
       "      <td>NaN</td>\n",
       "      <td>NaN</td>\n",
       "      <td>NaN</td>\n",
       "      <td>NaN</td>\n",
       "      <td>NaN</td>\n",
       "      <td>NaN</td>\n",
       "      <td>NaN</td>\n",
       "      <td>NaN</td>\n",
       "      <td>NaN</td>\n",
       "      <td>NaN</td>\n",
       "      <td>NaN</td>\n",
       "      <td>NaN</td>\n",
       "      <td>NaN</td>\n",
       "      <td>NaN</td>\n",
       "      <td>NaN</td>\n",
       "      <td>NaN</td>\n",
       "      <td>NaN</td>\n",
       "      <td>NaN</td>\n",
       "      <td>NaN</td>\n",
       "      <td>NaN</td>\n",
       "      <td>NaN</td>\n",
       "      <td>NaN</td>\n",
       "      <td>NaN</td>\n",
       "      <td>NaN</td>\n",
       "      <td>NaN</td>\n",
       "      <td>NaN</td>\n",
       "      <td>NaN</td>\n",
       "      <td>NaN</td>\n",
       "      <td>NaN</td>\n",
       "      <td>NaN</td>\n",
       "      <td>NaN</td>\n",
       "      <td>NaN</td>\n",
       "      <td>NaN</td>\n",
       "      <td>NaN</td>\n",
       "      <td>NaN</td>\n",
       "      <td>NaN</td>\n",
       "      <td>NaN</td>\n",
       "      <td>NaN</td>\n",
       "    </tr>\n",
       "    <tr>\n",
       "      <th>1455</th>\n",
       "      <td>Mercedes-Benz GLE 350</td>\n",
       "      <td>d 4Matic*MEMORY STANDHEIZUNG 360°CAM*</td>\n",
       "      <td>\\nMercedes-Benz\\n</td>\n",
       "      <td>[\\n, GLE 350 ,\\n]</td>\n",
       "      <td>Postweg 11,  73084 Salach, DE</td>\n",
       "      <td>€ 51,999.-</td>\n",
       "      <td>[\\n, Off-Road/Pick-up, \\n]</td>\n",
       "      <td>[\\n, Used, \\n]</td>\n",
       "      <td>[\\n, 4, \\n]</td>\n",
       "      <td>NaN</td>\n",
       "      <td>[\\n, 4872, \\n]</td>\n",
       "      <td>NaN</td>\n",
       "      <td>90,000 km</td>\n",
       "      <td>07/2018</td>\n",
       "      <td>[\\nAutomatic\\n]</td>\n",
       "      <td>Diesel</td>\n",
       "      <td>Black</td>\n",
       "      <td>Metallic</td>\n",
       "      <td>[Sonderausstattung:,  Ambiente-Beleuchtung, Du...</td>\n",
       "      <td>Dealer</td>\n",
       "      <td>[\\n, 5, \\n]</td>\n",
       "      <td>[\\n190 kW (258 hp)\\n]</td>\n",
       "      <td>[\\n2,987 cc\\n]</td>\n",
       "      <td>NaN</td>\n",
       "      <td>199 g/km (comb.)</td>\n",
       "      <td>OBSIDIANSCHWARZ - METALLICLACK</td>\n",
       "      <td>[\\n, 4WD, \\n]</td>\n",
       "      <td>NaN</td>\n",
       "      <td>[[7.5 l/100 km (comb.)], [8.6 l/100 km (city)]...</td>\n",
       "      <td>[360° camera, Air conditioning, Armrest, Autom...</td>\n",
       "      <td>[Bluetooth, CD player, Hands-free equipment, O...</td>\n",
       "      <td>[ABS, Alarm system, Blind spot monitor, Centra...</td>\n",
       "      <td>[Alloy wheels, Ambient lighting, Automatically...</td>\n",
       "      <td>NaN</td>\n",
       "      <td>NaN</td>\n",
       "      <td>07/2023</td>\n",
       "      <td>NaN</td>\n",
       "      <td>Yes</td>\n",
       "      <td>Yes</td>\n",
       "      <td>Euro 6</td>\n",
       "      <td>4 (Green)</td>\n",
       "      <td>Black</td>\n",
       "      <td>Full leather</td>\n",
       "      <td>NaN</td>\n",
       "      <td>NaN</td>\n",
       "      <td>NaN</td>\n",
       "      <td>NaN</td>\n",
       "      <td>NaN</td>\n",
       "      <td>NaN</td>\n",
       "      <td>NaN</td>\n",
       "      <td>NaN</td>\n",
       "      <td>NaN</td>\n",
       "      <td>NaN</td>\n",
       "      <td>NaN</td>\n",
       "      <td>NaN</td>\n",
       "      <td>NaN</td>\n",
       "      <td>NaN</td>\n",
       "      <td>NaN</td>\n",
       "    </tr>\n",
       "    <tr>\n",
       "      <th>14780</th>\n",
       "      <td>Skoda Octavia</td>\n",
       "      <td>Combi 2.0 TDI DSG 4x4*LED*Navi*Pano*PDC*Virtua...</td>\n",
       "      <td>\\nSkoda\\n</td>\n",
       "      <td>[\\n, Octavia ,\\n]</td>\n",
       "      <td>Niederhofheimer Straße 49,  65719 Hofheim Am T...</td>\n",
       "      <td>€ 20,980.-</td>\n",
       "      <td>[\\n, Station wagon, \\n]</td>\n",
       "      <td>[\\n, Used, \\n]</td>\n",
       "      <td>[\\n, 4, \\n]</td>\n",
       "      <td>[\\n, Germany, \\n]</td>\n",
       "      <td>[\\n, S64486GIS, \\n]</td>\n",
       "      <td>NaN</td>\n",
       "      <td>137,375 km</td>\n",
       "      <td>04/2019</td>\n",
       "      <td>[\\nAutomatic\\n]</td>\n",
       "      <td>Diesel (Particle filter)</td>\n",
       "      <td>Blue</td>\n",
       "      <td>NaN</td>\n",
       "      <td>[Fahrzeugnummer: S64486GIS,  Herzlichen Dank f...</td>\n",
       "      <td>Dealer</td>\n",
       "      <td>[\\n, 5, \\n]</td>\n",
       "      <td>[\\n110 kW (150 hp)\\n]</td>\n",
       "      <td>[\\n1,968 cc\\n]</td>\n",
       "      <td>[\\n7\\n]</td>\n",
       "      <td>130 g/km (comb.)</td>\n",
       "      <td>Energy-Blau</td>\n",
       "      <td>[\\n, 4WD, \\n]</td>\n",
       "      <td>[\\n4\\n]</td>\n",
       "      <td>[[4.9 l/100 km (comb.)], [5.7 l/100 km (city)]...</td>\n",
       "      <td>[Armrest, Automatic climate control, 2 zones, ...</td>\n",
       "      <td>[Bluetooth, CD player, Digital cockpit, Hands-...</td>\n",
       "      <td>[ABS, Adaptive Cruise Control, Central door lo...</td>\n",
       "      <td>[Alloy wheels, Ambient lighting, Automatically...</td>\n",
       "      <td>[\\n1,523 kg\\n]</td>\n",
       "      <td>[\\n, 8004/ANQ, \\n]</td>\n",
       "      <td>New</td>\n",
       "      <td>NaN</td>\n",
       "      <td>Yes</td>\n",
       "      <td>NaN</td>\n",
       "      <td>Euro 6d-TEMP</td>\n",
       "      <td>4 (Green)</td>\n",
       "      <td>NaN</td>\n",
       "      <td>Cloth</td>\n",
       "      <td>2019.00</td>\n",
       "      <td>[[137,375 km, 04/2019], 1]</td>\n",
       "      <td>NaN</td>\n",
       "      <td>NaN</td>\n",
       "      <td>B</td>\n",
       "      <td>Calculated on basis of measured CO₂-emissions ...</td>\n",
       "      <td>NaN</td>\n",
       "      <td>NaN</td>\n",
       "      <td>NaN</td>\n",
       "      <td>NaN</td>\n",
       "      <td>NaN</td>\n",
       "      <td>NaN</td>\n",
       "      <td>NaN</td>\n",
       "      <td>NaN</td>\n",
       "      <td>NaN</td>\n",
       "    </tr>\n",
       "    <tr>\n",
       "      <th>12362</th>\n",
       "      <td>SEAT Ibiza</td>\n",
       "      <td>1.4TDI CR S&amp;S Style 105</td>\n",
       "      <td>\\nSEAT\\n</td>\n",
       "      <td>[\\n, Ibiza ,\\n]</td>\n",
       "      <td>AV. FERROCARRILS CATALANS 259,  08940 CORNELLA...</td>\n",
       "      <td>€ 9,900.-</td>\n",
       "      <td>[\\n, Compact, \\n]</td>\n",
       "      <td>[\\n, Used, \\n]</td>\n",
       "      <td>[\\n, 5, \\n]</td>\n",
       "      <td>[\\n, Spain, \\n]</td>\n",
       "      <td>[\\n, 7236465, \\n]</td>\n",
       "      <td>[\\n, 12 months, \\n]</td>\n",
       "      <td>82,160 km</td>\n",
       "      <td>02/2017</td>\n",
       "      <td>[\\nManual\\n]</td>\n",
       "      <td>Diesel</td>\n",
       "      <td>Black</td>\n",
       "      <td>NaN</td>\n",
       "      <td>[¡PERFECTAS CONDICIONES!, Pocos kilómetros, mu...</td>\n",
       "      <td>Dealer</td>\n",
       "      <td>[\\n, 5, \\n]</td>\n",
       "      <td>[\\n77 kW (105 hp)\\n]</td>\n",
       "      <td>[\\n1,422 cc\\n]</td>\n",
       "      <td>[\\n5\\n]</td>\n",
       "      <td>NaN</td>\n",
       "      <td>NaN</td>\n",
       "      <td>[\\n, Front, \\n]</td>\n",
       "      <td>[\\n3\\n]</td>\n",
       "      <td>[[3.9 l/100 km (comb.)], [4.4 l/100 km (city)]...</td>\n",
       "      <td>[Air conditioning, Cruise control, Electrical ...</td>\n",
       "      <td>[Bluetooth, On-board computer]</td>\n",
       "      <td>[ABS, Central door lock, Fog lights, Isofix, P...</td>\n",
       "      <td>[Alloy wheels]</td>\n",
       "      <td>[\\n1,161 kg\\n]</td>\n",
       "      <td>NaN</td>\n",
       "      <td>NaN</td>\n",
       "      <td>NaN</td>\n",
       "      <td>NaN</td>\n",
       "      <td>NaN</td>\n",
       "      <td>NaN</td>\n",
       "      <td>NaN</td>\n",
       "      <td>NaN</td>\n",
       "      <td>NaN</td>\n",
       "      <td>NaN</td>\n",
       "      <td>NaN</td>\n",
       "      <td>NaN</td>\n",
       "      <td>NaN</td>\n",
       "      <td>NaN</td>\n",
       "      <td>NaN</td>\n",
       "      <td>NaN</td>\n",
       "      <td>NaN</td>\n",
       "      <td>NaN</td>\n",
       "      <td>NaN</td>\n",
       "      <td>NaN</td>\n",
       "      <td>NaN</td>\n",
       "      <td>NaN</td>\n",
       "      <td>NaN</td>\n",
       "      <td>NaN</td>\n",
       "    </tr>\n",
       "  </tbody>\n",
       "</table>\n",
       "</div>"
      ],
      "text/plain": [
       "                  make_model  \\\n",
       "18329                    NaN   \n",
       "1455   Mercedes-Benz GLE 350   \n",
       "14780          Skoda Octavia   \n",
       "12362             SEAT Ibiza   \n",
       "\n",
       "                                       short_description               make  \\\n",
       "18329                                                NaN                NaN   \n",
       "1455               d 4Matic*MEMORY STANDHEIZUNG 360°CAM*  \\nMercedes-Benz\\n   \n",
       "14780  Combi 2.0 TDI DSG 4x4*LED*Navi*Pano*PDC*Virtua...          \\nSkoda\\n   \n",
       "12362                            1.4TDI CR S&S Style 105           \\nSEAT\\n   \n",
       "\n",
       "                   model                                           location  \\\n",
       "18329                NaN                                                NaN   \n",
       "1455   [\\n, GLE 350 ,\\n]                      Postweg 11,  73084 Salach, DE   \n",
       "14780  [\\n, Octavia ,\\n]  Niederhofheimer Straße 49,  65719 Hofheim Am T...   \n",
       "12362    [\\n, Ibiza ,\\n]  AV. FERROCARRILS CATALANS 259,  08940 CORNELLA...   \n",
       "\n",
       "            price                   Body type            Type        Doors  \\\n",
       "18329         NaN                         NaN             NaN          NaN   \n",
       "1455   € 51,999.-  [\\n, Off-Road/Pick-up, \\n]  [\\n, Used, \\n]  [\\n, 4, \\n]   \n",
       "14780  € 20,980.-     [\\n, Station wagon, \\n]  [\\n, Used, \\n]  [\\n, 4, \\n]   \n",
       "12362   € 9,900.-           [\\n, Compact, \\n]  [\\n, Used, \\n]  [\\n, 5, \\n]   \n",
       "\n",
       "         Country version         Offer number             Warranty  \\\n",
       "18329                NaN                  NaN                  NaN   \n",
       "1455                 NaN       [\\n, 4872, \\n]                  NaN   \n",
       "14780  [\\n, Germany, \\n]  [\\n, S64486GIS, \\n]                  NaN   \n",
       "12362    [\\n, Spain, \\n]    [\\n, 7236465, \\n]  [\\n, 12 months, \\n]   \n",
       "\n",
       "          Mileage First registration          Gearbox  \\\n",
       "18329         NaN                NaN              NaN   \n",
       "1455    90,000 km            07/2018  [\\nAutomatic\\n]   \n",
       "14780  137,375 km            04/2019  [\\nAutomatic\\n]   \n",
       "12362   82,160 km            02/2017     [\\nManual\\n]   \n",
       "\n",
       "                      Fuel type Colour     Paint  \\\n",
       "18329                       NaN    NaN       NaN   \n",
       "1455                     Diesel  Black  Metallic   \n",
       "14780  Diesel (Particle filter)   Blue       NaN   \n",
       "12362                    Diesel  Black       NaN   \n",
       "\n",
       "                                                    desc  seller        Seats  \\\n",
       "18329                                                NaN     NaN          NaN   \n",
       "1455   [Sonderausstattung:,  Ambiente-Beleuchtung, Du...  Dealer  [\\n, 5, \\n]   \n",
       "14780  [Fahrzeugnummer: S64486GIS,  Herzlichen Dank f...  Dealer  [\\n, 5, \\n]   \n",
       "12362  [¡PERFECTAS CONDICIONES!, Pocos kilómetros, mu...  Dealer  [\\n, 5, \\n]   \n",
       "\n",
       "                       Power     Engine size    Gears     CO₂-emissions  \\\n",
       "18329                    NaN             NaN      NaN               NaN   \n",
       "1455   [\\n190 kW (258 hp)\\n]  [\\n2,987 cc\\n]      NaN  199 g/km (comb.)   \n",
       "14780  [\\n110 kW (150 hp)\\n]  [\\n1,968 cc\\n]  [\\n7\\n]  130 g/km (comb.)   \n",
       "12362   [\\n77 kW (105 hp)\\n]  [\\n1,422 cc\\n]  [\\n5\\n]               NaN   \n",
       "\n",
       "                  Manufacturer colour       Drivetrain Cylinders  \\\n",
       "18329                             NaN              NaN       NaN   \n",
       "1455   OBSIDIANSCHWARZ - METALLICLACK    [\\n, 4WD, \\n]       NaN   \n",
       "14780                     Energy-Blau    [\\n, 4WD, \\n]   [\\n4\\n]   \n",
       "12362                             NaN  [\\n, Front, \\n]   [\\n3\\n]   \n",
       "\n",
       "                                        Fuel consumption  \\\n",
       "18329                                                NaN   \n",
       "1455   [[7.5 l/100 km (comb.)], [8.6 l/100 km (city)]...   \n",
       "14780  [[4.9 l/100 km (comb.)], [5.7 l/100 km (city)]...   \n",
       "12362  [[3.9 l/100 km (comb.)], [4.4 l/100 km (city)]...   \n",
       "\n",
       "                               \\nComfort & Convenience\\n  \\\n",
       "18329                                                NaN   \n",
       "1455   [360° camera, Air conditioning, Armrest, Autom...   \n",
       "14780  [Armrest, Automatic climate control, 2 zones, ...   \n",
       "12362  [Air conditioning, Cruise control, Electrical ...   \n",
       "\n",
       "                               \\nEntertainment & Media\\n  \\\n",
       "18329                                                NaN   \n",
       "1455   [Bluetooth, CD player, Hands-free equipment, O...   \n",
       "14780  [Bluetooth, CD player, Digital cockpit, Hands-...   \n",
       "12362                     [Bluetooth, On-board computer]   \n",
       "\n",
       "                                   \\nSafety & Security\\n  \\\n",
       "18329                                                NaN   \n",
       "1455   [ABS, Alarm system, Blind spot monitor, Centra...   \n",
       "14780  [ABS, Adaptive Cruise Control, Central door lo...   \n",
       "12362  [ABS, Central door lock, Fog lights, Isofix, P...   \n",
       "\n",
       "                                              \\nExtras\\n    Empty weight  \\\n",
       "18329                                                NaN             NaN   \n",
       "1455   [Alloy wheels, Ambient lighting, Automatically...             NaN   \n",
       "14780  [Alloy wheels, Ambient lighting, Automatically...  [\\n1,523 kg\\n]   \n",
       "12362                                     [Alloy wheels]  [\\n1,161 kg\\n]   \n",
       "\n",
       "               Model code General inspection Last service  \\\n",
       "18329                 NaN                NaN          NaN   \n",
       "1455                  NaN            07/2023          NaN   \n",
       "14780  [\\n, 8004/ANQ, \\n]                New          NaN   \n",
       "12362                 NaN                NaN          NaN   \n",
       "\n",
       "      Full service history Non-smoker vehicle Emission class  \\\n",
       "18329                  NaN                NaN            NaN   \n",
       "1455                   Yes                Yes         Euro 6   \n",
       "14780                  Yes                NaN   Euro 6d-TEMP   \n",
       "12362                  NaN                NaN            NaN   \n",
       "\n",
       "      Emissions sticker Upholstery colour    Upholstery  Production date  \\\n",
       "18329               NaN               NaN           NaN              NaN   \n",
       "1455          4 (Green)             Black  Full leather              NaN   \n",
       "14780         4 (Green)               NaN         Cloth          2019.00   \n",
       "12362               NaN               NaN           NaN              NaN   \n",
       "\n",
       "                   Previous owner Other fuel types Power consumption  \\\n",
       "18329                         NaN              NaN               NaN   \n",
       "1455                          NaN              NaN               NaN   \n",
       "14780  [[137,375 km, 04/2019], 1]              NaN               NaN   \n",
       "12362                         NaN              NaN               NaN   \n",
       "\n",
       "      Energy efficiency class  \\\n",
       "18329                     NaN   \n",
       "1455                      NaN   \n",
       "14780                       B   \n",
       "12362                     NaN   \n",
       "\n",
       "                                          CO₂-efficiency  \\\n",
       "18329                                                NaN   \n",
       "1455                                                 NaN   \n",
       "14780  Calculated on basis of measured CO₂-emissions ...   \n",
       "12362                                                NaN   \n",
       "\n",
       "      Fuel consumption (WLTP) CO₂-emissions (WLTP) Available from  \\\n",
       "18329                     NaN                  NaN            NaN   \n",
       "1455                      NaN                  NaN            NaN   \n",
       "14780                     NaN                  NaN            NaN   \n",
       "12362                     NaN                  NaN            NaN   \n",
       "\n",
       "      Taxi or rental car Availability Last timing belt change  \\\n",
       "18329                NaN          NaN                     NaN   \n",
       "1455                 NaN          NaN                     NaN   \n",
       "14780                NaN          NaN                     NaN   \n",
       "12362                NaN          NaN                     NaN   \n",
       "\n",
       "      Electric Range (WLTP) Power consumption (WLTP) Battery Ownership  \n",
       "18329                   NaN                      NaN               NaN  \n",
       "1455                    NaN                      NaN               NaN  \n",
       "14780                   NaN                      NaN               NaN  \n",
       "12362                   NaN                      NaN               NaN  "
      ]
     },
     "execution_count": 150,
     "metadata": {},
     "output_type": "execute_result"
    }
   ],
   "source": [
    "df.sample(4)"
   ]
  },
  {
   "cell_type": "code",
   "execution_count": 151,
   "metadata": {
    "ExecuteTime": {
     "end_time": "2023-03-13T13:37:07.209368Z",
     "start_time": "2023-03-13T13:37:06.825532Z"
    }
   },
   "outputs": [
    {
     "data": {
      "text/plain": [
       "make_model                     850\n",
       "short_description              850\n",
       "make                           850\n",
       "model                          850\n",
       "location                       850\n",
       "price                          850\n",
       "Body type                      850\n",
       "Type                           850\n",
       "Doors                         1209\n",
       "Country version              12591\n",
       "Offer number                  6380\n",
       "Warranty                     13696\n",
       "Mileage                        851\n",
       "First registration             852\n",
       "Gearbox                       1098\n",
       "Fuel type                     2637\n",
       "Colour                        2574\n",
       "Paint                        14985\n",
       "desc                          1433\n",
       "seller                         850\n",
       "Seats                         3975\n",
       "Power                         1422\n",
       "Engine size                   2253\n",
       "Gears                        10526\n",
       "CO₂-emissions                10886\n",
       "Manufacturer colour           7693\n",
       "Drivetrain                   12587\n",
       "Cylinders                    10628\n",
       "Fuel consumption              6095\n",
       "\\nComfort & Convenience\\n     4047\n",
       "\\nEntertainment & Media\\n     5836\n",
       "\\nSafety & Security\\n         4065\n",
       "\\nExtras\\n                    6000\n",
       "Empty weight                 11722\n",
       "Model code                   21113\n",
       "General inspection           17226\n",
       "Last service                 27477\n",
       "Full service history         16915\n",
       "Non-smoker vehicle           17886\n",
       "Emission class               11621\n",
       "Emissions sticker            20066\n",
       "Upholstery colour            14911\n",
       "Upholstery                   10870\n",
       "Production date              23572\n",
       "Previous owner               15465\n",
       "Other fuel types             27167\n",
       "Power consumption            28965\n",
       "Energy efficiency class      21676\n",
       "CO₂-efficiency               21676\n",
       "Fuel consumption (WLTP)      29380\n",
       "CO₂-emissions (WLTP)         29364\n",
       "Available from               29087\n",
       "Taxi or rental car           29058\n",
       "Availability                 29179\n",
       "Last timing belt change      28908\n",
       "Electric Range (WLTP)        29464\n",
       "Power consumption (WLTP)     29464\n",
       "Battery Ownership            29473\n",
       "dtype: int64"
      ]
     },
     "execution_count": 151,
     "metadata": {},
     "output_type": "execute_result"
    }
   ],
   "source": [
    "df.isnull().sum()"
   ]
  },
  {
   "cell_type": "code",
   "execution_count": 152,
   "metadata": {
    "ExecuteTime": {
     "end_time": "2023-03-13T13:37:07.224583Z",
     "start_time": "2023-03-13T13:37:07.211893Z"
    }
   },
   "outputs": [
    {
     "data": {
      "text/plain": [
       "Index(['make_model', 'short_description', 'make', 'model', 'location', 'price',\n",
       "       'Body type', 'Type', 'Doors', 'Country version', 'Offer number',\n",
       "       'Warranty', 'Mileage', 'First registration', 'Gearbox', 'Fuel type',\n",
       "       'Colour', 'Paint', 'desc', 'seller', 'Seats', 'Power', 'Engine size',\n",
       "       'Gears', 'CO₂-emissions', 'Manufacturer colour', 'Drivetrain',\n",
       "       'Cylinders', 'Fuel consumption', '\\nComfort & Convenience\\n',\n",
       "       '\\nEntertainment & Media\\n', '\\nSafety & Security\\n', '\\nExtras\\n',\n",
       "       'Empty weight', 'Model code', 'General inspection', 'Last service',\n",
       "       'Full service history', 'Non-smoker vehicle', 'Emission class',\n",
       "       'Emissions sticker', 'Upholstery colour', 'Upholstery',\n",
       "       'Production date', 'Previous owner', 'Other fuel types',\n",
       "       'Power consumption', 'Energy efficiency class', 'CO₂-efficiency',\n",
       "       'Fuel consumption (WLTP)', 'CO₂-emissions (WLTP)', 'Available from',\n",
       "       'Taxi or rental car', 'Availability', 'Last timing belt change',\n",
       "       'Electric Range (WLTP)', 'Power consumption (WLTP)',\n",
       "       'Battery Ownership'],\n",
       "      dtype='object')"
      ]
     },
     "execution_count": 152,
     "metadata": {},
     "output_type": "execute_result"
    }
   ],
   "source": [
    "df.columns"
   ]
  },
  {
   "cell_type": "code",
   "execution_count": 153,
   "metadata": {
    "ExecuteTime": {
     "end_time": "2023-03-13T13:37:07.613422Z",
     "start_time": "2023-03-13T13:37:07.227064Z"
    }
   },
   "outputs": [
    {
     "data": {
      "text/plain": [
       "make_model                   2.88\n",
       "short_description            2.88\n",
       "make                         2.88\n",
       "model                        2.88\n",
       "location                     2.88\n",
       "price                        2.88\n",
       "Body type                    2.88\n",
       "Type                         2.88\n",
       "seller                       2.88\n",
       "Mileage                      2.89\n",
       "First registration           2.89\n",
       "Gearbox                      3.72\n",
       "Doors                        4.10\n",
       "Power                        4.82\n",
       "desc                         4.86\n",
       "Engine size                  7.64\n",
       "Colour                       8.73\n",
       "Fuel type                    8.95\n",
       "Seats                       13.48\n",
       "\\nComfort & Convenience\\n   13.73\n",
       "\\nSafety & Security\\n       13.79\n",
       "\\nEntertainment & Media\\n   19.80\n",
       "\\nExtras\\n                  20.35\n",
       "Fuel consumption            20.68\n",
       "Offer number                21.64\n",
       "Manufacturer colour         26.10\n",
       "Gears                       35.71\n",
       "Cylinders                   36.05\n",
       "Upholstery                  36.87\n",
       "CO₂-emissions               36.93\n",
       "Emission class              39.42\n",
       "Empty weight                39.76\n",
       "Drivetrain                  42.70\n",
       "Country version             42.71\n",
       "Warranty                    46.46\n",
       "Upholstery colour           50.58\n",
       "Paint                       50.83\n",
       "Previous owner              52.46\n",
       "Full service history        57.38\n",
       "General inspection          58.43\n",
       "Non-smoker vehicle          60.67\n",
       "Emissions sticker           68.07\n",
       "Model code                  71.62\n",
       "Energy efficiency class     73.53\n",
       "CO₂-efficiency              73.53\n",
       "Production date             79.96\n",
       "Other fuel types            92.15\n",
       "Last service                93.21\n",
       "Last timing belt change     98.06\n",
       "Power consumption           98.25\n",
       "Taxi or rental car          98.57\n",
       "Available from              98.67\n",
       "Availability                98.98\n",
       "CO₂-emissions (WLTP)        99.61\n",
       "Fuel consumption (WLTP)     99.66\n",
       "Power consumption (WLTP)    99.95\n",
       "Electric Range (WLTP)       99.95\n",
       "Battery Ownership           99.98\n",
       "dtype: float64"
      ]
     },
     "execution_count": 153,
     "metadata": {},
     "output_type": "execute_result"
    }
   ],
   "source": [
    "round(df.isnull().sum()/df.shape[0] * 100, 2).sort_values()"
   ]
  },
  {
   "cell_type": "code",
   "execution_count": 154,
   "metadata": {
    "ExecuteTime": {
     "end_time": "2023-03-13T13:37:07.706497Z",
     "start_time": "2023-03-13T13:37:07.619454Z"
    }
   },
   "outputs": [],
   "source": [
    "df.drop(labels=['short_description','make', 'model','Type','Offer number','desc','CO₂-efficiency',\n",
    "       'Fuel consumption (WLTP)', 'CO₂-emissions (WLTP)', 'Available from',\n",
    "       'Taxi or rental car', 'Availability', 'Last timing belt change',\n",
    "       'Electric Range (WLTP)', 'Power consumption (WLTP)',\n",
    "       'Battery Ownership','Other fuel types','Power consumption','Last service','Model code'],axis=1, inplace=True)"
   ]
  },
  {
   "cell_type": "code",
   "execution_count": 155,
   "metadata": {
    "ExecuteTime": {
     "end_time": "2023-03-13T13:37:07.753403Z",
     "start_time": "2023-03-13T13:37:07.710610Z"
    }
   },
   "outputs": [
    {
     "data": {
      "text/html": [
       "<div>\n",
       "<style scoped>\n",
       "    .dataframe tbody tr th:only-of-type {\n",
       "        vertical-align: middle;\n",
       "    }\n",
       "\n",
       "    .dataframe tbody tr th {\n",
       "        vertical-align: top;\n",
       "    }\n",
       "\n",
       "    .dataframe thead th {\n",
       "        text-align: right;\n",
       "    }\n",
       "</style>\n",
       "<table border=\"1\" class=\"dataframe\">\n",
       "  <thead>\n",
       "    <tr style=\"text-align: right;\">\n",
       "      <th></th>\n",
       "      <th>0</th>\n",
       "      <th>1</th>\n",
       "      <th>2</th>\n",
       "      <th>3</th>\n",
       "      <th>4</th>\n",
       "    </tr>\n",
       "  </thead>\n",
       "  <tbody>\n",
       "    <tr>\n",
       "      <th>make_model</th>\n",
       "      <td>Mercedes-Benz A 160</td>\n",
       "      <td>Mercedes-Benz EQE 350</td>\n",
       "      <td>Mercedes-Benz A 45 AMG</td>\n",
       "      <td>Mercedes-Benz A 35 AMG</td>\n",
       "      <td>Mercedes-Benz A 45 AMG</td>\n",
       "    </tr>\n",
       "    <tr>\n",
       "      <th>location</th>\n",
       "      <td>P.I. EL PALMAR C/FORJA 6,  11500 PUERTO DE SAN...</td>\n",
       "      <td>APARTADO DE CORREOS 1032,  26140 LOGROÑO, ES</td>\n",
       "      <td>PORT. TARRACO, MOLL DE LLEVANT, Nº 5, LOC. 6-8...</td>\n",
       "      <td>Carrer de Provença, 31 Local,  8029 BARCELONA, ES</td>\n",
       "      <td>CARRIL ARAGONES 4,  30007 CASILLAS, ES</td>\n",
       "    </tr>\n",
       "    <tr>\n",
       "      <th>price</th>\n",
       "      <td>€ 16,950.-</td>\n",
       "      <td>€ 80,900.-</td>\n",
       "      <td>€ 69,900.-</td>\n",
       "      <td>€ 46,990.-</td>\n",
       "      <td>€ 16,800.-</td>\n",
       "    </tr>\n",
       "    <tr>\n",
       "      <th>Body type</th>\n",
       "      <td>[\\n, Compact, \\n]</td>\n",
       "      <td>[\\n, Compact, \\n]</td>\n",
       "      <td>[\\n, Compact, \\n]</td>\n",
       "      <td>[\\n, Compact, \\n]</td>\n",
       "      <td>[\\n, Compact, \\n]</td>\n",
       "    </tr>\n",
       "    <tr>\n",
       "      <th>Doors</th>\n",
       "      <td>[\\n, 5, \\n]</td>\n",
       "      <td>[\\n, 4, \\n]</td>\n",
       "      <td>[\\n, 5, \\n]</td>\n",
       "      <td>[\\n, 5, \\n]</td>\n",
       "      <td>[\\n, 5, \\n]</td>\n",
       "    </tr>\n",
       "    <tr>\n",
       "      <th>Country version</th>\n",
       "      <td>[\\n, Spain, \\n]</td>\n",
       "      <td>[\\n, Spain, \\n]</td>\n",
       "      <td>[\\n, Spain, \\n]</td>\n",
       "      <td>[\\n, Spain, \\n]</td>\n",
       "      <td>[\\n, Spain, \\n]</td>\n",
       "    </tr>\n",
       "    <tr>\n",
       "      <th>Warranty</th>\n",
       "      <td>[\\n, 24 months, \\n]</td>\n",
       "      <td>[\\n, 24 months, \\n]</td>\n",
       "      <td>[\\n, 12 months, \\n]</td>\n",
       "      <td>[\\n, 12 months, \\n]</td>\n",
       "      <td>[\\n, 12 months, \\n]</td>\n",
       "    </tr>\n",
       "    <tr>\n",
       "      <th>Mileage</th>\n",
       "      <td>120,200 km</td>\n",
       "      <td>5,000 km</td>\n",
       "      <td>18,900 km</td>\n",
       "      <td>18,995 km</td>\n",
       "      <td>197,000 km</td>\n",
       "    </tr>\n",
       "    <tr>\n",
       "      <th>First registration</th>\n",
       "      <td>06/2016</td>\n",
       "      <td>06/2022</td>\n",
       "      <td>07/2020</td>\n",
       "      <td>01/2020</td>\n",
       "      <td>09/2015</td>\n",
       "    </tr>\n",
       "    <tr>\n",
       "      <th>Gearbox</th>\n",
       "      <td>[\\nManual\\n]</td>\n",
       "      <td>[\\nAutomatic\\n]</td>\n",
       "      <td>[\\nAutomatic\\n]</td>\n",
       "      <td>[\\nAutomatic\\n]</td>\n",
       "      <td>[\\nAutomatic\\n]</td>\n",
       "    </tr>\n",
       "    <tr>\n",
       "      <th>Fuel type</th>\n",
       "      <td>Diesel</td>\n",
       "      <td>Electric</td>\n",
       "      <td>Gasoline</td>\n",
       "      <td>Gasoline</td>\n",
       "      <td>Diesel</td>\n",
       "    </tr>\n",
       "    <tr>\n",
       "      <th>Colour</th>\n",
       "      <td>Black</td>\n",
       "      <td>NaN</td>\n",
       "      <td>Grey</td>\n",
       "      <td>Yellow</td>\n",
       "      <td>White</td>\n",
       "    </tr>\n",
       "    <tr>\n",
       "      <th>Paint</th>\n",
       "      <td>Metallic</td>\n",
       "      <td>NaN</td>\n",
       "      <td>NaN</td>\n",
       "      <td>NaN</td>\n",
       "      <td>Metallic</td>\n",
       "    </tr>\n",
       "    <tr>\n",
       "      <th>seller</th>\n",
       "      <td>Dealer</td>\n",
       "      <td>Dealer</td>\n",
       "      <td>Dealer</td>\n",
       "      <td>Dealer</td>\n",
       "      <td>Dealer</td>\n",
       "    </tr>\n",
       "    <tr>\n",
       "      <th>Seats</th>\n",
       "      <td>NaN</td>\n",
       "      <td>[\\n, 5, \\n]</td>\n",
       "      <td>[\\n, 5, \\n]</td>\n",
       "      <td>[\\n, 5, \\n]</td>\n",
       "      <td>[\\n, 5, \\n]</td>\n",
       "    </tr>\n",
       "    <tr>\n",
       "      <th>Power</th>\n",
       "      <td>NaN</td>\n",
       "      <td>[\\n215 kW (292 hp)\\n]</td>\n",
       "      <td>[\\n310 kW (421 hp)\\n]</td>\n",
       "      <td>[\\n225 kW (306 hp)\\n]</td>\n",
       "      <td>[\\n100 kW (136 hp)\\n]</td>\n",
       "    </tr>\n",
       "    <tr>\n",
       "      <th>Engine size</th>\n",
       "      <td>NaN</td>\n",
       "      <td>[\\n1 cc\\n]</td>\n",
       "      <td>[\\n1,991 cc\\n]</td>\n",
       "      <td>[\\n1,991 cc\\n]</td>\n",
       "      <td>[\\n2,143 cc\\n]</td>\n",
       "    </tr>\n",
       "    <tr>\n",
       "      <th>Gears</th>\n",
       "      <td>NaN</td>\n",
       "      <td>[\\n9\\n]</td>\n",
       "      <td>[\\n8\\n]</td>\n",
       "      <td>[\\n7\\n]</td>\n",
       "      <td>[\\n7\\n]</td>\n",
       "    </tr>\n",
       "    <tr>\n",
       "      <th>CO₂-emissions</th>\n",
       "      <td>NaN</td>\n",
       "      <td>0 g/km (comb.)</td>\n",
       "      <td>NaN</td>\n",
       "      <td>NaN</td>\n",
       "      <td>NaN</td>\n",
       "    </tr>\n",
       "    <tr>\n",
       "      <th>Manufacturer colour</th>\n",
       "      <td>NaN</td>\n",
       "      <td>Negro Obsidiana</td>\n",
       "      <td>Mountaingrau magno</td>\n",
       "      <td>Amarillo Sol</td>\n",
       "      <td>NaN</td>\n",
       "    </tr>\n",
       "    <tr>\n",
       "      <th>Drivetrain</th>\n",
       "      <td>NaN</td>\n",
       "      <td>NaN</td>\n",
       "      <td>[\\n, 4WD, \\n]</td>\n",
       "      <td>[\\n, 4WD, \\n]</td>\n",
       "      <td>[\\n, 4WD, \\n]</td>\n",
       "    </tr>\n",
       "    <tr>\n",
       "      <th>Cylinders</th>\n",
       "      <td>NaN</td>\n",
       "      <td>NaN</td>\n",
       "      <td>[\\n4\\n]</td>\n",
       "      <td>[\\n4\\n]</td>\n",
       "      <td>[\\n4\\n]</td>\n",
       "    </tr>\n",
       "    <tr>\n",
       "      <th>Fuel consumption</th>\n",
       "      <td>NaN</td>\n",
       "      <td>NaN</td>\n",
       "      <td>[[8.4 l/100 km (comb.)], [10.9 l/100 km (city)...</td>\n",
       "      <td>[[7.3 l/100 km (comb.)], [9.3 l/100 km (city)]...</td>\n",
       "      <td>[[4.9 l/100 km (comb.)], [5.7 l/100 km (city)]...</td>\n",
       "    </tr>\n",
       "    <tr>\n",
       "      <th>\\nComfort &amp; Convenience\\n</th>\n",
       "      <td>NaN</td>\n",
       "      <td>NaN</td>\n",
       "      <td>NaN</td>\n",
       "      <td>[Air conditioning, Automatic climate control, ...</td>\n",
       "      <td>[Air conditioning, Electrical side mirrors, Mu...</td>\n",
       "    </tr>\n",
       "    <tr>\n",
       "      <th>\\nEntertainment &amp; Media\\n</th>\n",
       "      <td>NaN</td>\n",
       "      <td>NaN</td>\n",
       "      <td>NaN</td>\n",
       "      <td>[USB]</td>\n",
       "      <td>[Bluetooth, CD player, MP3, USB]</td>\n",
       "    </tr>\n",
       "    <tr>\n",
       "      <th>\\nSafety &amp; Security\\n</th>\n",
       "      <td>NaN</td>\n",
       "      <td>NaN</td>\n",
       "      <td>NaN</td>\n",
       "      <td>[ABS, Central door lock, Driver-side airbag, E...</td>\n",
       "      <td>[ABS, Central door lock, Driver-side airbag, E...</td>\n",
       "    </tr>\n",
       "    <tr>\n",
       "      <th>\\nExtras\\n</th>\n",
       "      <td>NaN</td>\n",
       "      <td>NaN</td>\n",
       "      <td>NaN</td>\n",
       "      <td>[Sport seats]</td>\n",
       "      <td>NaN</td>\n",
       "    </tr>\n",
       "    <tr>\n",
       "      <th>Empty weight</th>\n",
       "      <td>NaN</td>\n",
       "      <td>NaN</td>\n",
       "      <td>NaN</td>\n",
       "      <td>NaN</td>\n",
       "      <td>[\\n1,545 kg\\n]</td>\n",
       "    </tr>\n",
       "    <tr>\n",
       "      <th>General inspection</th>\n",
       "      <td>NaN</td>\n",
       "      <td>NaN</td>\n",
       "      <td>NaN</td>\n",
       "      <td>NaN</td>\n",
       "      <td>NaN</td>\n",
       "    </tr>\n",
       "    <tr>\n",
       "      <th>Full service history</th>\n",
       "      <td>NaN</td>\n",
       "      <td>NaN</td>\n",
       "      <td>NaN</td>\n",
       "      <td>NaN</td>\n",
       "      <td>NaN</td>\n",
       "    </tr>\n",
       "    <tr>\n",
       "      <th>Non-smoker vehicle</th>\n",
       "      <td>NaN</td>\n",
       "      <td>NaN</td>\n",
       "      <td>NaN</td>\n",
       "      <td>NaN</td>\n",
       "      <td>NaN</td>\n",
       "    </tr>\n",
       "    <tr>\n",
       "      <th>Emission class</th>\n",
       "      <td>NaN</td>\n",
       "      <td>NaN</td>\n",
       "      <td>NaN</td>\n",
       "      <td>NaN</td>\n",
       "      <td>NaN</td>\n",
       "    </tr>\n",
       "    <tr>\n",
       "      <th>Emissions sticker</th>\n",
       "      <td>NaN</td>\n",
       "      <td>NaN</td>\n",
       "      <td>NaN</td>\n",
       "      <td>NaN</td>\n",
       "      <td>NaN</td>\n",
       "    </tr>\n",
       "    <tr>\n",
       "      <th>Upholstery colour</th>\n",
       "      <td>NaN</td>\n",
       "      <td>NaN</td>\n",
       "      <td>NaN</td>\n",
       "      <td>NaN</td>\n",
       "      <td>NaN</td>\n",
       "    </tr>\n",
       "    <tr>\n",
       "      <th>Upholstery</th>\n",
       "      <td>NaN</td>\n",
       "      <td>NaN</td>\n",
       "      <td>NaN</td>\n",
       "      <td>NaN</td>\n",
       "      <td>NaN</td>\n",
       "    </tr>\n",
       "    <tr>\n",
       "      <th>Production date</th>\n",
       "      <td>NaN</td>\n",
       "      <td>NaN</td>\n",
       "      <td>NaN</td>\n",
       "      <td>NaN</td>\n",
       "      <td>NaN</td>\n",
       "    </tr>\n",
       "    <tr>\n",
       "      <th>Previous owner</th>\n",
       "      <td>NaN</td>\n",
       "      <td>NaN</td>\n",
       "      <td>NaN</td>\n",
       "      <td>NaN</td>\n",
       "      <td>NaN</td>\n",
       "    </tr>\n",
       "    <tr>\n",
       "      <th>Energy efficiency class</th>\n",
       "      <td>NaN</td>\n",
       "      <td>NaN</td>\n",
       "      <td>NaN</td>\n",
       "      <td>NaN</td>\n",
       "      <td>NaN</td>\n",
       "    </tr>\n",
       "  </tbody>\n",
       "</table>\n",
       "</div>"
      ],
      "text/plain": [
       "                                                                           0  \\\n",
       "make_model                                               Mercedes-Benz A 160   \n",
       "location                   P.I. EL PALMAR C/FORJA 6,  11500 PUERTO DE SAN...   \n",
       "price                                                             € 16,950.-   \n",
       "Body type                                                  [\\n, Compact, \\n]   \n",
       "Doors                                                            [\\n, 5, \\n]   \n",
       "Country version                                              [\\n, Spain, \\n]   \n",
       "Warranty                                                 [\\n, 24 months, \\n]   \n",
       "Mileage                                                           120,200 km   \n",
       "First registration                                                   06/2016   \n",
       "Gearbox                                                         [\\nManual\\n]   \n",
       "Fuel type                                                             Diesel   \n",
       "Colour                                                                 Black   \n",
       "Paint                                                               Metallic   \n",
       "seller                                                                Dealer   \n",
       "Seats                                                                    NaN   \n",
       "Power                                                                    NaN   \n",
       "Engine size                                                              NaN   \n",
       "Gears                                                                    NaN   \n",
       "CO₂-emissions                                                            NaN   \n",
       "Manufacturer colour                                                      NaN   \n",
       "Drivetrain                                                               NaN   \n",
       "Cylinders                                                                NaN   \n",
       "Fuel consumption                                                         NaN   \n",
       "\\nComfort & Convenience\\n                                                NaN   \n",
       "\\nEntertainment & Media\\n                                                NaN   \n",
       "\\nSafety & Security\\n                                                    NaN   \n",
       "\\nExtras\\n                                                               NaN   \n",
       "Empty weight                                                             NaN   \n",
       "General inspection                                                       NaN   \n",
       "Full service history                                                     NaN   \n",
       "Non-smoker vehicle                                                       NaN   \n",
       "Emission class                                                           NaN   \n",
       "Emissions sticker                                                        NaN   \n",
       "Upholstery colour                                                        NaN   \n",
       "Upholstery                                                               NaN   \n",
       "Production date                                                          NaN   \n",
       "Previous owner                                                           NaN   \n",
       "Energy efficiency class                                                  NaN   \n",
       "\n",
       "                                                                      1  \\\n",
       "make_model                                        Mercedes-Benz EQE 350   \n",
       "location                   APARTADO DE CORREOS 1032,  26140 LOGROÑO, ES   \n",
       "price                                                        € 80,900.-   \n",
       "Body type                                             [\\n, Compact, \\n]   \n",
       "Doors                                                       [\\n, 4, \\n]   \n",
       "Country version                                         [\\n, Spain, \\n]   \n",
       "Warranty                                            [\\n, 24 months, \\n]   \n",
       "Mileage                                                        5,000 km   \n",
       "First registration                                              06/2022   \n",
       "Gearbox                                                 [\\nAutomatic\\n]   \n",
       "Fuel type                                                      Electric   \n",
       "Colour                                                              NaN   \n",
       "Paint                                                               NaN   \n",
       "seller                                                           Dealer   \n",
       "Seats                                                       [\\n, 5, \\n]   \n",
       "Power                                             [\\n215 kW (292 hp)\\n]   \n",
       "Engine size                                                  [\\n1 cc\\n]   \n",
       "Gears                                                           [\\n9\\n]   \n",
       "CO₂-emissions                                            0 g/km (comb.)   \n",
       "Manufacturer colour                                     Negro Obsidiana   \n",
       "Drivetrain                                                          NaN   \n",
       "Cylinders                                                           NaN   \n",
       "Fuel consumption                                                    NaN   \n",
       "\\nComfort & Convenience\\n                                           NaN   \n",
       "\\nEntertainment & Media\\n                                           NaN   \n",
       "\\nSafety & Security\\n                                               NaN   \n",
       "\\nExtras\\n                                                          NaN   \n",
       "Empty weight                                                        NaN   \n",
       "General inspection                                                  NaN   \n",
       "Full service history                                                NaN   \n",
       "Non-smoker vehicle                                                  NaN   \n",
       "Emission class                                                      NaN   \n",
       "Emissions sticker                                                   NaN   \n",
       "Upholstery colour                                                   NaN   \n",
       "Upholstery                                                          NaN   \n",
       "Production date                                                     NaN   \n",
       "Previous owner                                                      NaN   \n",
       "Energy efficiency class                                             NaN   \n",
       "\n",
       "                                                                           2  \\\n",
       "make_model                                            Mercedes-Benz A 45 AMG   \n",
       "location                   PORT. TARRACO, MOLL DE LLEVANT, Nº 5, LOC. 6-8...   \n",
       "price                                                             € 69,900.-   \n",
       "Body type                                                  [\\n, Compact, \\n]   \n",
       "Doors                                                            [\\n, 5, \\n]   \n",
       "Country version                                              [\\n, Spain, \\n]   \n",
       "Warranty                                                 [\\n, 12 months, \\n]   \n",
       "Mileage                                                            18,900 km   \n",
       "First registration                                                   07/2020   \n",
       "Gearbox                                                      [\\nAutomatic\\n]   \n",
       "Fuel type                                                           Gasoline   \n",
       "Colour                                                                  Grey   \n",
       "Paint                                                                    NaN   \n",
       "seller                                                                Dealer   \n",
       "Seats                                                            [\\n, 5, \\n]   \n",
       "Power                                                  [\\n310 kW (421 hp)\\n]   \n",
       "Engine size                                                   [\\n1,991 cc\\n]   \n",
       "Gears                                                                [\\n8\\n]   \n",
       "CO₂-emissions                                                            NaN   \n",
       "Manufacturer colour                                       Mountaingrau magno   \n",
       "Drivetrain                                                     [\\n, 4WD, \\n]   \n",
       "Cylinders                                                            [\\n4\\n]   \n",
       "Fuel consumption           [[8.4 l/100 km (comb.)], [10.9 l/100 km (city)...   \n",
       "\\nComfort & Convenience\\n                                                NaN   \n",
       "\\nEntertainment & Media\\n                                                NaN   \n",
       "\\nSafety & Security\\n                                                    NaN   \n",
       "\\nExtras\\n                                                               NaN   \n",
       "Empty weight                                                             NaN   \n",
       "General inspection                                                       NaN   \n",
       "Full service history                                                     NaN   \n",
       "Non-smoker vehicle                                                       NaN   \n",
       "Emission class                                                           NaN   \n",
       "Emissions sticker                                                        NaN   \n",
       "Upholstery colour                                                        NaN   \n",
       "Upholstery                                                               NaN   \n",
       "Production date                                                          NaN   \n",
       "Previous owner                                                           NaN   \n",
       "Energy efficiency class                                                  NaN   \n",
       "\n",
       "                                                                           3  \\\n",
       "make_model                                            Mercedes-Benz A 35 AMG   \n",
       "location                   Carrer de Provença, 31 Local,  8029 BARCELONA, ES   \n",
       "price                                                             € 46,990.-   \n",
       "Body type                                                  [\\n, Compact, \\n]   \n",
       "Doors                                                            [\\n, 5, \\n]   \n",
       "Country version                                              [\\n, Spain, \\n]   \n",
       "Warranty                                                 [\\n, 12 months, \\n]   \n",
       "Mileage                                                            18,995 km   \n",
       "First registration                                                   01/2020   \n",
       "Gearbox                         "
      ]
     },
     "execution_count": 155,
     "metadata": {},
     "output_type": "execute_result"
    },
    {
     "data": {
      "text/html": [
       "<b>limit_output extension: Maximum message size of 10000 exceeded with 15369 characters</b>"
      ]
     },
     "metadata": {},
     "output_type": "display_data"
    }
   ],
   "source": [
    "df.head().T"
   ]
  },
  {
   "cell_type": "code",
   "execution_count": 156,
   "metadata": {
    "ExecuteTime": {
     "end_time": "2023-03-13T13:37:07.784125Z",
     "start_time": "2023-03-13T13:37:07.755934Z"
    }
   },
   "outputs": [],
   "source": [
    "for i in df.columns:\n",
    "    df.rename(columns={i:i.lower().replace(' & ','_').replace(' ','_').replace('\\n','').replace('-','_')},inplace = True)"
   ]
  },
  {
   "cell_type": "code",
   "execution_count": 157,
   "metadata": {
    "ExecuteTime": {
     "end_time": "2023-03-13T13:37:07.845661Z",
     "start_time": "2023-03-13T13:37:07.789677Z"
    }
   },
   "outputs": [
    {
     "data": {
      "text/html": [
       "<div>\n",
       "<style scoped>\n",
       "    .dataframe tbody tr th:only-of-type {\n",
       "        vertical-align: middle;\n",
       "    }\n",
       "\n",
       "    .dataframe tbody tr th {\n",
       "        vertical-align: top;\n",
       "    }\n",
       "\n",
       "    .dataframe thead th {\n",
       "        text-align: right;\n",
       "    }\n",
       "</style>\n",
       "<table border=\"1\" class=\"dataframe\">\n",
       "  <thead>\n",
       "    <tr style=\"text-align: right;\">\n",
       "      <th></th>\n",
       "      <th>0</th>\n",
       "      <th>1</th>\n",
       "      <th>2</th>\n",
       "      <th>3</th>\n",
       "      <th>4</th>\n",
       "    </tr>\n",
       "  </thead>\n",
       "  <tbody>\n",
       "    <tr>\n",
       "      <th>make_model</th>\n",
       "      <td>Mercedes-Benz A 160</td>\n",
       "      <td>Mercedes-Benz EQE 350</td>\n",
       "      <td>Mercedes-Benz A 45 AMG</td>\n",
       "      <td>Mercedes-Benz A 35 AMG</td>\n",
       "      <td>Mercedes-Benz A 45 AMG</td>\n",
       "    </tr>\n",
       "    <tr>\n",
       "      <th>location</th>\n",
       "      <td>P.I. EL PALMAR C/FORJA 6,  11500 PUERTO DE SAN...</td>\n",
       "      <td>APARTADO DE CORREOS 1032,  26140 LOGROÑO, ES</td>\n",
       "      <td>PORT. TARRACO, MOLL DE LLEVANT, Nº 5, LOC. 6-8...</td>\n",
       "      <td>Carrer de Provença, 31 Local,  8029 BARCELONA, ES</td>\n",
       "      <td>CARRIL ARAGONES 4,  30007 CASILLAS, ES</td>\n",
       "    </tr>\n",
       "    <tr>\n",
       "      <th>price</th>\n",
       "      <td>€ 16,950.-</td>\n",
       "      <td>€ 80,900.-</td>\n",
       "      <td>€ 69,900.-</td>\n",
       "      <td>€ 46,990.-</td>\n",
       "      <td>€ 16,800.-</td>\n",
       "    </tr>\n",
       "    <tr>\n",
       "      <th>body_type</th>\n",
       "      <td>[\\n, Compact, \\n]</td>\n",
       "      <td>[\\n, Compact, \\n]</td>\n",
       "      <td>[\\n, Compact, \\n]</td>\n",
       "      <td>[\\n, Compact, \\n]</td>\n",
       "      <td>[\\n, Compact, \\n]</td>\n",
       "    </tr>\n",
       "    <tr>\n",
       "      <th>doors</th>\n",
       "      <td>[\\n, 5, \\n]</td>\n",
       "      <td>[\\n, 4, \\n]</td>\n",
       "      <td>[\\n, 5, \\n]</td>\n",
       "      <td>[\\n, 5, \\n]</td>\n",
       "      <td>[\\n, 5, \\n]</td>\n",
       "    </tr>\n",
       "    <tr>\n",
       "      <th>country_version</th>\n",
       "      <td>[\\n, Spain, \\n]</td>\n",
       "      <td>[\\n, Spain, \\n]</td>\n",
       "      <td>[\\n, Spain, \\n]</td>\n",
       "      <td>[\\n, Spain, \\n]</td>\n",
       "      <td>[\\n, Spain, \\n]</td>\n",
       "    </tr>\n",
       "    <tr>\n",
       "      <th>warranty</th>\n",
       "      <td>[\\n, 24 months, \\n]</td>\n",
       "      <td>[\\n, 24 months, \\n]</td>\n",
       "      <td>[\\n, 12 months, \\n]</td>\n",
       "      <td>[\\n, 12 months, \\n]</td>\n",
       "      <td>[\\n, 12 months, \\n]</td>\n",
       "    </tr>\n",
       "    <tr>\n",
       "      <th>mileage</th>\n",
       "      <td>120,200 km</td>\n",
       "      <td>5,000 km</td>\n",
       "      <td>18,900 km</td>\n",
       "      <td>18,995 km</td>\n",
       "      <td>197,000 km</td>\n",
       "    </tr>\n",
       "    <tr>\n",
       "      <th>first_registration</th>\n",
       "      <td>06/2016</td>\n",
       "      <td>06/2022</td>\n",
       "      <td>07/2020</td>\n",
       "      <td>01/2020</td>\n",
       "      <td>09/2015</td>\n",
       "    </tr>\n",
       "    <tr>\n",
       "      <th>gearbox</th>\n",
       "      <td>[\\nManual\\n]</td>\n",
       "      <td>[\\nAutomatic\\n]</td>\n",
       "      <td>[\\nAutomatic\\n]</td>\n",
       "      <td>[\\nAutomatic\\n]</td>\n",
       "      <td>[\\nAutomatic\\n]</td>\n",
       "    </tr>\n",
       "    <tr>\n",
       "      <th>fuel_type</th>\n",
       "      <td>Diesel</td>\n",
       "      <td>Electric</td>\n",
       "      <td>Gasoline</td>\n",
       "      <td>Gasoline</td>\n",
       "      <td>Diesel</td>\n",
       "    </tr>\n",
       "    <tr>\n",
       "      <th>colour</th>\n",
       "      <td>Black</td>\n",
       "      <td>NaN</td>\n",
       "      <td>Grey</td>\n",
       "      <td>Yellow</td>\n",
       "      <td>White</td>\n",
       "    </tr>\n",
       "    <tr>\n",
       "      <th>paint</th>\n",
       "      <td>Metallic</td>\n",
       "      <td>NaN</td>\n",
       "      <td>NaN</td>\n",
       "      <td>NaN</td>\n",
       "      <td>Metallic</td>\n",
       "    </tr>\n",
       "    <tr>\n",
       "      <th>seller</th>\n",
       "      <td>Dealer</td>\n",
       "      <td>Dealer</td>\n",
       "      <td>Dealer</td>\n",
       "      <td>Dealer</td>\n",
       "      <td>Dealer</td>\n",
       "    </tr>\n",
       "    <tr>\n",
       "      <th>seats</th>\n",
       "      <td>NaN</td>\n",
       "      <td>[\\n, 5, \\n]</td>\n",
       "      <td>[\\n, 5, \\n]</td>\n",
       "      <td>[\\n, 5, \\n]</td>\n",
       "      <td>[\\n, 5, \\n]</td>\n",
       "    </tr>\n",
       "    <tr>\n",
       "      <th>power</th>\n",
       "      <td>NaN</td>\n",
       "      <td>[\\n215 kW (292 hp)\\n]</td>\n",
       "      <td>[\\n310 kW (421 hp)\\n]</td>\n",
       "      <td>[\\n225 kW (306 hp)\\n]</td>\n",
       "      <td>[\\n100 kW (136 hp)\\n]</td>\n",
       "    </tr>\n",
       "    <tr>\n",
       "      <th>engine_size</th>\n",
       "      <td>NaN</td>\n",
       "      <td>[\\n1 cc\\n]</td>\n",
       "      <td>[\\n1,991 cc\\n]</td>\n",
       "      <td>[\\n1,991 cc\\n]</td>\n",
       "      <td>[\\n2,143 cc\\n]</td>\n",
       "    </tr>\n",
       "    <tr>\n",
       "      <th>gears</th>\n",
       "      <td>NaN</td>\n",
       "      <td>[\\n9\\n]</td>\n",
       "      <td>[\\n8\\n]</td>\n",
       "      <td>[\\n7\\n]</td>\n",
       "      <td>[\\n7\\n]</td>\n",
       "    </tr>\n",
       "    <tr>\n",
       "      <th>co₂_emissions</th>\n",
       "      <td>NaN</td>\n",
       "      <td>0 g/km (comb.)</td>\n",
       "      <td>NaN</td>\n",
       "      <td>NaN</td>\n",
       "      <td>NaN</td>\n",
       "    </tr>\n",
       "    <tr>\n",
       "      <th>manufacturer_colour</th>\n",
       "      <td>NaN</td>\n",
       "      <td>Negro Obsidiana</td>\n",
       "      <td>Mountaingrau magno</td>\n",
       "      <td>Amarillo Sol</td>\n",
       "      <td>NaN</td>\n",
       "    </tr>\n",
       "    <tr>\n",
       "      <th>drivetrain</th>\n",
       "      <td>NaN</td>\n",
       "      <td>NaN</td>\n",
       "      <td>[\\n, 4WD, \\n]</td>\n",
       "      <td>[\\n, 4WD, \\n]</td>\n",
       "      <td>[\\n, 4WD, \\n]</td>\n",
       "    </tr>\n",
       "    <tr>\n",
       "      <th>cylinders</th>\n",
       "      <td>NaN</td>\n",
       "      <td>NaN</td>\n",
       "      <td>[\\n4\\n]</td>\n",
       "      <td>[\\n4\\n]</td>\n",
       "      <td>[\\n4\\n]</td>\n",
       "    </tr>\n",
       "    <tr>\n",
       "      <th>fuel_consumption</th>\n",
       "      <td>NaN</td>\n",
       "      <td>NaN</td>\n",
       "      <td>[[8.4 l/100 km (comb.)], [10.9 l/100 km (city)...</td>\n",
       "      <td>[[7.3 l/100 km (comb.)], [9.3 l/100 km (city)]...</td>\n",
       "      <td>[[4.9 l/100 km (comb.)], [5.7 l/100 km (city)]...</td>\n",
       "    </tr>\n",
       "    <tr>\n",
       "      <th>comfort_convenience</th>\n",
       "      <td>NaN</td>\n",
       "      <td>NaN</td>\n",
       "      <td>NaN</td>\n",
       "      <td>[Air conditioning, Automatic climate control, ...</td>\n",
       "      <td>[Air conditioning, Electrical side mirrors, Mu...</td>\n",
       "    </tr>\n",
       "    <tr>\n",
       "      <th>entertainment_media</th>\n",
       "      <td>NaN</td>\n",
       "      <td>NaN</td>\n",
       "      <td>NaN</td>\n",
       "      <td>[USB]</td>\n",
       "      <td>[Bluetooth, CD player, MP3, USB]</td>\n",
       "    </tr>\n",
       "    <tr>\n",
       "      <th>safety_security</th>\n",
       "      <td>NaN</td>\n",
       "      <td>NaN</td>\n",
       "      <td>NaN</td>\n",
       "      <td>[ABS, Central door lock, Driver-side airbag, E...</td>\n",
       "      <td>[ABS, Central door lock, Driver-side airbag, E...</td>\n",
       "    </tr>\n",
       "    <tr>\n",
       "      <th>extras</th>\n",
       "      <td>NaN</td>\n",
       "      <td>NaN</td>\n",
       "      <td>NaN</td>\n",
       "      <td>[Sport seats]</td>\n",
       "      <td>NaN</td>\n",
       "    </tr>\n",
       "    <tr>\n",
       "      <th>empty_weight</th>\n",
       "      <td>NaN</td>\n",
       "      <td>NaN</td>\n",
       "      <td>NaN</td>\n",
       "      <td>NaN</td>\n",
       "      <td>[\\n1,545 kg\\n]</td>\n",
       "    </tr>\n",
       "    <tr>\n",
       "      <th>general_inspection</th>\n",
       "      <td>NaN</td>\n",
       "      <td>NaN</td>\n",
       "      <td>NaN</td>\n",
       "      <td>NaN</td>\n",
       "      <td>NaN</td>\n",
       "    </tr>\n",
       "    <tr>\n",
       "      <th>full_service_history</th>\n",
       "      <td>NaN</td>\n",
       "      <td>NaN</td>\n",
       "      <td>NaN</td>\n",
       "      <td>NaN</td>\n",
       "      <td>NaN</td>\n",
       "    </tr>\n",
       "    <tr>\n",
       "      <th>non_smoker_vehicle</th>\n",
       "      <td>NaN</td>\n",
       "      <td>NaN</td>\n",
       "      <td>NaN</td>\n",
       "      <td>NaN</td>\n",
       "      <td>NaN</td>\n",
       "    </tr>\n",
       "    <tr>\n",
       "      <th>emission_class</th>\n",
       "      <td>NaN</td>\n",
       "      <td>NaN</td>\n",
       "      <td>NaN</td>\n",
       "      <td>NaN</td>\n",
       "      <td>NaN</td>\n",
       "    </tr>\n",
       "    <tr>\n",
       "      <th>emissions_sticker</th>\n",
       "      <td>NaN</td>\n",
       "      <td>NaN</td>\n",
       "      <td>NaN</td>\n",
       "      <td>NaN</td>\n",
       "      <td>NaN</td>\n",
       "    </tr>\n",
       "    <tr>\n",
       "      <th>upholstery_colour</th>\n",
       "      <td>NaN</td>\n",
       "      <td>NaN</td>\n",
       "      <td>NaN</td>\n",
       "      <td>NaN</td>\n",
       "      <td>NaN</td>\n",
       "    </tr>\n",
       "    <tr>\n",
       "      <th>upholstery</th>\n",
       "      <td>NaN</td>\n",
       "      <td>NaN</td>\n",
       "      <td>NaN</td>\n",
       "      <td>NaN</td>\n",
       "      <td>NaN</td>\n",
       "    </tr>\n",
       "    <tr>\n",
       "      <th>production_date</th>\n",
       "      <td>NaN</td>\n",
       "      <td>NaN</td>\n",
       "      <td>NaN</td>\n",
       "      <td>NaN</td>\n",
       "      <td>NaN</td>\n",
       "    </tr>\n",
       "    <tr>\n",
       "      <th>previous_owner</th>\n",
       "      <td>NaN</td>\n",
       "      <td>NaN</td>\n",
       "      <td>NaN</td>\n",
       "      <td>NaN</td>\n",
       "      <td>NaN</td>\n",
       "    </tr>\n",
       "    <tr>\n",
       "      <th>energy_efficiency_class</th>\n",
       "      <td>NaN</td>\n",
       "      <td>NaN</td>\n",
       "      <td>NaN</td>\n",
       "      <td>NaN</td>\n",
       "      <td>NaN</td>\n",
       "    </tr>\n",
       "  </tbody>\n",
       "</table>\n",
       "</div>"
      ],
      "text/plain": [
       "                                                                         0  \\\n",
       "make_model                                             Mercedes-Benz A 160   \n",
       "location                 P.I. EL PALMAR C/FORJA 6,  11500 PUERTO DE SAN...   \n",
       "price                                                           € 16,950.-   \n",
       "body_type                                                [\\n, Compact, \\n]   \n",
       "doors                                                          [\\n, 5, \\n]   \n",
       "country_version                                            [\\n, Spain, \\n]   \n",
       "warranty                                               [\\n, 24 months, \\n]   \n",
       "mileage                                                         120,200 km   \n",
       "first_registration                                                 06/2016   \n",
       "gearbox                                                       [\\nManual\\n]   \n",
       "fuel_type                                                           Diesel   \n",
       "colour                                                               Black   \n",
       "paint                                                             Metallic   \n",
       "seller                                                              Dealer   \n",
       "seats                                                                  NaN   \n",
       "power                                                                  NaN   \n",
       "engine_size                                                            NaN   \n",
       "gears                                                                  NaN   \n",
       "co₂_emissions                                                          NaN   \n",
       "manufacturer_colour                                                    NaN   \n",
       "drivetrain                                                             NaN   \n",
       "cylinders                                                              NaN   \n",
       "fuel_consumption                                                       NaN   \n",
       "comfort_convenience                                                    NaN   \n",
       "entertainment_media                                                    NaN   \n",
       "safety_security                                                        NaN   \n",
       "extras                                                                 NaN   \n",
       "empty_weight                                                           NaN   \n",
       "general_inspection                                                     NaN   \n",
       "full_service_history                                                   NaN   \n",
       "non_smoker_vehicle                                                     NaN   \n",
       "emission_class                                                         NaN   \n",
       "emissions_sticker                                                      NaN   \n",
       "upholstery_colour                                                      NaN   \n",
       "upholstery                                                             NaN   \n",
       "production_date                                                        NaN   \n",
       "previous_owner                                                         NaN   \n",
       "energy_efficiency_class                                                NaN   \n",
       "\n",
       "                                                                    1  \\\n",
       "make_model                                      Mercedes-Benz EQE 350   \n",
       "location                 APARTADO DE CORREOS 1032,  26140 LOGROÑO, ES   \n",
       "price                                                      € 80,900.-   \n",
       "body_type                                           [\\n, Compact, \\n]   \n",
       "doors                                                     [\\n, 4, \\n]   \n",
       "country_version                                       [\\n, Spain, \\n]   \n",
       "warranty                                          [\\n, 24 months, \\n]   \n",
       "mileage                                                      5,000 km   \n",
       "first_registration                                            06/2022   \n",
       "gearbox                                               [\\nAutomatic\\n]   \n",
       "fuel_type                                                    Electric   \n",
       "colour                                                            NaN   \n",
       "paint                                                             NaN   \n",
       "seller                                                         Dealer   \n",
       "seats                                                     [\\n, 5, \\n]   \n",
       "power                                           [\\n215 kW (292 hp)\\n]   \n",
       "engine_size                                                [\\n1 cc\\n]   \n",
       "gears                                                         [\\n9\\n]   \n",
       "co₂_emissions                                          0 g/km (comb.)   \n",
       "manufacturer_colour                                   Negro Obsidiana   \n",
       "drivetrain                                                        NaN   \n",
       "cylinders                                                         NaN   \n",
       "fuel_consumption                                                  NaN   \n",
       "comfort_convenience                                               NaN   \n",
       "entertainment_media                                               NaN   \n",
       "safety_security                                                   NaN   \n",
       "extras                                                            NaN   \n",
       "empty_weight                                                      NaN   \n",
       "general_inspection                                                NaN   \n",
       "full_service_history                                              NaN   \n",
       "non_smoker_vehicle                                                NaN   \n",
       "emission_class                                                    NaN   \n",
       "emissions_sticker                                                 NaN   \n",
       "upholstery_colour                                                 NaN   \n",
       "upholstery                                                        NaN   \n",
       "production_date                                                   NaN   \n",
       "previous_owner                                                    NaN   \n",
       "energy_efficiency_class                                           NaN   \n",
       "\n",
       "                                                                         2  \\\n",
       "make_model                                          Mercedes-Benz A 45 AMG   \n",
       "location                 PORT. TARRACO, MOLL DE LLEVANT, Nº 5, LOC. 6-8...   \n",
       "price                                                           € 69,900.-   \n",
       "body_type                                                [\\n, Compact, \\n]   \n",
       "doors                                                          [\\n, 5, \\n]   \n",
       "country_version                                            [\\n, Spain, \\n]   \n",
       "warranty                                               [\\n, 12 months, \\n]   \n",
       "mileage                                                          18,900 km   \n",
       "first_registration                                                 07/2020   \n",
       "gearbox                                                    [\\nAutomatic\\n]   \n",
       "fuel_type                                                         Gasoline   \n",
       "colour                                                                Grey   \n",
       "paint                                                                  NaN   \n",
       "seller                                                              Dealer   \n",
       "seats                                                          [\\n, 5, \\n]   \n",
       "power                                                [\\n310 kW (421 hp)\\n]   \n",
       "engine_size                                                 [\\n1,991 cc\\n]   \n",
       "gears                                                              [\\n8\\n]   \n",
       "co₂_emissions                                                          NaN   \n",
       "manufacturer_colour                                     Mountaingrau magno   \n",
       "drivetrain                                                   [\\n, 4WD, \\n]   \n",
       "cylinders                                                          [\\n4\\n]   \n",
       "fuel_consumption         [[8.4 l/100 km (comb.)], [10.9 l/100 km (city)...   \n",
       "comfort_convenience                                                    NaN   \n",
       "entertainment_media                                                    NaN   \n",
       "safety_security                                                        NaN   \n",
       "extras                                                                 NaN   \n",
       "empty_weight                                                           NaN   \n",
       "general_inspection                                                     NaN   \n",
       "full_service_history                                                   NaN   \n",
       "non_smoker_vehicle                                                     NaN   \n",
       "emission_class                                                         NaN   \n",
       "emissions_sticker                                                      NaN   \n",
       "upholstery_colour                                                      NaN   \n",
       "upholstery                                                             NaN   \n",
       "production_date                                                        NaN   \n",
       "previous_owner                                                         NaN   \n",
       "energy_efficiency_class                                                NaN   \n",
       "\n",
       "                                                                         3  \\\n",
       "make_model                                          Mercedes-Benz A 35 AMG   \n",
       "location                 Carrer de Provença, 31 Local,  8029 BARCELONA, ES   \n",
       "price                                                           € 46,990.-   \n",
       "body_type                                                [\\n, Compact, \\n]   \n",
       "doors                                                          [\\n, 5, \\n]   \n",
       "country_version                                            [\\n, Spain, \\n]   \n",
       "warranty                                               [\\n, 12 months, \\n]   \n",
       "mileage                                                          18,995 km   \n",
       "first_registration                                                 01/2020   \n",
       "gearbox                                                    [\\nAutomatic\\n]   \n",
       "fuel_type                                                         Gasoline   \n",
       "colour                                                              Yellow   \n",
       "paint                                               "
      ]
     },
     "execution_count": 157,
     "metadata": {},
     "output_type": "execute_result"
    },
    {
     "data": {
      "text/html": [
       "<b>limit_output extension: Maximum message size of 10000 exceeded with 14979 characters</b>"
      ]
     },
     "metadata": {},
     "output_type": "display_data"
    }
   ],
   "source": [
    "df.head().T"
   ]
  },
  {
   "cell_type": "markdown",
   "metadata": {},
   "source": []
  },
  {
   "cell_type": "markdown",
   "metadata": {
    "ExecuteTime": {
     "end_time": "2023-03-10T22:45:11.894278Z",
     "start_time": "2023-03-10T22:45:11.880107Z"
    }
   },
   "source": [
    "1.1 MAKE MODEL"
   ]
  },
  {
   "cell_type": "code",
   "execution_count": 158,
   "metadata": {
    "ExecuteTime": {
     "end_time": "2023-03-13T13:37:07.877049Z",
     "start_time": "2023-03-13T13:37:07.850215Z"
    }
   },
   "outputs": [
    {
     "data": {
      "text/plain": [
       "0           Mercedes-Benz A 160\n",
       "1         Mercedes-Benz EQE 350\n",
       "2        Mercedes-Benz A 45 AMG\n",
       "3        Mercedes-Benz A 35 AMG\n",
       "4        Mercedes-Benz A 45 AMG\n",
       "                  ...          \n",
       "29475                 Volvo S40\n",
       "29476                 Volvo C30\n",
       "29477                 Volvo S90\n",
       "29478                 Volvo S80\n",
       "29479                       NaN\n",
       "Name: make_model, Length: 29480, dtype: object"
      ]
     },
     "execution_count": 158,
     "metadata": {},
     "output_type": "execute_result"
    }
   ],
   "source": [
    "df[\"make_model\"]"
   ]
  },
  {
   "cell_type": "code",
   "execution_count": 159,
   "metadata": {
    "ExecuteTime": {
     "end_time": "2023-03-13T13:37:07.907849Z",
     "start_time": "2023-03-13T13:37:07.881627Z"
    }
   },
   "outputs": [
    {
     "data": {
      "text/plain": [
       "Renault Megane     863\n",
       "NaN                850\n",
       "SEAT Leon          787\n",
       "Volvo V40          740\n",
       "Dacia Sandero      730\n",
       "                  ... \n",
       "Toyota GR86          1\n",
       "Toyota Tacoma        1\n",
       "Toyota Tundra        1\n",
       "Toyota 4-Runner      1\n",
       "Volvo 244            1\n",
       "Name: make_model, Length: 612, dtype: int64"
      ]
     },
     "execution_count": 159,
     "metadata": {},
     "output_type": "execute_result"
    }
   ],
   "source": [
    "df[\"make_model\"].value_counts(dropna=False)"
   ]
  },
  {
   "cell_type": "code",
   "execution_count": null,
   "metadata": {},
   "outputs": [],
   "source": []
  },
  {
   "cell_type": "markdown",
   "metadata": {},
   "source": [
    "1.2 LOCATION"
   ]
  },
  {
   "cell_type": "code",
   "execution_count": 160,
   "metadata": {
    "ExecuteTime": {
     "end_time": "2023-03-13T13:37:07.923913Z",
     "start_time": "2023-03-13T13:37:07.910109Z"
    }
   },
   "outputs": [
    {
     "data": {
      "text/plain": [
       "0        P.I. EL PALMAR C/FORJA 6,  11500 PUERTO DE SAN...\n",
       "1             APARTADO DE CORREOS 1032,  26140 LOGROÑO, ES\n",
       "2        PORT. TARRACO, MOLL DE LLEVANT, Nº 5, LOC. 6-8...\n",
       "3        Carrer de Provença, 31 Local,  8029 BARCELONA, ES\n",
       "4                   CARRIL ARAGONES 4,  30007 CASILLAS, ES\n",
       "                               ...                        \n",
       "29475                    Stobbeweg 6,  2461 EX TER AAR, NL\n",
       "29476               Sur rendez-vous,  5060 Sambreville, BE\n",
       "29477      Bergambachterstraat 5,  2871 JB SCHOONHOVEN, NL\n",
       "29478                    Lage Ham 106,  5102 AE DONGEN, NL\n",
       "29479                                                  NaN\n",
       "Name: location, Length: 29480, dtype: object"
      ]
     },
     "execution_count": 160,
     "metadata": {},
     "output_type": "execute_result"
    }
   ],
   "source": [
    "df['location']"
   ]
  },
  {
   "cell_type": "code",
   "execution_count": 161,
   "metadata": {
    "ExecuteTime": {
     "end_time": "2023-03-13T13:37:08.048014Z",
     "start_time": "2023-03-13T13:37:07.927296Z"
    }
   },
   "outputs": [],
   "source": [
    "df['location']=df.location.str.split(',').str[-1]"
   ]
  },
  {
   "cell_type": "code",
   "execution_count": 162,
   "metadata": {
    "ExecuteTime": {
     "end_time": "2023-03-13T13:37:08.062948Z",
     "start_time": "2023-03-13T13:37:08.051907Z"
    }
   },
   "outputs": [
    {
     "data": {
      "text/plain": [
       "0         ES\n",
       "1         ES\n",
       "2         ES\n",
       "3         ES\n",
       "4         ES\n",
       "        ... \n",
       "29475     NL\n",
       "29476     BE\n",
       "29477     NL\n",
       "29478     NL\n",
       "29479    NaN\n",
       "Name: location, Length: 29480, dtype: object"
      ]
     },
     "execution_count": 162,
     "metadata": {},
     "output_type": "execute_result"
    }
   ],
   "source": [
    "df['location']"
   ]
  },
  {
   "cell_type": "code",
   "execution_count": 163,
   "metadata": {
    "ExecuteTime": {
     "end_time": "2023-03-13T13:37:08.093541Z",
     "start_time": "2023-03-13T13:37:08.065951Z"
    }
   },
   "outputs": [
    {
     "data": {
      "text/plain": [
       " DE    12643\n",
       " ES     6517\n",
       " NL     2929\n",
       " IT     2497\n",
       " BE     1873\n",
       " FR     1473\n",
       "NaN      850\n",
       " AT      660\n",
       " LU       35\n",
       " DK        1\n",
       " EE        1\n",
       " BG        1\n",
       "Name: location, dtype: int64"
      ]
     },
     "execution_count": 163,
     "metadata": {},
     "output_type": "execute_result"
    }
   ],
   "source": [
    "df['location'].value_counts(dropna=False)"
   ]
  },
  {
   "cell_type": "markdown",
   "metadata": {},
   "source": [
    "1.3 PRICE"
   ]
  },
  {
   "cell_type": "code",
   "execution_count": 164,
   "metadata": {
    "ExecuteTime": {
     "end_time": "2023-03-13T13:37:08.108714Z",
     "start_time": "2023-03-13T13:37:08.097191Z"
    }
   },
   "outputs": [
    {
     "data": {
      "text/plain": [
       "0        € 16,950.-\n",
       "1        € 80,900.-\n",
       "2        € 69,900.-\n",
       "3        € 46,990.-\n",
       "4        € 16,800.-\n",
       "            ...    \n",
       "29475     € 5,499.-\n",
       "29476     € 7,300.-\n",
       "29477    € 29,900.-\n",
       "29478     € 4,440.-\n",
       "29479           NaN\n",
       "Name: price, Length: 29480, dtype: object"
      ]
     },
     "execution_count": 164,
     "metadata": {},
     "output_type": "execute_result"
    }
   ],
   "source": [
    "df[\"price\"]"
   ]
  },
  {
   "cell_type": "code",
   "execution_count": 165,
   "metadata": {
    "ExecuteTime": {
     "end_time": "2023-03-13T13:37:08.279298Z",
     "start_time": "2023-03-13T13:37:08.112871Z"
    }
   },
   "outputs": [],
   "source": [
    "df['price']=df.price.str.replace(',','').str.extract('(\\d{1,8})').astype('float')\n"
   ]
  },
  {
   "cell_type": "code",
   "execution_count": 166,
   "metadata": {
    "ExecuteTime": {
     "end_time": "2023-03-13T13:37:08.294646Z",
     "start_time": "2023-03-13T13:37:08.281919Z"
    }
   },
   "outputs": [
    {
     "data": {
      "text/plain": [
       "0       16950.00\n",
       "1       80900.00\n",
       "2       69900.00\n",
       "3       46990.00\n",
       "4       16800.00\n",
       "          ...   \n",
       "29475    5499.00\n",
       "29476    7300.00\n",
       "29477   29900.00\n",
       "29478    4440.00\n",
       "29479        NaN\n",
       "Name: price, Length: 29480, dtype: float64"
      ]
     },
     "execution_count": 166,
     "metadata": {},
     "output_type": "execute_result"
    }
   ],
   "source": [
    "df[\"price\"]"
   ]
  },
  {
   "cell_type": "code",
   "execution_count": 167,
   "metadata": {
    "ExecuteTime": {
     "end_time": "2023-03-13T13:37:08.310235Z",
     "start_time": "2023-03-13T13:37:08.297687Z"
    }
   },
   "outputs": [
    {
     "data": {
      "text/plain": [
       "NaN         850\n",
       "14990.00    222\n",
       "12990.00    219\n",
       "16990.00    186\n",
       "19990.00    166\n",
       "           ... \n",
       "19112.00      1\n",
       "30465.00      1\n",
       "18461.00      1\n",
       "22649.00      1\n",
       "4440.00       1\n",
       "Name: price, Length: 5022, dtype: int64"
      ]
     },
     "execution_count": 167,
     "metadata": {},
     "output_type": "execute_result"
    }
   ],
   "source": [
    "df[\"price\"].value_counts(dropna=False)"
   ]
  },
  {
   "cell_type": "markdown",
   "metadata": {},
   "source": [
    "1.4 BODY_TYPE"
   ]
  },
  {
   "cell_type": "code",
   "execution_count": 168,
   "metadata": {
    "ExecuteTime": {
     "end_time": "2023-03-13T13:37:08.326219Z",
     "start_time": "2023-03-13T13:37:08.313540Z"
    }
   },
   "outputs": [
    {
     "data": {
      "text/plain": [
       "0        [\\n, Compact, \\n]\n",
       "1        [\\n, Compact, \\n]\n",
       "2        [\\n, Compact, \\n]\n",
       "3        [\\n, Compact, \\n]\n",
       "4        [\\n, Compact, \\n]\n",
       "               ...        \n",
       "29475      [\\n, Sedan, \\n]\n",
       "29476      [\\n, Sedan, \\n]\n",
       "29477      [\\n, Sedan, \\n]\n",
       "29478      [\\n, Sedan, \\n]\n",
       "29479                  NaN\n",
       "Name: body_type, Length: 29480, dtype: object"
      ]
     },
     "execution_count": 168,
     "metadata": {},
     "output_type": "execute_result"
    }
   ],
   "source": [
    "df['body_type']"
   ]
  },
  {
   "cell_type": "code",
   "execution_count": 169,
   "metadata": {
    "ExecuteTime": {
     "end_time": "2023-03-13T13:37:08.388229Z",
     "start_time": "2023-03-13T13:37:08.331120Z"
    }
   },
   "outputs": [
    {
     "data": {
      "text/plain": [
       "[\\n, Station wagon, \\n]       5448\n",
       "[\\n, Off-Road/Pick-up, \\n]    5415\n",
       "[\\n, Compact, \\n]             5387\n",
       "[\\n, Sedan, \\n]               5043\n",
       "[\\n, Coupe, \\n]               4009\n",
       "[\\n, Convertible, \\n]         3328\n",
       "NaN                            850\n",
       "Name: body_type, dtype: int64"
      ]
     },
     "execution_count": 169,
     "metadata": {},
     "output_type": "execute_result"
    }
   ],
   "source": [
    "df['body_type'].value_counts(dropna=False)"
   ]
  },
  {
   "cell_type": "code",
   "execution_count": 170,
   "metadata": {
    "ExecuteTime": {
     "end_time": "2023-03-13T13:37:08.404787Z",
     "start_time": "2023-03-13T13:37:08.391252Z"
    }
   },
   "outputs": [
    {
     "data": {
      "text/plain": [
       "list"
      ]
     },
     "execution_count": 170,
     "metadata": {},
     "output_type": "execute_result"
    }
   ],
   "source": [
    "type(df['body_type'][0])"
   ]
  },
  {
   "cell_type": "code",
   "execution_count": 171,
   "metadata": {
    "ExecuteTime": {
     "end_time": "2023-03-13T13:37:08.420512Z",
     "start_time": "2023-03-13T13:37:08.410870Z"
    }
   },
   "outputs": [],
   "source": [
    "#df[\"body_type\"].apply(lambda x :i[0] if type(i) == list else i for i in df[\"body_type\"])"
   ]
  },
  {
   "cell_type": "code",
   "execution_count": 172,
   "metadata": {
    "ExecuteTime": {
     "end_time": "2023-03-13T13:37:08.466000Z",
     "start_time": "2023-03-13T13:37:08.431081Z"
    }
   },
   "outputs": [
    {
     "data": {
      "text/plain": [
       "0        \\n, Compact, \\n\n",
       "1        \\n, Compact, \\n\n",
       "2        \\n, Compact, \\n\n",
       "3        \\n, Compact, \\n\n",
       "4        \\n, Compact, \\n\n",
       "              ...       \n",
       "29475      \\n, Sedan, \\n\n",
       "29476      \\n, Sedan, \\n\n",
       "29477      \\n, Sedan, \\n\n",
       "29478      \\n, Sedan, \\n\n",
       "29479                NaN\n",
       "Name: body_type, Length: 29480, dtype: object"
      ]
     },
     "execution_count": 172,
     "metadata": {},
     "output_type": "execute_result"
    }
   ],
   "source": [
    "df[\"body_type\"].explode()"
   ]
  },
  {
   "cell_type": "code",
   "execution_count": 173,
   "metadata": {
    "ExecuteTime": {
     "end_time": "2023-03-13T13:37:08.559626Z",
     "start_time": "2023-03-13T13:37:08.470535Z"
    }
   },
   "outputs": [
    {
     "data": {
      "text/plain": [
       "0        Compact\n",
       "1        Compact\n",
       "2        Compact\n",
       "3        Compact\n",
       "4        Compact\n",
       "          ...   \n",
       "29475      Sedan\n",
       "29476      Sedan\n",
       "29477      Sedan\n",
       "29478      Sedan\n",
       "29479        NaN\n",
       "Name: body_type, Length: 29480, dtype: object"
      ]
     },
     "execution_count": 173,
     "metadata": {},
     "output_type": "execute_result"
    }
   ],
   "source": [
    "df[\"body_type\"].explode().str.strip(\"\\n, \") "
   ]
  },
  {
   "cell_type": "code",
   "execution_count": 174,
   "metadata": {
    "ExecuteTime": {
     "end_time": "2023-03-13T13:37:08.699223Z",
     "start_time": "2023-03-13T13:37:08.564500Z"
    }
   },
   "outputs": [],
   "source": [
    "df[\"body_type\"]=df[\"body_type\"].explode().str.strip(\"\\n, \") "
   ]
  },
  {
   "cell_type": "code",
   "execution_count": 175,
   "metadata": {
    "ExecuteTime": {
     "end_time": "2023-03-13T13:37:08.714917Z",
     "start_time": "2023-03-13T13:37:08.704297Z"
    }
   },
   "outputs": [
    {
     "data": {
      "text/plain": [
       "0        Compact\n",
       "1        Compact\n",
       "2        Compact\n",
       "3        Compact\n",
       "4        Compact\n",
       "          ...   \n",
       "29475      Sedan\n",
       "29476      Sedan\n",
       "29477      Sedan\n",
       "29478      Sedan\n",
       "29479        NaN\n",
       "Name: body_type, Length: 29480, dtype: object"
      ]
     },
     "execution_count": 175,
     "metadata": {},
     "output_type": "execute_result"
    }
   ],
   "source": [
    "df['body_type']"
   ]
  },
  {
   "cell_type": "code",
   "execution_count": 176,
   "metadata": {
    "ExecuteTime": {
     "end_time": "2023-03-13T13:37:08.746556Z",
     "start_time": "2023-03-13T13:37:08.718168Z"
    }
   },
   "outputs": [
    {
     "data": {
      "text/plain": [
       "Station wagon       5448\n",
       "Off-Road/Pick-up    5415\n",
       "Compact             5387\n",
       "Sedan               5043\n",
       "Coupe               4009\n",
       "Convertible         3328\n",
       "NaN                  850\n",
       "Name: body_type, dtype: int64"
      ]
     },
     "execution_count": 176,
     "metadata": {},
     "output_type": "execute_result"
    }
   ],
   "source": [
    "df['body_type'].value_counts(dropna=False)"
   ]
  },
  {
   "cell_type": "markdown",
   "metadata": {},
   "source": [
    "1.5 DOORS"
   ]
  },
  {
   "cell_type": "code",
   "execution_count": 177,
   "metadata": {
    "ExecuteTime": {
     "end_time": "2023-03-13T13:37:08.777969Z",
     "start_time": "2023-03-13T13:37:08.750568Z"
    }
   },
   "outputs": [
    {
     "data": {
      "text/plain": [
       "0        [\\n, 5, \\n]\n",
       "1        [\\n, 4, \\n]\n",
       "2        [\\n, 5, \\n]\n",
       "3        [\\n, 5, \\n]\n",
       "4        [\\n, 5, \\n]\n",
       "            ...     \n",
       "29475    [\\n, 4, \\n]\n",
       "29476    [\\n, 3, \\n]\n",
       "29477    [\\n, 4, \\n]\n",
       "29478    [\\n, 4, \\n]\n",
       "29479            NaN\n",
       "Name: doors, Length: 29480, dtype: object"
      ]
     },
     "execution_count": 177,
     "metadata": {},
     "output_type": "execute_result"
    }
   ],
   "source": [
    "df['doors']"
   ]
  },
  {
   "cell_type": "code",
   "execution_count": 178,
   "metadata": {
    "ExecuteTime": {
     "end_time": "2023-03-13T13:37:08.856142Z",
     "start_time": "2023-03-13T13:37:08.782852Z"
    }
   },
   "outputs": [
    {
     "data": {
      "text/plain": [
       "0        \\n, 5, \\n\n",
       "1        \\n, 4, \\n\n",
       "2        \\n, 5, \\n\n",
       "3        \\n, 5, \\n\n",
       "4        \\n, 5, \\n\n",
       "           ...    \n",
       "29475    \\n, 4, \\n\n",
       "29476    \\n, 3, \\n\n",
       "29477    \\n, 4, \\n\n",
       "29478    \\n, 4, \\n\n",
       "29479          NaN\n",
       "Name: doors, Length: 29480, dtype: object"
      ]
     },
     "execution_count": 178,
     "metadata": {},
     "output_type": "execute_result"
    }
   ],
   "source": [
    "df['doors'].str[0]"
   ]
  },
  {
   "cell_type": "code",
   "execution_count": 179,
   "metadata": {
    "ExecuteTime": {
     "end_time": "2023-03-13T13:37:08.871433Z",
     "start_time": "2023-03-13T13:37:08.859134Z"
    }
   },
   "outputs": [],
   "source": [
    "#df.doors.str.replace('\\n,',' ').str.extract('(\\d{1})').astype('float')"
   ]
  },
  {
   "cell_type": "code",
   "execution_count": 180,
   "metadata": {
    "ExecuteTime": {
     "end_time": "2023-03-13T13:37:08.949983Z",
     "start_time": "2023-03-13T13:37:08.875666Z"
    }
   },
   "outputs": [
    {
     "data": {
      "text/plain": [
       "0          5\n",
       "1          4\n",
       "2          5\n",
       "3          5\n",
       "4          5\n",
       "        ... \n",
       "29475      4\n",
       "29476      3\n",
       "29477      4\n",
       "29478      4\n",
       "29479    NaN\n",
       "Name: doors, Length: 29480, dtype: object"
      ]
     },
     "execution_count": 180,
     "metadata": {},
     "output_type": "execute_result"
    }
   ],
   "source": [
    "df[\"doors\"].explode().str.strip(\"\\n, \") "
   ]
  },
  {
   "cell_type": "code",
   "execution_count": 181,
   "metadata": {
    "ExecuteTime": {
     "end_time": "2023-03-13T13:37:09.058099Z",
     "start_time": "2023-03-13T13:37:08.953516Z"
    }
   },
   "outputs": [],
   "source": [
    "df[\"doors\"]=df[\"doors\"].explode().str.strip(\"\\n, \") "
   ]
  },
  {
   "cell_type": "code",
   "execution_count": 182,
   "metadata": {
    "ExecuteTime": {
     "end_time": "2023-03-13T13:37:09.073791Z",
     "start_time": "2023-03-13T13:37:09.061816Z"
    }
   },
   "outputs": [
    {
     "data": {
      "text/plain": [
       "5      17481\n",
       "2       5523\n",
       "4       3001\n",
       "3       2259\n",
       "NaN     1209\n",
       "6          5\n",
       "1          2\n",
       "Name: doors, dtype: int64"
      ]
     },
     "execution_count": 182,
     "metadata": {},
     "output_type": "execute_result"
    }
   ],
   "source": [
    "df[\"doors\"].value_counts(dropna=False)"
   ]
  },
  {
   "cell_type": "markdown",
   "metadata": {},
   "source": [
    "!!!!! 1.6 COUNTRY_VERSION\n"
   ]
  },
  {
   "cell_type": "code",
   "execution_count": 183,
   "metadata": {
    "ExecuteTime": {
     "end_time": "2023-03-13T13:37:09.088975Z",
     "start_time": "2023-03-13T13:37:09.076734Z"
    }
   },
   "outputs": [
    {
     "data": {
      "text/plain": [
       "0          [\\n, Spain, \\n]\n",
       "1          [\\n, Spain, \\n]\n",
       "2          [\\n, Spain, \\n]\n",
       "3          [\\n, Spain, \\n]\n",
       "4          [\\n, Spain, \\n]\n",
       "               ...        \n",
       "29475                  NaN\n",
       "29476    [\\n, Belgium, \\n]\n",
       "29477                  NaN\n",
       "29478                  NaN\n",
       "29479                  NaN\n",
       "Name: country_version, Length: 29480, dtype: object"
      ]
     },
     "execution_count": 183,
     "metadata": {},
     "output_type": "execute_result"
    }
   ],
   "source": [
    "df['country_version']"
   ]
  },
  {
   "cell_type": "code",
   "execution_count": 184,
   "metadata": {
    "ExecuteTime": {
     "end_time": "2023-03-13T13:37:09.104135Z",
     "start_time": "2023-03-13T13:37:09.092868Z"
    }
   },
   "outputs": [],
   "source": [
    "#df['country_version'] = [i[0] if type(i) == list else i for i in df[\"country_version\"]]"
   ]
  },
  {
   "cell_type": "code",
   "execution_count": 185,
   "metadata": {
    "ExecuteTime": {
     "end_time": "2023-03-13T13:37:09.119847Z",
     "start_time": "2023-03-13T13:37:09.107862Z"
    }
   },
   "outputs": [],
   "source": [
    "#df['country_version'] = df.country_version.str.strip('\\n,').str.split(\",\")"
   ]
  },
  {
   "cell_type": "code",
   "execution_count": 186,
   "metadata": {
    "ExecuteTime": {
     "end_time": "2023-03-13T13:37:09.183021Z",
     "start_time": "2023-03-13T13:37:09.125084Z"
    }
   },
   "outputs": [
    {
     "data": {
      "text/plain": [
       "0          Spain\n",
       "1          Spain\n",
       "2          Spain\n",
       "3          Spain\n",
       "4          Spain\n",
       "          ...   \n",
       "29475        NaN\n",
       "29476    Belgium\n",
       "29477        NaN\n",
       "29478        NaN\n",
       "29479        NaN\n",
       "Name: country_version, Length: 29480, dtype: object"
      ]
     },
     "execution_count": 186,
     "metadata": {},
     "output_type": "execute_result"
    }
   ],
   "source": [
    "df[\"country_version\"].explode().str.strip(\"\\n, \") "
   ]
  },
  {
   "cell_type": "code",
   "execution_count": 187,
   "metadata": {
    "ExecuteTime": {
     "end_time": "2023-03-13T13:37:09.261889Z",
     "start_time": "2023-03-13T13:37:09.186574Z"
    }
   },
   "outputs": [],
   "source": [
    "df[\"country_version\"] =df[\"country_version\"].explode().str.strip(\"\\n, \") "
   ]
  },
  {
   "cell_type": "code",
   "execution_count": 188,
   "metadata": {
    "ExecuteTime": {
     "end_time": "2023-03-13T13:37:09.277867Z",
     "start_time": "2023-03-13T13:37:09.264479Z"
    }
   },
   "outputs": [
    {
     "data": {
      "text/plain": [
       "NaN               12591\n",
       "Germany            7939\n",
       "Spain              6376\n",
       "Italy               679\n",
       "Belgium             641\n",
       "European Union      340\n",
       "Netherlands         306\n",
       "Austria             266\n",
       "France              101\n",
       "United States        57\n",
       "Czechia              47\n",
       "Poland               31\n",
       "Hungary              21\n",
       "Denmark              21\n",
       "Romania              12\n",
       "Japan                12\n",
       "Switzerland           9\n",
       "Luxembourg            9\n",
       "Sweden                6\n",
       "Slovenia              5\n",
       "Slovakia              4\n",
       "Croatia               3\n",
       "Bulgaria              1\n",
       "Malta                 1\n",
       "Canada                1\n",
       "Mexico                1\n",
       "Name: country_version, dtype: int64"
      ]
     },
     "execution_count": 188,
     "metadata": {},
     "output_type": "execute_result"
    }
   ],
   "source": [
    "df[\"country_version\"].value_counts(dropna=False)"
   ]
  },
  {
   "cell_type": "markdown",
   "metadata": {},
   "source": [
    "1.7 WARRANTY"
   ]
  },
  {
   "cell_type": "code",
   "execution_count": 189,
   "metadata": {
    "ExecuteTime": {
     "end_time": "2023-03-13T13:37:09.293510Z",
     "start_time": "2023-03-13T13:37:09.281881Z"
    },
    "scrolled": true
   },
   "outputs": [
    {
     "data": {
      "text/plain": [
       "0        [\\n, 24 months, \\n]\n",
       "1        [\\n, 24 months, \\n]\n",
       "2        [\\n, 12 months, \\n]\n",
       "3        [\\n, 12 months, \\n]\n",
       "4        [\\n, 12 months, \\n]\n",
       "                ...         \n",
       "29475                    NaN\n",
       "29476    [\\n, 13 months, \\n]\n",
       "29477    [\\n, 12 months, \\n]\n",
       "29478                    NaN\n",
       "29479                    NaN\n",
       "Name: warranty, Length: 29480, dtype: object"
      ]
     },
     "execution_count": 189,
     "metadata": {},
     "output_type": "execute_result"
    }
   ],
   "source": [
    "df['warranty']"
   ]
  },
  {
   "cell_type": "code",
   "execution_count": 190,
   "metadata": {
    "ExecuteTime": {
     "end_time": "2023-03-13T13:37:09.371018Z",
     "start_time": "2023-03-13T13:37:09.336364Z"
    }
   },
   "outputs": [
    {
     "data": {
      "text/plain": [
       "0        \\n, 24 months, \\n\n",
       "1        \\n, 24 months, \\n\n",
       "2        \\n, 12 months, \\n\n",
       "3        \\n, 12 months, \\n\n",
       "4        \\n, 12 months, \\n\n",
       "               ...        \n",
       "29475                  NaN\n",
       "29476    \\n, 13 months, \\n\n",
       "29477    \\n, 12 months, \\n\n",
       "29478                  NaN\n",
       "29479                  NaN\n",
       "Name: warranty, Length: 29480, dtype: object"
      ]
     },
     "execution_count": 190,
     "metadata": {},
     "output_type": "execute_result"
    }
   ],
   "source": [
    " df.warranty.apply(lambda x : x[0] if type(x)==list else x)"
   ]
  },
  {
   "cell_type": "code",
   "execution_count": 191,
   "metadata": {
    "ExecuteTime": {
     "end_time": "2023-03-13T13:37:09.494660Z",
     "start_time": "2023-03-13T13:37:09.450340Z"
    }
   },
   "outputs": [],
   "source": [
    " df['warranty']=df.warranty.apply(lambda x : x[0] if type(x)==list else x)"
   ]
  },
  {
   "cell_type": "code",
   "execution_count": 192,
   "metadata": {
    "ExecuteTime": {
     "end_time": "2023-03-13T13:37:09.727712Z",
     "start_time": "2023-03-13T13:37:09.597939Z"
    }
   },
   "outputs": [
    {
     "data": {
      "text/html": [
       "<div>\n",
       "<style scoped>\n",
       "    .dataframe tbody tr th:only-of-type {\n",
       "        vertical-align: middle;\n",
       "    }\n",
       "\n",
       "    .dataframe tbody tr th {\n",
       "        vertical-align: top;\n",
       "    }\n",
       "\n",
       "    .dataframe thead th {\n",
       "        text-align: right;\n",
       "    }\n",
       "</style>\n",
       "<table border=\"1\" class=\"dataframe\">\n",
       "  <thead>\n",
       "    <tr style=\"text-align: right;\">\n",
       "      <th></th>\n",
       "      <th>0</th>\n",
       "    </tr>\n",
       "  </thead>\n",
       "  <tbody>\n",
       "    <tr>\n",
       "      <th>0</th>\n",
       "      <td>24.00</td>\n",
       "    </tr>\n",
       "    <tr>\n",
       "      <th>1</th>\n",
       "      <td>24.00</td>\n",
       "    </tr>\n",
       "    <tr>\n",
       "      <th>2</th>\n",
       "      <td>12.00</td>\n",
       "    </tr>\n",
       "    <tr>\n",
       "      <th>3</th>\n",
       "      <td>12.00</td>\n",
       "    </tr>\n",
       "    <tr>\n",
       "      <th>4</th>\n",
       "      <td>12.00</td>\n",
       "    </tr>\n",
       "    <tr>\n",
       "      <th>...</th>\n",
       "      <td>...</td>\n",
       "    </tr>\n",
       "    <tr>\n",
       "      <th>29475</th>\n",
       "      <td>NaN</td>\n",
       "    </tr>\n",
       "    <tr>\n",
       "      <th>29476</th>\n",
       "      <td>13.00</td>\n",
       "    </tr>\n",
       "    <tr>\n",
       "      <th>29477</th>\n",
       "      <td>12.00</td>\n",
       "    </tr>\n",
       "    <tr>\n",
       "      <th>29478</th>\n",
       "      <td>NaN</td>\n",
       "    </tr>\n",
       "    <tr>\n",
       "      <th>29479</th>\n",
       "      <td>NaN</td>\n",
       "    </tr>\n",
       "  </tbody>\n",
       "</table>\n",
       "<p>29480 rows × 1 columns</p>\n",
       "</div>"
      ],
      "text/plain": [
       "          0\n",
       "0     24.00\n",
       "1     24.00\n",
       "2     12.00\n",
       "3     12.00\n",
       "4     12.00\n",
       "...     ...\n",
       "29475   NaN\n",
       "29476 13.00\n",
       "29477 12.00\n",
       "29478   NaN\n",
       "29479   NaN\n",
       "\n",
       "[29480 rows x 1 columns]"
      ]
     },
     "execution_count": 192,
     "metadata": {},
     "output_type": "execute_result"
    }
   ],
   "source": [
    "df.warranty.str.strip('\\n').str.extract('(\\d{1,2})').astype('float')"
   ]
  },
  {
   "cell_type": "code",
   "execution_count": 193,
   "metadata": {
    "ExecuteTime": {
     "end_time": "2023-03-13T13:37:09.820439Z",
     "start_time": "2023-03-13T13:37:09.744657Z"
    }
   },
   "outputs": [],
   "source": [
    "df['warranty']=df.warranty.str.strip('\\n').str.extract('(\\d{1,2})').astype('float')"
   ]
  },
  {
   "cell_type": "code",
   "execution_count": 194,
   "metadata": {
    "ExecuteTime": {
     "end_time": "2023-03-13T13:37:09.850837Z",
     "start_time": "2023-03-13T13:37:09.838740Z"
    }
   },
   "outputs": [
    {
     "data": {
      "text/plain": [
       "NaN      16015\n",
       "12.00     9546\n",
       "24.00     1515\n",
       "60.00      968\n",
       "6.00       398\n",
       "36.00      257\n",
       "3.00       185\n",
       "0.00       133\n",
       "48.00       78\n",
       "84.00       47\n",
       "72.00       40\n",
       "13.00       22\n",
       "8.00        19\n",
       "1.00        15\n",
       "18.00       15\n",
       "14.00       14\n",
       "15.00       13\n",
       "16.00       13\n",
       "30.00       12\n",
       "34.00       11\n",
       "33.00       11\n",
       "21.00       11\n",
       "19.00        9\n",
       "17.00        9\n",
       "20.00        9\n",
       "32.00        9\n",
       "23.00        9\n",
       "35.00        8\n",
       "28.00        8\n",
       "50.00        6\n",
       "22.00        6\n",
       "42.00        5\n",
       "11.00        5\n",
       "52.00        4\n",
       "26.00        4\n",
       "47.00        4\n",
       "31.00        4\n",
       "9.00         4\n",
       "25.00        3\n",
       "58.00        3\n",
       "27.00        3\n",
       "45.00        2\n",
       "7.00         2\n",
       "29.00        2\n",
       "51.00        2\n",
       "57.00        2\n",
       "10.00        2\n",
       "53.00        2\n",
       "2.00         2\n",
       "80.00        2\n",
       "90.00        2\n",
       "46.00        1\n",
       "39.00        1\n",
       "43.00        1\n",
       "65.00        1\n",
       "37.00        1\n",
       "49.00        1\n",
       "55.00        1\n",
       "99.00        1\n",
       "44.00        1\n",
       "4.00         1\n",
       "Name: warranty, dtype: int64"
      ]
     },
     "execution_count": 194,
     "metadata": {},
     "output_type": "execute_result"
    }
   ],
   "source": [
    "df[\"warranty\"].value_counts(dropna=False)"
   ]
  },
  {
   "cell_type": "markdown",
   "metadata": {},
   "source": [
    "1.8 MILEAGE"
   ]
  },
  {
   "cell_type": "code",
   "execution_count": 195,
   "metadata": {
    "ExecuteTime": {
     "end_time": "2023-03-13T13:37:10.115119Z",
     "start_time": "2023-03-13T13:37:10.097702Z"
    }
   },
   "outputs": [
    {
     "data": {
      "text/plain": [
       "0    120,200 km\n",
       "1      5,000 km\n",
       "2     18,900 km\n",
       "3     18,995 km\n",
       "4    197,000 km\n",
       "Name: mileage, dtype: object"
      ]
     },
     "execution_count": 195,
     "metadata": {},
     "output_type": "execute_result"
    }
   ],
   "source": [
    "df['mileage'].head()"
   ]
  },
  {
   "cell_type": "code",
   "execution_count": 196,
   "metadata": {
    "ExecuteTime": {
     "end_time": "2023-03-13T13:37:10.332550Z",
     "start_time": "2023-03-13T13:37:10.185238Z"
    }
   },
   "outputs": [],
   "source": [
    "df['mileage']=df.mileage.str.replace(',','').str.extract('(\\d{1,8})').astype('float')\n"
   ]
  },
  {
   "cell_type": "code",
   "execution_count": 197,
   "metadata": {
    "ExecuteTime": {
     "end_time": "2023-03-13T13:37:10.348339Z",
     "start_time": "2023-03-13T13:37:10.336563Z"
    }
   },
   "outputs": [
    {
     "data": {
      "text/plain": [
       "0   120200.00\n",
       "1     5000.00\n",
       "2    18900.00\n",
       "3    18995.00\n",
       "4   197000.00\n",
       "Name: mileage, dtype: float64"
      ]
     },
     "execution_count": 197,
     "metadata": {},
     "output_type": "execute_result"
    }
   ],
   "source": [
    "df['mileage'].head()"
   ]
  },
  {
   "cell_type": "code",
   "execution_count": 198,
   "metadata": {
    "ExecuteTime": {
     "end_time": "2023-03-13T13:37:10.412606Z",
     "start_time": "2023-03-13T13:37:10.386779Z"
    }
   },
   "outputs": [
    {
     "data": {
      "text/plain": [
       "NaN          851\n",
       "10.00        586\n",
       "1.00         172\n",
       "50.00        133\n",
       "100.00       119\n",
       "            ... \n",
       "141589.00      1\n",
       "59821.00       1\n",
       "123500.00      1\n",
       "29781.00       1\n",
       "230047.00      1\n",
       "Name: mileage, Length: 14184, dtype: int64"
      ]
     },
     "execution_count": 198,
     "metadata": {},
     "output_type": "execute_result"
    }
   ],
   "source": [
    "df['mileage'].value_counts(dropna=False)"
   ]
  },
  {
   "cell_type": "code",
   "execution_count": null,
   "metadata": {},
   "outputs": [],
   "source": []
  },
  {
   "cell_type": "markdown",
   "metadata": {},
   "source": [
    "   1.9 FIRST REGISTRATION"
   ]
  },
  {
   "cell_type": "code",
   "execution_count": 199,
   "metadata": {
    "ExecuteTime": {
     "end_time": "2023-03-13T13:37:10.771937Z",
     "start_time": "2023-03-13T13:37:10.758347Z"
    }
   },
   "outputs": [
    {
     "data": {
      "text/plain": [
       "0    06/2016\n",
       "1    06/2022\n",
       "2    07/2020\n",
       "3    01/2020\n",
       "4    09/2015\n",
       "Name: first_registration, dtype: object"
      ]
     },
     "execution_count": 199,
     "metadata": {},
     "output_type": "execute_result"
    }
   ],
   "source": [
    "df['first_registration'].head()"
   ]
  },
  {
   "cell_type": "code",
   "execution_count": 200,
   "metadata": {
    "ExecuteTime": {
     "end_time": "2023-03-13T13:37:10.988049Z",
     "start_time": "2023-03-13T13:37:10.838112Z"
    }
   },
   "outputs": [],
   "source": [
    "df['first_registration'] = df.first_registration.str.strip('/').str.extract('(\\d{3,6})').astype('float')"
   ]
  },
  {
   "cell_type": "code",
   "execution_count": 201,
   "metadata": {
    "ExecuteTime": {
     "end_time": "2023-03-13T13:37:11.003333Z",
     "start_time": "2023-03-13T13:37:10.991906Z"
    }
   },
   "outputs": [
    {
     "data": {
      "text/plain": [
       "0   2016.00\n",
       "1   2022.00\n",
       "2   2020.00\n",
       "3   2020.00\n",
       "4   2015.00\n",
       "Name: first_registration, dtype: float64"
      ]
     },
     "execution_count": 201,
     "metadata": {},
     "output_type": "execute_result"
    }
   ],
   "source": [
    "df['first_registration'].head()"
   ]
  },
  {
   "cell_type": "code",
   "execution_count": 202,
   "metadata": {
    "ExecuteTime": {
     "end_time": "2023-03-13T13:37:11.034770Z",
     "start_time": "2023-03-13T13:37:11.017739Z"
    }
   },
   "outputs": [
    {
     "data": {
      "text/plain": [
       "2019.00    3667\n",
       "2018.00    3492\n",
       "2022.00    3086\n",
       "2021.00    2870\n",
       "2020.00    2473\n",
       "2017.00    2426\n",
       "2016.00    1486\n",
       "2015.00    1237\n",
       "2014.00     936\n",
       "NaN         852\n",
       "2013.00     703\n",
       "2012.00     655\n",
       "2011.00     642\n",
       "2010.00     559\n",
       "2007.00     492\n",
       "2008.00     441\n",
       "2009.00     424\n",
       "2006.00     395\n",
       "2005.00     287\n",
       "2004.00     247\n",
       "2003.00     211\n",
       "2001.00     191\n",
       "2002.00     187\n",
       "2000.00     160\n",
       "1999.00     144\n",
       "1998.00      91\n",
       "1997.00      81\n",
       "1994.00      80\n",
       "1995.00      78\n",
       "1996.00      71\n",
       "1991.00      62\n",
       "1992.00      60\n",
       "1993.00      55\n",
       "1990.00      54\n",
       "1966.00      41\n",
       "1967.00      34\n",
       "1988.00      33\n",
       "1965.00      32\n",
       "1973.00      29\n",
       "1972.00      29\n",
       "1968.00      27\n",
       "1987.00      26\n",
       "1978.00      23\n",
       "1986.00      22\n",
       "1989.00      20\n",
       "1970.00      19\n",
       "1985.00      18\n",
       "1971.00      18\n",
       "1979.00      17\n",
       "1969.00      17\n",
       "1983.00      16\n",
       "1975.00      14\n",
       "1977.00      13\n",
       "1982.00      11\n",
       "1964.00      11\n",
       "1976.00      11\n",
       "1984.00      10\n",
       "1974.00       9\n",
       "1963.00       9\n",
       "1981.00       9\n",
       "1962.00       8\n",
       "1961.00       7\n",
       "1955.00       6\n",
       "1980.00       6\n",
       "1954.00       4\n",
       "1957.00       4\n",
       "1958.00       4\n",
       "1960.00       4\n",
       "1932.00       3\n",
       "1900.00       2\n",
       "1937.00       2\n",
       "1959.00       2\n",
       "1952.00       2\n",
       "1930.00       2\n",
       "1953.00       2\n",
       "1933.00       1\n",
       "2025.00       1\n",
       "1946.00       1\n",
       "2023.00       1\n",
       "1929.00       1\n",
       "1956.00       1\n",
       "2202.00       1\n",
       "1928.00       1\n",
       "1950.00       1\n",
       "Name: first_registration, dtype: int64"
      ]
     },
     "execution_count": 202,
     "metadata": {},
     "output_type": "execute_result"
    }
   ],
   "source": [
    "df[\"first_registration\"].value_counts(dropna=False)"
   ]
  },
  {
   "cell_type": "code",
   "execution_count": 203,
   "metadata": {
    "ExecuteTime": {
     "end_time": "2023-03-13T13:37:11.111982Z",
     "start_time": "2023-03-13T13:37:11.100669Z"
    }
   },
   "outputs": [],
   "source": [
    "df['age'] = 2022 - df['first_registration']"
   ]
  },
  {
   "cell_type": "code",
   "execution_count": 204,
   "metadata": {
    "ExecuteTime": {
     "end_time": "2023-03-13T13:37:11.235358Z",
     "start_time": "2023-03-13T13:37:11.177855Z"
    }
   },
   "outputs": [],
   "source": [
    "df.drop(['first_registration'], axis=1, inplace=True)"
   ]
  },
  {
   "cell_type": "code",
   "execution_count": 205,
   "metadata": {
    "ExecuteTime": {
     "end_time": "2023-03-13T13:37:11.267474Z",
     "start_time": "2023-03-13T13:37:11.257021Z"
    }
   },
   "outputs": [
    {
     "data": {
      "text/plain": [
       "0        6.00\n",
       "1        0.00\n",
       "2        2.00\n",
       "3        2.00\n",
       "4        7.00\n",
       "         ... \n",
       "29475   18.00\n",
       "29476   11.00\n",
       "29477    5.00\n",
       "29478   20.00\n",
       "29479     NaN\n",
       "Name: age, Length: 29480, dtype: float64"
      ]
     },
     "execution_count": 205,
     "metadata": {},
     "output_type": "execute_result"
    }
   ],
   "source": [
    "df['age']"
   ]
  },
  {
   "cell_type": "code",
   "execution_count": 206,
   "metadata": {
    "ExecuteTime": {
     "end_time": "2023-03-13T13:37:11.345729Z",
     "start_time": "2023-03-13T13:37:11.335384Z"
    }
   },
   "outputs": [
    {
     "data": {
      "text/plain": [
       "3.00       3667\n",
       "4.00       3492\n",
       "0.00       3086\n",
       "1.00       2870\n",
       "2.00       2473\n",
       "5.00       2426\n",
       "6.00       1486\n",
       "7.00       1237\n",
       "8.00        936\n",
       "NaN         852\n",
       "9.00        703\n",
       "10.00       655\n",
       "11.00       642\n",
       "12.00       559\n",
       "15.00       492\n",
       "14.00       441\n",
       "13.00       424\n",
       "16.00       395\n",
       "17.00       287\n",
       "18.00       247\n",
       "19.00       211\n",
       "21.00       191\n",
       "20.00       187\n",
       "22.00       160\n",
       "23.00       144\n",
       "24.00        91\n",
       "25.00        81\n",
       "28.00        80\n",
       "27.00        78\n",
       "26.00        71\n",
       "31.00        62\n",
       "30.00        60\n",
       "29.00        55\n",
       "32.00        54\n",
       "56.00        41\n",
       "55.00        34\n",
       "34.00        33\n",
       "57.00        32\n",
       "49.00        29\n",
       "50.00        29\n",
       "54.00        27\n",
       "35.00        26\n",
       "44.00        23\n",
       "36.00        22\n",
       "33.00        20\n",
       "52.00        19\n",
       "37.00        18\n",
       "51.00        18\n",
       "43.00        17\n",
       "53.00        17\n",
       "39.00        16\n",
       "47.00        14\n",
       "45.00        13\n",
       "40.00        11\n",
       "58.00        11\n",
       "46.00        11\n",
       "38.00        10\n",
       "48.00         9\n",
       "59.00         9\n",
       "41.00         9\n",
       "60.00         8\n",
       "61.00         7\n",
       "67.00         6\n",
       "42.00         6\n",
       "68.00         4\n",
       "65.00         4\n",
       "64.00         4\n",
       "62.00         4\n",
       "90.00         3\n",
       "122.00        2\n",
       "85.00         2\n",
       "63.00         2\n",
       "70.00         2\n",
       "92.00         2\n",
       "69.00         2\n",
       "89.00         1\n",
       "-3.00         1\n",
       "76.00         1\n",
       "-1.00         1\n",
       "93.00         1\n",
       "66.00         1\n",
       "-180.00       1\n",
       "94.00         1\n",
       "72.00         1\n",
       "Name: age, dtype: int64"
      ]
     },
     "execution_count": 206,
     "metadata": {},
     "output_type": "execute_result"
    }
   ],
   "source": [
    "df['age'].value_counts(dropna=False)"
   ]
  },
  {
   "cell_type": "code",
   "execution_count": 207,
   "metadata": {
    "ExecuteTime": {
     "end_time": "2023-03-13T13:37:11.501780Z",
     "start_time": "2023-03-13T13:37:11.438100Z"
    }
   },
   "outputs": [
    {
     "data": {
      "text/plain": [
       "[\"'!!' is not recognized as an internal or external command,\",\n",
       " 'operable program or batch file.']"
      ]
     },
     "execution_count": 207,
     "metadata": {},
     "output_type": "execute_result"
    }
   ],
   "source": [
    "!!!! ileriki asamalarda atilacak missing veriler vardir !!!! "
   ]
  },
  {
   "cell_type": "markdown",
   "metadata": {},
   "source": [
    "1.10 GEARBOX"
   ]
  },
  {
   "cell_type": "code",
   "execution_count": 208,
   "metadata": {
    "ExecuteTime": {
     "end_time": "2023-03-13T13:37:11.767337Z",
     "start_time": "2023-03-13T13:37:11.751916Z"
    }
   },
   "outputs": [
    {
     "data": {
      "text/plain": [
       "0           [\\nManual\\n]\n",
       "1        [\\nAutomatic\\n]\n",
       "2        [\\nAutomatic\\n]\n",
       "3        [\\nAutomatic\\n]\n",
       "4        [\\nAutomatic\\n]\n",
       "              ...       \n",
       "29475    [\\nAutomatic\\n]\n",
       "29476       [\\nManual\\n]\n",
       "29477    [\\nAutomatic\\n]\n",
       "29478    [\\nAutomatic\\n]\n",
       "29479                NaN\n",
       "Name: gearbox, Length: 29480, dtype: object"
      ]
     },
     "execution_count": 208,
     "metadata": {},
     "output_type": "execute_result"
    }
   ],
   "source": [
    "df['gearbox']"
   ]
  },
  {
   "cell_type": "code",
   "execution_count": 209,
   "metadata": {
    "ExecuteTime": {
     "end_time": "2023-03-13T13:37:11.973343Z",
     "start_time": "2023-03-13T13:37:11.871240Z"
    }
   },
   "outputs": [
    {
     "data": {
      "text/plain": [
       "[\\nManual\\n]            17023\n",
       "[\\nAutomatic\\n]         11287\n",
       "NaN                      1098\n",
       "[\\nSemi-automatic\\n]       72\n",
       "Name: gearbox, dtype: int64"
      ]
     },
     "execution_count": 209,
     "metadata": {},
     "output_type": "execute_result"
    }
   ],
   "source": [
    "df['gearbox'].value_counts(dropna=False)"
   ]
  },
  {
   "cell_type": "code",
   "execution_count": 210,
   "metadata": {
    "ExecuteTime": {
     "end_time": "2023-03-13T13:37:12.161334Z",
     "start_time": "2023-03-13T13:37:12.044549Z"
    }
   },
   "outputs": [],
   "source": [
    "df[\"gearbox\"] = df['gearbox'].str[0].str.strip('\\n')\n"
   ]
  },
  {
   "cell_type": "code",
   "execution_count": 211,
   "metadata": {
    "ExecuteTime": {
     "end_time": "2023-03-13T13:37:12.177140Z",
     "start_time": "2023-03-13T13:37:12.165880Z"
    }
   },
   "outputs": [
    {
     "data": {
      "text/plain": [
       "0           Manual\n",
       "1        Automatic\n",
       "2        Automatic\n",
       "3        Automatic\n",
       "4        Automatic\n",
       "           ...    \n",
       "29475    Automatic\n",
       "29476       Manual\n",
       "29477    Automatic\n",
       "29478    Automatic\n",
       "29479          NaN\n",
       "Name: gearbox, Length: 29480, dtype: object"
      ]
     },
     "execution_count": 211,
     "metadata": {},
     "output_type": "execute_result"
    }
   ],
   "source": [
    "df['gearbox']"
   ]
  },
  {
   "cell_type": "code",
   "execution_count": 212,
   "metadata": {
    "ExecuteTime": {
     "end_time": "2023-03-13T13:37:12.269164Z",
     "start_time": "2023-03-13T13:37:12.255398Z"
    }
   },
   "outputs": [
    {
     "data": {
      "text/plain": [
       "Manual            17023\n",
       "Automatic         11287\n",
       "NaN                1098\n",
       "Semi-automatic       72\n",
       "Name: gearbox, dtype: int64"
      ]
     },
     "execution_count": 212,
     "metadata": {},
     "output_type": "execute_result"
    }
   ],
   "source": [
    "df['gearbox'].value_counts(dropna=False)"
   ]
  },
  {
   "cell_type": "markdown",
   "metadata": {},
   "source": [
    "1.11 FUEL TYPE"
   ]
  },
  {
   "cell_type": "code",
   "execution_count": 213,
   "metadata": {
    "ExecuteTime": {
     "end_time": "2023-03-13T13:37:12.627138Z",
     "start_time": "2023-03-13T13:37:12.608664Z"
    }
   },
   "outputs": [
    {
     "data": {
      "text/plain": [
       "0                          Diesel\n",
       "1                        Electric\n",
       "2                        Gasoline\n",
       "3                        Gasoline\n",
       "4                          Diesel\n",
       "                   ...           \n",
       "29475                    Gasoline\n",
       "29476    Diesel (Particle filter)\n",
       "29477                    Gasoline\n",
       "29478                    Super 95\n",
       "29479                         NaN\n",
       "Name: fuel_type, Length: 29480, dtype: object"
      ]
     },
     "execution_count": 213,
     "metadata": {},
     "output_type": "execute_result"
    }
   ],
   "source": [
    "df['fuel_type']"
   ]
  },
  {
   "cell_type": "code",
   "execution_count": 214,
   "metadata": {
    "ExecuteTime": {
     "end_time": "2023-03-13T13:37:12.797900Z",
     "start_time": "2023-03-13T13:37:12.700046Z"
    }
   },
   "outputs": [
    {
     "data": {
      "text/plain": [
       "0                          Diesel\n",
       "1                        Electric\n",
       "2                        Gasoline\n",
       "3                        Gasoline\n",
       "4                          Diesel\n",
       "                   ...           \n",
       "29475                    Gasoline\n",
       "29476    Diesel (Particle filter)\n",
       "29477                    Gasoline\n",
       "29478                    Super 95\n",
       "29479                         NaN\n",
       "Name: fuel_type, Length: 29480, dtype: object"
      ]
     },
     "execution_count": 214,
     "metadata": {},
     "output_type": "execute_result"
    }
   ],
   "source": [
    "df.fuel_type.str.split(\"/\").str[0].str.strip()"
   ]
  },
  {
   "cell_type": "code",
   "execution_count": 215,
   "metadata": {
    "ExecuteTime": {
     "end_time": "2023-03-13T13:37:13.525459Z",
     "start_time": "2023-03-13T13:37:12.801934Z"
    }
   },
   "outputs": [],
   "source": [
    "df['fuel_type']=df.fuel_type.str.split(\"/\").str[0].str.strip()"
   ]
  },
  {
   "cell_type": "code",
   "execution_count": 216,
   "metadata": {
    "ExecuteTime": {
     "end_time": "2023-03-13T13:37:13.647918Z",
     "start_time": "2023-03-13T13:37:13.528461Z"
    }
   },
   "outputs": [
    {
     "data": {
      "text/plain": [
       "0          Diesel\n",
       "1        Electric\n",
       "2        Gasoline\n",
       "3        Gasoline\n",
       "4          Diesel\n",
       "           ...   \n",
       "29475    Gasoline\n",
       "29476      Diesel\n",
       "29477    Gasoline\n",
       "29478    Super 95\n",
       "29479         NaN\n",
       "Name: fuel_type, Length: 29480, dtype: object"
      ]
     },
     "execution_count": 216,
     "metadata": {},
     "output_type": "execute_result"
    }
   ],
   "source": [
    "df.fuel_type.str.split(\"(\").str[0].str.strip()"
   ]
  },
  {
   "cell_type": "code",
   "execution_count": 217,
   "metadata": {
    "ExecuteTime": {
     "end_time": "2023-03-13T13:37:13.754031Z",
     "start_time": "2023-03-13T13:37:13.651344Z"
    }
   },
   "outputs": [],
   "source": [
    "df['fuel_type']=df.fuel_type.str.split(\"(\").str[0].str.strip()"
   ]
  },
  {
   "cell_type": "code",
   "execution_count": null,
   "metadata": {},
   "outputs": [],
   "source": []
  },
  {
   "cell_type": "code",
   "execution_count": 218,
   "metadata": {
    "ExecuteTime": {
     "end_time": "2023-03-13T13:37:13.785094Z",
     "start_time": "2023-03-13T13:37:13.758035Z"
    }
   },
   "outputs": [],
   "source": [
    "benzine = [\"Gasoline\", \"Super 95\", \"Regular\", \"Super E10 95\", \"Super Plus 98\", \"Super Plus E10 98\", \"Others\"]\n",
    "petroleum_gas = [\"Liquid petroleum gas\", \"CNG\", \"LPG\", \"Domestic gas H\", \"Domestic gas L\", \"Biogas\", \"Hydrogen\", \"Ethanol\"]\n",
    "\n",
    "def fueltype(x):\n",
    "    if x in benzine:\n",
    "        return \"Benzine\"\n",
    "    elif x in petroleum_gas:\n",
    "        return \"Liquid/Natural Gas\"\n",
    "    else:\n",
    "        return x\n",
    "\n",
    "df[\"fuel_type\"] = df[\"fuel_type\"].apply(fueltype)"
   ]
  },
  {
   "cell_type": "code",
   "execution_count": 219,
   "metadata": {
    "ExecuteTime": {
     "end_time": "2023-03-13T13:37:13.801045Z",
     "start_time": "2023-03-13T13:37:13.787097Z"
    }
   },
   "outputs": [
    {
     "data": {
      "text/plain": [
       "Benzine               17546\n",
       "Diesel                 8727\n",
       "NaN                    2637\n",
       "Liquid/Natural Gas      382\n",
       "Electric                188\n",
       "Name: fuel_type, dtype: int64"
      ]
     },
     "execution_count": 219,
     "metadata": {},
     "output_type": "execute_result"
    }
   ],
   "source": [
    "df[\"fuel_type\"].value_counts(dropna=False)"
   ]
  },
  {
   "cell_type": "markdown",
   "metadata": {},
   "source": [
    "1.12 COLOUR"
   ]
  },
  {
   "cell_type": "code",
   "execution_count": 220,
   "metadata": {
    "ExecuteTime": {
     "end_time": "2023-03-13T13:37:13.816396Z",
     "start_time": "2023-03-13T13:37:13.803418Z"
    }
   },
   "outputs": [
    {
     "data": {
      "text/plain": [
       "0         Black\n",
       "1           NaN\n",
       "2          Grey\n",
       "3        Yellow\n",
       "4         White\n",
       "          ...  \n",
       "29475      Grey\n",
       "29476      Grey\n",
       "29477      Blue\n",
       "29478      Grey\n",
       "29479       NaN\n",
       "Name: colour, Length: 29480, dtype: object"
      ]
     },
     "execution_count": 220,
     "metadata": {},
     "output_type": "execute_result"
    }
   ],
   "source": [
    "df['colour']"
   ]
  },
  {
   "cell_type": "code",
   "execution_count": 221,
   "metadata": {
    "ExecuteTime": {
     "end_time": "2023-03-13T13:37:13.847343Z",
     "start_time": "2023-03-13T13:37:13.818542Z"
    }
   },
   "outputs": [
    {
     "data": {
      "text/plain": [
       "Black     6473\n",
       "Grey      5998\n",
       "White     5185\n",
       "Blue      3478\n",
       "NaN       2574\n",
       "Red       2242\n",
       "Silver    1622\n",
       "Green      450\n",
       "Brown      437\n",
       "Orange     288\n",
       "Beige      278\n",
       "Yellow     230\n",
       "Violet      98\n",
       "Bronze      65\n",
       "Gold        62\n",
       "Name: colour, dtype: int64"
      ]
     },
     "execution_count": 221,
     "metadata": {},
     "output_type": "execute_result"
    }
   ],
   "source": [
    "df['colour'].value_counts(dropna=False)"
   ]
  },
  {
   "cell_type": "markdown",
   "metadata": {},
   "source": [
    "1.13 PAINT"
   ]
  },
  {
   "cell_type": "code",
   "execution_count": 222,
   "metadata": {
    "ExecuteTime": {
     "end_time": "2023-03-13T13:37:14.049441Z",
     "start_time": "2023-03-13T13:37:14.035500Z"
    }
   },
   "outputs": [
    {
     "data": {
      "text/plain": [
       "0        Metallic\n",
       "1             NaN\n",
       "2             NaN\n",
       "3             NaN\n",
       "4        Metallic\n",
       "           ...   \n",
       "29475         NaN\n",
       "29476    Metallic\n",
       "29477    Metallic\n",
       "29478         NaN\n",
       "29479         NaN\n",
       "Name: paint, Length: 29480, dtype: object"
      ]
     },
     "execution_count": 222,
     "metadata": {},
     "output_type": "execute_result"
    }
   ],
   "source": [
    "df['paint']"
   ]
  },
  {
   "cell_type": "code",
   "execution_count": 223,
   "metadata": {
    "ExecuteTime": {
     "end_time": "2023-03-13T13:37:14.127233Z",
     "start_time": "2023-03-13T13:37:14.111175Z"
    }
   },
   "outputs": [
    {
     "data": {
      "text/plain": [
       "NaN          14985\n",
       "Metallic     14494\n",
       "Uni/basic        1\n",
       "Name: paint, dtype: int64"
      ]
     },
     "execution_count": 223,
     "metadata": {},
     "output_type": "execute_result"
    }
   ],
   "source": [
    "df['paint'].value_counts(dropna=False)"
   ]
  },
  {
   "cell_type": "markdown",
   "metadata": {},
   "source": [
    "1,14 SELLER"
   ]
  },
  {
   "cell_type": "code",
   "execution_count": 224,
   "metadata": {
    "ExecuteTime": {
     "end_time": "2023-03-13T13:37:14.392291Z",
     "start_time": "2023-03-13T13:37:14.373409Z"
    }
   },
   "outputs": [
    {
     "data": {
      "text/plain": [
       "0        Dealer\n",
       "1        Dealer\n",
       "2        Dealer\n",
       "3        Dealer\n",
       "4        Dealer\n",
       "          ...  \n",
       "29475    Dealer\n",
       "29476    Dealer\n",
       "29477    Dealer\n",
       "29478    Dealer\n",
       "29479       NaN\n",
       "Name: seller, Length: 29480, dtype: object"
      ]
     },
     "execution_count": 224,
     "metadata": {},
     "output_type": "execute_result"
    }
   ],
   "source": [
    "df['seller']"
   ]
  },
  {
   "cell_type": "code",
   "execution_count": 225,
   "metadata": {
    "ExecuteTime": {
     "end_time": "2023-03-13T13:37:14.470051Z",
     "start_time": "2023-03-13T13:37:14.449835Z"
    }
   },
   "outputs": [
    {
     "data": {
      "text/plain": [
       "Dealer            26318\n",
       "Private seller     2312\n",
       "NaN                 850\n",
       "Name: seller, dtype: int64"
      ]
     },
     "execution_count": 225,
     "metadata": {},
     "output_type": "execute_result"
    }
   ],
   "source": [
    "df['seller'].value_counts(dropna=False)"
   ]
  },
  {
   "cell_type": "code",
   "execution_count": 226,
   "metadata": {
    "ExecuteTime": {
     "end_time": "2023-03-13T13:37:14.563260Z",
     "start_time": "2023-03-13T13:37:14.528117Z"
    },
    "scrolled": true
   },
   "outputs": [
    {
     "data": {
      "text/html": [
       "<div>\n",
       "<style scoped>\n",
       "    .dataframe tbody tr th:only-of-type {\n",
       "        vertical-align: middle;\n",
       "    }\n",
       "\n",
       "    .dataframe tbody tr th {\n",
       "        vertical-align: top;\n",
       "    }\n",
       "\n",
       "    .dataframe thead th {\n",
       "        text-align: right;\n",
       "    }\n",
       "</style>\n",
       "<table border=\"1\" class=\"dataframe\">\n",
       "  <thead>\n",
       "    <tr style=\"text-align: right;\">\n",
       "      <th></th>\n",
       "      <th>make_model</th>\n",
       "      <th>location</th>\n",
       "      <th>price</th>\n",
       "      <th>body_type</th>\n",
       "      <th>doors</th>\n",
       "      <th>country_version</th>\n",
       "      <th>warranty</th>\n",
       "      <th>mileage</th>\n",
       "      <th>gearbox</th>\n",
       "      <th>fuel_type</th>\n",
       "      <th>colour</th>\n",
       "      <th>paint</th>\n",
       "      <th>seller</th>\n",
       "      <th>seats</th>\n",
       "      <th>power</th>\n",
       "      <th>engine_size</th>\n",
       "      <th>gears</th>\n",
       "      <th>co₂_emissions</th>\n",
       "      <th>manufacturer_colour</th>\n",
       "      <th>drivetrain</th>\n",
       "      <th>cylinders</th>\n",
       "      <th>fuel_consumption</th>\n",
       "      <th>comfort_convenience</th>\n",
       "      <th>entertainment_media</th>\n",
       "      <th>safety_security</th>\n",
       "      <th>extras</th>\n",
       "      <th>empty_weight</th>\n",
       "      <th>general_inspection</th>\n",
       "      <th>full_service_history</th>\n",
       "      <th>non_smoker_vehicle</th>\n",
       "      <th>emission_class</th>\n",
       "      <th>emissions_sticker</th>\n",
       "      <th>upholstery_colour</th>\n",
       "      <th>upholstery</th>\n",
       "      <th>production_date</th>\n",
       "      <th>previous_owner</th>\n",
       "      <th>energy_efficiency_class</th>\n",
       "      <th>age</th>\n",
       "    </tr>\n",
       "  </thead>\n",
       "  <tbody>\n",
       "    <tr>\n",
       "      <th>0</th>\n",
       "      <td>Mercedes-Benz A 160</td>\n",
       "      <td>ES</td>\n",
       "      <td>16950.00</td>\n",
       "      <td>Compact</td>\n",
       "      <td>5</td>\n",
       "      <td>Spain</td>\n",
       "      <td>24.00</td>\n",
       "      <td>120200.00</td>\n",
       "      <td>Manual</td>\n",
       "      <td>Diesel</td>\n",
       "      <td>Black</td>\n",
       "      <td>Metallic</td>\n",
       "      <td>Dealer</td>\n",
       "      <td>NaN</td>\n",
       "      <td>NaN</td>\n",
       "      <td>NaN</td>\n",
       "      <td>NaN</td>\n",
       "      <td>NaN</td>\n",
       "      <td>NaN</td>\n",
       "      <td>NaN</td>\n",
       "      <td>NaN</td>\n",
       "      <td>NaN</td>\n",
       "      <td>NaN</td>\n",
       "      <td>NaN</td>\n",
       "      <td>NaN</td>\n",
       "      <td>NaN</td>\n",
       "      <td>NaN</td>\n",
       "      <td>NaN</td>\n",
       "      <td>NaN</td>\n",
       "      <td>NaN</td>\n",
       "      <td>NaN</td>\n",
       "      <td>NaN</td>\n",
       "      <td>NaN</td>\n",
       "      <td>NaN</td>\n",
       "      <td>NaN</td>\n",
       "      <td>NaN</td>\n",
       "      <td>NaN</td>\n",
       "      <td>6.00</td>\n",
       "    </tr>\n",
       "    <tr>\n",
       "      <th>1</th>\n",
       "      <td>Mercedes-Benz EQE 350</td>\n",
       "      <td>ES</td>\n",
       "      <td>80900.00</td>\n",
       "      <td>Compact</td>\n",
       "      <td>4</td>\n",
       "      <td>Spain</td>\n",
       "      <td>24.00</td>\n",
       "      <td>5000.00</td>\n",
       "      <td>Automatic</td>\n",
       "      <td>Electric</td>\n",
       "      <td>NaN</td>\n",
       "      <td>NaN</td>\n",
       "      <td>Dealer</td>\n",
       "      <td>[\\n, 5, \\n]</td>\n",
       "      <td>[\\n215 kW (292 hp)\\n]</td>\n",
       "      <td>[\\n1 cc\\n]</td>\n",
       "      <td>[\\n9\\n]</td>\n",
       "      <td>0 g/km (comb.)</td>\n",
       "      <td>Negro Obsidiana</td>\n",
       "      <td>NaN</td>\n",
       "      <td>NaN</td>\n",
       "      <td>NaN</td>\n",
       "      <td>NaN</td>\n",
       "      <td>NaN</td>\n",
       "      <td>NaN</td>\n",
       "      <td>NaN</td>\n",
       "      <td>NaN</td>\n",
       "      <td>NaN</td>\n",
       "      <td>NaN</td>\n",
       "      <td>NaN</td>\n",
       "      <td>NaN</td>\n",
       "      <td>NaN</td>\n",
       "      <td>NaN</td>\n",
       "      <td>NaN</td>\n",
       "      <td>NaN</td>\n",
       "      <td>NaN</td>\n",
       "      <td>NaN</td>\n",
       "      <td>0.00</td>\n",
       "    </tr>\n",
       "    <tr>\n",
       "      <th>2</th>\n",
       "      <td>Mercedes-Benz A 45 AMG</td>\n",
       "      <td>ES</td>\n",
       "      <td>69900.00</td>\n",
       "      <td>Compact</td>\n",
       "      <td>5</td>\n",
       "      <td>Spain</td>\n",
       "      <td>12.00</td>\n",
       "      <td>18900.00</td>\n",
       "      <td>Automatic</td>\n",
       "      <td>Benzine</td>\n",
       "      <td>Grey</td>\n",
       "      <td>NaN</td>\n",
       "      <td>Dealer</td>\n",
       "      <td>[\\n, 5, \\n]</td>\n",
       "      <td>[\\n310 kW (421 hp)\\n]</td>\n",
       "      <td>[\\n1,991 cc\\n]</td>\n",
       "      <td>[\\n8\\n]</td>\n",
       "      <td>NaN</td>\n",
       "      <td>Mountaingrau magno</td>\n",
       "      <td>[\\n, 4WD, \\n]</td>\n",
       "      <td>[\\n4\\n]</td>\n",
       "      <td>[[8.4 l/100 km (comb.)], [10.9 l/100 km (city)...</td>\n",
       "      <td>NaN</td>\n",
       "      <td>NaN</td>\n",
       "      <td>NaN</td>\n",
       "      <td>NaN</td>\n",
       "      <td>NaN</td>\n",
       "      <td>NaN</td>\n",
       "      <td>NaN</td>\n",
       "      <td>NaN</td>\n",
       "      <td>NaN</td>\n",
       "      <td>NaN</td>\n",
       "      <td>NaN</td>\n",
       "      <td>NaN</td>\n",
       "      <td>NaN</td>\n",
       "      <td>NaN</td>\n",
       "      <td>NaN</td>\n",
       "      <td>2.00</td>\n",
       "    </tr>\n",
       "    <tr>\n",
       "      <th>3</th>\n",
       "      <td>Mercedes-Benz A 35 AMG</td>\n",
       "      <td>ES</td>\n",
       "      <td>46990.00</td>\n",
       "      <td>Compact</td>\n",
       "      <td>5</td>\n",
       "      <td>Spain</td>\n",
       "      <td>12.00</td>\n",
       "      <td>18995.00</td>\n",
       "      <td>Automatic</td>\n",
       "      <td>Benzine</td>\n",
       "      <td>Yellow</td>\n",
       "      <td>NaN</td>\n",
       "      <td>Dealer</td>\n",
       "      <td>[\\n, 5, \\n]</td>\n",
       "      <td>[\\n225 kW (306 hp)\\n]</td>\n",
       "      <td>[\\n1,991 cc\\n]</td>\n",
       "      <td>[\\n7\\n]</td>\n",
       "      <td>NaN</td>\n",
       "      <td>Amarillo Sol</td>\n",
       "      <td>[\\n, 4WD, \\n]</td>\n",
       "      <td>[\\n4\\n]</td>\n",
       "      <td>[[7.3 l/100 km (comb.)], [9.3 l/100 km (city)]...</td>\n",
       "      <td>[Air conditioning, Automatic climate control, ...</td>\n",
       "      <td>[USB]</td>\n",
       "      <td>[ABS, Central door lock, Driver-side airbag, E...</td>\n",
       "      <td>[Sport seats]</td>\n",
       "      <td>NaN</td>\n",
       "      <td>NaN</td>\n",
       "      <td>NaN</td>\n",
       "      <td>NaN</td>\n",
       "      <td>NaN</td>\n",
       "      <td>NaN</td>\n",
       "      <td>NaN</td>\n",
       "      <td>NaN</td>\n",
       "      <td>NaN</td>\n",
       "      <td>NaN</td>\n",
       "      <td>NaN</td>\n",
       "      <td>2.00</td>\n",
       "    </tr>\n",
       "    <tr>\n",
       "      <th>4</th>\n",
       "      <td>Mercedes-Benz A 45 AMG</td>\n",
       "      <td>ES</td>\n",
       "      <td>16800.00</td>\n",
       "      <td>Compact</td>\n",
       "      <td>5</td>\n",
       "      <td>Spain</td>\n",
       "      <td>12.00</td>\n",
       "      <td>197000.00</td>\n",
       "      <td>Automatic</td>\n",
       "      <td>Diesel</td>\n",
       "      <td>White</td>\n",
       "      <td>Metallic</td>\n",
       "      <td>Dealer</td>\n",
       "      <td>[\\n, 5, \\n]</td>\n",
       "      <td>[\\n100 kW (136 hp)\\n]</td>\n",
       "      <td>[\\n2,143 cc\\n]</td>\n",
       "      <td>[\\n7\\n]</td>\n",
       "      <td>NaN</td>\n",
       "      <td>NaN</td>\n",
       "      <td>[\\n, 4WD, \\n]</td>\n",
       "      <td>[\\n4\\n]</td>\n",
       "      <td>[[4.9 l/100 km (comb.)], [5.7 l/100 km (city)]...</td>\n",
       "      <td>[Air conditioning, Electrical side mirrors, Mu...</td>\n",
       "      <td>[Bluetooth, CD player, MP3, USB]</td>\n",
       "      <td>[ABS, Central door lock, Driver-side airbag, E...</td>\n",
       "      <td>NaN</td>\n",
       "      <td>[\\n1,545 kg\\n]</td>\n",
       "      <td>NaN</td>\n",
       "      <td>NaN</td>\n",
       "      <td>NaN</td>\n",
       "      <td>NaN</td>\n",
       "      <td>NaN</td>\n",
       "      <td>NaN</td>\n",
       "      <td>NaN</td>\n",
       "      <td>NaN</td>\n",
       "      <td>NaN</td>\n",
       "      <td>NaN</td>\n",
       "      <td>7.00</td>\n",
       "    </tr>\n",
       "  </tbody>\n",
       "</table>\n",
       "</div>"
      ],
      "text/plain": [
       "               make_model location    price body_type doors country_version  \\\n",
       "0     Mercedes-Benz A 160       ES 16950.00   Compact     5           Spain   \n",
       "1   Mercedes-Benz EQE 350       ES 80900.00   Compact     4           Spain   \n",
       "2  Mercedes-Benz A 45 AMG       ES 69900.00   Compact     5           Spain   \n",
       "3  Mercedes-Benz A 35 AMG       ES 46990.00   Compact     5           Spain   \n",
       "4  Mercedes-Benz A 45 AMG       ES 16800.00   Compact     5           Spain   \n",
       "\n",
       "   warranty   mileage    gearbox fuel_type  colour     paint  seller  \\\n",
       "0     24.00 120200.00     Manual    Diesel   Black  Metallic  Dealer   \n",
       "1     24.00   5000.00  Automatic  Electric     NaN       NaN  Dealer   \n",
       "2     12.00  18900.00  Automatic   Benzine    Grey       NaN  Dealer   \n",
       "3     12.00  18995.00  Automatic   Benzine  Yellow       NaN  Dealer   \n",
       "4     12.00 197000.00  Automatic    Diesel   White  Metallic  Dealer   \n",
       "\n",
       "         seats                  power     engine_size    gears  \\\n",
       "0          NaN                    NaN             NaN      NaN   \n",
       "1  [\\n, 5, \\n]  [\\n215 kW (292 hp)\\n]      [\\n1 cc\\n]  [\\n9\\n]   \n",
       "2  [\\n, 5, \\n]  [\\n310 kW (421 hp)\\n]  [\\n1,991 cc\\n]  [\\n8\\n]   \n",
       "3  [\\n, 5, \\n]  [\\n225 kW (306 hp)\\n]  [\\n1,991 cc\\n]  [\\n7\\n]   \n",
       "4  [\\n, 5, \\n]  [\\n100 kW (136 hp)\\n]  [\\n2,143 cc\\n]  [\\n7\\n]   \n",
       "\n",
       "    co₂_emissions manufacturer_colour     drivetrain cylinders  \\\n",
       "0             NaN                 NaN            NaN       NaN   \n",
       "1  0 g/km (comb.)     Negro Obsidiana            NaN       NaN   \n",
       "2             NaN  Mountaingrau magno  [\\n, 4WD, \\n]   [\\n4\\n]   \n",
       "3             NaN        Amarillo Sol  [\\n, 4WD, \\n]   [\\n4\\n]   \n",
       "4             NaN                 NaN  [\\n, 4WD, \\n]   [\\n4\\n]   \n",
       "\n",
       "                                    fuel_consumption  \\\n",
       "0                                                NaN   \n",
       "1                                                NaN   \n",
       "2  [[8.4 l/100 km (comb.)], [10.9 l/100 km (city)...   \n",
       "3  [[7.3 l/100 km (comb.)], [9.3 l/100 km (city)]...   \n",
       "4  [[4.9 l/100 km (comb.)], [5.7 l/100 km (city)]...   \n",
       "\n",
       "                                 comfort_convenience  \\\n",
       "0                                                NaN   \n",
       "1                                                NaN   \n",
       "2                                                NaN   \n",
       "3  [Air conditioning, Automatic climate control, ...   \n",
       "4  [Air conditioning, Electrical side mirrors, Mu...   \n",
       "\n",
       "                entertainment_media  \\\n",
       "0                               NaN   \n",
       "1                               NaN   \n",
       "2                               NaN   \n",
       "3                             [USB]   \n",
       "4  [Bluetooth, CD player, MP3, USB]   \n",
       "\n",
       "                                     safety_security         extras  \\\n",
       "0                                                NaN            NaN   \n",
       "1                                                NaN            NaN   \n",
       "2                                                NaN            NaN   \n",
       "3  [ABS, Central door lock, Driver-side airbag, E...  [Sport seats]   \n",
       "4  [ABS, Central door lock, Driver-side airbag, E...            NaN   \n",
       "\n",
       "     empty_weight general_inspection full_service_history non_smoker_vehicle  \\\n",
       "0             NaN                NaN                  NaN                NaN   \n",
       "1             NaN                NaN                  NaN                NaN   \n",
       "2             NaN                NaN                  NaN                NaN   \n",
       "3             NaN                NaN                  NaN                NaN   \n",
       "4  [\\n1,545 kg\\n]                NaN                  NaN                NaN   \n",
       "\n",
       "  emission_class emissions_sticker upholstery_colour upholstery  \\\n",
       "0            NaN               NaN               NaN        NaN   \n",
       "1            NaN               NaN               NaN        NaN   \n",
       "2            NaN               NaN               NaN        NaN   \n",
       "3            NaN               NaN               NaN        NaN   \n",
       "4            NaN               NaN               NaN        NaN   \n",
       "\n",
       "   production_date previous_owner energy_efficiency_class  age  \n",
       "0              NaN            NaN                     NaN 6.00  \n",
       "1              NaN            NaN                     NaN 0.00  \n",
       "2              NaN            NaN                     NaN 2.00  \n",
       "3              NaN            NaN                     NaN 2.00  \n",
       "4              NaN            NaN                     NaN 7.00  "
      ]
     },
     "execution_count": 226,
     "metadata": {},
     "output_type": "execute_result"
    }
   ],
   "source": [
    "df.head()"
   ]
  },
  {
   "cell_type": "markdown",
   "metadata": {},
   "source": [
    "1.15 SEATS"
   ]
  },
  {
   "cell_type": "code",
   "execution_count": 227,
   "metadata": {
    "ExecuteTime": {
     "end_time": "2023-03-13T13:37:14.839304Z",
     "start_time": "2023-03-13T13:37:14.816551Z"
    }
   },
   "outputs": [
    {
     "data": {
      "text/plain": [
       "[\\n, 5, \\n]     18308\n",
       "[\\n, 4, \\n]      5390\n",
       "[\\n, 2, \\n]      1186\n",
       "[\\n, 7, \\n]       488\n",
       "[\\n, 8, \\n]        43\n",
       "[\\n, 9, \\n]        35\n",
       "[\\n, 3, \\n]        25\n",
       "[\\n, 6, \\n]        12\n",
       "[\\n, 0, \\n]         9\n",
       "[\\n, 1, \\n]         7\n",
       "[\\n, 17, \\n]        2\n",
       "Name: seats, dtype: int64"
      ]
     },
     "execution_count": 227,
     "metadata": {},
     "output_type": "execute_result"
    }
   ],
   "source": [
    "df['seats'].value_counts()"
   ]
  },
  {
   "cell_type": "code",
   "execution_count": 228,
   "metadata": {
    "ExecuteTime": {
     "end_time": "2023-03-13T13:37:15.149674Z",
     "start_time": "2023-03-13T13:37:14.890414Z"
    }
   },
   "outputs": [
    {
     "data": {
      "text/plain": [
       "5.00     18308\n",
       "4.00      5390\n",
       "2.00      1186\n",
       "7.00       488\n",
       "8.00        43\n",
       "9.00        35\n",
       "3.00        25\n",
       "6.00        12\n",
       "0.00         9\n",
       "1.00         7\n",
       "17.00        2\n",
       "Name: seats, dtype: int64"
      ]
     },
     "execution_count": 228,
     "metadata": {},
     "output_type": "execute_result"
    }
   ],
   "source": [
    "df['seats'] = df['seats'].apply(lambda t: int(str(t).split(',')[1].strip()) if pd.notnull(t) else t)\n",
    "df['seats'].value_counts()"
   ]
  },
  {
   "cell_type": "markdown",
   "metadata": {},
   "source": [
    "1.16 POWER"
   ]
  },
  {
   "cell_type": "code",
   "execution_count": 229,
   "metadata": {
    "ExecuteTime": {
     "end_time": "2023-03-13T13:37:15.321079Z",
     "start_time": "2023-03-13T13:37:15.188174Z"
    }
   },
   "outputs": [
    {
     "data": {
      "text/plain": [
       "[\\n110 kW (150 hp)\\n]      1992\n",
       "[\\n96 kW (131 hp)\\n]       1356\n",
       "[\\n88 kW (120 hp)\\n]       1182\n",
       "[\\n81 kW (110 hp)\\n]       1166\n",
       "[\\n66 kW (90 hp)\\n]        1110\n",
       "                           ... \n",
       "[\\n746 kW (1,014 hp)\\n]       1\n",
       "[\\n570 kW (775 hp)\\n]         1\n",
       "[\\n471 kW (640 hp)\\n]         1\n",
       "[\\n179 kW (243 hp)\\n]         1\n",
       "[\\n26 kW (35 hp)\\n]           1\n",
       "Name: power, Length: 351, dtype: int64"
      ]
     },
     "execution_count": 229,
     "metadata": {},
     "output_type": "execute_result"
    }
   ],
   "source": [
    "df['power'].value_counts()"
   ]
  },
  {
   "cell_type": "code",
   "execution_count": 230,
   "metadata": {
    "ExecuteTime": {
     "end_time": "2023-03-13T13:37:15.678593Z",
     "start_time": "2023-03-13T13:37:15.326607Z"
    }
   },
   "outputs": [
    {
     "data": {
      "text/plain": [
       "110.00    1992\n",
       "96.00     1356\n",
       "88.00     1182\n",
       "81.00     1166\n",
       "66.00     1110\n",
       "          ... \n",
       "746.00       1\n",
       "570.00       1\n",
       "471.00       1\n",
       "179.00       1\n",
       "26.00        1\n",
       "Name: power, Length: 351, dtype: int64"
      ]
     },
     "execution_count": 230,
     "metadata": {},
     "output_type": "execute_result"
    }
   ],
   "source": [
    "df['power'] = df['power'].apply(lambda t: int(re.findall(r'\\d+', str(t))[0]) if pd.notnull(t) else t)\n",
    "df['power'].value_counts()"
   ]
  },
  {
   "cell_type": "markdown",
   "metadata": {},
   "source": [
    "1.17 ENGINE_SIZE"
   ]
  },
  {
   "cell_type": "code",
   "execution_count": 231,
   "metadata": {
    "ExecuteTime": {
     "end_time": "2023-03-13T13:37:15.894722Z",
     "start_time": "2023-03-13T13:37:15.682345Z"
    }
   },
   "outputs": [
    {
     "data": {
      "text/plain": [
       "[\\n1,598 cc\\n]    2099\n",
       "[\\n999 cc\\n]      2068\n",
       "[\\n1,969 cc\\n]    1929\n",
       "[\\n1,461 cc\\n]    1110\n",
       "[\\n1,998 cc\\n]    1000\n",
       "                  ... \n",
       "[\\n2,753 cc\\n]       1\n",
       "[\\n2,495 cc\\n]       1\n",
       "[\\n200 cc\\n]         1\n",
       "[\\n3,224 cc\\n]       1\n",
       "[\\n2,473 cc\\n]       1\n",
       "Name: engine_size, Length: 467, dtype: int64"
      ]
     },
     "execution_count": 231,
     "metadata": {},
     "output_type": "execute_result"
    }
   ],
   "source": [
    "df['engine_size'].value_counts()"
   ]
  },
  {
   "cell_type": "code",
   "execution_count": 232,
   "metadata": {
    "ExecuteTime": {
     "end_time": "2023-03-13T13:37:16.222111Z",
     "start_time": "2023-03-13T13:37:15.898087Z"
    }
   },
   "outputs": [
    {
     "data": {
      "text/plain": [
       "1598.00    2099\n",
       "999.00     2068\n",
       "1969.00    1929\n",
       "1461.00    1110\n",
       "1998.00    1000\n",
       "           ... \n",
       "2753.00       1\n",
       "2495.00       1\n",
       "200.00        1\n",
       "3224.00       1\n",
       "2473.00       1\n",
       "Name: engine_size, Length: 467, dtype: int64"
      ]
     },
     "execution_count": 232,
     "metadata": {},
     "output_type": "execute_result"
    }
   ],
   "source": [
    "df['engine_size']=df['engine_size'].apply(lambda t: t[0].replace(',','') if pd.notnull(t) else t)\n",
    "df['engine_size'] = df['engine_size'].apply(lambda t: int(re.findall(r'\\d+', str(t))[0]) if pd.notnull(t) else t)\n",
    "df['engine_size'].value_counts()"
   ]
  },
  {
   "cell_type": "markdown",
   "metadata": {},
   "source": [
    "1.18 GEARS"
   ]
  },
  {
   "cell_type": "code",
   "execution_count": 233,
   "metadata": {
    "ExecuteTime": {
     "end_time": "2023-03-13T13:37:16.252693Z",
     "start_time": "2023-03-13T13:37:16.224812Z"
    }
   },
   "outputs": [
    {
     "data": {
      "text/plain": [
       "[\\n6\\n]     8412\n",
       "[\\n5\\n]     5335\n",
       "[\\n7\\n]     1738\n",
       "[\\n8\\n]     1690\n",
       "[\\n1\\n]      712\n",
       "[\\n9\\n]      642\n",
       "[\\n4\\n]      256\n",
       "[\\n10\\n]     112\n",
       "[\\n0\\n]       31\n",
       "[\\n3\\n]       24\n",
       "[\\n2\\n]        2\n",
       "Name: gears, dtype: int64"
      ]
     },
     "execution_count": 233,
     "metadata": {},
     "output_type": "execute_result"
    }
   ],
   "source": [
    "df['gears'].value_counts()"
   ]
  },
  {
   "cell_type": "code",
   "execution_count": 234,
   "metadata": {
    "ExecuteTime": {
     "end_time": "2023-03-13T13:37:16.499899Z",
     "start_time": "2023-03-13T13:37:16.255761Z"
    }
   },
   "outputs": [
    {
     "data": {
      "text/plain": [
       "6.00     8412\n",
       "5.00     5335\n",
       "7.00     1738\n",
       "8.00     1690\n",
       "1.00      712\n",
       "9.00      642\n",
       "4.00      256\n",
       "10.00     112\n",
       "0.00       31\n",
       "3.00       24\n",
       "2.00        2\n",
       "Name: gears, dtype: int64"
      ]
     },
     "execution_count": 234,
     "metadata": {},
     "output_type": "execute_result"
    }
   ],
   "source": [
    "df['gears'] = df['gears'].apply(lambda t: int(re.findall(r'\\d+', str(t))[0]) if pd.notnull(t) else t)\n",
    "df['gears'].value_counts()"
   ]
  },
  {
   "cell_type": "markdown",
   "metadata": {},
   "source": [
    "1.19 co₂_emissions"
   ]
  },
  {
   "cell_type": "code",
   "execution_count": 235,
   "metadata": {
    "ExecuteTime": {
     "end_time": "2023-03-13T13:37:16.531454Z",
     "start_time": "2023-03-13T13:37:16.503404Z"
    }
   },
   "outputs": [
    {
     "data": {
      "text/plain": [
       "0 g/km (comb.)       1038\n",
       "119 g/km (comb.)      393\n",
       "124 g/km (comb.)      340\n",
       "129 g/km (comb.)      319\n",
       "114 g/km (comb.)      313\n",
       "                     ... \n",
       "7 g/km (comb.)          1\n",
       "80 g/km (comb.)         1\n",
       "196  g/km (comb.)       1\n",
       "100  g/km (comb.)       1\n",
       "53 g/km (comb.)         1\n",
       "Name: co₂_emissions, Length: 347, dtype: int64"
      ]
     },
     "execution_count": 235,
     "metadata": {},
     "output_type": "execute_result"
    }
   ],
   "source": [
    "df['co₂_emissions'].value_counts()"
   ]
  },
  {
   "cell_type": "code",
   "execution_count": 236,
   "metadata": {
    "ExecuteTime": {
     "end_time": "2023-03-13T13:37:16.625538Z",
     "start_time": "2023-03-13T13:37:16.534044Z"
    }
   },
   "outputs": [
    {
     "data": {
      "text/plain": [
       "0.00      1040\n",
       "119.00     393\n",
       "124.00     340\n",
       "129.00     319\n",
       "114.00     313\n",
       "          ... \n",
       "272.00       1\n",
       "344.00       1\n",
       "342.00       1\n",
       "398.00       1\n",
       "53.00        1\n",
       "Name: co₂_emissions, Length: 326, dtype: int64"
      ]
     },
     "execution_count": 236,
     "metadata": {},
     "output_type": "execute_result"
    }
   ],
   "source": [
    "# The 'CO₂-emissions' column can be dropped later, because there are several other columns showing the similar feature, such as 'Emission class and 'Emisssions sticker'. .\n",
    "\n",
    "df['co₂_emissions'] = df['co₂_emissions'].apply(lambda t: int(re.findall(r'\\d+', str(t))[0]) if pd.notnull(t) else t)\n",
    "df['co₂_emissions'].value_counts()"
   ]
  },
  {
   "cell_type": "markdown",
   "metadata": {},
   "source": [
    "1.20 manufacturer_colour"
   ]
  },
  {
   "cell_type": "code",
   "execution_count": 237,
   "metadata": {
    "ExecuteTime": {
     "end_time": "2023-03-13T13:37:16.811133Z",
     "start_time": "2023-03-13T13:37:16.789039Z"
    }
   },
   "outputs": [
    {
     "data": {
      "text/plain": [
       "Blanco                            1235\n",
       "Gris                               671\n",
       "Azul                               552\n",
       "Negro                              546\n",
       "Rojo                               381\n",
       "                                  ... \n",
       "Colore esterno (snowflake whit       1\n",
       "Pompeigraumetallic                   1\n",
       "Cararragrau                          1\n",
       "ICE WHITE (wit metallic)             1\n",
       "Denim Blue metallic (blauw met       1\n",
       "Name: manufacturer_colour, Length: 4963, dtype: int64"
      ]
     },
     "execution_count": 237,
     "metadata": {},
     "output_type": "execute_result"
    }
   ],
   "source": [
    "# The 'Manufacrurer colour' column can be dropped later, because it has 4963 distinct values with description of colours by manufacturers in different languages. The 'Colour' column can be used instead. It has 14 distinct values already including almost all auto colours.\n",
    "\n",
    "df['manufacturer_colour'].value_counts()"
   ]
  },
  {
   "cell_type": "markdown",
   "metadata": {},
   "source": [
    "1.21 DRIVETRAIN"
   ]
  },
  {
   "cell_type": "code",
   "execution_count": 238,
   "metadata": {
    "ExecuteTime": {
     "end_time": "2023-03-13T13:37:17.107040Z",
     "start_time": "2023-03-13T13:37:17.074991Z"
    }
   },
   "outputs": [
    {
     "data": {
      "text/plain": [
       "[\\n, Front, \\n]    12066\n",
       "[\\n, 4WD, \\n]       3252\n",
       "[\\n, Rear, \\n]      1575\n",
       "Name: drivetrain, dtype: int64"
      ]
     },
     "execution_count": 238,
     "metadata": {},
     "output_type": "execute_result"
    }
   ],
   "source": [
    "df['drivetrain'].value_counts()"
   ]
  },
  {
   "cell_type": "code",
   "execution_count": 239,
   "metadata": {
    "ExecuteTime": {
     "end_time": "2023-03-13T13:37:17.462576Z",
     "start_time": "2023-03-13T13:37:17.224352Z"
    }
   },
   "outputs": [
    {
     "data": {
      "text/plain": [
       "Front    12066\n",
       "4WD       3252\n",
       "Rear      1575\n",
       "Name: drivetrain, dtype: int64"
      ]
     },
     "execution_count": 239,
     "metadata": {},
     "output_type": "execute_result"
    }
   ],
   "source": [
    "df['drivetrain']=df['drivetrain'].apply(lambda t: str(t).split(',')[1].strip() if pd.notnull(t) else t)\n",
    "df['drivetrain'].value_counts()"
   ]
  },
  {
   "cell_type": "markdown",
   "metadata": {},
   "source": [
    "1:22 cylinders"
   ]
  },
  {
   "cell_type": "code",
   "execution_count": 240,
   "metadata": {
    "ExecuteTime": {
     "end_time": "2023-03-13T13:37:17.601746Z",
     "start_time": "2023-03-13T13:37:17.570758Z"
    }
   },
   "outputs": [
    {
     "data": {
      "text/plain": [
       "[\\n4\\n]     13068\n",
       "[\\n3\\n]      3258\n",
       "[\\n6\\n]      1013\n",
       "[\\n5\\n]       799\n",
       "[\\n8\\n]       539\n",
       "[\\n2\\n]       103\n",
       "[\\n0\\n]        35\n",
       "[\\n1\\n]        21\n",
       "[\\n12\\n]        8\n",
       "[\\n7\\n]         6\n",
       "[\\n26\\n]        1\n",
       "[\\n16\\n]        1\n",
       "Name: cylinders, dtype: int64"
      ]
     },
     "execution_count": 240,
     "metadata": {},
     "output_type": "execute_result"
    }
   ],
   "source": [
    "df['cylinders'].value_counts()"
   ]
  },
  {
   "cell_type": "code",
   "execution_count": 241,
   "metadata": {
    "ExecuteTime": {
     "end_time": "2023-03-13T13:37:17.883091Z",
     "start_time": "2023-03-13T13:37:17.642968Z"
    }
   },
   "outputs": [
    {
     "data": {
      "text/plain": [
       "4.00     13068\n",
       "3.00      3258\n",
       "6.00      1013\n",
       "5.00       799\n",
       "8.00       539\n",
       "2.00       103\n",
       "0.00        35\n",
       "1.00        21\n",
       "12.00        8\n",
       "7.00         6\n",
       "26.00        1\n",
       "16.00        1\n",
       "Name: cylinders, dtype: int64"
      ]
     },
     "execution_count": 241,
     "metadata": {},
     "output_type": "execute_result"
    }
   ],
   "source": [
    "df['cylinders'] = df['cylinders'].apply(lambda t: int(re.findall(r'\\d+', str(t))[0]) if pd.notnull(t) else t)\n",
    "df['cylinders'].value_counts()"
   ]
  },
  {
   "cell_type": "markdown",
   "metadata": {
    "ExecuteTime": {
     "end_time": "2023-03-13T13:17:39.816855Z",
     "start_time": "2023-03-13T13:17:39.805644Z"
    }
   },
   "source": [
    "1.23 fuel_consumption"
   ]
  },
  {
   "cell_type": "code",
   "execution_count": 242,
   "metadata": {
    "ExecuteTime": {
     "end_time": "2023-03-13T13:37:32.550344Z",
     "start_time": "2023-03-13T13:37:17.946954Z"
    }
   },
   "outputs": [
    {
     "data": {
      "text/plain": [
       "[[0 l/100 km (comb.)]]                                                         330\n",
       "[[0 l/100 km (comb.)], [0 l/100 km (city)], [0 l/100 km (country)]]            306\n",
       "[[3.4 l/100 km (comb.)], [3.7 l/100 km (city)], [3.2 l/100 km (country)]]      170\n",
       "[[4 l/100 km (comb.)]]                                                         149\n",
       "[[3.9 l/100 km (comb.)]]                                                       133\n",
       "                                                                              ... \n",
       "[[5.2 l/100 km (comb.)], [5.6 l/100 km (city)], [5 l/100 km (country)]]          1\n",
       "[[5 l/100 km (comb.)], [4.4 l/100 km (city)], [3.6 l/100 km (country)]]          1\n",
       "[[5.5 l/100 km (comb.)], [4.8 l/100 km (city)], [3.9 l/100 km (country)]]        1\n",
       "[[4.8 l/100 km (comb.)], [5.5 l/100 km (city)], [4.3 l/100 km (country)]]        1\n",
       "[[10.4 l/100 km (comb.)], [15.3 l/100 km (city)], [7.6 l/100 km (country)]]      1\n",
       "Name: fuel_consumption, Length: 3452, dtype: int64"
      ]
     },
     "execution_count": 242,
     "metadata": {},
     "output_type": "execute_result"
    }
   ],
   "source": [
    "df['fuel_consumption'].value_counts()"
   ]
  },
  {
   "cell_type": "code",
   "execution_count": 243,
   "metadata": {
    "ExecuteTime": {
     "end_time": "2023-03-13T13:37:32.721705Z",
     "start_time": "2023-03-13T13:37:32.554590Z"
    }
   },
   "outputs": [
    {
     "data": {
      "text/plain": [
       "5.00     831\n",
       "4.90     811\n",
       "4.50     690\n",
       "5.10     647\n",
       "0.00     645\n",
       "        ... \n",
       "16.00      1\n",
       "57.00      1\n",
       "61.00      1\n",
       "14.50      1\n",
       "44.00      1\n",
       "Name: fuel_consumption, Length: 160, dtype: int64"
      ]
     },
     "execution_count": 243,
     "metadata": {},
     "output_type": "execute_result"
    }
   ],
   "source": [
    "df['fuel_consumption'] = df['fuel_consumption'].astype('str')\n",
    "df['fuel_consumption'] = df['fuel_consumption'].str.extract('(\\d+.\\d+|\\d+).+com', expand=True).astype(float)\n",
    "df['fuel_consumption'].value_counts()"
   ]
  },
  {
   "cell_type": "markdown",
   "metadata": {},
   "source": [
    "1.24 comfort_convenience"
   ]
  },
  {
   "cell_type": "code",
   "execution_count": 244,
   "metadata": {
    "ExecuteTime": {
     "end_time": "2023-03-13T13:39:51.222530Z",
     "start_time": "2023-03-13T13:37:32.724295Z"
    }
   },
   "outputs": [
    {
     "data": {
      "text/plain": [
       "[Air conditioning, Automatic climate control, Electrical side mirrors, Multi-function steering wheel, Power windows]                                                                                                                                          244\n",
       "[Air conditioning, Automatic climate control, Cruise control]                                                                                                                                                                                                 171\n",
       "[Air conditioning, Automatic climate control, Cruise control, Electrical side mirrors, Multi-function steering wheel, Power windows]                                                                                                                          168\n",
       "[Air conditioning]                                                                                                                                                                                                                                            157\n",
       "[Power windows]                                                                                                                                                                                                                                               150\n",
       "                                                                                                                                                                                                                                                             ... \n",
       "[Air conditioning, Automatic climate control, Multi-function steering wheel, Parking assist system sensors front, Parking assist system sensors rear, Split rear seats]                                                                                         1\n",
       "[Air conditioning, Electrical side mirrors, Leather steering wheel, Power windows, Seat heating, Tinted windows, Wind deflector]                                                                                                                                1\n",
       "[Air conditioning, Electrical side mirrors, Hill Holder, Power windows, Tinted windows]                                                                                                                                                                         1\n",
       "[Air conditioning, Automatic climate control, Electrical side mirrors, Leather steering wheel, Light sensor, Multi-function steering wheel, Parking assist system camera, Power windows, Rain sensor, Split rear seats, Start-stop system, Tinted windows]      1\n",
       "[Air conditioning, Armrest, Cruise control, Electrical side mirrors, Leather steering wheel, Lumbar support, Multi-function steering wheel, Navigation system, Power windows, Seat heating, Tinted windows]                                                     1\n",
       "Name: comfort_convenience, Length: 14438, dtype: int64"
      ]
     },
     "execution_count": 244,
     "metadata": {},
     "output_type": "execute_result"
    }
   ],
   "source": [
    "#???\n",
    "df['comfort_convenience'].value_counts()"
   ]
  },
  {
   "cell_type": "code",
   "execution_count": 245,
   "metadata": {
    "ExecuteTime": {
     "end_time": "2023-03-13T13:39:51.284200Z",
     "start_time": "2023-03-13T13:39:51.224880Z"
    }
   },
   "outputs": [],
   "source": [
    "df[\"comfort_convenience\"] = [\",\".join(item) if type(item) == list else item for item in df[\"comfort_convenience\"]]"
   ]
  },
  {
   "cell_type": "code",
   "execution_count": 246,
   "metadata": {
    "ExecuteTime": {
     "end_time": "2023-03-13T13:39:51.331249Z",
     "start_time": "2023-03-13T13:39:51.286205Z"
    }
   },
   "outputs": [
    {
     "data": {
      "text/plain": [
       "NaN                                                                                                                                                                                                                                                                                                                                                                                                            4047\n",
       "Air conditioning, Automatic climate control, Electrical side mirrors, Multi-function steering wheel, Power windows                                                                                                                                                                                                                                                                                              244\n",
       "Air conditioning, Automatic climate control, Cruise control                                                                                                                                                                                                                                                                                                                                                     171\n",
       "Air conditioning, Automatic climate control, Cruise control, Electrical side mirrors, Multi-function steering wheel, Power windows                                                                                                                                                                                                                                                                              168\n",
       "Air conditioning                                                                                                                                                                                                                                                                                                                                                                                                157\n",
       "                                                                                                                                                                                                                                                                                                                                                                                                               ... \n",
       "Armrest, Automatic climate control, 2 zones, Cruise control, Fold flat passenger seat, Hill Holder, Leather steering wheel, Light sensor, Lumbar support, Multi-function steering wheel, Navigation system, Parking assist system sensors rear, Power windows, Rain sensor, Seat heating, Split rear seats, Start-stop system                                                                                     1\n",
       "Air conditioning, Armrest, Automatic climate control, Cruise control, Electric tailgate, Electrical side mirrors, Hill Holder, Keyless central door lock, Leather steering wheel, Light sensor, Multi-function steering wheel, Navigation system, Parking assist system sensors front, Parking assist system sensors rear, Power windows, Rain sensor, Seat heating                                               1\n",
       "Armrest, Automatic climate control, 2 zones, Cruise control, Electrical side mirrors, Fold flat passenger seat, Hill Holder, Leather steering wheel, Light sensor, Lumbar support, Multi-function steering wheel, Navigation system, Parking assist system sensors front, Parking assist system sensors rear, Power windows, Rain sensor, Seat heating, Split rear seats, Start-stop system, Tinted windows       1\n",
       "Armrest, Automatic climate control, 2 zones, Cruise control, Electrical side mirrors, Hill Holder, Keyless central door lock, Leather steering wheel, Light sensor, Multi-function steering wheel, Parking assist system camera, Parking assist system sensors front, Parking assist system sensors rear, Power windows, Rain sensor, Seat heating, Split rear seats, Start-stop system, Tinted windows           1\n",
       "Air conditioning, Armrest, Cruise control, Electrical side mirrors, Leather steering wheel, Lumbar support, Multi-function steering wheel, Navigation system, Power windows, Seat heating, Tinted windows                                                                                                                                                                                                         1\n",
       "Name: comfort_convenience, Length: 14439, dtype: int64"
      ]
     },
     "execution_count": 246,
     "metadata": {},
     "output_type": "execute_result"
    }
   ],
   "source": [
    "df[\"comfort_convenience\"].value_counts(dropna=False)"
   ]
  },
  {
   "cell_type": "markdown",
   "metadata": {},
   "source": [
    "1.25 entertainment_media"
   ]
  },
  {
   "cell_type": "code",
   "execution_count": 247,
   "metadata": {
    "ExecuteTime": {
     "end_time": "2023-03-13T13:39:52.313237Z",
     "start_time": "2023-03-13T13:39:51.333354Z"
    }
   },
   "outputs": [
    {
     "data": {
      "text/plain": [
       "[Bluetooth, USB]                                                                                                                                                             753\n",
       "[Bluetooth]                                                                                                                                                                  665\n",
       "[On-board computer]                                                                                                                                                          662\n",
       "[CD player, On-board computer, Radio]                                                                                                                                        644\n",
       "[Radio]                                                                                                                                                                      425\n",
       "                                                                                                                                                                            ... \n",
       "[Android Auto, Apple CarPlay, Bluetooth, Digital cockpit, Digital radio, Induction charging for smartphones, On-board computer, Radio, Sound system, WLAN / WiFi hotspot]      1\n",
       "[Bluetooth, CD player, Digital cockpit, Digital radio, Hands-free equipment, Integrated music streaming, On-board computer, Sound system, USB, WLAN / WiFi hotspot]            1\n",
       "[Digital cockpit, Digital radio, On-board computer, Radio]                                                                                                                     1\n",
       "[Android Auto, Apple CarPlay, Digital radio, On-board computer, Radio, Sound system, USB, WLAN / WiFi hotspot]                                                                 1\n",
       "[Hands-free equipment, Integrated music streaming, On-board computer, Radio, USB]                                                                                              1\n",
       "Name: entertainment_media, Length: 1944, dtype: int64"
      ]
     },
     "execution_count": 247,
     "metadata": {},
     "output_type": "execute_result"
    }
   ],
   "source": [
    "#???\n",
    "df['entertainment_media'].value_counts()"
   ]
  },
  {
   "cell_type": "code",
   "execution_count": 278,
   "metadata": {
    "ExecuteTime": {
     "end_time": "2023-03-13T13:44:35.667870Z",
     "start_time": "2023-03-13T13:44:35.606395Z"
    }
   },
   "outputs": [],
   "source": [
    "df[\"entertainment_media\"] = [\",\".join(item) if type(item) == list else item for item in df[\"entertainment_media\"]]"
   ]
  },
  {
   "cell_type": "code",
   "execution_count": 279,
   "metadata": {
    "ExecuteTime": {
     "end_time": "2023-03-13T13:44:55.250638Z",
     "start_time": "2023-03-13T13:44:55.229881Z"
    }
   },
   "outputs": [
    {
     "data": {
      "text/plain": [
       "Bluetooth, USB                                                                                                                                                             753\n",
       "Bluetooth                                                                                                                                                                  665\n",
       "On-board computer                                                                                                                                                          662\n",
       "CD player, On-board computer, Radio                                                                                                                                        644\n",
       "Radio                                                                                                                                                                      425\n",
       "                                                                                                                                                                          ... \n",
       "Android Auto, Apple CarPlay, Bluetooth, Digital cockpit, Digital radio, Induction charging for smartphones, On-board computer, Radio, Sound system, WLAN / WiFi hotspot      1\n",
       "Bluetooth, CD player, Digital cockpit, Digital radio, Hands-free equipment, Integrated music streaming, On-board computer, Sound system, USB, WLAN / WiFi hotspot            1\n",
       "Digital cockpit, Digital radio, On-board computer, Radio                                                                                                                     1\n",
       "Android Auto, Apple CarPlay, Digital radio, On-board computer, Radio, Sound system, USB, WLAN / WiFi hotspot                                                                 1\n",
       "Hands-free equipment, Integrated music streaming, On-board computer, Radio, USB                                                                                              1\n",
       "Name: entertainment_media, Length: 1944, dtype: int64"
      ]
     },
     "execution_count": 279,
     "metadata": {},
     "output_type": "execute_result"
    }
   ],
   "source": [
    "df['entertainment_media'].value_counts()"
   ]
  },
  {
   "cell_type": "markdown",
   "metadata": {},
   "source": [
    "1.26 safety_security"
   ]
  },
  {
   "cell_type": "code",
   "execution_count": 248,
   "metadata": {
    "ExecuteTime": {
     "end_time": "2023-03-13T13:41:15.358184Z",
     "start_time": "2023-03-13T13:39:52.315651Z"
    }
   },
   "outputs": [
    {
     "data": {
      "text/plain": [
       "[Isofix]                                                                                                                                                                                                                                                                                                                                                                                                                                                                                                                       380\n",
       "[ABS, Central door lock, Driver-side airbag, Electronic stability control, Immobilizer, Isofix, Passenger-side airbag, Power steering, Side airbag]                                                                                                                                                                                                                                                                                                                                                                            328\n",
       "[ABS, Central door lock, Driver-side airbag, Immobilizer, Isofix, Passenger-side airbag, Power steering, Side airbag, Traction control]                                                                                                                                                                                                                                                                                                                                                                                        125\n",
       "[ABS, Central door lock, Driver-side airbag, Electronic stability control, Fog lights, Isofix, Power steering, Side airbag]                                                                                                                                                                                                                                                                                                                                                                                                    121\n",
       "[ABS, Fog lights, Side airbag]                                                                                                                                                                                                                                                                                                                                                                                                                                                                                                 100\n",
       "                                                                                                                                                                                                                                                                                                                                                                                                                                                                                                                              ... \n",
       "[Daytime running lights, Emergency brake assistant, Fog lights, Isofix, LED Daytime Running Lights, Lane departure warning system, Power steering, Tire pressure monitoring system]                                                                                                                                                                                                                                                                                                                                              1\n",
       "[ABS, Adaptive Cruise Control, Central door lock, Daytime running lights, Driver drowsiness detection, Driver-side airbag, Electronic stability control, Emergency brake assistant, Emergency system, Fog lights, Full-LED headlights, Glare-free high beam headlights, Immobilizer, Isofix, LED Headlights, Lane departure warning system, Passenger-side airbag, Power steering, Side airbag, Tire pressure monitoring system, Traction control]                                                                               1\n",
       "[ABS, Driver-side airbag, Electronic stability control, Emergency brake assistant, Immobilizer, LED Daytime Running Lights, Passenger-side airbag, Side airbag, Tire pressure monitoring system, Traction control]                                                                                                                                                                                                                                                                                                               1\n",
       "[ABS, Blind spot monitor, Central door lock, Daytime running lights, Distance warning system, Driver drowsiness detection, Driver-side airbag, Electronic stability control, Emergency system, Fog lights, Full-LED headlights, Head airbag, High beam assist, Immobilizer, Isofix, LED Daytime Running Lights, LED Headlights, Lane departure warning system, Passenger-side airbag, Power steering, Side airbag, Speed limit control system, Tire pressure monitoring system, Traction control, Traffic sign recognition]      1\n",
       "[ABS, Alarm system, Central door lock, Central door lock with remote control, Driver-side airbag, Electronic stability control, Fog lights, Head airbag, Immobilizer, Power steering, Side airbag, Traction control]                                                                                                                                                                                                                                                                                                             1\n",
       "Name: safety_security, Length: 12549, dtype: int64"
      ]
     },
     "execution_count": 248,
     "metadata": {},
     "output_type": "execute_result"
    }
   ],
   "source": [
    "df['safety_security'].value_counts()"
   ]
  },
  {
   "cell_type": "code",
   "execution_count": 280,
   "metadata": {
    "ExecuteTime": {
     "end_time": "2023-03-13T13:45:29.955994Z",
     "start_time": "2023-03-13T13:45:29.911459Z"
    }
   },
   "outputs": [],
   "source": [
    "df[\"safety_security\"] = [\",\".join(item) if type(item) == list else item for item in df[\"safety_security\"]]"
   ]
  },
  {
   "cell_type": "code",
   "execution_count": 281,
   "metadata": {
    "ExecuteTime": {
     "end_time": "2023-03-13T13:45:40.431872Z",
     "start_time": "2023-03-13T13:45:40.401841Z"
    }
   },
   "outputs": [
    {
     "data": {
      "text/plain": [
       "Isofix                                                                                                                                                                                                                                                                                                                                                                                                                                                                                                                       380\n",
       "ABS, Central door lock, Driver-side airbag, Electronic stability control, Immobilizer, Isofix, Passenger-side airbag, Power steering, Side airbag                                                                                                                                                                                                                                                                                                                                                                            328\n",
       "ABS, Central door lock, Driver-side airbag, Immobilizer, Isofix, Passenger-side airbag, Power steering, Side airbag, Traction control                                                                                                                                                                                                                                                                                                                                                                                        125\n",
       "ABS, Central door lock, Driver-side airbag, Electronic stability control, Fog lights, Isofix, Power steering, Side airbag                                                                                                                                                                                                                                                                                                                                                                                                    121\n",
       "ABS, Fog lights, Side airbag                                                                                                                                                                                                                                                                                                                                                                                                                                                                                                 100\n",
       "                                                                                                                                                                                                                                                                                                                                                                                                                                                                                                                            ... \n",
       "Daytime running lights, Emergency brake assistant, Fog lights, Isofix, LED Daytime Running Lights, Lane departure warning system, Power steering, Tire pressure monitoring system                                                                                                                                                                                                                                                                                                                                              1\n",
       "ABS, Adaptive Cruise Control, Central door lock, Daytime running lights, Driver drowsiness detection, Driver-side airbag, Electronic stability control, Emergency brake assistant, Emergency system, Fog lights, Full-LED headlights, Glare-free high beam headlights, Immobilizer, Isofix, LED Headlights, Lane departure warning system, Passenger-side airbag, Power steering, Side airbag, Tire pressure monitoring system, Traction control                                                                               1\n",
       "ABS, Driver-side airbag, Electronic stability control, Emergency brake assistant, Immobilizer, LED Daytime Running Lights, Passenger-side airbag, Side airbag, Tire pressure monitoring system, Traction control                                                                                                                                                                                                                                                                                                               1\n",
       "ABS, Blind spot monitor, Central door lock, Daytime running lights, Distance warning system, Driver drowsiness detection, Driver-side airbag, Electronic stability control, Emergency system, Fog lights, Full-LED headlights, Head airbag, High beam assist, Immobilizer, Isofix, LED Daytime Running Lights, LED Headlights, Lane departure warning system, Passenger-side airbag, Power steering, Side airbag, Speed limit control system, Tire pressure monitoring system, Traction control, Traffic sign recognition      1\n",
       "ABS, Alarm system, Central door lock, Central door lock with remote control, Driver-side airbag, Electronic stability control, Fog lights, Head airbag, Immobilizer, Power steering, Side airbag, Traction control                                                                                                                                                                                                                                                                                                             1\n",
       "Name: safety_security, Length: 12549, dtype: int64"
      ]
     },
     "execution_count": 281,
     "metadata": {},
     "output_type": "execute_result"
    }
   ],
   "source": [
    "df['safety_security'].value_counts()"
   ]
  },
  {
   "cell_type": "markdown",
   "metadata": {},
   "source": [
    "1.27 EXTRAS"
   ]
  },
  {
   "cell_type": "code",
   "execution_count": 249,
   "metadata": {
    "ExecuteTime": {
     "end_time": "2023-03-13T13:41:15.373251Z",
     "start_time": "2023-03-13T13:41:15.360183Z"
    }
   },
   "outputs": [
    {
     "data": {
      "text/plain": [
       "0                                                   NaN\n",
       "1                                                   NaN\n",
       "2                                                   NaN\n",
       "3                                         [Sport seats]\n",
       "4                                                   NaN\n",
       "5     [Alloy wheels (17\"), Catalytic Converter, Emer...\n",
       "6                                                   NaN\n",
       "7                                                   NaN\n",
       "8                                       [Sport package]\n",
       "9                                        [Alloy wheels]\n",
       "10                              [Alloy wheels, Spoiler]\n",
       "11                          [Alloy wheels, Sport seats]\n",
       "12        [Alloy wheels, Sport seats, Sport suspension]\n",
       "13    [Alloy wheels, Automatically dimming interior ...\n",
       "14                                                  NaN\n",
       "Name: extras, dtype: object"
      ]
     },
     "execution_count": 249,
     "metadata": {},
     "output_type": "execute_result"
    }
   ],
   "source": [
    "df['extras'].head(15)"
   ]
  },
  {
   "cell_type": "code",
   "execution_count": 250,
   "metadata": {
    "ExecuteTime": {
     "end_time": "2023-03-13T13:41:15.419484Z",
     "start_time": "2023-03-13T13:41:15.376253Z"
    },
    "code_folding": []
   },
   "outputs": [],
   "source": [
    "df['extras'] = [\n",
    "    \",\".join(item) if type(item) == list else item for item in df['extras']\n",
    "]"
   ]
  },
  {
   "cell_type": "code",
   "execution_count": 251,
   "metadata": {
    "ExecuteTime": {
     "end_time": "2023-03-13T13:41:15.450601Z",
     "start_time": "2023-03-13T13:41:15.424738Z"
    }
   },
   "outputs": [
    {
     "data": {
      "text/plain": [
       "Alloy wheels                                                                                                                                                                        3408\n",
       "Alloy wheels, Roof rack                                                                                                                                                              380\n",
       "Alloy wheels, Sport seats                                                                                                                                                            372\n",
       "Alloy wheels, Touch screen                                                                                                                                                           231\n",
       "Alloy wheels, Catalytic Converter, Touch screen                                                                                                                                      178\n",
       "                                                                                                                                                                                    ... \n",
       "Alloy wheels (18\"), Automatically dimming interior mirror, Catalytic Converter, E10-enabled, Headlight washer system, Sport package, Sport seats, Sport suspension, Summer tyres       1\n",
       "Alloy wheels (18\"), Spoiler, Summer tyres, Trailer hitch                                                                                                                               1\n",
       "All season tyres, Alloy wheels, Automatically dimming interior mirror, Catalytic Converter, Headlight washer system, Ski bag, Sport seats, Trailer hitch, Winter tyres                 1\n",
       "Alloy wheels, Automatically dimming interior mirror, Headlight washer system, Sport package, Sport seats, Summer tyres                                                                 1\n",
       "Alloy wheels, Automatically dimming interior mirror, Ski bag, Trailer hitch                                                                                                            1\n",
       "Name: extras, Length: 9360, dtype: int64"
      ]
     },
     "execution_count": 251,
     "metadata": {},
     "output_type": "execute_result"
    }
   ],
   "source": [
    "df['extras'].value_counts()"
   ]
  },
  {
   "cell_type": "markdown",
   "metadata": {},
   "source": [
    "1.28 empty_weight"
   ]
  },
  {
   "cell_type": "code",
   "execution_count": 252,
   "metadata": {
    "ExecuteTime": {
     "end_time": "2023-03-13T13:41:16.069950Z",
     "start_time": "2023-03-13T13:41:15.454971Z"
    }
   },
   "outputs": [
    {
     "data": {
      "text/plain": [
       "[\\n1,395 kg\\n]    233\n",
       "[\\n1,055 kg\\n]    224\n",
       "[\\n1,423 kg\\n]    216\n",
       "[\\n1,165 kg\\n]    200\n",
       "[\\n1,320 kg\\n]    192\n",
       "                 ... \n",
       "[\\n2,655 kg\\n]      1\n",
       "[\\n1,058 kg\\n]      1\n",
       "[\\n2,091 kg\\n]      1\n",
       "[\\n2,497 kg\\n]      1\n",
       "[\\n1,391 kg\\n]      1\n",
       "Name: empty_weight, Length: 1218, dtype: int64"
      ]
     },
     "execution_count": 252,
     "metadata": {},
     "output_type": "execute_result"
    }
   ],
   "source": [
    "df['empty_weight'].value_counts()"
   ]
  },
  {
   "cell_type": "code",
   "execution_count": 253,
   "metadata": {
    "ExecuteTime": {
     "end_time": "2023-03-13T13:41:16.442245Z",
     "start_time": "2023-03-13T13:41:16.073126Z"
    }
   },
   "outputs": [
    {
     "data": {
      "text/plain": [
       "1395.00    233\n",
       "1055.00    224\n",
       "1423.00    216\n",
       "1165.00    200\n",
       "1320.00    192\n",
       "          ... \n",
       "2655.00      1\n",
       "1058.00      1\n",
       "2091.00      1\n",
       "2497.00      1\n",
       "1391.00      1\n",
       "Name: empty_weight, Length: 1218, dtype: int64"
      ]
     },
     "execution_count": 253,
     "metadata": {},
     "output_type": "execute_result"
    }
   ],
   "source": [
    "df['empty_weight']=df['empty_weight'].apply(lambda t: t[0].replace(',','') if pd.notnull(t) else t)\n",
    "df['empty_weight'] = df['empty_weight'].apply(lambda t: int(re.findall(r'\\d+', str(t))[0]) if pd.notnull(t) else t)\n",
    "df['empty_weight'].value_counts()"
   ]
  },
  {
   "cell_type": "markdown",
   "metadata": {
    "ExecuteTime": {
     "end_time": "2023-03-13T13:07:26.252758Z",
     "start_time": "2023-03-13T13:07:26.237804Z"
    }
   },
   "source": [
    "1.29 model_code"
   ]
  },
  {
   "cell_type": "code",
   "execution_count": 254,
   "metadata": {
    "ExecuteTime": {
     "end_time": "2023-03-13T13:41:16.457951Z",
     "start_time": "2023-03-13T13:41:16.445806Z"
    }
   },
   "outputs": [],
   "source": [
    "# The 'Model code' column can be dropped later, because 71.62% of the values is null.\n",
    "#percentage_null.loc['model_code']"
   ]
  },
  {
   "cell_type": "markdown",
   "metadata": {},
   "source": [
    "1.30 general_inspection"
   ]
  },
  {
   "cell_type": "code",
   "execution_count": 255,
   "metadata": {
    "ExecuteTime": {
     "end_time": "2023-03-13T13:41:16.488778Z",
     "start_time": "2023-03-13T13:41:16.466053Z"
    }
   },
   "outputs": [
    {
     "data": {
      "text/plain": [
       "New        5883\n",
       "05/2023     286\n",
       "08/2023     280\n",
       "03/2023     268\n",
       "06/2023     266\n",
       "04/2023     262\n",
       "09/2023     255\n",
       "07/2023     254\n",
       "06/2024     216\n",
       "05/2024     212\n",
       "01/2023     210\n",
       "02/2023     209\n",
       "03/2024     207\n",
       "07/2024     203\n",
       "08/2024     187\n",
       "09/2024     182\n",
       "11/2023     176\n",
       "01/2024     164\n",
       "02/2024     163\n",
       "04/2024     162\n",
       "12/2023     160\n",
       "12/2022     159\n",
       "10/2023     155\n",
       "06/2025     147\n",
       "11/2022     131\n",
       "08/2025     122\n",
       "07/2025     110\n",
       "09/2022      96\n",
       "03/2025      95\n",
       "05/2025      93\n",
       "10/2022      90\n",
       "04/2025      89\n",
       "01/2025      75\n",
       "02/2025      66\n",
       "09/2025      65\n",
       "10/2024      64\n",
       "08/2022      64\n",
       "12/2024      61\n",
       "11/2024      50\n",
       "06/2022      42\n",
       "07/2022      41\n",
       "04/2022      34\n",
       "03/2022      25\n",
       "05/2022      22\n",
       "10/2021      17\n",
       "11/2021      11\n",
       "01/2022      10\n",
       "07/2021      10\n",
       "09/2021       8\n",
       "08/2021       7\n",
       "12/2021       7\n",
       "02/2022       6\n",
       "05/2026       5\n",
       "07/2020       5\n",
       "10/2025       4\n",
       "05/2021       4\n",
       "06/2026       4\n",
       "12/2019       4\n",
       "06/2021       3\n",
       "01/2021       3\n",
       "11/2020       3\n",
       "04/2026       3\n",
       "02/2021       2\n",
       "02/2026       2\n",
       "12/2025       2\n",
       "09/2026       2\n",
       "01/2026       2\n",
       "12/2020       2\n",
       "07/2026       2\n",
       "08/2026       2\n",
       "02/2027       2\n",
       "06/2020       2\n",
       "12/2017       1\n",
       "10/2020       1\n",
       "01/2020       1\n",
       "04/2020       1\n",
       "10/2019       1\n",
       "05/2018       1\n",
       "09/2020       1\n",
       "07/2019       1\n",
       "05/2020       1\n",
       "08/2019       1\n",
       "03/2026       1\n",
       "11/2019       1\n",
       "01/2018       1\n",
       "07/2017       1\n",
       "09/2017       1\n",
       "08/2013       1\n",
       "08/2020       1\n",
       "08/2018       1\n",
       "03/2021       1\n",
       "Name: general_inspection, dtype: int64"
      ]
     },
     "execution_count": 255,
     "metadata": {},
     "output_type": "execute_result"
    }
   ],
   "source": [
    "#???\n",
    "df['general_inspection'].value_counts()"
   ]
  },
  {
   "cell_type": "markdown",
   "metadata": {},
   "source": [
    "1.31 last_service"
   ]
  },
  {
   "cell_type": "code",
   "execution_count": 256,
   "metadata": {
    "ExecuteTime": {
     "end_time": "2023-03-13T13:41:16.504598Z",
     "start_time": "2023-03-13T13:41:16.492207Z"
    }
   },
   "outputs": [],
   "source": [
    "# The 'Last service' column can be dropped later, because 93.21% of the values is null.\n",
    "#percentage_null.loc['last_service']"
   ]
  },
  {
   "cell_type": "markdown",
   "metadata": {},
   "source": [
    "1.32 full_service_history"
   ]
  },
  {
   "cell_type": "code",
   "execution_count": 257,
   "metadata": {
    "ExecuteTime": {
     "end_time": "2023-03-13T13:41:16.535372Z",
     "start_time": "2023-03-13T13:41:16.508475Z"
    }
   },
   "outputs": [
    {
     "data": {
      "text/plain": [
       "Yes    12565\n",
       "Name: full_service_history, dtype: int64"
      ]
     },
     "execution_count": 257,
     "metadata": {},
     "output_type": "execute_result"
    }
   ],
   "source": [
    "df['full_service_history'].value_counts()"
   ]
  },
  {
   "cell_type": "markdown",
   "metadata": {},
   "source": [
    "1.33 non_smoker_vehicle"
   ]
  },
  {
   "cell_type": "code",
   "execution_count": 258,
   "metadata": {
    "ExecuteTime": {
     "end_time": "2023-03-13T13:41:16.550622Z",
     "start_time": "2023-03-13T13:41:16.538440Z"
    }
   },
   "outputs": [
    {
     "data": {
      "text/plain": [
       "Yes    11594\n",
       "Name: non_smoker_vehicle, dtype: int64"
      ]
     },
     "execution_count": 258,
     "metadata": {},
     "output_type": "execute_result"
    }
   ],
   "source": [
    "df['non_smoker_vehicle'].value_counts()"
   ]
  },
  {
   "cell_type": "markdown",
   "metadata": {},
   "source": [
    "1.34 emission_class"
   ]
  },
  {
   "cell_type": "code",
   "execution_count": 259,
   "metadata": {
    "ExecuteTime": {
     "end_time": "2023-03-13T13:41:16.582268Z",
     "start_time": "2023-03-13T13:41:16.555126Z"
    }
   },
   "outputs": [
    {
     "data": {
      "text/plain": [
       "array([nan, 'Euro 4', 'Euro 6', 'Euro 6d-TEMP', 'Euro 5', 'Euro 6d',\n",
       "       'Euro 6c', 'Euro 3', 'Euro 2', 'Euro 1'], dtype=object)"
      ]
     },
     "execution_count": 259,
     "metadata": {},
     "output_type": "execute_result"
    }
   ],
   "source": [
    "df['emission_class'].unique()"
   ]
  },
  {
   "cell_type": "code",
   "execution_count": 260,
   "metadata": {
    "ExecuteTime": {
     "end_time": "2023-03-13T13:41:16.646074Z",
     "start_time": "2023-03-13T13:41:16.587569Z"
    }
   },
   "outputs": [],
   "source": [
    "df['emission_class'] = df.emission_class.str.strip(\"dTEMP-c\")"
   ]
  },
  {
   "cell_type": "code",
   "execution_count": 261,
   "metadata": {
    "ExecuteTime": {
     "end_time": "2023-03-13T13:41:16.677124Z",
     "start_time": "2023-03-13T13:41:16.650523Z"
    }
   },
   "outputs": [
    {
     "data": {
      "text/plain": [
       "array([nan, 'uro 4', 'uro 6', 'uro 5', 'uro 3', 'uro 2', 'uro 1'],\n",
       "      dtype=object)"
      ]
     },
     "execution_count": 261,
     "metadata": {},
     "output_type": "execute_result"
    }
   ],
   "source": [
    "df['emission_class'].unique() #dtype:float missig value lari doldurduktan sonra int yapabiliriz."
   ]
  },
  {
   "cell_type": "markdown",
   "metadata": {},
   "source": [
    "1.35 emissions_sticker"
   ]
  },
  {
   "cell_type": "code",
   "execution_count": 262,
   "metadata": {
    "ExecuteTime": {
     "end_time": "2023-03-13T13:41:16.723563Z",
     "start_time": "2023-03-13T13:41:16.680513Z"
    }
   },
   "outputs": [
    {
     "data": {
      "text/plain": [
       "array([nan, 'Green', 'No sticker', 'Yellow', 'Red'], dtype=object)"
      ]
     },
     "execution_count": 262,
     "metadata": {},
     "output_type": "execute_result"
    }
   ],
   "source": [
    "df['emissions_sticker'] = df['emissions_sticker'].str.strip(\" )(1432\")\n",
    "df['emissions_sticker'].unique()"
   ]
  },
  {
   "cell_type": "code",
   "execution_count": 263,
   "metadata": {
    "ExecuteTime": {
     "end_time": "2023-03-13T13:41:16.754567Z",
     "start_time": "2023-03-13T13:41:16.725691Z"
    }
   },
   "outputs": [
    {
     "data": {
      "text/plain": [
       "array([nan, 'Green', 'No sticker', 'Yellow', 'Red'], dtype=object)"
      ]
     },
     "execution_count": 263,
     "metadata": {},
     "output_type": "execute_result"
    }
   ],
   "source": [
    "df['emissions_sticker'].unique()"
   ]
  },
  {
   "cell_type": "markdown",
   "metadata": {},
   "source": [
    "1.36 upholstery_colour"
   ]
  },
  {
   "cell_type": "code",
   "execution_count": 264,
   "metadata": {
    "ExecuteTime": {
     "end_time": "2023-03-13T13:41:16.800568Z",
     "start_time": "2023-03-13T13:41:16.757077Z"
    }
   },
   "outputs": [
    {
     "data": {
      "text/plain": [
       "array([nan, 'Black', 'Grey', 'Other', 'Blue', 'Brown', 'Beige', 'Red',\n",
       "       'White', 'Orange', 'Yellow', 'Green'], dtype=object)"
      ]
     },
     "execution_count": 264,
     "metadata": {},
     "output_type": "execute_result"
    }
   ],
   "source": [
    "df['upholstery_colour'].unique()"
   ]
  },
  {
   "cell_type": "code",
   "execution_count": 265,
   "metadata": {
    "ExecuteTime": {
     "end_time": "2023-03-13T13:41:16.969894Z",
     "start_time": "2023-03-13T13:41:16.803111Z"
    }
   },
   "outputs": [],
   "source": [
    "colour = ['Black', 'Grey', 'Other', 'Blue', 'Brown', 'Beige', 'Red', 'White', 'Orange', 'Yellow', 'Green']\n",
    "for i in colour:\n",
    "    if i=='White':\n",
    "        df['upholstery_colour'] = df['upholstery_colour'].str.replace(i,'white')\n",
    "    elif i=='Black':\n",
    "        df['upholstery_colour'] = df['upholstery_colour'].str.replace(i,'black')\n",
    "    else :\n",
    "        df['upholstery_colour'] = df['upholstery_colour'].str.replace(i,'other')\n"
   ]
  },
  {
   "cell_type": "code",
   "execution_count": 266,
   "metadata": {
    "ExecuteTime": {
     "end_time": "2023-03-13T13:41:16.984707Z",
     "start_time": "2023-03-13T13:41:16.973110Z"
    }
   },
   "outputs": [
    {
     "data": {
      "text/plain": [
       "array([nan, 'black', 'other', 'white'], dtype=object)"
      ]
     },
     "execution_count": 266,
     "metadata": {},
     "output_type": "execute_result"
    }
   ],
   "source": [
    "df['upholstery_colour'].unique()"
   ]
  },
  {
   "cell_type": "markdown",
   "metadata": {},
   "source": [
    "1.37 upholstery"
   ]
  },
  {
   "cell_type": "code",
   "execution_count": 267,
   "metadata": {
    "ExecuteTime": {
     "end_time": "2023-03-13T13:41:17.015842Z",
     "start_time": "2023-03-13T13:41:16.988244Z"
    }
   },
   "outputs": [
    {
     "data": {
      "text/plain": [
       "array([nan, 'Cloth', 'Full leather', 'Part leather', 'Other', 'alcantara',\n",
       "       'Velour'], dtype=object)"
      ]
     },
     "execution_count": 267,
     "metadata": {},
     "output_type": "execute_result"
    }
   ],
   "source": [
    "df['upholstery'].unique()"
   ]
  },
  {
   "cell_type": "code",
   "execution_count": 268,
   "metadata": {
    "ExecuteTime": {
     "end_time": "2023-03-13T13:41:17.173138Z",
     "start_time": "2023-03-13T13:41:17.020311Z"
    }
   },
   "outputs": [],
   "source": [
    "origin = ['Cloth', 'Full leather', 'Part leather', 'Other', 'alcantara',\n",
    "       'Velour']\n",
    "for i in origin:\n",
    "    if i=='Full leather':\n",
    "        df['upholstery'] = df['upholstery'].str.replace(i,'leather')\n",
    "    else :\n",
    "        df['upholstery'] = df['upholstery'].str.replace(i,'other')"
   ]
  },
  {
   "cell_type": "code",
   "execution_count": 269,
   "metadata": {
    "ExecuteTime": {
     "end_time": "2023-03-13T13:41:17.204790Z",
     "start_time": "2023-03-13T13:41:17.197530Z"
    }
   },
   "outputs": [
    {
     "data": {
      "text/plain": [
       "array([nan, 'other', 'leather'], dtype=object)"
      ]
     },
     "execution_count": 269,
     "metadata": {},
     "output_type": "execute_result"
    }
   ],
   "source": [
    "df['upholstery'].unique()"
   ]
  },
  {
   "cell_type": "markdown",
   "metadata": {},
   "source": [
    "1.38  previous_owner"
   ]
  },
  {
   "cell_type": "code",
   "execution_count": 270,
   "metadata": {
    "ExecuteTime": {
     "end_time": "2023-03-13T13:41:17.220619Z",
     "start_time": "2023-03-13T13:41:17.207698Z"
    }
   },
   "outputs": [
    {
     "data": {
      "text/plain": [
       "21587    [[241,080 km, 03/2010], 3]\n",
       "Name: previous_owner, dtype: object"
      ]
     },
     "execution_count": 270,
     "metadata": {},
     "output_type": "execute_result"
    }
   ],
   "source": [
    "df['previous_owner'].sample()"
   ]
  },
  {
   "cell_type": "code",
   "execution_count": 271,
   "metadata": {
    "ExecuteTime": {
     "end_time": "2023-03-13T13:41:17.282919Z",
     "start_time": "2023-03-13T13:41:17.223003Z"
    }
   },
   "outputs": [
    {
     "data": {
      "text/plain": [
       "array([nan,  2.,  1.,  3.,  6.,  4.,  8.,  5.,  7.,  9., 10., 14., 13.,\n",
       "       12.])"
      ]
     },
     "execution_count": 271,
     "metadata": {},
     "output_type": "execute_result"
    }
   ],
   "source": [
    "df['previous_owner'] = df['previous_owner'].str[-1].astype(float)\n",
    "df['previous_owner'].unique()"
   ]
  },
  {
   "cell_type": "markdown",
   "metadata": {},
   "source": [
    "1.39 energy_efficiency_class"
   ]
  },
  {
   "cell_type": "code",
   "execution_count": 272,
   "metadata": {
    "ExecuteTime": {
     "end_time": "2023-03-13T13:41:17.299009Z",
     "start_time": "2023-03-13T13:41:17.285096Z"
    }
   },
   "outputs": [
    {
     "data": {
      "text/plain": [
       "array([nan, 'C', 'B', 'E', 'D', 'A', 'G', 'F', 'A+', 'A+++', 'A++'],\n",
       "      dtype=object)"
      ]
     },
     "execution_count": 272,
     "metadata": {},
     "output_type": "execute_result"
    }
   ],
   "source": [
    "df['energy_efficiency_class'].unique()"
   ]
  },
  {
   "cell_type": "code",
   "execution_count": 273,
   "metadata": {
    "ExecuteTime": {
     "end_time": "2023-03-13T13:41:17.359897Z",
     "start_time": "2023-03-13T13:41:17.301008Z"
    }
   },
   "outputs": [],
   "source": [
    "df['energy_efficiency_class'] = df['energy_efficiency_class'].str.strip('+')\n",
    "\n",
    "e_class = ['C', 'B', 'E', 'D', 'G', 'F']\n",
    "for i in e_class:\n",
    "   df['energy_efficiency_class'] = df['energy_efficiency_class'].str.replace(i,'other')"
   ]
  },
  {
   "cell_type": "code",
   "execution_count": 274,
   "metadata": {
    "ExecuteTime": {
     "end_time": "2023-03-13T13:41:17.391719Z",
     "start_time": "2023-03-13T13:41:17.364346Z"
    }
   },
   "outputs": [
    {
     "data": {
      "text/plain": [
       "array([nan, 'other', 'A'], dtype=object)"
      ]
     },
     "execution_count": 274,
     "metadata": {},
     "output_type": "execute_result"
    }
   ],
   "source": [
    "df['energy_efficiency_class'].unique()"
   ]
  },
  {
   "cell_type": "code",
   "execution_count": 282,
   "metadata": {
    "ExecuteTime": {
     "end_time": "2023-03-13T13:45:50.070969Z",
     "start_time": "2023-03-13T13:45:50.050564Z"
    }
   },
   "outputs": [
    {
     "data": {
      "text/html": [
       "<div>\n",
       "<style scoped>\n",
       "    .dataframe tbody tr th:only-of-type {\n",
       "        vertical-align: middle;\n",
       "    }\n",
       "\n",
       "    .dataframe tbody tr th {\n",
       "        vertical-align: top;\n",
       "    }\n",
       "\n",
       "    .dataframe thead th {\n",
       "        text-align: right;\n",
       "    }\n",
       "</style>\n",
       "<table border=\"1\" class=\"dataframe\">\n",
       "  <thead>\n",
       "    <tr style=\"text-align: right;\">\n",
       "      <th></th>\n",
       "      <th>0</th>\n",
       "      <th>1</th>\n",
       "      <th>2</th>\n",
       "      <th>3</th>\n",
       "      <th>4</th>\n",
       "    </tr>\n",
       "  </thead>\n",
       "  <tbody>\n",
       "    <tr>\n",
       "      <th>make_model</th>\n",
       "      <td>Mercedes-Benz A 160</td>\n",
       "      <td>Mercedes-Benz EQE 350</td>\n",
       "      <td>Mercedes-Benz A 45 AMG</td>\n",
       "      <td>Mercedes-Benz A 35 AMG</td>\n",
       "      <td>Mercedes-Benz A 45 AMG</td>\n",
       "    </tr>\n",
       "    <tr>\n",
       "      <th>location</th>\n",
       "      <td>ES</td>\n",
       "      <td>ES</td>\n",
       "      <td>ES</td>\n",
       "      <td>ES</td>\n",
       "      <td>ES</td>\n",
       "    </tr>\n",
       "    <tr>\n",
       "      <th>price</th>\n",
       "      <td>16950.00</td>\n",
       "      <td>80900.00</td>\n",
       "      <td>69900.00</td>\n",
       "      <td>46990.00</td>\n",
       "      <td>16800.00</td>\n",
       "    </tr>\n",
       "    <tr>\n",
       "      <th>body_type</th>\n",
       "      <td>Compact</td>\n",
       "      <td>Compact</td>\n",
       "      <td>Compact</td>\n",
       "      <td>Compact</td>\n",
       "      <td>Compact</td>\n",
       "    </tr>\n",
       "    <tr>\n",
       "      <th>doors</th>\n",
       "      <td>5</td>\n",
       "      <td>4</td>\n",
       "      <td>5</td>\n",
       "      <td>5</td>\n",
       "      <td>5</td>\n",
       "    </tr>\n",
       "    <tr>\n",
       "      <th>country_version</th>\n",
       "      <td>Spain</td>\n",
       "      <td>Spain</td>\n",
       "      <td>Spain</td>\n",
       "      <td>Spain</td>\n",
       "      <td>Spain</td>\n",
       "    </tr>\n",
       "    <tr>\n",
       "      <th>warranty</th>\n",
       "      <td>24.00</td>\n",
       "      <td>24.00</td>\n",
       "      <td>12.00</td>\n",
       "      <td>12.00</td>\n",
       "      <td>12.00</td>\n",
       "    </tr>\n",
       "    <tr>\n",
       "      <th>mileage</th>\n",
       "      <td>120200.00</td>\n",
       "      <td>5000.00</td>\n",
       "      <td>18900.00</td>\n",
       "      <td>18995.00</td>\n",
       "      <td>197000.00</td>\n",
       "    </tr>\n",
       "    <tr>\n",
       "      <th>gearbox</th>\n",
       "      <td>Manual</td>\n",
       "      <td>Automatic</td>\n",
       "      <td>Automatic</td>\n",
       "      <td>Automatic</td>\n",
       "      <td>Automatic</td>\n",
       "    </tr>\n",
       "    <tr>\n",
       "      <th>fuel_type</th>\n",
       "      <td>Diesel</td>\n",
       "      <td>Electric</td>\n",
       "      <td>Benzine</td>\n",
       "      <td>Benzine</td>\n",
       "      <td>Diesel</td>\n",
       "    </tr>\n",
       "    <tr>\n",
       "      <th>colour</th>\n",
       "      <td>Black</td>\n",
       "      <td>NaN</td>\n",
       "      <td>Grey</td>\n",
       "      <td>Yellow</td>\n",
       "      <td>White</td>\n",
       "    </tr>\n",
       "    <tr>\n",
       "      <th>paint</th>\n",
       "      <td>Metallic</td>\n",
       "      <td>NaN</td>\n",
       "      <td>NaN</td>\n",
       "      <td>NaN</td>\n",
       "      <td>Metallic</td>\n",
       "    </tr>\n",
       "    <tr>\n",
       "      <th>seller</th>\n",
       "      <td>Dealer</td>\n",
       "      <td>Dealer</td>\n",
       "      <td>Dealer</td>\n",
       "      <td>Dealer</td>\n",
       "      <td>Dealer</td>\n",
       "    </tr>\n",
       "    <tr>\n",
       "      <th>seats</th>\n",
       "      <td>NaN</td>\n",
       "      <td>5.00</td>\n",
       "      <td>5.00</td>\n",
       "      <td>5.00</td>\n",
       "      <td>5.00</td>\n",
       "    </tr>\n",
       "    <tr>\n",
       "      <th>power</th>\n",
       "      <td>NaN</td>\n",
       "      <td>215.00</td>\n",
       "      <td>310.00</td>\n",
       "      <td>225.00</td>\n",
       "      <td>100.00</td>\n",
       "    </tr>\n",
       "    <tr>\n",
       "      <th>engine_size</th>\n",
       "      <td>NaN</td>\n",
       "      <td>1.00</td>\n",
       "      <td>1991.00</td>\n",
       "      <td>1991.00</td>\n",
       "      <td>2143.00</td>\n",
       "    </tr>\n",
       "    <tr>\n",
       "      <th>gears</th>\n",
       "      <td>NaN</td>\n",
       "      <td>9.00</td>\n",
       "      <td>8.00</td>\n",
       "      <td>7.00</td>\n",
       "      <td>7.00</td>\n",
       "    </tr>\n",
       "    <tr>\n",
       "      <th>co₂_emissions</th>\n",
       "      <td>NaN</td>\n",
       "      <td>0.00</td>\n",
       "      <td>NaN</td>\n",
       "      <td>NaN</td>\n",
       "      <td>NaN</td>\n",
       "    </tr>\n",
       "    <tr>\n",
       "      <th>manufacturer_colour</th>\n",
       "      <td>NaN</td>\n",
       "      <td>Negro Obsidiana</td>\n",
       "      <td>Mountaingrau magno</td>\n",
       "      <td>Amarillo Sol</td>\n",
       "      <td>NaN</td>\n",
       "    </tr>\n",
       "    <tr>\n",
       "      <th>drivetrain</th>\n",
       "      <td>NaN</td>\n",
       "      <td>NaN</td>\n",
       "      <td>4WD</td>\n",
       "      <td>4WD</td>\n",
       "      <td>4WD</td>\n",
       "    </tr>\n",
       "    <tr>\n",
       "      <th>cylinders</th>\n",
       "      <td>NaN</td>\n",
       "      <td>NaN</td>\n",
       "      <td>4.00</td>\n",
       "      <td>4.00</td>\n",
       "      <td>4.00</td>\n",
       "    </tr>\n",
       "    <tr>\n",
       "      <th>fuel_consumption</th>\n",
       "      <td>NaN</td>\n",
       "      <td>NaN</td>\n",
       "      <td>8.40</td>\n",
       "      <td>7.30</td>\n",
       "      <td>4.90</td>\n",
       "    </tr>\n",
       "    <tr>\n",
       "      <th>comfort_convenience</th>\n",
       "      <td>NaN</td>\n",
       "      <td>NaN</td>\n",
       "      <td>NaN</td>\n",
       "      <td>Air conditioning, Automatic climate control, P...</td>\n",
       "      <td>Air conditioning, Electrical side mirrors, Mul...</td>\n",
       "    </tr>\n",
       "    <tr>\n",
       "      <th>entertainment_media</th>\n",
       "      <td>NaN</td>\n",
       "      <td>NaN</td>\n",
       "      <td>NaN</td>\n",
       "      <td>USB</td>\n",
       "      <td>Bluetooth, CD player, MP3, USB</td>\n",
       "    </tr>\n",
       "    <tr>\n",
       "      <th>safety_security</th>\n",
       "      <td>NaN</td>\n",
       "      <td>NaN</td>\n",
       "      <td>NaN</td>\n",
       "      <td>ABS, Central door lock, Driver-side airbag, El...</td>\n",
       "      <td>ABS, Central door lock, Driver-side airbag, El...</td>\n",
       "    </tr>\n",
       "    <tr>\n",
       "      <th>extras</th>\n",
       "      <td>NaN</td>\n",
       "      <td>NaN</td>\n",
       "      <td>NaN</td>\n",
       "      <td>Sport seats</td>\n",
       "      <td>NaN</td>\n",
       "    </tr>\n",
       "    <tr>\n",
       "      <th>empty_weight</th>\n",
       "      <td>NaN</td>\n",
       "      <td>NaN</td>\n",
       "      <td>NaN</td>\n",
       "      <td>NaN</td>\n",
       "      <td>1545.00</td>\n",
       "    </tr>\n",
       "    <tr>\n",
       "      <th>general_inspection</th>\n",
       "      <td>NaN</td>\n",
       "      <td>NaN</td>\n",
       "      <td>NaN</td>\n",
       "      <td>NaN</td>\n",
       "      <td>NaN</td>\n",
       "    </tr>\n",
       "    <tr>\n",
       "      <th>full_service_history</th>\n",
       "      <td>NaN</td>\n",
       "      <td>NaN</td>\n",
       "      <td>NaN</td>\n",
       "      <td>NaN</td>\n",
       "      <td>NaN</td>\n",
       "    </tr>\n",
       "    <tr>\n",
       "      <th>non_smoker_vehicle</th>\n",
       "      <td>NaN</td>\n",
       "      <td>NaN</td>\n",
       "      <td>NaN</td>\n",
       "      <td>NaN</td>\n",
       "      <td>NaN</td>\n",
       "    </tr>\n",
       "    <tr>\n",
       "      <th>emission_class</th>\n",
       "      <td>NaN</td>\n",
       "      <td>NaN</td>\n",
       "      <td>NaN</td>\n",
       "      <td>NaN</td>\n",
       "      <td>NaN</td>\n",
       "    </tr>\n",
       "    <tr>\n",
       "      <th>emissions_sticker</th>\n",
       "      <td>NaN</td>\n",
       "      <td>NaN</td>\n",
       "      <td>NaN</td>\n",
       "      <td>NaN</td>\n",
       "      <td>NaN</td>\n",
       "    </tr>\n",
       "    <tr>\n",
       "      <th>upholstery_colour</th>\n",
       "      <td>NaN</td>\n",
       "      <td>NaN</td>\n",
       "      <td>NaN</td>\n",
       "      <td>NaN</td>\n",
       "      <td>NaN</td>\n",
       "    </tr>\n",
       "    <tr>\n",
       "      <th>upholstery</th>\n",
       "      <td>NaN</td>\n",
       "      <td>NaN</td>\n",
       "      <td>NaN</td>\n",
       "      <td>NaN</td>\n",
       "      <td>NaN</td>\n",
       "    </tr>\n",
       "    <tr>\n",
       "      <th>production_date</th>\n",
       "      <td>NaN</td>\n",
       "      <td>NaN</td>\n",
       "      <td>NaN</td>\n",
       "      <td>NaN</td>\n",
       "      <td>NaN</td>\n",
       "    </tr>\n",
       "    <tr>\n",
       "      <th>previous_owner</th>\n",
       "      <td>NaN</td>\n",
       "      <td>NaN</td>\n",
       "      <td>NaN</td>\n",
       "      <td>NaN</td>\n",
       "      <td>NaN</td>\n",
       "    </tr>\n",
       "    <tr>\n",
       "      <th>energy_efficiency_class</th>\n",
       "      <td>NaN</td>\n",
       "      <td>NaN</td>\n",
       "      <td>NaN</td>\n",
       "      <td>NaN</td>\n",
       "      <td>NaN</td>\n",
       "    </tr>\n",
       "    <tr>\n",
       "      <th>age</th>\n",
       "      <td>6.00</td>\n",
       "      <td>0.00</td>\n",
       "      <td>2.00</td>\n",
       "      <td>2.00</td>\n",
       "      <td>7.00</td>\n",
       "    </tr>\n",
       "  </tbody>\n",
       "</table>\n",
       "</div>"
      ],
      "text/plain": [
       "                                           0                      1  \\\n",
       "make_model               Mercedes-Benz A 160  Mercedes-Benz EQE 350   \n",
       "location                                  ES                     ES   \n",
       "price                               16950.00               80900.00   \n",
       "body_type                            Compact                Compact   \n",
       "doors                                      5                      4   \n",
       "country_version                        Spain                  Spain   \n",
       "warranty                               24.00                  24.00   \n",
       "mileage                            120200.00                5000.00   \n",
       "gearbox                               Manual              Automatic   \n",
       "fuel_type                             Diesel               Electric   \n",
       "colour                                 Black                    NaN   \n",
       "paint                               Metallic                    NaN   \n",
       "seller                                Dealer                 Dealer   \n",
       "seats                                    NaN                   5.00   \n",
       "power                                    NaN                 215.00   \n",
       "engine_size                              NaN                   1.00   \n",
       "gears                                    NaN                   9.00   \n",
       "co₂_emissions                            NaN                   0.00   \n",
       "manufacturer_colour                      NaN        Negro Obsidiana   \n",
       "drivetrain                               NaN                    NaN   \n",
       "cylinders                                NaN                    NaN   \n",
       "fuel_consumption                         NaN                    NaN   \n",
       "comfort_convenience                      NaN                    NaN   \n",
       "entertainment_media                      NaN                    NaN   \n",
       "safety_security                          NaN                    NaN   \n",
       "extras                                   NaN                    NaN   \n",
       "empty_weight                             NaN                    NaN   \n",
       "general_inspection                       NaN                    NaN   \n",
       "full_service_history                     NaN                    NaN   \n",
       "non_smoker_vehicle                       NaN                    NaN   \n",
       "emission_class                           NaN                    NaN   \n",
       "emissions_sticker                        NaN                    NaN   \n",
       "upholstery_colour                        NaN                    NaN   \n",
       "upholstery                               NaN                    NaN   \n",
       "production_date                          NaN                    NaN   \n",
       "previous_owner                           NaN                    NaN   \n",
       "energy_efficiency_class                  NaN                    NaN   \n",
       "age                                     6.00                   0.00   \n",
       "\n",
       "                                              2  \\\n",
       "make_model               Mercedes-Benz A 45 AMG   \n",
       "location                                     ES   \n",
       "price                                  69900.00   \n",
       "body_type                               Compact   \n",
       "doors                                         5   \n",
       "country_version                           Spain   \n",
       "warranty                                  12.00   \n",
       "mileage                                18900.00   \n",
       "gearbox                               Automatic   \n",
       "fuel_type                               Benzine   \n",
       "colour                                     Grey   \n",
       "paint                                       NaN   \n",
       "seller                                   Dealer   \n",
       "seats                                      5.00   \n",
       "power                                    310.00   \n",
       "engine_size                             1991.00   \n",
       "gears                                      8.00   \n",
       "co₂_emissions                               NaN   \n",
       "manufacturer_colour          Mountaingrau magno   \n",
       "drivetrain                                  4WD   \n",
       "cylinders                                  4.00   \n",
       "fuel_consumption                           8.40   \n",
       "comfort_convenience                         NaN   \n",
       "entertainment_media                         NaN   \n",
       "safety_security                             NaN   \n",
       "extras                                      NaN   \n",
       "empty_weight                                NaN   \n",
       "general_inspection                          NaN   \n",
       "full_service_history                        NaN   \n",
       "non_smoker_vehicle                          NaN   \n",
       "emission_class                              NaN   \n",
       "emissions_sticker                           NaN   \n",
       "upholstery_colour                           NaN   \n",
       "upholstery                                  NaN   \n",
       "production_date                             NaN   \n",
       "previous_owner                              NaN   \n",
       "energy_efficiency_class                     NaN   \n",
       "age                                        2.00   \n",
       "\n",
       "                                                                         3  \\\n",
       "make_model                                          Mercedes-Benz A 35 AMG   \n",
       "location                                                                ES   \n",
       "price                                                             46990.00   \n",
       "body_type                                                          Compact   \n",
       "doors                                                                    5   \n",
       "country_version                                                      Spain   \n",
       "warranty                                                             12.00   \n",
       "mileage                                                           18995.00   \n",
       "gearbox                                                          Automatic   \n",
       "fuel_type                                                          Benzine   \n",
       "colour                                                              Yellow   \n",
       "paint                                                                  NaN   \n",
       "seller                                                              Dealer   \n",
       "seats                                                                 5.00   \n",
       "power                                                               225.00   \n",
       "engine_size                                                        1991.00   \n",
       "gears                                                                 7.00   \n",
       "co₂_emissions                                                          NaN   \n",
       "manufacturer_colour                                           Amarillo Sol   \n",
       "drivetrain                                                             4WD   \n",
       "cylinders                                                             4.00   \n",
       "fuel_consumption                                                      7.30   \n",
       "comfort_convenience      Air conditioning, Automatic climate control, P...   \n",
       "entertainment_media                                                    USB   \n",
       "safety_security          ABS, Central door lock, Driver-side airbag, El...   \n",
       "extras                                                         Sport seats   \n",
       "empty_weight                                                           NaN   \n",
       "general_inspection                                                     NaN   \n",
       "full_service_history                                                   NaN   \n",
       "non_smoker_vehicle                                                     NaN   \n",
       "emission_class                                                         NaN   \n",
       "emissions_sticker                                                      NaN   \n",
       "upholstery_colour                                                      NaN   \n",
       "upholstery                                                             NaN   \n",
       "production_date                                                        NaN   \n",
       "previous_owner                                                         NaN   \n",
       "energy_efficiency_class                                                NaN   \n",
       "age                                                                   2.00   \n",
       "\n",
       "                                                                         4  \n",
       "make_model                                          Mercedes-Benz A 45 AMG  \n",
       "location                                                                ES  \n",
       "price                                                             16800.00  \n",
       "body_type                                                          Compact  \n",
       "doors                                                                    5  \n",
       "country_version                                                      Spain  \n",
       "warranty                                                             12.00  \n",
       "mileage                                                          197000.00  \n",
       "gearbox                                                          Automatic  \n",
       "fuel_type                                                           Diesel  \n",
       "colour                                                               White  \n",
       "paint                                                             Metallic  \n",
       "seller                                                              Dealer  \n",
       "seats                                                                 5.00  \n",
       "power                                                               100.00  \n",
       "engine_size                                                        2143.00  \n",
       "gears                                                                 7.00  \n",
       "co₂_emissions                                                          NaN  \n",
       "manufacturer_colour                                                    NaN  \n",
       "drivetrain                                                             4WD  \n",
       "cylinders                                                             4.00  \n",
       "fuel_consumption                                                      4.90  \n",
       "comfort_convenience      Air conditioning, Electrical side mirrors, Mul...  \n",
       "entertainment_media                         Bluetooth, CD player, MP3, USB  \n",
       "safety_security          ABS, Central door lock, Driver-side airbag, El...  \n",
       "extras                                                                 NaN  \n",
       "empty_weight                                                       1545.00  \n",
       "general_inspection                       "
      ]
     },
     "execution_count": 282,
     "metadata": {},
     "output_type": "execute_result"
    },
    {
     "data": {
      "text/html": [
       "<b>limit_output extension: Maximum message size of 10000 exceeded with 10805 characters</b>"
      ]
     },
     "metadata": {},
     "output_type": "display_data"
    }
   ],
   "source": [
    "df.head().T"
   ]
  },
  {
   "cell_type": "code",
   "execution_count": 283,
   "metadata": {
    "ExecuteTime": {
     "end_time": "2023-03-13T13:46:33.632534Z",
     "start_time": "2023-03-13T13:46:32.426249Z"
    }
   },
   "outputs": [],
   "source": [
    "df.to_csv('df_car_cleaned.csv')"
   ]
  },
  {
   "cell_type": "code",
   "execution_count": null,
   "metadata": {},
   "outputs": [],
   "source": []
  },
  {
   "cell_type": "code",
   "execution_count": null,
   "metadata": {},
   "outputs": [],
   "source": []
  },
  {
   "cell_type": "code",
   "execution_count": null,
   "metadata": {},
   "outputs": [],
   "source": []
  },
  {
   "cell_type": "code",
   "execution_count": null,
   "metadata": {},
   "outputs": [],
   "source": []
  },
  {
   "cell_type": "code",
   "execution_count": null,
   "metadata": {},
   "outputs": [],
   "source": []
  },
  {
   "cell_type": "markdown",
   "metadata": {
    "id": "uGeKSdYds1MD"
   },
   "source": [
    "# PART- 2 `( Handling With Missing Vales )`"
   ]
  },
  {
   "cell_type": "code",
   "execution_count": null,
   "metadata": {
    "id": "WDZnqBhbs1ME"
   },
   "outputs": [],
   "source": []
  },
  {
   "cell_type": "markdown",
   "metadata": {
    "id": "gPPdPAu5s1ME"
   },
   "source": [
    "# PART- 3 `( Handling With Outliers )`"
   ]
  },
  {
   "cell_type": "code",
   "execution_count": null,
   "metadata": {
    "id": "Is4HLjHWs1MF"
   },
   "outputs": [],
   "source": []
  },
  {
   "cell_type": "markdown",
   "metadata": {
    "id": "EKxmsgfts1MG"
   },
   "source": [
    "# Final Step (Checking final situation of data via graphs)"
   ]
  },
  {
   "cell_type": "code",
   "execution_count": null,
   "metadata": {
    "id": "8mgL_Bd0s1MG"
   },
   "outputs": [],
   "source": []
  },
  {
   "cell_type": "markdown",
   "metadata": {
    "id": "2PgUVPoes1MH"
   },
   "source": [
    "## Export dataframe to csv file (without dummy)"
   ]
  },
  {
   "cell_type": "code",
   "execution_count": null,
   "metadata": {
    "ExecuteTime": {
     "end_time": "2023-03-13T13:41:17.470504Z",
     "start_time": "2023-03-13T13:41:17.470504Z"
    },
    "id": "Byg_o2ZMs1MI"
   },
   "outputs": [],
   "source": [
    "df.to_csv(\"final_scout_not_dummy.csv\", index=False)"
   ]
  },
  {
   "cell_type": "markdown",
   "metadata": {
    "id": "hrw9hr-3s1MJ"
   },
   "source": [
    "# Dummy Operation"
   ]
  },
  {
   "cell_type": "code",
   "execution_count": null,
   "metadata": {
    "id": "faDyWTC9s1MJ"
   },
   "outputs": [],
   "source": []
  },
  {
   "cell_type": "markdown",
   "metadata": {
    "id": "DUOdihlqs1MJ"
   },
   "source": [
    "## Export dataframe to csv file (dummy)"
   ]
  },
  {
   "cell_type": "code",
   "execution_count": null,
   "metadata": {
    "ExecuteTime": {
     "end_time": "2023-03-13T13:41:17.472031Z",
     "start_time": "2023-03-13T13:41:17.472031Z"
    },
    "id": "IJT7Yl1Us1MK"
   },
   "outputs": [],
   "source": [
    "df_dummied.to_csv(\"final_scout_dummy.csv\", index=False)"
   ]
  },
  {
   "cell_type": "code",
   "execution_count": null,
   "metadata": {},
   "outputs": [],
   "source": []
  }
 ],
 "metadata": {
  "colab": {
   "name": "DAwPy-Capstone_Project_(AutoScout)_Student.ipynb",
   "provenance": []
  },
  "hide_input": false,
  "kernelspec": {
   "display_name": "Python 3 (ipykernel)",
   "language": "python",
   "name": "python3"
  },
  "language_info": {
   "codemirror_mode": {
    "name": "ipython",
    "version": 3
   },
   "file_extension": ".py",
   "mimetype": "text/x-python",
   "name": "python",
   "nbconvert_exporter": "python",
   "pygments_lexer": "ipython3",
   "version": "3.9.13"
  },
  "nbTranslate": {
   "displayLangs": [
    "*"
   ],
   "hotkey": "alt-t",
   "langInMainMenu": true,
   "sourceLang": "en",
   "targetLang": "fr",
   "useGoogleTranslate": true
  },
  "toc": {
   "base_numbering": 1,
   "nav_menu": {},
   "number_sections": false,
   "sideBar": true,
   "skip_h1_title": false,
   "title_cell": "Table of Contents",
   "title_sidebar": "Contents",
   "toc_cell": false,
   "toc_position": {},
   "toc_section_display": true,
   "toc_window_display": false
  },
  "varInspector": {
   "cols": {
    "lenName": 16,
    "lenType": 16,
    "lenVar": 40
   },
   "kernels_config": {
    "python": {
     "delete_cmd_postfix": "",
     "delete_cmd_prefix": "del ",
     "library": "var_list.py",
     "varRefreshCmd": "print(var_dic_list())"
    },
    "r": {
     "delete_cmd_postfix": ") ",
     "delete_cmd_prefix": "rm(",
     "library": "var_list.r",
     "varRefreshCmd": "cat(var_dic_list()) "
    }
   },
   "types_to_exclude": [
    "module",
    "function",
    "builtin_function_or_method",
    "instance",
    "_Feature"
   ],
   "window_display": false
  }
 },
 "nbformat": 4,
 "nbformat_minor": 1
}
