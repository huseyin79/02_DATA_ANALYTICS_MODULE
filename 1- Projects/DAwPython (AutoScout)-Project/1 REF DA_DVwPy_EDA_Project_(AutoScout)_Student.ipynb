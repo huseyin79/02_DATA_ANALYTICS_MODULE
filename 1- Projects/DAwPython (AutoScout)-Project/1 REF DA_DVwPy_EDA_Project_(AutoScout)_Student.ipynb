{
 "cells": [
  {
   "cell_type": "markdown",
   "metadata": {
    "id": "Bkw3_pB0s1L-"
   },
   "source": [
    "___\n",
    "\n",
    "<p style=\"text-align: center;\"><img src=\"https://docs.google.com/uc?id=1lY0Uj5R04yMY3-ZppPWxqCr5pvBLYPnV\" class=\"img-fluid\" \n",
    "alt=\"CLRSWY\"></p>\n",
    "\n",
    "## <p style=\"background-color:#FDFEFE; font-family:newtimeroman; color:#9d4f8c; font-size:100%; text-align:center; border-radius:10px 10px;\">WAY TO REINVENT YOURSELF</p>\n",
    "\n",
    "## <p style=\"background-color:#FDFEFE; font-family:newtimeroman; color:#060108; font-size:200%; text-align:center; border-radius:10px 10px;\">DA & DVwPY</p>\n",
    "\n",
    "## <p style=\"background-color:#FDFEFE; font-family:newtimeroman; color:#060108; font-size:200%; text-align:center; border-radius:10px 10px;\">The Exploratory Data Analysis (EDA) Project</p>\n",
    "\n",
    "<img src=https://i.ibb.co/wJW61Y2/Used-cars.jpg width=\"700\" height=\"200\">\n",
    "\n",
    "## <p style=\"background-color:#FDFEFE; font-family:newtimeroman; color:#060108; font-size:200%; text-align:center; border-radius:10px 10px;\">AutoScout Car Price Prediction EDA</p>\n",
    "\n"
   ]
  },
  {
   "cell_type": "markdown",
   "metadata": {
    "id": "Z_oWczxZs1MA"
   },
   "source": [
    "## Introduction\n",
    "Welcome to \"***AutoScout Exploratory Data Analysis (EDA) Project***\". This is the project of completing ***Data Analysis & Data Visualization*** Courses and a successful hand-over is mandatory for getting certification for both courses. **Auto Scout** data used in this project scraped from the Website of an online car trading company in 2022, and contains many features of 13 different car makes including 594 models. In this project, you will have the opportunity to apply many commonly used algorithms for Data Cleaning and Exploratory Data Analysis by using a variety of Python libraries, such as Numpy, Pandas, Matplotlib, Seaborn, Scipy, and then you will get a clean dataset for your analysis and pretictive modelling in Machine Learning Path. So you will have the chance to use all the skills you have already learned in the Data Analysis and Visualization courses.\n",
    "\n",
    "**``In this context, the project consists of 3 parts in general:``**\n",
    "* **The first part** is related to ``'Data Cleaning'``. It deals with Incorrect Headers, Incorrect Format, Anomalies, and Dropping useless columns.\n",
    "* **The second part** is related to ``'Filling Data'``, in other words 'Imputation'. It deals with Missing Values. Categorical to numeric transformation, Encoding, is done as well.\n",
    "* **The third part** is related to ``'Handling Outliers of Data'`` via Visualization libraries. So, some insights will be extracted.\n",
    "\n",
    "**``SPECIAL NOTE:``**  However, you are ``free to create your own style``. You do ``NOT`` have to stick to the steps above. Nevertheless, we, the DA & DV instructors, recommend you study each part separately to create a source notebook for your further studies. \n",
    "\n",
    "In order to build your Portfolio in terms of the GitHub account, you need to push your solution file up to your own repository.\n",
    "\n",
    "Please after solving the task, commit your notebook to GitHub and submit its link to LMS page where the project is settled down.\n",
    "\n",
    "**BE NOTED:** Please ``DO NOT FORGET`` to click the submit button.\n",
    "\n",
    "### Some Reminders on Exploratory data analysis (EDA)\n",
    "\n",
    "Exploratory data analysis (EDA) is an especially important activity in the routine of a data analyst or scientist. It enables an in depth understanding of the dataset, define or discard hypotheses and create predictive models on a solid basis. It uses data manipulation techniques and several statistical tools to describe and understand the relationship between variables and how these can impact business. By means of EDA, we can obtain meaningful insights that can impact analysis under the following questions (If a checklist is good enough for pilots to use every flight, it’s good enough for data scientists to use with every dataset).\n",
    "1. What question are you trying to solve (or prove wrong)?\n",
    "2. What kind of data do you have?\n",
    "3. What’s missing from the data?\n",
    "4. Where are the outliers?\n",
    "5. How can you add, change or remove features to get more out of your data?\n",
    "\n",
    "**``Exploratory data analysis (EDA)``** is often an **iterative brainstorming process** where you pose a question, review the data, and develop further questions to investigate before beginning model development work. The image below shows how the brainstorming phase is connected with that of understanding the variables and how this in turn is connected again with the brainstorming phase.<br>\n",
    "\n",
    "<img src=https://i.ibb.co/k0MC950/EDA-Process.png width=\"300\" height=\"100\">\n",
    "\n",
    "[Image Credit: Andrew D.](https://towardsdatascience.com/exploratory-data-analysis-in-python-a-step-by-step-process-d0dfa6bf94ee)\n",
    "\n"
   ]
  },
  {
   "cell_type": "markdown",
   "metadata": {
    "id": "vvgJ5KWTs1MB"
   },
   "source": [
    "# PART- 1 `( Data Cleaning )`"
   ]
  },
  {
   "cell_type": "code",
   "execution_count": null,
   "metadata": {
    "scrolled": false
   },
   "outputs": [],
   "source": [
    "pip install skimpy --user"
   ]
  },
  {
   "cell_type": "code",
   "execution_count": 330,
   "metadata": {
    "id": "Y13_gId7s1MC"
   },
   "outputs": [],
   "source": [
    "import numpy as np\n",
    "import pandas as pd\n",
    "import re\n",
    "import seaborn as sns \n",
    "import matplotlib.pyplot as plt\n",
    "#from skimpy import clean_columns\n",
    "\n",
    "import warnings\n",
    "warnings.filterwarnings(\"ignore\")\n",
    "warnings.warn(\"this will not show\")\n",
    "\n",
    "%matplotlib inline\n",
    "# %matplotlib notebook\n",
    "\n",
    "plt.rcParams[\"figure.figsize\"] = (10,6)\n",
    "# plt.rcParams['figure.dpi'] = 100\n",
    "\n",
    "sns.set_style(\"whitegrid\")\n",
    "pd.set_option('display.float_format', lambda x: '%.2f' % x)\n",
    "\n",
    "pd.options.display.max_rows = 100\n",
    "pd.options.display.max_columns = 100"
   ]
  },
  {
   "cell_type": "code",
   "execution_count": 331,
   "metadata": {},
   "outputs": [],
   "source": [
    "df0 = pd.read_json(\"as24_cars.json\")"
   ]
  },
  {
   "cell_type": "code",
   "execution_count": 333,
   "metadata": {},
   "outputs": [],
   "source": [
    "df = df0.copy()"
   ]
  },
  {
   "cell_type": "code",
   "execution_count": null,
   "metadata": {
    "scrolled": true
   },
   "outputs": [],
   "source": [
    "df.head(10).T"
   ]
  },
  {
   "cell_type": "code",
   "execution_count": null,
   "metadata": {
    "scrolled": false
   },
   "outputs": [],
   "source": [
    "df.sample().T"
   ]
  },
  {
   "cell_type": "code",
   "execution_count": null,
   "metadata": {
    "scrolled": false
   },
   "outputs": [],
   "source": [
    "df.info()"
   ]
  },
  {
   "cell_type": "code",
   "execution_count": null,
   "metadata": {
    "scrolled": false
   },
   "outputs": [],
   "source": [
    "df.head(5).T"
   ]
  },
  {
   "cell_type": "code",
   "execution_count": null,
   "metadata": {},
   "outputs": [],
   "source": [
    "df.describe()"
   ]
  },
  {
   "cell_type": "code",
   "execution_count": 301,
   "metadata": {},
   "outputs": [],
   "source": [
    "#df.describe(include=[object])"
   ]
  },
  {
   "cell_type": "code",
   "execution_count": 302,
   "metadata": {},
   "outputs": [
    {
     "data": {
      "text/plain": [
       "Index(['make_model', 'short_description', 'make', 'model', 'location', 'price',\n",
       "       'Body type', 'Type', 'Doors', 'Country version', 'Offer number',\n",
       "       'Warranty', 'Mileage', 'First registration', 'Gearbox', 'Fuel type',\n",
       "       'Colour', 'Paint', 'desc', 'seller', 'Seats', 'Power', 'Engine size',\n",
       "       'Gears', 'CO₂-emissions', 'Manufacturer colour', 'Drivetrain',\n",
       "       'Cylinders', 'Fuel consumption', '\\nComfort & Convenience\\n',\n",
       "       '\\nEntertainment & Media\\n', '\\nSafety & Security\\n', '\\nExtras\\n',\n",
       "       'Empty weight', 'Model code', 'General inspection', 'Last service',\n",
       "       'Full service history', 'Non-smoker vehicle', 'Emission class',\n",
       "       'Emissions sticker', 'Upholstery colour', 'Upholstery',\n",
       "       'Production date', 'Previous owner', 'Other fuel types',\n",
       "       'Power consumption', 'Energy efficiency class', 'CO₂-efficiency',\n",
       "       'Fuel consumption (WLTP)', 'CO₂-emissions (WLTP)', 'Available from',\n",
       "       'Taxi or rental car', 'Availability', 'Last timing belt change',\n",
       "       'Electric Range (WLTP)', 'Power consumption (WLTP)',\n",
       "       'Battery Ownership'],\n",
       "      dtype='object')"
      ]
     },
     "execution_count": 302,
     "metadata": {},
     "output_type": "execute_result"
    }
   ],
   "source": [
    "df.columns"
   ]
  },
  {
   "cell_type": "markdown",
   "metadata": {
    "scrolled": false
   },
   "source": [
    "##df[\"Comfort&Convenience\"] = df[\"\\nComfort & Convenience\\n\"]\n",
    "df[\"Entertainment&Media\"] = df[\"\\nEntertainment & Media\\n\"]\n",
    "df[\"Extras\"] = df[\"\\nExtras\\n\"]\n",
    "df[\"Safety_&ecurity\"] = df[\"\\nSafety & Security\\n\"]\n",
    "\n",
    "drop_columns = [\"\\nComfort & Convenience\\n\", \"\\nEntertainment & Media\\n\", \"\\nExtras\\n\", \"\\nSafety & Security\\n\"]\n",
    "\n",
    "df.drop(drop_columns, axis=1, inplace=True)\n",
    "\n",
    "df.head(3).T"
   ]
  },
  {
   "cell_type": "code",
   "execution_count": null,
   "metadata": {},
   "outputs": [],
   "source": [
    "df.rename(columns={'\\nComfort & Convenience\\n': 'Comfort&Convenience', \n",
    "                   '\\nEntertainment & Media\\n': 'Entertainment&Media', \n",
    "                   '\\nExtras\\n': 'Extras', \n",
    "                   '\\nSafety & Security\\n': 'Safety&Security'}, inplace=True)\n",
    "df.head(3).T"
   ]
  },
  {
   "cell_type": "code",
   "execution_count": 340,
   "metadata": {},
   "outputs": [
    {
     "data": {
      "text/plain": [
       "make_model                    850\n",
       "short_description             850\n",
       "make                          850\n",
       "model                         850\n",
       "location                      850\n",
       "price                         850\n",
       "Body type                     850\n",
       "Type                          850\n",
       "Doors                        1209\n",
       "Country version             12591\n",
       "Offer number                 6380\n",
       "Warranty                    13696\n",
       "Mileage                       851\n",
       "First registration            852\n",
       "Gearbox                      1098\n",
       "Fuel type                    2637\n",
       "Colour                       2574\n",
       "Paint                       14985\n",
       "desc                         1433\n",
       "seller                        850\n",
       "Seats                        3975\n",
       "Power                        1422\n",
       "Engine size                  2253\n",
       "Gears                       10526\n",
       "CO₂-emissions               10886\n",
       "Manufacturer colour          7693\n",
       "Drivetrain                  12587\n",
       "Cylinders                   10628\n",
       "Fuel consumption             6095\n",
       "Comfort&Convenience          4047\n",
       "Entertainment&Media          5836\n",
       "Safety&Security              4065\n",
       "Extras                       6000\n",
       "Empty weight                11722\n",
       "Model code                  21113\n",
       "General inspection          17226\n",
       "Last service                27477\n",
       "Full service history        16915\n",
       "Non-smoker vehicle          17886\n",
       "Emission class              11621\n",
       "Emissions sticker           20066\n",
       "Upholstery colour           14911\n",
       "Upholstery                  10870\n",
       "Production date             23572\n",
       "Previous owner              15465\n",
       "Other fuel types            27167\n",
       "Power consumption           28965\n",
       "Energy efficiency class     21676\n",
       "CO₂-efficiency              21676\n",
       "Fuel consumption (WLTP)     29380\n",
       "CO₂-emissions (WLTP)        29364\n",
       "Available from              29087\n",
       "Taxi or rental car          29058\n",
       "Availability                29179\n",
       "Last timing belt change     28908\n",
       "Electric Range (WLTP)       29464\n",
       "Power consumption (WLTP)    29464\n",
       "Battery Ownership           29473\n",
       "dtype: int64"
      ]
     },
     "execution_count": 340,
     "metadata": {},
     "output_type": "execute_result"
    }
   ],
   "source": [
    "df.isnull().sum()"
   ]
  },
  {
   "cell_type": "code",
   "execution_count": null,
   "metadata": {},
   "outputs": [],
   "source": [
    "is_null = pd.DataFrame(df.isnull().sum(), columns = ['isnull'])\n",
    "is_null"
   ]
  },
  {
   "cell_type": "code",
   "execution_count": 345,
   "metadata": {},
   "outputs": [
    {
     "data": {
      "text/html": [
       "<div>\n",
       "<style scoped>\n",
       "    .dataframe tbody tr th:only-of-type {\n",
       "        vertical-align: middle;\n",
       "    }\n",
       "\n",
       "    .dataframe tbody tr th {\n",
       "        vertical-align: top;\n",
       "    }\n",
       "\n",
       "    .dataframe thead th {\n",
       "        text-align: right;\n",
       "    }\n",
       "</style>\n",
       "<table border=\"1\" class=\"dataframe\">\n",
       "  <thead>\n",
       "    <tr style=\"text-align: right;\">\n",
       "      <th></th>\n",
       "      <th>percentage_null</th>\n",
       "    </tr>\n",
       "  </thead>\n",
       "  <tbody>\n",
       "    <tr>\n",
       "      <th>make_model</th>\n",
       "      <td>2.88</td>\n",
       "    </tr>\n",
       "    <tr>\n",
       "      <th>short_description</th>\n",
       "      <td>2.88</td>\n",
       "    </tr>\n",
       "    <tr>\n",
       "      <th>make</th>\n",
       "      <td>2.88</td>\n",
       "    </tr>\n",
       "    <tr>\n",
       "      <th>model</th>\n",
       "      <td>2.88</td>\n",
       "    </tr>\n",
       "    <tr>\n",
       "      <th>location</th>\n",
       "      <td>2.88</td>\n",
       "    </tr>\n",
       "    <tr>\n",
       "      <th>price</th>\n",
       "      <td>2.88</td>\n",
       "    </tr>\n",
       "    <tr>\n",
       "      <th>Body type</th>\n",
       "      <td>2.88</td>\n",
       "    </tr>\n",
       "    <tr>\n",
       "      <th>Type</th>\n",
       "      <td>2.88</td>\n",
       "    </tr>\n",
       "    <tr>\n",
       "      <th>Doors</th>\n",
       "      <td>4.10</td>\n",
       "    </tr>\n",
       "    <tr>\n",
       "      <th>Country version</th>\n",
       "      <td>42.71</td>\n",
       "    </tr>\n",
       "    <tr>\n",
       "      <th>Offer number</th>\n",
       "      <td>21.64</td>\n",
       "    </tr>\n",
       "    <tr>\n",
       "      <th>Warranty</th>\n",
       "      <td>46.46</td>\n",
       "    </tr>\n",
       "    <tr>\n",
       "      <th>Mileage</th>\n",
       "      <td>2.89</td>\n",
       "    </tr>\n",
       "    <tr>\n",
       "      <th>First registration</th>\n",
       "      <td>2.89</td>\n",
       "    </tr>\n",
       "    <tr>\n",
       "      <th>Gearbox</th>\n",
       "      <td>3.72</td>\n",
       "    </tr>\n",
       "    <tr>\n",
       "      <th>Fuel type</th>\n",
       "      <td>8.95</td>\n",
       "    </tr>\n",
       "    <tr>\n",
       "      <th>Colour</th>\n",
       "      <td>8.73</td>\n",
       "    </tr>\n",
       "    <tr>\n",
       "      <th>Paint</th>\n",
       "      <td>50.83</td>\n",
       "    </tr>\n",
       "    <tr>\n",
       "      <th>desc</th>\n",
       "      <td>4.86</td>\n",
       "    </tr>\n",
       "    <tr>\n",
       "      <th>seller</th>\n",
       "      <td>2.88</td>\n",
       "    </tr>\n",
       "    <tr>\n",
       "      <th>Seats</th>\n",
       "      <td>13.48</td>\n",
       "    </tr>\n",
       "    <tr>\n",
       "      <th>Power</th>\n",
       "      <td>4.82</td>\n",
       "    </tr>\n",
       "    <tr>\n",
       "      <th>Engine size</th>\n",
       "      <td>7.64</td>\n",
       "    </tr>\n",
       "    <tr>\n",
       "      <th>Gears</th>\n",
       "      <td>35.71</td>\n",
       "    </tr>\n",
       "    <tr>\n",
       "      <th>CO₂-emissions</th>\n",
       "      <td>36.93</td>\n",
       "    </tr>\n",
       "    <tr>\n",
       "      <th>Manufacturer colour</th>\n",
       "      <td>26.10</td>\n",
       "    </tr>\n",
       "    <tr>\n",
       "      <th>Drivetrain</th>\n",
       "      <td>42.70</td>\n",
       "    </tr>\n",
       "    <tr>\n",
       "      <th>Cylinders</th>\n",
       "      <td>36.05</td>\n",
       "    </tr>\n",
       "    <tr>\n",
       "      <th>Fuel consumption</th>\n",
       "      <td>20.68</td>\n",
       "    </tr>\n",
       "    <tr>\n",
       "      <th>Comfort&amp;Convenience</th>\n",
       "      <td>13.73</td>\n",
       "    </tr>\n",
       "    <tr>\n",
       "      <th>Entertainment&amp;Media</th>\n",
       "      <td>19.80</td>\n",
       "    </tr>\n",
       "    <tr>\n",
       "      <th>Safety&amp;Security</th>\n",
       "      <td>13.79</td>\n",
       "    </tr>\n",
       "    <tr>\n",
       "      <th>Extras</th>\n",
       "      <td>20.35</td>\n",
       "    </tr>\n",
       "    <tr>\n",
       "      <th>Empty weight</th>\n",
       "      <td>39.76</td>\n",
       "    </tr>\n",
       "    <tr>\n",
       "      <th>Model code</th>\n",
       "      <td>71.62</td>\n",
       "    </tr>\n",
       "    <tr>\n",
       "      <th>General inspection</th>\n",
       "      <td>58.43</td>\n",
       "    </tr>\n",
       "    <tr>\n",
       "      <th>Last service</th>\n",
       "      <td>93.21</td>\n",
       "    </tr>\n",
       "    <tr>\n",
       "      <th>Full service history</th>\n",
       "      <td>57.38</td>\n",
       "    </tr>\n",
       "    <tr>\n",
       "      <th>Non-smoker vehicle</th>\n",
       "      <td>60.67</td>\n",
       "    </tr>\n",
       "    <tr>\n",
       "      <th>Emission class</th>\n",
       "      <td>39.42</td>\n",
       "    </tr>\n",
       "    <tr>\n",
       "      <th>Emissions sticker</th>\n",
       "      <td>68.07</td>\n",
       "    </tr>\n",
       "    <tr>\n",
       "      <th>Upholstery colour</th>\n",
       "      <td>50.58</td>\n",
       "    </tr>\n",
       "    <tr>\n",
       "      <th>Upholstery</th>\n",
       "      <td>36.87</td>\n",
       "    </tr>\n",
       "    <tr>\n",
       "      <th>Production date</th>\n",
       "      <td>79.96</td>\n",
       "    </tr>\n",
       "    <tr>\n",
       "      <th>Previous owner</th>\n",
       "      <td>52.46</td>\n",
       "    </tr>\n",
       "    <tr>\n",
       "      <th>Other fuel types</th>\n",
       "      <td>92.15</td>\n",
       "    </tr>\n",
       "    <tr>\n",
       "      <th>Power consumption</th>\n",
       "      <td>98.25</td>\n",
       "    </tr>\n",
       "    <tr>\n",
       "      <th>Energy efficiency class</th>\n",
       "      <td>73.53</td>\n",
       "    </tr>\n",
       "    <tr>\n",
       "      <th>CO₂-efficiency</th>\n",
       "      <td>73.53</td>\n",
       "    </tr>\n",
       "    <tr>\n",
       "      <th>Fuel consumption (WLTP)</th>\n",
       "      <td>99.66</td>\n",
       "    </tr>\n",
       "    <tr>\n",
       "      <th>CO₂-emissions (WLTP)</th>\n",
       "      <td>99.61</td>\n",
       "    </tr>\n",
       "    <tr>\n",
       "      <th>Available from</th>\n",
       "      <td>98.67</td>\n",
       "    </tr>\n",
       "    <tr>\n",
       "      <th>Taxi or rental car</th>\n",
       "      <td>98.57</td>\n",
       "    </tr>\n",
       "    <tr>\n",
       "      <th>Availability</th>\n",
       "      <td>98.98</td>\n",
       "    </tr>\n",
       "    <tr>\n",
       "      <th>Last timing belt change</th>\n",
       "      <td>98.06</td>\n",
       "    </tr>\n",
       "    <tr>\n",
       "      <th>Electric Range (WLTP)</th>\n",
       "      <td>99.95</td>\n",
       "    </tr>\n",
       "    <tr>\n",
       "      <th>Power consumption (WLTP)</th>\n",
       "      <td>99.95</td>\n",
       "    </tr>\n",
       "    <tr>\n",
       "      <th>Battery Ownership</th>\n",
       "      <td>99.98</td>\n",
       "    </tr>\n",
       "  </tbody>\n",
       "</table>\n",
       "</div>"
      ],
      "text/plain": [
       "                          percentage_null\n",
       "make_model                           2.88\n",
       "short_description                    2.88\n",
       "make                                 2.88\n",
       "model                                2.88\n",
       "location                             2.88\n",
       "price                                2.88\n",
       "Body type                            2.88\n",
       "Type                                 2.88\n",
       "Doors                                4.10\n",
       "Country version                     42.71\n",
       "Offer number                        21.64\n",
       "Warranty                            46.46\n",
       "Mileage                              2.89\n",
       "First registration                   2.89\n",
       "Gearbox                              3.72\n",
       "Fuel type                            8.95\n",
       "Colour                               8.73\n",
       "Paint                               50.83\n",
       "desc                                 4.86\n",
       "seller                               2.88\n",
       "Seats                               13.48\n",
       "Power                                4.82\n",
       "Engine size                          7.64\n",
       "Gears                               35.71\n",
       "CO₂-emissions                       36.93\n",
       "Manufacturer colour                 26.10\n",
       "Drivetrain                          42.70\n",
       "Cylinders                           36.05\n",
       "Fuel consumption                    20.68\n",
       "Comfort&Convenience                 13.73\n",
       "Entertainment&Media                 19.80\n",
       "Safety&Security                     13.79\n",
       "Extras                              20.35\n",
       "Empty weight                        39.76\n",
       "Model code                          71.62\n",
       "General inspection                  58.43\n",
       "Last service                        93.21\n",
       "Full service history                57.38\n",
       "Non-smoker vehicle                  60.67\n",
       "Emission class                      39.42\n",
       "Emissions sticker                   68.07\n",
       "Upholstery colour                   50.58\n",
       "Upholstery                          36.87\n",
       "Production date                     79.96\n",
       "Previous owner                      52.46\n",
       "Other fuel types                    92.15\n",
       "Power consumption                   98.25\n",
       "Energy efficiency class             73.53\n",
       "CO₂-efficiency                      73.53\n",
       "Fuel consumption (WLTP)             99.66\n",
       "CO₂-emissions (WLTP)                99.61\n",
       "Available from                      98.67\n",
       "Taxi or rental car                  98.57\n",
       "Availability                        98.98\n",
       "Last timing belt change             98.06\n",
       "Electric Range (WLTP)               99.95\n",
       "Power consumption (WLTP)            99.95\n",
       "Battery Ownership                   99.98"
      ]
     },
     "execution_count": 345,
     "metadata": {},
     "output_type": "execute_result"
    }
   ],
   "source": [
    "percentage_null = pd.DataFrame(df.isnull().sum()/df.shape[0]*100, columns = ['percentage_null'])\n",
    "percentage_null"
   ]
  },
  {
   "cell_type": "code",
   "execution_count": 344,
   "metadata": {},
   "outputs": [
    {
     "data": {
      "text/html": [
       "<div>\n",
       "<style scoped>\n",
       "    .dataframe tbody tr th:only-of-type {\n",
       "        vertical-align: middle;\n",
       "    }\n",
       "\n",
       "    .dataframe tbody tr th {\n",
       "        vertical-align: top;\n",
       "    }\n",
       "\n",
       "    .dataframe thead th {\n",
       "        text-align: right;\n",
       "    }\n",
       "</style>\n",
       "<table border=\"1\" class=\"dataframe\">\n",
       "  <thead>\n",
       "    <tr style=\"text-align: right;\">\n",
       "      <th></th>\n",
       "      <th>Columns</th>\n",
       "      <th>isnull</th>\n",
       "      <th>percentage_null</th>\n",
       "    </tr>\n",
       "  </thead>\n",
       "  <tbody>\n",
       "    <tr>\n",
       "      <th>0</th>\n",
       "      <td>make_model</td>\n",
       "      <td>850</td>\n",
       "      <td>2.88</td>\n",
       "    </tr>\n",
       "    <tr>\n",
       "      <th>1</th>\n",
       "      <td>short_description</td>\n",
       "      <td>850</td>\n",
       "      <td>2.88</td>\n",
       "    </tr>\n",
       "    <tr>\n",
       "      <th>2</th>\n",
       "      <td>make</td>\n",
       "      <td>850</td>\n",
       "      <td>2.88</td>\n",
       "    </tr>\n",
       "    <tr>\n",
       "      <th>3</th>\n",
       "      <td>model</td>\n",
       "      <td>850</td>\n",
       "      <td>2.88</td>\n",
       "    </tr>\n",
       "    <tr>\n",
       "      <th>4</th>\n",
       "      <td>location</td>\n",
       "      <td>850</td>\n",
       "      <td>2.88</td>\n",
       "    </tr>\n",
       "    <tr>\n",
       "      <th>5</th>\n",
       "      <td>price</td>\n",
       "      <td>850</td>\n",
       "      <td>2.88</td>\n",
       "    </tr>\n",
       "    <tr>\n",
       "      <th>6</th>\n",
       "      <td>Body type</td>\n",
       "      <td>850</td>\n",
       "      <td>2.88</td>\n",
       "    </tr>\n",
       "    <tr>\n",
       "      <th>7</th>\n",
       "      <td>Type</td>\n",
       "      <td>850</td>\n",
       "      <td>2.88</td>\n",
       "    </tr>\n",
       "    <tr>\n",
       "      <th>8</th>\n",
       "      <td>Doors</td>\n",
       "      <td>1209</td>\n",
       "      <td>4.10</td>\n",
       "    </tr>\n",
       "    <tr>\n",
       "      <th>9</th>\n",
       "      <td>Country version</td>\n",
       "      <td>12591</td>\n",
       "      <td>42.71</td>\n",
       "    </tr>\n",
       "    <tr>\n",
       "      <th>10</th>\n",
       "      <td>Offer number</td>\n",
       "      <td>6380</td>\n",
       "      <td>21.64</td>\n",
       "    </tr>\n",
       "    <tr>\n",
       "      <th>11</th>\n",
       "      <td>Warranty</td>\n",
       "      <td>13696</td>\n",
       "      <td>46.46</td>\n",
       "    </tr>\n",
       "    <tr>\n",
       "      <th>12</th>\n",
       "      <td>Mileage</td>\n",
       "      <td>851</td>\n",
       "      <td>2.89</td>\n",
       "    </tr>\n",
       "    <tr>\n",
       "      <th>13</th>\n",
       "      <td>First registration</td>\n",
       "      <td>852</td>\n",
       "      <td>2.89</td>\n",
       "    </tr>\n",
       "    <tr>\n",
       "      <th>14</th>\n",
       "      <td>Gearbox</td>\n",
       "      <td>1098</td>\n",
       "      <td>3.72</td>\n",
       "    </tr>\n",
       "    <tr>\n",
       "      <th>15</th>\n",
       "      <td>Fuel type</td>\n",
       "      <td>2637</td>\n",
       "      <td>8.95</td>\n",
       "    </tr>\n",
       "    <tr>\n",
       "      <th>16</th>\n",
       "      <td>Colour</td>\n",
       "      <td>2574</td>\n",
       "      <td>8.73</td>\n",
       "    </tr>\n",
       "    <tr>\n",
       "      <th>17</th>\n",
       "      <td>Paint</td>\n",
       "      <td>14985</td>\n",
       "      <td>50.83</td>\n",
       "    </tr>\n",
       "    <tr>\n",
       "      <th>18</th>\n",
       "      <td>desc</td>\n",
       "      <td>1433</td>\n",
       "      <td>4.86</td>\n",
       "    </tr>\n",
       "    <tr>\n",
       "      <th>19</th>\n",
       "      <td>seller</td>\n",
       "      <td>850</td>\n",
       "      <td>2.88</td>\n",
       "    </tr>\n",
       "    <tr>\n",
       "      <th>20</th>\n",
       "      <td>Seats</td>\n",
       "      <td>3975</td>\n",
       "      <td>13.48</td>\n",
       "    </tr>\n",
       "    <tr>\n",
       "      <th>21</th>\n",
       "      <td>Power</td>\n",
       "      <td>1422</td>\n",
       "      <td>4.82</td>\n",
       "    </tr>\n",
       "    <tr>\n",
       "      <th>22</th>\n",
       "      <td>Engine size</td>\n",
       "      <td>2253</td>\n",
       "      <td>7.64</td>\n",
       "    </tr>\n",
       "    <tr>\n",
       "      <th>23</th>\n",
       "      <td>Gears</td>\n",
       "      <td>10526</td>\n",
       "      <td>35.71</td>\n",
       "    </tr>\n",
       "    <tr>\n",
       "      <th>24</th>\n",
       "      <td>CO₂-emissions</td>\n",
       "      <td>10886</td>\n",
       "      <td>36.93</td>\n",
       "    </tr>\n",
       "    <tr>\n",
       "      <th>25</th>\n",
       "      <td>Manufacturer colour</td>\n",
       "      <td>7693</td>\n",
       "      <td>26.10</td>\n",
       "    </tr>\n",
       "    <tr>\n",
       "      <th>26</th>\n",
       "      <td>Drivetrain</td>\n",
       "      <td>12587</td>\n",
       "      <td>42.70</td>\n",
       "    </tr>\n",
       "    <tr>\n",
       "      <th>27</th>\n",
       "      <td>Cylinders</td>\n",
       "      <td>10628</td>\n",
       "      <td>36.05</td>\n",
       "    </tr>\n",
       "    <tr>\n",
       "      <th>28</th>\n",
       "      <td>Fuel consumption</td>\n",
       "      <td>6095</td>\n",
       "      <td>20.68</td>\n",
       "    </tr>\n",
       "    <tr>\n",
       "      <th>29</th>\n",
       "      <td>Comfort&amp;Convenience</td>\n",
       "      <td>4047</td>\n",
       "      <td>13.73</td>\n",
       "    </tr>\n",
       "    <tr>\n",
       "      <th>30</th>\n",
       "      <td>Entertainment&amp;Media</td>\n",
       "      <td>5836</td>\n",
       "      <td>19.80</td>\n",
       "    </tr>\n",
       "    <tr>\n",
       "      <th>31</th>\n",
       "      <td>Safety&amp;Security</td>\n",
       "      <td>4065</td>\n",
       "      <td>13.79</td>\n",
       "    </tr>\n",
       "    <tr>\n",
       "      <th>32</th>\n",
       "      <td>Extras</td>\n",
       "      <td>6000</td>\n",
       "      <td>20.35</td>\n",
       "    </tr>\n",
       "    <tr>\n",
       "      <th>33</th>\n",
       "      <td>Empty weight</td>\n",
       "      <td>11722</td>\n",
       "      <td>39.76</td>\n",
       "    </tr>\n",
       "    <tr>\n",
       "      <th>34</th>\n",
       "      <td>Model code</td>\n",
       "      <td>21113</td>\n",
       "      <td>71.62</td>\n",
       "    </tr>\n",
       "    <tr>\n",
       "      <th>35</th>\n",
       "      <td>General inspection</td>\n",
       "      <td>17226</td>\n",
       "      <td>58.43</td>\n",
       "    </tr>\n",
       "    <tr>\n",
       "      <th>36</th>\n",
       "      <td>Last service</td>\n",
       "      <td>27477</td>\n",
       "      <td>93.21</td>\n",
       "    </tr>\n",
       "    <tr>\n",
       "      <th>37</th>\n",
       "      <td>Full service history</td>\n",
       "      <td>16915</td>\n",
       "      <td>57.38</td>\n",
       "    </tr>\n",
       "    <tr>\n",
       "      <th>38</th>\n",
       "      <td>Non-smoker vehicle</td>\n",
       "      <td>17886</td>\n",
       "      <td>60.67</td>\n",
       "    </tr>\n",
       "    <tr>\n",
       "      <th>39</th>\n",
       "      <td>Emission class</td>\n",
       "      <td>11621</td>\n",
       "      <td>39.42</td>\n",
       "    </tr>\n",
       "    <tr>\n",
       "      <th>40</th>\n",
       "      <td>Emissions sticker</td>\n",
       "      <td>20066</td>\n",
       "      <td>68.07</td>\n",
       "    </tr>\n",
       "    <tr>\n",
       "      <th>41</th>\n",
       "      <td>Upholstery colour</td>\n",
       "      <td>14911</td>\n",
       "      <td>50.58</td>\n",
       "    </tr>\n",
       "    <tr>\n",
       "      <th>42</th>\n",
       "      <td>Upholstery</td>\n",
       "      <td>10870</td>\n",
       "      <td>36.87</td>\n",
       "    </tr>\n",
       "    <tr>\n",
       "      <th>43</th>\n",
       "      <td>Production date</td>\n",
       "      <td>23572</td>\n",
       "      <td>79.96</td>\n",
       "    </tr>\n",
       "    <tr>\n",
       "      <th>44</th>\n",
       "      <td>Previous owner</td>\n",
       "      <td>15465</td>\n",
       "      <td>52.46</td>\n",
       "    </tr>\n",
       "    <tr>\n",
       "      <th>45</th>\n",
       "      <td>Other fuel types</td>\n",
       "      <td>27167</td>\n",
       "      <td>92.15</td>\n",
       "    </tr>\n",
       "    <tr>\n",
       "      <th>46</th>\n",
       "      <td>Power consumption</td>\n",
       "      <td>28965</td>\n",
       "      <td>98.25</td>\n",
       "    </tr>\n",
       "    <tr>\n",
       "      <th>47</th>\n",
       "      <td>Energy efficiency class</td>\n",
       "      <td>21676</td>\n",
       "      <td>73.53</td>\n",
       "    </tr>\n",
       "    <tr>\n",
       "      <th>48</th>\n",
       "      <td>CO₂-efficiency</td>\n",
       "      <td>21676</td>\n",
       "      <td>73.53</td>\n",
       "    </tr>\n",
       "    <tr>\n",
       "      <th>49</th>\n",
       "      <td>Fuel consumption (WLTP)</td>\n",
       "      <td>29380</td>\n",
       "      <td>99.66</td>\n",
       "    </tr>\n",
       "    <tr>\n",
       "      <th>50</th>\n",
       "      <td>CO₂-emissions (WLTP)</td>\n",
       "      <td>29364</td>\n",
       "      <td>99.61</td>\n",
       "    </tr>\n",
       "    <tr>\n",
       "      <th>51</th>\n",
       "      <td>Available from</td>\n",
       "      <td>29087</td>\n",
       "      <td>98.67</td>\n",
       "    </tr>\n",
       "    <tr>\n",
       "      <th>52</th>\n",
       "      <td>Taxi or rental car</td>\n",
       "      <td>29058</td>\n",
       "      <td>98.57</td>\n",
       "    </tr>\n",
       "    <tr>\n",
       "      <th>53</th>\n",
       "      <td>Availability</td>\n",
       "      <td>29179</td>\n",
       "      <td>98.98</td>\n",
       "    </tr>\n",
       "    <tr>\n",
       "      <th>54</th>\n",
       "      <td>Last timing belt change</td>\n",
       "      <td>28908</td>\n",
       "      <td>98.06</td>\n",
       "    </tr>\n",
       "    <tr>\n",
       "      <th>55</th>\n",
       "      <td>Electric Range (WLTP)</td>\n",
       "      <td>29464</td>\n",
       "      <td>99.95</td>\n",
       "    </tr>\n",
       "    <tr>\n",
       "      <th>56</th>\n",
       "      <td>Power consumption (WLTP)</td>\n",
       "      <td>29464</td>\n",
       "      <td>99.95</td>\n",
       "    </tr>\n",
       "    <tr>\n",
       "      <th>57</th>\n",
       "      <td>Battery Ownership</td>\n",
       "      <td>29473</td>\n",
       "      <td>99.98</td>\n",
       "    </tr>\n",
       "  </tbody>\n",
       "</table>\n",
       "</div>"
      ],
      "text/plain": [
       "                     Columns  isnull  percentage_null\n",
       "0                 make_model     850             2.88\n",
       "1          short_description     850             2.88\n",
       "2                       make     850             2.88\n",
       "3                      model     850             2.88\n",
       "4                   location     850             2.88\n",
       "5                      price     850             2.88\n",
       "6                  Body type     850             2.88\n",
       "7                       Type     850             2.88\n",
       "8                      Doors    1209             4.10\n",
       "9            Country version   12591            42.71\n",
       "10              Offer number    6380            21.64\n",
       "11                  Warranty   13696            46.46\n",
       "12                   Mileage     851             2.89\n",
       "13        First registration     852             2.89\n",
       "14                   Gearbox    1098             3.72\n",
       "15                 Fuel type    2637             8.95\n",
       "16                    Colour    2574             8.73\n",
       "17                     Paint   14985            50.83\n",
       "18                      desc    1433             4.86\n",
       "19                    seller     850             2.88\n",
       "20                     Seats    3975            13.48\n",
       "21                     Power    1422             4.82\n",
       "22               Engine size    2253             7.64\n",
       "23                     Gears   10526            35.71\n",
       "24             CO₂-emissions   10886            36.93\n",
       "25       Manufacturer colour    7693            26.10\n",
       "26                Drivetrain   12587            42.70\n",
       "27                 Cylinders   10628            36.05\n",
       "28          Fuel consumption    6095            20.68\n",
       "29       Comfort&Convenience    4047            13.73\n",
       "30       Entertainment&Media    5836            19.80\n",
       "31           Safety&Security    4065            13.79\n",
       "32                    Extras    6000            20.35\n",
       "33              Empty weight   11722            39.76\n",
       "34                Model code   21113            71.62\n",
       "35        General inspection   17226            58.43\n",
       "36              Last service   27477            93.21\n",
       "37      Full service history   16915            57.38\n",
       "38        Non-smoker vehicle   17886            60.67\n",
       "39            Emission class   11621            39.42\n",
       "40         Emissions sticker   20066            68.07\n",
       "41         Upholstery colour   14911            50.58\n",
       "42                Upholstery   10870            36.87\n",
       "43           Production date   23572            79.96\n",
       "44            Previous owner   15465            52.46\n",
       "45          Other fuel types   27167            92.15\n",
       "46         Power consumption   28965            98.25\n",
       "47   Energy efficiency class   21676            73.53\n",
       "48            CO₂-efficiency   21676            73.53\n",
       "49   Fuel consumption (WLTP)   29380            99.66\n",
       "50      CO₂-emissions (WLTP)   29364            99.61\n",
       "51            Available from   29087            98.67\n",
       "52        Taxi or rental car   29058            98.57\n",
       "53              Availability   29179            98.98\n",
       "54   Last timing belt change   28908            98.06\n",
       "55     Electric Range (WLTP)   29464            99.95\n",
       "56  Power consumption (WLTP)   29464            99.95\n",
       "57         Battery Ownership   29473            99.98"
      ]
     },
     "execution_count": 344,
     "metadata": {},
     "output_type": "execute_result"
    }
   ],
   "source": [
    "summary_null = pd.concat([is_null, percentage_null], axis = 1).reset_index().rename({'index':'Columns'},axis = 1)\n",
    "summary_null"
   ]
  },
  {
   "cell_type": "code",
   "execution_count": 346,
   "metadata": {},
   "outputs": [],
   "source": [
    "missing = df.isnull().sum()*100 / df.shape[0]"
   ]
  },
  {
   "cell_type": "code",
   "execution_count": 347,
   "metadata": {},
   "outputs": [
    {
     "data": {
      "text/plain": [
       "Model code                 71.62\n",
       "Last service               93.21\n",
       "Production date            79.96\n",
       "Other fuel types           92.15\n",
       "Power consumption          98.25\n",
       "Energy efficiency class    73.53\n",
       "CO₂-efficiency             73.53\n",
       "Fuel consumption (WLTP)    99.66\n",
       "CO₂-emissions (WLTP)       99.61\n",
       "Available from             98.67\n",
       "Taxi or rental car         98.57\n",
       "Availability               98.98\n",
       "Last timing belt change    98.06\n",
       "Electric Range (WLTP)      99.95\n",
       "Power consumption (WLTP)   99.95\n",
       "Battery Ownership          99.98\n",
       "dtype: float64"
      ]
     },
     "execution_count": 347,
     "metadata": {},
     "output_type": "execute_result"
    }
   ],
   "source": [
    "missing.loc[lambda x : x >= 70] #%70"
   ]
  },
  {
   "cell_type": "markdown",
   "metadata": {},
   "source": [
    "# BUNDAN SONRASI HUSEYIN K."
   ]
  },
  {
   "cell_type": "code",
   "execution_count": 348,
   "metadata": {},
   "outputs": [
    {
     "data": {
      "text/plain": [
       "Index(['Seats', 'Power', 'Engine size', 'Gears', 'CO₂-emissions',\n",
       "       'Manufacturer colour', 'Drivetrain', 'Cylinders', 'Fuel consumption',\n",
       "       'Comfort&Convenience', 'Entertainment&Media', 'Safety&Security',\n",
       "       'Extras', 'Empty weight', 'Model code', 'General inspection',\n",
       "       'Last service', 'Full service history', 'Non-smoker vehicle',\n",
       "       'Emission class'],\n",
       "      dtype='object')"
      ]
     },
     "execution_count": 348,
     "metadata": {},
     "output_type": "execute_result"
    }
   ],
   "source": [
    "df.columns[20:40]"
   ]
  },
  {
   "cell_type": "code",
   "execution_count": null,
   "metadata": {},
   "outputs": [],
   "source": []
  },
  {
   "cell_type": "code",
   "execution_count": null,
   "metadata": {},
   "outputs": [],
   "source": [
    "df['Seats'].value_counts()"
   ]
  },
  {
   "cell_type": "code",
   "execution_count": null,
   "metadata": {},
   "outputs": [],
   "source": [
    "df['Seats'] = df['Seats'].apply(lambda t: int(str(t).split(',')[1].strip()) if pd.notnull(t) else t)\n",
    "df['Seats'].value_counts()"
   ]
  },
  {
   "cell_type": "code",
   "execution_count": null,
   "metadata": {},
   "outputs": [],
   "source": []
  },
  {
   "cell_type": "code",
   "execution_count": 352,
   "metadata": {},
   "outputs": [
    {
     "data": {
      "text/plain": [
       "[\\n110 kW (150 hp)\\n]      1992\n",
       "[\\n96 kW (131 hp)\\n]       1356\n",
       "[\\n88 kW (120 hp)\\n]       1182\n",
       "[\\n81 kW (110 hp)\\n]       1166\n",
       "[\\n66 kW (90 hp)\\n]        1110\n",
       "                           ... \n",
       "[\\n746 kW (1,014 hp)\\n]       1\n",
       "[\\n570 kW (775 hp)\\n]         1\n",
       "[\\n471 kW (640 hp)\\n]         1\n",
       "[\\n179 kW (243 hp)\\n]         1\n",
       "[\\n26 kW (35 hp)\\n]           1\n",
       "Name: Power, Length: 351, dtype: int64"
      ]
     },
     "execution_count": 352,
     "metadata": {},
     "output_type": "execute_result"
    }
   ],
   "source": [
    "df['Power'].value_counts()"
   ]
  },
  {
   "cell_type": "code",
   "execution_count": 353,
   "metadata": {},
   "outputs": [
    {
     "data": {
      "text/plain": [
       "110.00    1992\n",
       "96.00     1356\n",
       "88.00     1182\n",
       "81.00     1166\n",
       "66.00     1110\n",
       "          ... \n",
       "746.00       1\n",
       "570.00       1\n",
       "471.00       1\n",
       "179.00       1\n",
       "26.00        1\n",
       "Name: Power, Length: 351, dtype: int64"
      ]
     },
     "execution_count": 353,
     "metadata": {},
     "output_type": "execute_result"
    }
   ],
   "source": [
    "df['Power'] = df['Power'].apply(lambda t: int(re.findall(r'\\d+', str(t))[0]) if pd.notnull(t) else t)\n",
    "df['Power'].value_counts()"
   ]
  },
  {
   "cell_type": "code",
   "execution_count": null,
   "metadata": {},
   "outputs": [],
   "source": []
  },
  {
   "cell_type": "code",
   "execution_count": 354,
   "metadata": {},
   "outputs": [
    {
     "data": {
      "text/plain": [
       "[\\n1,598 cc\\n]    2099\n",
       "[\\n999 cc\\n]      2068\n",
       "[\\n1,969 cc\\n]    1929\n",
       "[\\n1,461 cc\\n]    1110\n",
       "[\\n1,998 cc\\n]    1000\n",
       "                  ... \n",
       "[\\n2,753 cc\\n]       1\n",
       "[\\n2,495 cc\\n]       1\n",
       "[\\n200 cc\\n]         1\n",
       "[\\n3,224 cc\\n]       1\n",
       "[\\n2,473 cc\\n]       1\n",
       "Name: Engine size, Length: 467, dtype: int64"
      ]
     },
     "execution_count": 354,
     "metadata": {},
     "output_type": "execute_result"
    }
   ],
   "source": [
    "df['Engine size'].value_counts()"
   ]
  },
  {
   "cell_type": "code",
   "execution_count": 355,
   "metadata": {},
   "outputs": [
    {
     "data": {
      "text/plain": [
       "1598.00    2099\n",
       "999.00     2068\n",
       "1969.00    1929\n",
       "1461.00    1110\n",
       "1998.00    1000\n",
       "           ... \n",
       "2753.00       1\n",
       "2495.00       1\n",
       "200.00        1\n",
       "3224.00       1\n",
       "2473.00       1\n",
       "Name: Engine size, Length: 467, dtype: int64"
      ]
     },
     "execution_count": 355,
     "metadata": {},
     "output_type": "execute_result"
    }
   ],
   "source": [
    "df['Engine size']=df['Engine size'].apply(lambda t: t[0].replace(',','') if pd.notnull(t) else t)\n",
    "df['Engine size'] = df['Engine size'].apply(lambda t: int(re.findall(r'\\d+', str(t))[0]) if pd.notnull(t) else t)\n",
    "df['Engine size'].value_counts()"
   ]
  },
  {
   "cell_type": "code",
   "execution_count": null,
   "metadata": {},
   "outputs": [],
   "source": []
  },
  {
   "cell_type": "code",
   "execution_count": 356,
   "metadata": {},
   "outputs": [
    {
     "data": {
      "text/plain": [
       "[\\n6\\n]     8412\n",
       "[\\n5\\n]     5335\n",
       "[\\n7\\n]     1738\n",
       "[\\n8\\n]     1690\n",
       "[\\n1\\n]      712\n",
       "[\\n9\\n]      642\n",
       "[\\n4\\n]      256\n",
       "[\\n10\\n]     112\n",
       "[\\n0\\n]       31\n",
       "[\\n3\\n]       24\n",
       "[\\n2\\n]        2\n",
       "Name: Gears, dtype: int64"
      ]
     },
     "execution_count": 356,
     "metadata": {},
     "output_type": "execute_result"
    }
   ],
   "source": [
    "df['Gears'].value_counts()"
   ]
  },
  {
   "cell_type": "code",
   "execution_count": 357,
   "metadata": {},
   "outputs": [
    {
     "data": {
      "text/plain": [
       "6.00     8412\n",
       "5.00     5335\n",
       "7.00     1738\n",
       "8.00     1690\n",
       "1.00      712\n",
       "9.00      642\n",
       "4.00      256\n",
       "10.00     112\n",
       "0.00       31\n",
       "3.00       24\n",
       "2.00        2\n",
       "Name: Gears, dtype: int64"
      ]
     },
     "execution_count": 357,
     "metadata": {},
     "output_type": "execute_result"
    }
   ],
   "source": [
    "df['Gears'] = df['Gears'].apply(lambda t: int(re.findall(r'\\d+', str(t))[0]) if pd.notnull(t) else t)\n",
    "df['Gears'].value_counts()"
   ]
  },
  {
   "cell_type": "code",
   "execution_count": null,
   "metadata": {},
   "outputs": [],
   "source": []
  },
  {
   "cell_type": "code",
   "execution_count": 358,
   "metadata": {},
   "outputs": [
    {
     "data": {
      "text/plain": [
       "0 g/km (comb.)       1038\n",
       "119 g/km (comb.)      393\n",
       "124 g/km (comb.)      340\n",
       "129 g/km (comb.)      319\n",
       "114 g/km (comb.)      313\n",
       "                     ... \n",
       "7 g/km (comb.)          1\n",
       "80 g/km (comb.)         1\n",
       "196  g/km (comb.)       1\n",
       "100  g/km (comb.)       1\n",
       "53 g/km (comb.)         1\n",
       "Name: CO₂-emissions, Length: 347, dtype: int64"
      ]
     },
     "execution_count": 358,
     "metadata": {},
     "output_type": "execute_result"
    }
   ],
   "source": [
    "df['CO₂-emissions'].value_counts()"
   ]
  },
  {
   "cell_type": "code",
   "execution_count": 359,
   "metadata": {},
   "outputs": [
    {
     "data": {
      "text/plain": [
       "0.00      1040\n",
       "119.00     393\n",
       "124.00     340\n",
       "129.00     319\n",
       "114.00     313\n",
       "          ... \n",
       "272.00       1\n",
       "344.00       1\n",
       "342.00       1\n",
       "398.00       1\n",
       "53.00        1\n",
       "Name: CO₂-emissions, Length: 326, dtype: int64"
      ]
     },
     "execution_count": 359,
     "metadata": {},
     "output_type": "execute_result"
    }
   ],
   "source": [
    "# The 'CO₂-emissions' column can be dropped later, because there are several other columns showing the similar feature, such as 'Emission class and 'Emisssions sticker'. .\n",
    "\n",
    "df['CO₂-emissions'] = df['CO₂-emissions'].apply(lambda t: int(re.findall(r'\\d+', str(t))[0]) if pd.notnull(t) else t)\n",
    "df['CO₂-emissions'].value_counts()"
   ]
  },
  {
   "cell_type": "code",
   "execution_count": null,
   "metadata": {},
   "outputs": [],
   "source": []
  },
  {
   "cell_type": "code",
   "execution_count": 360,
   "metadata": {},
   "outputs": [
    {
     "data": {
      "text/plain": [
       "Blanco                            1235\n",
       "Gris                               671\n",
       "Azul                               552\n",
       "Negro                              546\n",
       "Rojo                               381\n",
       "                                  ... \n",
       "Colore esterno (snowflake whit       1\n",
       "Pompeigraumetallic                   1\n",
       "Cararragrau                          1\n",
       "ICE WHITE (wit metallic)             1\n",
       "Denim Blue metallic (blauw met       1\n",
       "Name: Manufacturer colour, Length: 4963, dtype: int64"
      ]
     },
     "execution_count": 360,
     "metadata": {},
     "output_type": "execute_result"
    }
   ],
   "source": [
    "# The 'Manufacrurer colour' column can be dropped later, because it has 4963 distinct values with description of colours by manufacturers in different languages. The 'Colour' column can be used instead. It has 14 distinct values already including almost all auto colours.\n",
    "\n",
    "df['Manufacturer colour'].value_counts()"
   ]
  },
  {
   "cell_type": "code",
   "execution_count": null,
   "metadata": {},
   "outputs": [],
   "source": []
  },
  {
   "cell_type": "code",
   "execution_count": 361,
   "metadata": {},
   "outputs": [
    {
     "data": {
      "text/plain": [
       "[\\n, Front, \\n]    12066\n",
       "[\\n, 4WD, \\n]       3252\n",
       "[\\n, Rear, \\n]      1575\n",
       "Name: Drivetrain, dtype: int64"
      ]
     },
     "execution_count": 361,
     "metadata": {},
     "output_type": "execute_result"
    }
   ],
   "source": [
    "df['Drivetrain'].value_counts()"
   ]
  },
  {
   "cell_type": "code",
   "execution_count": 362,
   "metadata": {},
   "outputs": [
    {
     "data": {
      "text/plain": [
       "Front    12066\n",
       "4WD       3252\n",
       "Rear      1575\n",
       "Name: Drivetrain, dtype: int64"
      ]
     },
     "execution_count": 362,
     "metadata": {},
     "output_type": "execute_result"
    }
   ],
   "source": [
    "df['Drivetrain']=df['Drivetrain'].apply(lambda t: str(t).split(',')[1].strip() if pd.notnull(t) else t)\n",
    "df['Drivetrain'].value_counts()"
   ]
  },
  {
   "cell_type": "code",
   "execution_count": null,
   "metadata": {},
   "outputs": [],
   "source": []
  },
  {
   "cell_type": "code",
   "execution_count": 363,
   "metadata": {},
   "outputs": [
    {
     "data": {
      "text/plain": [
       "[\\n4\\n]     13068\n",
       "[\\n3\\n]      3258\n",
       "[\\n6\\n]      1013\n",
       "[\\n5\\n]       799\n",
       "[\\n8\\n]       539\n",
       "[\\n2\\n]       103\n",
       "[\\n0\\n]        35\n",
       "[\\n1\\n]        21\n",
       "[\\n12\\n]        8\n",
       "[\\n7\\n]         6\n",
       "[\\n26\\n]        1\n",
       "[\\n16\\n]        1\n",
       "Name: Cylinders, dtype: int64"
      ]
     },
     "execution_count": 363,
     "metadata": {},
     "output_type": "execute_result"
    }
   ],
   "source": [
    "df['Cylinders'].value_counts()"
   ]
  },
  {
   "cell_type": "code",
   "execution_count": 364,
   "metadata": {},
   "outputs": [
    {
     "data": {
      "text/plain": [
       "4.00     13068\n",
       "3.00      3258\n",
       "6.00      1013\n",
       "5.00       799\n",
       "8.00       539\n",
       "2.00       103\n",
       "0.00        35\n",
       "1.00        21\n",
       "12.00        8\n",
       "7.00         6\n",
       "26.00        1\n",
       "16.00        1\n",
       "Name: Cylinders, dtype: int64"
      ]
     },
     "execution_count": 364,
     "metadata": {},
     "output_type": "execute_result"
    }
   ],
   "source": [
    "df['Cylinders'] = df['Cylinders'].apply(lambda t: int(re.findall(r'\\d+', str(t))[0]) if pd.notnull(t) else t)\n",
    "df['Cylinders'].value_counts()"
   ]
  },
  {
   "cell_type": "code",
   "execution_count": null,
   "metadata": {},
   "outputs": [],
   "source": []
  },
  {
   "cell_type": "code",
   "execution_count": 365,
   "metadata": {},
   "outputs": [
    {
     "data": {
      "text/plain": [
       "[[0 l/100 km (comb.)]]                                                         330\n",
       "[[0 l/100 km (comb.)], [0 l/100 km (city)], [0 l/100 km (country)]]            306\n",
       "[[3.4 l/100 km (comb.)], [3.7 l/100 km (city)], [3.2 l/100 km (country)]]      170\n",
       "[[4 l/100 km (comb.)]]                                                         149\n",
       "[[3.9 l/100 km (comb.)]]                                                       133\n",
       "                                                                              ... \n",
       "[[5.2 l/100 km (comb.)], [5.6 l/100 km (city)], [5 l/100 km (country)]]          1\n",
       "[[5 l/100 km (comb.)], [4.4 l/100 km (city)], [3.6 l/100 km (country)]]          1\n",
       "[[5.5 l/100 km (comb.)], [4.8 l/100 km (city)], [3.9 l/100 km (country)]]        1\n",
       "[[4.8 l/100 km (comb.)], [5.5 l/100 km (city)], [4.3 l/100 km (country)]]        1\n",
       "[[10.4 l/100 km (comb.)], [15.3 l/100 km (city)], [7.6 l/100 km (country)]]      1\n",
       "Name: Fuel consumption, Length: 3452, dtype: int64"
      ]
     },
     "execution_count": 365,
     "metadata": {},
     "output_type": "execute_result"
    }
   ],
   "source": [
    "df['Fuel consumption'].value_counts()"
   ]
  },
  {
   "cell_type": "code",
   "execution_count": 366,
   "metadata": {},
   "outputs": [
    {
     "data": {
      "text/plain": [
       "5.00     831\n",
       "4.90     811\n",
       "4.50     690\n",
       "5.10     647\n",
       "0.00     645\n",
       "        ... \n",
       "16.00      1\n",
       "57.00      1\n",
       "61.00      1\n",
       "14.50      1\n",
       "44.00      1\n",
       "Name: Fuel consumption, Length: 160, dtype: int64"
      ]
     },
     "execution_count": 366,
     "metadata": {},
     "output_type": "execute_result"
    }
   ],
   "source": [
    "df['Fuel consumption'] = df['Fuel consumption'].astype('str')\n",
    "df['Fuel consumption'] = df['Fuel consumption'].str.extract('(\\d+.\\d+|\\d+).+com', expand=True).astype(float)\n",
    "df['Fuel consumption'].value_counts()"
   ]
  },
  {
   "cell_type": "code",
   "execution_count": null,
   "metadata": {},
   "outputs": [],
   "source": []
  },
  {
   "cell_type": "code",
   "execution_count": 368,
   "metadata": {},
   "outputs": [
    {
     "data": {
      "text/plain": [
       "[Air conditioning, Automatic climate control, Electrical side mirrors, Multi-function steering wheel, Power windows]                                                                                                                                          244\n",
       "[Air conditioning, Automatic climate control, Cruise control]                                                                                                                                                                                                 171\n",
       "[Air conditioning, Automatic climate control, Cruise control, Electrical side mirrors, Multi-function steering wheel, Power windows]                                                                                                                          168\n",
       "[Air conditioning]                                                                                                                                                                                                                                            157\n",
       "[Power windows]                                                                                                                                                                                                                                               150\n",
       "                                                                                                                                                                                                                                                             ... \n",
       "[Air conditioning, Automatic climate control, Multi-function steering wheel, Parking assist system sensors front, Parking assist system sensors rear, Split rear seats]                                                                                         1\n",
       "[Air conditioning, Electrical side mirrors, Leather steering wheel, Power windows, Seat heating, Tinted windows, Wind deflector]                                                                                                                                1\n",
       "[Air conditioning, Electrical side mirrors, Hill Holder, Power windows, Tinted windows]                                                                                                                                                                         1\n",
       "[Air conditioning, Automatic climate control, Electrical side mirrors, Leather steering wheel, Light sensor, Multi-function steering wheel, Parking assist system camera, Power windows, Rain sensor, Split rear seats, Start-stop system, Tinted windows]      1\n",
       "[Air conditioning, Armrest, Cruise control, Electrical side mirrors, Leather steering wheel, Lumbar support, Multi-function steering wheel, Navigation system, Power windows, Seat heating, Tinted windows]                                                     1\n",
       "Name: Comfort&Convenience, Length: 14438, dtype: int64"
      ]
     },
     "execution_count": 368,
     "metadata": {},
     "output_type": "execute_result"
    }
   ],
   "source": [
    "#???\n",
    "df['Comfort&Convenience'].value_counts()"
   ]
  },
  {
   "cell_type": "code",
   "execution_count": null,
   "metadata": {},
   "outputs": [],
   "source": []
  },
  {
   "cell_type": "code",
   "execution_count": 195,
   "metadata": {},
   "outputs": [
    {
     "data": {
      "text/plain": [
       "[Bluetooth, USB]                                                                                                                                                             753\n",
       "[Bluetooth]                                                                                                                                                                  665\n",
       "[On-board computer]                                                                                                                                                          662\n",
       "[CD player, On-board computer, Radio]                                                                                                                                        644\n",
       "[Radio]                                                                                                                                                                      425\n",
       "                                                                                                                                                                            ... \n",
       "[Android Auto, Apple CarPlay, Bluetooth, Digital cockpit, Digital radio, Induction charging for smartphones, On-board computer, Radio, Sound system, WLAN / WiFi hotspot]      1\n",
       "[Bluetooth, CD player, Digital cockpit, Digital radio, Hands-free equipment, Integrated music streaming, On-board computer, Sound system, USB, WLAN / WiFi hotspot]            1\n",
       "[Digital cockpit, Digital radio, On-board computer, Radio]                                                                                                                     1\n",
       "[Android Auto, Apple CarPlay, Digital radio, On-board computer, Radio, Sound system, USB, WLAN / WiFi hotspot]                                                                 1\n",
       "[Hands-free equipment, Integrated music streaming, On-board computer, Radio, USB]                                                                                              1\n",
       "Name: Entertainment&Media, Length: 1944, dtype: int64"
      ]
     },
     "execution_count": 195,
     "metadata": {},
     "output_type": "execute_result"
    }
   ],
   "source": [
    "#???\n",
    "df['Entertainment&Media'].value_counts()"
   ]
  },
  {
   "cell_type": "code",
   "execution_count": null,
   "metadata": {},
   "outputs": [],
   "source": []
  },
  {
   "cell_type": "code",
   "execution_count": 196,
   "metadata": {},
   "outputs": [
    {
     "data": {
      "text/plain": [
       "[Isofix]                                                                                                                                                                                                                                                                                                                                                                                                                                                                                                                       380\n",
       "[ABS, Central door lock, Driver-side airbag, Electronic stability control, Immobilizer, Isofix, Passenger-side airbag, Power steering, Side airbag]                                                                                                                                                                                                                                                                                                                                                                            328\n",
       "[ABS, Central door lock, Driver-side airbag, Immobilizer, Isofix, Passenger-side airbag, Power steering, Side airbag, Traction control]                                                                                                                                                                                                                                                                                                                                                                                        125\n",
       "[ABS, Central door lock, Driver-side airbag, Electronic stability control, Fog lights, Isofix, Power steering, Side airbag]                                                                                                                                                                                                                                                                                                                                                                                                    121\n",
       "[ABS, Fog lights, Side airbag]                                                                                                                                                                                                                                                                                                                                                                                                                                                                                                 100\n",
       "                                                                                                                                                                                                                                                                                                                                                                                                                                                                                                                              ... \n",
       "[Daytime running lights, Emergency brake assistant, Fog lights, Isofix, LED Daytime Running Lights, Lane departure warning system, Power steering, Tire pressure monitoring system]                                                                                                                                                                                                                                                                                                                                              1\n",
       "[ABS, Adaptive Cruise Control, Central door lock, Daytime running lights, Driver drowsiness detection, Driver-side airbag, Electronic stability control, Emergency brake assistant, Emergency system, Fog lights, Full-LED headlights, Glare-free high beam headlights, Immobilizer, Isofix, LED Headlights, Lane departure warning system, Passenger-side airbag, Power steering, Side airbag, Tire pressure monitoring system, Traction control]                                                                               1\n",
       "[ABS, Driver-side airbag, Electronic stability control, Emergency brake assistant, Immobilizer, LED Daytime Running Lights, Passenger-side airbag, Side airbag, Tire pressure monitoring system, Traction control]                                                                                                                                                                                                                                                                                                               1\n",
       "[ABS, Blind spot monitor, Central door lock, Daytime running lights, Distance warning system, Driver drowsiness detection, Driver-side airbag, Electronic stability control, Emergency system, Fog lights, Full-LED headlights, Head airbag, High beam assist, Immobilizer, Isofix, LED Daytime Running Lights, LED Headlights, Lane departure warning system, Passenger-side airbag, Power steering, Side airbag, Speed limit control system, Tire pressure monitoring system, Traction control, Traffic sign recognition]      1\n",
       "[ABS, Alarm system, Central door lock, Central door lock with remote control, Driver-side airbag, Electronic stability control, Fog lights, Head airbag, Immobilizer, Power steering, Side airbag, Traction control]                                                                                                                                                                                                                                                                                                             1\n",
       "Name: Safety&Security, Length: 12549, dtype: int64"
      ]
     },
     "execution_count": 196,
     "metadata": {},
     "output_type": "execute_result"
    }
   ],
   "source": [
    "#???\n",
    "df['Safety&Security'].value_counts()"
   ]
  },
  {
   "cell_type": "code",
   "execution_count": null,
   "metadata": {},
   "outputs": [],
   "source": []
  },
  {
   "cell_type": "code",
   "execution_count": 202,
   "metadata": {},
   "outputs": [
    {
     "data": {
      "text/plain": [
       "[Alloy wheels]                                                                                                                                                                        3408\n",
       "[Alloy wheels, Roof rack]                                                                                                                                                              380\n",
       "[Alloy wheels, Sport seats]                                                                                                                                                            372\n",
       "[Alloy wheels, Touch screen]                                                                                                                                                           231\n",
       "[Alloy wheels, Catalytic Converter, Touch screen]                                                                                                                                      178\n",
       "                                                                                                                                                                                      ... \n",
       "[Alloy wheels (18\"), Automatically dimming interior mirror, Catalytic Converter, E10-enabled, Headlight washer system, Sport package, Sport seats, Sport suspension, Summer tyres]       1\n",
       "[Alloy wheels (18\"), Spoiler, Summer tyres, Trailer hitch]                                                                                                                               1\n",
       "[All season tyres, Alloy wheels, Automatically dimming interior mirror, Catalytic Converter, Headlight washer system, Ski bag, Sport seats, Trailer hitch, Winter tyres]                 1\n",
       "[Alloy wheels, Automatically dimming interior mirror, Headlight washer system, Sport package, Sport seats, Summer tyres]                                                                 1\n",
       "[Alloy wheels, Automatically dimming interior mirror, Ski bag, Trailer hitch]                                                                                                            1\n",
       "Name: Extras, Length: 9360, dtype: int64"
      ]
     },
     "execution_count": 202,
     "metadata": {},
     "output_type": "execute_result"
    }
   ],
   "source": [
    "#???\n",
    "df['Extras'].value_counts()"
   ]
  },
  {
   "cell_type": "code",
   "execution_count": null,
   "metadata": {},
   "outputs": [],
   "source": []
  },
  {
   "cell_type": "code",
   "execution_count": 369,
   "metadata": {},
   "outputs": [
    {
     "data": {
      "text/plain": [
       "[\\n1,395 kg\\n]    233\n",
       "[\\n1,055 kg\\n]    224\n",
       "[\\n1,423 kg\\n]    216\n",
       "[\\n1,165 kg\\n]    200\n",
       "[\\n1,320 kg\\n]    192\n",
       "                 ... \n",
       "[\\n2,655 kg\\n]      1\n",
       "[\\n1,058 kg\\n]      1\n",
       "[\\n2,091 kg\\n]      1\n",
       "[\\n2,497 kg\\n]      1\n",
       "[\\n1,391 kg\\n]      1\n",
       "Name: Empty weight, Length: 1218, dtype: int64"
      ]
     },
     "execution_count": 369,
     "metadata": {},
     "output_type": "execute_result"
    }
   ],
   "source": [
    "df['Empty weight'].value_counts()"
   ]
  },
  {
   "cell_type": "code",
   "execution_count": 370,
   "metadata": {},
   "outputs": [
    {
     "data": {
      "text/plain": [
       "1395.00    233\n",
       "1055.00    224\n",
       "1423.00    216\n",
       "1165.00    200\n",
       "1320.00    192\n",
       "          ... \n",
       "2655.00      1\n",
       "1058.00      1\n",
       "2091.00      1\n",
       "2497.00      1\n",
       "1391.00      1\n",
       "Name: Empty weight, Length: 1218, dtype: int64"
      ]
     },
     "execution_count": 370,
     "metadata": {},
     "output_type": "execute_result"
    }
   ],
   "source": [
    "df['Empty weight']=df['Empty weight'].apply(lambda t: t[0].replace(',','') if pd.notnull(t) else t)\n",
    "df['Empty weight'] = df['Empty weight'].apply(lambda t: int(re.findall(r'\\d+', str(t))[0]) if pd.notnull(t) else t)\n",
    "df['Empty weight'].value_counts()"
   ]
  },
  {
   "cell_type": "code",
   "execution_count": null,
   "metadata": {},
   "outputs": [],
   "source": []
  },
  {
   "cell_type": "code",
   "execution_count": 371,
   "metadata": {},
   "outputs": [
    {
     "data": {
      "text/plain": [
       "percentage_null   71.62\n",
       "Name: Model code, dtype: float64"
      ]
     },
     "execution_count": 371,
     "metadata": {},
     "output_type": "execute_result"
    }
   ],
   "source": [
    "# The 'Model code' column can be dropped later, because 71.62% of the values is null.\n",
    "percentage_null.loc['Model code']"
   ]
  },
  {
   "cell_type": "code",
   "execution_count": null,
   "metadata": {},
   "outputs": [],
   "source": []
  },
  {
   "cell_type": "code",
   "execution_count": null,
   "metadata": {},
   "outputs": [],
   "source": [
    "#???\n",
    "df['General inspection'].value_counts()"
   ]
  },
  {
   "cell_type": "code",
   "execution_count": null,
   "metadata": {},
   "outputs": [],
   "source": []
  },
  {
   "cell_type": "code",
   "execution_count": 193,
   "metadata": {},
   "outputs": [
    {
     "data": {
      "text/plain": [
       "percentage_null   93.21\n",
       "Name: Last service, dtype: float64"
      ]
     },
     "execution_count": 193,
     "metadata": {},
     "output_type": "execute_result"
    }
   ],
   "source": [
    "# The 'Last service' column can be dropped later, because 93.21% of the values is null.\n",
    "percentage_null.loc['Last service']"
   ]
  },
  {
   "cell_type": "code",
   "execution_count": null,
   "metadata": {},
   "outputs": [],
   "source": []
  },
  {
   "cell_type": "code",
   "execution_count": 214,
   "metadata": {},
   "outputs": [
    {
     "data": {
      "text/plain": [
       "Yes    12565\n",
       "Name: Full service history, dtype: int64"
      ]
     },
     "execution_count": 214,
     "metadata": {},
     "output_type": "execute_result"
    }
   ],
   "source": [
    "df['Full service history'].value_counts()"
   ]
  },
  {
   "cell_type": "code",
   "execution_count": null,
   "metadata": {},
   "outputs": [],
   "source": []
  },
  {
   "cell_type": "code",
   "execution_count": 373,
   "metadata": {},
   "outputs": [
    {
     "data": {
      "text/plain": [
       "Yes    11594\n",
       "Name: Non-smoker vehicle, dtype: int64"
      ]
     },
     "execution_count": 373,
     "metadata": {},
     "output_type": "execute_result"
    }
   ],
   "source": [
    "df['Non-smoker vehicle'].value_counts()"
   ]
  },
  {
   "cell_type": "code",
   "execution_count": null,
   "metadata": {},
   "outputs": [],
   "source": []
  },
  {
   "cell_type": "code",
   "execution_count": 374,
   "metadata": {},
   "outputs": [
    {
     "data": {
      "text/plain": [
       "Euro 6          6418\n",
       "Euro 6d-TEMP    3399\n",
       "Euro 6d         2858\n",
       "Euro 5          2389\n",
       "Euro 4          1743\n",
       "Euro 3           523\n",
       "Euro 2           217\n",
       "Euro 1           172\n",
       "Euro 6c          140\n",
       "Name: Emission class, dtype: int64"
      ]
     },
     "execution_count": 374,
     "metadata": {},
     "output_type": "execute_result"
    }
   ],
   "source": [
    "df['Emission class'].value_counts()"
   ]
  },
  {
   "cell_type": "code",
   "execution_count": 375,
   "metadata": {},
   "outputs": [
    {
     "data": {
      "text/html": [
       "<div>\n",
       "<style scoped>\n",
       "    .dataframe tbody tr th:only-of-type {\n",
       "        vertical-align: middle;\n",
       "    }\n",
       "\n",
       "    .dataframe tbody tr th {\n",
       "        vertical-align: top;\n",
       "    }\n",
       "\n",
       "    .dataframe thead th {\n",
       "        text-align: right;\n",
       "    }\n",
       "</style>\n",
       "<table border=\"1\" class=\"dataframe\">\n",
       "  <thead>\n",
       "    <tr style=\"text-align: right;\">\n",
       "      <th></th>\n",
       "      <th>0</th>\n",
       "      <th>1</th>\n",
       "      <th>2</th>\n",
       "    </tr>\n",
       "  </thead>\n",
       "  <tbody>\n",
       "    <tr>\n",
       "      <th>make_model</th>\n",
       "      <td>Mercedes-Benz A 160</td>\n",
       "      <td>Mercedes-Benz EQE 350</td>\n",
       "      <td>Mercedes-Benz A 45 AMG</td>\n",
       "    </tr>\n",
       "    <tr>\n",
       "      <th>short_description</th>\n",
       "      <td>CDi</td>\n",
       "      <td>350+</td>\n",
       "      <td>S 4Matic+ 8G-DCT</td>\n",
       "    </tr>\n",
       "    <tr>\n",
       "      <th>make</th>\n",
       "      <td>\\nMercedes-Benz\\n</td>\n",
       "      <td>\\nMercedes-Benz\\n</td>\n",
       "      <td>\\nMercedes-Benz\\n</td>\n",
       "    </tr>\n",
       "    <tr>\n",
       "      <th>model</th>\n",
       "      <td>[\\n, A 160 ,\\n]</td>\n",
       "      <td>[\\n, EQE 350 ,\\n]</td>\n",
       "      <td>[\\n, A 45 AMG ,\\n]</td>\n",
       "    </tr>\n",
       "    <tr>\n",
       "      <th>location</th>\n",
       "      <td>P.I. EL PALMAR C/FORJA 6,  11500 PUERTO DE SAN...</td>\n",
       "      <td>APARTADO DE CORREOS 1032,  26140 LOGROÑO, ES</td>\n",
       "      <td>PORT. TARRACO, MOLL DE LLEVANT, Nº 5, LOC. 6-8...</td>\n",
       "    </tr>\n",
       "    <tr>\n",
       "      <th>price</th>\n",
       "      <td>€ 16,950.-</td>\n",
       "      <td>€ 80,900.-</td>\n",
       "      <td>€ 69,900.-</td>\n",
       "    </tr>\n",
       "    <tr>\n",
       "      <th>Body type</th>\n",
       "      <td>[\\n, Compact, \\n]</td>\n",
       "      <td>[\\n, Compact, \\n]</td>\n",
       "      <td>[\\n, Compact, \\n]</td>\n",
       "    </tr>\n",
       "    <tr>\n",
       "      <th>Type</th>\n",
       "      <td>[\\n, Used, \\n]</td>\n",
       "      <td>[\\n, Pre-registered, \\n]</td>\n",
       "      <td>[\\n, Used, \\n]</td>\n",
       "    </tr>\n",
       "    <tr>\n",
       "      <th>Doors</th>\n",
       "      <td>[\\n, 5, \\n]</td>\n",
       "      <td>[\\n, 4, \\n]</td>\n",
       "      <td>[\\n, 5, \\n]</td>\n",
       "    </tr>\n",
       "    <tr>\n",
       "      <th>Country version</th>\n",
       "      <td>[\\n, Spain, \\n]</td>\n",
       "      <td>[\\n, Spain, \\n]</td>\n",
       "      <td>[\\n, Spain, \\n]</td>\n",
       "    </tr>\n",
       "    <tr>\n",
       "      <th>Offer number</th>\n",
       "      <td>[\\n, 7468157, \\n]</td>\n",
       "      <td>[\\n, 7054863, \\n]</td>\n",
       "      <td>[\\n, 7410454, \\n]</td>\n",
       "    </tr>\n",
       "    <tr>\n",
       "      <th>Warranty</th>\n",
       "      <td>[\\n, 24 months, \\n]</td>\n",
       "      <td>[\\n, 24 months, \\n]</td>\n",
       "      <td>[\\n, 12 months, \\n]</td>\n",
       "    </tr>\n",
       "    <tr>\n",
       "      <th>Mileage</th>\n",
       "      <td>120,200 km</td>\n",
       "      <td>5,000 km</td>\n",
       "      <td>18,900 km</td>\n",
       "    </tr>\n",
       "    <tr>\n",
       "      <th>First registration</th>\n",
       "      <td>06/2016</td>\n",
       "      <td>06/2022</td>\n",
       "      <td>07/2020</td>\n",
       "    </tr>\n",
       "    <tr>\n",
       "      <th>Gearbox</th>\n",
       "      <td>[\\nManual\\n]</td>\n",
       "      <td>[\\nAutomatic\\n]</td>\n",
       "      <td>[\\nAutomatic\\n]</td>\n",
       "    </tr>\n",
       "    <tr>\n",
       "      <th>Fuel type</th>\n",
       "      <td>Diesel</td>\n",
       "      <td>Electric</td>\n",
       "      <td>Gasoline</td>\n",
       "    </tr>\n",
       "    <tr>\n",
       "      <th>Colour</th>\n",
       "      <td>Black</td>\n",
       "      <td>NaN</td>\n",
       "      <td>Grey</td>\n",
       "    </tr>\n",
       "    <tr>\n",
       "      <th>Paint</th>\n",
       "      <td>Metallic</td>\n",
       "      <td>NaN</td>\n",
       "      <td>NaN</td>\n",
       "    </tr>\n",
       "    <tr>\n",
       "      <th>desc</th>\n",
       "      <td>[ , Precio al contado: 16950 euros,  ,  , Vehí...</td>\n",
       "      <td>[ , Precio al contado: 88900 euros,  , AUTO OJ...</td>\n",
       "      <td>[Gris MANUFAKTUR mountaingrau magno,  , Linea/...</td>\n",
       "    </tr>\n",
       "    <tr>\n",
       "      <th>seller</th>\n",
       "      <td>Dealer</td>\n",
       "      <td>Dealer</td>\n",
       "      <td>Dealer</td>\n",
       "    </tr>\n",
       "    <tr>\n",
       "      <th>Seats</th>\n",
       "      <td>NaN</td>\n",
       "      <td>5.00</td>\n",
       "      <td>5.00</td>\n",
       "    </tr>\n",
       "    <tr>\n",
       "      <th>Power</th>\n",
       "      <td>NaN</td>\n",
       "      <td>215.00</td>\n",
       "      <td>310.00</td>\n",
       "    </tr>\n",
       "    <tr>\n",
       "      <th>Engine size</th>\n",
       "      <td>NaN</td>\n",
       "      <td>1.00</td>\n",
       "      <td>1991.00</td>\n",
       "    </tr>\n",
       "    <tr>\n",
       "      <th>Gears</th>\n",
       "      <td>NaN</td>\n",
       "      <td>9.00</td>\n",
       "      <td>8.00</td>\n",
       "    </tr>\n",
       "    <tr>\n",
       "      <th>CO₂-emissions</th>\n",
       "      <td>NaN</td>\n",
       "      <td>0.00</td>\n",
       "      <td>NaN</td>\n",
       "    </tr>\n",
       "    <tr>\n",
       "      <th>Manufacturer colour</th>\n",
       "      <td>NaN</td>\n",
       "      <td>Negro Obsidiana</td>\n",
       "      <td>Mountaingrau magno</td>\n",
       "    </tr>\n",
       "    <tr>\n",
       "      <th>Drivetrain</th>\n",
       "      <td>NaN</td>\n",
       "      <td>NaN</td>\n",
       "      <td>4WD</td>\n",
       "    </tr>\n",
       "    <tr>\n",
       "      <th>Cylinders</th>\n",
       "      <td>NaN</td>\n",
       "      <td>NaN</td>\n",
       "      <td>4.00</td>\n",
       "    </tr>\n",
       "    <tr>\n",
       "      <th>Fuel consumption</th>\n",
       "      <td>NaN</td>\n",
       "      <td>NaN</td>\n",
       "      <td>8.40</td>\n",
       "    </tr>\n",
       "    <tr>\n",
       "      <th>Comfort&amp;Convenience</th>\n",
       "      <td>NaN</td>\n",
       "      <td>NaN</td>\n",
       "      <td>NaN</td>\n",
       "    </tr>\n",
       "    <tr>\n",
       "      <th>Entertainment&amp;Media</th>\n",
       "      <td>NaN</td>\n",
       "      <td>NaN</td>\n",
       "      <td>NaN</td>\n",
       "    </tr>\n",
       "    <tr>\n",
       "      <th>Safety&amp;Security</th>\n",
       "      <td>NaN</td>\n",
       "      <td>NaN</td>\n",
       "      <td>NaN</td>\n",
       "    </tr>\n",
       "    <tr>\n",
       "      <th>Extras</th>\n",
       "      <td>NaN</td>\n",
       "      <td>NaN</td>\n",
       "      <td>NaN</td>\n",
       "    </tr>\n",
       "    <tr>\n",
       "      <th>Empty weight</th>\n",
       "      <td>NaN</td>\n",
       "      <td>NaN</td>\n",
       "      <td>NaN</td>\n",
       "    </tr>\n",
       "    <tr>\n",
       "      <th>Model code</th>\n",
       "      <td>NaN</td>\n",
       "      <td>NaN</td>\n",
       "      <td>NaN</td>\n",
       "    </tr>\n",
       "    <tr>\n",
       "      <th>General inspection</th>\n",
       "      <td>NaN</td>\n",
       "      <td>NaN</td>\n",
       "      <td>NaN</td>\n",
       "    </tr>\n",
       "    <tr>\n",
       "      <th>Last service</th>\n",
       "      <td>NaN</td>\n",
       "      <td>NaN</td>\n",
       "      <td>NaN</td>\n",
       "    </tr>\n",
       "    <tr>\n",
       "      <th>Full service history</th>\n",
       "      <td>NaN</td>\n",
       "      <td>NaN</td>\n",
       "      <td>NaN</td>\n",
       "    </tr>\n",
       "    <tr>\n",
       "      <th>Non-smoker vehicle</th>\n",
       "      <td>NaN</td>\n",
       "      <td>NaN</td>\n",
       "      <td>NaN</td>\n",
       "    </tr>\n",
       "    <tr>\n",
       "      <th>Emission class</th>\n",
       "      <td>NaN</td>\n",
       "      <td>NaN</td>\n",
       "      <td>NaN</td>\n",
       "    </tr>\n",
       "    <tr>\n",
       "      <th>Emissions sticker</th>\n",
       "      <td>NaN</td>\n",
       "      <td>NaN</td>\n",
       "      <td>NaN</td>\n",
       "    </tr>\n",
       "    <tr>\n",
       "      <th>Upholstery colour</th>\n",
       "      <td>NaN</td>\n",
       "      <td>NaN</td>\n",
       "      <td>NaN</td>\n",
       "    </tr>\n",
       "    <tr>\n",
       "      <th>Upholstery</th>\n",
       "      <td>NaN</td>\n",
       "      <td>NaN</td>\n",
       "      <td>NaN</td>\n",
       "    </tr>\n",
       "    <tr>\n",
       "      <th>Production date</th>\n",
       "      <td>NaN</td>\n",
       "      <td>NaN</td>\n",
       "      <td>NaN</td>\n",
       "    </tr>\n",
       "    <tr>\n",
       "      <th>Previous owner</th>\n",
       "      <td>NaN</td>\n",
       "      <td>NaN</td>\n",
       "      <td>NaN</td>\n",
       "    </tr>\n",
       "    <tr>\n",
       "      <th>Other fuel types</th>\n",
       "      <td>NaN</td>\n",
       "      <td>NaN</td>\n",
       "      <td>NaN</td>\n",
       "    </tr>\n",
       "    <tr>\n",
       "      <th>Power consumption</th>\n",
       "      <td>NaN</td>\n",
       "      <td>NaN</td>\n",
       "      <td>NaN</td>\n",
       "    </tr>\n",
       "    <tr>\n",
       "      <th>Energy efficiency class</th>\n",
       "      <td>NaN</td>\n",
       "      <td>NaN</td>\n",
       "      <td>NaN</td>\n",
       "    </tr>\n",
       "    <tr>\n",
       "      <th>CO₂-efficiency</th>\n",
       "      <td>NaN</td>\n",
       "      <td>NaN</td>\n",
       "      <td>NaN</td>\n",
       "    </tr>\n",
       "    <tr>\n",
       "      <th>Fuel consumption (WLTP)</th>\n",
       "      <td>NaN</td>\n",
       "      <td>NaN</td>\n",
       "      <td>NaN</td>\n",
       "    </tr>\n",
       "    <tr>\n",
       "      <th>CO₂-emissions (WLTP)</th>\n",
       "      <td>NaN</td>\n",
       "      <td>NaN</td>\n",
       "      <td>NaN</td>\n",
       "    </tr>\n",
       "    <tr>\n",
       "      <th>Available from</th>\n",
       "      <td>NaN</td>\n",
       "      <td>NaN</td>\n",
       "      <td>NaN</td>\n",
       "    </tr>\n",
       "    <tr>\n",
       "      <th>Taxi or rental car</th>\n",
       "      <td>NaN</td>\n",
       "      <td>NaN</td>\n",
       "      <td>NaN</td>\n",
       "    </tr>\n",
       "    <tr>\n",
       "      <th>Availability</th>\n",
       "      <td>NaN</td>\n",
       "      <td>NaN</td>\n",
       "      <td>NaN</td>\n",
       "    </tr>\n",
       "    <tr>\n",
       "      <th>Last timing belt change</th>\n",
       "      <td>NaN</td>\n",
       "      <td>NaN</td>\n",
       "      <td>NaN</td>\n",
       "    </tr>\n",
       "    <tr>\n",
       "      <th>Electric Range (WLTP)</th>\n",
       "      <td>NaN</td>\n",
       "      <td>NaN</td>\n",
       "      <td>NaN</td>\n",
       "    </tr>\n",
       "    <tr>\n",
       "      <th>Power consumption (WLTP)</th>\n",
       "      <td>NaN</td>\n",
       "      <td>NaN</td>\n",
       "      <td>NaN</td>\n",
       "    </tr>\n",
       "    <tr>\n",
       "      <th>Battery Ownership</th>\n",
       "      <td>NaN</td>\n",
       "      <td>NaN</td>\n",
       "      <td>NaN</td>\n",
       "    </tr>\n",
       "  </tbody>\n",
       "</table>\n",
       "</div>"
      ],
      "text/plain": [
       "                                                                          0  \\\n",
       "make_model                                              Mercedes-Benz A 160   \n",
       "short_description                                                       CDi   \n",
       "make                                                      \\nMercedes-Benz\\n   \n",
       "model                                                       [\\n, A 160 ,\\n]   \n",
       "location                  P.I. EL PALMAR C/FORJA 6,  11500 PUERTO DE SAN...   \n",
       "price                                                            € 16,950.-   \n",
       "Body type                                                 [\\n, Compact, \\n]   \n",
       "Type                                                         [\\n, Used, \\n]   \n",
       "Doors                                                           [\\n, 5, \\n]   \n",
       "Country version                                             [\\n, Spain, \\n]   \n",
       "Offer number                                              [\\n, 7468157, \\n]   \n",
       "Warranty                                                [\\n, 24 months, \\n]   \n",
       "Mileage                                                          120,200 km   \n",
       "First registration                                                  06/2016   \n",
       "Gearbox                                                        [\\nManual\\n]   \n",
       "Fuel type                                                            Diesel   \n",
       "Colour                                                                Black   \n",
       "Paint                                                              Metallic   \n",
       "desc                      [ , Precio al contado: 16950 euros,  ,  , Vehí...   \n",
       "seller                                                               Dealer   \n",
       "Seats                                                                   NaN   \n",
       "Power                                                                   NaN   \n",
       "Engine size                                                             NaN   \n",
       "Gears                                                                   NaN   \n",
       "CO₂-emissions                                                           NaN   \n",
       "Manufacturer colour                                                     NaN   \n",
       "Drivetrain                                                              NaN   \n",
       "Cylinders                                                               NaN   \n",
       "Fuel consumption                                                        NaN   \n",
       "Comfort&Convenience                                                     NaN   \n",
       "Entertainment&Media                                                     NaN   \n",
       "Safety&Security                                                         NaN   \n",
       "Extras                                                                  NaN   \n",
       "Empty weight                                                            NaN   \n",
       "Model code                                                              NaN   \n",
       "General inspection                                                      NaN   \n",
       "Last service                                                            NaN   \n",
       "Full service history                                                    NaN   \n",
       "Non-smoker vehicle                                                      NaN   \n",
       "Emission class                                                          NaN   \n",
       "Emissions sticker                                                       NaN   \n",
       "Upholstery colour                                                       NaN   \n",
       "Upholstery                                                              NaN   \n",
       "Production date                                                         NaN   \n",
       "Previous owner                                                          NaN   \n",
       "Other fuel types                                                        NaN   \n",
       "Power consumption                                                       NaN   \n",
       "Energy efficiency class                                                 NaN   \n",
       "CO₂-efficiency                                                          NaN   \n",
       "Fuel consumption (WLTP)                                                 NaN   \n",
       "CO₂-emissions (WLTP)                                                    NaN   \n",
       "Available from                                                          NaN   \n",
       "Taxi or rental car                                                      NaN   \n",
       "Availability                                                            NaN   \n",
       "Last timing belt change                                                 NaN   \n",
       "Electric Range (WLTP)                                                   NaN   \n",
       "Power consumption (WLTP)                                                NaN   \n",
       "Battery Ownership                                                       NaN   \n",
       "\n",
       "                                                                          1  \\\n",
       "make_model                                            Mercedes-Benz EQE 350   \n",
       "short_description                                                      350+   \n",
       "make                                                      \\nMercedes-Benz\\n   \n",
       "model                                                     [\\n, EQE 350 ,\\n]   \n",
       "location                       APARTADO DE CORREOS 1032,  26140 LOGROÑO, ES   \n",
       "price                                                            € 80,900.-   \n",
       "Body type                                                 [\\n, Compact, \\n]   \n",
       "Type                                               [\\n, Pre-registered, \\n]   \n",
       "Doors                                                           [\\n, 4, \\n]   \n",
       "Country version                                             [\\n, Spain, \\n]   \n",
       "Offer number                                              [\\n, 7054863, \\n]   \n",
       "Warranty                                                [\\n, 24 months, \\n]   \n",
       "Mileage                                                            5,000 km   \n",
       "First registration                                                  06/2022   \n",
       "Gearbox                                                     [\\nAutomatic\\n]   \n",
       "Fuel type                                                          Electric   \n",
       "Colour                                                                  NaN   \n",
       "Paint                                                                   NaN   \n",
       "desc                      [ , Precio al contado: 88900 euros,  , AUTO OJ...   \n",
       "seller                                                               Dealer   \n",
       "Seats                                                                  5.00   \n",
       "Power                                                                215.00   \n",
       "Engine size                                                            1.00   \n",
       "Gears                                                                  9.00   \n",
       "CO₂-emissions                                                          0.00   \n",
       "Manufacturer colour                                         Negro Obsidiana   \n",
       "Drivetrain                                                              NaN   \n",
       "Cylinders                                                               NaN   \n",
       "Fuel consumption                                                        NaN   \n",
       "Comfort&Convenience                                                     NaN   \n",
       "Entertainment&Media                                                     NaN   \n",
       "Safety&Security                                                         NaN   \n",
       "Extras                                                                  NaN   \n",
       "Empty weight                                                            NaN   \n",
       "Model code                                                              NaN   \n",
       "General inspection                                                      NaN   \n",
       "Last service                                                            NaN   \n",
       "Full service history                                                    NaN   \n",
       "Non-smoker vehicle                                                      NaN   \n",
       "Emission class                                                          NaN   \n",
       "Emissions sticker                                                       NaN   \n",
       "Upholstery colour                                                       NaN   \n",
       "Upholstery                                                              NaN   \n",
       "Production date                                                         NaN   \n",
       "Previous owner                                                          NaN   \n",
       "Other fuel types                                                        NaN   \n",
       "Power consumption                                                       NaN   \n",
       "Energy efficiency class                                                 NaN   \n",
       "CO₂-efficiency                                                          NaN   \n",
       "Fuel consumption (WLTP)                                                 NaN   \n",
       "CO₂-emissions (WLTP)                                                    NaN   \n",
       "Available from                                                          NaN   \n",
       "Taxi or rental car                                                      NaN   \n",
       "Availability                                                            NaN   \n",
       "Last timing belt change                                                 NaN   \n",
       "Electric Range (WLTP)                                                   NaN   \n",
       "Power consumption (WLTP)                                                NaN   \n",
       "Battery Ownership                                                       NaN   \n",
       "\n",
       "                                                                          2  \n",
       "make_model                                           Mercedes-Benz A 45 AMG  \n",
       "short_description                                          S 4Matic+ 8G-DCT  \n",
       "make                                                      \\nMercedes-Benz\\n  \n",
       "model                                                    [\\n, A 45 AMG ,\\n]  \n",
       "location                  PORT. TARRACO, MOLL DE LLEVANT, Nº 5, LOC. 6-8...  \n",
       "price                                                            € 69,900.-  \n",
       "Body type                                                 [\\n, Compact, \\n]  \n",
       "Type                                                         [\\n, Used, \\n]  \n",
       "Doors                                                           [\\n, 5, \\n]  \n",
       "Country version                                             [\\n, Spain, \\n]  \n",
       "Offer number                                              [\\n, 7410454, \\n]  \n",
       "Warranty                                                [\\n, 12 months, \\n]  \n",
       "Mileage                                                           18,900 km  \n",
       "First registration                                                  07/2020  \n",
       "Gearbox                                                     [\\nAutomatic\\n]  \n",
       "Fuel type                                                          Gasoline  \n",
       "Colour                                                                 Grey  \n",
       "Paint                                                                   NaN  \n",
       "desc                      [Gris MANUFAKTUR mountaingrau magno,  , Linea/...  \n",
       "seller                                                               Dealer  \n",
       "Seats                                                                  5.00  \n",
       "Power                                                                310.00  \n",
       "Engine size                                                         1991.00  \n",
       "Gears                                                                  8.00  \n",
       "CO₂-emissions                                                           NaN  \n",
       "Manufacturer colour                                      Mountaingrau magno  \n",
       "Drivetrain                                                              4WD  \n",
       "Cylinders                                                              4.00  \n",
       "Fuel consumption                                                       8.40  \n",
       "Comfort&Convenience                                                     NaN  \n",
       "Entertainment&Media                                                     NaN  \n",
       "Safety&Security                                                         NaN  \n",
       "Extras                                                                  NaN  \n",
       "Empty weight                                                            NaN  \n",
       "Model code                                                              NaN  \n",
       "General inspection                                                      NaN  \n",
       "Last service                                                            NaN  \n",
       "Full service history                                                    NaN  \n",
       "Non-smoker vehicle                                                      NaN  \n",
       "Emission class                                                          NaN  \n",
       "Emissions sticker                                                       NaN  \n",
       "Upholstery colour                                                       NaN  \n",
       "Upholstery                                                              NaN  \n",
       "Production date                                                         NaN  \n",
       "Previous owner                                                          NaN  \n",
       "Other fuel types                                                        NaN  \n",
       "Power consumption                                                       NaN  \n",
       "Energy efficiency class                                                 NaN  \n",
       "CO₂-efficiency                                                          NaN  \n",
       "Fuel consumption (WLTP)                                                 NaN  \n",
       "CO₂-emissions (WLTP)                                                    NaN  \n",
       "Available from                                                          NaN  \n",
       "Taxi or rental car                                                      NaN  \n",
       "Availability                                                            NaN  \n",
       "Last timing belt change                                                 NaN  \n",
       "Electric Range (WLTP)                                                   NaN  \n",
       "Power consumption (WLTP)                                                NaN  \n",
       "Battery Ownership                                                       NaN  "
      ]
     },
     "execution_count": 375,
     "metadata": {},
     "output_type": "execute_result"
    }
   ],
   "source": [
    "df.head(3).T"
   ]
  },
  {
   "cell_type": "code",
   "execution_count": null,
   "metadata": {},
   "outputs": [],
   "source": []
  },
  {
   "cell_type": "markdown",
   "metadata": {
    "id": "uGeKSdYds1MD"
   },
   "source": [
    "# PART- 2 `( Handling With Missing Values )`"
   ]
  },
  {
   "cell_type": "code",
   "execution_count": null,
   "metadata": {
    "id": "WDZnqBhbs1ME"
   },
   "outputs": [],
   "source": []
  },
  {
   "cell_type": "markdown",
   "metadata": {
    "id": "gPPdPAu5s1ME"
   },
   "source": [
    "# PART- 3 `( Handling With Outliers )`"
   ]
  },
  {
   "cell_type": "code",
   "execution_count": null,
   "metadata": {
    "id": "Is4HLjHWs1MF"
   },
   "outputs": [],
   "source": []
  },
  {
   "cell_type": "markdown",
   "metadata": {
    "id": "EKxmsgfts1MG"
   },
   "source": [
    "# Final Step (Checking final situation of data via graphs)"
   ]
  },
  {
   "cell_type": "code",
   "execution_count": null,
   "metadata": {
    "id": "8mgL_Bd0s1MG"
   },
   "outputs": [],
   "source": []
  },
  {
   "cell_type": "markdown",
   "metadata": {
    "id": "2PgUVPoes1MH"
   },
   "source": [
    "## Export dataframe to csv file (without dummy)"
   ]
  },
  {
   "cell_type": "code",
   "execution_count": null,
   "metadata": {
    "id": "Byg_o2ZMs1MI"
   },
   "outputs": [],
   "source": [
    "df.to_csv(\"final_scout_not_dummy.csv\", index=False)"
   ]
  },
  {
   "cell_type": "markdown",
   "metadata": {
    "id": "hrw9hr-3s1MJ"
   },
   "source": [
    "# Dummy Operation"
   ]
  },
  {
   "cell_type": "code",
   "execution_count": null,
   "metadata": {
    "id": "faDyWTC9s1MJ"
   },
   "outputs": [],
   "source": []
  },
  {
   "cell_type": "markdown",
   "metadata": {
    "id": "DUOdihlqs1MJ"
   },
   "source": [
    "## Export dataframe to csv file (dummy)"
   ]
  },
  {
   "cell_type": "code",
   "execution_count": null,
   "metadata": {
    "id": "IJT7Yl1Us1MK"
   },
   "outputs": [],
   "source": [
    "df_dummied.to_csv(\"final_scout_dummy.csv\", index=False)"
   ]
  }
 ],
 "metadata": {
  "colab": {
   "name": "DAwPy-Capstone_Project_(AutoScout)_Student.ipynb",
   "provenance": []
  },
  "kernelspec": {
   "display_name": "Python 3 (ipykernel)",
   "language": "python",
   "name": "python3"
  },
  "language_info": {
   "codemirror_mode": {
    "name": "ipython",
    "version": 3
   },
   "file_extension": ".py",
   "mimetype": "text/x-python",
   "name": "python",
   "nbconvert_exporter": "python",
   "pygments_lexer": "ipython3",
   "version": "3.9.13"
  },
  "toc": {
   "base_numbering": 1,
   "nav_menu": {},
   "number_sections": false,
   "sideBar": true,
   "skip_h1_title": false,
   "title_cell": "Table of Contents",
   "title_sidebar": "Contents",
   "toc_cell": false,
   "toc_position": {},
   "toc_section_display": true,
   "toc_window_display": false
  }
 },
 "nbformat": 4,
 "nbformat_minor": 1
}
